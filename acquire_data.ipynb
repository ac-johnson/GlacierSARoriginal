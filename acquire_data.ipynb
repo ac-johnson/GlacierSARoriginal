{
 "cells": [
  {
   "cell_type": "markdown",
   "id": "f629ba05-7fa9-449b-887c-eaa4f83b33c7",
   "metadata": {},
   "source": [
    "## Acquire images\n",
    "\n",
    "This notebook will:\n",
    "\n",
    "* Section 1: For a given bounding box and year, find all SAR images in that region. Get some stats on them\n",
    "* Section 2: Filter out images from scenes that don't have sufficient preceding winter imagery for melt detection\n",
    "* Section 3: Run ASF Hyp3 RTC processing\n",
    "* Section 4: Download the data. Reproject it immedately and save only the smaller image. Does that work? I thought I would have to have EPSG vals? This will have to get figured out"
   ]
  },
  {
   "cell_type": "markdown",
   "id": "9a48161b-eb88-4715-a5a0-a549fbc9624d",
   "metadata": {},
   "source": [
    "### Preamble\n",
    "Prepare to do stuff"
   ]
  },
  {
   "cell_type": "code",
   "execution_count": 1,
   "id": "31ab6cac-f1dc-4e1d-8ee3-f35edcd60941",
   "metadata": {},
   "outputs": [
    {
     "data": {
      "application/vnd.jupyter.widget-view+json": {
       "model_id": "d66735dd8bfa4be386204bafe84f7cf1",
       "version_major": 2,
       "version_minor": 0
      },
      "text/plain": [
       "URLWidget()"
      ]
     },
     "metadata": {},
     "output_type": "display_data"
    }
   ],
   "source": [
    "import url_widget as url_w\n",
    "notebookUrl = url_w.URLWidget()\n",
    "display(notebookUrl)\n",
    "\n",
    "notebookUrl = notebookUrl.value\n",
    "user = !echo $JUPYTERHUB_USER\n",
    "env = !echo $CONDA_PREFIX\n",
    "\n",
    "#capture\n",
    "from datetime import datetime\n",
    "import glob\n",
    "import json # for loads\n",
    "import os\n",
    "from pathlib import Path\n",
    "import pytz\n",
    "import re\n",
    "import shutil\n",
    "import asf_search as asf\n",
    "from zipfile import ZipFile\n",
    "import time\n",
    "import fnmatch\n",
    "\n",
    "from matplotlib import pyplot as plt\n",
    "#Writing Support Functions:\n",
    "\n",
    "import numpy as np\n",
    "from osgeo import gdal,osr\n",
    "\n",
    "from IPython.display import HTML, display, clear_output, Markdown\n",
    "    \n",
    "from hyp3_sdk import Batch, HyP3\n",
    "\n",
    "import opensarlab_lib as asfn"
   ]
  },
  {
   "cell_type": "code",
   "execution_count": 13,
   "id": "0df7713c-ce0f-4dbd-a83a-1243c2411ab1",
   "metadata": {
    "tags": []
   },
   "outputs": [
    {
     "name": "stdout",
     "output_type": "stream",
     "text": [
      "analysis_directory: /home/jovyan/GlacierSARdata/Harding/2018\n",
      "/home/jovyan/GlacierSARdata/Harding/2018/rtc_download\n",
      "/home/jovyan/GlacierSARdata/Harding/2018/rtc_products\n",
      "/home/jovyan/GlacierSARdata/Harding/2018/rtc_clipped\n"
     ]
    }
   ],
   "source": [
    "##NAME PROJECT###\n",
    "projdir = Path.home()/\"GlacierSARdata\"\n",
    "projname = 'Harding'\n",
    "year = 2018\n",
    "data_dir=Path(f'{projdir}/{projname}/{str(year)}')\n",
    "pols = ['VV','VH']\n",
    "\n",
    "# Setting Paths\n",
    "analysis_directory = Path.cwd()/data_dir\n",
    "print(f\"analysis_directory: {analysis_directory}\")\n",
    "\n",
    "download_path = analysis_directory/\"rtc_download\"\n",
    "# download_path.mkdir()\n",
    "products_path = analysis_directory/\"rtc_products\"\n",
    "# products_path.mkdir()\n",
    "clipped_path = analysis_directory/\"rtc_clipped\"\n",
    "\n",
    "print(download_path)\n",
    "print(products_path)\n",
    "print(clipped_path)\n",
    "\n",
    "os.makedirs(data_dir,exist_ok=True)\n",
    "os.makedirs(download_path,exist_ok=True)\n",
    "os.makedirs(products_path,exist_ok=True)\n",
    "os.makedirs(analysis_directory/\"figures\",exist_ok=True)\n",
    "os.makedirs(clipped_path,exist_ok=True)\n",
    "for pol in pols:\n",
    "    os.makedirs(clipped_path/pol,exist_ok=True)\n",
    "\n",
    "# print(os.path.exists(data_dir))\n",
    "\n",
    "WTKstr = None\n",
    "if projname==\"Wrangell\": WTKstr='POLYGON((-144.5124 61.8108,-143.2512 61.8108,-143.2512 62.1938,-144.5124 62.1938,-144.5124 61.8108))' #Mt Wrangell\n",
    "if projname==\"Denali_h\": WTKstr='POLYGON((-151.6946 62.7583,-150.1696 62.7583,-150.1696 63.2668,-151.6946 63.2668,-151.6946 62.7583))' #Denali_h (mostly higher elevations)\n",
    "if projname==\"Harding\": WTKstr='POLYGON((-150.6448 59.6467,-149.5491 59.6467,-149.5491 60.2703,-150.6448 60.2703,-150.6448 59.6467))' #Harding\n",
    "if projname==\"Juneau\": WTKstr='POLYGON((-134.7796 58.3698,-133.5 58.3698,-133.5 59.109,-134.7796 59.109,-134.7796 58.3698))' #Juneau"
   ]
  },
  {
   "cell_type": "code",
   "execution_count": 3,
   "id": "247df810-10d2-4d18-b9b4-1ada4ab5c4f0",
   "metadata": {
    "tags": []
   },
   "outputs": [],
   "source": [
    "# def timediff(time1,time2,form='seconds'):\n",
    "#     '''time difference between time2 and time1 expressed as either days or seconds'''\n",
    "#     # dd = 1\n",
    "#     # if time1>time2:\n",
    "#     #     dd=1\n",
    "#     diff = time2-time1\n",
    "#     if form=='seconds':\n",
    "#         diff = diff.seconds+diff.days*86400\n",
    "#     elif form=='days':\n",
    "#         diff = diff.seconds/86400+diff.days\n",
    "#     return diff"
   ]
  },
  {
   "cell_type": "markdown",
   "id": "2088a5e7-6ded-4a0f-bfeb-cd224b77e154",
   "metadata": {
    "tags": []
   },
   "source": [
    "## Find SAR Images\n",
    "\n",
    "Find the SAR images, run some statistics on their frequency, and queue them for Hyp3 processing\n",
    "\n",
    "* stuff\n",
    "* other stuff"
   ]
  },
  {
   "cell_type": "code",
   "execution_count": 17,
   "id": "64303cc7-a5b2-44ac-b9cf-edf089f1b5b8",
   "metadata": {
    "tags": []
   },
   "outputs": [],
   "source": [
    "WTKstr = None\n",
    "#testpolygon = POLYGON((-143.1356 61.7756,-143.3698 61.7793,-143.5279 61.7044,-143.3824 61.6052,-143.0614 61.4737,-142.9854 61.4144,-142.804 61.4292,-142.7358 61.5912,-142.5978 61.6494,-142.6707 61.7523,-142.9699 61.7839,-143.1356 61.7756))\n",
    "# WTKstr='POLYGON((-143.4858 61.4239,-142.5307 61.4239,-142.5307 61.7757,-143.4858 61.7757,-143.4858 61.4239))' #Kennicott\n",
    "if projname==\"Wrangell\": WTKstr='POLYGON((-144.5124 61.8108,-143.2512 61.8108,-143.2512 62.1938,-144.5124 62.1938,-144.5124 61.8108))' #Mt Wrangell\n",
    "if projname==\"Denali_h\": WTKstr='POLYGON((-151.6946 62.7583,-150.1696 62.7583,-150.1696 63.2668,-151.6946 63.2668,-151.6946 62.7583))' #Denali_h (mostly higher elevations)\n",
    "if projname==\"Harding\": WTKstr='POLYGON((-150.6448 59.6467,-149.5491 59.6467,-149.5491 60.2703,-150.6448 60.2703,-150.6448 59.6467))' #Harding\n",
    "if projname==\"Juneau\": WTKstr='POLYGON((-134.7796 58.3698,-133.5 58.3698,-133.5 59.109,-134.7796 59.109,-134.7796 58.3698))' #Juneau\n",
    "# testWTK='POLYGON((-134.5463 58.5889,-133.8663 58.5889,-133.8663 58.7656,-134.5463 58.7656,-134.5463 58.5889))' #SE AK icefield\n",
    "# testWTK='POLYGON((-18.2664 63.9706,-15.2442 63.9706,-15.2442 64.9461,-18.2664 64.9461,-18.2664 63.9706))' #iceland\n",
    "# testWTK='POLYGON((15.123 78.0197,16.9688 78.0197,16.9688 78.2449,15.123 78.2449,15.123 78.0197))' #svalbard\n",
    "# testWTK = 'POLYGON((-140.264 60.3786,-140.0853 60.3786,-140.0853 60.4539,-140.264 60.4539,-140.264 60.3786))'\n",
    "# testWTK='POLYGON((-50.0733 70.6347,-47.6859 70.6347,-47.6859 71.1109,-50.0733 71.1109,-50.0733 70.6347))' #west greenland"
   ]
  },
  {
   "cell_type": "code",
   "execution_count": 3,
   "id": "526afff1-6352-472c-b230-21778230c6b8",
   "metadata": {
    "tags": []
   },
   "outputs": [],
   "source": [
    "#funcs for this kind of thing:\n",
    "\n",
    "def timediff(time1,time2,form='seconds'):\n",
    "    '''time difference between time2 and time1 expressed as either days or seconds'''\n",
    "    # dd = 1\n",
    "    # if time1>time2:\n",
    "    #     dd=1\n",
    "    diff = time2-time1\n",
    "    if form=='seconds':\n",
    "        diff = diff.seconds+diff.days*86400\n",
    "    elif form=='days':\n",
    "        diff = diff.seconds/86400+diff.days\n",
    "    return diff\n",
    "\n",
    "def getasfresults(WTKstr,year,trimresults=True,winterN=4,showplots=False,showstats=False):\n",
    "    \"\"\"trim results removes images if there are less than winterN number of winter scenes to establish the baseline\"\"\"\n",
    "    results = asf.geo_search(platform=[asf.PLATFORM.SENTINEL1], intersectsWith=WTKstr, maxResults=1000,start=f'{str(year)}-01-01',\n",
    "                         end=f'{str(year+1)}-01-01',processingLevel='SLC')\n",
    "\n",
    "    datelist = []\n",
    "    pflist = [] #path-frame list\n",
    "    for res in results:\n",
    "        res = res.properties\n",
    "        # print(res['startTime'])\n",
    "        rdate = datetime.strptime(res['startTime'],'%Y-%m-%dT%H:%M:%S.%fZ')\n",
    "        rpf = str(res['pathNumber'])+'-'+str(res['frameNumber'])\n",
    "        # print(rdate)\n",
    "        res['datetime']=rdate\n",
    "        res['pfval'] = rpf\n",
    "        datelist.append(rdate)\n",
    "        pflist.append(rpf)\n",
    "\n",
    "\n",
    "    pfunique = np.unique(pflist)\n",
    "    pfvals = pflist\n",
    "    pflist = [np.where(pfunique==i)[0][0] for i in pflist]\n",
    "    \n",
    "    if showplots==True:\n",
    "        plt.figure()\n",
    "        plt.plot(datelist,pflist,'.',markersize=12)\n",
    "        \n",
    "    if trimresults==True:\n",
    "        wstart = datetime(year,1,1,0,0,0)\n",
    "        wend = datetime(year,4,1,1,0,0,0)\n",
    "        #result2 = results\n",
    "        pfremove=[]\n",
    "        trem = 0\n",
    "        #identify path-frames that do not meet requirements\n",
    "        for pf in pfunique:\n",
    "            eles = [i for i in results if i.properties['pfval']==pf]\n",
    "            datelist = np.array([i.properties['datetime'] for i in eles])\n",
    "            dl2 = datelist[datelist > wstart]\n",
    "            dl2 = dl2[dl2 < wend]\n",
    "            if len(dl2)<winterN:\n",
    "                pfremove.append(pf)\n",
    "                trem += len(datelist)\n",
    "\n",
    "        #remove images from those path-frames\n",
    "        for res in results:\n",
    "            if res.properties['pfval'] in pfremove:\n",
    "                results.remove(res)\n",
    "\n",
    "        print(f'total removed: {trem}')\n",
    "        # print(pfremove)\n",
    "        \n",
    "        #now plot again:\n",
    "        datelist = [i.properties['datetime'] for i in results]\n",
    "        pflist = [i.properties['pfval'] for i in results]\n",
    "        pfunique = np.unique(pflist)\n",
    "        pflist = [np.where(pfunique==i)[0][0] for i in pflist]\n",
    "\n",
    "        if showplots==True:\n",
    "            plt.figure()\n",
    "            plt.plot(datelist,pflist,'.',markersize=12)\n",
    "        \n",
    "    if showstats==True:\n",
    "        dlsort = [i for i in datelist]\n",
    "        dlsort.sort()\n",
    "        dldelta = [timediff(dlsort[i],dlsort[i+1],form='days') for i in range(len(dlsort)-1)]\n",
    "        dldelta = np.array(dldelta)\n",
    "\n",
    "        print('Acquisition stats')\n",
    "        print(f'Number of acquisitions:       {len(dldelta)+1}')\n",
    "        print(f'Number of images >1min apart: {len(dldelta[dldelta>1/1440])+1}\\n')\n",
    "        print(f'Mean days apart:   {np.mean(dldelta):.3f}')\n",
    "        print(f'Mean days >1min:   {np.mean(dldelta[dldelta>1/1440]):.3f}')\n",
    "        print(f'Median days apart: {np.median(dldelta):.3f}')\n",
    "        print(f'Median days >1min: {np.median(dldelta[dldelta>1/1440]):.3f}')\n",
    "        print(f'Stdev days apart:  {np.std(dldelta):.3f}')\n",
    "        print(f'Longest gap:       {np.max(dldelta):.3f}')\n",
    "        print('Note: these are over the whole area, not necessarily by pixel')\n",
    "        \n",
    "    return results"
   ]
  },
  {
   "cell_type": "markdown",
   "id": "0cca386a-21e6-4945-a9ad-e39c4b63c839",
   "metadata": {
    "tags": []
   },
   "source": [
    "## Do Hyp3 Processing\n",
    "\n",
    "I need to:\n",
    "\n",
    "1. Identify all the images you want DONE\n",
    "2. Check if any of those are already RTC processed (not expired)\n",
    "3. Process all the remaining jobs\n",
    "4. Make a hyp3 object for the full list of jobs, with those done via new process and those done via old process\n",
    "5. download, extract, convert, and clip from those jobs"
   ]
  },
  {
   "cell_type": "code",
   "execution_count": 4,
   "id": "26b64e2b-2741-4190-8970-2b83f00b1470",
   "metadata": {
    "tags": []
   },
   "outputs": [
    {
     "name": "stdin",
     "output_type": "stream",
     "text": [
      "NASA Earthdata Login username:  acjohnson16\n",
      "NASA Earthdata Login password:  ·········\n"
     ]
    }
   ],
   "source": [
    "hyp3 = HyP3(prompt=True)"
   ]
  },
  {
   "cell_type": "code",
   "execution_count": 14,
   "id": "ec354636-5517-47bf-aded-448e49ea887a",
   "metadata": {
    "tags": []
   },
   "outputs": [
    {
     "name": "stdout",
     "output_type": "stream",
     "text": [
      "Harding: 2018\n"
     ]
    },
    {
     "name": "stderr",
     "output_type": "stream",
     "text": [
      "/home/jovyan/.local/envs/rtc_analysis/lib/python3.9/site-packages/dateparser/date_parser.py:35: PytzUsageWarning: The localize method is no longer necessary, as this time zone supports the fold attribute (PEP 495). For more details on migrating to a PEP 495-compliant implementation, see https://pytz-deprecation-shim.readthedocs.io/en/latest/migration.html\n",
      "  date_obj = stz.localize(date_obj)\n"
     ]
    },
    {
     "name": "stdout",
     "output_type": "stream",
     "text": [
      "total removed: 22\n",
      "Acquisition stats\n",
      "Number of acquisitions:       88\n",
      "Number of images >1min apart: 64\n",
      "\n",
      "Mean days apart:   4.161\n",
      "Mean days >1min:   5.746\n",
      "Median days apart: 1.462\n",
      "Median days >1min: 1.988\n",
      "Stdev days apart:  4.801\n",
      "Longest gap:       12.000\n",
      "Note: these are over the whole area, not necessarily by pixel\n",
      "total removed: 22\n",
      "jobs already ready: 88\n",
      "Number of jobs to do: 0\n"
     ]
    },
    {
     "data": {
      "image/png": "[encoded data removed]",
      "text/plain": [
       "<Figure size 640x480 with 1 Axes>"
      ]
     },
     "metadata": {},
     "output_type": "display_data"
    },
    {
     "data": {
      "image/png": "[encoded data removed]",
      "text/plain": [
       "<Figure size 640x480 with 1 Axes>"
      ]
     },
     "metadata": {},
     "output_type": "display_data"
    }
   ],
   "source": [
    "#Get_Data\n",
    "\n",
    "print(f'{projname}: {year}')\n",
    "readyproducts = hyp3.find_jobs()\n",
    "readyproducts = readyproducts.filter_jobs(succeeded=True,include_expired=False)\n",
    "readyprodnames = [i.job_parameters['granules'][0] for i in readyproducts]\n",
    "\n",
    "results = getasfresults(WTKstr,year,showplots=True,showstats=True)\n",
    "dojobs = getasfresults(WTKstr,year)\n",
    "resultnames = [i.properties['sceneName'] for i in results]\n",
    "\n",
    "remcount = 0\n",
    "for i,job in enumerate(results):\n",
    "    jobscene = job.properties['sceneName']\n",
    "    dojobnames = np.array([i.properties['sceneName'] for i in dojobs])\n",
    "    job = dojobs[np.where(dojobnames==jobscene)[0][0]]\n",
    "    # othercount += 1\n",
    "    if job.properties['sceneName'] in readyprodnames:\n",
    "        # print(i)\n",
    "        dojobs.remove(job)\n",
    "        remcount += 1\n",
    "        \n",
    "\n",
    "print(f'jobs already ready: {remcount}')\n",
    "print(f'Number of jobs to do: {len(dojobs)}')"
   ]
  },
  {
   "cell_type": "code",
   "execution_count": 36,
   "id": "75fe789b-7e1c-4216-9ad0-b6334fc0e76f",
   "metadata": {},
   "outputs": [
    {
     "name": "stdout",
     "output_type": "stream",
     "text": [
      "24 HyP3 Jobs: 0 succeeded, 0 failed, 0 running, 24 pending.\n",
      "{'max_jobs_per_month': 1000, 'remaining': 261}\n"
     ]
    }
   ],
   "source": [
    "#Submit jobs for RTC processing\n",
    "\n",
    "projectname = f'{projname}_{year%1000}'\n",
    "\n",
    "granules = [i.properties['sceneName'] for i in dojobs]\n",
    "\n",
    "submitjobs = True\n",
    "if submitjobs:\n",
    "    rtc_jobs = Batch()\n",
    "    for g in granules:\n",
    "        rtc_jobs += hyp3.submit_rtc_job(g, name=projectname)\n",
    "    print(rtc_jobs)\n",
    "else:\n",
    "    print(\"Note: no job submitted as submitjobs is currently 'False'\")\n",
    "print(hyp3.my_info()['quota'])"
   ]
  },
  {
   "cell_type": "code",
   "execution_count": 16,
   "id": "1b6e70a8-262e-43aa-8332-35c0fd24fd21",
   "metadata": {},
   "outputs": [],
   "source": [
    "#do failed jobs if necessary (set to True)\n",
    "\n",
    "dofailedjob = False\n",
    "if dofailedjob:\n",
    "    hyp3.submit_rtc_job('S1A_IW_SLC__1SDV_20210701T155634_20210701T155701_038586_048D97_C318', name = projectname)"
   ]
  },
  {
   "cell_type": "code",
   "execution_count": 39,
   "id": "e924d400-995f-4609-bbb2-2bb166877dea",
   "metadata": {},
   "outputs": [
    {
     "name": "stdout",
     "output_type": "stream",
     "text": [
      "{'max_jobs_per_month': 1000, 'remaining': 401}\n"
     ]
    }
   ],
   "source": [
    "print(hyp3.my_info()['quota'])"
   ]
  },
  {
   "cell_type": "markdown",
   "id": "6047bf99-395d-4e86-931d-b82820a150f3",
   "metadata": {
    "tags": []
   },
   "source": [
    "## Utility Functions\n",
    "\n",
    "download images\\\n",
    "extract images\\\n",
    "reproject and clip to wtk\\\n",
    "convert to db\\\n",
    "do this sequentially"
   ]
  },
  {
   "cell_type": "code",
   "execution_count": 6,
   "id": "f24913c5-3258-48a6-b81d-29e5fe241e33",
   "metadata": {
    "tags": []
   },
   "outputs": [],
   "source": [
    "#convert utility\n",
    "def converttodb(file):\n",
    "    ds = gdal.Open(file, gdal.GA_Update)\n",
    "    data = ds.ReadAsArray()\n",
    "\n",
    "    data[data<1e-6]=1e-6\n",
    "    \n",
    "    data = 10*np.log10(data)\n",
    "    data[data==-np.inf]=-60\n",
    "    ds.GetRasterBand(1).WriteArray(data)\n",
    "    ds = None\n",
    "\n",
    "#download utility:\n",
    "def extracttif(inloc,outloc,pol='VV',convert=True):\n",
    "    \"\"\"expect pol to be 'VV','VH','HH', or 'HV' \n",
    "    convert will convert this to db\"\"\"\n",
    "    if str(inloc)[-1]!='/':\n",
    "        inloc = str(inloc)+'/'\n",
    "    if str(outloc)[-1]!='/':\n",
    "        outloc = str(outloc)+'/'\n",
    "    infile = glob.glob(f'{inloc}*')\n",
    "    endstr = pol+'.tif'\n",
    "    for file in infile:\n",
    "        # print(file)\n",
    "        # namelist = \n",
    "        with ZipFile(file) as z:\n",
    "            # print(z.namelist)\n",
    "            z = ZipFile(file)\n",
    "            zname = [name for name in z.namelist() if name[-6:]==endstr]\n",
    "            if len(zname)>0:\n",
    "                zname = zname[0]\n",
    "        \n",
    "                filename = os.path.basename(zname)\n",
    "                source = z.open(zname)\n",
    "                targetname = os.path.join(outloc, filename)\n",
    "                target = open(targetname, \"wb\")\n",
    "                with source, target:\n",
    "                    shutil.copyfileobj(source, target)\n",
    "                target.close()\n",
    "                if convert:\n",
    "                    converttodb(targetname)\n",
    "        # os.remove(file)\n",
    "        "
   ]
  },
  {
   "cell_type": "code",
   "execution_count": 7,
   "id": "7955c4dc-3ceb-4956-a593-3817eb244178",
   "metadata": {
    "tags": []
   },
   "outputs": [],
   "source": [
    "#CLIPPING TOOLS\n",
    "\n",
    "def wtkparse(wtk):\n",
    "    \"\"\"It's not weird if it works\"\"\"\n",
    "    wtk = wtk.split(\"'\")\n",
    "    wtk = wtk[0].split(\"(\")[2]\n",
    "    wtk = wtk.split(\")\")[0]\n",
    "    wtk = wtk.split(',')\n",
    "    wtk = [s.split(' ') for s in wtk]\n",
    "    wtk = np.array([[float(ss) for ss in s] for s in wtk])\n",
    "    return(wtk)\n",
    "\n",
    "def CoordConvert(points,inproj,outproj,ptparse=False):\n",
    "    \"\"\"Convert coordinate grid from one projection to another\n",
    "    if converting from 4326, then points should be ordered lon,lat\"\"\"\n",
    "\n",
    "    if ptparse:\n",
    "        points = wtkparse(points)\n",
    "\n",
    "    if type(inproj)==str:\n",
    "        inproj=int(inproj)\n",
    "    if type(outproj)==str:\n",
    "        outproj=int(outproj)\n",
    "\n",
    "    epsgin = osr.SpatialReference()\n",
    "    epsgin.ImportFromEPSG(inproj)   \n",
    "    epsgout = osr.SpatialReference()\n",
    "    epsgout.ImportFromEPSG(outproj)\n",
    "\n",
    "    convert = osr.CoordinateTransformation(epsgin, epsgout)\n",
    "    points = np.array(points)\n",
    "    \n",
    "    for i,x in enumerate(points):\n",
    "        newpt = convert.TransformPoint(x[1],x[0])\n",
    "        points[i,0],points[i,1]=newpt[0],newpt[1]\n",
    "        \n",
    "    return points\n",
    "\n",
    "def wtktobox(wtk,epsgn,srcproj = 4326):\n",
    "    \"\"\"epsgn is the epsg of the tif file\n",
    "    output will be ulx uly lrx lry\"\"\"\n",
    "    epsgn = int(epsgn)\n",
    "    srcproj = int(srcproj)\n",
    "    xyp = CoordConvert(wtk,4326,epsgn,ptparse=True)\n",
    "    ulx,uly = np.min(xyp[:,0]),np.max(xyp[:,1])\n",
    "    lrx,lry = np.max(xyp[:,0]),np.min(xyp[:,1])\n",
    "    return ulx,uly,lrx,lry\n",
    "\n",
    "def testEPSG(inloc):\n",
    "    if str(inloc)[-1]!='/':\n",
    "        inloc = str(inloc)+'/'\n",
    "    # if str(outloc)[-1]!='/':\n",
    "        # outloc = str(outloc)+'/'\n",
    "    infiles = glob.glob(f'{inloc}*')\n",
    "    for file in infiles:\n",
    "        ds=gdal.Open(file)\n",
    "        proj = osr.SpatialReference(wkt=ds.GetProjection())\n",
    "        dsproj = proj.GetAttrValue('AUTHORITY',1)\n",
    "        ds = None\n",
    "        print(dsproj)\n",
    "# testEPSG(products_path)\n",
    "\n",
    "def getEPSG(file):\n",
    "    ds=gdal.Open(file)\n",
    "    proj = osr.SpatialReference(wkt=ds.GetProjection())\n",
    "    dsproj = proj.GetAttrValue('AUTHORITY',1)\n",
    "    ds = None\n",
    "    return dsproj\n",
    "\n",
    "def identify_epsgs(fileloc):\n",
    "    \"\"\"Identify EPSG systems used in this. By default this will return the most commonly one.\"\"\"\n",
    "    if str(fileloc)[-1]!='/':\n",
    "        fileloc = str(fileloc)+'/'\n",
    "    filelist = glob.glob(f'{fileloc}*')\n",
    "    eplist = []\n",
    "    for file in filelist:\n",
    "        eplist.append(getEPSG(file))\n",
    "        # print(eplist[-1])\n",
    "        # print(file)\n",
    "    epu,epc = np.unique(eplist,return_counts=True)\n",
    "    for i,ep in enumerate(epu):\n",
    "        count = epc[i]\n",
    "        print(f'Found EPSG:{ep}, count: {count}')\n",
    "    return epu[np.where(epc==np.max(epc))[0]][0]\n",
    "\n",
    "def reproject(wtk,epsgn,inloc,outloc,res=30,convert_to_db=False):\n",
    "    \"\"\"make the magic happen\"\"\"\n",
    "    if str(inloc)[-1]!='/':\n",
    "        inloc = str(inloc)+'/'\n",
    "    if str(outloc)[-1]!='/':\n",
    "        outloc = str(outloc)+'/'\n",
    "    infiles = glob.glob(f'{inloc}*')\n",
    "    \n",
    "    epsgn = int(epsgn)\n",
    "    ulx,uly,lrx,lry = wtktobox(wtk,epsgn)\n",
    "    # c1=0\n",
    "    epsgns = f'ESPG:{str(epsgn)}'\n",
    "    for file in infiles:\n",
    "        ofile = file.replace(inloc,outloc)\n",
    "        # ofile = '/home/jovyan/test/rtc_clipped/S1B_IW_20210713T031944_DVP_RTC30_G_gpuned_1E76_VV'\n",
    "        epsgf = int(getEPSG(file))\n",
    "        epsgfs = f'ESPG:{str(epsgf)}'\n",
    "        src = gdal.Open(file)\n",
    "        # print(ofile)\n",
    "        # print(type(ofile))\n",
    "        \n",
    "        epsgo = osr.SpatialReference()\n",
    "        epsgo.ImportFromEPSG(epsgn)   \n",
    "        \n",
    "        gdal.Warp(destNameOrDestDS=ofile,srcDSOrSrcDSTab=src,dstSRS=epsgo,\n",
    "                  outputBounds=(ulx,lry,lrx,uly),outputBoundsSRS=epsgo,resampleAlg='near',\n",
    "                  xRes=res,yRes=res)\n",
    "        \n",
    "        if convert_to_db:\n",
    "            converttodb(ofile)"
   ]
  },
  {
   "cell_type": "markdown",
   "id": "bbcba4bf-61a6-482b-b160-992b0fe1b381",
   "metadata": {},
   "source": [
    "## Get Data"
   ]
  },
  {
   "cell_type": "code",
   "execution_count": 8,
   "id": "2f85a732-71fb-4527-a5cd-6f989c050ec8",
   "metadata": {
    "tags": []
   },
   "outputs": [
    {
     "name": "stdout",
     "output_type": "stream",
     "text": [
      "No jobs running, all clear\n"
     ]
    }
   ],
   "source": [
    "#Download the products, unzip them into the rtc_download directory, convert them to dB, and delete the zip files:\n",
    "\n",
    "# EPSGn = '32607'\n",
    "pols = ['VV','VH']\n",
    "\n",
    "autoEPSG=True #use this to pull the first projection and use that as your projection for all images\n",
    "\n",
    "# First check if jobs are running\n",
    "class Error(Exception):\n",
    "    \"\"\"Base class for other exceptions\"\"\"\n",
    "    pass\n",
    "class stillrunningError(Error):\n",
    "    \"\"\"raised when jobs are still running\"\"\"\n",
    "    pass\n",
    "\n",
    "running = len(hyp3.find_jobs(status_code=[\"RUNNING\"]))\n",
    "running += len(hyp3.find_jobs(status_code=[\"PENDING\"]))\n",
    "\n",
    "if running > 0:\n",
    "    print('Jobs still running!')\n",
    "    raise stillrunningError\n",
    "else:\n",
    "    print('No jobs running, all clear')"
   ]
  },
  {
   "cell_type": "code",
   "execution_count": 15,
   "id": "77c490fa-bc77-43d2-a522-fb073376d467",
   "metadata": {
    "tags": []
   },
   "outputs": [
    {
     "data": {
      "application/json": {
       "ascii": false,
       "bar_format": null,
       "colour": null,
       "elapsed": 0.01952195167541504,
       "initial": 0,
       "n": 0,
       "ncols": null,
       "nrows": null,
       "postfix": null,
       "prefix": "S1A_IW_20180102T162912_DVP_RTC30_G_gpuned_93C3.zip",
       "rate": null,
       "total": 454064517,
       "unit": "it",
       "unit_divisor": 1000,
       "unit_scale": false
      },
      "application/vnd.jupyter.widget-view+json": {
       "model_id": "99a61ab0910346b885db5277f315e73f",
       "version_major": 2,
       "version_minor": 0
      },
      "text/plain": [
       "S1A_IW_20180102T162912_DVP_RTC30_G_gpuned_93C3.zip:   0%|          | 0/454064517 [00:00<?, ?it/s]"
      ]
     },
     "metadata": {},
     "output_type": "display_data"
    },
    {
     "name": "stdout",
     "output_type": "stream",
     "text": [
      "32605\n"
     ]
    },
    {
     "data": {
      "application/json": {
       "ascii": false,
       "bar_format": null,
       "colour": null,
       "elapsed": 0.019625425338745117,
       "initial": 0,
       "n": 0,
       "ncols": null,
       "nrows": null,
       "postfix": null,
       "prefix": "S1A_IW_20180102T162937_DVP_RTC30_G_gpuned_B92D.zip",
       "rate": null,
       "total": 470780501,
       "unit": "it",
       "unit_divisor": 1000,
       "unit_scale": false
      },
      "application/vnd.jupyter.widget-view+json": {
       "model_id": "54b7466a6392413999ac74564dea1251",
       "version_major": 2,
       "version_minor": 0
      },
      "text/plain": [
       "S1A_IW_20180102T162937_DVP_RTC30_G_gpuned_B92D.zip:   0%|          | 0/470780501 [00:00<?, ?it/s]"
      ]
     },
     "metadata": {},
     "output_type": "display_data"
    },
    {
     "data": {
      "application/json": {
       "ascii": false,
       "bar_format": null,
       "colour": null,
       "elapsed": 0.019293546676635742,
       "initial": 0,
       "n": 0,
       "ncols": null,
       "nrows": null,
       "postfix": null,
       "prefix": "S1A_IW_20180114T162912_DVP_RTC30_G_gpuned_082C.zip",
       "rate": null,
       "total": 471503510,
       "unit": "it",
       "unit_divisor": 1000,
       "unit_scale": false
      },
      "application/vnd.jupyter.widget-view+json": {
       "model_id": "6968388f05a94328b661c69d793ac0bc",
       "version_major": 2,
       "version_minor": 0
      },
      "text/plain": [
       "S1A_IW_20180114T162912_DVP_RTC30_G_gpuned_082C.zip:   0%|          | 0/471503510 [00:00<?, ?it/s]"
      ]
     },
     "metadata": {},
     "output_type": "display_data"
    },
    {
     "data": {
      "application/json": {
       "ascii": false,
       "bar_format": null,
       "colour": null,
       "elapsed": 0.019430875778198242,
       "initial": 0,
       "n": 0,
       "ncols": null,
       "nrows": null,
       "postfix": null,
       "prefix": "S1B_IW_20180116T033517_DVP_RTC30_G_gpuned_C88B.zip",
       "rate": null,
       "total": 505104559,
       "unit": "it",
       "unit_divisor": 1000,
       "unit_scale": false
      },
      "application/vnd.jupyter.widget-view+json": {
       "model_id": "467144a72db24130984783cc4c9e86aa",
       "version_major": 2,
       "version_minor": 0
      },
      "text/plain": [
       "S1B_IW_20180116T033517_DVP_RTC30_G_gpuned_C88B.zip:   0%|          | 0/505104559 [00:00<?, ?it/s]"
      ]
     },
     "metadata": {},
     "output_type": "display_data"
    },
    {
     "data": {
      "application/json": {
       "ascii": false,
       "bar_format": null,
       "colour": null,
       "elapsed": 0.0195004940032959,
       "initial": 0,
       "n": 0,
       "ncols": null,
       "nrows": null,
       "postfix": null,
       "prefix": "S1A_IW_20180114T162938_DVP_RTC30_G_gpuned_28C3.zip",
       "rate": null,
       "total": 453508674,
       "unit": "it",
       "unit_divisor": 1000,
       "unit_scale": false
      },
      "application/vnd.jupyter.widget-view+json": {
       "model_id": "b2c785493d194cc4949f7d8fc5fef3dd",
       "version_major": 2,
       "version_minor": 0
      },
      "text/plain": [
       "S1A_IW_20180114T162938_DVP_RTC30_G_gpuned_28C3.zip:   0%|          | 0/453508674 [00:00<?, ?it/s]"
      ]
     },
     "metadata": {},
     "output_type": "display_data"
    },
    {
     "data": {
      "application/json": {
       "ascii": false,
       "bar_format": null,
       "colour": null,
       "elapsed": 0.019458770751953125,
       "initial": 0,
       "n": 0,
       "ncols": null,
       "nrows": null,
       "postfix": null,
       "prefix": "S1A_IW_20180126T162912_DVP_RTC30_G_gpuned_9E28.zip",
       "rate": null,
       "total": 471250908,
       "unit": "it",
       "unit_divisor": 1000,
       "unit_scale": false
      },
      "application/vnd.jupyter.widget-view+json": {
       "model_id": "ed34ee083239456e81e6a2cf2fde99a0",
       "version_major": 2,
       "version_minor": 0
      },
      "text/plain": [
       "S1A_IW_20180126T162912_DVP_RTC30_G_gpuned_9E28.zip:   0%|          | 0/471250908 [00:00<?, ?it/s]"
      ]
     },
     "metadata": {},
     "output_type": "display_data"
    },
    {
     "data": {
      "application/json": {
       "ascii": false,
       "bar_format": null,
       "colour": null,
       "elapsed": 0.019329309463500977,
       "initial": 0,
       "n": 0,
       "ncols": null,
       "nrows": null,
       "postfix": null,
       "prefix": "S1A_IW_20180126T162938_DVP_RTC30_G_gpuned_5E86.zip",
       "rate": null,
       "total": 453713259,
       "unit": "it",
       "unit_divisor": 1000,
       "unit_scale": false
      },
      "application/vnd.jupyter.widget-view+json": {
       "model_id": "90117ba2740c4b23a047a7a8b2c06f6b",
       "version_major": 2,
       "version_minor": 0
      },
      "text/plain": [
       "S1A_IW_20180126T162938_DVP_RTC30_G_gpuned_5E86.zip:   0%|          | 0/453713259 [00:00<?, ?it/s]"
      ]
     },
     "metadata": {},
     "output_type": "display_data"
    },
    {
     "data": {
      "application/json": {
       "ascii": false,
       "bar_format": null,
       "colour": null,
       "elapsed": 0.02041316032409668,
       "initial": 0,
       "n": 0,
       "ncols": null,
       "nrows": null,
       "postfix": null,
       "prefix": "S1B_IW_20180128T033517_DVP_RTC30_G_gpuned_362A.zip",
       "rate": null,
       "total": 504638005,
       "unit": "it",
       "unit_divisor": 1000,
       "unit_scale": false
      },
      "application/vnd.jupyter.widget-view+json": {
       "model_id": "d69a5267a480482dbfa786049ebeedf0",
       "version_major": 2,
       "version_minor": 0
      },
      "text/plain": [
       "S1B_IW_20180128T033517_DVP_RTC30_G_gpuned_362A.zip:   0%|          | 0/504638005 [00:00<?, ?it/s]"
      ]
     },
     "metadata": {},
     "output_type": "display_data"
    },
    {
     "data": {
      "application/json": {
       "ascii": false,
       "bar_format": null,
       "colour": null,
       "elapsed": 0.019490480422973633,
       "initial": 0,
       "n": 0,
       "ncols": null,
       "nrows": null,
       "postfix": null,
       "prefix": "S1A_IW_20180207T162912_DVP_RTC30_G_gpuned_7A4E.zip",
       "rate": null,
       "total": 471004636,
       "unit": "it",
       "unit_divisor": 1000,
       "unit_scale": false
      },
      "application/vnd.jupyter.widget-view+json": {
       "model_id": "6dfd06f8609d44aca78753131bf9248c",
       "version_major": 2,
       "version_minor": 0
      },
      "text/plain": [
       "S1A_IW_20180207T162912_DVP_RTC30_G_gpuned_7A4E.zip:   0%|          | 0/471004636 [00:00<?, ?it/s]"
      ]
     },
     "metadata": {},
     "output_type": "display_data"
    },
    {
     "name": "stdout",
     "output_type": "stream",
     "text": [
      "Current job: 10/87, time elapsed: 2.91 min, time remaining: 1.35 min\n"
     ]
    },
    {
     "data": {
      "application/json": {
       "ascii": false,
       "bar_format": null,
       "colour": null,
       "elapsed": 0.01980423927307129,
       "initial": 0,
       "n": 0,
       "ncols": null,
       "nrows": null,
       "postfix": null,
       "prefix": "S1A_IW_20180207T162937_DVP_RTC30_G_gpuned_7BDE.zip",
       "rate": null,
       "total": 453683207,
       "unit": "it",
       "unit_divisor": 1000,
       "unit_scale": false
      },
      "application/vnd.jupyter.widget-view+json": {
       "model_id": "5f1f8821576a45929d80167b2a7b19ec",
       "version_major": 2,
       "version_minor": 0
      },
      "text/plain": [
       "S1A_IW_20180207T162937_DVP_RTC30_G_gpuned_7BDE.zip:   0%|          | 0/453683207 [00:00<?, ?it/s]"
      ]
     },
     "metadata": {},
     "output_type": "display_data"
    },
    {
     "data": {
      "application/json": {
       "ascii": false,
       "bar_format": null,
       "colour": null,
       "elapsed": 0.019632816314697266,
       "initial": 0,
       "n": 0,
       "ncols": null,
       "nrows": null,
       "postfix": null,
       "prefix": "S1B_IW_20180209T033517_DVP_RTC30_G_gpuned_A851.zip",
       "rate": null,
       "total": 504208740,
       "unit": "it",
       "unit_divisor": 1000,
       "unit_scale": false
      },
      "application/vnd.jupyter.widget-view+json": {
       "model_id": "0fe6e98865ba44aab4c99a2eea5ab826",
       "version_major": 2,
       "version_minor": 0
      },
      "text/plain": [
       "S1B_IW_20180209T033517_DVP_RTC30_G_gpuned_A851.zip:   0%|          | 0/504208740 [00:00<?, ?it/s]"
      ]
     },
     "metadata": {},
     "output_type": "display_data"
    },
    {
     "data": {
      "application/json": {
       "ascii": false,
       "bar_format": null,
       "colour": null,
       "elapsed": 0.019876956939697266,
       "initial": 0,
       "n": 0,
       "ncols": null,
       "nrows": null,
       "postfix": null,
       "prefix": "S1A_IW_20180219T162911_DVP_RTC30_G_gpuned_2FCF.zip",
       "rate": null,
       "total": 471386555,
       "unit": "it",
       "unit_divisor": 1000,
       "unit_scale": false
      },
      "application/vnd.jupyter.widget-view+json": {
       "model_id": "939dfefb5a05454795070dc15e25d949",
       "version_major": 2,
       "version_minor": 0
      },
      "text/plain": [
       "S1A_IW_20180219T162911_DVP_RTC30_G_gpuned_2FCF.zip:   0%|          | 0/471386555 [00:00<?, ?it/s]"
      ]
     },
     "metadata": {},
     "output_type": "display_data"
    },
    {
     "data": {
      "application/json": {
       "ascii": false,
       "bar_format": null,
       "colour": null,
       "elapsed": 0.01947808265686035,
       "initial": 0,
       "n": 0,
       "ncols": null,
       "nrows": null,
       "postfix": null,
       "prefix": "S1A_IW_20180219T162937_DVP_RTC30_G_gpuned_420D.zip",
       "rate": null,
       "total": 452761450,
       "unit": "it",
       "unit_divisor": 1000,
       "unit_scale": false
      },
      "application/vnd.jupyter.widget-view+json": {
       "model_id": "4aaa9a3da6f6445e991406a615c22fb9",
       "version_major": 2,
       "version_minor": 0
      },
      "text/plain": [
       "S1A_IW_20180219T162937_DVP_RTC30_G_gpuned_420D.zip:   0%|          | 0/452761450 [00:00<?, ?it/s]"
      ]
     },
     "metadata": {},
     "output_type": "display_data"
    },
    {
     "data": {
      "application/json": {
       "ascii": false,
       "bar_format": null,
       "colour": null,
       "elapsed": 0.01989579200744629,
       "initial": 0,
       "n": 0,
       "ncols": null,
       "nrows": null,
       "postfix": null,
       "prefix": "S1B_IW_20180221T033516_DVP_RTC30_G_gpuned_D231.zip",
       "rate": null,
       "total": 504835990,
       "unit": "it",
       "unit_divisor": 1000,
       "unit_scale": false
      },
      "application/vnd.jupyter.widget-view+json": {
       "model_id": "c187d7b7131b4de48433a9e0bc9d77cb",
       "version_major": 2,
       "version_minor": 0
      },
      "text/plain": [
       "S1B_IW_20180221T033516_DVP_RTC30_G_gpuned_D231.zip:   0%|          | 0/504835990 [00:00<?, ?it/s]"
      ]
     },
     "metadata": {},
     "output_type": "display_data"
    },
    {
     "data": {
      "application/json": {
       "ascii": false,
       "bar_format": null,
       "colour": null,
       "elapsed": 0.019735097885131836,
       "initial": 0,
       "n": 0,
       "ncols": null,
       "nrows": null,
       "postfix": null,
       "prefix": "S1A_IW_20180303T162911_DVP_RTC30_G_gpuned_7C53.zip",
       "rate": null,
       "total": 471508866,
       "unit": "it",
       "unit_divisor": 1000,
       "unit_scale": false
      },
      "application/vnd.jupyter.widget-view+json": {
       "model_id": "b72cf8aeccb543a28816d044e0a900d6",
       "version_major": 2,
       "version_minor": 0
      },
      "text/plain": [
       "S1A_IW_20180303T162911_DVP_RTC30_G_gpuned_7C53.zip:   0%|          | 0/471508866 [00:00<?, ?it/s]"
      ]
     },
     "metadata": {},
     "output_type": "display_data"
    },
    {
     "data": {
      "application/json": {
       "ascii": false,
       "bar_format": null,
       "colour": null,
       "elapsed": 0.019649982452392578,
       "initial": 0,
       "n": 0,
       "ncols": null,
       "nrows": null,
       "postfix": null,
       "prefix": "S1B_IW_20180305T033516_DVP_RTC30_G_gpuned_386B.zip",
       "rate": null,
       "total": 504243669,
       "unit": "it",
       "unit_divisor": 1000,
       "unit_scale": false
      },
      "application/vnd.jupyter.widget-view+json": {
       "model_id": "ac37b4dce1cd47f084997bc87eee86ce",
       "version_major": 2,
       "version_minor": 0
      },
      "text/plain": [
       "S1B_IW_20180305T033516_DVP_RTC30_G_gpuned_386B.zip:   0%|          | 0/504243669 [00:00<?, ?it/s]"
      ]
     },
     "metadata": {},
     "output_type": "display_data"
    },
    {
     "data": {
      "application/json": {
       "ascii": false,
       "bar_format": null,
       "colour": null,
       "elapsed": 0.019696712493896484,
       "initial": 0,
       "n": 0,
       "ncols": null,
       "nrows": null,
       "postfix": null,
       "prefix": "S1A_IW_20180303T162937_DVP_RTC30_G_gpuned_B604.zip",
       "rate": null,
       "total": 452337667,
       "unit": "it",
       "unit_divisor": 1000,
       "unit_scale": false
      },
      "application/vnd.jupyter.widget-view+json": {
       "model_id": "c379e1a396d843c09ecb5336ebdd35ab",
       "version_major": 2,
       "version_minor": 0
      },
      "text/plain": [
       "S1A_IW_20180303T162937_DVP_RTC30_G_gpuned_B604.zip:   0%|          | 0/452337667 [00:00<?, ?it/s]"
      ]
     },
     "metadata": {},
     "output_type": "display_data"
    },
    {
     "data": {
      "application/json": {
       "ascii": false,
       "bar_format": null,
       "colour": null,
       "elapsed": 0.01940131187438965,
       "initial": 0,
       "n": 0,
       "ncols": null,
       "nrows": null,
       "postfix": null,
       "prefix": "S1A_IW_20180315T162911_DVP_RTC30_G_gpuned_2CAF.zip",
       "rate": null,
       "total": 472367062,
       "unit": "it",
       "unit_divisor": 1000,
       "unit_scale": false
      },
      "application/vnd.jupyter.widget-view+json": {
       "model_id": "7e63886aad144d4e9499f98902c2b7f1",
       "version_major": 2,
       "version_minor": 0
      },
      "text/plain": [
       "S1A_IW_20180315T162911_DVP_RTC30_G_gpuned_2CAF.zip:   0%|          | 0/472367062 [00:00<?, ?it/s]"
      ]
     },
     "metadata": {},
     "output_type": "display_data"
    },
    {
     "data": {
      "application/json": {
       "ascii": false,
       "bar_format": null,
       "colour": null,
       "elapsed": 0.019420385360717773,
       "initial": 0,
       "n": 0,
       "ncols": null,
       "nrows": null,
       "postfix": null,
       "prefix": "S1A_IW_20180315T162937_DVP_RTC30_G_gpuned_57D1.zip",
       "rate": null,
       "total": 454063085,
       "unit": "it",
       "unit_divisor": 1000,
       "unit_scale": false
      },
      "application/vnd.jupyter.widget-view+json": {
       "model_id": "584522f5180545589c9a2ba80c20d207",
       "version_major": 2,
       "version_minor": 0
      },
      "text/plain": [
       "S1A_IW_20180315T162937_DVP_RTC30_G_gpuned_57D1.zip:   0%|          | 0/454063085 [00:00<?, ?it/s]"
      ]
     },
     "metadata": {},
     "output_type": "display_data"
    },
    {
     "name": "stdout",
     "output_type": "stream",
     "text": [
      "Current job: 20/87, time elapsed: 6.26 min, time remaining: 2.38 min\n"
     ]
    },
    {
     "data": {
      "application/json": {
       "ascii": false,
       "bar_format": null,
       "colour": null,
       "elapsed": 0.020024776458740234,
       "initial": 0,
       "n": 0,
       "ncols": null,
       "nrows": null,
       "postfix": null,
       "prefix": "S1B_IW_20180317T033516_DVP_RTC30_G_gpuned_D845.zip",
       "rate": null,
       "total": 507130151,
       "unit": "it",
       "unit_divisor": 1000,
       "unit_scale": false
      },
      "application/vnd.jupyter.widget-view+json": {
       "model_id": "5d56ab91e3d949f6b70b3d53296fcee7",
       "version_major": 2,
       "version_minor": 0
      },
      "text/plain": [
       "S1B_IW_20180317T033516_DVP_RTC30_G_gpuned_D845.zip:   0%|          | 0/507130151 [00:00<?, ?it/s]"
      ]
     },
     "metadata": {},
     "output_type": "display_data"
    },
    {
     "data": {
      "application/json": {
       "ascii": false,
       "bar_format": null,
       "colour": null,
       "elapsed": 0.0205385684967041,
       "initial": 0,
       "n": 0,
       "ncols": null,
       "nrows": null,
       "postfix": null,
       "prefix": "S1A_IW_20180327T162912_DVP_RTC30_G_gpuned_8F81.zip",
       "rate": null,
       "total": 471223443,
       "unit": "it",
       "unit_divisor": 1000,
       "unit_scale": false
      },
      "application/vnd.jupyter.widget-view+json": {
       "model_id": "2340011d97a54b61abe54196efe2ffe2",
       "version_major": 2,
       "version_minor": 0
      },
      "text/plain": [
       "S1A_IW_20180327T162912_DVP_RTC30_G_gpuned_8F81.zip:   0%|          | 0/471223443 [00:00<?, ?it/s]"
      ]
     },
     "metadata": {},
     "output_type": "display_data"
    },
    {
     "data": {
      "application/json": {
       "ascii": false,
       "bar_format": null,
       "colour": null,
       "elapsed": 0.019918203353881836,
       "initial": 0,
       "n": 0,
       "ncols": null,
       "nrows": null,
       "postfix": null,
       "prefix": "S1A_IW_20180327T162937_DVP_RTC30_G_gpuned_3CEE.zip",
       "rate": null,
       "total": 453403248,
       "unit": "it",
       "unit_divisor": 1000,
       "unit_scale": false
      },
      "application/vnd.jupyter.widget-view+json": {
       "model_id": "00210e315ac54c8483e91990ad5b8f12",
       "version_major": 2,
       "version_minor": 0
      },
      "text/plain": [
       "S1A_IW_20180327T162937_DVP_RTC30_G_gpuned_3CEE.zip:   0%|          | 0/453403248 [00:00<?, ?it/s]"
      ]
     },
     "metadata": {},
     "output_type": "display_data"
    },
    {
     "data": {
      "application/json": {
       "ascii": false,
       "bar_format": null,
       "colour": null,
       "elapsed": 0.02056884765625,
       "initial": 0,
       "n": 0,
       "ncols": null,
       "nrows": null,
       "postfix": null,
       "prefix": "S1A_IW_20180408T162912_DVP_RTC30_G_gpuned_EAF7.zip",
       "rate": null,
       "total": 471519000,
       "unit": "it",
       "unit_divisor": 1000,
       "unit_scale": false
      },
      "application/vnd.jupyter.widget-view+json": {
       "model_id": "3d76ec5ad722408db0893776c1601093",
       "version_major": 2,
       "version_minor": 0
      },
      "text/plain": [
       "S1A_IW_20180408T162912_DVP_RTC30_G_gpuned_EAF7.zip:   0%|          | 0/471519000 [00:00<?, ?it/s]"
      ]
     },
     "metadata": {},
     "output_type": "display_data"
    },
    {
     "data": {
      "application/json": {
       "ascii": false,
       "bar_format": null,
       "colour": null,
       "elapsed": 0.020054101943969727,
       "initial": 0,
       "n": 0,
       "ncols": null,
       "nrows": null,
       "postfix": null,
       "prefix": "S1A_IW_20180408T162938_DVP_RTC30_G_gpuned_A7DD.zip",
       "rate": null,
       "total": 452751591,
       "unit": "it",
       "unit_divisor": 1000,
       "unit_scale": false
      },
      "application/vnd.jupyter.widget-view+json": {
       "model_id": "8131cb5e137146cc970cf837dd23d570",
       "version_major": 2,
       "version_minor": 0
      },
      "text/plain": [
       "S1A_IW_20180408T162938_DVP_RTC30_G_gpuned_A7DD.zip:   0%|          | 0/452751591 [00:00<?, ?it/s]"
      ]
     },
     "metadata": {},
     "output_type": "display_data"
    },
    {
     "data": {
      "application/json": {
       "ascii": false,
       "bar_format": null,
       "colour": null,
       "elapsed": 0.01960921287536621,
       "initial": 0,
       "n": 0,
       "ncols": null,
       "nrows": null,
       "postfix": null,
       "prefix": "S1B_IW_20180410T033517_DVP_RTC30_G_gpuned_AB4F.zip",
       "rate": null,
       "total": 507186285,
       "unit": "it",
       "unit_divisor": 1000,
       "unit_scale": false
      },
      "application/vnd.jupyter.widget-view+json": {
       "model_id": "b9e03ce67d024b849721bd65206fb07a",
       "version_major": 2,
       "version_minor": 0
      },
      "text/plain": [
       "S1B_IW_20180410T033517_DVP_RTC30_G_gpuned_AB4F.zip:   0%|          | 0/507186285 [00:00<?, ?it/s]"
      ]
     },
     "metadata": {},
     "output_type": "display_data"
    },
    {
     "data": {
      "application/json": {
       "ascii": false,
       "bar_format": null,
       "colour": null,
       "elapsed": 0.02286815643310547,
       "initial": 0,
       "n": 0,
       "ncols": null,
       "nrows": null,
       "postfix": null,
       "prefix": "S1A_IW_20180420T162912_DVP_RTC30_G_gpuned_1010.zip",
       "rate": null,
       "total": 472476499,
       "unit": "it",
       "unit_divisor": 1000,
       "unit_scale": false
      },
      "application/vnd.jupyter.widget-view+json": {
       "model_id": "0642da0f5a024462807b5bcba13831c2",
       "version_major": 2,
       "version_minor": 0
      },
      "text/plain": [
       "S1A_IW_20180420T162912_DVP_RTC30_G_gpuned_1010.zip:   0%|          | 0/472476499 [00:00<?, ?it/s]"
      ]
     },
     "metadata": {},
     "output_type": "display_data"
    },
    {
     "data": {
      "application/json": {
       "ascii": false,
       "bar_format": null,
       "colour": null,
       "elapsed": 0.019852161407470703,
       "initial": 0,
       "n": 0,
       "ncols": null,
       "nrows": null,
       "postfix": null,
       "prefix": "S1A_IW_20180420T162938_DVP_RTC30_G_gpuned_F9D4.zip",
       "rate": null,
       "total": 453717217,
       "unit": "it",
       "unit_divisor": 1000,
       "unit_scale": false
      },
      "application/vnd.jupyter.widget-view+json": {
       "model_id": "e3219df356024341b9323146a9f59323",
       "version_major": 2,
       "version_minor": 0
      },
      "text/plain": [
       "S1A_IW_20180420T162938_DVP_RTC30_G_gpuned_F9D4.zip:   0%|          | 0/453717217 [00:00<?, ?it/s]"
      ]
     },
     "metadata": {},
     "output_type": "display_data"
    },
    {
     "data": {
      "application/json": {
       "ascii": false,
       "bar_format": null,
       "colour": null,
       "elapsed": 0.020201444625854492,
       "initial": 0,
       "n": 0,
       "ncols": null,
       "nrows": null,
       "postfix": null,
       "prefix": "S1A_IW_20180502T162913_DVP_RTC30_G_gpuned_1080.zip",
       "rate": null,
       "total": 472480884,
       "unit": "it",
       "unit_divisor": 1000,
       "unit_scale": false
      },
      "application/vnd.jupyter.widget-view+json": {
       "model_id": "020e81aeb64d4c36af825b96b479dd3f",
       "version_major": 2,
       "version_minor": 0
      },
      "text/plain": [
       "S1A_IW_20180502T162913_DVP_RTC30_G_gpuned_1080.zip:   0%|          | 0/472480884 [00:00<?, ?it/s]"
      ]
     },
     "metadata": {},
     "output_type": "display_data"
    },
    {
     "data": {
      "application/json": {
       "ascii": false,
       "bar_format": null,
       "colour": null,
       "elapsed": 0.02072882652282715,
       "initial": 0,
       "n": 0,
       "ncols": null,
       "nrows": null,
       "postfix": null,
       "prefix": "S1B_IW_20180422T033518_DVP_RTC30_G_gpuned_7DAB.zip",
       "rate": null,
       "total": 506454556,
       "unit": "it",
       "unit_divisor": 1000,
       "unit_scale": false
      },
      "application/vnd.jupyter.widget-view+json": {
       "model_id": "fc7f00371edf43349f5b70480f1f6e01",
       "version_major": 2,
       "version_minor": 0
      },
      "text/plain": [
       "S1B_IW_20180422T033518_DVP_RTC30_G_gpuned_7DAB.zip:   0%|          | 0/506454556 [00:00<?, ?it/s]"
      ]
     },
     "metadata": {},
     "output_type": "display_data"
    },
    {
     "name": "stdout",
     "output_type": "stream",
     "text": [
      "Current job: 30/87, time elapsed: 9.58 min, time remaining: 2.93 min\n"
     ]
    },
    {
     "data": {
      "application/json": {
       "ascii": false,
       "bar_format": null,
       "colour": null,
       "elapsed": 0.019598007202148438,
       "initial": 0,
       "n": 0,
       "ncols": null,
       "nrows": null,
       "postfix": null,
       "prefix": "S1B_IW_20180504T033518_DVP_RTC30_G_gpuned_E05A.zip",
       "rate": null,
       "total": 506623546,
       "unit": "it",
       "unit_divisor": 1000,
       "unit_scale": false
      },
      "application/vnd.jupyter.widget-view+json": {
       "model_id": "ffe63047f1674e86afb9dcd24e6963fc",
       "version_major": 2,
       "version_minor": 0
      },
      "text/plain": [
       "S1B_IW_20180504T033518_DVP_RTC30_G_gpuned_E05A.zip:   0%|          | 0/506623546 [00:00<?, ?it/s]"
      ]
     },
     "metadata": {},
     "output_type": "display_data"
    },
    {
     "data": {
      "application/json": {
       "ascii": false,
       "bar_format": null,
       "colour": null,
       "elapsed": 0.019423723220825195,
       "initial": 0,
       "n": 0,
       "ncols": null,
       "nrows": null,
       "postfix": null,
       "prefix": "S1A_IW_20180502T162939_DVP_RTC30_G_gpuned_FB5E.zip",
       "rate": null,
       "total": 454683078,
       "unit": "it",
       "unit_divisor": 1000,
       "unit_scale": false
      },
      "application/vnd.jupyter.widget-view+json": {
       "model_id": "545d16f1b41d4a208183e9fbbeec106e",
       "version_major": 2,
       "version_minor": 0
      },
      "text/plain": [
       "S1A_IW_20180502T162939_DVP_RTC30_G_gpuned_FB5E.zip:   0%|          | 0/454683078 [00:00<?, ?it/s]"
      ]
     },
     "metadata": {},
     "output_type": "display_data"
    },
    {
     "data": {
      "application/json": {
       "ascii": false,
       "bar_format": null,
       "colour": null,
       "elapsed": 0.01965618133544922,
       "initial": 0,
       "n": 0,
       "ncols": null,
       "nrows": null,
       "postfix": null,
       "prefix": "S1A_IW_20180514T162914_DVP_RTC30_G_gpuned_4295.zip",
       "rate": null,
       "total": 473527482,
       "unit": "it",
       "unit_divisor": 1000,
       "unit_scale": false
      },
      "application/vnd.jupyter.widget-view+json": {
       "model_id": "1aa3c35227634ca391caaa69bddf602e",
       "version_major": 2,
       "version_minor": 0
      },
      "text/plain": [
       "S1A_IW_20180514T162914_DVP_RTC30_G_gpuned_4295.zip:   0%|          | 0/473527482 [00:00<?, ?it/s]"
      ]
     },
     "metadata": {},
     "output_type": "display_data"
    },
    {
     "data": {
      "application/json": {
       "ascii": false,
       "bar_format": null,
       "colour": null,
       "elapsed": 0.019414663314819336,
       "initial": 0,
       "n": 0,
       "ncols": null,
       "nrows": null,
       "postfix": null,
       "prefix": "S1A_IW_20180526T162914_DVP_RTC30_G_gpuned_8F4E.zip",
       "rate": null,
       "total": 639490143,
       "unit": "it",
       "unit_divisor": 1000,
       "unit_scale": false
      },
      "application/vnd.jupyter.widget-view+json": {
       "model_id": "7f66bd18415b4464a0f61e09ff31ce3e",
       "version_major": 2,
       "version_minor": 0
      },
      "text/plain": [
       "S1A_IW_20180526T162914_DVP_RTC30_G_gpuned_8F4E.zip:   0%|          | 0/639490143 [00:00<?, ?it/s]"
      ]
     },
     "metadata": {},
     "output_type": "display_data"
    },
    {
     "data": {
      "application/json": {
       "ascii": false,
       "bar_format": null,
       "colour": null,
       "elapsed": 0.019318342208862305,
       "initial": 0,
       "n": 0,
       "ncols": null,
       "nrows": null,
       "postfix": null,
       "prefix": "S1A_IW_20180514T162939_DVP_RTC30_G_gpuned_89F9.zip",
       "rate": null,
       "total": 455187328,
       "unit": "it",
       "unit_divisor": 1000,
       "unit_scale": false
      },
      "application/vnd.jupyter.widget-view+json": {
       "model_id": "4b21d4e1cec4466781011bc2ff6f63fa",
       "version_major": 2,
       "version_minor": 0
      },
      "text/plain": [
       "S1A_IW_20180514T162939_DVP_RTC30_G_gpuned_89F9.zip:   0%|          | 0/455187328 [00:00<?, ?it/s]"
      ]
     },
     "metadata": {},
     "output_type": "display_data"
    },
    {
     "data": {
      "application/json": {
       "ascii": false,
       "bar_format": null,
       "colour": null,
       "elapsed": 0.01976609230041504,
       "initial": 0,
       "n": 0,
       "ncols": null,
       "nrows": null,
       "postfix": null,
       "prefix": "S1A_IW_20180607T162915_DVP_RTC30_G_gpuned_765C.zip",
       "rate": null,
       "total": 638964912,
       "unit": "it",
       "unit_divisor": 1000,
       "unit_scale": false
      },
      "application/vnd.jupyter.widget-view+json": {
       "model_id": "34c6900cbcf8480bab4a2b965475d527",
       "version_major": 2,
       "version_minor": 0
      },
      "text/plain": [
       "S1A_IW_20180607T162915_DVP_RTC30_G_gpuned_765C.zip:   0%|          | 0/638964912 [00:00<?, ?it/s]"
      ]
     },
     "metadata": {},
     "output_type": "display_data"
    },
    {
     "data": {
      "application/json": {
       "ascii": false,
       "bar_format": null,
       "colour": null,
       "elapsed": 0.019431114196777344,
       "initial": 0,
       "n": 0,
       "ncols": null,
       "nrows": null,
       "postfix": null,
       "prefix": "S1B_IW_20180528T033519_DVP_RTC30_G_gpuned_6496.zip",
       "rate": null,
       "total": 507358179,
       "unit": "it",
       "unit_divisor": 1000,
       "unit_scale": false
      },
      "application/vnd.jupyter.widget-view+json": {
       "model_id": "02e587d326364d669f8c3d6432adad4c",
       "version_major": 2,
       "version_minor": 0
      },
      "text/plain": [
       "S1B_IW_20180528T033519_DVP_RTC30_G_gpuned_6496.zip:   0%|          | 0/507358179 [00:00<?, ?it/s]"
      ]
     },
     "metadata": {},
     "output_type": "display_data"
    },
    {
     "data": {
      "application/json": {
       "ascii": false,
       "bar_format": null,
       "colour": null,
       "elapsed": 0.019583940505981445,
       "initial": 0,
       "n": 0,
       "ncols": null,
       "nrows": null,
       "postfix": null,
       "prefix": "S1A_IW_20180619T162916_DVP_RTC30_G_gpuned_CE82.zip",
       "rate": null,
       "total": 636671428,
       "unit": "it",
       "unit_divisor": 1000,
       "unit_scale": false
      },
      "application/vnd.jupyter.widget-view+json": {
       "model_id": "a18762ed926d4cffb145b5a20ba3bfe8",
       "version_major": 2,
       "version_minor": 0
      },
      "text/plain": [
       "S1A_IW_20180619T162916_DVP_RTC30_G_gpuned_CE82.zip:   0%|          | 0/636671428 [00:00<?, ?it/s]"
      ]
     },
     "metadata": {},
     "output_type": "display_data"
    },
    {
     "data": {
      "application/json": {
       "ascii": false,
       "bar_format": null,
       "colour": null,
       "elapsed": 0.020110368728637695,
       "initial": 0,
       "n": 0,
       "ncols": null,
       "nrows": null,
       "postfix": null,
       "prefix": "S1A_IW_20180701T162916_DVP_RTC30_G_gpuned_7C89.zip",
       "rate": null,
       "total": 637028571,
       "unit": "it",
       "unit_divisor": 1000,
       "unit_scale": false
      },
      "application/vnd.jupyter.widget-view+json": {
       "model_id": "d48bc3633ffc499f85c72ef2c6c3fbca",
       "version_major": 2,
       "version_minor": 0
      },
      "text/plain": [
       "S1A_IW_20180701T162916_DVP_RTC30_G_gpuned_7C89.zip:   0%|          | 0/637028571 [00:00<?, ?it/s]"
      ]
     },
     "metadata": {},
     "output_type": "display_data"
    },
    {
     "data": {
      "application/json": {
       "ascii": false,
       "bar_format": null,
       "colour": null,
       "elapsed": 0.019612789154052734,
       "initial": 0,
       "n": 0,
       "ncols": null,
       "nrows": null,
       "postfix": null,
       "prefix": "S1B_IW_20180703T033522_DVP_RTC30_G_gpuned_EEA4.zip",
       "rate": null,
       "total": 505921006,
       "unit": "it",
       "unit_divisor": 1000,
       "unit_scale": false
      },
      "application/vnd.jupyter.widget-view+json": {
       "model_id": "3df482bfc59044eea05cfa7c938a3429",
       "version_major": 2,
       "version_minor": 0
      },
      "text/plain": [
       "S1B_IW_20180703T033522_DVP_RTC30_G_gpuned_EEA4.zip:   0%|          | 0/505921006 [00:00<?, ?it/s]"
      ]
     },
     "metadata": {},
     "output_type": "display_data"
    },
    {
     "name": "stdout",
     "output_type": "stream",
     "text": [
      "Current job: 40/87, time elapsed: 13.25 min, time remaining: 3.18 min\n"
     ]
    },
    {
     "data": {
      "application/json": {
       "ascii": false,
       "bar_format": null,
       "colour": null,
       "elapsed": 0.021697044372558594,
       "initial": 0,
       "n": 0,
       "ncols": null,
       "nrows": null,
       "postfix": null,
       "prefix": "S1A_IW_20180725T162918_DVP_RTC30_G_gpuned_DBD4.zip",
       "rate": null,
       "total": 633782597,
       "unit": "it",
       "unit_divisor": 1000,
       "unit_scale": false
      },
      "application/vnd.jupyter.widget-view+json": {
       "model_id": "1a77d00739664c37b4b602170343896a",
       "version_major": 2,
       "version_minor": 0
      },
      "text/plain": [
       "S1A_IW_20180725T162918_DVP_RTC30_G_gpuned_DBD4.zip:   0%|          | 0/633782597 [00:00<?, ?it/s]"
      ]
     },
     "metadata": {},
     "output_type": "display_data"
    },
    {
     "data": {
      "application/json": {
       "ascii": false,
       "bar_format": null,
       "colour": null,
       "elapsed": 0.019716501235961914,
       "initial": 0,
       "n": 0,
       "ncols": null,
       "nrows": null,
       "postfix": null,
       "prefix": "S1A_IW_20180713T162917_DVP_RTC30_G_gpuned_683E.zip",
       "rate": null,
       "total": 635982081,
       "unit": "it",
       "unit_divisor": 1000,
       "unit_scale": false
      },
      "application/vnd.jupyter.widget-view+json": {
       "model_id": "7cf0af293e804e35a1aa7915da108fff",
       "version_major": 2,
       "version_minor": 0
      },
      "text/plain": [
       "S1A_IW_20180713T162917_DVP_RTC30_G_gpuned_683E.zip:   0%|          | 0/635982081 [00:00<?, ?it/s]"
      ]
     },
     "metadata": {},
     "output_type": "display_data"
    },
    {
     "data": {
      "application/json": {
       "ascii": false,
       "bar_format": null,
       "colour": null,
       "elapsed": 0.019702911376953125,
       "initial": 0,
       "n": 0,
       "ncols": null,
       "nrows": null,
       "postfix": null,
       "prefix": "S1B_IW_20180727T033523_DVP_RTC30_G_gpuned_AE58.zip",
       "rate": null,
       "total": 504101211,
       "unit": "it",
       "unit_divisor": 1000,
       "unit_scale": false
      },
      "application/vnd.jupyter.widget-view+json": {
       "model_id": "154cf2f681f2480796cb646baef2f790",
       "version_major": 2,
       "version_minor": 0
      },
      "text/plain": [
       "S1B_IW_20180727T033523_DVP_RTC30_G_gpuned_AE58.zip:   0%|          | 0/504101211 [00:00<?, ?it/s]"
      ]
     },
     "metadata": {},
     "output_type": "display_data"
    },
    {
     "data": {
      "application/json": {
       "ascii": false,
       "bar_format": null,
       "colour": null,
       "elapsed": 0.019632339477539062,
       "initial": 0,
       "n": 0,
       "ncols": null,
       "nrows": null,
       "postfix": null,
       "prefix": "S1B_IW_20180808T033524_DVP_RTC30_G_gpuned_A934.zip",
       "rate": null,
       "total": 505486268,
       "unit": "it",
       "unit_divisor": 1000,
       "unit_scale": false
      },
      "application/vnd.jupyter.widget-view+json": {
       "model_id": "fd83732476e34ecd804bd05dc73b8491",
       "version_major": 2,
       "version_minor": 0
      },
      "text/plain": [
       "S1B_IW_20180808T033524_DVP_RTC30_G_gpuned_A934.zip:   0%|          | 0/505486268 [00:00<?, ?it/s]"
      ]
     },
     "metadata": {},
     "output_type": "display_data"
    },
    {
     "data": {
      "application/json": {
       "ascii": false,
       "bar_format": null,
       "colour": null,
       "elapsed": 0.019673585891723633,
       "initial": 0,
       "n": 0,
       "ncols": null,
       "nrows": null,
       "postfix": null,
       "prefix": "S1A_IW_20180806T162919_DVP_RTC30_G_gpuned_1824.zip",
       "rate": null,
       "total": 635088755,
       "unit": "it",
       "unit_divisor": 1000,
       "unit_scale": false
      },
      "application/vnd.jupyter.widget-view+json": {
       "model_id": "128140f8c2284c5c9c02aa33544c61ad",
       "version_major": 2,
       "version_minor": 0
      },
      "text/plain": [
       "S1A_IW_20180806T162919_DVP_RTC30_G_gpuned_1824.zip:   0%|          | 0/635088755 [00:00<?, ?it/s]"
      ]
     },
     "metadata": {},
     "output_type": "display_data"
    },
    {
     "data": {
      "application/json": {
       "ascii": false,
       "bar_format": null,
       "colour": null,
       "elapsed": 0.01932382583618164,
       "initial": 0,
       "n": 0,
       "ncols": null,
       "nrows": null,
       "postfix": null,
       "prefix": "S1A_IW_20180808T161257_DVP_RTC30_G_gpuned_1BEC.zip",
       "rate": null,
       "total": 473636343,
       "unit": "it",
       "unit_divisor": 1000,
       "unit_scale": false
      },
      "application/vnd.jupyter.widget-view+json": {
       "model_id": "a936585352934d6f9fcbf4dc834cd0e6",
       "version_major": 2,
       "version_minor": 0
      },
      "text/plain": [
       "S1A_IW_20180808T161257_DVP_RTC30_G_gpuned_1BEC.zip:   0%|          | 0/473636343 [00:00<?, ?it/s]"
      ]
     },
     "metadata": {},
     "output_type": "display_data"
    },
    {
     "data": {
      "application/json": {
       "ascii": false,
       "bar_format": null,
       "colour": null,
       "elapsed": 0.01940321922302246,
       "initial": 0,
       "n": 0,
       "ncols": null,
       "nrows": null,
       "postfix": null,
       "prefix": "S1A_IW_20180818T162919_DVP_RTC30_G_gpuned_7138.zip",
       "rate": null,
       "total": 471350124,
       "unit": "it",
       "unit_divisor": 1000,
       "unit_scale": false
      },
      "application/vnd.jupyter.widget-view+json": {
       "model_id": "01f4b67a800a4641acaa8e7323205d37",
       "version_major": 2,
       "version_minor": 0
      },
      "text/plain": [
       "S1A_IW_20180818T162919_DVP_RTC30_G_gpuned_7138.zip:   0%|          | 0/471350124 [00:00<?, ?it/s]"
      ]
     },
     "metadata": {},
     "output_type": "display_data"
    },
    {
     "data": {
      "application/json": {
       "ascii": false,
       "bar_format": null,
       "colour": null,
       "elapsed": 0.01995682716369629,
       "initial": 0,
       "n": 0,
       "ncols": null,
       "nrows": null,
       "postfix": null,
       "prefix": "S1A_IW_20180818T162945_DVP_RTC30_G_gpuned_534F.zip",
       "rate": null,
       "total": 452047909,
       "unit": "it",
       "unit_divisor": 1000,
       "unit_scale": false
      },
      "application/vnd.jupyter.widget-view+json": {
       "model_id": "b4b0cc22034d425a8702800c3bd741f1",
       "version_major": 2,
       "version_minor": 0
      },
      "text/plain": [
       "S1A_IW_20180818T162945_DVP_RTC30_G_gpuned_534F.zip:   0%|          | 0/452047909 [00:00<?, ?it/s]"
      ]
     },
     "metadata": {},
     "output_type": "display_data"
    },
    {
     "data": {
      "application/json": {
       "ascii": false,
       "bar_format": null,
       "colour": null,
       "elapsed": 0.019422531127929688,
       "initial": 0,
       "n": 0,
       "ncols": null,
       "nrows": null,
       "postfix": null,
       "prefix": "S1A_IW_20180820T161258_DVP_RTC30_G_gpuned_1BA1.zip",
       "rate": null,
       "total": 472700071,
       "unit": "it",
       "unit_divisor": 1000,
       "unit_scale": false
      },
      "application/vnd.jupyter.widget-view+json": {
       "model_id": "0ef8e4fff6ff46fdaf058e9520b1633b",
       "version_major": 2,
       "version_minor": 0
      },
      "text/plain": [
       "S1A_IW_20180820T161258_DVP_RTC30_G_gpuned_1BA1.zip:   0%|          | 0/472700071 [00:00<?, ?it/s]"
      ]
     },
     "metadata": {},
     "output_type": "display_data"
    },
    {
     "data": {
      "application/json": {
       "ascii": false,
       "bar_format": null,
       "colour": null,
       "elapsed": 0.019463300704956055,
       "initial": 0,
       "n": 0,
       "ncols": null,
       "nrows": null,
       "postfix": null,
       "prefix": "S1B_IW_20180820T033525_DVP_RTC30_G_gpuned_C681.zip",
       "rate": null,
       "total": 304081602,
       "unit": "it",
       "unit_divisor": 1000,
       "unit_scale": false
      },
      "application/vnd.jupyter.widget-view+json": {
       "model_id": "cb9879903a754408a548b2b61432066f",
       "version_major": 2,
       "version_minor": 0
      },
      "text/plain": [
       "S1B_IW_20180820T033525_DVP_RTC30_G_gpuned_C681.zip:   0%|          | 0/304081602 [00:00<?, ?it/s]"
      ]
     },
     "metadata": {},
     "output_type": "display_data"
    },
    {
     "name": "stdout",
     "output_type": "stream",
     "text": [
      "Current job: 50/87, time elapsed: 16.64 min, time remaining: 2.99 min\n"
     ]
    },
    {
     "data": {
      "application/json": {
       "ascii": false,
       "bar_format": null,
       "colour": null,
       "elapsed": 0.019654035568237305,
       "initial": 0,
       "n": 0,
       "ncols": null,
       "nrows": null,
       "postfix": null,
       "prefix": "S1A_IW_20180830T162920_DVP_RTC30_G_gpuned_77CE.zip",
       "rate": null,
       "total": 471040372,
       "unit": "it",
       "unit_divisor": 1000,
       "unit_scale": false
      },
      "application/vnd.jupyter.widget-view+json": {
       "model_id": "63642f93bef449e6b3f6db4eb8b1d673",
       "version_major": 2,
       "version_minor": 0
      },
      "text/plain": [
       "S1A_IW_20180830T162920_DVP_RTC30_G_gpuned_77CE.zip:   0%|          | 0/471040372 [00:00<?, ?it/s]"
      ]
     },
     "metadata": {},
     "output_type": "display_data"
    },
    {
     "data": {
      "application/json": {
       "ascii": false,
       "bar_format": null,
       "colour": null,
       "elapsed": 0.019412517547607422,
       "initial": 0,
       "n": 0,
       "ncols": null,
       "nrows": null,
       "postfix": null,
       "prefix": "S1A_IW_20180830T162946_DVP_RTC30_G_gpuned_82D3.zip",
       "rate": null,
       "total": 454401009,
       "unit": "it",
       "unit_divisor": 1000,
       "unit_scale": false
      },
      "application/vnd.jupyter.widget-view+json": {
       "model_id": "9cac891729ef42cfb59e810712a326cc",
       "version_major": 2,
       "version_minor": 0
      },
      "text/plain": [
       "S1A_IW_20180830T162946_DVP_RTC30_G_gpuned_82D3.zip:   0%|          | 0/454401009 [00:00<?, ?it/s]"
      ]
     },
     "metadata": {},
     "output_type": "display_data"
    },
    {
     "data": {
      "application/json": {
       "ascii": false,
       "bar_format": null,
       "colour": null,
       "elapsed": 0.019450902938842773,
       "initial": 0,
       "n": 0,
       "ncols": null,
       "nrows": null,
       "postfix": null,
       "prefix": "S1B_IW_20180901T033525_DVP_RTC30_G_gpuned_F203.zip",
       "rate": null,
       "total": 304886229,
       "unit": "it",
       "unit_divisor": 1000,
       "unit_scale": false
      },
      "application/vnd.jupyter.widget-view+json": {
       "model_id": "728df1657f56466caabd83adcc0a8806",
       "version_major": 2,
       "version_minor": 0
      },
      "text/plain": [
       "S1B_IW_20180901T033525_DVP_RTC30_G_gpuned_F203.zip:   0%|          | 0/304886229 [00:00<?, ?it/s]"
      ]
     },
     "metadata": {},
     "output_type": "display_data"
    },
    {
     "data": {
      "application/json": {
       "ascii": false,
       "bar_format": null,
       "colour": null,
       "elapsed": 0.01957988739013672,
       "initial": 0,
       "n": 0,
       "ncols": null,
       "nrows": null,
       "postfix": null,
       "prefix": "S1A_IW_20180911T162920_DVP_RTC30_G_gpuned_A8A0.zip",
       "rate": null,
       "total": 471725730,
       "unit": "it",
       "unit_divisor": 1000,
       "unit_scale": false
      },
      "application/vnd.jupyter.widget-view+json": {
       "model_id": "4a68c25824404be2a4626d207f59653b",
       "version_major": 2,
       "version_minor": 0
      },
      "text/plain": [
       "S1A_IW_20180911T162920_DVP_RTC30_G_gpuned_A8A0.zip:   0%|          | 0/471725730 [00:00<?, ?it/s]"
      ]
     },
     "metadata": {},
     "output_type": "display_data"
    },
    {
     "data": {
      "application/json": {
       "ascii": false,
       "bar_format": null,
       "colour": null,
       "elapsed": 0.019446611404418945,
       "initial": 0,
       "n": 0,
       "ncols": null,
       "nrows": null,
       "postfix": null,
       "prefix": "S1A_IW_20180901T161259_DVP_RTC30_G_gpuned_BDA9.zip",
       "rate": null,
       "total": 456331869,
       "unit": "it",
       "unit_divisor": 1000,
       "unit_scale": false
      },
      "application/vnd.jupyter.widget-view+json": {
       "model_id": "7c9036601ddb419587ecaef7c998d389",
       "version_major": 2,
       "version_minor": 0
      },
      "text/plain": [
       "S1A_IW_20180901T161259_DVP_RTC30_G_gpuned_BDA9.zip:   0%|          | 0/456331869 [00:00<?, ?it/s]"
      ]
     },
     "metadata": {},
     "output_type": "display_data"
    },
    {
     "data": {
      "application/json": {
       "ascii": false,
       "bar_format": null,
       "colour": null,
       "elapsed": 0.019557952880859375,
       "initial": 0,
       "n": 0,
       "ncols": null,
       "nrows": null,
       "postfix": null,
       "prefix": "S1A_IW_20180911T162946_DVP_RTC30_G_gpuned_4C63.zip",
       "rate": null,
       "total": 453796462,
       "unit": "it",
       "unit_divisor": 1000,
       "unit_scale": false
      },
      "application/vnd.jupyter.widget-view+json": {
       "model_id": "1f4b77b005a64abfa2657e18b6df26b5",
       "version_major": 2,
       "version_minor": 0
      },
      "text/plain": [
       "S1A_IW_20180911T162946_DVP_RTC30_G_gpuned_4C63.zip:   0%|          | 0/453796462 [00:00<?, ?it/s]"
      ]
     },
     "metadata": {},
     "output_type": "display_data"
    },
    {
     "data": {
      "application/json": {
       "ascii": false,
       "bar_format": null,
       "colour": null,
       "elapsed": 0.01963973045349121,
       "initial": 0,
       "n": 0,
       "ncols": null,
       "nrows": null,
       "postfix": null,
       "prefix": "S1B_IW_20180913T033526_DVP_RTC30_G_gpuned_FC58.zip",
       "rate": null,
       "total": 506397714,
       "unit": "it",
       "unit_divisor": 1000,
       "unit_scale": false
      },
      "application/vnd.jupyter.widget-view+json": {
       "model_id": "1d831b39652e470ca0be2099243b1f4c",
       "version_major": 2,
       "version_minor": 0
      },
      "text/plain": [
       "S1B_IW_20180913T033526_DVP_RTC30_G_gpuned_FC58.zip:   0%|          | 0/506397714 [00:00<?, ?it/s]"
      ]
     },
     "metadata": {},
     "output_type": "display_data"
    },
    {
     "data": {
      "application/json": {
       "ascii": false,
       "bar_format": null,
       "colour": null,
       "elapsed": 0.0194089412689209,
       "initial": 0,
       "n": 0,
       "ncols": null,
       "nrows": null,
       "postfix": null,
       "prefix": "S1A_IW_20180923T162921_DVP_RTC30_G_gpuned_010B.zip",
       "rate": null,
       "total": 471555925,
       "unit": "it",
       "unit_divisor": 1000,
       "unit_scale": false
      },
      "application/vnd.jupyter.widget-view+json": {
       "model_id": "e3a9efaa1f264567becc5767d41ac34f",
       "version_major": 2,
       "version_minor": 0
      },
      "text/plain": [
       "S1A_IW_20180923T162921_DVP_RTC30_G_gpuned_010B.zip:   0%|          | 0/471555925 [00:00<?, ?it/s]"
      ]
     },
     "metadata": {},
     "output_type": "display_data"
    },
    {
     "data": {
      "application/json": {
       "ascii": false,
       "bar_format": null,
       "colour": null,
       "elapsed": 0.019600629806518555,
       "initial": 0,
       "n": 0,
       "ncols": null,
       "nrows": null,
       "postfix": null,
       "prefix": "S1A_IW_20180923T162947_DVP_RTC30_G_gpuned_0EB6.zip",
       "rate": null,
       "total": 453167204,
       "unit": "it",
       "unit_divisor": 1000,
       "unit_scale": false
      },
      "application/vnd.jupyter.widget-view+json": {
       "model_id": "9c6746cb498e4ce58a9d6c2e8a104176",
       "version_major": 2,
       "version_minor": 0
      },
      "text/plain": [
       "S1A_IW_20180923T162947_DVP_RTC30_G_gpuned_0EB6.zip:   0%|          | 0/453167204 [00:00<?, ?it/s]"
      ]
     },
     "metadata": {},
     "output_type": "display_data"
    },
    {
     "data": {
      "application/json": {
       "ascii": false,
       "bar_format": null,
       "colour": null,
       "elapsed": 0.02019047737121582,
       "initial": 0,
       "n": 0,
       "ncols": null,
       "nrows": null,
       "postfix": null,
       "prefix": "S1A_IW_20180925T161259_DVP_RTC30_G_gpuned_83B6.zip",
       "rate": null,
       "total": 473988116,
       "unit": "it",
       "unit_divisor": 1000,
       "unit_scale": false
      },
      "application/vnd.jupyter.widget-view+json": {
       "model_id": "39a44deec9ef4c7f9a24822d35e81e14",
       "version_major": 2,
       "version_minor": 0
      },
      "text/plain": [
       "S1A_IW_20180925T161259_DVP_RTC30_G_gpuned_83B6.zip:   0%|          | 0/473988116 [00:00<?, ?it/s]"
      ]
     },
     "metadata": {},
     "output_type": "display_data"
    },
    {
     "name": "stdout",
     "output_type": "stream",
     "text": [
      "Current job: 60/87, time elapsed: 19.83 min, time remaining: 2.48 min\n"
     ]
    },
    {
     "data": {
      "application/json": {
       "ascii": false,
       "bar_format": null,
       "colour": null,
       "elapsed": 0.019400835037231445,
       "initial": 0,
       "n": 0,
       "ncols": null,
       "nrows": null,
       "postfix": null,
       "prefix": "S1A_IW_20181005T162921_DVP_RTC30_G_gpuned_6D2C.zip",
       "rate": null,
       "total": 470997877,
       "unit": "it",
       "unit_divisor": 1000,
       "unit_scale": false
      },
      "application/vnd.jupyter.widget-view+json": {
       "model_id": "44a13c03780641c79598b754fbce9da0",
       "version_major": 2,
       "version_minor": 0
      },
      "text/plain": [
       "S1A_IW_20181005T162921_DVP_RTC30_G_gpuned_6D2C.zip:   0%|          | 0/470997877 [00:00<?, ?it/s]"
      ]
     },
     "metadata": {},
     "output_type": "display_data"
    },
    {
     "data": {
      "application/json": {
       "ascii": false,
       "bar_format": null,
       "colour": null,
       "elapsed": 0.019921302795410156,
       "initial": 0,
       "n": 0,
       "ncols": null,
       "nrows": null,
       "postfix": null,
       "prefix": "S1A_IW_20181005T162947_DVP_RTC30_G_gpuned_C198.zip",
       "rate": null,
       "total": 452912247,
       "unit": "it",
       "unit_divisor": 1000,
       "unit_scale": false
      },
      "application/vnd.jupyter.widget-view+json": {
       "model_id": "f02a3142b22f48cda5f1e1dcdc6cbb83",
       "version_major": 2,
       "version_minor": 0
      },
      "text/plain": [
       "S1A_IW_20181005T162947_DVP_RTC30_G_gpuned_C198.zip:   0%|          | 0/452912247 [00:00<?, ?it/s]"
      ]
     },
     "metadata": {},
     "output_type": "display_data"
    },
    {
     "data": {
      "application/json": {
       "ascii": false,
       "bar_format": null,
       "colour": null,
       "elapsed": 0.020032405853271484,
       "initial": 0,
       "n": 0,
       "ncols": null,
       "nrows": null,
       "postfix": null,
       "prefix": "S1A_IW_20181007T161259_DVP_RTC30_G_gpuned_FEB6.zip",
       "rate": null,
       "total": 473522266,
       "unit": "it",
       "unit_divisor": 1000,
       "unit_scale": false
      },
      "application/vnd.jupyter.widget-view+json": {
       "model_id": "93cf2437d49b49debcccf0ed33f40a81",
       "version_major": 2,
       "version_minor": 0
      },
      "text/plain": [
       "S1A_IW_20181007T161259_DVP_RTC30_G_gpuned_FEB6.zip:   0%|          | 0/473522266 [00:00<?, ?it/s]"
      ]
     },
     "metadata": {},
     "output_type": "display_data"
    },
    {
     "data": {
      "application/json": {
       "ascii": false,
       "bar_format": null,
       "colour": null,
       "elapsed": 0.019527435302734375,
       "initial": 0,
       "n": 0,
       "ncols": null,
       "nrows": null,
       "postfix": null,
       "prefix": "S1B_IW_20181007T033526_DVP_RTC30_G_gpuned_1F40.zip",
       "rate": null,
       "total": 505258950,
       "unit": "it",
       "unit_divisor": 1000,
       "unit_scale": false
      },
      "application/vnd.jupyter.widget-view+json": {
       "model_id": "4658cb140053463fade457c291b1398d",
       "version_major": 2,
       "version_minor": 0
      },
      "text/plain": [
       "S1B_IW_20181007T033526_DVP_RTC30_G_gpuned_1F40.zip:   0%|          | 0/505258950 [00:00<?, ?it/s]"
      ]
     },
     "metadata": {},
     "output_type": "display_data"
    },
    {
     "data": {
      "application/json": {
       "ascii": false,
       "bar_format": null,
       "colour": null,
       "elapsed": 0.019404888153076172,
       "initial": 0,
       "n": 0,
       "ncols": null,
       "nrows": null,
       "postfix": null,
       "prefix": "S1A_IW_20181017T162921_DVP_RTC30_G_gpuned_8613.zip",
       "rate": null,
       "total": 471192104,
       "unit": "it",
       "unit_divisor": 1000,
       "unit_scale": false
      },
      "application/vnd.jupyter.widget-view+json": {
       "model_id": "602b4c96462049518560ac09426b68e8",
       "version_major": 2,
       "version_minor": 0
      },
      "text/plain": [
       "S1A_IW_20181017T162921_DVP_RTC30_G_gpuned_8613.zip:   0%|          | 0/471192104 [00:00<?, ?it/s]"
      ]
     },
     "metadata": {},
     "output_type": "display_data"
    },
    {
     "data": {
      "application/json": {
       "ascii": false,
       "bar_format": null,
       "colour": null,
       "elapsed": 0.020996570587158203,
       "initial": 0,
       "n": 0,
       "ncols": null,
       "nrows": null,
       "postfix": null,
       "prefix": "S1B_IW_20181019T033526_DVP_RTC30_G_gpuned_D71A.zip",
       "rate": null,
       "total": 505497637,
       "unit": "it",
       "unit_divisor": 1000,
       "unit_scale": false
      },
      "application/vnd.jupyter.widget-view+json": {
       "model_id": "8732c28692aa4613a2c7a5a240629984",
       "version_major": 2,
       "version_minor": 0
      },
      "text/plain": [
       "S1B_IW_20181019T033526_DVP_RTC30_G_gpuned_D71A.zip:   0%|          | 0/505497637 [00:00<?, ?it/s]"
      ]
     },
     "metadata": {},
     "output_type": "display_data"
    },
    {
     "data": {
      "application/json": {
       "ascii": false,
       "bar_format": null,
       "colour": null,
       "elapsed": 0.019319534301757812,
       "initial": 0,
       "n": 0,
       "ncols": null,
       "nrows": null,
       "postfix": null,
       "prefix": "S1A_IW_20181017T162947_DVP_RTC30_G_gpuned_475A.zip",
       "rate": null,
       "total": 452111361,
       "unit": "it",
       "unit_divisor": 1000,
       "unit_scale": false
      },
      "application/vnd.jupyter.widget-view+json": {
       "model_id": "9ab89fbce1fa45a8ac694d6c1689c96c",
       "version_major": 2,
       "version_minor": 0
      },
      "text/plain": [
       "S1A_IW_20181017T162947_DVP_RTC30_G_gpuned_475A.zip:   0%|          | 0/452111361 [00:00<?, ?it/s]"
      ]
     },
     "metadata": {},
     "output_type": "display_data"
    },
    {
     "data": {
      "application/json": {
       "ascii": false,
       "bar_format": null,
       "colour": null,
       "elapsed": 0.01943373680114746,
       "initial": 0,
       "n": 0,
       "ncols": null,
       "nrows": null,
       "postfix": null,
       "prefix": "S1A_IW_20181019T161300_DVP_RTC30_G_gpuned_0C88.zip",
       "rate": null,
       "total": 473507779,
       "unit": "it",
       "unit_divisor": 1000,
       "unit_scale": false
      },
      "application/vnd.jupyter.widget-view+json": {
       "model_id": "1afdbde1826b41c2a2030c3f9057f95c",
       "version_major": 2,
       "version_minor": 0
      },
      "text/plain": [
       "S1A_IW_20181019T161300_DVP_RTC30_G_gpuned_0C88.zip:   0%|          | 0/473507779 [00:00<?, ?it/s]"
      ]
     },
     "metadata": {},
     "output_type": "display_data"
    },
    {
     "data": {
      "application/json": {
       "ascii": false,
       "bar_format": null,
       "colour": null,
       "elapsed": 0.020231962203979492,
       "initial": 0,
       "n": 0,
       "ncols": null,
       "nrows": null,
       "postfix": null,
       "prefix": "S1A_IW_20181029T162921_DVP_RTC30_G_gpuned_7BBC.zip",
       "rate": null,
       "total": 470728353,
       "unit": "it",
       "unit_divisor": 1000,
       "unit_scale": false
      },
      "application/vnd.jupyter.widget-view+json": {
       "model_id": "60c335feb32f40a180b9ad131f354fc4",
       "version_major": 2,
       "version_minor": 0
      },
      "text/plain": [
       "S1A_IW_20181029T162921_DVP_RTC30_G_gpuned_7BBC.zip:   0%|          | 0/470728353 [00:00<?, ?it/s]"
      ]
     },
     "metadata": {},
     "output_type": "display_data"
    },
    {
     "data": {
      "application/json": {
       "ascii": false,
       "bar_format": null,
       "colour": null,
       "elapsed": 0.022243738174438477,
       "initial": 0,
       "n": 0,
       "ncols": null,
       "nrows": null,
       "postfix": null,
       "prefix": "S1B_IW_20181031T033526_DVP_RTC30_G_gpuned_85E3.zip",
       "rate": null,
       "total": 505724584,
       "unit": "it",
       "unit_divisor": 1000,
       "unit_scale": false
      },
      "application/vnd.jupyter.widget-view+json": {
       "model_id": "a8124520788e4ec6a251cd1ad3b474b2",
       "version_major": 2,
       "version_minor": 0
      },
      "text/plain": [
       "S1B_IW_20181031T033526_DVP_RTC30_G_gpuned_85E3.zip:   0%|          | 0/505724584 [00:00<?, ?it/s]"
      ]
     },
     "metadata": {},
     "output_type": "display_data"
    },
    {
     "name": "stdout",
     "output_type": "stream",
     "text": [
      "Current job: 70/87, time elapsed: 23.02 min, time remaining: 1.73 min\n"
     ]
    },
    {
     "data": {
      "application/json": {
       "ascii": false,
       "bar_format": null,
       "colour": null,
       "elapsed": 0.01976180076599121,
       "initial": 0,
       "n": 0,
       "ncols": null,
       "nrows": null,
       "postfix": null,
       "prefix": "S1A_IW_20181029T162947_DVP_RTC30_G_gpuned_35E9.zip",
       "rate": null,
       "total": 452965427,
       "unit": "it",
       "unit_divisor": 1000,
       "unit_scale": false
      },
      "application/vnd.jupyter.widget-view+json": {
       "model_id": "9fbc11c384a642afb6e863988243c3db",
       "version_major": 2,
       "version_minor": 0
      },
      "text/plain": [
       "S1A_IW_20181029T162947_DVP_RTC30_G_gpuned_35E9.zip:   0%|          | 0/452965427 [00:00<?, ?it/s]"
      ]
     },
     "metadata": {},
     "output_type": "display_data"
    },
    {
     "data": {
      "application/json": {
       "ascii": false,
       "bar_format": null,
       "colour": null,
       "elapsed": 0.019896268844604492,
       "initial": 0,
       "n": 0,
       "ncols": null,
       "nrows": null,
       "postfix": null,
       "prefix": "S1A_IW_20181031T161300_DVP_RTC30_G_gpuned_72FE.zip",
       "rate": null,
       "total": 456770893,
       "unit": "it",
       "unit_divisor": 1000,
       "unit_scale": false
      },
      "application/vnd.jupyter.widget-view+json": {
       "model_id": "95b5fac7458548f086507ee7744bd68d",
       "version_major": 2,
       "version_minor": 0
      },
      "text/plain": [
       "S1A_IW_20181031T161300_DVP_RTC30_G_gpuned_72FE.zip:   0%|          | 0/456770893 [00:00<?, ?it/s]"
      ]
     },
     "metadata": {},
     "output_type": "display_data"
    },
    {
     "data": {
      "application/json": {
       "ascii": false,
       "bar_format": null,
       "colour": null,
       "elapsed": 0.019426345825195312,
       "initial": 0,
       "n": 0,
       "ncols": null,
       "nrows": null,
       "postfix": null,
       "prefix": "S1A_IW_20181110T162921_DVP_RTC30_G_gpuned_BD10.zip",
       "rate": null,
       "total": 469685843,
       "unit": "it",
       "unit_divisor": 1000,
       "unit_scale": false
      },
      "application/vnd.jupyter.widget-view+json": {
       "model_id": "58e2a43c10894859ae1f8bb9ff5efbcd",
       "version_major": 2,
       "version_minor": 0
      },
      "text/plain": [
       "S1A_IW_20181110T162921_DVP_RTC30_G_gpuned_BD10.zip:   0%|          | 0/469685843 [00:00<?, ?it/s]"
      ]
     },
     "metadata": {},
     "output_type": "display_data"
    },
    {
     "data": {
      "application/json": {
       "ascii": false,
       "bar_format": null,
       "colour": null,
       "elapsed": 0.019847393035888672,
       "initial": 0,
       "n": 0,
       "ncols": null,
       "nrows": null,
       "postfix": null,
       "prefix": "S1A_IW_20181110T162947_DVP_RTC30_G_gpuned_A9A6.zip",
       "rate": null,
       "total": 452636328,
       "unit": "it",
       "unit_divisor": 1000,
       "unit_scale": false
      },
      "application/vnd.jupyter.widget-view+json": {
       "model_id": "30a12d0b8c4d40d487949e2c0ea6f0df",
       "version_major": 2,
       "version_minor": 0
      },
      "text/plain": [
       "S1A_IW_20181110T162947_DVP_RTC30_G_gpuned_A9A6.zip:   0%|          | 0/452636328 [00:00<?, ?it/s]"
      ]
     },
     "metadata": {},
     "output_type": "display_data"
    },
    {
     "data": {
      "application/json": {
       "ascii": false,
       "bar_format": null,
       "colour": null,
       "elapsed": 0.02022075653076172,
       "initial": 0,
       "n": 0,
       "ncols": null,
       "nrows": null,
       "postfix": null,
       "prefix": "S1A_IW_20181112T161259_DVP_RTC30_G_gpuned_26B5.zip",
       "rate": null,
       "total": 473719056,
       "unit": "it",
       "unit_divisor": 1000,
       "unit_scale": false
      },
      "application/vnd.jupyter.widget-view+json": {
       "model_id": "11aa1971f633427e935306faf7718cc3",
       "version_major": 2,
       "version_minor": 0
      },
      "text/plain": [
       "S1A_IW_20181112T161259_DVP_RTC30_G_gpuned_26B5.zip:   0%|          | 0/473719056 [00:00<?, ?it/s]"
      ]
     },
     "metadata": {},
     "output_type": "display_data"
    },
    {
     "data": {
      "application/json": {
       "ascii": false,
       "bar_format": null,
       "colour": null,
       "elapsed": 0.019310474395751953,
       "initial": 0,
       "n": 0,
       "ncols": null,
       "nrows": null,
       "postfix": null,
       "prefix": "S1A_IW_20181122T162946_DVP_RTC30_G_gpuned_FAA0.zip",
       "rate": null,
       "total": 453997780,
       "unit": "it",
       "unit_divisor": 1000,
       "unit_scale": false
      },
      "application/vnd.jupyter.widget-view+json": {
       "model_id": "3290fade1ed44b1099b3e8c90a9d549f",
       "version_major": 2,
       "version_minor": 0
      },
      "text/plain": [
       "S1A_IW_20181122T162946_DVP_RTC30_G_gpuned_FAA0.zip:   0%|          | 0/453997780 [00:00<?, ?it/s]"
      ]
     },
     "metadata": {},
     "output_type": "display_data"
    },
    {
     "data": {
      "application/json": {
       "ascii": false,
       "bar_format": null,
       "colour": null,
       "elapsed": 0.019316911697387695,
       "initial": 0,
       "n": 0,
       "ncols": null,
       "nrows": null,
       "postfix": null,
       "prefix": "S1A_IW_20181122T162921_DVP_RTC30_G_gpuned_82D6.zip",
       "rate": null,
       "total": 470895917,
       "unit": "it",
       "unit_divisor": 1000,
       "unit_scale": false
      },
      "application/vnd.jupyter.widget-view+json": {
       "model_id": "a4bec1504ae14e9480a0f150e1b81333",
       "version_major": 2,
       "version_minor": 0
      },
      "text/plain": [
       "S1A_IW_20181122T162921_DVP_RTC30_G_gpuned_82D6.zip:   0%|          | 0/470895917 [00:00<?, ?it/s]"
      ]
     },
     "metadata": {},
     "output_type": "display_data"
    },
    {
     "data": {
      "application/json": {
       "ascii": false,
       "bar_format": null,
       "colour": null,
       "elapsed": 0.01986980438232422,
       "initial": 0,
       "n": 0,
       "ncols": null,
       "nrows": null,
       "postfix": null,
       "prefix": "S1A_IW_20181204T162946_DVP_RTC30_G_gpuned_335B.zip",
       "rate": null,
       "total": 452594925,
       "unit": "it",
       "unit_divisor": 1000,
       "unit_scale": false
      },
      "application/vnd.jupyter.widget-view+json": {
       "model_id": "90110dc4496748ba86a1781745ad144f",
       "version_major": 2,
       "version_minor": 0
      },
      "text/plain": [
       "S1A_IW_20181204T162946_DVP_RTC30_G_gpuned_335B.zip:   0%|          | 0/452594925 [00:00<?, ?it/s]"
      ]
     },
     "metadata": {},
     "output_type": "display_data"
    },
    {
     "data": {
      "application/json": {
       "ascii": false,
       "bar_format": null,
       "colour": null,
       "elapsed": 0.020822763442993164,
       "initial": 0,
       "n": 0,
       "ncols": null,
       "nrows": null,
       "postfix": null,
       "prefix": "S1A_IW_20181204T162920_DVP_RTC30_G_gpuned_187B.zip",
       "rate": null,
       "total": 471633737,
       "unit": "it",
       "unit_divisor": 1000,
       "unit_scale": false
      },
      "application/vnd.jupyter.widget-view+json": {
       "model_id": "fdd1abef5eda4ed4ae9e8b2a85c23915",
       "version_major": 2,
       "version_minor": 0
      },
      "text/plain": [
       "S1A_IW_20181204T162920_DVP_RTC30_G_gpuned_187B.zip:   0%|          | 0/471633737 [00:00<?, ?it/s]"
      ]
     },
     "metadata": {},
     "output_type": "display_data"
    },
    {
     "data": {
      "application/json": {
       "ascii": false,
       "bar_format": null,
       "colour": null,
       "elapsed": 0.019344806671142578,
       "initial": 0,
       "n": 0,
       "ncols": null,
       "nrows": null,
       "postfix": null,
       "prefix": "S1A_IW_20181206T161259_DVP_RTC30_G_gpuned_4BED.zip",
       "rate": null,
       "total": 474299135,
       "unit": "it",
       "unit_divisor": 1000,
       "unit_scale": false
      },
      "application/vnd.jupyter.widget-view+json": {
       "model_id": "6d421348502745e2828ec5e06645c49c",
       "version_major": 2,
       "version_minor": 0
      },
      "text/plain": [
       "S1A_IW_20181206T161259_DVP_RTC30_G_gpuned_4BED.zip:   0%|          | 0/474299135 [00:00<?, ?it/s]"
      ]
     },
     "metadata": {},
     "output_type": "display_data"
    },
    {
     "name": "stdout",
     "output_type": "stream",
     "text": [
      "Current job: 80/87, time elapsed: 26.12 min, time remaining: 0.77 min\n"
     ]
    },
    {
     "data": {
      "application/json": {
       "ascii": false,
       "bar_format": null,
       "colour": null,
       "elapsed": 0.019442081451416016,
       "initial": 0,
       "n": 0,
       "ncols": null,
       "nrows": null,
       "postfix": null,
       "prefix": "S1B_IW_20181206T033526_DVP_RTC30_G_gpuned_3ADC.zip",
       "rate": null,
       "total": 506663783,
       "unit": "it",
       "unit_divisor": 1000,
       "unit_scale": false
      },
      "application/vnd.jupyter.widget-view+json": {
       "model_id": "dd8b347c27254738b58ace6b1ef79d60",
       "version_major": 2,
       "version_minor": 0
      },
      "text/plain": [
       "S1B_IW_20181206T033526_DVP_RTC30_G_gpuned_3ADC.zip:   0%|          | 0/506663783 [00:00<?, ?it/s]"
      ]
     },
     "metadata": {},
     "output_type": "display_data"
    },
    {
     "data": {
      "application/json": {
       "ascii": false,
       "bar_format": null,
       "colour": null,
       "elapsed": 0.019926786422729492,
       "initial": 0,
       "n": 0,
       "ncols": null,
       "nrows": null,
       "postfix": null,
       "prefix": "S1A_IW_20181216T162920_DVP_RTC30_G_gpuned_D79F.zip",
       "rate": null,
       "total": 470941128,
       "unit": "it",
       "unit_divisor": 1000,
       "unit_scale": false
      },
      "application/vnd.jupyter.widget-view+json": {
       "model_id": "b14ad2de027b4135a07892b3d201e2b2",
       "version_major": 2,
       "version_minor": 0
      },
      "text/plain": [
       "S1A_IW_20181216T162920_DVP_RTC30_G_gpuned_D79F.zip:   0%|          | 0/470941128 [00:00<?, ?it/s]"
      ]
     },
     "metadata": {},
     "output_type": "display_data"
    },
    {
     "data": {
      "application/json": {
       "ascii": false,
       "bar_format": null,
       "colour": null,
       "elapsed": 0.019475698471069336,
       "initial": 0,
       "n": 0,
       "ncols": null,
       "nrows": null,
       "postfix": null,
       "prefix": "S1A_IW_20181216T162946_DVP_RTC30_G_gpuned_9C62.zip",
       "rate": null,
       "total": 454814632,
       "unit": "it",
       "unit_divisor": 1000,
       "unit_scale": false
      },
      "application/vnd.jupyter.widget-view+json": {
       "model_id": "31799be2221a48568e926184d4806b82",
       "version_major": 2,
       "version_minor": 0
      },
      "text/plain": [
       "S1A_IW_20181216T162946_DVP_RTC30_G_gpuned_9C62.zip:   0%|          | 0/454814632 [00:00<?, ?it/s]"
      ]
     },
     "metadata": {},
     "output_type": "display_data"
    },
    {
     "data": {
      "application/json": {
       "ascii": false,
       "bar_format": null,
       "colour": null,
       "elapsed": 0.01975846290588379,
       "initial": 0,
       "n": 0,
       "ncols": null,
       "nrows": null,
       "postfix": null,
       "prefix": "S1B_IW_20181218T033525_DVP_RTC30_G_gpuned_4E5A.zip",
       "rate": null,
       "total": 506653642,
       "unit": "it",
       "unit_divisor": 1000,
       "unit_scale": false
      },
      "application/vnd.jupyter.widget-view+json": {
       "model_id": "82a8545b658c4da397172efdf2da037b",
       "version_major": 2,
       "version_minor": 0
      },
      "text/plain": [
       "S1B_IW_20181218T033525_DVP_RTC30_G_gpuned_4E5A.zip:   0%|          | 0/506653642 [00:00<?, ?it/s]"
      ]
     },
     "metadata": {},
     "output_type": "display_data"
    },
    {
     "data": {
      "application/json": {
       "ascii": false,
       "bar_format": null,
       "colour": null,
       "elapsed": 0.01954030990600586,
       "initial": 0,
       "n": 0,
       "ncols": null,
       "nrows": null,
       "postfix": null,
       "prefix": "S1A_IW_20181218T161258_DVP_RTC30_G_gpuned_41AD.zip",
       "rate": null,
       "total": 474377764,
       "unit": "it",
       "unit_divisor": 1000,
       "unit_scale": false
      },
      "application/vnd.jupyter.widget-view+json": {
       "model_id": "786354baccdb4a26bd41ae7e398edad6",
       "version_major": 2,
       "version_minor": 0
      },
      "text/plain": [
       "S1A_IW_20181218T161258_DVP_RTC30_G_gpuned_41AD.zip:   0%|          | 0/474377764 [00:00<?, ?it/s]"
      ]
     },
     "metadata": {},
     "output_type": "display_data"
    },
    {
     "data": {
      "application/json": {
       "ascii": false,
       "bar_format": null,
       "colour": null,
       "elapsed": 0.01954054832458496,
       "initial": 0,
       "n": 0,
       "ncols": null,
       "nrows": null,
       "postfix": null,
       "prefix": "S1A_IW_20181228T162919_DVP_RTC30_G_gpuned_089F.zip",
       "rate": null,
       "total": 470960571,
       "unit": "it",
       "unit_divisor": 1000,
       "unit_scale": false
      },
      "application/vnd.jupyter.widget-view+json": {
       "model_id": "871c7528ed924409a9f55197b2b6d557",
       "version_major": 2,
       "version_minor": 0
      },
      "text/plain": [
       "S1A_IW_20181228T162919_DVP_RTC30_G_gpuned_089F.zip:   0%|          | 0/470960571 [00:00<?, ?it/s]"
      ]
     },
     "metadata": {},
     "output_type": "display_data"
    },
    {
     "data": {
      "application/json": {
       "ascii": false,
       "bar_format": null,
       "colour": null,
       "elapsed": 0.02072596549987793,
       "initial": 0,
       "n": 0,
       "ncols": null,
       "nrows": null,
       "postfix": null,
       "prefix": "S1A_IW_20181228T162945_DVP_RTC30_G_gpuned_61DC.zip",
       "rate": null,
       "total": 452912823,
       "unit": "it",
       "unit_divisor": 1000,
       "unit_scale": false
      },
      "application/vnd.jupyter.widget-view+json": {
       "model_id": "28c624a1b0a94f11b04253e9d11fd746",
       "version_major": 2,
       "version_minor": 0
      },
      "text/plain": [
       "S1A_IW_20181228T162945_DVP_RTC30_G_gpuned_61DC.zip:   0%|          | 0/452912823 [00:00<?, ?it/s]"
      ]
     },
     "metadata": {},
     "output_type": "display_data"
    },
    {
     "data": {
      "application/json": {
       "ascii": false,
       "bar_format": null,
       "colour": null,
       "elapsed": 0.019405126571655273,
       "initial": 0,
       "n": 0,
       "ncols": null,
       "nrows": null,
       "postfix": null,
       "prefix": "S1B_IW_20181230T033525_DVP_RTC30_G_gpuned_5FA2.zip",
       "rate": null,
       "total": 506287031,
       "unit": "it",
       "unit_divisor": 1000,
       "unit_scale": false
      },
      "application/vnd.jupyter.widget-view+json": {
       "model_id": "bd74214daa274a58bdf4a03c23c5eebb",
       "version_major": 2,
       "version_minor": 0
      },
      "text/plain": [
       "S1B_IW_20181230T033525_DVP_RTC30_G_gpuned_5FA2.zip:   0%|          | 0/506287031 [00:00<?, ?it/s]"
      ]
     },
     "metadata": {},
     "output_type": "display_data"
    },
    {
     "data": {
      "application/json": {
       "ascii": false,
       "bar_format": null,
       "colour": null,
       "elapsed": 0.026390552520751953,
       "initial": 0,
       "n": 0,
       "ncols": null,
       "nrows": null,
       "postfix": null,
       "prefix": "S1A_IW_20181230T161258_DVP_RTC30_G_gpuned_C4A2.zip",
       "rate": null,
       "total": 456068460,
       "unit": "it",
       "unit_divisor": 1000,
       "unit_scale": false
      },
      "application/vnd.jupyter.widget-view+json": {
       "model_id": "d9ef2fa17bed469d9e66f96474aec95f",
       "version_major": 2,
       "version_minor": 0
      },
      "text/plain": [
       "S1A_IW_20181230T161258_DVP_RTC30_G_gpuned_C4A2.zip:   0%|          | 0/456068460 [00:00<?, ?it/s]"
      ]
     },
     "metadata": {},
     "output_type": "display_data"
    }
   ],
   "source": [
    "# Get the list of jobs to download\n",
    "usegranules = [i.properties['sceneName'] for i in results]\n",
    "joblist = hyp3.find_jobs()\n",
    "joblist = joblist.filter_jobs(succeeded=True,include_expired=False)\n",
    "joblen = len(results)-1\n",
    "\n",
    "t = time.time()\n",
    "count = 0\n",
    "for i,job in enumerate(joblist):\n",
    "\n",
    "    jobname = job.job_parameters['granules'][0]\n",
    "\n",
    "    if jobname in usegranules:\n",
    "        count += 1\n",
    "        usegranules.remove(jobname)\n",
    "        if count%10 ==0:\n",
    "            te = time.time()-t\n",
    "            print(f'Current job: {count}/{joblen}, time elapsed: {te/60:.2f} min, time remaining: {(te/(i+1)*(joblen-count))/60:.2f} min')\n",
    "        job.download_files(download_path)\n",
    "        for pol in pols:\n",
    "            # print(pol)\n",
    "            extracttif(download_path,products_path,pol=pol,convert=False)\n",
    "            if autoEPSG:\n",
    "                if (count == 1) and (pol == pols[0]):\n",
    "                    fileg = glob.glob(f'{str(products_path)}/*.tif')\n",
    "                    EPSGn = getEPSG(fileg[0])\n",
    "                    print(getEPSG(fileg[0]))\n",
    "            # fulltif = glob.glob(f'{str(products_path)}/*{pol}*')\n",
    "            reproject(WTKstr,EPSGn,products_path,f'{str(clipped_path)}/{pol}',convert_to_db=True)\n",
    "            os.system(f'rm {str(products_path)}/*.tif')\n",
    "            time.sleep(3)\n",
    "        os.system(f'rm {str(download_path)}/*.zip')\n",
    "        \n",
    "if len(usegranules)>0:\n",
    "    print('WARNING: NOT ALL GRANULES USED')"
   ]
  },
  {
   "cell_type": "markdown",
   "id": "4e20120b-e917-4b01-ae2a-7c77090ed61b",
   "metadata": {
    "tags": []
   },
   "source": [
    "EPSG number records:\n",
    "\n",
    "* Denali_h: 32605?\n",
    "* Harding: 32605\n",
    "* Juneau: 32608"
   ]
  },
  {
   "cell_type": "markdown",
   "id": "4352c4ae-76fa-4b07-8ae1-bf172c380f7c",
   "metadata": {},
   "source": [
    "## Create some metadata\n",
    "\n",
    "I want: a set of lists that have (with each proper corresponding entry), image name (granule I guess), date (date will be used to match), orbit pf, and orbit unique pf number"
   ]
  },
  {
   "cell_type": "code",
   "execution_count": 11,
   "id": "b7c24847-5441-40fd-8d43-04a23067a5ac",
   "metadata": {},
   "outputs": [],
   "source": [
    "def getSARdate(file,returndatestring=False):\n",
    "    '''Obtains the date of the start of a SAR acquisition, returns as a datetime\n",
    "    or a string.'''\n",
    "\n",
    "    file = str(file)\n",
    "    query = \"_????????T??????_\"\n",
    "    seqquery = str(query)\n",
    "    seqquery.replace('?','[0-9]')\n",
    "\n",
    "    substrings = fnmatch.filter((file[i:i+len(query)] for i in range(len(file) - len(query))), seqquery)\n",
    "    dtstr = substrings[0][1:-1].split('T')\n",
    "    \n",
    "    dtint = [dtstr[0][0:4],dtstr[0][4:6],dtstr[0][6:8],dtstr[1][0:2],dtstr[1][2:4],dtstr[1][4:6]]\n",
    "    dtint = [int(i)for i in dtint]\n",
    "    dtimg = datetime(dtint[0],dtint[1],dtint[2],dtint[3],dtint[4],dtint[5])\n",
    "\n",
    "    if returndatestring:\n",
    "        dtstr = dtstr[0]+dtstr[1]\n",
    "        return dtimg,dtstr\n",
    "    else:\n",
    "        return dtimg"
   ]
  },
  {
   "cell_type": "code",
   "execution_count": 12,
   "id": "be29c8fa-4eff-4e46-a7de-062a1db7aacc",
   "metadata": {},
   "outputs": [
    {
     "name": "stderr",
     "output_type": "stream",
     "text": [
      "/home/jovyan/.local/envs/rtc_analysis/lib/python3.9/site-packages/numpy/lib/npyio.py:501: VisibleDeprecationWarning: Creating an ndarray from ragged nested sequences (which is a list-or-tuple of lists-or-tuples-or ndarrays with different lengths or shapes) is deprecated. If you meant to do this, you must specify 'dtype=object' when creating the ndarray.\n",
      "  arr = np.asanyarray(arr)\n"
     ]
    }
   ],
   "source": [
    "#NOTE: Results must already be defined and refined\n",
    "\n",
    "for usepol in pols:\n",
    "\n",
    "    mnamelist = []\n",
    "    mdatelist = []\n",
    "    mpflist = []\n",
    "    mpfulist = []\n",
    "\n",
    "    files = (clipped_path/usepol).glob('*.tif')\n",
    "    filelist = []\n",
    "    pdatelist = []\n",
    "    pnamelist = []\n",
    "    # print(results)\n",
    "\n",
    "    for f in files:\n",
    "        # print(f)\n",
    "        pdatelist.append(getSARdate(f))\n",
    "        filelist.append(f)\n",
    "\n",
    "    # print(pdatelist)\n",
    "    pdatelist=np.array(pdatelist)\n",
    "    filelist = np.array(filelist)\n",
    "    # print(len(products))\n",
    "    # print(len(pdatelist))\n",
    "    for res in results:\n",
    "        res = res.properties\n",
    "        rdate = datetime.strptime(res['startTime'],'%Y-%m-%dT%H:%M:%S.%fZ')\n",
    "        pind = np.where(rdate==pdatelist)\n",
    "        # print(pind)\n",
    "        if len(pind)==1:\n",
    "            pind = pind[0][0]\n",
    "            pnamelist.append(str(filelist[pind]))\n",
    "            rpf = str(res['pathNumber'])+'-'+str(res['frameNumber'])\n",
    "            mpflist.append(rpf)\n",
    "            mnamelist.append(res['sceneName'])\n",
    "            mdatelist.append(rdate)\n",
    "        else:\n",
    "            print('WARNING: Missing product')\n",
    "            print(res['sceneName'])\n",
    "\n",
    "    pfunique = np.unique(mpflist)\n",
    "    mpfulist = [np.where(pfunique==i)[0][0] for i in mpflist]\n",
    "    arraykey = ['arraykey','pnamelist','mnamelist','mdatelist','mpflist','mpfulist']\n",
    "\n",
    "    arraykey = np.asanyarray(arraykey)\n",
    "    pnamelist = np.array(pnamelist)\n",
    "    mnamelist = np.array(mnamelist)\n",
    "    mdatelist = np.array(mdatelist)\n",
    "    mpflist = np.array(mpflist)\n",
    "    mpfulist = np.array(mpfulist)\n",
    "\n",
    "    mdatelist,pnamelist,mnamelist,mpflist,mpfulist = zip(*sorted(zip(mdatelist,pnamelist,mnamelist,mpflist,mpfulist)))\n",
    "\n",
    "    np.save(f'{str(data_dir)}/imgmeta_{usepol}.npy',(arraykey,pnamelist,mnamelist,mdatelist,mpflist,mpfulist))"
   ]
  },
  {
   "cell_type": "code",
   "execution_count": null,
   "id": "c31620ce-dcc0-45d9-915c-602693d78d24",
   "metadata": {},
   "outputs": [],
   "source": []
  }
 ],
 "metadata": {
  "kernelspec": {
   "display_name": "rtc_analysis",
   "language": "python",
   "name": "conda-env-.local-rtc_analysis-py"
  },
  "language_info": {
   "codemirror_mode": {
    "name": "ipython",
    "version": 3
   },
   "file_extension": ".py",
   "mimetype": "text/x-python",
   "name": "python",
   "nbconvert_exporter": "python",
   "pygments_lexer": "ipython3",
   "version": "3.9.13"
  }
 },
 "nbformat": 4,
 "nbformat_minor": 5
}
