{
 "cells": [
  {
   "cell_type": "markdown",
   "id": "f629ba05-7fa9-449b-887c-eaa4f83b33c7",
   "metadata": {},
   "source": [
    "## Acquire images\n",
    "\n",
    "This notebook will:\n",
    "\n",
    "* Section 1: For a given bounding box and year, find all SAR images in that region. Get some stats on them\n",
    "* Section 2: Filter out images from scenes that don't have sufficient preceding winter imagery for melt detection\n",
    "* Section 3: Run ASF Hyp3 RTC processing\n",
    "* Section 4: Download the data. Reproject it immedately and save only the smaller image. Does that work? I thought I would have to have EPSG vals? This will have to get figured out"
   ]
  },
  {
   "cell_type": "markdown",
   "id": "9a48161b-eb88-4715-a5a0-a549fbc9624d",
   "metadata": {},
   "source": [
    "### Preamble\n",
    "Prepare to do stuff"
   ]
  },
  {
   "cell_type": "code",
   "execution_count": 21,
   "id": "31ab6cac-f1dc-4e1d-8ee3-f35edcd60941",
   "metadata": {},
   "outputs": [
    {
     "data": {
      "application/vnd.jupyter.widget-view+json": {
       "model_id": "c98127dcd2c442369d710913febeb3ae",
       "version_major": 2,
       "version_minor": 0
      },
      "text/plain": [
       "URLWidget()"
      ]
     },
     "metadata": {},
     "output_type": "display_data"
    }
   ],
   "source": [
    "import url_widget as url_w\n",
    "notebookUrl = url_w.URLWidget()\n",
    "display(notebookUrl)\n",
    "\n",
    "notebookUrl = notebookUrl.value\n",
    "user = !echo $JUPYTERHUB_USER\n",
    "env = !echo $CONDA_PREFIX\n",
    "\n",
    "#capture\n",
    "from datetime import datetime\n",
    "import glob\n",
    "import json # for loads\n",
    "import os\n",
    "from pathlib import Path\n",
    "import pytz\n",
    "import re\n",
    "import shutil\n",
    "import asf_search as asf\n",
    "from zipfile import ZipFile\n",
    "import time\n",
    "import fnmatch\n",
    "\n",
    "from matplotlib import pyplot as plt\n",
    "#Writing Support Functions:\n",
    "\n",
    "import numpy as np\n",
    "from osgeo import gdal,osr\n",
    "\n",
    "from IPython.display import HTML, display, clear_output, Markdown\n",
    "    \n",
    "from hyp3_sdk import Batch, HyP3\n",
    "\n",
    "import opensarlab_lib as asfn"
   ]
  },
  {
   "cell_type": "code",
   "execution_count": 17,
   "id": "0df7713c-ce0f-4dbd-a83a-1243c2411ab1",
   "metadata": {
    "tags": []
   },
   "outputs": [
    {
     "name": "stdout",
     "output_type": "stream",
     "text": [
      "analysis_directory: /home/jovyan/GlacierSARdata/Bagley/2018\n",
      "/home/jovyan/GlacierSARdata/Bagley/2018/rtc_download\n",
      "/home/jovyan/GlacierSARdata/Bagley/2018/rtc_products\n",
      "/home/jovyan/GlacierSARdata/Bagley/2018/rtc_clipped\n"
     ]
    }
   ],
   "source": [
    "##NAME PROJECT###\n",
    "projdir = Path.home()/\"GlacierSARdata\"\n",
    "projname = 'Bagley'\n",
    "year = 2018\n",
    "data_dir=Path(f'{projdir}/{projname}/{str(year)}')\n",
    "pols = ['VV','VH']\n",
    "\n",
    "# Setting Paths\n",
    "analysis_directory = Path.cwd()/data_dir\n",
    "print(f\"analysis_directory: {analysis_directory}\")\n",
    "\n",
    "download_path = analysis_directory/\"rtc_download\"\n",
    "# download_path.mkdir()\n",
    "products_path = analysis_directory/\"rtc_products\"\n",
    "# products_path.mkdir()\n",
    "clipped_path = analysis_directory/\"rtc_clipped\"\n",
    "\n",
    "print(download_path)\n",
    "print(products_path)\n",
    "print(clipped_path)\n",
    "\n",
    "os.makedirs(data_dir,exist_ok=True)\n",
    "os.makedirs(download_path,exist_ok=True)\n",
    "os.makedirs(products_path,exist_ok=True)\n",
    "os.makedirs(analysis_directory/\"figures\",exist_ok=True)\n",
    "os.makedirs(clipped_path,exist_ok=True)\n",
    "for pol in pols:\n",
    "    os.makedirs(clipped_path/pol,exist_ok=True)\n",
    "\n",
    "# print(os.path.exists(data_dir))\n",
    "\n",
    "WTKstr = None\n",
    "if projname==\"Wrangell\": WTKstr='POLYGON((-144.5124 61.8108,-143.2512 61.8108,-143.2512 62.1938,-144.5124 62.1938,-144.5124 61.8108))' #Mt Wrangell\n",
    "if projname==\"Denali_h\": WTKstr='POLYGON((-151.6946 62.7583,-150.1696 62.7583,-150.1696 63.2668,-151.6946 63.2668,-151.6946 62.7583))' #Denali_h (mostly higher elevations)\n",
    "if projname==\"Harding\": WTKstr='POLYGON((-150.6448 59.6467,-149.5491 59.6467,-149.5491 60.2703,-150.6448 60.2703,-150.6448 59.6467))' #Harding\n",
    "if projname==\"Juneau\": WTKstr='POLYGON((-134.7796 58.3698,-133.5 58.3698,-133.5 59.109,-134.7796 59.109,-134.7796 58.3698))' #Juneau\n",
    "if projname==\"Bagley\": WTKstr='POLYGON((-140.9179 59.7892,-138.4877 59.7892,-138.4877 60.8884,-140.9179 60.8884,-140.9179 59.7892))' #Bagley"
   ]
  },
  {
   "cell_type": "code",
   "execution_count": 3,
   "id": "247df810-10d2-4d18-b9b4-1ada4ab5c4f0",
   "metadata": {
    "tags": []
   },
   "outputs": [],
   "source": [
    "# def timediff(time1,time2,form='seconds'):\n",
    "#     '''time difference between time2 and time1 expressed as either days or seconds'''\n",
    "#     # dd = 1\n",
    "#     # if time1>time2:\n",
    "#     #     dd=1\n",
    "#     diff = time2-time1\n",
    "#     if form=='seconds':\n",
    "#         diff = diff.seconds+diff.days*86400\n",
    "#     elif form=='days':\n",
    "#         diff = diff.seconds/86400+diff.days\n",
    "#     return diff"
   ]
  },
  {
   "cell_type": "markdown",
   "id": "2088a5e7-6ded-4a0f-bfeb-cd224b77e154",
   "metadata": {
    "tags": []
   },
   "source": [
    "## Find SAR Images\n",
    "\n",
    "Find the SAR images, run some statistics on their frequency, and queue them for Hyp3 processing\n",
    "\n",
    "* stuff\n",
    "* other stuff"
   ]
  },
  {
   "cell_type": "code",
   "execution_count": 17,
   "id": "64303cc7-a5b2-44ac-b9cf-edf089f1b5b8",
   "metadata": {
    "tags": []
   },
   "outputs": [],
   "source": [
    "# WTKstr = None\n",
    "# if projname==\"Wrangell\": WTKstr='POLYGON((-144.5124 61.8108,-143.2512 61.8108,-143.2512 62.1938,-144.5124 62.1938,-144.5124 61.8108))' #Mt Wrangell\n",
    "# if projname==\"Denali_h\": WTKstr='POLYGON((-151.6946 62.7583,-150.1696 62.7583,-150.1696 63.2668,-151.6946 63.2668,-151.6946 62.7583))' #Denali_h (mostly higher elevations)\n",
    "# if projname==\"Harding\": WTKstr='POLYGON((-150.6448 59.6467,-149.5491 59.6467,-149.5491 60.2703,-150.6448 60.2703,-150.6448 59.6467))' #Harding\n",
    "# if projname==\"Juneau\": WTKstr='POLYGON((-134.7796 58.3698,-133.5 58.3698,-133.5 59.109,-134.7796 59.109,-134.7796 58.3698))' #Juneau\n",
    "\n",
    "#testpolygon = POLYGON((-143.1356 61.7756,-143.3698 61.7793,-143.5279 61.7044,-143.3824 61.6052,-143.0614 61.4737,-142.9854 61.4144,-142.804 61.4292,-142.7358 61.5912,-142.5978 61.6494,-142.6707 61.7523,-142.9699 61.7839,-143.1356 61.7756))\n",
    "# WTKstr='POLYGON((-143.4858 61.4239,-142.5307 61.4239,-142.5307 61.7757,-143.4858 61.7757,-143.4858 61.4239))' #Kennicott\n",
    "# testWTK='POLYGON((-134.5463 58.5889,-133.8663 58.5889,-133.8663 58.7656,-134.5463 58.7656,-134.5463 58.5889))' #SE AK icefield\n",
    "# testWTK='POLYGON((-18.2664 63.9706,-15.2442 63.9706,-15.2442 64.9461,-18.2664 64.9461,-18.2664 63.9706))' #iceland\n",
    "# testWTK='POLYGON((15.123 78.0197,16.9688 78.0197,16.9688 78.2449,15.123 78.2449,15.123 78.0197))' #svalbard\n",
    "# testWTK = 'POLYGON((-140.264 60.3786,-140.0853 60.3786,-140.0853 60.4539,-140.264 60.4539,-140.264 60.3786))'\n",
    "# testWTK='POLYGON((-50.0733 70.6347,-47.6859 70.6347,-47.6859 71.1109,-50.0733 71.1109,-50.0733 70.6347))' #west greenland"
   ]
  },
  {
   "cell_type": "code",
   "execution_count": 3,
   "id": "526afff1-6352-472c-b230-21778230c6b8",
   "metadata": {
    "tags": []
   },
   "outputs": [],
   "source": [
    "#funcs for this kind of thing:\n",
    "\n",
    "def timediff(time1,time2,form='seconds'):\n",
    "    '''time difference between time2 and time1 expressed as either days or seconds'''\n",
    "    # dd = 1\n",
    "    # if time1>time2:\n",
    "    #     dd=1\n",
    "    diff = time2-time1\n",
    "    if form=='seconds':\n",
    "        diff = diff.seconds+diff.days*86400\n",
    "    elif form=='days':\n",
    "        diff = diff.seconds/86400+diff.days\n",
    "    return diff\n",
    "\n",
    "def getasfresults(WTKstr,year,trimresults=True,winterN=4,showplots=False,showstats=False):\n",
    "    \"\"\"trim results removes images if there are less than winterN number of winter scenes to establish the baseline\"\"\"\n",
    "    results = asf.geo_search(platform=[asf.PLATFORM.SENTINEL1], intersectsWith=WTKstr, maxResults=1000,start=f'{str(year)}-01-01',\n",
    "                         end=f'{str(year+1)}-01-01',processingLevel='SLC')\n",
    "\n",
    "    datelist = []\n",
    "    pflist = [] #path-frame list\n",
    "    for res in results:\n",
    "        res = res.properties\n",
    "        # print(res['startTime'])\n",
    "        rdate = datetime.strptime(res['startTime'],'%Y-%m-%dT%H:%M:%S.%fZ')\n",
    "        rpf = str(res['pathNumber'])+'-'+str(res['frameNumber'])\n",
    "        # print(rdate)\n",
    "        res['datetime']=rdate\n",
    "        res['pfval'] = rpf\n",
    "        datelist.append(rdate)\n",
    "        pflist.append(rpf)\n",
    "\n",
    "\n",
    "    pfunique = np.unique(pflist)\n",
    "    pfvals = pflist\n",
    "    pflist = [np.where(pfunique==i)[0][0] for i in pflist]\n",
    "    \n",
    "    if showplots==True:\n",
    "        plt.figure()\n",
    "        plt.plot(datelist,pflist,'.',markersize=12)\n",
    "        \n",
    "    if trimresults==True:\n",
    "        wstart = datetime(year,1,1,0,0,0)\n",
    "        wend = datetime(year,4,1,1,0,0,0)\n",
    "        #result2 = results\n",
    "        pfremove=[]\n",
    "        trem = 0\n",
    "        #identify path-frames that do not meet requirements\n",
    "        for pf in pfunique:\n",
    "            eles = [i for i in results if i.properties['pfval']==pf]\n",
    "            datelist = np.array([i.properties['datetime'] for i in eles])\n",
    "            dl2 = datelist[datelist > wstart]\n",
    "            dl2 = dl2[dl2 < wend]\n",
    "            if len(dl2)<winterN:\n",
    "                pfremove.append(pf)\n",
    "                trem += len(datelist)\n",
    "\n",
    "        #remove images from those path-frames\n",
    "        for res in results:\n",
    "            if res.properties['pfval'] in pfremove:\n",
    "                results.remove(res)\n",
    "\n",
    "        print(f'total removed: {trem}')\n",
    "        # print(pfremove)\n",
    "        \n",
    "        #now plot again:\n",
    "        datelist = [i.properties['datetime'] for i in results]\n",
    "        pflist = [i.properties['pfval'] for i in results]\n",
    "        pfunique = np.unique(pflist)\n",
    "        pflist = [np.where(pfunique==i)[0][0] for i in pflist]\n",
    "\n",
    "        if showplots==True:\n",
    "            plt.figure()\n",
    "            plt.plot(datelist,pflist,'.',markersize=12)\n",
    "        \n",
    "    if showstats==True:\n",
    "        dlsort = [i for i in datelist]\n",
    "        dlsort.sort()\n",
    "        dldelta = [timediff(dlsort[i],dlsort[i+1],form='days') for i in range(len(dlsort)-1)]\n",
    "        dldelta = np.array(dldelta)\n",
    "\n",
    "        print('Acquisition stats')\n",
    "        print(f'Number of acquisitions:       {len(dldelta)+1}')\n",
    "        print(f'Number of images >1min apart: {len(dldelta[dldelta>1/1440])+1}\\n')\n",
    "        print(f'Mean days apart:   {np.mean(dldelta):.3f}')\n",
    "        print(f'Mean days >1min:   {np.mean(dldelta[dldelta>1/1440]):.3f}')\n",
    "        print(f'Median days apart: {np.median(dldelta):.3f}')\n",
    "        print(f'Median days >1min: {np.median(dldelta[dldelta>1/1440]):.3f}')\n",
    "        print(f'Stdev days apart:  {np.std(dldelta):.3f}')\n",
    "        print(f'Longest gap:       {np.max(dldelta):.3f}')\n",
    "        print('Note: these are over the whole area, not necessarily by pixel')\n",
    "        \n",
    "    return results"
   ]
  },
  {
   "cell_type": "markdown",
   "id": "0cca386a-21e6-4945-a9ad-e39c4b63c839",
   "metadata": {
    "tags": []
   },
   "source": [
    "## Do Hyp3 Processing\n",
    "\n",
    "I need to:\n",
    "\n",
    "1. Identify all the images you want DONE\n",
    "2. Check if any of those are already RTC processed (not expired)\n",
    "3. Process all the remaining jobs\n",
    "4. Make a hyp3 object for the full list of jobs, with those done via new process and those done via old process\n",
    "5. download, extract, convert, and clip from those jobs"
   ]
  },
  {
   "cell_type": "code",
   "execution_count": 4,
   "id": "26b64e2b-2741-4190-8970-2b83f00b1470",
   "metadata": {
    "tags": []
   },
   "outputs": [
    {
     "name": "stdin",
     "output_type": "stream",
     "text": [
      "NASA Earthdata Login username:  acjohnson16\n",
      "NASA Earthdata Login password:  ········\n"
     ]
    }
   ],
   "source": [
    "hyp3 = HyP3(prompt=True)"
   ]
  },
  {
   "cell_type": "code",
   "execution_count": 5,
   "id": "cad2e0f1-1d9c-4233-b10b-b3e339aacdf4",
   "metadata": {
    "tags": []
   },
   "outputs": [
    {
     "name": "stdout",
     "output_type": "stream",
     "text": [
      "4463 HyP3 Jobs: 4462 succeeded, 1 failed, 0 running, 0 pending.\n"
     ]
    }
   ],
   "source": [
    "readyproducts = hyp3.find_jobs()\n",
    "print(readyproducts)"
   ]
  },
  {
   "cell_type": "code",
   "execution_count": 18,
   "id": "67136dac-8ed5-444c-94c3-e88065fc8b16",
   "metadata": {
    "tags": []
   },
   "outputs": [
    {
     "name": "stdout",
     "output_type": "stream",
     "text": [
      "Bagley: 2018\n"
     ]
    },
    {
     "name": "stderr",
     "output_type": "stream",
     "text": [
      "/home/jovyan/.local/envs/rtc_analysis/lib/python3.9/site-packages/dateparser/date_parser.py:35: PytzUsageWarning: The localize method is no longer necessary, as this time zone supports the fold attribute (PEP 495). For more details on migrating to a PEP 495-compliant implementation, see https://pytz-deprecation-shim.readthedocs.io/en/latest/migration.html\n",
      "  date_obj = stz.localize(date_obj)\n"
     ]
    },
    {
     "name": "stdout",
     "output_type": "stream",
     "text": [
      "total removed: 0\n",
      "Acquisition stats\n",
      "Number of acquisitions:       182\n",
      "Number of images >1min apart: 106\n",
      "\n",
      "Mean days apart:   1.989\n",
      "Mean days >1min:   3.428\n",
      "Median days apart: 0.525\n",
      "Median days >1min: 4.012\n",
      "Stdev days apart:  2.498\n",
      "Longest gap:       7.988\n",
      "Note: these are over the whole area, not necessarily by pixel\n",
      "total removed: 0\n",
      "jobs already ready: 182\n",
      "Number of jobs to do: 0\n"
     ]
    },
    {
     "data": {
      "image/png": "[encoded data removed]",
      "text/plain": [
       "<Figure size 640x480 with 1 Axes>"
      ]
     },
     "metadata": {},
     "output_type": "display_data"
    },
    {
     "data": {
      "image/png": "[encoded data removed]",
      "text/plain": [
       "<Figure size 640x480 with 1 Axes>"
      ]
     },
     "metadata": {},
     "output_type": "display_data"
    }
   ],
   "source": [
    "#Get_Data\n",
    "\n",
    "print(f'{projname}: {year}')\n",
    "readyproducts = hyp3.find_jobs()\n",
    "readyproducts = readyproducts.filter_jobs(succeeded=True,include_expired=False)\n",
    "readyprodnames = [i.job_parameters['granules'][0] for i in readyproducts]\n",
    "\n",
    "results = getasfresults(WTKstr,year,showplots=True,showstats=True)\n",
    "dojobs = getasfresults(WTKstr,year)\n",
    "resultnames = [i.properties['sceneName'] for i in results]\n",
    "\n",
    "remcount = 0\n",
    "for i,job in enumerate(results):\n",
    "    jobscene = job.properties['sceneName']\n",
    "    dojobnames = np.array([i.properties['sceneName'] for i in dojobs])\n",
    "    job = dojobs[np.where(dojobnames==jobscene)[0][0]]\n",
    "    # othercount += 1\n",
    "    if job.properties['sceneName'] in readyprodnames:\n",
    "        # print(i)\n",
    "        dojobs.remove(job)\n",
    "        remcount += 1\n",
    "        \n",
    "\n",
    "print(f'jobs already ready: {remcount}')\n",
    "print(f'Number of jobs to do: {len(dojobs)}')"
   ]
  },
  {
   "cell_type": "code",
   "execution_count": 30,
   "id": "75fe789b-7e1c-4216-9ad0-b6334fc0e76f",
   "metadata": {},
   "outputs": [
    {
     "name": "stdout",
     "output_type": "stream",
     "text": [
      "182 HyP3 Jobs: 0 succeeded, 0 failed, 0 running, 182 pending.\n",
      "{'max_jobs_per_month': 1000, 'remaining': 202}\n"
     ]
    }
   ],
   "source": [
    "#Submit jobs for RTC processing\n",
    "\n",
    "projectname = f'{projname}_{year%1000}'\n",
    "\n",
    "granules = [i.properties['sceneName'] for i in dojobs]\n",
    "\n",
    "submitjobs = True\n",
    "if submitjobs:\n",
    "    rtc_jobs = Batch()\n",
    "    for g in granules:\n",
    "        rtc_jobs += hyp3.submit_rtc_job(g, name=projectname)\n",
    "    print(rtc_jobs)\n",
    "else:\n",
    "    print(\"Note: no job submitted as submitjobs is currently 'False'\")\n",
    "print(hyp3.my_info()['quota'])"
   ]
  },
  {
   "cell_type": "code",
   "execution_count": 29,
   "id": "98f3b53b-3bb1-4bee-8524-4f010ab4a6ea",
   "metadata": {},
   "outputs": [
    {
     "name": "stdout",
     "output_type": "stream",
     "text": [
      "{'max_jobs_per_month': 1000, 'remaining': 384}\n"
     ]
    }
   ],
   "source": [
    "# print(hyp3.my_info()['quota'])"
   ]
  },
  {
   "cell_type": "code",
   "execution_count": 16,
   "id": "9f55a9b9-fb59-4a52-b208-69c49314862a",
   "metadata": {},
   "outputs": [],
   "source": [
    "#do failed jobs if necessary (set to True)\n",
    "\n",
    "dofailedjob = False\n",
    "if dofailedjob:\n",
    "    hyp3.submit_rtc_job('S1A_IW_SLC__1SDV_20210701T155634_20210701T155701_038586_048D97_C318', name = projectname)"
   ]
  },
  {
   "cell_type": "code",
   "execution_count": 8,
   "id": "e924d400-995f-4609-bbb2-2bb166877dea",
   "metadata": {},
   "outputs": [
    {
     "name": "stdout",
     "output_type": "stream",
     "text": [
      "{'max_jobs_per_month': 1000, 'remaining': 742}\n"
     ]
    }
   ],
   "source": [
    "print(hyp3.my_info()['quota'])"
   ]
  },
  {
   "cell_type": "markdown",
   "id": "6047bf99-395d-4e86-931d-b82820a150f3",
   "metadata": {
    "tags": []
   },
   "source": [
    "## Utility Functions\n",
    "\n",
    "download images\\\n",
    "extract images\\\n",
    "reproject and clip to wtk\\\n",
    "convert to db\\\n",
    "do this sequentially"
   ]
  },
  {
   "cell_type": "code",
   "execution_count": 7,
   "id": "f24913c5-3258-48a6-b81d-29e5fe241e33",
   "metadata": {
    "tags": []
   },
   "outputs": [],
   "source": [
    "#convert utility\n",
    "def converttodb(file):\n",
    "    ds = gdal.Open(file, gdal.GA_Update)\n",
    "    data = ds.ReadAsArray()\n",
    "\n",
    "    data[data<1e-6]=1e-6\n",
    "    \n",
    "    data = 10*np.log10(data)\n",
    "    data[data==-np.inf]=-60\n",
    "    ds.GetRasterBand(1).WriteArray(data)\n",
    "    ds = None\n",
    "\n",
    "#download utility:\n",
    "def extracttif(inloc,outloc,pol='VV',convert=True):\n",
    "    \"\"\"expect pol to be 'VV','VH','HH', or 'HV' \n",
    "    convert will convert this to db\"\"\"\n",
    "    if str(inloc)[-1]!='/':\n",
    "        inloc = str(inloc)+'/'\n",
    "    if str(outloc)[-1]!='/':\n",
    "        outloc = str(outloc)+'/'\n",
    "    infile = glob.glob(f'{inloc}*')\n",
    "    endstr = pol+'.tif'\n",
    "    for file in infile:\n",
    "        # print(file)\n",
    "        # namelist = \n",
    "        with ZipFile(file) as z:\n",
    "            # print(z.namelist)\n",
    "            z = ZipFile(file)\n",
    "            zname = [name for name in z.namelist() if name[-6:]==endstr]\n",
    "            if len(zname)>0:\n",
    "                zname = zname[0]\n",
    "        \n",
    "                filename = os.path.basename(zname)\n",
    "                source = z.open(zname)\n",
    "                targetname = os.path.join(outloc, filename)\n",
    "                target = open(targetname, \"wb\")\n",
    "                with source, target:\n",
    "                    shutil.copyfileobj(source, target)\n",
    "                target.close()\n",
    "                if convert:\n",
    "                    converttodb(targetname)\n",
    "        # os.remove(file)\n",
    "        "
   ]
  },
  {
   "cell_type": "code",
   "execution_count": 8,
   "id": "7955c4dc-3ceb-4956-a593-3817eb244178",
   "metadata": {
    "tags": []
   },
   "outputs": [],
   "source": [
    "#CLIPPING TOOLS\n",
    "\n",
    "def wtkparse(wtk):\n",
    "    \"\"\"It's not weird if it works\"\"\"\n",
    "    wtk = wtk.split(\"'\")\n",
    "    wtk = wtk[0].split(\"(\")[2]\n",
    "    wtk = wtk.split(\")\")[0]\n",
    "    wtk = wtk.split(',')\n",
    "    wtk = [s.split(' ') for s in wtk]\n",
    "    wtk = np.array([[float(ss) for ss in s] for s in wtk])\n",
    "    return(wtk)\n",
    "\n",
    "def CoordConvert(points,inproj,outproj,ptparse=False):\n",
    "    \"\"\"Convert coordinate grid from one projection to another\n",
    "    if converting from 4326, then points should be ordered lon,lat\"\"\"\n",
    "\n",
    "    if ptparse:\n",
    "        points = wtkparse(points)\n",
    "\n",
    "    if type(inproj)==str:\n",
    "        inproj=int(inproj)\n",
    "    if type(outproj)==str:\n",
    "        outproj=int(outproj)\n",
    "\n",
    "    epsgin = osr.SpatialReference()\n",
    "    epsgin.ImportFromEPSG(inproj)   \n",
    "    epsgout = osr.SpatialReference()\n",
    "    epsgout.ImportFromEPSG(outproj)\n",
    "\n",
    "    convert = osr.CoordinateTransformation(epsgin, epsgout)\n",
    "    points = np.array(points)\n",
    "    \n",
    "    for i,x in enumerate(points):\n",
    "        newpt = convert.TransformPoint(x[1],x[0])\n",
    "        points[i,0],points[i,1]=newpt[0],newpt[1]\n",
    "        \n",
    "    return points\n",
    "\n",
    "def wtktobox(wtk,epsgn,srcproj = 4326):\n",
    "    \"\"\"epsgn is the epsg of the tif file\n",
    "    output will be ulx uly lrx lry\"\"\"\n",
    "    epsgn = int(epsgn)\n",
    "    srcproj = int(srcproj)\n",
    "    xyp = CoordConvert(wtk,4326,epsgn,ptparse=True)\n",
    "    ulx,uly = np.min(xyp[:,0]),np.max(xyp[:,1])\n",
    "    lrx,lry = np.max(xyp[:,0]),np.min(xyp[:,1])\n",
    "    return ulx,uly,lrx,lry\n",
    "\n",
    "def testEPSG(inloc):\n",
    "    if str(inloc)[-1]!='/':\n",
    "        inloc = str(inloc)+'/'\n",
    "    # if str(outloc)[-1]!='/':\n",
    "        # outloc = str(outloc)+'/'\n",
    "    infiles = glob.glob(f'{inloc}*')\n",
    "    for file in infiles:\n",
    "        ds=gdal.Open(file)\n",
    "        proj = osr.SpatialReference(wkt=ds.GetProjection())\n",
    "        dsproj = proj.GetAttrValue('AUTHORITY',1)\n",
    "        ds = None\n",
    "        print(dsproj)\n",
    "# testEPSG(products_path)\n",
    "\n",
    "def getEPSG(file):\n",
    "    ds=gdal.Open(file)\n",
    "    proj = osr.SpatialReference(wkt=ds.GetProjection())\n",
    "    dsproj = proj.GetAttrValue('AUTHORITY',1)\n",
    "    ds = None\n",
    "    return dsproj\n",
    "\n",
    "def identify_epsgs(fileloc):\n",
    "    \"\"\"Identify EPSG systems used in this. By default this will return the most commonly one.\"\"\"\n",
    "    if str(fileloc)[-1]!='/':\n",
    "        fileloc = str(fileloc)+'/'\n",
    "    filelist = glob.glob(f'{fileloc}*')\n",
    "    eplist = []\n",
    "    for file in filelist:\n",
    "        eplist.append(getEPSG(file))\n",
    "        # print(eplist[-1])\n",
    "        # print(file)\n",
    "    epu,epc = np.unique(eplist,return_counts=True)\n",
    "    for i,ep in enumerate(epu):\n",
    "        count = epc[i]\n",
    "        print(f'Found EPSG:{ep}, count: {count}')\n",
    "    return epu[np.where(epc==np.max(epc))[0]][0]\n",
    "\n",
    "def reproject(wtk,epsgn,inloc,outloc,res=30,convert_to_db=False):\n",
    "    \"\"\"make the magic happen\"\"\"\n",
    "    if str(inloc)[-1]!='/':\n",
    "        inloc = str(inloc)+'/'\n",
    "    if str(outloc)[-1]!='/':\n",
    "        outloc = str(outloc)+'/'\n",
    "    infiles = glob.glob(f'{inloc}*')\n",
    "    \n",
    "    epsgn = int(epsgn)\n",
    "    ulx,uly,lrx,lry = wtktobox(wtk,epsgn)\n",
    "    # c1=0\n",
    "    epsgns = f'ESPG:{str(epsgn)}'\n",
    "    for file in infiles:\n",
    "        ofile = file.replace(inloc,outloc)\n",
    "        # ofile = '/home/jovyan/test/rtc_clipped/S1B_IW_20210713T031944_DVP_RTC30_G_gpuned_1E76_VV'\n",
    "        epsgf = int(getEPSG(file))\n",
    "        epsgfs = f'ESPG:{str(epsgf)}'\n",
    "        src = gdal.Open(file)\n",
    "        # print(ofile)\n",
    "        # print(type(ofile))\n",
    "        \n",
    "        epsgo = osr.SpatialReference()\n",
    "        epsgo.ImportFromEPSG(epsgn)   \n",
    "        \n",
    "        gdal.Warp(destNameOrDestDS=ofile,srcDSOrSrcDSTab=src,dstSRS=epsgo,\n",
    "                  outputBounds=(ulx,lry,lrx,uly),outputBoundsSRS=epsgo,resampleAlg='near',\n",
    "                  xRes=res,yRes=res)\n",
    "        \n",
    "        if convert_to_db:\n",
    "            converttodb(ofile)"
   ]
  },
  {
   "cell_type": "markdown",
   "id": "bbcba4bf-61a6-482b-b160-992b0fe1b381",
   "metadata": {},
   "source": [
    "## Get Data"
   ]
  },
  {
   "cell_type": "code",
   "execution_count": 13,
   "id": "2f85a732-71fb-4527-a5cd-6f989c050ec8",
   "metadata": {
    "tags": []
   },
   "outputs": [
    {
     "name": "stdout",
     "output_type": "stream",
     "text": [
      "No jobs running, all clear\n"
     ]
    }
   ],
   "source": [
    "#Download the products, unzip them into the rtc_download directory, convert them to dB, and delete the zip files:\n",
    "\n",
    "# EPSGn = '32607'\n",
    "pols = ['VV','VH']\n",
    "\n",
    "autoEPSG=True #use this to pull the first projection and use that as your projection for all images\n",
    "\n",
    "# First check if jobs are running\n",
    "class Error(Exception):\n",
    "    \"\"\"Base class for other exceptions\"\"\"\n",
    "    pass\n",
    "class stillrunningError(Error):\n",
    "    \"\"\"raised when jobs are still running\"\"\"\n",
    "    pass\n",
    "\n",
    "running = len(hyp3.find_jobs(status_code=[\"RUNNING\"]))\n",
    "running += len(hyp3.find_jobs(status_code=[\"PENDING\"]))\n",
    "\n",
    "if running > 0:\n",
    "    print('Jobs still running!')\n",
    "    raise stillrunningError\n",
    "else:\n",
    "    print('No jobs running, all clear')"
   ]
  },
  {
   "cell_type": "code",
   "execution_count": 19,
   "id": "71c90323-8ffa-4e8c-af72-a2f8a6ef6cd0",
   "metadata": {
    "tags": []
   },
   "outputs": [
    {
     "name": "stdout",
     "output_type": "stream",
     "text": [
      "15: S1A_IW_SLC__1SDV_20180101T154753_20180101T154820_019963_021FF5_D8E9\n",
      "16: S1A_IW_SLC__1SDV_20180101T154818_20180101T154844_019963_021FF5_E900\n",
      "17: S1B_IW_SLC__1SDV_20180108T030209_20180108T030239_009074_010389_5DBA\n",
      "18: S1B_IW_SLC__1SDV_20180108T030237_20180108T030305_009074_010389_45C7\n",
      "19: S1A_IW_SLC__1SDV_20180109T025443_20180109T025510_020072_02235C_D1EC\n",
      "20: S1B_IW_SLC__1SDV_20180109T153113_20180109T153141_009096_01044E_992E\n",
      "21: S1A_IW_SLC__1SDV_20180109T025508_20180109T025535_020072_02235C_AC35\n",
      "22: S1A_IW_SLC__1SDV_20180113T154752_20180113T154819_020138_02257E_84D0\n",
      "23: S1A_IW_SLC__1SDV_20180113T154817_20180113T154843_020138_02257E_4771\n",
      "Current job: 10/181, time elapsed: 0.00 min, time remaining: 0.00 min\n",
      "24: S1B_IW_SLC__1SDV_20180120T030236_20180120T030304_009249_01093F_CFAE\n",
      "25: S1B_IW_SLC__1SDV_20180120T030209_20180120T030239_009249_01093F_4718\n",
      "26: S1B_IW_SLC__1SDV_20180121T153112_20180121T153140_009271_010A01_619F\n",
      "27: S1A_IW_SLC__1SDV_20180125T154752_20180125T154819_020313_022B0A_DB4D\n",
      "28: S1A_IW_SLC__1SDV_20180125T154817_20180125T154843_020313_022B0A_01C6\n",
      "29: S1A_IW_SLC__1SDV_20180202T025442_20180202T025509_020422_022E7F_1C04\n",
      "30: S1A_IW_SLC__1SDV_20180202T025507_20180202T025534_020422_022E7F_0E8C\n",
      "31: S1A_IW_SLC__1SDV_20180206T154752_20180206T154819_020488_0230A0_34C9\n",
      "32: S1B_IW_SLC__1SDV_20180202T153112_20180202T153140_009446_010FBC_77B9\n",
      "33: S1A_IW_SLC__1SDV_20180206T154817_20180206T154843_020488_0230A0_CA86\n",
      "Current job: 20/181, time elapsed: 0.00 min, time remaining: 0.00 min\n",
      "34: S1B_IW_SLC__1SDV_20180213T030208_20180213T030238_009599_0114C3_257E\n",
      "35: S1B_IW_SLC__1SDV_20180213T030236_20180213T030304_009599_0114C3_2828\n",
      "36: S1A_IW_SLC__1SDV_20180214T025442_20180214T025509_020597_02341A_2FF1\n",
      "37: S1A_IW_SLC__1SDV_20180214T025507_20180214T025534_020597_02341A_0BBD\n",
      "38: S1B_IW_SLC__1SDV_20180214T153112_20180214T153140_009621_011582_04DC\n",
      "39: S1A_IW_SLC__1SDV_20180218T154816_20180218T154842_020663_023635_E085\n",
      "40: S1A_IW_SLC__1SDV_20180218T154752_20180218T154818_020663_023635_AC9B\n",
      "41: S1B_IW_SLC__1SDV_20180225T030208_20180225T030238_009774_011A82_CC79\n",
      "42: S1B_IW_SLC__1SDV_20180225T030236_20180225T030304_009774_011A82_7E03\n",
      "43: S1B_IW_SLC__1SDV_20180226T153112_20180226T153140_009796_011B4C_8F8A\n",
      "Current job: 30/181, time elapsed: 0.00 min, time remaining: 0.00 min\n",
      "44: S1A_IW_SLC__1SDV_20180302T154752_20180302T154818_020838_023BC1_5E8E\n",
      "45: S1A_IW_SLC__1SDV_20180302T154816_20180302T154842_020838_023BC1_595A\n",
      "46: S1B_IW_SLC__1SDV_20180309T030208_20180309T030238_009949_012061_F191\n",
      "47: S1B_IW_SLC__1SDV_20180309T030236_20180309T030304_009949_012061_BFB8\n",
      "48: S1A_IW_SLC__1SDV_20180310T025507_20180310T025530_020947_023F33_53DD\n",
      "49: S1A_IW_SLC__1SDV_20180310T025442_20180310T025509_020947_023F33_B859\n",
      "50: S1B_IW_SLC__1SDV_20180310T153112_20180310T153140_009971_01212A_87BF\n",
      "51: S1A_IW_SLC__1SDV_20180314T154752_20180314T154819_021013_02414E_04D8\n",
      "52: S1A_IW_SLC__1SDV_20180314T154816_20180314T154843_021013_02414E_555C\n",
      "53: S1B_IW_SLC__1SDV_20180321T030236_20180321T030304_010124_012615_F8B1\n",
      "Current job: 40/181, time elapsed: 0.00 min, time remaining: 0.00 min\n",
      "54: S1B_IW_SLC__1SDV_20180321T030208_20180321T030238_010124_012615_4F47\n",
      "55: S1B_IW_SLC__1SDV_20180322T153112_20180322T153140_010146_0126DC_BB59\n",
      "56: S1A_IW_SLC__1SDV_20180326T154752_20180326T154819_021188_0246DE_534D\n",
      "57: S1B_IW_SLC__1SDV_20180402T030209_20180402T030239_010299_012BBE_70DF\n",
      "58: S1A_IW_SLC__1SDV_20180326T154817_20180326T154843_021188_0246DE_C61C\n",
      "59: S1B_IW_SLC__1SDV_20180402T030236_20180402T030304_010299_012BBE_F0F6\n",
      "60: S1A_IW_SLC__1SDV_20180403T025443_20180403T025510_021297_024A48_70FB\n",
      "61: S1A_IW_SLC__1SDV_20180403T025507_20180403T025534_021297_024A48_CC8A\n",
      "62: S1B_IW_SLC__1SDV_20180403T153112_20180403T153140_010321_012C8B_0EE5\n",
      "63: S1A_IW_SLC__1SDV_20180407T154752_20180407T154819_021363_024C59_84CB\n",
      "Current job: 50/181, time elapsed: 0.00 min, time remaining: 0.00 min\n",
      "64: S1A_IW_SLC__1SDV_20180407T154817_20180407T154843_021363_024C59_C5B1\n",
      "65: S1B_IW_SLC__1SDV_20180414T030209_20180414T030239_010474_013163_0C97\n",
      "66: S1A_IW_SLC__1SDV_20180415T025443_20180415T025510_021472_024FB9_8992\n",
      "67: S1B_IW_SLC__1SDV_20180414T030237_20180414T030305_010474_013163_7B01\n",
      "68: S1A_IW_SLC__1SDV_20180415T025508_20180415T025535_021472_024FB9_B41C\n",
      "69: S1A_IW_SLC__1SDV_20180419T154753_20180419T154819_021538_0251CE_2DF8\n",
      "70: S1B_IW_SLC__1SDV_20180415T153113_20180415T153141_010496_013227_4CDA\n",
      "71: S1A_IW_SLC__1SDV_20180419T154817_20180419T154843_021538_0251CE_E386\n",
      "72: S1B_IW_SLC__1SDV_20180426T030210_20180426T030239_010649_0136F5_997F\n",
      "73: S1A_IW_SLC__1SDV_20180427T025444_20180427T025511_021647_025531_E851\n",
      "Current job: 60/181, time elapsed: 0.00 min, time remaining: 0.00 min\n",
      "74: S1B_IW_SLC__1SDV_20180426T030237_20180426T030305_010649_0136F5_3020\n",
      "75: S1A_IW_SLC__1SDV_20180427T025509_20180427T025536_021647_025531_BC04\n",
      "76: S1B_IW_SLC__1SDV_20180427T153113_20180427T153141_010671_0137BE_C6C6\n",
      "77: S1A_IW_SLC__1SDV_20180501T154753_20180501T154820_021713_02574F_3847\n",
      "78: S1A_IW_SLC__1SDV_20180501T154818_20180501T154844_021713_02574F_8ECB\n",
      "79: S1B_IW_SLC__1SDV_20180508T030210_20180508T030240_010824_013CA0_4988\n",
      "80: S1A_IW_SLC__1SDV_20180509T025444_20180509T025511_021822_025ABF_EF7D\n",
      "81: S1B_IW_SLC__1SDV_20180508T030238_20180508T030306_010824_013CA0_8CED\n",
      "82: S1A_IW_SLC__1SDV_20180509T025509_20180509T025536_021822_025ABF_B664\n",
      "83: S1A_IW_SLC__1SDV_20180513T154754_20180513T154821_021888_025CED_07F6\n",
      "Current job: 70/181, time elapsed: 0.00 min, time remaining: 0.00 min\n",
      "84: S1B_IW_SLC__1SDV_20180509T153114_20180509T153142_010846_013D68_CE5C\n",
      "85: S1A_IW_SLC__1SDV_20180513T154819_20180513T154845_021888_025CED_4110\n",
      "86: S1B_IW_SLC__1SDV_20180520T030211_20180520T030241_010999_014248_25DC\n",
      "87: S1B_IW_SLC__1SDV_20180520T030238_20180520T030306_010999_014248_40F2\n",
      "88: S1A_IW_SLC__1SDV_20180521T025510_20180521T025537_021997_026053_4499\n",
      "89: S1A_IW_SLC__1SDV_20180521T025445_20180521T025512_021997_026053_7816\n",
      "90: S1B_IW_SLC__1SDV_20180521T153115_20180521T153142_011021_014312_9765\n",
      "91: S1A_IW_SLC__1SDV_20180525T154755_20180525T154821_022063_026274_31B5\n",
      "92: S1A_IW_SLC__1SDV_20180525T154819_20180525T154845_022063_026274_7E8C\n",
      "93: S1B_IW_SLC__1SDV_20180601T030211_20180601T030241_011174_0147F7_1E59\n",
      "Current job: 80/181, time elapsed: 0.00 min, time remaining: 0.00 min\n",
      "94: S1B_IW_SLC__1SDV_20180602T153115_20180602T153143_011196_0148BC_66C6\n",
      "95: S1B_IW_SLC__1SDV_20180601T030239_20180601T030307_011174_0147F7_DDAA\n",
      "96: S1A_IW_SLC__1SDV_20180606T154755_20180606T154822_022238_0267F4_1933\n",
      "97: S1A_IW_SLC__1SDV_20180606T154820_20180606T154846_022238_0267F4_8F27\n",
      "98: S1B_IW_SLC__1SDV_20180613T030212_20180613T030242_011349_014D65_9D4B\n",
      "99: S1B_IW_SLC__1SDV_20180613T030240_20180613T030308_011349_014D65_7F39\n",
      "100: S1A_IW_SLC__1SDV_20180614T025446_20180614T025513_022347_026B5A_5A42\n",
      "101: S1A_IW_SLC__1SDV_20180614T025511_20180614T025538_022347_026B5A_DC5E\n",
      "102: S1A_IW_SLC__1SDV_20180618T154756_20180618T154823_022413_026D5B_715A\n",
      "103: S1B_IW_SLC__1SDV_20180614T153116_20180614T153144_011371_014E24_5009\n",
      "Current job: 90/181, time elapsed: 0.00 min, time remaining: 0.00 min\n",
      "104: S1A_IW_SLC__1SDV_20180618T154821_20180618T154847_022413_026D5B_7C18\n",
      "105: S1B_IW_SLC__1SDV_20180625T030213_20180625T030243_011524_0152D7_EDE1\n",
      "106: S1B_IW_SLC__1SDV_20180625T030241_20180625T030309_011524_0152D7_E42C\n",
      "107: S1A_IW_SLC__1SDV_20180626T025447_20180626T025514_022522_02707E_E881\n",
      "108: S1A_IW_SLC__1SDV_20180626T025512_20180626T025539_022522_02707E_4DE6\n",
      "109: S1B_IW_SLC__1SDV_20180626T153117_20180626T153145_011546_01538F_73BB\n",
      "110: S1A_IW_SLC__1SDV_20180630T154757_20180630T154824_022588_027272_7642\n",
      "111: S1A_IW_SLC__1SDV_20180630T154821_20180630T154848_022588_027272_BFF7\n",
      "112: S1A_IW_SLC__1SDV_20180708T025448_20180708T025515_022697_027597_F04F\n",
      "113: S1A_IW_SLC__1SDV_20180708T025512_20180708T025539_022697_027597_74A1\n",
      "Current job: 100/181, time elapsed: 0.00 min, time remaining: 0.00 min\n",
      "114: S1B_IW_SLC__1SDV_20180708T153117_20180708T153145_011721_0158FE_D9FE\n",
      "115: S1A_IW_SLC__1SDV_20180712T154757_20180712T154824_022763_0277A6_E47D\n",
      "116: S1A_IW_SLC__1SDV_20180720T025449_20180720T025516_022872_027AF4_CFDB\n",
      "117: S1A_IW_SLC__1SDV_20180712T154822_20180712T154848_022763_0277A6_1668\n",
      "118: S1A_IW_SLC__1SDV_20180720T025513_20180720T025540_022872_027AF4_2D4B\n",
      "119: S1B_IW_SLC__1SDV_20180720T153118_20180720T153146_011896_015E5B_AFD1\n",
      "120: S1A_IW_SLC__1SDV_20180724T154758_20180724T154825_022938_027D29_A920\n",
      "121: S1B_IW_SLC__1SDV_20180801T153119_20180801T153147_012071_0163A2_05E2\n",
      "122: S1A_IW_SLC__1SDV_20180724T154823_20180724T154849_022938_027D29_596F\n",
      "123: S1A_IW_SLC__1SDV_20180805T154759_20180805T154826_023113_02829E_3310\n",
      "Current job: 110/181, time elapsed: 0.00 min, time remaining: 0.00 min\n",
      "124: S1A_IW_SLC__1SDV_20180805T154824_20180805T154850_023113_02829E_6C39\n",
      "125: S1B_IW_SLC__1SDV_20180812T030216_20180812T030246_012224_016854_17D7\n",
      "126: S1B_IW_SLC__1SDV_20180812T030243_20180812T030311_012224_016854_DC3F\n",
      "127: S1B_IW_SLC__1SDV_20180813T153120_20180813T153147_012246_01690A_F6F1\n",
      "128: S1A_IW_SLC__1SDV_20180817T154824_20180817T154850_023288_02884A_4E05\n",
      "129: S1A_IW_SLC__1SDV_20180817T154759_20180817T154826_023288_02884A_5FE6\n",
      "130: S1B_IW_SLC__1SDV_20180824T030217_20180824T030247_012399_016DBC_22F7\n",
      "131: S1B_IW_SLC__1SDV_20180824T030244_20180824T030312_012399_016DBC_D8CC\n",
      "132: S1B_IW_SLC__1SDV_20180825T153120_20180825T153148_012421_016E75_908F\n",
      "133: S1A_IW_SLC__1SDV_20180829T154800_20180829T154827_023463_028DD8_0319\n",
      "Current job: 120/181, time elapsed: 0.00 min, time remaining: 0.00 min\n",
      "134: S1A_IW_SLC__1SDV_20180829T154825_20180829T154851_023463_028DD8_CBFA\n",
      "135: S1B_IW_SLC__1SDV_20180905T030217_20180905T030247_012574_01732F_B97D\n",
      "136: S1B_IW_SLC__1SDV_20180905T030245_20180905T030313_012574_01732F_8FB5\n",
      "137: S1A_IW_SLC__1SDV_20180906T025451_20180906T025518_023572_02914B_E3BF\n",
      "138: S1A_IW_SLC__1SDV_20180906T025516_20180906T025543_023572_02914B_FF4B\n",
      "139: S1A_IW_SLC__1SDV_20180910T154801_20180910T154828_023638_029374_8F64\n",
      "140: S1B_IW_SLC__1SDV_20180906T153121_20180906T153149_012596_0173DC_A7E8\n",
      "141: S1A_IW_SLC__1SDV_20180910T154825_20180910T154852_023638_029374_AF8C\n",
      "142: S1B_IW_SLC__1SDV_20180917T030218_20180917T030247_012749_017888_9A97\n",
      "143: S1B_IW_SLC__1SDV_20180917T030245_20180917T030313_012749_017888_B672\n",
      "Current job: 130/181, time elapsed: 0.00 min, time remaining: 0.00 min\n",
      "144: S1A_IW_SLC__1SDV_20180918T025452_20180918T025519_023747_0296E3_29CB\n",
      "145: S1A_IW_SLC__1SDV_20180918T025516_20180918T025543_023747_0296E3_CB56\n",
      "146: S1B_IW_SLC__1SDV_20180918T153121_20180918T153149_012771_017938_1D2C\n",
      "147: S1A_IW_SLC__1SDV_20180922T154801_20180922T154828_023813_029924_41A5\n",
      "148: S1A_IW_SLC__1SDV_20180922T154826_20180922T154852_023813_029924_F0CB\n",
      "149: S1B_IW_SLC__1SDV_20180929T030218_20180929T030248_012924_017DE6_6749\n",
      "150: S1B_IW_SLC__1SDV_20180929T030245_20180929T030313_012924_017DE6_5487\n",
      "151: S1A_IW_SLC__1SDV_20180930T025452_20180930T025519_023922_029C92_BB59\n",
      "152: S1A_IW_SLC__1SDV_20180930T025517_20180930T025544_023922_029C92_D2CF\n",
      "153: S1B_IW_SLC__1SDV_20180930T153121_20180930T153149_012946_017E96_5AE5\n",
      "Current job: 140/181, time elapsed: 0.00 min, time remaining: 0.00 min\n",
      "154: S1A_IW_SLC__1SDV_20181004T154801_20181004T154828_023988_029EDD_7F4F\n",
      "155: S1A_IW_SLC__1SDV_20181004T154826_20181004T154852_023988_029EDD_924F\n",
      "156: S1B_IW_SLC__1SDV_20181011T030218_20181011T030248_013099_01833A_9B63\n",
      "157: S1B_IW_SLC__1SDV_20181011T030246_20181011T030314_013099_01833A_AF8E\n",
      "158: S1A_IW_SLC__1SDV_20181012T025517_20181012T025544_024097_02A255_71E2\n",
      "159: S1A_IW_SLC__1SDV_20181012T025452_20181012T025519_024097_02A255_35AF\n",
      "160: S1B_IW_SLC__1SDV_20181012T153122_20181012T153150_013121_0183E5_BE30\n",
      "161: S1A_IW_SLC__1SDV_20181016T154802_20181016T154828_024163_02A48F_9F36\n",
      "162: S1A_IW_SLC__1SDV_20181016T154826_20181016T154852_024163_02A48F_0B5D\n",
      "163: S1B_IW_SLC__1SDV_20181023T030218_20181023T030248_013274_0188A4_3C89\n",
      "Current job: 150/181, time elapsed: 0.00 min, time remaining: 0.00 min\n",
      "164: S1B_IW_SLC__1SDV_20181023T030246_20181023T030314_013274_0188A4_0C50\n",
      "165: S1A_IW_SLC__1SDV_20181024T025452_20181024T025519_024272_02A800_FE4C\n",
      "166: S1A_IW_SLC__1SDV_20181024T025517_20181024T025544_024272_02A800_6317\n",
      "167: S1B_IW_SLC__1SDV_20181024T153122_20181024T153150_013296_018952_7126\n",
      "168: S1A_IW_SLC__1SDV_20181028T154801_20181028T154828_024338_02AA32_6C12\n",
      "169: S1A_IW_SLC__1SDV_20181028T154826_20181028T154852_024338_02AA32_1E88\n",
      "170: S1B_IW_SLC__1SDV_20181104T030218_20181104T030248_013449_018E22_2B02\n",
      "171: S1B_IW_SLC__1SDV_20181105T153122_20181105T153150_013471_018ED0_9D31\n",
      "172: S1B_IW_SLC__1SDV_20181104T030246_20181104T030314_013449_018E22_05C8\n",
      "173: S1A_IW_SLC__1SDV_20181109T154826_20181109T154852_024513_02B068_9FA8\n",
      "Current job: 160/181, time elapsed: 0.00 min, time remaining: 0.00 min\n",
      "174: S1A_IW_SLC__1SDV_20181109T154801_20181109T154828_024513_02B068_6E8C\n",
      "175: S1B_IW_SLC__1SDV_20181116T030218_20181116T030248_013624_019396_F587\n",
      "176: S1B_IW_SLC__1SDV_20181116T030246_20181116T030313_013624_019396_1DCF\n",
      "177: S1A_IW_SLC__1SDV_20181121T154801_20181121T154828_024688_02B6DA_56D7\n",
      "178: S1B_IW_SLC__1SDV_20181117T153122_20181117T153149_013646_01944D_1936\n",
      "179: S1A_IW_SLC__1SDV_20181121T154826_20181121T154852_024688_02B6DA_5D99\n",
      "180: S1B_IW_SLC__1SDV_20181128T030217_20181128T030247_013799_01992D_0DBE\n",
      "181: S1B_IW_SLC__1SDV_20181129T153121_20181129T153149_013821_0199E5_7E57\n",
      "182: S1B_IW_SLC__1SDV_20181128T030245_20181128T030313_013799_01992D_0C40\n",
      "183: S1A_IW_SLC__1SDV_20181203T154801_20181203T154828_024863_02BCED_0C8B\n",
      "Current job: 170/181, time elapsed: 0.00 min, time remaining: 0.00 min\n",
      "184: S1A_IW_SLC__1SDV_20181203T154825_20181203T154852_024863_02BCED_A099\n",
      "185: S1B_IW_SLC__1SDV_20181210T030217_20181210T030247_013974_019ED6_F6C0\n",
      "186: S1B_IW_SLC__1SDV_20181210T030245_20181210T030313_013974_019ED6_0080\n",
      "187: S1A_IW_SLC__1SDV_20181211T025451_20181211T025518_024972_02C0A9_F5FE\n",
      "188: S1A_IW_SLC__1SDV_20181211T025516_20181211T025543_024972_02C0A9_9652\n",
      "189: S1B_IW_SLC__1SDV_20181211T153121_20181211T153148_013996_019F90_E478\n",
      "190: S1A_IW_SLC__1SDV_20181215T154800_20181215T154827_025038_02C31A_B4B4\n",
      "191: S1A_IW_SLC__1SDV_20181215T154825_20181215T154851_025038_02C31A_D148\n",
      "192: S1B_IW_SLC__1SDV_20181222T030217_20181222T030247_014149_01A4A1_AE76\n",
      "193: S1B_IW_SLC__1SDV_20181222T030244_20181222T030312_014149_01A4A1_5E23\n",
      "Current job: 180/181, time elapsed: 0.00 min, time remaining: 0.00 min\n",
      "194: S1B_IW_SLC__1SDV_20181223T153120_20181223T153148_014171_01A55D_B881\n",
      "195: S1A_IW_SLC__1SDV_20181227T154800_20181227T154827_025213_02C972_3F17\n",
      "196: S1A_IW_SLC__1SDV_20181227T154825_20181227T154851_025213_02C972_6807\n",
      "182\n"
     ]
    }
   ],
   "source": [
    "# Get the list of jobs to download\n",
    "usegranules = [i.properties['sceneName'] for i in results]\n",
    "joblist = hyp3.find_jobs()\n",
    "joblist = joblist.filter_jobs(succeeded=True,include_expired=False)\n",
    "joblen = len(results)-1\n",
    "\n",
    "t = time.time()\n",
    "count = 0\n",
    "for i,job in enumerate(joblist):\n",
    "\n",
    "    jobname = job.job_parameters['granules'][0]\n",
    "\n",
    "    if jobname in usegranules:\n",
    "        count += 1\n",
    "        usegranules.remove(jobname)\n",
    "        if count%10 ==0:\n",
    "            te = time.time()-t\n",
    "            print(f'Current job: {count}/{joblen}, time elapsed: {te/60:.2f} min, time remaining: {(te/(i+1)*(joblen-count))/60:.2f} min')\n",
    "        # job.download_files(download_path)\n",
    "        # for pol in pols:\n",
    "            # print(pol)\n",
    "            # extracttif(download_path,products_path,pol=pol,convert=False)\n",
    "            # if autoEPSG:\n",
    "                # if (count == 1) and (pol == pols[0]):\n",
    "                    # fileg = glob.glob(f'{str(products_path)}/*.tif')\n",
    "                    # EPSGn = getEPSG(fileg[0])\n",
    "                    # print(getEPSG(fileg[0]))\n",
    "            # fulltif = glob.glob(f'{str(products_path)}/*{pol}*')\n",
    "            # reproject(WTKstr,EPSGn,products_path,f'{str(clipped_path)}/{pol}',convert_to_db=True)\n",
    "            # os.system(f'rm {str(products_path)}/*.tif')\n",
    "            # time.sleep(3)\n",
    "        # os.system(f'rm {str(download_path)}/*.zip')\n",
    "        print(f\"{i}: {jobname}\")\n",
    "print(count)\n",
    "if len(usegranules)>0:\n",
    "    print('WARNING: NOT ALL GRANULES USED')"
   ]
  },
  {
   "cell_type": "code",
   "execution_count": 85,
   "id": "40606baf-dc5e-4f3a-8fbb-bb7a43b70c8b",
   "metadata": {
    "tags": []
   },
   "outputs": [
    {
     "name": "stdout",
     "output_type": "stream",
     "text": [
      "['S1B_IW_SLC__1SDV_20171203T030304_20171203T030331_008549_00F2AE_DE90']\n",
      "0: S1B_IW_SLC__1SSV_20170101T162824_20170101T162901_003657_006459_DCFF\n",
      "1: S1B_IW_SLC__1SSV_20170103T161202_20170103T161230_003686_00653D_E5A4\n",
      "2: S1B_IW_SLC__1SSV_20170103T161228_20170103T161256_003686_00653D_BACD\n",
      "3: S1B_IW_SLC__1SSV_20170125T162823_20170125T162900_004007_006EB3_A47A\n",
      "4: S1B_IW_SLC__1SSV_20170127T161202_20170127T161229_004036_006F95_CAFC\n",
      "5: S1B_IW_SLC__1SSV_20170127T161227_20170127T161255_004036_006F95_EFFE\n",
      "6: S1B_IW_SLC__1SSV_20170218T162823_20170218T162900_004357_007925_1CB7\n",
      "7: S1B_IW_SLC__1SSV_20170220T161201_20170220T161228_004386_007A0B_760E\n",
      "8: S1B_IW_SLC__1SSV_20170220T161226_20170220T161255_004386_007A0B_9CB5\n",
      "9: S1B_IW_SLC__1SSV_20170304T161201_20170304T161229_004561_007F26_19EF\n",
      "10: S1B_IW_SLC__1SSV_20170314T162823_20170314T162900_004707_008371_4FCA\n",
      "11: S1B_IW_SLC__1SSV_20170304T161227_20170304T161255_004561_007F26_2E55\n",
      "12: S1B_IW_SLC__1SSV_20170316T161201_20170316T161229_004736_008452_BE3C\n",
      "13: S1B_IW_SLC__1SSV_20170316T161227_20170316T161255_004736_008452_ACEB\n",
      "14: S1A_IW_SLC__1SSV_20170519T162908_20170519T162936_016653_01BA3A_2D51\n",
      "15: S1B_IW_SLC__1SDV_20170427T033511_20170427T033541_005341_0095C9_57B3\n",
      "16: S1A_IW_SLC__1SSV_20170519T162933_20170519T163000_016653_01BA3A_7E63\n",
      "17: S1A_IW_SLC__1SSV_20170531T162934_20170531T163001_016828_01BFA3_E86B\n",
      "18: S1A_IW_SLC__1SSV_20170531T162908_20170531T162936_016828_01BFA3_6AB2\n",
      "19: S1A_IW_SLC__1SDV_20170612T162935_20170612T163002_017003_01C50E_AA21\n",
      "20: S1A_IW_SLC__1SDV_20170612T162909_20170612T162937_017003_01C50E_053F\n",
      "21: S1A_IW_SLC__1SDV_20170624T162910_20170624T162938_017178_01CA65_2DBD\n",
      "22: S1A_IW_SLC__1SDV_20170624T162936_20170624T163003_017178_01CA65_5933\n",
      "23: S1A_IW_SLC__1SDV_20170706T162936_20170706T163003_017353_01CFA8_7919\n",
      "24: S1A_IW_SLC__1SDV_20170706T162910_20170706T162938_017353_01CFA8_5493\n",
      "25: S1A_IW_SLC__1SDV_20170718T162911_20170718T162939_017528_01D502_CBFC\n",
      "26: S1A_IW_SLC__1SDV_20170718T162937_20170718T163004_017528_01D502_5010\n",
      "27: S1A_IW_SLC__1SDV_20170730T162912_20170730T162940_017703_01DA5B_04CE\n",
      "28: S1A_IW_SLC__1SDV_20170730T162938_20170730T163005_017703_01DA5B_58C7\n",
      "29: S1A_IW_SLC__1SDV_20170811T162912_20170811T162940_017878_01DFAF_6658\n",
      "30: S1A_IW_SLC__1SDV_20170823T162913_20170823T162941_018053_01E4FF_4752\n",
      "31: S1A_IW_SLC__1SDV_20170811T162938_20170811T163005_017878_01DFAF_70DC\n",
      "32: S1A_IW_SLC__1SDV_20170823T162939_20170823T163006_018053_01E4FF_754D\n",
      "33: S1A_IW_SLC__1SDV_20170904T162914_20170904T162941_018228_01EA49_B110\n",
      "34: S1A_IW_SLC__1SDV_20170904T162939_20170904T163006_018228_01EA49_925D\n",
      "35: S1A_IW_SLC__1SDV_20170916T162914_20170916T162942_018403_01EFBD_6F8E\n",
      "36: S1A_IW_SLC__1SDV_20170916T162940_20170916T163007_018403_01EFBD_528E\n",
      "37: S1A_IW_SLC__1SDV_20170928T162914_20170928T162942_018578_01F513_4EFA\n",
      "38: S1A_IW_SLC__1SDV_20170928T162940_20170928T163007_018578_01F513_94E9\n",
      "39: S1A_IW_SLC__1SDV_20171010T162915_20171010T162941_018753_01FA68_EBCE\n",
      "40: S1A_IW_SLC__1SDV_20171010T162939_20171010T163007_018753_01FA68_2503\n",
      "41: S1A_IW_SLC__1SDV_20171022T162915_20171022T162942_018928_01FFCB_41EC\n",
      "42: S1A_IW_SLC__1SDV_20171022T162939_20171022T163007_018928_01FFCB_60CD\n",
      "43: S1A_IW_SLC__1SDV_20171103T162940_20171103T163007_019103_02051D_2400\n",
      "44: S1A_IW_SLC__1SDV_20171103T162915_20171103T162943_019103_02051D_222D\n",
      "45: S1A_IW_SLC__1SDV_20171115T162940_20171115T163007_019278_020A93_C89F\n",
      "46: S1A_IW_SLC__1SDV_20171115T162914_20171115T162942_019278_020A93_4357\n",
      "47: S1A_IW_SLC__1SDV_20171127T162914_20171127T162942_019453_021015_E9A9\n",
      "48: S1A_IW_SLC__1SDV_20171127T162940_20171127T163007_019453_021015_335F\n",
      "49: S1A_IW_SLC__1SDV_20171209T162913_20171209T162941_019628_02158E_86B1\n",
      "50: S1A_IW_SLC__1SDV_20171221T162939_20171221T163006_019803_021AF7_4DAD\n",
      "51: S1B_IW_SLC__1SSV_20170101T162759_20170101T162826_003657_006459_6DB8\n",
      "52: S1B_IW_SLC__1SSV_20170125T162758_20170125T162825_004007_006EB3_FCD6\n",
      "53: S1B_IW_SLC__1SSV_20170314T162758_20170314T162825_004707_008371_2427\n",
      "54: S1B_IW_SLC__1SSV_20170218T162758_20170218T162825_004357_007925_2699\n",
      "55: S1A_IW_SLC__1SSV_20170519T162843_20170519T162910_016653_01BA3A_AFC7\n",
      "56: S1B_IW_SLC__1SDV_20170427T033605_20170427T033632_005341_0095C9_974F\n",
      "57: S1A_IW_SLC__1SSV_20170531T162843_20170531T162910_016828_01BFA3_C240\n",
      "58: S1A_IW_SLC__1SDV_20170612T162844_20170612T162911_017003_01C50E_3971\n",
      "59: S1A_IW_SLC__1SDV_20170624T162845_20170624T162912_017178_01CA65_A3D8\n",
      "60: S1A_IW_SLC__1SDV_20170706T162845_20170706T162912_017353_01CFA8_D541\n",
      "61: S1A_IW_SLC__1SDV_20170718T162846_20170718T162913_017528_01D502_AE3C\n",
      "62: S1A_IW_SLC__1SDV_20170730T162847_20170730T162914_017703_01DA5B_4C50\n",
      "63: S1A_IW_SLC__1SDV_20170811T162848_20170811T162915_017878_01DFAF_A20E\n",
      "64: S1A_IW_SLC__1SDV_20170823T162848_20170823T162915_018053_01E4FF_15D6\n",
      "65: S1A_IW_SLC__1SDV_20170916T162849_20170916T162916_018403_01EFBD_543E\n",
      "66: S1A_IW_SLC__1SDV_20170904T162849_20170904T162916_018228_01EA49_4A88\n",
      "67: S1A_IW_SLC__1SDV_20171010T162850_20171010T162917_018753_01FA68_A427\n",
      "68: S1A_IW_SLC__1SDV_20170928T162849_20170928T162916_018578_01F513_1921\n",
      "69: S1A_IW_SLC__1SDV_20171022T162850_20171022T162917_018928_01FFCB_BB43\n",
      "70: S1A_IW_SLC__1SDV_20171103T162850_20171103T162917_019103_02051D_32DF\n",
      "71: S1A_IW_SLC__1SDV_20171115T162849_20171115T162916_019278_020A93_022C\n",
      "72: S1B_IW_SLC__1SDV_20171117T033613_20171117T033640_008316_00EB73_A916\n",
      "73: S1A_IW_SLC__1SDV_20171127T162849_20171127T162916_019453_021015_0E75\n",
      "74: S1A_IW_SLC__1SDV_20171209T162849_20171209T162916_019628_02158E_9705\n",
      "75: S1A_IW_SLC__1SDV_20180102T162848_20180102T162915_019978_022078_116B\n",
      "76: S1A_IW_SLC__1SDV_20180114T162847_20180114T162914_020153_0225FE_5DC2\n",
      "77: S1B_IW_SLC__1SDV_20180116T033611_20180116T033638_009191_01075D_D01B\n",
      "78: S1A_IW_SLC__1SDV_20180126T162847_20180126T162914_020328_022B88_B9B1\n",
      "79: S1B_IW_SLC__1SDV_20180128T033610_20180128T033637_009366_010D16_7860\n",
      "80: S1A_IW_SLC__1SDV_20180207T162847_20180207T162914_020503_023121_C27D\n",
      "81: S1B_IW_SLC__1SDV_20180209T033610_20180209T033637_009541_0112D8_12B9\n",
      "82: S1A_IW_SLC__1SDV_20180219T162846_20180219T162913_020678_0236B5_A6C3\n",
      "83: S1B_IW_SLC__1SDV_20180221T033610_20180221T033637_009716_011893_0A66\n",
      "84: S1B_IW_SLC__1SDV_20180305T033610_20180305T033637_009891_011E69_4269\n",
      "85: S1A_IW_SLC__1SDV_20180303T162846_20180303T162913_020853_023C41_8E4A\n",
      "86: S1A_IW_SLC__1SDV_20180315T162847_20180315T162914_021028_0241CD_73BB\n",
      "87: S1A_IW_SLC__1SDV_20180327T162847_20180327T162914_021203_02475D_2355\n",
      "88: S1B_IW_SLC__1SDV_20180317T033610_20180317T033637_010066_01242D_F5F2\n",
      "89: S1A_IW_SLC__1SDV_20180408T162847_20180408T162914_021378_024CD6_734B\n",
      "90: S1A_IW_SLC__1SDV_20180420T162848_20180420T162915_021553_02524B_521B\n",
      "91: S1B_IW_SLC__1SDV_20180410T033611_20180410T033638_010416_012F8D_C860\n",
      "92: S1B_IW_SLC__1SDV_20180422T033611_20180422T033638_010591_013522_EB9E\n",
      "93: S1A_IW_SLC__1SDV_20180502T162848_20180502T162915_021728_0257CC_8B89\n",
      "94: S1B_IW_SLC__1SDV_20180504T033612_20180504T033639_010766_013AC7_9E1A\n",
      "95: S1A_IW_SLC__1SDV_20180514T162849_20180514T162916_021903_025D6B_70AA\n",
      "96: S1A_IW_SLC__1SDV_20180526T162850_20180526T162916_022078_0262F0_D415\n",
      "97: S1A_IW_SLC__1SDV_20180607T162850_20180607T162917_022253_026870_331B\n",
      "98: S1B_IW_SLC__1SDV_20180528T033613_20180528T033640_011116_014622_9FE9\n",
      "99: S1A_IW_SLC__1SDV_20180619T162851_20180619T162918_022428_026DD3_2C95\n",
      "100: S1A_IW_SLC__1SDV_20180701T162852_20180701T162919_022603_0272EC_7E0C\n",
      "101: S1B_IW_SLC__1SDV_20180703T033615_20180703T033642_011641_015681_5D03\n",
      "102: S1A_IW_SLC__1SDV_20180713T162852_20180713T162919_022778_027820_90EB\n",
      "103: S1A_IW_SLC__1SDV_20180725T162853_20180725T162920_022953_027DA7_DAD9\n",
      "104: S1B_IW_SLC__1SDV_20180727T033617_20180727T033644_011991_016130_85E2\n",
      "105: S1A_IW_SLC__1SDV_20180806T162854_20180806T162921_023128_02831D_A0C7\n",
      "106: S1B_IW_SLC__1SDV_20180808T033617_20180808T033644_012166_016683_B110\n",
      "107: S1A_IW_SLC__1SDV_20180818T162855_20180818T162921_023303_0288C8_CDA1\n",
      "108: S1A_IW_SLC__1SDV_20180830T162855_20180830T162922_023478_028E56_3390\n",
      "109: S1B_IW_SLC__1SDV_20180913T033619_20180913T033646_012691_0176B9_2F75\n",
      "110: S1A_IW_SLC__1SDV_20180911T162856_20180911T162923_023653_0293F0_D244\n",
      "111: S1A_IW_SLC__1SDV_20180923T162856_20180923T162923_023828_0299A2_0746\n",
      "112: S1A_IW_SLC__1SDV_20181005T162856_20181005T162923_024003_029F5A_7F04\n",
      "113: S1A_IW_SLC__1SDV_20181017T162856_20181017T162923_024178_02A512_2CBD\n",
      "114: S1B_IW_SLC__1SDV_20181007T033620_20181007T033647_013041_018174_C70D\n",
      "115: S1B_IW_SLC__1SDV_20181019T033620_20181019T033647_013216_0186D9_D2FA\n",
      "116: S1A_IW_SLC__1SDV_20181029T162856_20181029T162923_024353_02AAB1_E435\n",
      "117: S1B_IW_SLC__1SDV_20181031T033620_20181031T033647_013391_018C54_4A90\n",
      "118: S1A_IW_SLC__1SDV_20181110T162856_20181110T162923_024528_02B0FE_8134\n",
      "119: S1A_IW_SLC__1SDV_20181122T162856_20181122T162923_024703_02B76F_A2DB\n",
      "120: S1A_IW_SLC__1SDV_20181204T162856_20181204T162923_024878_02BD62_E77F\n",
      "121: S1A_IW_SLC__1SDV_20181216T162855_20181216T162922_025053_02C3AA_337A\n",
      "122: S1B_IW_SLC__1SDV_20181206T033619_20181206T033646_013916_019CF8_7E21\n",
      "123: S1B_IW_SLC__1SDV_20181218T033618_20181218T033645_014091_01A2B1_DA3D\n",
      "124: S1A_IW_SLC__1SDV_20181228T162855_20181228T162922_025228_02CA04_C03C\n",
      "125: S1B_IW_SLC__1SDV_20181230T033618_20181230T033645_014266_01A887_C15C\n",
      "126: S1A_IW_SLC__1SDV_20190109T162854_20190109T162921_025403_02D04F_2D50\n",
      "127: S1A_IW_SLC__1SDV_20190121T162854_20190121T162921_025578_02D6AE_F5A4\n",
      "128: S1A_IW_SLC__1SDV_20190214T162853_20190214T162920_025928_02E33F_B484\n",
      "129: S1A_IW_SLC__1SDV_20190202T162853_20190202T162920_025753_02DD0F_5F7D\n",
      "130: S1A_IW_SLC__1SDV_20190226T162853_20190226T162920_026103_02E986_6737\n",
      "131: S1A_IW_SLC__1SDV_20190310T162853_20190310T162920_026278_02EFD3_BBDE\n",
      "132: S1A_IW_SLC__1SDV_20190403T162853_20190403T162920_026628_02FCC0_8212\n",
      "133: S1A_IW_SLC__1SDV_20190322T162853_20190322T162920_026453_02F643_C7DD\n",
      "134: S1A_IW_SLC__1SDV_20190415T162854_20190415T162921_026803_03031E_2C8C\n",
      "135: S1A_IW_SLC__1SDV_20190427T162854_20190427T162921_026978_03096F_A930\n",
      "136: S1A_IW_SLC__1SDV_20190521T162855_20190521T162922_027328_03150C_D869\n",
      "137: S1A_IW_SLC__1SDV_20190509T162855_20190509T162922_027153_030F92_273B\n",
      "138: S1A_IW_SLC__1SDV_20190602T162856_20190602T162923_027503_031A7B_7D55\n",
      "139: S1A_IW_SLC__1SDV_20190614T162856_20190614T162923_027678_031FC7_1520\n",
      "140: S1A_IW_SLC__1SDV_20190626T162857_20190626T162924_027853_032502_2017\n",
      "141: S1A_IW_SLC__1SDV_20190708T162858_20190708T162925_028028_032A55_842A\n",
      "142: S1A_IW_SLC__1SDV_20190720T162859_20190720T162926_028203_032F9B_3964\n",
      "143: S1A_IW_SLC__1SDV_20190801T162900_20190801T162927_028378_0334F1_6214\n",
      "144: S1A_IW_SLC__1SDV_20190813T162901_20190813T162928_028553_033AA8_72BF\n",
      "145: S1A_IW_SLC__1SDV_20190825T162901_20190825T162928_028728_0340B3_00B3\n",
      "146: S1A_IW_SLC__1SDV_20190906T162902_20190906T162929_028903_0346CE_BC7E\n",
      "147: S1A_IW_SLC__1SDV_20190918T162902_20190918T162929_029078_034CDD_FB57\n",
      "148: S1A_IW_SLC__1SDV_20190930T162903_20190930T162930_029253_0352E3_F583\n",
      "149: S1A_IW_SLC__1SDV_20191012T162903_20191012T162930_029428_0358E4_5088\n",
      "150: S1A_IW_SLC__1SDV_20191024T162903_20191024T162930_029603_035EE6_588D\n",
      "151: S1A_IW_SLC__1SDV_20191105T162903_20191105T162930_029778_03650A_02E9\n",
      "152: S1A_IW_SLC__1SDV_20191117T162903_20191117T162930_029953_036B2C_71E1\n",
      "153: S1A_IW_SLC__1SDV_20191129T162902_20191129T162929_030128_03713C_B3E1\n",
      "154: S1A_IW_SLC__1SDV_20191211T162902_20191211T162929_030303_037742_245E\n",
      "155: S1A_IW_SLC__1SDV_20191223T162901_20191223T162928_030478_037D4F_C0AE\n",
      "156: S1B_IW_SLC__1SSV_20170103T161137_20170103T161204_003686_00653D_DC77\n",
      "157: S1B_IW_SLC__1SDV_20170113T030256_20170113T030323_003824_006932_78C2\n",
      "158: S1B_IW_SLC__1SDV_20170111T031914_20170111T031942_003795_00685F_7C8B\n",
      "159: S1B_IW_SLC__1SSV_20170117T155522_20170117T155549_003890_006B27_8927\n",
      "160: S1B_IW_SLC__1SSV_20170124T154703_20170124T154730_003992_006E3A_80C3\n",
      "161: S1B_IW_SLC__1SSV_20170127T161137_20170127T161204_004036_006F95_AE91\n",
      "162: S1B_IW_SLC__1SDV_20170206T030255_20170206T030322_004174_007398_7474\n",
      "163: S1B_IW_SLC__1SDV_20170204T031913_20170204T031941_004145_0072BE_6035\n",
      "164: S1B_IW_SLC__1SSV_20170210T155521_20170210T155548_004240_00759A_8621\n",
      "165: S1B_IW_SLC__1SSV_20170217T154703_20170217T154730_004342_0078AB_A6A8\n",
      "166: S1B_IW_SLC__1SSV_20170220T161136_20170220T161203_004386_007A0B_DF36\n",
      "167: S1B_IW_SLC__1SSV_20170222T155521_20170222T155548_004415_007AE7_5F89\n",
      "168: S1B_IW_SLC__1SDV_20170228T031913_20170228T031941_004495_007D2E_53C4\n",
      "169: S1B_IW_SLC__1SSV_20170301T154703_20170301T154730_004517_007DCD_726B\n",
      "170: S1B_IW_SLC__1SDV_20170302T030255_20170302T030322_004524_007E02_6010\n",
      "171: S1B_IW_SLC__1SSV_20170304T161136_20170304T161203_004561_007F26_8522\n",
      "172: S1B_IW_SLC__1SSV_20170306T155521_20170306T155548_004590_008000_D5EC\n",
      "173: S1B_IW_SLC__1SDV_20170312T031913_20170312T031941_004670_008251_235D\n",
      "174: S1B_IW_SLC__1SSV_20170313T154703_20170313T154730_004692_0082FD_59A0\n",
      "175: S1B_IW_SLC__1SDV_20170314T030255_20170314T030322_004699_008330_5BDF\n",
      "176: S1B_IW_SLC__1SSV_20170316T161136_20170316T161203_004736_008452_9FEF\n",
      "177: S1B_IW_SLC__1SDV_20170324T031913_20170324T031941_004845_008766_017C\n",
      "178: S1B_IW_SLC__1SDV_20170326T030255_20170326T030322_004874_008832_09D0\n",
      "179: S1B_IW_SLC__1SDV_20170405T031914_20170405T031942_005020_008C75_B411\n",
      "180: S1B_IW_SLC__1SDV_20170407T030256_20170407T030323_005049_008D40_895A\n",
      "181: S1B_IW_SLC__1SDV_20170417T031914_20170417T031942_005195_009174_BB33\n",
      "182: S1B_IW_SLC__1SDV_20170429T031915_20170429T031943_005370_009693_6B78\n",
      "183: S1B_IW_SLC__1SDV_20170419T030256_20170419T030323_005224_009249_BC20\n",
      "184: S1B_IW_SLC__1SDV_20170501T030257_20170501T030324_005399_009762_42EF\n",
      "185: S1A_IW_SLC__1SSV_20170511T155606_20170511T155633_016536_01B692_4F4F\n",
      "186: S1B_IW_SLC__1SDV_20170511T031915_20170511T031943_005545_009B64_87A8\n",
      "187: S1B_IW_SLC__1SDV_20170513T030257_20170513T030324_005574_009C2E_8852\n",
      "188: S1A_IW_SLC__1SSV_20170518T154748_20170518T154815_016638_01B9BD_EFBC\n",
      "189: S1B_IW_SLC__1SDV_20170523T031916_20170523T031944_005720_00A055_61B7\n",
      "190: S1A_IW_SLC__1SSV_20170523T155606_20170523T155633_016711_01BBFB_62CF\n",
      "191: S1A_IW_SLC__1SSV_20170530T154748_20170530T154815_016813_01BF22_841C\n",
      "192: S1A_IW_SLC__1SSV_20170602T161222_20170602T161245_016857_01C07F_A6A8\n",
      "193: S1B_IW_SLC__1SDV_20170604T031917_20170604T031945_005895_00A568_EB56\n",
      "194: S1A_IW_SLC__1SDV_20170604T155607_20170604T155634_016886_01C167_19EE\n",
      "195: S1B_IW_SLC__1SDV_20170606T030259_20170606T030326_005924_00A63E_8989\n",
      "196: S1A_IW_SLC__1SDV_20170614T161223_20170614T161246_017032_01C5EA_FF72\n",
      "197: S1A_IW_SLC__1SDV_20170611T154749_20170611T154816_016988_01C490_82A4\n",
      "198: S1A_IW_SLC__1SDV_20170616T155608_20170616T155635_017061_01C6CC_B9B8\n",
      "199: S1B_IW_SLC__1SDV_20170616T031917_20170616T031945_006070_00AA8F_2EF3\n",
      "200: S1B_IW_SLC__1SDV_20170618T030300_20170618T030327_006099_00AB61_591A\n",
      "201: S1A_IW_SLC__1SDV_20170623T154750_20170623T154817_017163_01C9E9_7E04\n",
      "202: S1B_IW_SLC__1SDV_20170628T031918_20170628T031946_006245_00AFA2_657B\n",
      "203: S1A_IW_SLC__1SDV_20170628T155608_20170628T155635_017236_01CC1A_AE50\n",
      "204: S1B_IW_SLC__1SDV_20170630T030300_20170630T030327_006274_00B071_68AB\n",
      "205: S1A_IW_SLC__1SDV_20170705T154750_20170705T154817_017338_01CF34_BC8F\n",
      "206: S1B_IW_SLC__1SDV_20170710T031919_20170710T031947_006420_00B491_4D36\n",
      "207: S1A_IW_SLC__1SDV_20170710T155609_20170710T155636_017411_01D162_76EB\n",
      "208: S1A_IW_SLC__1SDV_20170717T154751_20170717T154818_017513_01D485_D502\n",
      "209: S1B_IW_SLC__1SDV_20170722T031920_20170722T031947_006595_00B992_9C76\n",
      "210: S1A_IW_SLC__1SDV_20170722T155610_20170722T155637_017586_01D6B5_8062\n",
      "211: S1A_IW_SLC__1SDV_20170729T154752_20170729T154819_017688_01D9E0_C08A\n",
      "212: S1A_IW_SLC__1SDV_20170803T155610_20170803T155637_017761_01DC0D_A35E\n",
      "213: S1B_IW_SLC__1SDV_20170805T030302_20170805T030329_006799_00BF67_8DA5\n",
      "214: S1A_IW_SLC__1SDV_20170810T154753_20170810T154820_017863_01DF34_0964\n",
      "215: S1A_IW_SLC__1SDV_20170813T161226_20170813T161249_017907_01E07F_F485\n",
      "216: S1B_IW_SLC__1SDV_20170815T031921_20170815T031949_006945_00C3B3_6142\n",
      "217: S1A_IW_SLC__1SDV_20170815T155611_20170815T155638_017936_01E162_832E\n",
      "218: S1B_IW_SLC__1SDV_20170817T030303_20170817T030330_006974_00C481_CEC4\n",
      "219: S1A_IW_SLC__1SDV_20170822T154753_20170822T154820_018038_01E485_D18C\n",
      "220: S1B_IW_SLC__1SDV_20170827T031921_20170827T031949_007120_00C8C4_A3A4\n",
      "221: S1A_IW_SLC__1SDV_20170827T155612_20170827T155639_018111_01E6AD_BC85\n",
      "222: S1B_IW_SLC__1SDV_20170829T030303_20170829T030330_007149_00C990_1CD7\n",
      "223: S1A_IW_SLC__1SDV_20170903T154754_20170903T154821_018213_01E9CA_59D5\n",
      "224: S1B_IW_SLC__1SDV_20170908T031922_20170908T031950_007295_00CDDC_D1A6\n",
      "225: S1A_IW_SLC__1SDV_20170908T155612_20170908T155639_018286_01EC04_FA40\n",
      "226: S1B_IW_SLC__1SDV_20170910T030304_20170910T030331_007324_00CEAF_3C0B\n",
      "227: S1A_IW_SLC__1SDV_20170915T154754_20170915T154821_018388_01EF3E_5456\n",
      "228: S1B_IW_SLC__1SDV_20170920T031922_20170920T031950_007470_00D2FC_E983\n",
      "229: S1A_IW_SLC__1SDV_20170920T155613_20170920T155640_018461_01F166_840B\n",
      "230: S1B_IW_SLC__1SDV_20170922T030304_20170922T030331_007499_00D3CF_6071\n",
      "231: S1A_IW_SLC__1SDV_20170927T154754_20170927T154821_018563_01F499_62E4\n",
      "232: S1A_IW_SLC__1SDV_20170930T161228_20170930T161251_018607_01F5ED_BC78\n",
      "233: S1B_IW_SLC__1SDV_20171002T031923_20171002T031950_007645_00D7FD_0E5C\n",
      "234: S1A_IW_SLC__1SDV_20171002T155613_20171002T155640_018636_01F6CA_042B\n",
      "235: S1A_IW_SLC__1SDV_20171009T154755_20171009T154822_018738_01F9E9_D9A6\n",
      "236: S1A_IW_SLC__1SDV_20171012T161228_20171012T161251_018782_01FB3C_64F8\n",
      "237: S1A_IW_SLC__1SDV_20171014T155613_20171014T155640_018811_01FC1A_770C\n",
      "238: S1B_IW_SLC__1SDV_20171016T030305_20171016T030332_007849_00DDBD_55C3\n",
      "239: S1A_IW_SLC__1SDV_20171021T154755_20171021T154822_018913_01FF4E_6DDB\n",
      "240: S1A_IW_SLC__1SDV_20171026T155613_20171026T155640_018986_020169_6B71\n",
      "241: S1A_IW_SLC__1SDV_20171024T161228_20171024T161252_018957_020098_67B8\n",
      "242: S1B_IW_SLC__1SDV_20171028T030305_20171028T030332_008024_00E2CD_023F\n",
      "243: S1A_IW_SLC__1SDV_20171102T154755_20171102T154822_019088_02049D_DB77\n",
      "244: S1B_IW_SLC__1SDV_20171107T031923_20171107T031951_008170_00E708_F1CA\n",
      "245: S1B_IW_SLC__1SDV_20171109T030305_20171109T030332_008199_00E7DA_3CEB\n",
      "246: S1A_IW_SLC__1SDV_20171107T155613_20171107T155640_019161_0206D6_B384\n",
      "247: S1A_IW_SLC__1SDV_20171114T154754_20171114T154821_019263_020A12_41F8\n",
      "248: S1A_IW_SLC__1SDV_20171117T161228_20171117T161251_019307_020B69_B659\n",
      "249: S1A_IW_SLC__1SDV_20171119T155613_20171119T155640_019336_020C52_5093\n",
      "250: S1B_IW_SLC__1SDV_20171121T030304_20171121T030331_008374_00ED30_F307\n",
      "251: S1A_IW_SLC__1SDV_20171126T154754_20171126T154821_019438_020F9C_C7EE\n",
      "252: S1B_IW_SLC__1SDV_20171201T031922_20171201T031950_008520_00F1C6_993A\n",
      "253: S1A_IW_SLC__1SDV_20171129T161228_20171129T161251_019482_0210EE_0C3E\n",
      "254: S1A_IW_SLC__1SDV_20171201T155612_20171201T155639_019511_0211CB_C30A\n",
      "255: S1B_IW_SLC__1SDV_20171203T030304_20171203T030331_008549_00F2AE_DE90\n",
      "256: S1A_IW_SLC__1SDV_20171208T154754_20171208T154821_019613_02150F_FBDD\n",
      "257: S1A_IW_SLC__1SDV_20171211T161227_20171211T161250_019657_021668_FFE6\n",
      "258: S1B_IW_SLC__1SDV_20171213T031922_20171213T031950_008695_00F752_4A4B\n",
      "259: S1A_IW_SLC__1SDV_20171213T155612_20171213T155639_019686_021746_0F1B\n",
      "260: S1B_IW_SLC__1SDV_20171215T030304_20171215T030331_008724_00F83B_A896\n",
      "261: S1A_IW_SLC__1SDV_20171220T154753_20171220T154820_019788_021A83_2F06\n",
      "262: S1A_IW_SLC__1SDV_20171223T161226_20171223T161250_019832_021BCB_26CB\n",
      "263: S1A_IW_SLC__1SDV_20171225T155611_20171225T155638_019861_021CAB_A3D2\n",
      "264: S1B_IW_SLC__1SDV_20171227T030303_20171227T030330_008899_00FDD7_9134\n"
     ]
    }
   ],
   "source": [
    "usegranules = [i.properties['sceneName'] for i in results]\n",
    "# joblist = hyp3.find_jobs()\n",
    "# joblist = joblist.filter_jobs(succeeded=True,include_expired=False)\n",
    "# joblen = len(results)-1\n",
    "\n",
    "#NOTE: a result that is listed by has no file is: 1201T...22\n",
    "#      a file that exists by has no result is:    \n",
    "\n",
    "job = joblist[-11]\n",
    "jobname = job.job_parameters['granules']\n",
    "print(jobname)\n",
    "# job.download_files(download_path)\n",
    "# reproject(WTKstr,EPSGn,products_path,f'{str(clipped_path)}/{pol}',convert_to_db=True)\n",
    "# os.system(f'rm {str(products_path)}/*.tif')\n",
    "# os.system(f'rm {str(download_path)}/*.zip')\n",
    "for i,job in enumerate(joblist):\n",
    "    print(f'{i}: {job.job_parameters[\"granules\"][0]}')"
   ]
  },
  {
   "cell_type": "code",
   "execution_count": 20,
   "id": "660ac013-0c71-4e74-bc76-16238c5cac17",
   "metadata": {
    "tags": []
   },
   "outputs": [
    {
     "data": {
      "application/json": {
       "ascii": false,
       "bar_format": null,
       "colour": null,
       "elapsed": 0.020720481872558594,
       "initial": 0,
       "n": 0,
       "ncols": null,
       "nrows": null,
       "postfix": null,
       "prefix": "S1A_IW_20180101T154753_DVP_RTC30_G_gpuned_5DE5.zip",
       "rate": null,
       "total": 453400658,
       "unit": "it",
       "unit_divisor": 1000,
       "unit_scale": false
      },
      "application/vnd.jupyter.widget-view+json": {
       "model_id": "9552c8a20fa14c0aa1ba408ab6f94005",
       "version_major": 2,
       "version_minor": 0
      },
      "text/plain": [
       "S1A_IW_20180101T154753_DVP_RTC30_G_gpuned_5DE5.zip:   0%|          | 0/453400658 [00:00<?, ?it/s]"
      ]
     },
     "metadata": {},
     "output_type": "display_data"
    },
    {
     "name": "stdout",
     "output_type": "stream",
     "text": [
      "32607\n"
     ]
    },
    {
     "data": {
      "application/json": {
       "ascii": false,
       "bar_format": null,
       "colour": null,
       "elapsed": 0.020633935928344727,
       "initial": 0,
       "n": 0,
       "ncols": null,
       "nrows": null,
       "postfix": null,
       "prefix": "S1A_IW_20180101T154818_DVP_RTC30_G_gpuned_0D01.zip",
       "rate": null,
       "total": 436258496,
       "unit": "it",
       "unit_divisor": 1000,
       "unit_scale": false
      },
      "application/vnd.jupyter.widget-view+json": {
       "model_id": "dc4a7c3f233f48d49cd5ef107ad8a5f7",
       "version_major": 2,
       "version_minor": 0
      },
      "text/plain": [
       "S1A_IW_20180101T154818_DVP_RTC30_G_gpuned_0D01.zip:   0%|          | 0/436258496 [00:00<?, ?it/s]"
      ]
     },
     "metadata": {},
     "output_type": "display_data"
    },
    {
     "data": {
      "application/json": {
       "ascii": false,
       "bar_format": null,
       "colour": null,
       "elapsed": 0.019269943237304688,
       "initial": 0,
       "n": 0,
       "ncols": null,
       "nrows": null,
       "postfix": null,
       "prefix": "S1B_IW_20180108T030209_DVP_RTC30_G_gpuned_A941.zip",
       "rate": null,
       "total": 501278625,
       "unit": "it",
       "unit_divisor": 1000,
       "unit_scale": false
      },
      "application/vnd.jupyter.widget-view+json": {
       "model_id": "86d8534ded4540e38679d8ec5c2e727b",
       "version_major": 2,
       "version_minor": 0
      },
      "text/plain": [
       "S1B_IW_20180108T030209_DVP_RTC30_G_gpuned_A941.zip:   0%|          | 0/501278625 [00:00<?, ?it/s]"
      ]
     },
     "metadata": {},
     "output_type": "display_data"
    },
    {
     "data": {
      "application/json": {
       "ascii": false,
       "bar_format": null,
       "colour": null,
       "elapsed": 0.019420385360717773,
       "initial": 0,
       "n": 0,
       "ncols": null,
       "nrows": null,
       "postfix": null,
       "prefix": "S1B_IW_20180108T030237_DVP_RTC30_G_gpuned_AFCC.zip",
       "rate": null,
       "total": 472181423,
       "unit": "it",
       "unit_divisor": 1000,
       "unit_scale": false
      },
      "application/vnd.jupyter.widget-view+json": {
       "model_id": "d3828d2c427c4d20bdb4e3e0f9150904",
       "version_major": 2,
       "version_minor": 0
      },
      "text/plain": [
       "S1B_IW_20180108T030237_DVP_RTC30_G_gpuned_AFCC.zip:   0%|          | 0/472181423 [00:00<?, ?it/s]"
      ]
     },
     "metadata": {},
     "output_type": "display_data"
    },
    {
     "data": {
      "application/json": {
       "ascii": false,
       "bar_format": null,
       "colour": null,
       "elapsed": 0.019300460815429688,
       "initial": 0,
       "n": 0,
       "ncols": null,
       "nrows": null,
       "postfix": null,
       "prefix": "S1A_IW_20180109T025443_DVP_RTC30_G_gpuned_1F6E.zip",
       "rate": null,
       "total": 457374352,
       "unit": "it",
       "unit_divisor": 1000,
       "unit_scale": false
      },
      "application/vnd.jupyter.widget-view+json": {
       "model_id": "b52276623a1446c182aa9b49f1d90a98",
       "version_major": 2,
       "version_minor": 0
      },
      "text/plain": [
       "S1A_IW_20180109T025443_DVP_RTC30_G_gpuned_1F6E.zip:   0%|          | 0/457374352 [00:00<?, ?it/s]"
      ]
     },
     "metadata": {},
     "output_type": "display_data"
    },
    {
     "data": {
      "application/json": {
       "ascii": false,
       "bar_format": null,
       "colour": null,
       "elapsed": 0.01991868019104004,
       "initial": 0,
       "n": 0,
       "ncols": null,
       "nrows": null,
       "postfix": null,
       "prefix": "S1B_IW_20180109T153113_DVP_RTC30_G_gpuned_6BE6.zip",
       "rate": null,
       "total": 472803421,
       "unit": "it",
       "unit_divisor": 1000,
       "unit_scale": false
      },
      "application/vnd.jupyter.widget-view+json": {
       "model_id": "d621122699024deca908c9a58c8074ee",
       "version_major": 2,
       "version_minor": 0
      },
      "text/plain": [
       "S1B_IW_20180109T153113_DVP_RTC30_G_gpuned_6BE6.zip:   0%|          | 0/472803421 [00:00<?, ?it/s]"
      ]
     },
     "metadata": {},
     "output_type": "display_data"
    },
    {
     "data": {
      "application/json": {
       "ascii": false,
       "bar_format": null,
       "colour": null,
       "elapsed": 0.019414901733398438,
       "initial": 0,
       "n": 0,
       "ncols": null,
       "nrows": null,
       "postfix": null,
       "prefix": "S1A_IW_20180109T025508_DVP_RTC30_G_gpuned_DA54.zip",
       "rate": null,
       "total": 451373355,
       "unit": "it",
       "unit_divisor": 1000,
       "unit_scale": false
      },
      "application/vnd.jupyter.widget-view+json": {
       "model_id": "7eb2bb9c49ca4bcb9cf515ec7ac934ed",
       "version_major": 2,
       "version_minor": 0
      },
      "text/plain": [
       "S1A_IW_20180109T025508_DVP_RTC30_G_gpuned_DA54.zip:   0%|          | 0/451373355 [00:00<?, ?it/s]"
      ]
     },
     "metadata": {},
     "output_type": "display_data"
    },
    {
     "data": {
      "application/json": {
       "ascii": false,
       "bar_format": null,
       "colour": null,
       "elapsed": 0.02879166603088379,
       "initial": 0,
       "n": 0,
       "ncols": null,
       "nrows": null,
       "postfix": null,
       "prefix": "S1A_IW_20180113T154752_DVP_RTC30_G_gpuned_096A.zip",
       "rate": null,
       "total": 453535952,
       "unit": "it",
       "unit_divisor": 1000,
       "unit_scale": false
      },
      "application/vnd.jupyter.widget-view+json": {
       "model_id": "fc5c7270a2034c9ea6dfb772254fc32f",
       "version_major": 2,
       "version_minor": 0
      },
      "text/plain": [
       "S1A_IW_20180113T154752_DVP_RTC30_G_gpuned_096A.zip:   0%|          | 0/453535952 [00:00<?, ?it/s]"
      ]
     },
     "metadata": {},
     "output_type": "display_data"
    },
    {
     "data": {
      "application/json": {
       "ascii": false,
       "bar_format": null,
       "colour": null,
       "elapsed": 0.021896839141845703,
       "initial": 0,
       "n": 0,
       "ncols": null,
       "nrows": null,
       "postfix": null,
       "prefix": "S1A_IW_20180113T154817_DVP_RTC30_G_gpuned_E716.zip",
       "rate": null,
       "total": 436086149,
       "unit": "it",
       "unit_divisor": 1000,
       "unit_scale": false
      },
      "application/vnd.jupyter.widget-view+json": {
       "model_id": "ce47ec524705460ea31d46231b3f2353",
       "version_major": 2,
       "version_minor": 0
      },
      "text/plain": [
       "S1A_IW_20180113T154817_DVP_RTC30_G_gpuned_E716.zip:   0%|          | 0/436086149 [00:00<?, ?it/s]"
      ]
     },
     "metadata": {},
     "output_type": "display_data"
    },
    {
     "name": "stdout",
     "output_type": "stream",
     "text": [
      "Current job: 10/181, time elapsed: 3.24 min, time remaining: 22.19 min\n"
     ]
    },
    {
     "data": {
      "application/json": {
       "ascii": false,
       "bar_format": null,
       "colour": null,
       "elapsed": 0.020349740982055664,
       "initial": 0,
       "n": 0,
       "ncols": null,
       "nrows": null,
       "postfix": null,
       "prefix": "S1B_IW_20180120T030236_DVP_RTC30_G_gpuned_5E28.zip",
       "rate": null,
       "total": 472539067,
       "unit": "it",
       "unit_divisor": 1000,
       "unit_scale": false
      },
      "application/vnd.jupyter.widget-view+json": {
       "model_id": "085211addfc64e528cb1f1c2d8cdbfe5",
       "version_major": 2,
       "version_minor": 0
      },
      "text/plain": [
       "S1B_IW_20180120T030236_DVP_RTC30_G_gpuned_5E28.zip:   0%|          | 0/472539067 [00:00<?, ?it/s]"
      ]
     },
     "metadata": {},
     "output_type": "display_data"
    },
    {
     "data": {
      "application/json": {
       "ascii": false,
       "bar_format": null,
       "colour": null,
       "elapsed": 0.01963353157043457,
       "initial": 0,
       "n": 0,
       "ncols": null,
       "nrows": null,
       "postfix": null,
       "prefix": "S1B_IW_20180120T030209_DVP_RTC30_G_gpuned_3C8E.zip",
       "rate": null,
       "total": 501103757,
       "unit": "it",
       "unit_divisor": 1000,
       "unit_scale": false
      },
      "application/vnd.jupyter.widget-view+json": {
       "model_id": "8e63ab394a18488ca18561712778f1ae",
       "version_major": 2,
       "version_minor": 0
      },
      "text/plain": [
       "S1B_IW_20180120T030209_DVP_RTC30_G_gpuned_3C8E.zip:   0%|          | 0/501103757 [00:00<?, ?it/s]"
      ]
     },
     "metadata": {},
     "output_type": "display_data"
    },
    {
     "data": {
      "application/json": {
       "ascii": false,
       "bar_format": null,
       "colour": null,
       "elapsed": 0.019585609436035156,
       "initial": 0,
       "n": 0,
       "ncols": null,
       "nrows": null,
       "postfix": null,
       "prefix": "S1B_IW_20180121T153112_DVP_RTC30_G_gpuned_4A6F.zip",
       "rate": null,
       "total": 472624571,
       "unit": "it",
       "unit_divisor": 1000,
       "unit_scale": false
      },
      "application/vnd.jupyter.widget-view+json": {
       "model_id": "261ee919fd9c42bb845fb6d5e3d186f8",
       "version_major": 2,
       "version_minor": 0
      },
      "text/plain": [
       "S1B_IW_20180121T153112_DVP_RTC30_G_gpuned_4A6F.zip:   0%|          | 0/472624571 [00:00<?, ?it/s]"
      ]
     },
     "metadata": {},
     "output_type": "display_data"
    },
    {
     "data": {
      "application/json": {
       "ascii": false,
       "bar_format": null,
       "colour": null,
       "elapsed": 0.01923823356628418,
       "initial": 0,
       "n": 0,
       "ncols": null,
       "nrows": null,
       "postfix": null,
       "prefix": "S1A_IW_20180125T154752_DVP_RTC30_G_gpuned_9DFA.zip",
       "rate": null,
       "total": 453753734,
       "unit": "it",
       "unit_divisor": 1000,
       "unit_scale": false
      },
      "application/vnd.jupyter.widget-view+json": {
       "model_id": "01434620db524d4e89584f3bec9d86f3",
       "version_major": 2,
       "version_minor": 0
      },
      "text/plain": [
       "S1A_IW_20180125T154752_DVP_RTC30_G_gpuned_9DFA.zip:   0%|          | 0/453753734 [00:00<?, ?it/s]"
      ]
     },
     "metadata": {},
     "output_type": "display_data"
    },
    {
     "data": {
      "application/json": {
       "ascii": false,
       "bar_format": null,
       "colour": null,
       "elapsed": 0.019292831420898438,
       "initial": 0,
       "n": 0,
       "ncols": null,
       "nrows": null,
       "postfix": null,
       "prefix": "S1A_IW_20180125T154817_DVP_RTC30_G_gpuned_D55F.zip",
       "rate": null,
       "total": 436354913,
       "unit": "it",
       "unit_divisor": 1000,
       "unit_scale": false
      },
      "application/vnd.jupyter.widget-view+json": {
       "model_id": "802f5f0c68344039bfaef505826a96ef",
       "version_major": 2,
       "version_minor": 0
      },
      "text/plain": [
       "S1A_IW_20180125T154817_DVP_RTC30_G_gpuned_D55F.zip:   0%|          | 0/436354913 [00:00<?, ?it/s]"
      ]
     },
     "metadata": {},
     "output_type": "display_data"
    },
    {
     "data": {
      "application/json": {
       "ascii": false,
       "bar_format": null,
       "colour": null,
       "elapsed": 0.019445419311523438,
       "initial": 0,
       "n": 0,
       "ncols": null,
       "nrows": null,
       "postfix": null,
       "prefix": "S1A_IW_20180202T025442_DVP_RTC30_G_gpuned_34A9.zip",
       "rate": null,
       "total": 456049991,
       "unit": "it",
       "unit_divisor": 1000,
       "unit_scale": false
      },
      "application/vnd.jupyter.widget-view+json": {
       "model_id": "4f9187f27c1b498ea6d804b673a3cd13",
       "version_major": 2,
       "version_minor": 0
      },
      "text/plain": [
       "S1A_IW_20180202T025442_DVP_RTC30_G_gpuned_34A9.zip:   0%|          | 0/456049991 [00:00<?, ?it/s]"
      ]
     },
     "metadata": {},
     "output_type": "display_data"
    },
    {
     "data": {
      "application/json": {
       "ascii": false,
       "bar_format": null,
       "colour": null,
       "elapsed": 0.019672155380249023,
       "initial": 0,
       "n": 0,
       "ncols": null,
       "nrows": null,
       "postfix": null,
       "prefix": "S1A_IW_20180202T025507_DVP_RTC30_G_gpuned_A37D.zip",
       "rate": null,
       "total": 451747236,
       "unit": "it",
       "unit_divisor": 1000,
       "unit_scale": false
      },
      "application/vnd.jupyter.widget-view+json": {
       "model_id": "0cfe558f81c0460a9321d64367873288",
       "version_major": 2,
       "version_minor": 0
      },
      "text/plain": [
       "S1A_IW_20180202T025507_DVP_RTC30_G_gpuned_A37D.zip:   0%|          | 0/451747236 [00:00<?, ?it/s]"
      ]
     },
     "metadata": {},
     "output_type": "display_data"
    },
    {
     "data": {
      "application/json": {
       "ascii": false,
       "bar_format": null,
       "colour": null,
       "elapsed": 0.01945018768310547,
       "initial": 0,
       "n": 0,
       "ncols": null,
       "nrows": null,
       "postfix": null,
       "prefix": "S1A_IW_20180206T154752_DVP_RTC30_G_gpuned_BBDF.zip",
       "rate": null,
       "total": 453779397,
       "unit": "it",
       "unit_divisor": 1000,
       "unit_scale": false
      },
      "application/vnd.jupyter.widget-view+json": {
       "model_id": "bbcb98aeb9fb4b57b071d58438cf1499",
       "version_major": 2,
       "version_minor": 0
      },
      "text/plain": [
       "S1A_IW_20180206T154752_DVP_RTC30_G_gpuned_BBDF.zip:   0%|          | 0/453779397 [00:00<?, ?it/s]"
      ]
     },
     "metadata": {},
     "output_type": "display_data"
    },
    {
     "data": {
      "application/json": {
       "ascii": false,
       "bar_format": null,
       "colour": null,
       "elapsed": 0.019075632095336914,
       "initial": 0,
       "n": 0,
       "ncols": null,
       "nrows": null,
       "postfix": null,
       "prefix": "S1B_IW_20180202T153112_DVP_RTC30_G_gpuned_C288.zip",
       "rate": null,
       "total": 472237360,
       "unit": "it",
       "unit_divisor": 1000,
       "unit_scale": false
      },
      "application/vnd.jupyter.widget-view+json": {
       "model_id": "33038c6237e6473cb3fc7cd8db04d692",
       "version_major": 2,
       "version_minor": 0
      },
      "text/plain": [
       "S1B_IW_20180202T153112_DVP_RTC30_G_gpuned_C288.zip:   0%|          | 0/472237360 [00:00<?, ?it/s]"
      ]
     },
     "metadata": {},
     "output_type": "display_data"
    },
    {
     "data": {
      "application/json": {
       "ascii": false,
       "bar_format": null,
       "colour": null,
       "elapsed": 0.01951289176940918,
       "initial": 0,
       "n": 0,
       "ncols": null,
       "nrows": null,
       "postfix": null,
       "prefix": "S1A_IW_20180206T154817_DVP_RTC30_G_gpuned_61F8.zip",
       "rate": null,
       "total": 435747714,
       "unit": "it",
       "unit_divisor": 1000,
       "unit_scale": false
      },
      "application/vnd.jupyter.widget-view+json": {
       "model_id": "5ff587cb805c460096b4438fd181c454",
       "version_major": 2,
       "version_minor": 0
      },
      "text/plain": [
       "S1A_IW_20180206T154817_DVP_RTC30_G_gpuned_61F8.zip:   0%|          | 0/435747714 [00:00<?, ?it/s]"
      ]
     },
     "metadata": {},
     "output_type": "display_data"
    },
    {
     "name": "stdout",
     "output_type": "stream",
     "text": [
      "Current job: 20/181, time elapsed: 6.94 min, time remaining: 31.93 min\n"
     ]
    },
    {
     "data": {
      "application/json": {
       "ascii": false,
       "bar_format": null,
       "colour": null,
       "elapsed": 0.020258426666259766,
       "initial": 0,
       "n": 0,
       "ncols": null,
       "nrows": null,
       "postfix": null,
       "prefix": "S1B_IW_20180213T030208_DVP_RTC30_G_gpuned_751C.zip",
       "rate": null,
       "total": 499445514,
       "unit": "it",
       "unit_divisor": 1000,
       "unit_scale": false
      },
      "application/vnd.jupyter.widget-view+json": {
       "model_id": "bfc4939d8f334ec58504dfbc562db67b",
       "version_major": 2,
       "version_minor": 0
      },
      "text/plain": [
       "S1B_IW_20180213T030208_DVP_RTC30_G_gpuned_751C.zip:   0%|          | 0/499445514 [00:00<?, ?it/s]"
      ]
     },
     "metadata": {},
     "output_type": "display_data"
    },
    {
     "data": {
      "application/json": {
       "ascii": false,
       "bar_format": null,
       "colour": null,
       "elapsed": 0.01941990852355957,
       "initial": 0,
       "n": 0,
       "ncols": null,
       "nrows": null,
       "postfix": null,
       "prefix": "S1B_IW_20180213T030236_DVP_RTC30_G_gpuned_6DBB.zip",
       "rate": null,
       "total": 472013512,
       "unit": "it",
       "unit_divisor": 1000,
       "unit_scale": false
      },
      "application/vnd.jupyter.widget-view+json": {
       "model_id": "d7b074d34400472bbaeba778bad189af",
       "version_major": 2,
       "version_minor": 0
      },
      "text/plain": [
       "S1B_IW_20180213T030236_DVP_RTC30_G_gpuned_6DBB.zip:   0%|          | 0/472013512 [00:00<?, ?it/s]"
      ]
     },
     "metadata": {},
     "output_type": "display_data"
    },
    {
     "data": {
      "application/json": {
       "ascii": false,
       "bar_format": null,
       "colour": null,
       "elapsed": 0.019717931747436523,
       "initial": 0,
       "n": 0,
       "ncols": null,
       "nrows": null,
       "postfix": null,
       "prefix": "S1A_IW_20180214T025442_DVP_RTC30_G_gpuned_FCF1.zip",
       "rate": null,
       "total": 457554503,
       "unit": "it",
       "unit_divisor": 1000,
       "unit_scale": false
      },
      "application/vnd.jupyter.widget-view+json": {
       "model_id": "1424248a5ad6475082b8a02e624152e4",
       "version_major": 2,
       "version_minor": 0
      },
      "text/plain": [
       "S1A_IW_20180214T025442_DVP_RTC30_G_gpuned_FCF1.zip:   0%|          | 0/457554503 [00:00<?, ?it/s]"
      ]
     },
     "metadata": {},
     "output_type": "display_data"
    },
    {
     "data": {
      "application/json": {
       "ascii": false,
       "bar_format": null,
       "colour": null,
       "elapsed": 0.019418716430664062,
       "initial": 0,
       "n": 0,
       "ncols": null,
       "nrows": null,
       "postfix": null,
       "prefix": "S1A_IW_20180214T025507_DVP_RTC30_G_gpuned_84C6.zip",
       "rate": null,
       "total": 451004823,
       "unit": "it",
       "unit_divisor": 1000,
       "unit_scale": false
      },
      "application/vnd.jupyter.widget-view+json": {
       "model_id": "279267bd5fba4b9aac0b7f58af88ce24",
       "version_major": 2,
       "version_minor": 0
      },
      "text/plain": [
       "S1A_IW_20180214T025507_DVP_RTC30_G_gpuned_84C6.zip:   0%|          | 0/451004823 [00:00<?, ?it/s]"
      ]
     },
     "metadata": {},
     "output_type": "display_data"
    },
    {
     "data": {
      "application/json": {
       "ascii": false,
       "bar_format": null,
       "colour": null,
       "elapsed": 0.01915287971496582,
       "initial": 0,
       "n": 0,
       "ncols": null,
       "nrows": null,
       "postfix": null,
       "prefix": "S1B_IW_20180214T153112_DVP_RTC30_G_gpuned_DC87.zip",
       "rate": null,
       "total": 471970819,
       "unit": "it",
       "unit_divisor": 1000,
       "unit_scale": false
      },
      "application/vnd.jupyter.widget-view+json": {
       "model_id": "dbf5c8bdd66244849dbf0c46cf5bcaf9",
       "version_major": 2,
       "version_minor": 0
      },
      "text/plain": [
       "S1B_IW_20180214T153112_DVP_RTC30_G_gpuned_DC87.zip:   0%|          | 0/471970819 [00:00<?, ?it/s]"
      ]
     },
     "metadata": {},
     "output_type": "display_data"
    },
    {
     "data": {
      "application/json": {
       "ascii": false,
       "bar_format": null,
       "colour": null,
       "elapsed": 0.021254539489746094,
       "initial": 0,
       "n": 0,
       "ncols": null,
       "nrows": null,
       "postfix": null,
       "prefix": "S1A_IW_20180218T154816_DVP_RTC30_G_gpuned_947F.zip",
       "rate": null,
       "total": 435541129,
       "unit": "it",
       "unit_divisor": 1000,
       "unit_scale": false
      },
      "application/vnd.jupyter.widget-view+json": {
       "model_id": "689a2014da104656868c747cdb1fccf6",
       "version_major": 2,
       "version_minor": 0
      },
      "text/plain": [
       "S1A_IW_20180218T154816_DVP_RTC30_G_gpuned_947F.zip:   0%|          | 0/435541129 [00:00<?, ?it/s]"
      ]
     },
     "metadata": {},
     "output_type": "display_data"
    },
    {
     "data": {
      "application/json": {
       "ascii": false,
       "bar_format": null,
       "colour": null,
       "elapsed": 0.01977705955505371,
       "initial": 0,
       "n": 0,
       "ncols": null,
       "nrows": null,
       "postfix": null,
       "prefix": "S1A_IW_20180218T154752_DVP_RTC30_G_gpuned_6FF6.zip",
       "rate": null,
       "total": 452716685,
       "unit": "it",
       "unit_divisor": 1000,
       "unit_scale": false
      },
      "application/vnd.jupyter.widget-view+json": {
       "model_id": "53014f8f817340ec8f3ca46470e7ff2b",
       "version_major": 2,
       "version_minor": 0
      },
      "text/plain": [
       "S1A_IW_20180218T154752_DVP_RTC30_G_gpuned_6FF6.zip:   0%|          | 0/452716685 [00:00<?, ?it/s]"
      ]
     },
     "metadata": {},
     "output_type": "display_data"
    },
    {
     "data": {
      "application/json": {
       "ascii": false,
       "bar_format": null,
       "colour": null,
       "elapsed": 0.019769906997680664,
       "initial": 0,
       "n": 0,
       "ncols": null,
       "nrows": null,
       "postfix": null,
       "prefix": "S1B_IW_20180225T030208_DVP_RTC30_G_gpuned_1DCF.zip",
       "rate": null,
       "total": 499972586,
       "unit": "it",
       "unit_divisor": 1000,
       "unit_scale": false
      },
      "application/vnd.jupyter.widget-view+json": {
       "model_id": "b76bcf41ce7048bfb7f7f36ace0ec5df",
       "version_major": 2,
       "version_minor": 0
      },
      "text/plain": [
       "S1B_IW_20180225T030208_DVP_RTC30_G_gpuned_1DCF.zip:   0%|          | 0/499972586 [00:00<?, ?it/s]"
      ]
     },
     "metadata": {},
     "output_type": "display_data"
    },
    {
     "data": {
      "application/json": {
       "ascii": false,
       "bar_format": null,
       "colour": null,
       "elapsed": 0.021423816680908203,
       "initial": 0,
       "n": 0,
       "ncols": null,
       "nrows": null,
       "postfix": null,
       "prefix": "S1B_IW_20180225T030236_DVP_RTC30_G_gpuned_0829.zip",
       "rate": null,
       "total": 471899046,
       "unit": "it",
       "unit_divisor": 1000,
       "unit_scale": false
      },
      "application/vnd.jupyter.widget-view+json": {
       "model_id": "910bdb0af28e4b3c8842180f4d17d87b",
       "version_major": 2,
       "version_minor": 0
      },
      "text/plain": [
       "S1B_IW_20180225T030236_DVP_RTC30_G_gpuned_0829.zip:   0%|          | 0/471899046 [00:00<?, ?it/s]"
      ]
     },
     "metadata": {},
     "output_type": "display_data"
    },
    {
     "data": {
      "application/json": {
       "ascii": false,
       "bar_format": null,
       "colour": null,
       "elapsed": 0.019423723220825195,
       "initial": 0,
       "n": 0,
       "ncols": null,
       "nrows": null,
       "postfix": null,
       "prefix": "S1B_IW_20180226T153112_DVP_RTC30_G_gpuned_27F5.zip",
       "rate": null,
       "total": 471613797,
       "unit": "it",
       "unit_divisor": 1000,
       "unit_scale": false
      },
      "application/vnd.jupyter.widget-view+json": {
       "model_id": "95887921e643480293c60ac25a37b19f",
       "version_major": 2,
       "version_minor": 0
      },
      "text/plain": [
       "S1B_IW_20180226T153112_DVP_RTC30_G_gpuned_27F5.zip:   0%|          | 0/471613797 [00:00<?, ?it/s]"
      ]
     },
     "metadata": {},
     "output_type": "display_data"
    },
    {
     "name": "stdout",
     "output_type": "stream",
     "text": [
      "Current job: 30/181, time elapsed: 10.60 min, time remaining: 35.56 min\n"
     ]
    },
    {
     "data": {
      "application/json": {
       "ascii": false,
       "bar_format": null,
       "colour": null,
       "elapsed": 0.019143104553222656,
       "initial": 0,
       "n": 0,
       "ncols": null,
       "nrows": null,
       "postfix": null,
       "prefix": "S1A_IW_20180302T154752_DVP_RTC30_G_gpuned_3376.zip",
       "rate": null,
       "total": 453454111,
       "unit": "it",
       "unit_divisor": 1000,
       "unit_scale": false
      },
      "application/vnd.jupyter.widget-view+json": {
       "model_id": "f3c16da2229d4954aa65521a4af407e8",
       "version_major": 2,
       "version_minor": 0
      },
      "text/plain": [
       "S1A_IW_20180302T154752_DVP_RTC30_G_gpuned_3376.zip:   0%|          | 0/453454111 [00:00<?, ?it/s]"
      ]
     },
     "metadata": {},
     "output_type": "display_data"
    },
    {
     "data": {
      "application/json": {
       "ascii": false,
       "bar_format": null,
       "colour": null,
       "elapsed": 0.018933534622192383,
       "initial": 0,
       "n": 0,
       "ncols": null,
       "nrows": null,
       "postfix": null,
       "prefix": "S1A_IW_20180302T154816_DVP_RTC30_G_gpuned_D13B.zip",
       "rate": null,
       "total": 435648195,
       "unit": "it",
       "unit_divisor": 1000,
       "unit_scale": false
      },
      "application/vnd.jupyter.widget-view+json": {
       "model_id": "0cce4fa5044a44608c42596e1aca5f59",
       "version_major": 2,
       "version_minor": 0
      },
      "text/plain": [
       "S1A_IW_20180302T154816_DVP_RTC30_G_gpuned_D13B.zip:   0%|          | 0/435648195 [00:00<?, ?it/s]"
      ]
     },
     "metadata": {},
     "output_type": "display_data"
    },
    {
     "data": {
      "application/json": {
       "ascii": false,
       "bar_format": null,
       "colour": null,
       "elapsed": 0.021265029907226562,
       "initial": 0,
       "n": 0,
       "ncols": null,
       "nrows": null,
       "postfix": null,
       "prefix": "S1B_IW_20180309T030208_DVP_RTC30_G_gpuned_3523.zip",
       "rate": null,
       "total": 498272461,
       "unit": "it",
       "unit_divisor": 1000,
       "unit_scale": false
      },
      "application/vnd.jupyter.widget-view+json": {
       "model_id": "7825ffe84f7e4a35b5c8ada9b4b5f5bc",
       "version_major": 2,
       "version_minor": 0
      },
      "text/plain": [
       "S1B_IW_20180309T030208_DVP_RTC30_G_gpuned_3523.zip:   0%|          | 0/498272461 [00:00<?, ?it/s]"
      ]
     },
     "metadata": {},
     "output_type": "display_data"
    },
    {
     "data": {
      "application/json": {
       "ascii": false,
       "bar_format": null,
       "colour": null,
       "elapsed": 0.020327329635620117,
       "initial": 0,
       "n": 0,
       "ncols": null,
       "nrows": null,
       "postfix": null,
       "prefix": "S1B_IW_20180309T030236_DVP_RTC30_G_gpuned_3E8D.zip",
       "rate": null,
       "total": 471906545,
       "unit": "it",
       "unit_divisor": 1000,
       "unit_scale": false
      },
      "application/vnd.jupyter.widget-view+json": {
       "model_id": "bac497d01a9d457e894204024baf3abb",
       "version_major": 2,
       "version_minor": 0
      },
      "text/plain": [
       "S1B_IW_20180309T030236_DVP_RTC30_G_gpuned_3E8D.zip:   0%|          | 0/471906545 [00:00<?, ?it/s]"
      ]
     },
     "metadata": {},
     "output_type": "display_data"
    },
    {
     "data": {
      "application/json": {
       "ascii": false,
       "bar_format": null,
       "colour": null,
       "elapsed": 0.019843578338623047,
       "initial": 0,
       "n": 0,
       "ncols": null,
       "nrows": null,
       "postfix": null,
       "prefix": "S1A_IW_20180310T025507_DVP_RTC30_G_gpuned_4A4C.zip",
       "rate": null,
       "total": 385778263,
       "unit": "it",
       "unit_divisor": 1000,
       "unit_scale": false
      },
      "application/vnd.jupyter.widget-view+json": {
       "model_id": "41d3181bbd0f48278b18d739bfe478bf",
       "version_major": 2,
       "version_minor": 0
      },
      "text/plain": [
       "S1A_IW_20180310T025507_DVP_RTC30_G_gpuned_4A4C.zip:   0%|          | 0/385778263 [00:00<?, ?it/s]"
      ]
     },
     "metadata": {},
     "output_type": "display_data"
    },
    {
     "data": {
      "application/json": {
       "ascii": false,
       "bar_format": null,
       "colour": null,
       "elapsed": 0.01968669891357422,
       "initial": 0,
       "n": 0,
       "ncols": null,
       "nrows": null,
       "postfix": null,
       "prefix": "S1A_IW_20180310T025442_DVP_RTC30_G_gpuned_01DF.zip",
       "rate": null,
       "total": 457381547,
       "unit": "it",
       "unit_divisor": 1000,
       "unit_scale": false
      },
      "application/vnd.jupyter.widget-view+json": {
       "model_id": "fd2fa94f80c049e0b4128e85af3db02e",
       "version_major": 2,
       "version_minor": 0
      },
      "text/plain": [
       "S1A_IW_20180310T025442_DVP_RTC30_G_gpuned_01DF.zip:   0%|          | 0/457381547 [00:00<?, ?it/s]"
      ]
     },
     "metadata": {},
     "output_type": "display_data"
    },
    {
     "data": {
      "application/json": {
       "ascii": false,
       "bar_format": null,
       "colour": null,
       "elapsed": 0.01999378204345703,
       "initial": 0,
       "n": 0,
       "ncols": null,
       "nrows": null,
       "postfix": null,
       "prefix": "S1B_IW_20180310T153112_DVP_RTC30_G_gpuned_58BF.zip",
       "rate": null,
       "total": 471719256,
       "unit": "it",
       "unit_divisor": 1000,
       "unit_scale": false
      },
      "application/vnd.jupyter.widget-view+json": {
       "model_id": "7c4fce0391b64910b9c435bd750cbc9d",
       "version_major": 2,
       "version_minor": 0
      },
      "text/plain": [
       "S1B_IW_20180310T153112_DVP_RTC30_G_gpuned_58BF.zip:   0%|          | 0/471719256 [00:00<?, ?it/s]"
      ]
     },
     "metadata": {},
     "output_type": "display_data"
    },
    {
     "data": {
      "application/json": {
       "ascii": false,
       "bar_format": null,
       "colour": null,
       "elapsed": 0.019166946411132812,
       "initial": 0,
       "n": 0,
       "ncols": null,
       "nrows": null,
       "postfix": null,
       "prefix": "S1A_IW_20180314T154752_DVP_RTC30_G_gpuned_1339.zip",
       "rate": null,
       "total": 453299853,
       "unit": "it",
       "unit_divisor": 1000,
       "unit_scale": false
      },
      "application/vnd.jupyter.widget-view+json": {
       "model_id": "f190760ef6d5434499e581fc5cb8a83c",
       "version_major": 2,
       "version_minor": 0
      },
      "text/plain": [
       "S1A_IW_20180314T154752_DVP_RTC30_G_gpuned_1339.zip:   0%|          | 0/453299853 [00:00<?, ?it/s]"
      ]
     },
     "metadata": {},
     "output_type": "display_data"
    },
    {
     "data": {
      "application/json": {
       "ascii": false,
       "bar_format": null,
       "colour": null,
       "elapsed": 0.020438671112060547,
       "initial": 0,
       "n": 0,
       "ncols": null,
       "nrows": null,
       "postfix": null,
       "prefix": "S1A_IW_20180314T154816_DVP_RTC30_G_gpuned_CA0B.zip",
       "rate": null,
       "total": 437074031,
       "unit": "it",
       "unit_divisor": 1000,
       "unit_scale": false
      },
      "application/vnd.jupyter.widget-view+json": {
       "model_id": "9a87ba6f94704e1fac082ff19fc737ab",
       "version_major": 2,
       "version_minor": 0
      },
      "text/plain": [
       "S1A_IW_20180314T154816_DVP_RTC30_G_gpuned_CA0B.zip:   0%|          | 0/437074031 [00:00<?, ?it/s]"
      ]
     },
     "metadata": {},
     "output_type": "display_data"
    },
    {
     "data": {
      "application/json": {
       "ascii": false,
       "bar_format": null,
       "colour": null,
       "elapsed": 0.023598432540893555,
       "initial": 0,
       "n": 0,
       "ncols": null,
       "nrows": null,
       "postfix": null,
       "prefix": "S1B_IW_20180321T030236_DVP_RTC30_G_gpuned_154A.zip",
       "rate": null,
       "total": 472437199,
       "unit": "it",
       "unit_divisor": 1000,
       "unit_scale": false
      },
      "application/vnd.jupyter.widget-view+json": {
       "model_id": "b70da26ec1054cc1a41f3b2c24b6b102",
       "version_major": 2,
       "version_minor": 0
      },
      "text/plain": [
       "S1B_IW_20180321T030236_DVP_RTC30_G_gpuned_154A.zip:   0%|          | 0/472437199 [00:00<?, ?it/s]"
      ]
     },
     "metadata": {},
     "output_type": "display_data"
    },
    {
     "name": "stdout",
     "output_type": "stream",
     "text": [
      "Current job: 40/181, time elapsed: 14.12 min, time remaining: 36.19 min\n"
     ]
    },
    {
     "data": {
      "application/json": {
       "ascii": false,
       "bar_format": null,
       "colour": null,
       "elapsed": 0.019308090209960938,
       "initial": 0,
       "n": 0,
       "ncols": null,
       "nrows": null,
       "postfix": null,
       "prefix": "S1B_IW_20180321T030208_DVP_RTC30_G_gpuned_6FA6.zip",
       "rate": null,
       "total": 502717727,
       "unit": "it",
       "unit_divisor": 1000,
       "unit_scale": false
      },
      "application/vnd.jupyter.widget-view+json": {
       "model_id": "5e043c5e90f04af6a95afc53eb748887",
       "version_major": 2,
       "version_minor": 0
      },
      "text/plain": [
       "S1B_IW_20180321T030208_DVP_RTC30_G_gpuned_6FA6.zip:   0%|          | 0/502717727 [00:00<?, ?it/s]"
      ]
     },
     "metadata": {},
     "output_type": "display_data"
    },
    {
     "data": {
      "application/json": {
       "ascii": false,
       "bar_format": null,
       "colour": null,
       "elapsed": 0.024376869201660156,
       "initial": 0,
       "n": 0,
       "ncols": null,
       "nrows": null,
       "postfix": null,
       "prefix": "S1B_IW_20180322T153112_DVP_RTC30_G_gpuned_F2A6.zip",
       "rate": null,
       "total": 472938342,
       "unit": "it",
       "unit_divisor": 1000,
       "unit_scale": false
      },
      "application/vnd.jupyter.widget-view+json": {
       "model_id": "a963ed20b3644128a99f3eca1c75460e",
       "version_major": 2,
       "version_minor": 0
      },
      "text/plain": [
       "S1B_IW_20180322T153112_DVP_RTC30_G_gpuned_F2A6.zip:   0%|          | 0/472938342 [00:00<?, ?it/s]"
      ]
     },
     "metadata": {},
     "output_type": "display_data"
    },
    {
     "data": {
      "application/json": {
       "ascii": false,
       "bar_format": null,
       "colour": null,
       "elapsed": 0.019054889678955078,
       "initial": 0,
       "n": 0,
       "ncols": null,
       "nrows": null,
       "postfix": null,
       "prefix": "S1A_IW_20180326T154752_DVP_RTC30_G_gpuned_DBBB.zip",
       "rate": null,
       "total": 453611201,
       "unit": "it",
       "unit_divisor": 1000,
       "unit_scale": false
      },
      "application/vnd.jupyter.widget-view+json": {
       "model_id": "57ff27142828454a853d28be94ce6810",
       "version_major": 2,
       "version_minor": 0
      },
      "text/plain": [
       "S1A_IW_20180326T154752_DVP_RTC30_G_gpuned_DBBB.zip:   0%|          | 0/453611201 [00:00<?, ?it/s]"
      ]
     },
     "metadata": {},
     "output_type": "display_data"
    },
    {
     "data": {
      "application/json": {
       "ascii": false,
       "bar_format": null,
       "colour": null,
       "elapsed": 0.02075958251953125,
       "initial": 0,
       "n": 0,
       "ncols": null,
       "nrows": null,
       "postfix": null,
       "prefix": "S1B_IW_20180402T030209_DVP_RTC30_G_gpuned_397C.zip",
       "rate": null,
       "total": 499885947,
       "unit": "it",
       "unit_divisor": 1000,
       "unit_scale": false
      },
      "application/vnd.jupyter.widget-view+json": {
       "model_id": "e0ae880bdfc2458a84be47f315bebc13",
       "version_major": 2,
       "version_minor": 0
      },
      "text/plain": [
       "S1B_IW_20180402T030209_DVP_RTC30_G_gpuned_397C.zip:   0%|          | 0/499885947 [00:00<?, ?it/s]"
      ]
     },
     "metadata": {},
     "output_type": "display_data"
    },
    {
     "data": {
      "application/json": {
       "ascii": false,
       "bar_format": null,
       "colour": null,
       "elapsed": 0.0230405330657959,
       "initial": 0,
       "n": 0,
       "ncols": null,
       "nrows": null,
       "postfix": null,
       "prefix": "S1A_IW_20180326T154817_DVP_RTC30_G_gpuned_9A5E.zip",
       "rate": null,
       "total": 435614096,
       "unit": "it",
       "unit_divisor": 1000,
       "unit_scale": false
      },
      "application/vnd.jupyter.widget-view+json": {
       "model_id": "5f23b720420948ca85a11bbfa0c46298",
       "version_major": 2,
       "version_minor": 0
      },
      "text/plain": [
       "S1A_IW_20180326T154817_DVP_RTC30_G_gpuned_9A5E.zip:   0%|          | 0/435614096 [00:00<?, ?it/s]"
      ]
     },
     "metadata": {},
     "output_type": "display_data"
    },
    {
     "data": {
      "application/json": {
       "ascii": false,
       "bar_format": null,
       "colour": null,
       "elapsed": 0.022220611572265625,
       "initial": 0,
       "n": 0,
       "ncols": null,
       "nrows": null,
       "postfix": null,
       "prefix": "S1B_IW_20180402T030236_DVP_RTC30_G_gpuned_3DCD.zip",
       "rate": null,
       "total": 472115615,
       "unit": "it",
       "unit_divisor": 1000,
       "unit_scale": false
      },
      "application/vnd.jupyter.widget-view+json": {
       "model_id": "61c5c79d70824890b5fc51fc7c5e0fca",
       "version_major": 2,
       "version_minor": 0
      },
      "text/plain": [
       "S1B_IW_20180402T030236_DVP_RTC30_G_gpuned_3DCD.zip:   0%|          | 0/472115615 [00:00<?, ?it/s]"
      ]
     },
     "metadata": {},
     "output_type": "display_data"
    },
    {
     "data": {
      "application/json": {
       "ascii": false,
       "bar_format": null,
       "colour": null,
       "elapsed": 0.019015073776245117,
       "initial": 0,
       "n": 0,
       "ncols": null,
       "nrows": null,
       "postfix": null,
       "prefix": "S1A_IW_20180403T025443_DVP_RTC30_G_gpuned_36D2.zip",
       "rate": null,
       "total": 455624456,
       "unit": "it",
       "unit_divisor": 1000,
       "unit_scale": false
      },
      "application/vnd.jupyter.widget-view+json": {
       "model_id": "55d6f220808149fd9e60b5b15740c204",
       "version_major": 2,
       "version_minor": 0
      },
      "text/plain": [
       "S1A_IW_20180403T025443_DVP_RTC30_G_gpuned_36D2.zip:   0%|          | 0/455624456 [00:00<?, ?it/s]"
      ]
     },
     "metadata": {},
     "output_type": "display_data"
    },
    {
     "data": {
      "application/json": {
       "ascii": false,
       "bar_format": null,
       "colour": null,
       "elapsed": 0.020226240158081055,
       "initial": 0,
       "n": 0,
       "ncols": null,
       "nrows": null,
       "postfix": null,
       "prefix": "S1A_IW_20180403T025507_DVP_RTC30_G_gpuned_74A9.zip",
       "rate": null,
       "total": 451290577,
       "unit": "it",
       "unit_divisor": 1000,
       "unit_scale": false
      },
      "application/vnd.jupyter.widget-view+json": {
       "model_id": "1b4d36f2c8c642d88558ed6c02bba50b",
       "version_major": 2,
       "version_minor": 0
      },
      "text/plain": [
       "S1A_IW_20180403T025507_DVP_RTC30_G_gpuned_74A9.zip:   0%|          | 0/451290577 [00:00<?, ?it/s]"
      ]
     },
     "metadata": {},
     "output_type": "display_data"
    },
    {
     "data": {
      "application/json": {
       "ascii": false,
       "bar_format": null,
       "colour": null,
       "elapsed": 0.020317792892456055,
       "initial": 0,
       "n": 0,
       "ncols": null,
       "nrows": null,
       "postfix": null,
       "prefix": "S1B_IW_20180403T153112_DVP_RTC30_G_gpuned_44A1.zip",
       "rate": null,
       "total": 472436464,
       "unit": "it",
       "unit_divisor": 1000,
       "unit_scale": false
      },
      "application/vnd.jupyter.widget-view+json": {
       "model_id": "9acd1393e5dc48e3bbfcfe1fa28b13c3",
       "version_major": 2,
       "version_minor": 0
      },
      "text/plain": [
       "S1B_IW_20180403T153112_DVP_RTC30_G_gpuned_44A1.zip:   0%|          | 0/472436464 [00:00<?, ?it/s]"
      ]
     },
     "metadata": {},
     "output_type": "display_data"
    },
    {
     "data": {
      "application/json": {
       "ascii": false,
       "bar_format": null,
       "colour": null,
       "elapsed": 0.019651174545288086,
       "initial": 0,
       "n": 0,
       "ncols": null,
       "nrows": null,
       "postfix": null,
       "prefix": "S1A_IW_20180407T154752_DVP_RTC30_G_gpuned_9495.zip",
       "rate": null,
       "total": 453466243,
       "unit": "it",
       "unit_divisor": 1000,
       "unit_scale": false
      },
      "application/vnd.jupyter.widget-view+json": {
       "model_id": "7845f6c7463545109e1dca4f5d656798",
       "version_major": 2,
       "version_minor": 0
      },
      "text/plain": [
       "S1A_IW_20180407T154752_DVP_RTC30_G_gpuned_9495.zip:   0%|          | 0/453466243 [00:00<?, ?it/s]"
      ]
     },
     "metadata": {},
     "output_type": "display_data"
    },
    {
     "name": "stdout",
     "output_type": "stream",
     "text": [
      "Current job: 50/181, time elapsed: 17.79 min, time remaining: 35.86 min\n"
     ]
    },
    {
     "data": {
      "application/json": {
       "ascii": false,
       "bar_format": null,
       "colour": null,
       "elapsed": 0.01908564567565918,
       "initial": 0,
       "n": 0,
       "ncols": null,
       "nrows": null,
       "postfix": null,
       "prefix": "S1A_IW_20180407T154817_DVP_RTC30_G_gpuned_8209.zip",
       "rate": null,
       "total": 435691922,
       "unit": "it",
       "unit_divisor": 1000,
       "unit_scale": false
      },
      "application/vnd.jupyter.widget-view+json": {
       "model_id": "2befae8675ac4ddbb75fc8f717d269ff",
       "version_major": 2,
       "version_minor": 0
      },
      "text/plain": [
       "S1A_IW_20180407T154817_DVP_RTC30_G_gpuned_8209.zip:   0%|          | 0/435691922 [00:00<?, ?it/s]"
      ]
     },
     "metadata": {},
     "output_type": "display_data"
    },
    {
     "data": {
      "application/json": {
       "ascii": false,
       "bar_format": null,
       "colour": null,
       "elapsed": 0.019712448120117188,
       "initial": 0,
       "n": 0,
       "ncols": null,
       "nrows": null,
       "postfix": null,
       "prefix": "S1B_IW_20180414T030209_DVP_RTC30_G_gpuned_B880.zip",
       "rate": null,
       "total": 499493448,
       "unit": "it",
       "unit_divisor": 1000,
       "unit_scale": false
      },
      "application/vnd.jupyter.widget-view+json": {
       "model_id": "22b3456cef0d440d9069505479869a1a",
       "version_major": 2,
       "version_minor": 0
      },
      "text/plain": [
       "S1B_IW_20180414T030209_DVP_RTC30_G_gpuned_B880.zip:   0%|          | 0/499493448 [00:00<?, ?it/s]"
      ]
     },
     "metadata": {},
     "output_type": "display_data"
    },
    {
     "data": {
      "application/json": {
       "ascii": false,
       "bar_format": null,
       "colour": null,
       "elapsed": 0.019642353057861328,
       "initial": 0,
       "n": 0,
       "ncols": null,
       "nrows": null,
       "postfix": null,
       "prefix": "S1A_IW_20180415T025443_DVP_RTC30_G_gpuned_3AE6.zip",
       "rate": null,
       "total": 459278536,
       "unit": "it",
       "unit_divisor": 1000,
       "unit_scale": false
      },
      "application/vnd.jupyter.widget-view+json": {
       "model_id": "d69ac49900744eb3938925234bfcad36",
       "version_major": 2,
       "version_minor": 0
      },
      "text/plain": [
       "S1A_IW_20180415T025443_DVP_RTC30_G_gpuned_3AE6.zip:   0%|          | 0/459278536 [00:00<?, ?it/s]"
      ]
     },
     "metadata": {},
     "output_type": "display_data"
    },
    {
     "data": {
      "application/json": {
       "ascii": false,
       "bar_format": null,
       "colour": null,
       "elapsed": 0.019539594650268555,
       "initial": 0,
       "n": 0,
       "ncols": null,
       "nrows": null,
       "postfix": null,
       "prefix": "S1B_IW_20180414T030237_DVP_RTC30_G_gpuned_EFA2.zip",
       "rate": null,
       "total": 473655603,
       "unit": "it",
       "unit_divisor": 1000,
       "unit_scale": false
      },
      "application/vnd.jupyter.widget-view+json": {
       "model_id": "013ceaacdb4e455da6bd748a27bb19d5",
       "version_major": 2,
       "version_minor": 0
      },
      "text/plain": [
       "S1B_IW_20180414T030237_DVP_RTC30_G_gpuned_EFA2.zip:   0%|          | 0/473655603 [00:00<?, ?it/s]"
      ]
     },
     "metadata": {},
     "output_type": "display_data"
    },
    {
     "data": {
      "application/json": {
       "ascii": false,
       "bar_format": null,
       "colour": null,
       "elapsed": 0.019212007522583008,
       "initial": 0,
       "n": 0,
       "ncols": null,
       "nrows": null,
       "postfix": null,
       "prefix": "S1A_IW_20180415T025508_DVP_RTC30_G_gpuned_F61F.zip",
       "rate": null,
       "total": 452713810,
       "unit": "it",
       "unit_divisor": 1000,
       "unit_scale": false
      },
      "application/vnd.jupyter.widget-view+json": {
       "model_id": "04438391509e412f90ad525a3220ecd0",
       "version_major": 2,
       "version_minor": 0
      },
      "text/plain": [
       "S1A_IW_20180415T025508_DVP_RTC30_G_gpuned_F61F.zip:   0%|          | 0/452713810 [00:00<?, ?it/s]"
      ]
     },
     "metadata": {},
     "output_type": "display_data"
    },
    {
     "data": {
      "application/json": {
       "ascii": false,
       "bar_format": null,
       "colour": null,
       "elapsed": 0.019487619400024414,
       "initial": 0,
       "n": 0,
       "ncols": null,
       "nrows": null,
       "postfix": null,
       "prefix": "S1A_IW_20180419T154753_DVP_RTC30_G_gpuned_BAA0.zip",
       "rate": null,
       "total": 454513481,
       "unit": "it",
       "unit_divisor": 1000,
       "unit_scale": false
      },
      "application/vnd.jupyter.widget-view+json": {
       "model_id": "cd34d12bd9d245efa1a22f83b7027de2",
       "version_major": 2,
       "version_minor": 0
      },
      "text/plain": [
       "S1A_IW_20180419T154753_DVP_RTC30_G_gpuned_BAA0.zip:   0%|          | 0/454513481 [00:00<?, ?it/s]"
      ]
     },
     "metadata": {},
     "output_type": "display_data"
    },
    {
     "data": {
      "application/json": {
       "ascii": false,
       "bar_format": null,
       "colour": null,
       "elapsed": 0.0193331241607666,
       "initial": 0,
       "n": 0,
       "ncols": null,
       "nrows": null,
       "postfix": null,
       "prefix": "S1B_IW_20180415T153113_DVP_RTC30_G_gpuned_5C40.zip",
       "rate": null,
       "total": 474114874,
       "unit": "it",
       "unit_divisor": 1000,
       "unit_scale": false
      },
      "application/vnd.jupyter.widget-view+json": {
       "model_id": "9b818b9361ac4b298aed16607f2691bd",
       "version_major": 2,
       "version_minor": 0
      },
      "text/plain": [
       "S1B_IW_20180415T153113_DVP_RTC30_G_gpuned_5C40.zip:   0%|          | 0/474114874 [00:00<?, ?it/s]"
      ]
     },
     "metadata": {},
     "output_type": "display_data"
    },
    {
     "data": {
      "application/json": {
       "ascii": false,
       "bar_format": null,
       "colour": null,
       "elapsed": 0.01880335807800293,
       "initial": 0,
       "n": 0,
       "ncols": null,
       "nrows": null,
       "postfix": null,
       "prefix": "S1A_IW_20180419T154817_DVP_RTC30_G_gpuned_93CC.zip",
       "rate": null,
       "total": 436171113,
       "unit": "it",
       "unit_divisor": 1000,
       "unit_scale": false
      },
      "application/vnd.jupyter.widget-view+json": {
       "model_id": "0b841765c2614473b830aa9a0fccc91a",
       "version_major": 2,
       "version_minor": 0
      },
      "text/plain": [
       "S1A_IW_20180419T154817_DVP_RTC30_G_gpuned_93CC.zip:   0%|          | 0/436171113 [00:00<?, ?it/s]"
      ]
     },
     "metadata": {},
     "output_type": "display_data"
    },
    {
     "data": {
      "application/json": {
       "ascii": false,
       "bar_format": null,
       "colour": null,
       "elapsed": 0.018973827362060547,
       "initial": 0,
       "n": 0,
       "ncols": null,
       "nrows": null,
       "postfix": null,
       "prefix": "S1B_IW_20180426T030210_DVP_RTC30_G_gpuned_E35D.zip",
       "rate": null,
       "total": 502081907,
       "unit": "it",
       "unit_divisor": 1000,
       "unit_scale": false
      },
      "application/vnd.jupyter.widget-view+json": {
       "model_id": "5796a728302242a9a2e677e85e080006",
       "version_major": 2,
       "version_minor": 0
      },
      "text/plain": [
       "S1B_IW_20180426T030210_DVP_RTC30_G_gpuned_E35D.zip:   0%|          | 0/502081907 [00:00<?, ?it/s]"
      ]
     },
     "metadata": {},
     "output_type": "display_data"
    },
    {
     "data": {
      "application/json": {
       "ascii": false,
       "bar_format": null,
       "colour": null,
       "elapsed": 0.02098846435546875,
       "initial": 0,
       "n": 0,
       "ncols": null,
       "nrows": null,
       "postfix": null,
       "prefix": "S1A_IW_20180427T025444_DVP_RTC30_G_gpuned_2109.zip",
       "rate": null,
       "total": 459239088,
       "unit": "it",
       "unit_divisor": 1000,
       "unit_scale": false
      },
      "application/vnd.jupyter.widget-view+json": {
       "model_id": "192b7917e6a5438ca9da14996124f2a5",
       "version_major": 2,
       "version_minor": 0
      },
      "text/plain": [
       "S1A_IW_20180427T025444_DVP_RTC30_G_gpuned_2109.zip:   0%|          | 0/459239088 [00:00<?, ?it/s]"
      ]
     },
     "metadata": {},
     "output_type": "display_data"
    },
    {
     "name": "stdout",
     "output_type": "stream",
     "text": [
      "Current job: 60/181, time elapsed: 21.62 min, time remaining: 34.88 min\n"
     ]
    },
    {
     "data": {
      "application/json": {
       "ascii": false,
       "bar_format": null,
       "colour": null,
       "elapsed": 0.022017478942871094,
       "initial": 0,
       "n": 0,
       "ncols": null,
       "nrows": null,
       "postfix": null,
       "prefix": "S1B_IW_20180426T030237_DVP_RTC30_G_gpuned_2DB9.zip",
       "rate": null,
       "total": 474216811,
       "unit": "it",
       "unit_divisor": 1000,
       "unit_scale": false
      },
      "application/vnd.jupyter.widget-view+json": {
       "model_id": "53dd75bb09c04b94a3ab5e1943e2e7ee",
       "version_major": 2,
       "version_minor": 0
      },
      "text/plain": [
       "S1B_IW_20180426T030237_DVP_RTC30_G_gpuned_2DB9.zip:   0%|          | 0/474216811 [00:00<?, ?it/s]"
      ]
     },
     "metadata": {},
     "output_type": "display_data"
    },
    {
     "data": {
      "application/json": {
       "ascii": false,
       "bar_format": null,
       "colour": null,
       "elapsed": 0.019422531127929688,
       "initial": 0,
       "n": 0,
       "ncols": null,
       "nrows": null,
       "postfix": null,
       "prefix": "S1A_IW_20180427T025509_DVP_RTC30_G_gpuned_ED97.zip",
       "rate": null,
       "total": 452937506,
       "unit": "it",
       "unit_divisor": 1000,
       "unit_scale": false
      },
      "application/vnd.jupyter.widget-view+json": {
       "model_id": "31c2e67079c449908b361f462b78ecba",
       "version_major": 2,
       "version_minor": 0
      },
      "text/plain": [
       "S1A_IW_20180427T025509_DVP_RTC30_G_gpuned_ED97.zip:   0%|          | 0/452937506 [00:00<?, ?it/s]"
      ]
     },
     "metadata": {},
     "output_type": "display_data"
    },
    {
     "data": {
      "application/json": {
       "ascii": false,
       "bar_format": null,
       "colour": null,
       "elapsed": 0.020307302474975586,
       "initial": 0,
       "n": 0,
       "ncols": null,
       "nrows": null,
       "postfix": null,
       "prefix": "S1B_IW_20180427T153113_DVP_RTC30_G_gpuned_EF9D.zip",
       "rate": null,
       "total": 474309985,
       "unit": "it",
       "unit_divisor": 1000,
       "unit_scale": false
      },
      "application/vnd.jupyter.widget-view+json": {
       "model_id": "4d3d37c3a30b43c982bb881e9571bc5d",
       "version_major": 2,
       "version_minor": 0
      },
      "text/plain": [
       "S1B_IW_20180427T153113_DVP_RTC30_G_gpuned_EF9D.zip:   0%|          | 0/474309985 [00:00<?, ?it/s]"
      ]
     },
     "metadata": {},
     "output_type": "display_data"
    },
    {
     "data": {
      "application/json": {
       "ascii": false,
       "bar_format": null,
       "colour": null,
       "elapsed": 0.019156932830810547,
       "initial": 0,
       "n": 0,
       "ncols": null,
       "nrows": null,
       "postfix": null,
       "prefix": "S1A_IW_20180501T154753_DVP_RTC30_G_gpuned_B810.zip",
       "rate": null,
       "total": 455016747,
       "unit": "it",
       "unit_divisor": 1000,
       "unit_scale": false
      },
      "application/vnd.jupyter.widget-view+json": {
       "model_id": "a0da8f8948d544719c6ffebcf66be3a2",
       "version_major": 2,
       "version_minor": 0
      },
      "text/plain": [
       "S1A_IW_20180501T154753_DVP_RTC30_G_gpuned_B810.zip:   0%|          | 0/455016747 [00:00<?, ?it/s]"
      ]
     },
     "metadata": {},
     "output_type": "display_data"
    },
    {
     "data": {
      "application/json": {
       "ascii": false,
       "bar_format": null,
       "colour": null,
       "elapsed": 0.019180774688720703,
       "initial": 0,
       "n": 0,
       "ncols": null,
       "nrows": null,
       "postfix": null,
       "prefix": "S1A_IW_20180501T154818_DVP_RTC30_G_gpuned_F539.zip",
       "rate": null,
       "total": 436345216,
       "unit": "it",
       "unit_divisor": 1000,
       "unit_scale": false
      },
      "application/vnd.jupyter.widget-view+json": {
       "model_id": "f71b7ca36f7e4bfba15d405f2ed7a470",
       "version_major": 2,
       "version_minor": 0
      },
      "text/plain": [
       "S1A_IW_20180501T154818_DVP_RTC30_G_gpuned_F539.zip:   0%|          | 0/436345216 [00:00<?, ?it/s]"
      ]
     },
     "metadata": {},
     "output_type": "display_data"
    },
    {
     "data": {
      "application/json": {
       "ascii": false,
       "bar_format": null,
       "colour": null,
       "elapsed": 0.019060611724853516,
       "initial": 0,
       "n": 0,
       "ncols": null,
       "nrows": null,
       "postfix": null,
       "prefix": "S1B_IW_20180508T030210_DVP_RTC30_G_gpuned_7A3C.zip",
       "rate": null,
       "total": 501309917,
       "unit": "it",
       "unit_divisor": 1000,
       "unit_scale": false
      },
      "application/vnd.jupyter.widget-view+json": {
       "model_id": "d2f9927640214830a56adce751938853",
       "version_major": 2,
       "version_minor": 0
      },
      "text/plain": [
       "S1B_IW_20180508T030210_DVP_RTC30_G_gpuned_7A3C.zip:   0%|          | 0/501309917 [00:00<?, ?it/s]"
      ]
     },
     "metadata": {},
     "output_type": "display_data"
    },
    {
     "data": {
      "application/json": {
       "ascii": false,
       "bar_format": null,
       "colour": null,
       "elapsed": 0.01947760581970215,
       "initial": 0,
       "n": 0,
       "ncols": null,
       "nrows": null,
       "postfix": null,
       "prefix": "S1A_IW_20180509T025444_DVP_RTC30_G_gpuned_274E.zip",
       "rate": null,
       "total": 460488288,
       "unit": "it",
       "unit_divisor": 1000,
       "unit_scale": false
      },
      "application/vnd.jupyter.widget-view+json": {
       "model_id": "2a5aaad091b64beb83a29b0f9fb8523c",
       "version_major": 2,
       "version_minor": 0
      },
      "text/plain": [
       "S1A_IW_20180509T025444_DVP_RTC30_G_gpuned_274E.zip:   0%|          | 0/460488288 [00:00<?, ?it/s]"
      ]
     },
     "metadata": {},
     "output_type": "display_data"
    },
    {
     "data": {
      "application/json": {
       "ascii": false,
       "bar_format": null,
       "colour": null,
       "elapsed": 0.019113779067993164,
       "initial": 0,
       "n": 0,
       "ncols": null,
       "nrows": null,
       "postfix": null,
       "prefix": "S1B_IW_20180508T030238_DVP_RTC30_G_gpuned_B596.zip",
       "rate": null,
       "total": 475750597,
       "unit": "it",
       "unit_divisor": 1000,
       "unit_scale": false
      },
      "application/vnd.jupyter.widget-view+json": {
       "model_id": "b0eb34c5ac26439a88fd6aade4e7085e",
       "version_major": 2,
       "version_minor": 0
      },
      "text/plain": [
       "S1B_IW_20180508T030238_DVP_RTC30_G_gpuned_B596.zip:   0%|          | 0/475750597 [00:00<?, ?it/s]"
      ]
     },
     "metadata": {},
     "output_type": "display_data"
    },
    {
     "data": {
      "application/json": {
       "ascii": false,
       "bar_format": null,
       "colour": null,
       "elapsed": 0.021463871002197266,
       "initial": 0,
       "n": 0,
       "ncols": null,
       "nrows": null,
       "postfix": null,
       "prefix": "S1A_IW_20180509T025509_DVP_RTC30_G_gpuned_9DB9.zip",
       "rate": null,
       "total": 455276008,
       "unit": "it",
       "unit_divisor": 1000,
       "unit_scale": false
      },
      "application/vnd.jupyter.widget-view+json": {
       "model_id": "8155fd0c46af4cf3a0ba7b4298a4b4a9",
       "version_major": 2,
       "version_minor": 0
      },
      "text/plain": [
       "S1A_IW_20180509T025509_DVP_RTC30_G_gpuned_9DB9.zip:   0%|          | 0/455276008 [00:00<?, ?it/s]"
      ]
     },
     "metadata": {},
     "output_type": "display_data"
    },
    {
     "data": {
      "application/json": {
       "ascii": false,
       "bar_format": null,
       "colour": null,
       "elapsed": 0.01935720443725586,
       "initial": 0,
       "n": 0,
       "ncols": null,
       "nrows": null,
       "postfix": null,
       "prefix": "S1A_IW_20180513T154754_DVP_RTC30_G_gpuned_92E2.zip",
       "rate": null,
       "total": 454820332,
       "unit": "it",
       "unit_divisor": 1000,
       "unit_scale": false
      },
      "application/vnd.jupyter.widget-view+json": {
       "model_id": "6a39c3a4f64b49a38b1dbeab46b90159",
       "version_major": 2,
       "version_minor": 0
      },
      "text/plain": [
       "S1A_IW_20180513T154754_DVP_RTC30_G_gpuned_92E2.zip:   0%|          | 0/454820332 [00:00<?, ?it/s]"
      ]
     },
     "metadata": {},
     "output_type": "display_data"
    },
    {
     "name": "stdout",
     "output_type": "stream",
     "text": [
      "Current job: 70/181, time elapsed: 25.42 min, time remaining: 33.20 min\n"
     ]
    },
    {
     "data": {
      "application/json": {
       "ascii": false,
       "bar_format": null,
       "colour": null,
       "elapsed": 0.019404172897338867,
       "initial": 0,
       "n": 0,
       "ncols": null,
       "nrows": null,
       "postfix": null,
       "prefix": "S1B_IW_20180509T153114_DVP_RTC30_G_gpuned_37EC.zip",
       "rate": null,
       "total": 476603512,
       "unit": "it",
       "unit_divisor": 1000,
       "unit_scale": false
      },
      "application/vnd.jupyter.widget-view+json": {
       "model_id": "44268f483dc148b992e0f174d76a791a",
       "version_major": 2,
       "version_minor": 0
      },
      "text/plain": [
       "S1B_IW_20180509T153114_DVP_RTC30_G_gpuned_37EC.zip:   0%|          | 0/476603512 [00:00<?, ?it/s]"
      ]
     },
     "metadata": {},
     "output_type": "display_data"
    },
    {
     "data": {
      "application/json": {
       "ascii": false,
       "bar_format": null,
       "colour": null,
       "elapsed": 0.11471152305603027,
       "initial": 0,
       "n": 0,
       "ncols": null,
       "nrows": null,
       "postfix": null,
       "prefix": "S1A_IW_20180513T154819_DVP_RTC30_G_gpuned_387F.zip",
       "rate": null,
       "total": 437970096,
       "unit": "it",
       "unit_divisor": 1000,
       "unit_scale": false
      },
      "application/vnd.jupyter.widget-view+json": {
       "model_id": "329c7fb1b7c046caaba3b3f967762e23",
       "version_major": 2,
       "version_minor": 0
      },
      "text/plain": [
       "S1A_IW_20180513T154819_DVP_RTC30_G_gpuned_387F.zip:   0%|          | 0/437970096 [00:00<?, ?it/s]"
      ]
     },
     "metadata": {},
     "output_type": "display_data"
    },
    {
     "data": {
      "application/json": {
       "ascii": false,
       "bar_format": null,
       "colour": null,
       "elapsed": 0.01900506019592285,
       "initial": 0,
       "n": 0,
       "ncols": null,
       "nrows": null,
       "postfix": null,
       "prefix": "S1B_IW_20180520T030211_DVP_RTC30_G_gpuned_36FC.zip",
       "rate": null,
       "total": 500440937,
       "unit": "it",
       "unit_divisor": 1000,
       "unit_scale": false
      },
      "application/vnd.jupyter.widget-view+json": {
       "model_id": "5e3408ea98784fd6856fac84af0ebc78",
       "version_major": 2,
       "version_minor": 0
      },
      "text/plain": [
       "S1B_IW_20180520T030211_DVP_RTC30_G_gpuned_36FC.zip:   0%|          | 0/500440937 [00:00<?, ?it/s]"
      ]
     },
     "metadata": {},
     "output_type": "display_data"
    },
    {
     "data": {
      "application/json": {
       "ascii": false,
       "bar_format": null,
       "colour": null,
       "elapsed": 0.019325971603393555,
       "initial": 0,
       "n": 0,
       "ncols": null,
       "nrows": null,
       "postfix": null,
       "prefix": "S1B_IW_20180520T030238_DVP_RTC30_G_gpuned_C434.zip",
       "rate": null,
       "total": 477172208,
       "unit": "it",
       "unit_divisor": 1000,
       "unit_scale": false
      },
      "application/vnd.jupyter.widget-view+json": {
       "model_id": "6c9d081638c04698b2f0e45ae4c96350",
       "version_major": 2,
       "version_minor": 0
      },
      "text/plain": [
       "S1B_IW_20180520T030238_DVP_RTC30_G_gpuned_C434.zip:   0%|          | 0/477172208 [00:00<?, ?it/s]"
      ]
     },
     "metadata": {},
     "output_type": "display_data"
    },
    {
     "data": {
      "application/json": {
       "ascii": false,
       "bar_format": null,
       "colour": null,
       "elapsed": 0.019716739654541016,
       "initial": 0,
       "n": 0,
       "ncols": null,
       "nrows": null,
       "postfix": null,
       "prefix": "S1A_IW_20180521T025510_DVP_RTC30_G_gpuned_0B8F.zip",
       "rate": null,
       "total": 454613059,
       "unit": "it",
       "unit_divisor": 1000,
       "unit_scale": false
      },
      "application/vnd.jupyter.widget-view+json": {
       "model_id": "8d00791b486d451a82b6e40bbc1fe798",
       "version_major": 2,
       "version_minor": 0
      },
      "text/plain": [
       "S1A_IW_20180521T025510_DVP_RTC30_G_gpuned_0B8F.zip:   0%|          | 0/454613059 [00:00<?, ?it/s]"
      ]
     },
     "metadata": {},
     "output_type": "display_data"
    },
    {
     "data": {
      "application/json": {
       "ascii": false,
       "bar_format": null,
       "colour": null,
       "elapsed": 0.02399611473083496,
       "initial": 0,
       "n": 0,
       "ncols": null,
       "nrows": null,
       "postfix": null,
       "prefix": "S1A_IW_20180521T025445_DVP_RTC30_G_gpuned_85B8.zip",
       "rate": null,
       "total": 459301148,
       "unit": "it",
       "unit_divisor": 1000,
       "unit_scale": false
      },
      "application/vnd.jupyter.widget-view+json": {
       "model_id": "46d8c7b2abe64dfca457276f5bbb47e9",
       "version_major": 2,
       "version_minor": 0
      },
      "text/plain": [
       "S1A_IW_20180521T025445_DVP_RTC30_G_gpuned_85B8.zip:   0%|          | 0/459301148 [00:00<?, ?it/s]"
      ]
     },
     "metadata": {},
     "output_type": "display_data"
    },
    {
     "data": {
      "application/json": {
       "ascii": false,
       "bar_format": null,
       "colour": null,
       "elapsed": 0.019224166870117188,
       "initial": 0,
       "n": 0,
       "ncols": null,
       "nrows": null,
       "postfix": null,
       "prefix": "S1B_IW_20180521T153115_DVP_RTC30_G_gpuned_9A07.zip",
       "rate": null,
       "total": 477331982,
       "unit": "it",
       "unit_divisor": 1000,
       "unit_scale": false
      },
      "application/vnd.jupyter.widget-view+json": {
       "model_id": "875f3d80029746b4b6579d8e8e34d8c8",
       "version_major": 2,
       "version_minor": 0
      },
      "text/plain": [
       "S1B_IW_20180521T153115_DVP_RTC30_G_gpuned_9A07.zip:   0%|          | 0/477331982 [00:00<?, ?it/s]"
      ]
     },
     "metadata": {},
     "output_type": "display_data"
    },
    {
     "data": {
      "application/json": {
       "ascii": false,
       "bar_format": null,
       "colour": null,
       "elapsed": 0.019903182983398438,
       "initial": 0,
       "n": 0,
       "ncols": null,
       "nrows": null,
       "postfix": null,
       "prefix": "S1A_IW_20180525T154755_DVP_RTC30_G_gpuned_5E08.zip",
       "rate": null,
       "total": 456134914,
       "unit": "it",
       "unit_divisor": 1000,
       "unit_scale": false
      },
      "application/vnd.jupyter.widget-view+json": {
       "model_id": "3ea02caaa6184bd692772be8d630bfd3",
       "version_major": 2,
       "version_minor": 0
      },
      "text/plain": [
       "S1A_IW_20180525T154755_DVP_RTC30_G_gpuned_5E08.zip:   0%|          | 0/456134914 [00:00<?, ?it/s]"
      ]
     },
     "metadata": {},
     "output_type": "display_data"
    },
    {
     "data": {
      "application/json": {
       "ascii": false,
       "bar_format": null,
       "colour": null,
       "elapsed": 0.01935577392578125,
       "initial": 0,
       "n": 0,
       "ncols": null,
       "nrows": null,
       "postfix": null,
       "prefix": "S1A_IW_20180525T154819_DVP_RTC30_G_gpuned_223F.zip",
       "rate": null,
       "total": 438373202,
       "unit": "it",
       "unit_divisor": 1000,
       "unit_scale": false
      },
      "application/vnd.jupyter.widget-view+json": {
       "model_id": "f9a46635f802444881b31edb81d05371",
       "version_major": 2,
       "version_minor": 0
      },
      "text/plain": [
       "S1A_IW_20180525T154819_DVP_RTC30_G_gpuned_223F.zip:   0%|          | 0/438373202 [00:00<?, ?it/s]"
      ]
     },
     "metadata": {},
     "output_type": "display_data"
    },
    {
     "data": {
      "application/json": {
       "ascii": false,
       "bar_format": null,
       "colour": null,
       "elapsed": 0.020182132720947266,
       "initial": 0,
       "n": 0,
       "ncols": null,
       "nrows": null,
       "postfix": null,
       "prefix": "S1B_IW_20180601T030211_DVP_RTC30_G_gpuned_3B56.zip",
       "rate": null,
       "total": 501682502,
       "unit": "it",
       "unit_divisor": 1000,
       "unit_scale": false
      },
      "application/vnd.jupyter.widget-view+json": {
       "model_id": "c834cfeea4bc4368bb64825c5b2d35f1",
       "version_major": 2,
       "version_minor": 0
      },
      "text/plain": [
       "S1B_IW_20180601T030211_DVP_RTC30_G_gpuned_3B56.zip:   0%|          | 0/501682502 [00:00<?, ?it/s]"
      ]
     },
     "metadata": {},
     "output_type": "display_data"
    },
    {
     "name": "stdout",
     "output_type": "stream",
     "text": [
      "Current job: 80/181, time elapsed: 29.22 min, time remaining: 31.07 min\n"
     ]
    },
    {
     "data": {
      "application/json": {
       "ascii": false,
       "bar_format": null,
       "colour": null,
       "elapsed": 0.019379615783691406,
       "initial": 0,
       "n": 0,
       "ncols": null,
       "nrows": null,
       "postfix": null,
       "prefix": "S1B_IW_20180602T153115_DVP_RTC30_G_gpuned_164C.zip",
       "rate": null,
       "total": 476918434,
       "unit": "it",
       "unit_divisor": 1000,
       "unit_scale": false
      },
      "application/vnd.jupyter.widget-view+json": {
       "model_id": "236595985d774db69fd9710291743d1f",
       "version_major": 2,
       "version_minor": 0
      },
      "text/plain": [
       "S1B_IW_20180602T153115_DVP_RTC30_G_gpuned_164C.zip:   0%|          | 0/476918434 [00:00<?, ?it/s]"
      ]
     },
     "metadata": {},
     "output_type": "display_data"
    },
    {
     "data": {
      "application/json": {
       "ascii": false,
       "bar_format": null,
       "colour": null,
       "elapsed": 0.018632888793945312,
       "initial": 0,
       "n": 0,
       "ncols": null,
       "nrows": null,
       "postfix": null,
       "prefix": "S1B_IW_20180601T030239_DVP_RTC30_G_gpuned_28CC.zip",
       "rate": null,
       "total": 476886206,
       "unit": "it",
       "unit_divisor": 1000,
       "unit_scale": false
      },
      "application/vnd.jupyter.widget-view+json": {
       "model_id": "f072f57c7db84d3aa6a7fe89501d9ff6",
       "version_major": 2,
       "version_minor": 0
      },
      "text/plain": [
       "S1B_IW_20180601T030239_DVP_RTC30_G_gpuned_28CC.zip:   0%|          | 0/476886206 [00:00<?, ?it/s]"
      ]
     },
     "metadata": {},
     "output_type": "display_data"
    },
    {
     "data": {
      "application/json": {
       "ascii": false,
       "bar_format": null,
       "colour": null,
       "elapsed": 0.02001214027404785,
       "initial": 0,
       "n": 0,
       "ncols": null,
       "nrows": null,
       "postfix": null,
       "prefix": "S1A_IW_20180606T154755_DVP_RTC30_G_gpuned_0356.zip",
       "rate": null,
       "total": 457336871,
       "unit": "it",
       "unit_divisor": 1000,
       "unit_scale": false
      },
      "application/vnd.jupyter.widget-view+json": {
       "model_id": "049a43381ae54a4c9c89caa21fa9eddf",
       "version_major": 2,
       "version_minor": 0
      },
      "text/plain": [
       "S1A_IW_20180606T154755_DVP_RTC30_G_gpuned_0356.zip:   0%|          | 0/457336871 [00:00<?, ?it/s]"
      ]
     },
     "metadata": {},
     "output_type": "display_data"
    },
    {
     "data": {
      "application/json": {
       "ascii": false,
       "bar_format": null,
       "colour": null,
       "elapsed": 0.019278287887573242,
       "initial": 0,
       "n": 0,
       "ncols": null,
       "nrows": null,
       "postfix": null,
       "prefix": "S1A_IW_20180606T154820_DVP_RTC30_G_gpuned_E2B1.zip",
       "rate": null,
       "total": 439157040,
       "unit": "it",
       "unit_divisor": 1000,
       "unit_scale": false
      },
      "application/vnd.jupyter.widget-view+json": {
       "model_id": "63194febb68748319244dac0f0820359",
       "version_major": 2,
       "version_minor": 0
      },
      "text/plain": [
       "S1A_IW_20180606T154820_DVP_RTC30_G_gpuned_E2B1.zip:   0%|          | 0/439157040 [00:00<?, ?it/s]"
      ]
     },
     "metadata": {},
     "output_type": "display_data"
    },
    {
     "data": {
      "application/json": {
       "ascii": false,
       "bar_format": null,
       "colour": null,
       "elapsed": 0.01902604103088379,
       "initial": 0,
       "n": 0,
       "ncols": null,
       "nrows": null,
       "postfix": null,
       "prefix": "S1B_IW_20180613T030212_DVP_RTC30_G_gpuned_46FB.zip",
       "rate": null,
       "total": 498271865,
       "unit": "it",
       "unit_divisor": 1000,
       "unit_scale": false
      },
      "application/vnd.jupyter.widget-view+json": {
       "model_id": "1aa2af9c70054fbc8be4f50c34c93e5d",
       "version_major": 2,
       "version_minor": 0
      },
      "text/plain": [
       "S1B_IW_20180613T030212_DVP_RTC30_G_gpuned_46FB.zip:   0%|          | 0/498271865 [00:00<?, ?it/s]"
      ]
     },
     "metadata": {},
     "output_type": "display_data"
    },
    {
     "data": {
      "application/json": {
       "ascii": false,
       "bar_format": null,
       "colour": null,
       "elapsed": 0.019386768341064453,
       "initial": 0,
       "n": 0,
       "ncols": null,
       "nrows": null,
       "postfix": null,
       "prefix": "S1B_IW_20180613T030240_DVP_RTC30_G_gpuned_157E.zip",
       "rate": null,
       "total": 476744566,
       "unit": "it",
       "unit_divisor": 1000,
       "unit_scale": false
      },
      "application/vnd.jupyter.widget-view+json": {
       "model_id": "fc586681d4ea44d293883e0e81ad8bcf",
       "version_major": 2,
       "version_minor": 0
      },
      "text/plain": [
       "S1B_IW_20180613T030240_DVP_RTC30_G_gpuned_157E.zip:   0%|          | 0/476744566 [00:00<?, ?it/s]"
      ]
     },
     "metadata": {},
     "output_type": "display_data"
    },
    {
     "data": {
      "application/json": {
       "ascii": false,
       "bar_format": null,
       "colour": null,
       "elapsed": 0.01917409896850586,
       "initial": 0,
       "n": 0,
       "ncols": null,
       "nrows": null,
       "postfix": null,
       "prefix": "S1A_IW_20180614T025446_DVP_RTC30_G_gpuned_0397.zip",
       "rate": null,
       "total": 459138620,
       "unit": "it",
       "unit_divisor": 1000,
       "unit_scale": false
      },
      "application/vnd.jupyter.widget-view+json": {
       "model_id": "2b14b41f205a46929206bfde13031a00",
       "version_major": 2,
       "version_minor": 0
      },
      "text/plain": [
       "S1A_IW_20180614T025446_DVP_RTC30_G_gpuned_0397.zip:   0%|          | 0/459138620 [00:00<?, ?it/s]"
      ]
     },
     "metadata": {},
     "output_type": "display_data"
    },
    {
     "data": {
      "application/json": {
       "ascii": false,
       "bar_format": null,
       "colour": null,
       "elapsed": 0.019183874130249023,
       "initial": 0,
       "n": 0,
       "ncols": null,
       "nrows": null,
       "postfix": null,
       "prefix": "S1A_IW_20180614T025511_DVP_RTC30_G_gpuned_4F8D.zip",
       "rate": null,
       "total": 455227578,
       "unit": "it",
       "unit_divisor": 1000,
       "unit_scale": false
      },
      "application/vnd.jupyter.widget-view+json": {
       "model_id": "5abc0397c2784ed988796c3527fac2d5",
       "version_major": 2,
       "version_minor": 0
      },
      "text/plain": [
       "S1A_IW_20180614T025511_DVP_RTC30_G_gpuned_4F8D.zip:   0%|          | 0/455227578 [00:00<?, ?it/s]"
      ]
     },
     "metadata": {},
     "output_type": "display_data"
    },
    {
     "data": {
      "application/json": {
       "ascii": false,
       "bar_format": null,
       "colour": null,
       "elapsed": 0.0193631649017334,
       "initial": 0,
       "n": 0,
       "ncols": null,
       "nrows": null,
       "postfix": null,
       "prefix": "S1A_IW_20180618T154756_DVP_RTC30_G_gpuned_3858.zip",
       "rate": null,
       "total": 456717940,
       "unit": "it",
       "unit_divisor": 1000,
       "unit_scale": false
      },
      "application/vnd.jupyter.widget-view+json": {
       "model_id": "01b0d810028e42b8bd662761d22945e5",
       "version_major": 2,
       "version_minor": 0
      },
      "text/plain": [
       "S1A_IW_20180618T154756_DVP_RTC30_G_gpuned_3858.zip:   0%|          | 0/456717940 [00:00<?, ?it/s]"
      ]
     },
     "metadata": {},
     "output_type": "display_data"
    },
    {
     "data": {
      "application/json": {
       "ascii": false,
       "bar_format": null,
       "colour": null,
       "elapsed": 0.019646167755126953,
       "initial": 0,
       "n": 0,
       "ncols": null,
       "nrows": null,
       "postfix": null,
       "prefix": "S1B_IW_20180614T153116_DVP_RTC30_G_gpuned_306C.zip",
       "rate": null,
       "total": 476459826,
       "unit": "it",
       "unit_divisor": 1000,
       "unit_scale": false
      },
      "application/vnd.jupyter.widget-view+json": {
       "model_id": "2ec493b5b71f41a88cc40fadf5584fbd",
       "version_major": 2,
       "version_minor": 0
      },
      "text/plain": [
       "S1B_IW_20180614T153116_DVP_RTC30_G_gpuned_306C.zip:   0%|          | 0/476459826 [00:00<?, ?it/s]"
      ]
     },
     "metadata": {},
     "output_type": "display_data"
    },
    {
     "name": "stdout",
     "output_type": "stream",
     "text": [
      "Current job: 90/181, time elapsed: 33.01 min, time remaining: 28.61 min\n"
     ]
    },
    {
     "data": {
      "application/json": {
       "ascii": false,
       "bar_format": null,
       "colour": null,
       "elapsed": 0.01960587501525879,
       "initial": 0,
       "n": 0,
       "ncols": null,
       "nrows": null,
       "postfix": null,
       "prefix": "S1A_IW_20180618T154821_DVP_RTC30_G_gpuned_D537.zip",
       "rate": null,
       "total": 438512283,
       "unit": "it",
       "unit_divisor": 1000,
       "unit_scale": false
      },
      "application/vnd.jupyter.widget-view+json": {
       "model_id": "7557d26e814e40e584db648e7383e3a3",
       "version_major": 2,
       "version_minor": 0
      },
      "text/plain": [
       "S1A_IW_20180618T154821_DVP_RTC30_G_gpuned_D537.zip:   0%|          | 0/438512283 [00:00<?, ?it/s]"
      ]
     },
     "metadata": {},
     "output_type": "display_data"
    },
    {
     "data": {
      "application/json": {
       "ascii": false,
       "bar_format": null,
       "colour": null,
       "elapsed": 0.019434213638305664,
       "initial": 0,
       "n": 0,
       "ncols": null,
       "nrows": null,
       "postfix": null,
       "prefix": "S1B_IW_20180625T030213_DVP_RTC30_G_gpuned_2659.zip",
       "rate": null,
       "total": 498639689,
       "unit": "it",
       "unit_divisor": 1000,
       "unit_scale": false
      },
      "application/vnd.jupyter.widget-view+json": {
       "model_id": "7bb9193d5791495982be07d737fbc518",
       "version_major": 2,
       "version_minor": 0
      },
      "text/plain": [
       "S1B_IW_20180625T030213_DVP_RTC30_G_gpuned_2659.zip:   0%|          | 0/498639689 [00:00<?, ?it/s]"
      ]
     },
     "metadata": {},
     "output_type": "display_data"
    },
    {
     "data": {
      "application/json": {
       "ascii": false,
       "bar_format": null,
       "colour": null,
       "elapsed": 0.0191347599029541,
       "initial": 0,
       "n": 0,
       "ncols": null,
       "nrows": null,
       "postfix": null,
       "prefix": "S1B_IW_20180625T030241_DVP_RTC30_G_gpuned_DDE8.zip",
       "rate": null,
       "total": 476011486,
       "unit": "it",
       "unit_divisor": 1000,
       "unit_scale": false
      },
      "application/vnd.jupyter.widget-view+json": {
       "model_id": "72a397df75624a32932c09c2b64bd73c",
       "version_major": 2,
       "version_minor": 0
      },
      "text/plain": [
       "S1B_IW_20180625T030241_DVP_RTC30_G_gpuned_DDE8.zip:   0%|          | 0/476011486 [00:00<?, ?it/s]"
      ]
     },
     "metadata": {},
     "output_type": "display_data"
    },
    {
     "data": {
      "application/json": {
       "ascii": false,
       "bar_format": null,
       "colour": null,
       "elapsed": 0.019252300262451172,
       "initial": 0,
       "n": 0,
       "ncols": null,
       "nrows": null,
       "postfix": null,
       "prefix": "S1A_IW_20180626T025447_DVP_RTC30_G_gpuned_C5D8.zip",
       "rate": null,
       "total": 458114443,
       "unit": "it",
       "unit_divisor": 1000,
       "unit_scale": false
      },
      "application/vnd.jupyter.widget-view+json": {
       "model_id": "2c599944d9fc4aae88dd6363f5c46500",
       "version_major": 2,
       "version_minor": 0
      },
      "text/plain": [
       "S1A_IW_20180626T025447_DVP_RTC30_G_gpuned_C5D8.zip:   0%|          | 0/458114443 [00:00<?, ?it/s]"
      ]
     },
     "metadata": {},
     "output_type": "display_data"
    },
    {
     "data": {
      "application/json": {
       "ascii": false,
       "bar_format": null,
       "colour": null,
       "elapsed": 0.019152402877807617,
       "initial": 0,
       "n": 0,
       "ncols": null,
       "nrows": null,
       "postfix": null,
       "prefix": "S1A_IW_20180626T025512_DVP_RTC30_G_gpuned_7F07.zip",
       "rate": null,
       "total": 454536713,
       "unit": "it",
       "unit_divisor": 1000,
       "unit_scale": false
      },
      "application/vnd.jupyter.widget-view+json": {
       "model_id": "9299cecbd5fb4840ac898b716e8909aa",
       "version_major": 2,
       "version_minor": 0
      },
      "text/plain": [
       "S1A_IW_20180626T025512_DVP_RTC30_G_gpuned_7F07.zip:   0%|          | 0/454536713 [00:00<?, ?it/s]"
      ]
     },
     "metadata": {},
     "output_type": "display_data"
    },
    {
     "data": {
      "application/json": {
       "ascii": false,
       "bar_format": null,
       "colour": null,
       "elapsed": 0.019241809844970703,
       "initial": 0,
       "n": 0,
       "ncols": null,
       "nrows": null,
       "postfix": null,
       "prefix": "S1B_IW_20180626T153117_DVP_RTC30_G_gpuned_1141.zip",
       "rate": null,
       "total": 475677970,
       "unit": "it",
       "unit_divisor": 1000,
       "unit_scale": false
      },
      "application/vnd.jupyter.widget-view+json": {
       "model_id": "aa5af14018ea4a79a1c1002df6cfac93",
       "version_major": 2,
       "version_minor": 0
      },
      "text/plain": [
       "S1B_IW_20180626T153117_DVP_RTC30_G_gpuned_1141.zip:   0%|          | 0/475677970 [00:00<?, ?it/s]"
      ]
     },
     "metadata": {},
     "output_type": "display_data"
    },
    {
     "data": {
      "application/json": {
       "ascii": false,
       "bar_format": null,
       "colour": null,
       "elapsed": 0.02267599105834961,
       "initial": 0,
       "n": 0,
       "ncols": null,
       "nrows": null,
       "postfix": null,
       "prefix": "S1A_IW_20180630T154757_DVP_RTC30_G_gpuned_51AB.zip",
       "rate": null,
       "total": 455464585,
       "unit": "it",
       "unit_divisor": 1000,
       "unit_scale": false
      },
      "application/vnd.jupyter.widget-view+json": {
       "model_id": "3b2d34b064fa4820922c8d27f853a416",
       "version_major": 2,
       "version_minor": 0
      },
      "text/plain": [
       "S1A_IW_20180630T154757_DVP_RTC30_G_gpuned_51AB.zip:   0%|          | 0/455464585 [00:00<?, ?it/s]"
      ]
     },
     "metadata": {},
     "output_type": "display_data"
    },
    {
     "data": {
      "application/json": {
       "ascii": false,
       "bar_format": null,
       "colour": null,
       "elapsed": 0.01956939697265625,
       "initial": 0,
       "n": 0,
       "ncols": null,
       "nrows": null,
       "postfix": null,
       "prefix": "S1A_IW_20180630T154821_DVP_RTC30_G_gpuned_6A10.zip",
       "rate": null,
       "total": 437974489,
       "unit": "it",
       "unit_divisor": 1000,
       "unit_scale": false
      },
      "application/vnd.jupyter.widget-view+json": {
       "model_id": "dba5560dfa2c4772b1da2e1d5e3eb686",
       "version_major": 2,
       "version_minor": 0
      },
      "text/plain": [
       "S1A_IW_20180630T154821_DVP_RTC30_G_gpuned_6A10.zip:   0%|          | 0/437974489 [00:00<?, ?it/s]"
      ]
     },
     "metadata": {},
     "output_type": "display_data"
    },
    {
     "data": {
      "application/json": {
       "ascii": false,
       "bar_format": null,
       "colour": null,
       "elapsed": 0.019744873046875,
       "initial": 0,
       "n": 0,
       "ncols": null,
       "nrows": null,
       "postfix": null,
       "prefix": "S1A_IW_20180708T025448_DVP_RTC30_G_gpuned_AEFA.zip",
       "rate": null,
       "total": 459174643,
       "unit": "it",
       "unit_divisor": 1000,
       "unit_scale": false
      },
      "application/vnd.jupyter.widget-view+json": {
       "model_id": "242b2d7ecb8a49dbaaf6d0c3549acd8c",
       "version_major": 2,
       "version_minor": 0
      },
      "text/plain": [
       "S1A_IW_20180708T025448_DVP_RTC30_G_gpuned_AEFA.zip:   0%|          | 0/459174643 [00:00<?, ?it/s]"
      ]
     },
     "metadata": {},
     "output_type": "display_data"
    },
    {
     "data": {
      "application/json": {
       "ascii": false,
       "bar_format": null,
       "colour": null,
       "elapsed": 0.019398212432861328,
       "initial": 0,
       "n": 0,
       "ncols": null,
       "nrows": null,
       "postfix": null,
       "prefix": "S1A_IW_20180708T025512_DVP_RTC30_G_gpuned_BD60.zip",
       "rate": null,
       "total": 454226956,
       "unit": "it",
       "unit_divisor": 1000,
       "unit_scale": false
      },
      "application/vnd.jupyter.widget-view+json": {
       "model_id": "d37e582a1a0941f793736a0b104065ec",
       "version_major": 2,
       "version_minor": 0
      },
      "text/plain": [
       "S1A_IW_20180708T025512_DVP_RTC30_G_gpuned_BD60.zip:   0%|          | 0/454226956 [00:00<?, ?it/s]"
      ]
     },
     "metadata": {},
     "output_type": "display_data"
    },
    {
     "name": "stdout",
     "output_type": "stream",
     "text": [
      "Current job: 100/181, time elapsed: 36.81 min, time remaining: 25.93 min\n"
     ]
    },
    {
     "data": {
      "application/json": {
       "ascii": false,
       "bar_format": null,
       "colour": null,
       "elapsed": 0.019397497177124023,
       "initial": 0,
       "n": 0,
       "ncols": null,
       "nrows": null,
       "postfix": null,
       "prefix": "S1B_IW_20180708T153117_DVP_RTC30_G_gpuned_6F1B.zip",
       "rate": null,
       "total": 475064533,
       "unit": "it",
       "unit_divisor": 1000,
       "unit_scale": false
      },
      "application/vnd.jupyter.widget-view+json": {
       "model_id": "02874d222c904e13901e6b548b680aa0",
       "version_major": 2,
       "version_minor": 0
      },
      "text/plain": [
       "S1B_IW_20180708T153117_DVP_RTC30_G_gpuned_6F1B.zip:   0%|          | 0/475064533 [00:00<?, ?it/s]"
      ]
     },
     "metadata": {},
     "output_type": "display_data"
    },
    {
     "data": {
      "application/json": {
       "ascii": false,
       "bar_format": null,
       "colour": null,
       "elapsed": 0.019639015197753906,
       "initial": 0,
       "n": 0,
       "ncols": null,
       "nrows": null,
       "postfix": null,
       "prefix": "S1A_IW_20180712T154757_DVP_RTC30_G_gpuned_0ACB.zip",
       "rate": null,
       "total": 455610286,
       "unit": "it",
       "unit_divisor": 1000,
       "unit_scale": false
      },
      "application/vnd.jupyter.widget-view+json": {
       "model_id": "c51bd25582c648a994d4352ccf9f35a3",
       "version_major": 2,
       "version_minor": 0
      },
      "text/plain": [
       "S1A_IW_20180712T154757_DVP_RTC30_G_gpuned_0ACB.zip:   0%|          | 0/455610286 [00:00<?, ?it/s]"
      ]
     },
     "metadata": {},
     "output_type": "display_data"
    },
    {
     "data": {
      "application/json": {
       "ascii": false,
       "bar_format": null,
       "colour": null,
       "elapsed": 0.019255876541137695,
       "initial": 0,
       "n": 0,
       "ncols": null,
       "nrows": null,
       "postfix": null,
       "prefix": "S1A_IW_20180720T025449_DVP_RTC30_G_gpuned_2B9E.zip",
       "rate": null,
       "total": 457978325,
       "unit": "it",
       "unit_divisor": 1000,
       "unit_scale": false
      },
      "application/vnd.jupyter.widget-view+json": {
       "model_id": "c8e3cf7fa933476d805c9e6a2f9154dc",
       "version_major": 2,
       "version_minor": 0
      },
      "text/plain": [
       "S1A_IW_20180720T025449_DVP_RTC30_G_gpuned_2B9E.zip:   0%|          | 0/457978325 [00:00<?, ?it/s]"
      ]
     },
     "metadata": {},
     "output_type": "display_data"
    },
    {
     "data": {
      "application/json": {
       "ascii": false,
       "bar_format": null,
       "colour": null,
       "elapsed": 0.02044820785522461,
       "initial": 0,
       "n": 0,
       "ncols": null,
       "nrows": null,
       "postfix": null,
       "prefix": "S1A_IW_20180712T154822_DVP_RTC30_G_gpuned_B35A.zip",
       "rate": null,
       "total": 438590772,
       "unit": "it",
       "unit_divisor": 1000,
       "unit_scale": false
      },
      "application/vnd.jupyter.widget-view+json": {
       "model_id": "1bdde1617f574901813acc3d74d40435",
       "version_major": 2,
       "version_minor": 0
      },
      "text/plain": [
       "S1A_IW_20180712T154822_DVP_RTC30_G_gpuned_B35A.zip:   0%|          | 0/438590772 [00:00<?, ?it/s]"
      ]
     },
     "metadata": {},
     "output_type": "display_data"
    },
    {
     "data": {
      "application/json": {
       "ascii": false,
       "bar_format": null,
       "colour": null,
       "elapsed": 0.023377180099487305,
       "initial": 0,
       "n": 0,
       "ncols": null,
       "nrows": null,
       "postfix": null,
       "prefix": "S1A_IW_20180720T025513_DVP_RTC30_G_gpuned_7EC3.zip",
       "rate": null,
       "total": 454289247,
       "unit": "it",
       "unit_divisor": 1000,
       "unit_scale": false
      },
      "application/vnd.jupyter.widget-view+json": {
       "model_id": "a67509fac17d408093446966b8bbd479",
       "version_major": 2,
       "version_minor": 0
      },
      "text/plain": [
       "S1A_IW_20180720T025513_DVP_RTC30_G_gpuned_7EC3.zip:   0%|          | 0/454289247 [00:00<?, ?it/s]"
      ]
     },
     "metadata": {},
     "output_type": "display_data"
    },
    {
     "data": {
      "application/json": {
       "ascii": false,
       "bar_format": null,
       "colour": null,
       "elapsed": 0.01934957504272461,
       "initial": 0,
       "n": 0,
       "ncols": null,
       "nrows": null,
       "postfix": null,
       "prefix": "S1B_IW_20180720T153118_DVP_RTC30_G_gpuned_D37C.zip",
       "rate": null,
       "total": 475063993,
       "unit": "it",
       "unit_divisor": 1000,
       "unit_scale": false
      },
      "application/vnd.jupyter.widget-view+json": {
       "model_id": "6ab44b57400945d5a96a5805af8f2bf5",
       "version_major": 2,
       "version_minor": 0
      },
      "text/plain": [
       "S1B_IW_20180720T153118_DVP_RTC30_G_gpuned_D37C.zip:   0%|          | 0/475063993 [00:00<?, ?it/s]"
      ]
     },
     "metadata": {},
     "output_type": "display_data"
    },
    {
     "data": {
      "application/json": {
       "ascii": false,
       "bar_format": null,
       "colour": null,
       "elapsed": 0.020455598831176758,
       "initial": 0,
       "n": 0,
       "ncols": null,
       "nrows": null,
       "postfix": null,
       "prefix": "S1A_IW_20180724T154758_DVP_RTC30_G_gpuned_9BEF.zip",
       "rate": null,
       "total": 455808967,
       "unit": "it",
       "unit_divisor": 1000,
       "unit_scale": false
      },
      "application/vnd.jupyter.widget-view+json": {
       "model_id": "38f0ceec7cde458d8e723576e66947a9",
       "version_major": 2,
       "version_minor": 0
      },
      "text/plain": [
       "S1A_IW_20180724T154758_DVP_RTC30_G_gpuned_9BEF.zip:   0%|          | 0/455808967 [00:00<?, ?it/s]"
      ]
     },
     "metadata": {},
     "output_type": "display_data"
    },
    {
     "data": {
      "application/json": {
       "ascii": false,
       "bar_format": null,
       "colour": null,
       "elapsed": 0.01903223991394043,
       "initial": 0,
       "n": 0,
       "ncols": null,
       "nrows": null,
       "postfix": null,
       "prefix": "S1B_IW_20180801T153119_DVP_RTC30_G_gpuned_7977.zip",
       "rate": null,
       "total": 474752122,
       "unit": "it",
       "unit_divisor": 1000,
       "unit_scale": false
      },
      "application/vnd.jupyter.widget-view+json": {
       "model_id": "5b827f15f56244c6bd7a1c0eaae993d0",
       "version_major": 2,
       "version_minor": 0
      },
      "text/plain": [
       "S1B_IW_20180801T153119_DVP_RTC30_G_gpuned_7977.zip:   0%|          | 0/474752122 [00:00<?, ?it/s]"
      ]
     },
     "metadata": {},
     "output_type": "display_data"
    },
    {
     "data": {
      "application/json": {
       "ascii": false,
       "bar_format": null,
       "colour": null,
       "elapsed": 0.0193479061126709,
       "initial": 0,
       "n": 0,
       "ncols": null,
       "nrows": null,
       "postfix": null,
       "prefix": "S1A_IW_20180724T154823_DVP_RTC30_G_gpuned_02C3.zip",
       "rate": null,
       "total": 438507422,
       "unit": "it",
       "unit_divisor": 1000,
       "unit_scale": false
      },
      "application/vnd.jupyter.widget-view+json": {
       "model_id": "fcc201091a654edbb8df7a8da9fdef25",
       "version_major": 2,
       "version_minor": 0
      },
      "text/plain": [
       "S1A_IW_20180724T154823_DVP_RTC30_G_gpuned_02C3.zip:   0%|          | 0/438507422 [00:00<?, ?it/s]"
      ]
     },
     "metadata": {},
     "output_type": "display_data"
    },
    {
     "data": {
      "application/json": {
       "ascii": false,
       "bar_format": null,
       "colour": null,
       "elapsed": 0.019916057586669922,
       "initial": 0,
       "n": 0,
       "ncols": null,
       "nrows": null,
       "postfix": null,
       "prefix": "S1A_IW_20180805T154759_DVP_RTC30_G_gpuned_9FDC.zip",
       "rate": null,
       "total": 454719965,
       "unit": "it",
       "unit_divisor": 1000,
       "unit_scale": false
      },
      "application/vnd.jupyter.widget-view+json": {
       "model_id": "63b84130510e4a5d971190f20ae7220b",
       "version_major": 2,
       "version_minor": 0
      },
      "text/plain": [
       "S1A_IW_20180805T154759_DVP_RTC30_G_gpuned_9FDC.zip:   0%|          | 0/454719965 [00:00<?, ?it/s]"
      ]
     },
     "metadata": {},
     "output_type": "display_data"
    },
    {
     "name": "stdout",
     "output_type": "stream",
     "text": [
      "Current job: 110/181, time elapsed: 40.76 min, time remaining: 23.15 min\n"
     ]
    },
    {
     "data": {
      "application/json": {
       "ascii": false,
       "bar_format": null,
       "colour": null,
       "elapsed": 0.020174026489257812,
       "initial": 0,
       "n": 0,
       "ncols": null,
       "nrows": null,
       "postfix": null,
       "prefix": "S1A_IW_20180805T154824_DVP_RTC30_G_gpuned_8425.zip",
       "rate": null,
       "total": 437917573,
       "unit": "it",
       "unit_divisor": 1000,
       "unit_scale": false
      },
      "application/vnd.jupyter.widget-view+json": {
       "model_id": "e0a50437bc054ad784e230a04d3f08f0",
       "version_major": 2,
       "version_minor": 0
      },
      "text/plain": [
       "S1A_IW_20180805T154824_DVP_RTC30_G_gpuned_8425.zip:   0%|          | 0/437917573 [00:00<?, ?it/s]"
      ]
     },
     "metadata": {},
     "output_type": "display_data"
    },
    {
     "data": {
      "application/json": {
       "ascii": false,
       "bar_format": null,
       "colour": null,
       "elapsed": 0.019494056701660156,
       "initial": 0,
       "n": 0,
       "ncols": null,
       "nrows": null,
       "postfix": null,
       "prefix": "S1B_IW_20180812T030216_DVP_RTC30_G_gpuned_3000.zip",
       "rate": null,
       "total": 499039954,
       "unit": "it",
       "unit_divisor": 1000,
       "unit_scale": false
      },
      "application/vnd.jupyter.widget-view+json": {
       "model_id": "dde623c22c964c93af3df670700a5eb4",
       "version_major": 2,
       "version_minor": 0
      },
      "text/plain": [
       "S1B_IW_20180812T030216_DVP_RTC30_G_gpuned_3000.zip:   0%|          | 0/499039954 [00:00<?, ?it/s]"
      ]
     },
     "metadata": {},
     "output_type": "display_data"
    },
    {
     "data": {
      "application/json": {
       "ascii": false,
       "bar_format": null,
       "colour": null,
       "elapsed": 0.02067852020263672,
       "initial": 0,
       "n": 0,
       "ncols": null,
       "nrows": null,
       "postfix": null,
       "prefix": "S1B_IW_20180812T030243_DVP_RTC30_G_gpuned_8253.zip",
       "rate": null,
       "total": 474476304,
       "unit": "it",
       "unit_divisor": 1000,
       "unit_scale": false
      },
      "application/vnd.jupyter.widget-view+json": {
       "model_id": "7d060d94943c4541b1cc79661c8b407b",
       "version_major": 2,
       "version_minor": 0
      },
      "text/plain": [
       "S1B_IW_20180812T030243_DVP_RTC30_G_gpuned_8253.zip:   0%|          | 0/474476304 [00:00<?, ?it/s]"
      ]
     },
     "metadata": {},
     "output_type": "display_data"
    },
    {
     "data": {
      "application/json": {
       "ascii": false,
       "bar_format": null,
       "colour": null,
       "elapsed": 0.019176244735717773,
       "initial": 0,
       "n": 0,
       "ncols": null,
       "nrows": null,
       "postfix": null,
       "prefix": "S1B_IW_20180813T153120_DVP_RTC30_G_gpuned_414E.zip",
       "rate": null,
       "total": 473362705,
       "unit": "it",
       "unit_divisor": 1000,
       "unit_scale": false
      },
      "application/vnd.jupyter.widget-view+json": {
       "model_id": "cae9d837ad454866b5fb9f0899c2857d",
       "version_major": 2,
       "version_minor": 0
      },
      "text/plain": [
       "S1B_IW_20180813T153120_DVP_RTC30_G_gpuned_414E.zip:   0%|          | 0/473362705 [00:00<?, ?it/s]"
      ]
     },
     "metadata": {},
     "output_type": "display_data"
    },
    {
     "data": {
      "application/json": {
       "ascii": false,
       "bar_format": null,
       "colour": null,
       "elapsed": 0.020003557205200195,
       "initial": 0,
       "n": 0,
       "ncols": null,
       "nrows": null,
       "postfix": null,
       "prefix": "S1A_IW_20180817T154824_DVP_RTC30_G_gpuned_0141.zip",
       "rate": null,
       "total": 437652985,
       "unit": "it",
       "unit_divisor": 1000,
       "unit_scale": false
      },
      "application/vnd.jupyter.widget-view+json": {
       "model_id": "a7148e81bf2244fba46b34d6c5c835ed",
       "version_major": 2,
       "version_minor": 0
      },
      "text/plain": [
       "S1A_IW_20180817T154824_DVP_RTC30_G_gpuned_0141.zip:   0%|          | 0/437652985 [00:00<?, ?it/s]"
      ]
     },
     "metadata": {},
     "output_type": "display_data"
    },
    {
     "data": {
      "application/json": {
       "ascii": false,
       "bar_format": null,
       "colour": null,
       "elapsed": 0.019253253936767578,
       "initial": 0,
       "n": 0,
       "ncols": null,
       "nrows": null,
       "postfix": null,
       "prefix": "S1A_IW_20180817T154759_DVP_RTC30_G_gpuned_3442.zip",
       "rate": null,
       "total": 454999646,
       "unit": "it",
       "unit_divisor": 1000,
       "unit_scale": false
      },
      "application/vnd.jupyter.widget-view+json": {
       "model_id": "2b94f8564c284d8b81fc66c9f835176a",
       "version_major": 2,
       "version_minor": 0
      },
      "text/plain": [
       "S1A_IW_20180817T154759_DVP_RTC30_G_gpuned_3442.zip:   0%|          | 0/454999646 [00:00<?, ?it/s]"
      ]
     },
     "metadata": {},
     "output_type": "display_data"
    },
    {
     "data": {
      "application/json": {
       "ascii": false,
       "bar_format": null,
       "colour": null,
       "elapsed": 0.019317150115966797,
       "initial": 0,
       "n": 0,
       "ncols": null,
       "nrows": null,
       "postfix": null,
       "prefix": "S1B_IW_20180824T030217_DVP_RTC30_G_gpuned_F476.zip",
       "rate": null,
       "total": 499555811,
       "unit": "it",
       "unit_divisor": 1000,
       "unit_scale": false
      },
      "application/vnd.jupyter.widget-view+json": {
       "model_id": "f219564b3fb5458a9a75f2a2cf34c039",
       "version_major": 2,
       "version_minor": 0
      },
      "text/plain": [
       "S1B_IW_20180824T030217_DVP_RTC30_G_gpuned_F476.zip:   0%|          | 0/499555811 [00:00<?, ?it/s]"
      ]
     },
     "metadata": {},
     "output_type": "display_data"
    },
    {
     "data": {
      "application/json": {
       "ascii": false,
       "bar_format": null,
       "colour": null,
       "elapsed": 0.0191497802734375,
       "initial": 0,
       "n": 0,
       "ncols": null,
       "nrows": null,
       "postfix": null,
       "prefix": "S1B_IW_20180824T030244_DVP_RTC30_G_gpuned_8ED7.zip",
       "rate": null,
       "total": 474369992,
       "unit": "it",
       "unit_divisor": 1000,
       "unit_scale": false
      },
      "application/vnd.jupyter.widget-view+json": {
       "model_id": "0f8739a2916f44c68d5465d17e2a93ac",
       "version_major": 2,
       "version_minor": 0
      },
      "text/plain": [
       "S1B_IW_20180824T030244_DVP_RTC30_G_gpuned_8ED7.zip:   0%|          | 0/474369992 [00:00<?, ?it/s]"
      ]
     },
     "metadata": {},
     "output_type": "display_data"
    },
    {
     "data": {
      "application/json": {
       "ascii": false,
       "bar_format": null,
       "colour": null,
       "elapsed": 0.019379377365112305,
       "initial": 0,
       "n": 0,
       "ncols": null,
       "nrows": null,
       "postfix": null,
       "prefix": "S1B_IW_20180825T153120_DVP_RTC30_G_gpuned_B663.zip",
       "rate": null,
       "total": 473963125,
       "unit": "it",
       "unit_divisor": 1000,
       "unit_scale": false
      },
      "application/vnd.jupyter.widget-view+json": {
       "model_id": "3d45d50720a946e18a8f5482e9f24f23",
       "version_major": 2,
       "version_minor": 0
      },
      "text/plain": [
       "S1B_IW_20180825T153120_DVP_RTC30_G_gpuned_B663.zip:   0%|          | 0/473963125 [00:00<?, ?it/s]"
      ]
     },
     "metadata": {},
     "output_type": "display_data"
    },
    {
     "data": {
      "application/json": {
       "ascii": false,
       "bar_format": null,
       "colour": null,
       "elapsed": 0.019151926040649414,
       "initial": 0,
       "n": 0,
       "ncols": null,
       "nrows": null,
       "postfix": null,
       "prefix": "S1A_IW_20180829T154800_DVP_RTC30_G_gpuned_A0A4.zip",
       "rate": null,
       "total": 455443357,
       "unit": "it",
       "unit_divisor": 1000,
       "unit_scale": false
      },
      "application/vnd.jupyter.widget-view+json": {
       "model_id": "d3d20df268284c6e80c3aebdfdf018bb",
       "version_major": 2,
       "version_minor": 0
      },
      "text/plain": [
       "S1A_IW_20180829T154800_DVP_RTC30_G_gpuned_A0A4.zip:   0%|          | 0/455443357 [00:00<?, ?it/s]"
      ]
     },
     "metadata": {},
     "output_type": "display_data"
    },
    {
     "name": "stdout",
     "output_type": "stream",
     "text": [
      "Current job: 120/181, time elapsed: 44.80 min, time remaining: 20.24 min\n"
     ]
    },
    {
     "data": {
      "application/json": {
       "ascii": false,
       "bar_format": null,
       "colour": null,
       "elapsed": 0.018998146057128906,
       "initial": 0,
       "n": 0,
       "ncols": null,
       "nrows": null,
       "postfix": null,
       "prefix": "S1A_IW_20180829T154825_DVP_RTC30_G_gpuned_418C.zip",
       "rate": null,
       "total": 437980909,
       "unit": "it",
       "unit_divisor": 1000,
       "unit_scale": false
      },
      "application/vnd.jupyter.widget-view+json": {
       "model_id": "e9db370c390f43aca25424d62965351a",
       "version_major": 2,
       "version_minor": 0
      },
      "text/plain": [
       "S1A_IW_20180829T154825_DVP_RTC30_G_gpuned_418C.zip:   0%|          | 0/437980909 [00:00<?, ?it/s]"
      ]
     },
     "metadata": {},
     "output_type": "display_data"
    },
    {
     "data": {
      "application/json": {
       "ascii": false,
       "bar_format": null,
       "colour": null,
       "elapsed": 0.019429683685302734,
       "initial": 0,
       "n": 0,
       "ncols": null,
       "nrows": null,
       "postfix": null,
       "prefix": "S1B_IW_20180905T030217_DVP_RTC30_G_gpuned_D2EE.zip",
       "rate": null,
       "total": 498046264,
       "unit": "it",
       "unit_divisor": 1000,
       "unit_scale": false
      },
      "application/vnd.jupyter.widget-view+json": {
       "model_id": "6756aebe22674cc19255282e4912b286",
       "version_major": 2,
       "version_minor": 0
      },
      "text/plain": [
       "S1B_IW_20180905T030217_DVP_RTC30_G_gpuned_D2EE.zip:   0%|          | 0/498046264 [00:00<?, ?it/s]"
      ]
     },
     "metadata": {},
     "output_type": "display_data"
    },
    {
     "data": {
      "application/json": {
       "ascii": false,
       "bar_format": null,
       "colour": null,
       "elapsed": 0.019323110580444336,
       "initial": 0,
       "n": 0,
       "ncols": null,
       "nrows": null,
       "postfix": null,
       "prefix": "S1B_IW_20180905T030245_DVP_RTC30_G_gpuned_6516.zip",
       "rate": null,
       "total": 473707691,
       "unit": "it",
       "unit_divisor": 1000,
       "unit_scale": false
      },
      "application/vnd.jupyter.widget-view+json": {
       "model_id": "339302dade094b6597d199ab0b24aea6",
       "version_major": 2,
       "version_minor": 0
      },
      "text/plain": [
       "S1B_IW_20180905T030245_DVP_RTC30_G_gpuned_6516.zip:   0%|          | 0/473707691 [00:00<?, ?it/s]"
      ]
     },
     "metadata": {},
     "output_type": "display_data"
    },
    {
     "data": {
      "application/json": {
       "ascii": false,
       "bar_format": null,
       "colour": null,
       "elapsed": 0.0189361572265625,
       "initial": 0,
       "n": 0,
       "ncols": null,
       "nrows": null,
       "postfix": null,
       "prefix": "S1A_IW_20180906T025451_DVP_RTC30_G_gpuned_2135.zip",
       "rate": null,
       "total": 457414985,
       "unit": "it",
       "unit_divisor": 1000,
       "unit_scale": false
      },
      "application/vnd.jupyter.widget-view+json": {
       "model_id": "c126d7559ab64d599a1c535bf92e6986",
       "version_major": 2,
       "version_minor": 0
      },
      "text/plain": [
       "S1A_IW_20180906T025451_DVP_RTC30_G_gpuned_2135.zip:   0%|          | 0/457414985 [00:00<?, ?it/s]"
      ]
     },
     "metadata": {},
     "output_type": "display_data"
    },
    {
     "data": {
      "application/json": {
       "ascii": false,
       "bar_format": null,
       "colour": null,
       "elapsed": 0.020160436630249023,
       "initial": 0,
       "n": 0,
       "ncols": null,
       "nrows": null,
       "postfix": null,
       "prefix": "S1A_IW_20180906T025516_DVP_RTC30_G_gpuned_48D1.zip",
       "rate": null,
       "total": 453166908,
       "unit": "it",
       "unit_divisor": 1000,
       "unit_scale": false
      },
      "application/vnd.jupyter.widget-view+json": {
       "model_id": "535f6c0eca64488e8865ec69981dbdf9",
       "version_major": 2,
       "version_minor": 0
      },
      "text/plain": [
       "S1A_IW_20180906T025516_DVP_RTC30_G_gpuned_48D1.zip:   0%|          | 0/453166908 [00:00<?, ?it/s]"
      ]
     },
     "metadata": {},
     "output_type": "display_data"
    },
    {
     "data": {
      "application/json": {
       "ascii": false,
       "bar_format": null,
       "colour": null,
       "elapsed": 0.018933534622192383,
       "initial": 0,
       "n": 0,
       "ncols": null,
       "nrows": null,
       "postfix": null,
       "prefix": "S1A_IW_20180910T154801_DVP_RTC30_G_gpuned_67B3.zip",
       "rate": null,
       "total": 454952409,
       "unit": "it",
       "unit_divisor": 1000,
       "unit_scale": false
      },
      "application/vnd.jupyter.widget-view+json": {
       "model_id": "eab7168754b6490a802edb6e9fa27dac",
       "version_major": 2,
       "version_minor": 0
      },
      "text/plain": [
       "S1A_IW_20180910T154801_DVP_RTC30_G_gpuned_67B3.zip:   0%|          | 0/454952409 [00:00<?, ?it/s]"
      ]
     },
     "metadata": {},
     "output_type": "display_data"
    },
    {
     "data": {
      "application/json": {
       "ascii": false,
       "bar_format": null,
       "colour": null,
       "elapsed": 0.019113540649414062,
       "initial": 0,
       "n": 0,
       "ncols": null,
       "nrows": null,
       "postfix": null,
       "prefix": "S1B_IW_20180906T153121_DVP_RTC30_G_gpuned_9151.zip",
       "rate": null,
       "total": 474022104,
       "unit": "it",
       "unit_divisor": 1000,
       "unit_scale": false
      },
      "application/vnd.jupyter.widget-view+json": {
       "model_id": "eed94f1684cb428e987e70553952e06f",
       "version_major": 2,
       "version_minor": 0
      },
      "text/plain": [
       "S1B_IW_20180906T153121_DVP_RTC30_G_gpuned_9151.zip:   0%|          | 0/474022104 [00:00<?, ?it/s]"
      ]
     },
     "metadata": {},
     "output_type": "display_data"
    },
    {
     "data": {
      "application/json": {
       "ascii": false,
       "bar_format": null,
       "colour": null,
       "elapsed": 0.019486427307128906,
       "initial": 0,
       "n": 0,
       "ncols": null,
       "nrows": null,
       "postfix": null,
       "prefix": "S1A_IW_20180910T154825_DVP_RTC30_G_gpuned_5FD1.zip",
       "rate": null,
       "total": 437593203,
       "unit": "it",
       "unit_divisor": 1000,
       "unit_scale": false
      },
      "application/vnd.jupyter.widget-view+json": {
       "model_id": "9c648d00ecad4f04b7754fed74dcefd5",
       "version_major": 2,
       "version_minor": 0
      },
      "text/plain": [
       "S1A_IW_20180910T154825_DVP_RTC30_G_gpuned_5FD1.zip:   0%|          | 0/437593203 [00:00<?, ?it/s]"
      ]
     },
     "metadata": {},
     "output_type": "display_data"
    },
    {
     "data": {
      "application/json": {
       "ascii": false,
       "bar_format": null,
       "colour": null,
       "elapsed": 0.019219636917114258,
       "initial": 0,
       "n": 0,
       "ncols": null,
       "nrows": null,
       "postfix": null,
       "prefix": "S1B_IW_20180917T030218_DVP_RTC30_G_gpuned_AE5D.zip",
       "rate": null,
       "total": 501655198,
       "unit": "it",
       "unit_divisor": 1000,
       "unit_scale": false
      },
      "application/vnd.jupyter.widget-view+json": {
       "model_id": "ac1083e253fd4d2e9f216ac5123ba56d",
       "version_major": 2,
       "version_minor": 0
      },
      "text/plain": [
       "S1B_IW_20180917T030218_DVP_RTC30_G_gpuned_AE5D.zip:   0%|          | 0/501655198 [00:00<?, ?it/s]"
      ]
     },
     "metadata": {},
     "output_type": "display_data"
    },
    {
     "data": {
      "application/json": {
       "ascii": false,
       "bar_format": null,
       "colour": null,
       "elapsed": 0.01890707015991211,
       "initial": 0,
       "n": 0,
       "ncols": null,
       "nrows": null,
       "postfix": null,
       "prefix": "S1B_IW_20180917T030245_DVP_RTC30_G_gpuned_C4BC.zip",
       "rate": null,
       "total": 473571740,
       "unit": "it",
       "unit_divisor": 1000,
       "unit_scale": false
      },
      "application/vnd.jupyter.widget-view+json": {
       "model_id": "05efccbcc64c40c9bf5cf12710fa0183",
       "version_major": 2,
       "version_minor": 0
      },
      "text/plain": [
       "S1B_IW_20180917T030245_DVP_RTC30_G_gpuned_C4BC.zip:   0%|          | 0/473571740 [00:00<?, ?it/s]"
      ]
     },
     "metadata": {},
     "output_type": "display_data"
    },
    {
     "name": "stdout",
     "output_type": "stream",
     "text": [
      "Current job: 130/181, time elapsed: 48.83 min, time remaining: 17.18 min\n"
     ]
    },
    {
     "data": {
      "application/json": {
       "ascii": false,
       "bar_format": null,
       "colour": null,
       "elapsed": 0.019844532012939453,
       "initial": 0,
       "n": 0,
       "ncols": null,
       "nrows": null,
       "postfix": null,
       "prefix": "S1A_IW_20180918T025452_DVP_RTC30_G_gpuned_7AC6.zip",
       "rate": null,
       "total": 458295326,
       "unit": "it",
       "unit_divisor": 1000,
       "unit_scale": false
      },
      "application/vnd.jupyter.widget-view+json": {
       "model_id": "96521b86bf7a4323ac8363e957dbdb13",
       "version_major": 2,
       "version_minor": 0
      },
      "text/plain": [
       "S1A_IW_20180918T025452_DVP_RTC30_G_gpuned_7AC6.zip:   0%|          | 0/458295326 [00:00<?, ?it/s]"
      ]
     },
     "metadata": {},
     "output_type": "display_data"
    },
    {
     "data": {
      "application/json": {
       "ascii": false,
       "bar_format": null,
       "colour": null,
       "elapsed": 0.020031213760375977,
       "initial": 0,
       "n": 0,
       "ncols": null,
       "nrows": null,
       "postfix": null,
       "prefix": "S1A_IW_20180918T025516_DVP_RTC30_G_gpuned_B411.zip",
       "rate": null,
       "total": 452797910,
       "unit": "it",
       "unit_divisor": 1000,
       "unit_scale": false
      },
      "application/vnd.jupyter.widget-view+json": {
       "model_id": "64a4108e632c4b9fa1a430275ad0eead",
       "version_major": 2,
       "version_minor": 0
      },
      "text/plain": [
       "S1A_IW_20180918T025516_DVP_RTC30_G_gpuned_B411.zip:   0%|          | 0/452797910 [00:00<?, ?it/s]"
      ]
     },
     "metadata": {},
     "output_type": "display_data"
    },
    {
     "data": {
      "application/json": {
       "ascii": false,
       "bar_format": null,
       "colour": null,
       "elapsed": 0.018969058990478516,
       "initial": 0,
       "n": 0,
       "ncols": null,
       "nrows": null,
       "postfix": null,
       "prefix": "S1B_IW_20180918T153121_DVP_RTC30_G_gpuned_22FF.zip",
       "rate": null,
       "total": 473159950,
       "unit": "it",
       "unit_divisor": 1000,
       "unit_scale": false
      },
      "application/vnd.jupyter.widget-view+json": {
       "model_id": "c3323245679e46ec8e02813bcf61d9b0",
       "version_major": 2,
       "version_minor": 0
      },
      "text/plain": [
       "S1B_IW_20180918T153121_DVP_RTC30_G_gpuned_22FF.zip:   0%|          | 0/473159950 [00:00<?, ?it/s]"
      ]
     },
     "metadata": {},
     "output_type": "display_data"
    },
    {
     "data": {
      "application/json": {
       "ascii": false,
       "bar_format": null,
       "colour": null,
       "elapsed": 0.019231081008911133,
       "initial": 0,
       "n": 0,
       "ncols": null,
       "nrows": null,
       "postfix": null,
       "prefix": "S1A_IW_20180922T154801_DVP_RTC30_G_gpuned_3895.zip",
       "rate": null,
       "total": 454846938,
       "unit": "it",
       "unit_divisor": 1000,
       "unit_scale": false
      },
      "application/vnd.jupyter.widget-view+json": {
       "model_id": "d7ec7b4a7c2c4b3698cefd84266bc378",
       "version_major": 2,
       "version_minor": 0
      },
      "text/plain": [
       "S1A_IW_20180922T154801_DVP_RTC30_G_gpuned_3895.zip:   0%|          | 0/454846938 [00:00<?, ?it/s]"
      ]
     },
     "metadata": {},
     "output_type": "display_data"
    },
    {
     "data": {
      "application/json": {
       "ascii": false,
       "bar_format": null,
       "colour": null,
       "elapsed": 0.01908087730407715,
       "initial": 0,
       "n": 0,
       "ncols": null,
       "nrows": null,
       "postfix": null,
       "prefix": "S1A_IW_20180922T154826_DVP_RTC30_G_gpuned_791B.zip",
       "rate": null,
       "total": 436402369,
       "unit": "it",
       "unit_divisor": 1000,
       "unit_scale": false
      },
      "application/vnd.jupyter.widget-view+json": {
       "model_id": "98b4deb3a3f145299648a54f4879f8f6",
       "version_major": 2,
       "version_minor": 0
      },
      "text/plain": [
       "S1A_IW_20180922T154826_DVP_RTC30_G_gpuned_791B.zip:   0%|          | 0/436402369 [00:00<?, ?it/s]"
      ]
     },
     "metadata": {},
     "output_type": "display_data"
    },
    {
     "data": {
      "application/json": {
       "ascii": false,
       "bar_format": null,
       "colour": null,
       "elapsed": 0.019416093826293945,
       "initial": 0,
       "n": 0,
       "ncols": null,
       "nrows": null,
       "postfix": null,
       "prefix": "S1B_IW_20180929T030218_DVP_RTC30_G_gpuned_E437.zip",
       "rate": null,
       "total": 501628989,
       "unit": "it",
       "unit_divisor": 1000,
       "unit_scale": false
      },
      "application/vnd.jupyter.widget-view+json": {
       "model_id": "281d0fadd7794be8a3bebf025cf8b623",
       "version_major": 2,
       "version_minor": 0
      },
      "text/plain": [
       "S1B_IW_20180929T030218_DVP_RTC30_G_gpuned_E437.zip:   0%|          | 0/501628989 [00:00<?, ?it/s]"
      ]
     },
     "metadata": {},
     "output_type": "display_data"
    },
    {
     "data": {
      "application/json": {
       "ascii": false,
       "bar_format": null,
       "colour": null,
       "elapsed": 0.01899862289428711,
       "initial": 0,
       "n": 0,
       "ncols": null,
       "nrows": null,
       "postfix": null,
       "prefix": "S1B_IW_20180929T030245_DVP_RTC30_G_gpuned_C829.zip",
       "rate": null,
       "total": 473218936,
       "unit": "it",
       "unit_divisor": 1000,
       "unit_scale": false
      },
      "application/vnd.jupyter.widget-view+json": {
       "model_id": "31c2c7343a7f4481860c85b43f534d80",
       "version_major": 2,
       "version_minor": 0
      },
      "text/plain": [
       "S1B_IW_20180929T030245_DVP_RTC30_G_gpuned_C829.zip:   0%|          | 0/473218936 [00:00<?, ?it/s]"
      ]
     },
     "metadata": {},
     "output_type": "display_data"
    },
    {
     "data": {
      "application/json": {
       "ascii": false,
       "bar_format": null,
       "colour": null,
       "elapsed": 0.0189208984375,
       "initial": 0,
       "n": 0,
       "ncols": null,
       "nrows": null,
       "postfix": null,
       "prefix": "S1A_IW_20180930T025452_DVP_RTC30_G_gpuned_E420.zip",
       "rate": null,
       "total": 458079061,
       "unit": "it",
       "unit_divisor": 1000,
       "unit_scale": false
      },
      "application/vnd.jupyter.widget-view+json": {
       "model_id": "a85492d80a5e46d09d57cbc14c94f26b",
       "version_major": 2,
       "version_minor": 0
      },
      "text/plain": [
       "S1A_IW_20180930T025452_DVP_RTC30_G_gpuned_E420.zip:   0%|          | 0/458079061 [00:00<?, ?it/s]"
      ]
     },
     "metadata": {},
     "output_type": "display_data"
    },
    {
     "data": {
      "application/json": {
       "ascii": false,
       "bar_format": null,
       "colour": null,
       "elapsed": 0.018958568572998047,
       "initial": 0,
       "n": 0,
       "ncols": null,
       "nrows": null,
       "postfix": null,
       "prefix": "S1A_IW_20180930T025517_DVP_RTC30_G_gpuned_50E2.zip",
       "rate": null,
       "total": 452632609,
       "unit": "it",
       "unit_divisor": 1000,
       "unit_scale": false
      },
      "application/vnd.jupyter.widget-view+json": {
       "model_id": "99a42429ab734ab5ba1de4e6402ef97f",
       "version_major": 2,
       "version_minor": 0
      },
      "text/plain": [
       "S1A_IW_20180930T025517_DVP_RTC30_G_gpuned_50E2.zip:   0%|          | 0/452632609 [00:00<?, ?it/s]"
      ]
     },
     "metadata": {},
     "output_type": "display_data"
    },
    {
     "data": {
      "application/json": {
       "ascii": false,
       "bar_format": null,
       "colour": null,
       "elapsed": 0.01926708221435547,
       "initial": 0,
       "n": 0,
       "ncols": null,
       "nrows": null,
       "postfix": null,
       "prefix": "S1B_IW_20180930T153121_DVP_RTC30_G_gpuned_FB1C.zip",
       "rate": null,
       "total": 473407990,
       "unit": "it",
       "unit_divisor": 1000,
       "unit_scale": false
      },
      "application/vnd.jupyter.widget-view+json": {
       "model_id": "246ba330d4774dad94c94a6934761767",
       "version_major": 2,
       "version_minor": 0
      },
      "text/plain": [
       "S1B_IW_20180930T153121_DVP_RTC30_G_gpuned_FB1C.zip:   0%|          | 0/473407990 [00:00<?, ?it/s]"
      ]
     },
     "metadata": {},
     "output_type": "display_data"
    },
    {
     "name": "stdout",
     "output_type": "stream",
     "text": [
      "Current job: 140/181, time elapsed: 52.82 min, time remaining: 13.97 min\n"
     ]
    },
    {
     "data": {
      "application/json": {
       "ascii": false,
       "bar_format": null,
       "colour": null,
       "elapsed": 0.018804073333740234,
       "initial": 0,
       "n": 0,
       "ncols": null,
       "nrows": null,
       "postfix": null,
       "prefix": "S1A_IW_20181004T154801_DVP_RTC30_G_gpuned_2DDA.zip",
       "rate": null,
       "total": 455942879,
       "unit": "it",
       "unit_divisor": 1000,
       "unit_scale": false
      },
      "application/vnd.jupyter.widget-view+json": {
       "model_id": "1e9a63eca74a43cead1d066d06180c19",
       "version_major": 2,
       "version_minor": 0
      },
      "text/plain": [
       "S1A_IW_20181004T154801_DVP_RTC30_G_gpuned_2DDA.zip:   0%|          | 0/455942879 [00:00<?, ?it/s]"
      ]
     },
     "metadata": {},
     "output_type": "display_data"
    },
    {
     "data": {
      "application/json": {
       "ascii": false,
       "bar_format": null,
       "colour": null,
       "elapsed": 0.019317150115966797,
       "initial": 0,
       "n": 0,
       "ncols": null,
       "nrows": null,
       "postfix": null,
       "prefix": "S1A_IW_20181004T154826_DVP_RTC30_G_gpuned_6476.zip",
       "rate": null,
       "total": 436451072,
       "unit": "it",
       "unit_divisor": 1000,
       "unit_scale": false
      },
      "application/vnd.jupyter.widget-view+json": {
       "model_id": "a39356d1e32f4cb89a4b163e935a51fb",
       "version_major": 2,
       "version_minor": 0
      },
      "text/plain": [
       "S1A_IW_20181004T154826_DVP_RTC30_G_gpuned_6476.zip:   0%|          | 0/436451072 [00:00<?, ?it/s]"
      ]
     },
     "metadata": {},
     "output_type": "display_data"
    },
    {
     "data": {
      "application/json": {
       "ascii": false,
       "bar_format": null,
       "colour": null,
       "elapsed": 0.020387649536132812,
       "initial": 0,
       "n": 0,
       "ncols": null,
       "nrows": null,
       "postfix": null,
       "prefix": "S1B_IW_20181011T030218_DVP_RTC30_G_gpuned_BD15.zip",
       "rate": null,
       "total": 499563260,
       "unit": "it",
       "unit_divisor": 1000,
       "unit_scale": false
      },
      "application/vnd.jupyter.widget-view+json": {
       "model_id": "e48f38b8c6b345eabbd62fb940f9bd96",
       "version_major": 2,
       "version_minor": 0
      },
      "text/plain": [
       "S1B_IW_20181011T030218_DVP_RTC30_G_gpuned_BD15.zip:   0%|          | 0/499563260 [00:00<?, ?it/s]"
      ]
     },
     "metadata": {},
     "output_type": "display_data"
    },
    {
     "data": {
      "application/json": {
       "ascii": false,
       "bar_format": null,
       "colour": null,
       "elapsed": 0.018986940383911133,
       "initial": 0,
       "n": 0,
       "ncols": null,
       "nrows": null,
       "postfix": null,
       "prefix": "S1B_IW_20181011T030246_DVP_RTC30_G_gpuned_4AE7.zip",
       "rate": null,
       "total": 472957109,
       "unit": "it",
       "unit_divisor": 1000,
       "unit_scale": false
      },
      "application/vnd.jupyter.widget-view+json": {
       "model_id": "af328d830b9e45d89feb31af5d3e8e5a",
       "version_major": 2,
       "version_minor": 0
      },
      "text/plain": [
       "S1B_IW_20181011T030246_DVP_RTC30_G_gpuned_4AE7.zip:   0%|          | 0/472957109 [00:00<?, ?it/s]"
      ]
     },
     "metadata": {},
     "output_type": "display_data"
    },
    {
     "data": {
      "application/json": {
       "ascii": false,
       "bar_format": null,
       "colour": null,
       "elapsed": 0.01911306381225586,
       "initial": 0,
       "n": 0,
       "ncols": null,
       "nrows": null,
       "postfix": null,
       "prefix": "S1A_IW_20181012T025517_DVP_RTC30_G_gpuned_E5FB.zip",
       "rate": null,
       "total": 453200211,
       "unit": "it",
       "unit_divisor": 1000,
       "unit_scale": false
      },
      "application/vnd.jupyter.widget-view+json": {
       "model_id": "e966413dffac4f8c84138da6eb0d2e7d",
       "version_major": 2,
       "version_minor": 0
      },
      "text/plain": [
       "S1A_IW_20181012T025517_DVP_RTC30_G_gpuned_E5FB.zip:   0%|          | 0/453200211 [00:00<?, ?it/s]"
      ]
     },
     "metadata": {},
     "output_type": "display_data"
    },
    {
     "data": {
      "application/json": {
       "ascii": false,
       "bar_format": null,
       "colour": null,
       "elapsed": 0.020645618438720703,
       "initial": 0,
       "n": 0,
       "ncols": null,
       "nrows": null,
       "postfix": null,
       "prefix": "S1A_IW_20181012T025452_DVP_RTC30_G_gpuned_C4AB.zip",
       "rate": null,
       "total": 457382250,
       "unit": "it",
       "unit_divisor": 1000,
       "unit_scale": false
      },
      "application/vnd.jupyter.widget-view+json": {
       "model_id": "970c0d4c87e9459c9522e13a25d133f1",
       "version_major": 2,
       "version_minor": 0
      },
      "text/plain": [
       "S1A_IW_20181012T025452_DVP_RTC30_G_gpuned_C4AB.zip:   0%|          | 0/457382250 [00:00<?, ?it/s]"
      ]
     },
     "metadata": {},
     "output_type": "display_data"
    },
    {
     "data": {
      "application/json": {
       "ascii": false,
       "bar_format": null,
       "colour": null,
       "elapsed": 0.01929950714111328,
       "initial": 0,
       "n": 0,
       "ncols": null,
       "nrows": null,
       "postfix": null,
       "prefix": "S1B_IW_20181012T153122_DVP_RTC30_G_gpuned_7C8F.zip",
       "rate": null,
       "total": 473116008,
       "unit": "it",
       "unit_divisor": 1000,
       "unit_scale": false
      },
      "application/vnd.jupyter.widget-view+json": {
       "model_id": "a7f5d0a86a1d435a8b559f645509d285",
       "version_major": 2,
       "version_minor": 0
      },
      "text/plain": [
       "S1B_IW_20181012T153122_DVP_RTC30_G_gpuned_7C8F.zip:   0%|          | 0/473116008 [00:00<?, ?it/s]"
      ]
     },
     "metadata": {},
     "output_type": "display_data"
    },
    {
     "data": {
      "application/json": {
       "ascii": false,
       "bar_format": null,
       "colour": null,
       "elapsed": 0.018985509872436523,
       "initial": 0,
       "n": 0,
       "ncols": null,
       "nrows": null,
       "postfix": null,
       "prefix": "S1A_IW_20181016T154802_DVP_RTC30_G_gpuned_F57D.zip",
       "rate": null,
       "total": 455359512,
       "unit": "it",
       "unit_divisor": 1000,
       "unit_scale": false
      },
      "application/vnd.jupyter.widget-view+json": {
       "model_id": "73abc761b0514d5c9addfe5ed0579c8e",
       "version_major": 2,
       "version_minor": 0
      },
      "text/plain": [
       "S1A_IW_20181016T154802_DVP_RTC30_G_gpuned_F57D.zip:   0%|          | 0/455359512 [00:00<?, ?it/s]"
      ]
     },
     "metadata": {},
     "output_type": "display_data"
    },
    {
     "data": {
      "application/json": {
       "ascii": false,
       "bar_format": null,
       "colour": null,
       "elapsed": 0.018967628479003906,
       "initial": 0,
       "n": 0,
       "ncols": null,
       "nrows": null,
       "postfix": null,
       "prefix": "S1A_IW_20181016T154826_DVP_RTC30_G_gpuned_DF16.zip",
       "rate": null,
       "total": 436725575,
       "unit": "it",
       "unit_divisor": 1000,
       "unit_scale": false
      },
      "application/vnd.jupyter.widget-view+json": {
       "model_id": "78f6713542fe47448659fbf811e9f1fb",
       "version_major": 2,
       "version_minor": 0
      },
      "text/plain": [
       "S1A_IW_20181016T154826_DVP_RTC30_G_gpuned_DF16.zip:   0%|          | 0/436725575 [00:00<?, ?it/s]"
      ]
     },
     "metadata": {},
     "output_type": "display_data"
    },
    {
     "data": {
      "application/json": {
       "ascii": false,
       "bar_format": null,
       "colour": null,
       "elapsed": 0.01912546157836914,
       "initial": 0,
       "n": 0,
       "ncols": null,
       "nrows": null,
       "postfix": null,
       "prefix": "S1B_IW_20181023T030218_DVP_RTC30_G_gpuned_1B8B.zip",
       "rate": null,
       "total": 501058613,
       "unit": "it",
       "unit_divisor": 1000,
       "unit_scale": false
      },
      "application/vnd.jupyter.widget-view+json": {
       "model_id": "308f843f412f41599e37a11cf4c0f597",
       "version_major": 2,
       "version_minor": 0
      },
      "text/plain": [
       "S1B_IW_20181023T030218_DVP_RTC30_G_gpuned_1B8B.zip:   0%|          | 0/501058613 [00:00<?, ?it/s]"
      ]
     },
     "metadata": {},
     "output_type": "display_data"
    },
    {
     "name": "stdout",
     "output_type": "stream",
     "text": [
      "Current job: 150/181, time elapsed: 56.71 min, time remaining: 10.65 min\n"
     ]
    },
    {
     "data": {
      "application/json": {
       "ascii": false,
       "bar_format": null,
       "colour": null,
       "elapsed": 0.019973039627075195,
       "initial": 0,
       "n": 0,
       "ncols": null,
       "nrows": null,
       "postfix": null,
       "prefix": "S1B_IW_20181023T030246_DVP_RTC30_G_gpuned_48CD.zip",
       "rate": null,
       "total": 473624547,
       "unit": "it",
       "unit_divisor": 1000,
       "unit_scale": false
      },
      "application/vnd.jupyter.widget-view+json": {
       "model_id": "532ee19a925941659ec7ef2926a6bb38",
       "version_major": 2,
       "version_minor": 0
      },
      "text/plain": [
       "S1B_IW_20181023T030246_DVP_RTC30_G_gpuned_48CD.zip:   0%|          | 0/473624547 [00:00<?, ?it/s]"
      ]
     },
     "metadata": {},
     "output_type": "display_data"
    },
    {
     "data": {
      "application/json": {
       "ascii": false,
       "bar_format": null,
       "colour": null,
       "elapsed": 0.01908397674560547,
       "initial": 0,
       "n": 0,
       "ncols": null,
       "nrows": null,
       "postfix": null,
       "prefix": "S1A_IW_20181024T025452_DVP_RTC30_G_gpuned_0EAB.zip",
       "rate": null,
       "total": 458340323,
       "unit": "it",
       "unit_divisor": 1000,
       "unit_scale": false
      },
      "application/vnd.jupyter.widget-view+json": {
       "model_id": "8d4a18cb3d7646508d169a1e9ca505b8",
       "version_major": 2,
       "version_minor": 0
      },
      "text/plain": [
       "S1A_IW_20181024T025452_DVP_RTC30_G_gpuned_0EAB.zip:   0%|          | 0/458340323 [00:00<?, ?it/s]"
      ]
     },
     "metadata": {},
     "output_type": "display_data"
    },
    {
     "data": {
      "application/json": {
       "ascii": false,
       "bar_format": null,
       "colour": null,
       "elapsed": 0.019747257232666016,
       "initial": 0,
       "n": 0,
       "ncols": null,
       "nrows": null,
       "postfix": null,
       "prefix": "S1A_IW_20181024T025517_DVP_RTC30_G_gpuned_0559.zip",
       "rate": null,
       "total": 453104897,
       "unit": "it",
       "unit_divisor": 1000,
       "unit_scale": false
      },
      "application/vnd.jupyter.widget-view+json": {
       "model_id": "6b5feda647a64e938900aec0fd27e7ba",
       "version_major": 2,
       "version_minor": 0
      },
      "text/plain": [
       "S1A_IW_20181024T025517_DVP_RTC30_G_gpuned_0559.zip:   0%|          | 0/453104897 [00:00<?, ?it/s]"
      ]
     },
     "metadata": {},
     "output_type": "display_data"
    },
    {
     "data": {
      "application/json": {
       "ascii": false,
       "bar_format": null,
       "colour": null,
       "elapsed": 0.021312952041625977,
       "initial": 0,
       "n": 0,
       "ncols": null,
       "nrows": null,
       "postfix": null,
       "prefix": "S1B_IW_20181024T153122_DVP_RTC30_G_gpuned_66D7.zip",
       "rate": null,
       "total": 475237421,
       "unit": "it",
       "unit_divisor": 1000,
       "unit_scale": false
      },
      "application/vnd.jupyter.widget-view+json": {
       "model_id": "349a5f9a679e4b0cb303c9803236405d",
       "version_major": 2,
       "version_minor": 0
      },
      "text/plain": [
       "S1B_IW_20181024T153122_DVP_RTC30_G_gpuned_66D7.zip:   0%|          | 0/475237421 [00:00<?, ?it/s]"
      ]
     },
     "metadata": {},
     "output_type": "display_data"
    },
    {
     "data": {
      "application/json": {
       "ascii": false,
       "bar_format": null,
       "colour": null,
       "elapsed": 0.019388675689697266,
       "initial": 0,
       "n": 0,
       "ncols": null,
       "nrows": null,
       "postfix": null,
       "prefix": "S1A_IW_20181028T154801_DVP_RTC30_G_gpuned_04AF.zip",
       "rate": null,
       "total": 454462846,
       "unit": "it",
       "unit_divisor": 1000,
       "unit_scale": false
      },
      "application/vnd.jupyter.widget-view+json": {
       "model_id": "ad7ebca18643463381de19aa90ab9a09",
       "version_major": 2,
       "version_minor": 0
      },
      "text/plain": [
       "S1A_IW_20181028T154801_DVP_RTC30_G_gpuned_04AF.zip:   0%|          | 0/454462846 [00:00<?, ?it/s]"
      ]
     },
     "metadata": {},
     "output_type": "display_data"
    },
    {
     "data": {
      "application/json": {
       "ascii": false,
       "bar_format": null,
       "colour": null,
       "elapsed": 0.01932692527770996,
       "initial": 0,
       "n": 0,
       "ncols": null,
       "nrows": null,
       "postfix": null,
       "prefix": "S1A_IW_20181028T154826_DVP_RTC30_G_gpuned_EBE7.zip",
       "rate": null,
       "total": 437487630,
       "unit": "it",
       "unit_divisor": 1000,
       "unit_scale": false
      },
      "application/vnd.jupyter.widget-view+json": {
       "model_id": "2615ca382cdc41b3ac021d335e284b38",
       "version_major": 2,
       "version_minor": 0
      },
      "text/plain": [
       "S1A_IW_20181028T154826_DVP_RTC30_G_gpuned_EBE7.zip:   0%|          | 0/437487630 [00:00<?, ?it/s]"
      ]
     },
     "metadata": {},
     "output_type": "display_data"
    },
    {
     "data": {
      "application/json": {
       "ascii": false,
       "bar_format": null,
       "colour": null,
       "elapsed": 0.01922750473022461,
       "initial": 0,
       "n": 0,
       "ncols": null,
       "nrows": null,
       "postfix": null,
       "prefix": "S1B_IW_20181104T030218_DVP_RTC30_G_gpuned_0111.zip",
       "rate": null,
       "total": 499684704,
       "unit": "it",
       "unit_divisor": 1000,
       "unit_scale": false
      },
      "application/vnd.jupyter.widget-view+json": {
       "model_id": "5b147f090a974dd7a90705232a16f59f",
       "version_major": 2,
       "version_minor": 0
      },
      "text/plain": [
       "S1B_IW_20181104T030218_DVP_RTC30_G_gpuned_0111.zip:   0%|          | 0/499684704 [00:00<?, ?it/s]"
      ]
     },
     "metadata": {},
     "output_type": "display_data"
    },
    {
     "data": {
      "application/json": {
       "ascii": false,
       "bar_format": null,
       "colour": null,
       "elapsed": 0.019794940948486328,
       "initial": 0,
       "n": 0,
       "ncols": null,
       "nrows": null,
       "postfix": null,
       "prefix": "S1B_IW_20181105T153122_DVP_RTC30_G_gpuned_1593.zip",
       "rate": null,
       "total": 473296099,
       "unit": "it",
       "unit_divisor": 1000,
       "unit_scale": false
      },
      "application/vnd.jupyter.widget-view+json": {
       "model_id": "515505992b7a4bf2a3fb9c08a08ebd3b",
       "version_major": 2,
       "version_minor": 0
      },
      "text/plain": [
       "S1B_IW_20181105T153122_DVP_RTC30_G_gpuned_1593.zip:   0%|          | 0/473296099 [00:00<?, ?it/s]"
      ]
     },
     "metadata": {},
     "output_type": "display_data"
    },
    {
     "data": {
      "application/json": {
       "ascii": false,
       "bar_format": null,
       "colour": null,
       "elapsed": 0.0195770263671875,
       "initial": 0,
       "n": 0,
       "ncols": null,
       "nrows": null,
       "postfix": null,
       "prefix": "S1B_IW_20181104T030246_DVP_RTC30_G_gpuned_3FCC.zip",
       "rate": null,
       "total": 473381567,
       "unit": "it",
       "unit_divisor": 1000,
       "unit_scale": false
      },
      "application/vnd.jupyter.widget-view+json": {
       "model_id": "e96da44a2cb74860a0a63b33205e5afa",
       "version_major": 2,
       "version_minor": 0
      },
      "text/plain": [
       "S1B_IW_20181104T030246_DVP_RTC30_G_gpuned_3FCC.zip:   0%|          | 0/473381567 [00:00<?, ?it/s]"
      ]
     },
     "metadata": {},
     "output_type": "display_data"
    },
    {
     "data": {
      "application/json": {
       "ascii": false,
       "bar_format": null,
       "colour": null,
       "elapsed": 0.020264387130737305,
       "initial": 0,
       "n": 0,
       "ncols": null,
       "nrows": null,
       "postfix": null,
       "prefix": "S1A_IW_20181109T154826_DVP_RTC30_G_gpuned_5BF6.zip",
       "rate": null,
       "total": 437024919,
       "unit": "it",
       "unit_divisor": 1000,
       "unit_scale": false
      },
      "application/vnd.jupyter.widget-view+json": {
       "model_id": "65e6714f5e214a358e4ebfe48b38abbe",
       "version_major": 2,
       "version_minor": 0
      },
      "text/plain": [
       "S1A_IW_20181109T154826_DVP_RTC30_G_gpuned_5BF6.zip:   0%|          | 0/437024919 [00:00<?, ?it/s]"
      ]
     },
     "metadata": {},
     "output_type": "display_data"
    },
    {
     "name": "stdout",
     "output_type": "stream",
     "text": [
      "Current job: 160/181, time elapsed: 60.46 min, time remaining: 7.26 min\n"
     ]
    },
    {
     "data": {
      "application/json": {
       "ascii": false,
       "bar_format": null,
       "colour": null,
       "elapsed": 0.019272327423095703,
       "initial": 0,
       "n": 0,
       "ncols": null,
       "nrows": null,
       "postfix": null,
       "prefix": "S1A_IW_20181109T154801_DVP_RTC30_G_gpuned_8598.zip",
       "rate": null,
       "total": 454530939,
       "unit": "it",
       "unit_divisor": 1000,
       "unit_scale": false
      },
      "application/vnd.jupyter.widget-view+json": {
       "model_id": "dcc010b1b2274f559d4016d6084b4e42",
       "version_major": 2,
       "version_minor": 0
      },
      "text/plain": [
       "S1A_IW_20181109T154801_DVP_RTC30_G_gpuned_8598.zip:   0%|          | 0/454530939 [00:00<?, ?it/s]"
      ]
     },
     "metadata": {},
     "output_type": "display_data"
    },
    {
     "data": {
      "application/json": {
       "ascii": false,
       "bar_format": null,
       "colour": null,
       "elapsed": 0.018808841705322266,
       "initial": 0,
       "n": 0,
       "ncols": null,
       "nrows": null,
       "postfix": null,
       "prefix": "S1B_IW_20181116T030218_DVP_RTC30_G_gpuned_2C9E.zip",
       "rate": null,
       "total": 500520435,
       "unit": "it",
       "unit_divisor": 1000,
       "unit_scale": false
      },
      "application/vnd.jupyter.widget-view+json": {
       "model_id": "d0f48c67899642a3bbb38454bd2fd04c",
       "version_major": 2,
       "version_minor": 0
      },
      "text/plain": [
       "S1B_IW_20181116T030218_DVP_RTC30_G_gpuned_2C9E.zip:   0%|          | 0/500520435 [00:00<?, ?it/s]"
      ]
     },
     "metadata": {},
     "output_type": "display_data"
    },
    {
     "data": {
      "application/json": {
       "ascii": false,
       "bar_format": null,
       "colour": null,
       "elapsed": 0.018967628479003906,
       "initial": 0,
       "n": 0,
       "ncols": null,
       "nrows": null,
       "postfix": null,
       "prefix": "S1B_IW_20181116T030246_DVP_RTC30_G_gpuned_B073.zip",
       "rate": null,
       "total": 472984054,
       "unit": "it",
       "unit_divisor": 1000,
       "unit_scale": false
      },
      "application/vnd.jupyter.widget-view+json": {
       "model_id": "fdb06bd424344f1c9c7758a198be1f15",
       "version_major": 2,
       "version_minor": 0
      },
      "text/plain": [
       "S1B_IW_20181116T030246_DVP_RTC30_G_gpuned_B073.zip:   0%|          | 0/472984054 [00:00<?, ?it/s]"
      ]
     },
     "metadata": {},
     "output_type": "display_data"
    },
    {
     "data": {
      "application/json": {
       "ascii": false,
       "bar_format": null,
       "colour": null,
       "elapsed": 0.01985955238342285,
       "initial": 0,
       "n": 0,
       "ncols": null,
       "nrows": null,
       "postfix": null,
       "prefix": "S1A_IW_20181121T154801_DVP_RTC30_G_gpuned_4CC6.zip",
       "rate": null,
       "total": 454183071,
       "unit": "it",
       "unit_divisor": 1000,
       "unit_scale": false
      },
      "application/vnd.jupyter.widget-view+json": {
       "model_id": "d659cfcb92d046b4918c8aa340f8aded",
       "version_major": 2,
       "version_minor": 0
      },
      "text/plain": [
       "S1A_IW_20181121T154801_DVP_RTC30_G_gpuned_4CC6.zip:   0%|          | 0/454183071 [00:00<?, ?it/s]"
      ]
     },
     "metadata": {},
     "output_type": "display_data"
    },
    {
     "data": {
      "application/json": {
       "ascii": false,
       "bar_format": null,
       "colour": null,
       "elapsed": 0.02088761329650879,
       "initial": 0,
       "n": 0,
       "ncols": null,
       "nrows": null,
       "postfix": null,
       "prefix": "S1B_IW_20181117T153122_DVP_RTC30_G_gpuned_54FC.zip",
       "rate": null,
       "total": 473440763,
       "unit": "it",
       "unit_divisor": 1000,
       "unit_scale": false
      },
      "application/vnd.jupyter.widget-view+json": {
       "model_id": "9daaaafc98c94aefa2d4c68e614a5cba",
       "version_major": 2,
       "version_minor": 0
      },
      "text/plain": [
       "S1B_IW_20181117T153122_DVP_RTC30_G_gpuned_54FC.zip:   0%|          | 0/473440763 [00:00<?, ?it/s]"
      ]
     },
     "metadata": {},
     "output_type": "display_data"
    },
    {
     "data": {
      "application/json": {
       "ascii": false,
       "bar_format": null,
       "colour": null,
       "elapsed": 0.018977642059326172,
       "initial": 0,
       "n": 0,
       "ncols": null,
       "nrows": null,
       "postfix": null,
       "prefix": "S1A_IW_20181121T154826_DVP_RTC30_G_gpuned_CFA8.zip",
       "rate": null,
       "total": 437479318,
       "unit": "it",
       "unit_divisor": 1000,
       "unit_scale": false
      },
      "application/vnd.jupyter.widget-view+json": {
       "model_id": "93e44a6c38da42729a154d1cc7981838",
       "version_major": 2,
       "version_minor": 0
      },
      "text/plain": [
       "S1A_IW_20181121T154826_DVP_RTC30_G_gpuned_CFA8.zip:   0%|          | 0/437479318 [00:00<?, ?it/s]"
      ]
     },
     "metadata": {},
     "output_type": "display_data"
    },
    {
     "data": {
      "application/json": {
       "ascii": false,
       "bar_format": null,
       "colour": null,
       "elapsed": 0.019133806228637695,
       "initial": 0,
       "n": 0,
       "ncols": null,
       "nrows": null,
       "postfix": null,
       "prefix": "S1B_IW_20181128T030217_DVP_RTC30_G_gpuned_8FF1.zip",
       "rate": null,
       "total": 500411598,
       "unit": "it",
       "unit_divisor": 1000,
       "unit_scale": false
      },
      "application/vnd.jupyter.widget-view+json": {
       "model_id": "ce818b8081bc4065bdef8a5e47971b09",
       "version_major": 2,
       "version_minor": 0
      },
      "text/plain": [
       "S1B_IW_20181128T030217_DVP_RTC30_G_gpuned_8FF1.zip:   0%|          | 0/500411598 [00:00<?, ?it/s]"
      ]
     },
     "metadata": {},
     "output_type": "display_data"
    },
    {
     "data": {
      "application/json": {
       "ascii": false,
       "bar_format": null,
       "colour": null,
       "elapsed": 0.0193331241607666,
       "initial": 0,
       "n": 0,
       "ncols": null,
       "nrows": null,
       "postfix": null,
       "prefix": "S1B_IW_20181129T153121_DVP_RTC30_G_gpuned_EB66.zip",
       "rate": null,
       "total": 473544356,
       "unit": "it",
       "unit_divisor": 1000,
       "unit_scale": false
      },
      "application/vnd.jupyter.widget-view+json": {
       "model_id": "ab9bc664dd0d49c5abdc4029989d6507",
       "version_major": 2,
       "version_minor": 0
      },
      "text/plain": [
       "S1B_IW_20181129T153121_DVP_RTC30_G_gpuned_EB66.zip:   0%|          | 0/473544356 [00:00<?, ?it/s]"
      ]
     },
     "metadata": {},
     "output_type": "display_data"
    },
    {
     "data": {
      "application/json": {
       "ascii": false,
       "bar_format": null,
       "colour": null,
       "elapsed": 0.01877880096435547,
       "initial": 0,
       "n": 0,
       "ncols": null,
       "nrows": null,
       "postfix": null,
       "prefix": "S1B_IW_20181128T030245_DVP_RTC30_G_gpuned_FE5B.zip",
       "rate": null,
       "total": 473222932,
       "unit": "it",
       "unit_divisor": 1000,
       "unit_scale": false
      },
      "application/vnd.jupyter.widget-view+json": {
       "model_id": "d4e93674891c449c828d2aa990df74b7",
       "version_major": 2,
       "version_minor": 0
      },
      "text/plain": [
       "S1B_IW_20181128T030245_DVP_RTC30_G_gpuned_FE5B.zip:   0%|          | 0/473222932 [00:00<?, ?it/s]"
      ]
     },
     "metadata": {},
     "output_type": "display_data"
    },
    {
     "data": {
      "application/json": {
       "ascii": false,
       "bar_format": null,
       "colour": null,
       "elapsed": 0.01919078826904297,
       "initial": 0,
       "n": 0,
       "ncols": null,
       "nrows": null,
       "postfix": null,
       "prefix": "S1A_IW_20181203T154801_DVP_RTC30_G_gpuned_D789.zip",
       "rate": null,
       "total": 454190895,
       "unit": "it",
       "unit_divisor": 1000,
       "unit_scale": false
      },
      "application/vnd.jupyter.widget-view+json": {
       "model_id": "432ab6a9527b41569213ee5e196f0fd9",
       "version_major": 2,
       "version_minor": 0
      },
      "text/plain": [
       "S1A_IW_20181203T154801_DVP_RTC30_G_gpuned_D789.zip:   0%|          | 0/454190895 [00:00<?, ?it/s]"
      ]
     },
     "metadata": {},
     "output_type": "display_data"
    },
    {
     "name": "stdout",
     "output_type": "stream",
     "text": [
      "Current job: 170/181, time elapsed: 64.17 min, time remaining: 3.82 min\n"
     ]
    },
    {
     "data": {
      "application/json": {
       "ascii": false,
       "bar_format": null,
       "colour": null,
       "elapsed": 0.019102811813354492,
       "initial": 0,
       "n": 0,
       "ncols": null,
       "nrows": null,
       "postfix": null,
       "prefix": "S1A_IW_20181203T154825_DVP_RTC30_G_gpuned_62C9.zip",
       "rate": null,
       "total": 437051804,
       "unit": "it",
       "unit_divisor": 1000,
       "unit_scale": false
      },
      "application/vnd.jupyter.widget-view+json": {
       "model_id": "57864472742d4e43bd1a157621e148a8",
       "version_major": 2,
       "version_minor": 0
      },
      "text/plain": [
       "S1A_IW_20181203T154825_DVP_RTC30_G_gpuned_62C9.zip:   0%|          | 0/437051804 [00:00<?, ?it/s]"
      ]
     },
     "metadata": {},
     "output_type": "display_data"
    },
    {
     "data": {
      "application/json": {
       "ascii": false,
       "bar_format": null,
       "colour": null,
       "elapsed": 0.01964116096496582,
       "initial": 0,
       "n": 0,
       "ncols": null,
       "nrows": null,
       "postfix": null,
       "prefix": "S1B_IW_20181210T030217_DVP_RTC30_G_gpuned_D3EC.zip",
       "rate": null,
       "total": 501970714,
       "unit": "it",
       "unit_divisor": 1000,
       "unit_scale": false
      },
      "application/vnd.jupyter.widget-view+json": {
       "model_id": "d5426ce0869e43939aaaf721ec0d4733",
       "version_major": 2,
       "version_minor": 0
      },
      "text/plain": [
       "S1B_IW_20181210T030217_DVP_RTC30_G_gpuned_D3EC.zip:   0%|          | 0/501970714 [00:00<?, ?it/s]"
      ]
     },
     "metadata": {},
     "output_type": "display_data"
    },
    {
     "data": {
      "application/json": {
       "ascii": false,
       "bar_format": null,
       "colour": null,
       "elapsed": 0.019318580627441406,
       "initial": 0,
       "n": 0,
       "ncols": null,
       "nrows": null,
       "postfix": null,
       "prefix": "S1B_IW_20181210T030245_DVP_RTC30_G_gpuned_E35B.zip",
       "rate": null,
       "total": 473516551,
       "unit": "it",
       "unit_divisor": 1000,
       "unit_scale": false
      },
      "application/vnd.jupyter.widget-view+json": {
       "model_id": "d429fdc4cfc444478bd3ad91b7d89c1d",
       "version_major": 2,
       "version_minor": 0
      },
      "text/plain": [
       "S1B_IW_20181210T030245_DVP_RTC30_G_gpuned_E35B.zip:   0%|          | 0/473516551 [00:00<?, ?it/s]"
      ]
     },
     "metadata": {},
     "output_type": "display_data"
    },
    {
     "data": {
      "application/json": {
       "ascii": false,
       "bar_format": null,
       "colour": null,
       "elapsed": 0.020320653915405273,
       "initial": 0,
       "n": 0,
       "ncols": null,
       "nrows": null,
       "postfix": null,
       "prefix": "S1A_IW_20181211T025451_DVP_RTC30_G_gpuned_6A30.zip",
       "rate": null,
       "total": 457575033,
       "unit": "it",
       "unit_divisor": 1000,
       "unit_scale": false
      },
      "application/vnd.jupyter.widget-view+json": {
       "model_id": "c195de11874f4f8c9558d21d9d7178ec",
       "version_major": 2,
       "version_minor": 0
      },
      "text/plain": [
       "S1A_IW_20181211T025451_DVP_RTC30_G_gpuned_6A30.zip:   0%|          | 0/457575033 [00:00<?, ?it/s]"
      ]
     },
     "metadata": {},
     "output_type": "display_data"
    },
    {
     "data": {
      "application/json": {
       "ascii": false,
       "bar_format": null,
       "colour": null,
       "elapsed": 0.019890546798706055,
       "initial": 0,
       "n": 0,
       "ncols": null,
       "nrows": null,
       "postfix": null,
       "prefix": "S1A_IW_20181211T025516_DVP_RTC30_G_gpuned_1335.zip",
       "rate": null,
       "total": 452238730,
       "unit": "it",
       "unit_divisor": 1000,
       "unit_scale": false
      },
      "application/vnd.jupyter.widget-view+json": {
       "model_id": "dc015004a525475288bf1e18682398bb",
       "version_major": 2,
       "version_minor": 0
      },
      "text/plain": [
       "S1A_IW_20181211T025516_DVP_RTC30_G_gpuned_1335.zip:   0%|          | 0/452238730 [00:00<?, ?it/s]"
      ]
     },
     "metadata": {},
     "output_type": "display_data"
    },
    {
     "data": {
      "application/json": {
       "ascii": false,
       "bar_format": null,
       "colour": null,
       "elapsed": 0.01915121078491211,
       "initial": 0,
       "n": 0,
       "ncols": null,
       "nrows": null,
       "postfix": null,
       "prefix": "S1B_IW_20181211T153121_DVP_RTC30_G_gpuned_CC72.zip",
       "rate": null,
       "total": 473978922,
       "unit": "it",
       "unit_divisor": 1000,
       "unit_scale": false
      },
      "application/vnd.jupyter.widget-view+json": {
       "model_id": "aef25d7ca51e4d16bda198bf0032b0b5",
       "version_major": 2,
       "version_minor": 0
      },
      "text/plain": [
       "S1B_IW_20181211T153121_DVP_RTC30_G_gpuned_CC72.zip:   0%|          | 0/473978922 [00:00<?, ?it/s]"
      ]
     },
     "metadata": {},
     "output_type": "display_data"
    },
    {
     "data": {
      "application/json": {
       "ascii": false,
       "bar_format": null,
       "colour": null,
       "elapsed": 0.019122600555419922,
       "initial": 0,
       "n": 0,
       "ncols": null,
       "nrows": null,
       "postfix": null,
       "prefix": "S1A_IW_20181215T154800_DVP_RTC30_G_gpuned_0884.zip",
       "rate": null,
       "total": 454307125,
       "unit": "it",
       "unit_divisor": 1000,
       "unit_scale": false
      },
      "application/vnd.jupyter.widget-view+json": {
       "model_id": "6b3636580510410ab509617cebd4acd8",
       "version_major": 2,
       "version_minor": 0
      },
      "text/plain": [
       "S1A_IW_20181215T154800_DVP_RTC30_G_gpuned_0884.zip:   0%|          | 0/454307125 [00:00<?, ?it/s]"
      ]
     },
     "metadata": {},
     "output_type": "display_data"
    },
    {
     "data": {
      "application/json": {
       "ascii": false,
       "bar_format": null,
       "colour": null,
       "elapsed": 0.018784523010253906,
       "initial": 0,
       "n": 0,
       "ncols": null,
       "nrows": null,
       "postfix": null,
       "prefix": "S1A_IW_20181215T154825_DVP_RTC30_G_gpuned_6208.zip",
       "rate": null,
       "total": 437123339,
       "unit": "it",
       "unit_divisor": 1000,
       "unit_scale": false
      },
      "application/vnd.jupyter.widget-view+json": {
       "model_id": "90e8bd9a1d6c42dd8cc213840d876161",
       "version_major": 2,
       "version_minor": 0
      },
      "text/plain": [
       "S1A_IW_20181215T154825_DVP_RTC30_G_gpuned_6208.zip:   0%|          | 0/437123339 [00:00<?, ?it/s]"
      ]
     },
     "metadata": {},
     "output_type": "display_data"
    },
    {
     "data": {
      "application/json": {
       "ascii": false,
       "bar_format": null,
       "colour": null,
       "elapsed": 0.02117180824279785,
       "initial": 0,
       "n": 0,
       "ncols": null,
       "nrows": null,
       "postfix": null,
       "prefix": "S1B_IW_20181222T030217_DVP_RTC30_G_gpuned_1B4C.zip",
       "rate": null,
       "total": 501589373,
       "unit": "it",
       "unit_divisor": 1000,
       "unit_scale": false
      },
      "application/vnd.jupyter.widget-view+json": {
       "model_id": "71079092e1764903853d943954b846c1",
       "version_major": 2,
       "version_minor": 0
      },
      "text/plain": [
       "S1B_IW_20181222T030217_DVP_RTC30_G_gpuned_1B4C.zip:   0%|          | 0/501589373 [00:00<?, ?it/s]"
      ]
     },
     "metadata": {},
     "output_type": "display_data"
    },
    {
     "data": {
      "application/json": {
       "ascii": false,
       "bar_format": null,
       "colour": null,
       "elapsed": 0.01895904541015625,
       "initial": 0,
       "n": 0,
       "ncols": null,
       "nrows": null,
       "postfix": null,
       "prefix": "S1B_IW_20181222T030244_DVP_RTC30_G_gpuned_E023.zip",
       "rate": null,
       "total": 472955568,
       "unit": "it",
       "unit_divisor": 1000,
       "unit_scale": false
      },
      "application/vnd.jupyter.widget-view+json": {
       "model_id": "63b86128804c48d2a7ab0335614e8efc",
       "version_major": 2,
       "version_minor": 0
      },
      "text/plain": [
       "S1B_IW_20181222T030244_DVP_RTC30_G_gpuned_E023.zip:   0%|          | 0/472955568 [00:00<?, ?it/s]"
      ]
     },
     "metadata": {},
     "output_type": "display_data"
    },
    {
     "name": "stdout",
     "output_type": "stream",
     "text": [
      "Current job: 180/181, time elapsed: 67.77 min, time remaining: 0.35 min\n"
     ]
    },
    {
     "data": {
      "application/json": {
       "ascii": false,
       "bar_format": null,
       "colour": null,
       "elapsed": 0.019207239151000977,
       "initial": 0,
       "n": 0,
       "ncols": null,
       "nrows": null,
       "postfix": null,
       "prefix": "S1B_IW_20181223T153120_DVP_RTC30_G_gpuned_8940.zip",
       "rate": null,
       "total": 473514276,
       "unit": "it",
       "unit_divisor": 1000,
       "unit_scale": false
      },
      "application/vnd.jupyter.widget-view+json": {
       "model_id": "63a01a55fb264c04989223201a0c4873",
       "version_major": 2,
       "version_minor": 0
      },
      "text/plain": [
       "S1B_IW_20181223T153120_DVP_RTC30_G_gpuned_8940.zip:   0%|          | 0/473514276 [00:00<?, ?it/s]"
      ]
     },
     "metadata": {},
     "output_type": "display_data"
    },
    {
     "data": {
      "application/json": {
       "ascii": false,
       "bar_format": null,
       "colour": null,
       "elapsed": 0.019403934478759766,
       "initial": 0,
       "n": 0,
       "ncols": null,
       "nrows": null,
       "postfix": null,
       "prefix": "S1A_IW_20181227T154800_DVP_RTC30_G_gpuned_6513.zip",
       "rate": null,
       "total": 454564249,
       "unit": "it",
       "unit_divisor": 1000,
       "unit_scale": false
      },
      "application/vnd.jupyter.widget-view+json": {
       "model_id": "cbbe41a334824203892cc4db26598977",
       "version_major": 2,
       "version_minor": 0
      },
      "text/plain": [
       "S1A_IW_20181227T154800_DVP_RTC30_G_gpuned_6513.zip:   0%|          | 0/454564249 [00:00<?, ?it/s]"
      ]
     },
     "metadata": {},
     "output_type": "display_data"
    },
    {
     "data": {
      "application/json": {
       "ascii": false,
       "bar_format": null,
       "colour": null,
       "elapsed": 0.01896953582763672,
       "initial": 0,
       "n": 0,
       "ncols": null,
       "nrows": null,
       "postfix": null,
       "prefix": "S1A_IW_20181227T154825_DVP_RTC30_G_gpuned_5A6E.zip",
       "rate": null,
       "total": 436585488,
       "unit": "it",
       "unit_divisor": 1000,
       "unit_scale": false
      },
      "application/vnd.jupyter.widget-view+json": {
       "model_id": "ef8e80db810e4abea3fee68a3c8e875f",
       "version_major": 2,
       "version_minor": 0
      },
      "text/plain": [
       "S1A_IW_20181227T154825_DVP_RTC30_G_gpuned_5A6E.zip:   0%|          | 0/436585488 [00:00<?, ?it/s]"
      ]
     },
     "metadata": {},
     "output_type": "display_data"
    }
   ],
   "source": [
    "# Get the list of jobs to download\n",
    "usegranules = [i.properties['sceneName'] for i in results]\n",
    "joblist = hyp3.find_jobs()\n",
    "joblist = joblist.filter_jobs(succeeded=True,include_expired=False)\n",
    "joblen = len(results)-1\n",
    "\n",
    "t = time.time()\n",
    "count = 0\n",
    "for i,job in enumerate(joblist):\n",
    "\n",
    "    jobname = job.job_parameters['granules'][0]\n",
    "\n",
    "    if jobname in usegranules:\n",
    "        count += 1\n",
    "        usegranules.remove(jobname)\n",
    "        if count%10 ==0:\n",
    "            te = time.time()-t\n",
    "            print(f'Current job: {count}/{joblen}, time elapsed: {te/60:.2f} min, time remaining: {(te/(i+1)*(joblen-count))/60:.2f} min')\n",
    "        job.download_files(download_path)\n",
    "        for pol in pols:\n",
    "            # print(pol)\n",
    "            extracttif(download_path,products_path,pol=pol,convert=False)\n",
    "            if autoEPSG:\n",
    "                if (count == 1) and (pol == pols[0]):\n",
    "                    fileg = glob.glob(f'{str(products_path)}/*.tif')\n",
    "                    EPSGn = getEPSG(fileg[0])\n",
    "                    print(getEPSG(fileg[0]))\n",
    "            # fulltif = glob.glob(f'{str(products_path)}/*{pol}*')\n",
    "            reproject(WTKstr,EPSGn,products_path,f'{str(clipped_path)}/{pol}',convert_to_db=True)\n",
    "            os.system(f'rm {str(products_path)}/*.tif')\n",
    "            time.sleep(3)\n",
    "        os.system(f'rm {str(download_path)}/*.zip')\n",
    "        \n",
    "if len(usegranules)>0:\n",
    "    print('WARNING: NOT ALL GRANULES USED')"
   ]
  },
  {
   "cell_type": "markdown",
   "id": "4e20120b-e917-4b01-ae2a-7c77090ed61b",
   "metadata": {
    "tags": []
   },
   "source": [
    "EPSG number records:\n",
    "\n",
    "* Denali_h: 32605?\n",
    "* Harding: 32605\n",
    "* Juneau: 32608"
   ]
  },
  {
   "cell_type": "markdown",
   "id": "4352c4ae-76fa-4b07-8ae1-bf172c380f7c",
   "metadata": {},
   "source": [
    "## Create some metadata\n",
    "\n",
    "I want: a set of lists that have (with each proper corresponding entry), image name (granule I guess), date (date will be used to match), orbit pf, and orbit unique pf number"
   ]
  },
  {
   "cell_type": "code",
   "execution_count": 22,
   "id": "b7c24847-5441-40fd-8d43-04a23067a5ac",
   "metadata": {},
   "outputs": [],
   "source": [
    "def getSARdate(file,returndatestring=False):\n",
    "    '''Obtains the date of the start of a SAR acquisition, returns as a datetime\n",
    "    or a string.'''\n",
    "\n",
    "    file = str(file)\n",
    "    query = \"_????????T??????_\"\n",
    "    seqquery = str(query)\n",
    "    seqquery.replace('?','[0-9]')\n",
    "\n",
    "    substrings = fnmatch.filter((file[i:i+len(query)] for i in range(len(file) - len(query))), seqquery)\n",
    "    dtstr = substrings[0][1:-1].split('T')\n",
    "    \n",
    "    dtint = [dtstr[0][0:4],dtstr[0][4:6],dtstr[0][6:8],dtstr[1][0:2],dtstr[1][2:4],dtstr[1][4:6]]\n",
    "    dtint = [int(i)for i in dtint]\n",
    "    dtimg = datetime(dtint[0],dtint[1],dtint[2],dtint[3],dtint[4],dtint[5])\n",
    "\n",
    "    if returndatestring:\n",
    "        dtstr = dtstr[0]+dtstr[1]\n",
    "        return dtimg,dtstr\n",
    "    else:\n",
    "        return dtimg"
   ]
  },
  {
   "cell_type": "code",
   "execution_count": 23,
   "id": "be29c8fa-4eff-4e46-a7de-062a1db7aacc",
   "metadata": {},
   "outputs": [],
   "source": [
    "#NOTE: Results must already be defined and refined\n",
    "\n",
    "for usepol in pols:\n",
    "\n",
    "    mnamelist = []\n",
    "    mdatelist = []\n",
    "    mpflist = []\n",
    "    mpfulist = []\n",
    "\n",
    "    files = (clipped_path/usepol).glob('*.tif')\n",
    "    filelist = []\n",
    "    pdatelist = []\n",
    "    pnamelist = []\n",
    "    # print(results)\n",
    "\n",
    "    for f in files:\n",
    "        # print(f)\n",
    "        pdatelist.append(getSARdate(f))\n",
    "        filelist.append(f)\n",
    "\n",
    "    # print(pdatelist)\n",
    "    pdatelist=np.array(pdatelist)\n",
    "    filelist = np.array(filelist)\n",
    "    # print(len(products))\n",
    "    # print(len(pdatelist))\n",
    "    for res in results:\n",
    "        res = res.properties\n",
    "        if usepol in res['polarization']:\n",
    "            rdate = datetime.strptime(res['startTime'],'%Y-%m-%dT%H:%M:%S.%fZ')\n",
    "            pind = np.where(rdate==pdatelist)\n",
    "            # print(pind)\n",
    "            if len(pind)==1:\n",
    "                pind = pind[0][0]\n",
    "                pnamelist.append(str(filelist[pind]))\n",
    "                rpf = str(res['pathNumber'])+'-'+str(res['frameNumber'])\n",
    "                mpflist.append(rpf)\n",
    "                mnamelist.append(res['sceneName'])\n",
    "                mdatelist.append(rdate)\n",
    "            else:\n",
    "                print('WARNING: Missing product')\n",
    "                print(res['sceneName'])\n",
    "                \n",
    "    pfunique = np.unique(mpflist)\n",
    "    mpfulist = [np.where(pfunique==i)[0][0] for i in mpflist]\n",
    "    arraykey = ['arraykey','pnamelist','mnamelist','mdatelist','mpflist','mpfulist']\n",
    "\n",
    "    arraykey = np.asanyarray(arraykey)\n",
    "    pnamelist = np.array(pnamelist)\n",
    "    mnamelist = np.array(mnamelist)\n",
    "    mdatelist = np.array(mdatelist)\n",
    "    mpflist = np.array(mpflist)\n",
    "    mpfulist = np.array(mpfulist)\n",
    "\n",
    "    mdatelist,pnamelist,mnamelist,mpflist,mpfulist = zip(*sorted(zip(mdatelist,pnamelist,mnamelist,mpflist,mpfulist)))\n",
    "    np.save(f'{str(data_dir)}/imgmeta_{usepol}.npy',(arraykey,pnamelist,mnamelist,mdatelist,mpflist,mpfulist))"
   ]
  },
  {
   "cell_type": "code",
   "execution_count": 16,
   "id": "c31620ce-dcc0-45d9-915c-602693d78d24",
   "metadata": {},
   "outputs": [
    {
     "name": "stdout",
     "output_type": "stream",
     "text": [
      "91\n",
      "109\n",
      "S1B_IW_SLC__1SDV_20171201T031922_20171201T031950_008520_00F1C6_993A\n"
     ]
    }
   ],
   "source": [
    "print(len(filelist))\n",
    "print(len(results))\n",
    "testnames = [i.properties['sceneName'] for i in results]\n",
    "print(testnames[11])\n",
    "# print(filelist[1])\n",
    "resultnames = [i.properties['sceneName'] for i in results]"
   ]
  },
  {
   "cell_type": "code",
   "execution_count": 34,
   "id": "2f312be8-07c6-4ddd-85ea-e1cceba46648",
   "metadata": {},
   "outputs": [],
   "source": [
    "test = [i.properties['sceneName'] for i in results]\n",
    "joblist = hyp3.find_jobs()\n",
    "joblist = joblist.filter_jobs(succeeded=True,include_expired=False)"
   ]
  },
  {
   "cell_type": "code",
   "execution_count": 36,
   "id": "5bbfe5ef-5eb2-4b4f-bef8-289daf5b3461",
   "metadata": {},
   "outputs": [
    {
     "data": {
      "text/plain": [
       "265"
      ]
     },
     "execution_count": 36,
     "metadata": {},
     "output_type": "execute_result"
    }
   ],
   "source": [
    "len(joblist)"
   ]
  },
  {
   "cell_type": "code",
   "execution_count": 1,
   "id": "0513c0c9-d210-4f7b-b034-04dc17b2bc4f",
   "metadata": {},
   "outputs": [
    {
     "ename": "NameError",
     "evalue": "name 'filelist' is not defined",
     "output_type": "error",
     "traceback": [
      "\u001b[0;31m---------------------------------------------------------------------------\u001b[0m",
      "\u001b[0;31mNameError\u001b[0m                                 Traceback (most recent call last)",
      "Input \u001b[0;32mIn [1]\u001b[0m, in \u001b[0;36m<cell line: 1>\u001b[0;34m()\u001b[0m\n\u001b[0;32m----> 1\u001b[0m \u001b[38;5;28mprint\u001b[39m(\u001b[43mfilelist\u001b[49m)\n",
      "\u001b[0;31mNameError\u001b[0m: name 'filelist' is not defined"
     ]
    }
   ],
   "source": [
    "print(filelist)"
   ]
  },
  {
   "cell_type": "code",
   "execution_count": 28,
   "id": "53326926-90a2-4a33-b5a5-9d7a71903f9f",
   "metadata": {},
   "outputs": [
    {
     "name": "stdout",
     "output_type": "stream",
     "text": [
      "/home/jovyan/GlacierSARdata/Wrangell/2017/rtc_clipped/VH/S1A_IW_20171225T155611_DVP_RTC30_G_gpuned_1882_VH.tif\n",
      "20171225T155611\n"
     ]
    }
   ],
   "source": []
  },
  {
   "cell_type": "code",
   "execution_count": 56,
   "id": "d2e10b4a-79f4-4e9e-aca2-d8be650dd8d2",
   "metadata": {},
   "outputs": [],
   "source": [
    "usepol = 'VV'\n",
    "files = (clipped_path/usepol).glob('*.tif')\n",
    "filelist = []\n",
    "# pdatelist = []\n",
    "# pnamelist = []\n",
    "# print(results)\n",
    "\n",
    "for f in files:\n",
    "    # print(f)\n",
    "    # pdatelist.append(getSARdate(f))\n",
    "    filelist.append(f)\n",
    "\n",
    "resulttimes = [i[17:32] for i in resultnames]\n",
    "filetimes = [str(i)[64:79] for i in filelist]"
   ]
  },
  {
   "cell_type": "code",
   "execution_count": 57,
   "id": "035fa452-a59b-456f-9297-c6919d8eddf8",
   "metadata": {},
   "outputs": [
    {
     "name": "stdout",
     "output_type": "stream",
     "text": [
      "res  len: 24\n",
      "file len: 24\n",
      "res  missing: 0\n",
      "file missing: 0\n"
     ]
    }
   ],
   "source": [
    "print(f'res  len: {len(resulttimes)}')\n",
    "print(f'file len: {len(filetimes)}')\n",
    "\n",
    "resmissing = [i for i in resulttimes if i not in filetimes]\n",
    "filmissing = [i for i in filetimes if i not in resulttimes]\n",
    "\n",
    "print(f'res  missing: {len(resmissing)}')\n",
    "print(f'file missing: {len(filmissing)}')"
   ]
  },
  {
   "cell_type": "code",
   "execution_count": 32,
   "id": "804d929f-d3aa-4482-b7fc-5a175f8b3408",
   "metadata": {},
   "outputs": [
    {
     "data": {
      "text/plain": [
       "'VH'"
      ]
     },
     "execution_count": 32,
     "metadata": {},
     "output_type": "execute_result"
    }
   ],
   "source": [
    "pol"
   ]
  },
  {
   "cell_type": "code",
   "execution_count": 40,
   "id": "de907a03-aaf4-4a8c-b936-e63687a71019",
   "metadata": {},
   "outputs": [
    {
     "data": {
      "text/plain": [
       "['20170602T161222',\n",
       " '20170530T154748',\n",
       " '20170523T155606',\n",
       " '20170518T154748',\n",
       " '20170511T155606',\n",
       " '20170316T161136',\n",
       " '20170313T154703',\n",
       " '20170306T155521',\n",
       " '20170304T161136',\n",
       " '20170301T154703',\n",
       " '20170222T155521',\n",
       " '20170220T161136',\n",
       " '20170217T154703',\n",
       " '20170210T155521',\n",
       " '20170127T161137',\n",
       " '20170124T154703',\n",
       " '20170117T155522',\n",
       " '20170103T161137']"
      ]
     },
     "execution_count": 40,
     "metadata": {},
     "output_type": "execute_result"
    }
   ],
   "source": [
    "resmissing"
   ]
  },
  {
   "cell_type": "code",
   "execution_count": 49,
   "id": "a69d2176-2ba6-437d-8ffb-9d5f6be791dc",
   "metadata": {},
   "outputs": [
    {
     "data": {
      "text/plain": [
       "False"
      ]
     },
     "execution_count": 49,
     "metadata": {},
     "output_type": "execute_result"
    }
   ],
   "source": [
    "'VH' in results[-1].properties['polarization']"
   ]
  },
  {
   "cell_type": "code",
   "execution_count": null,
   "id": "079203fa-92f7-45a8-b952-899ab28de0ae",
   "metadata": {},
   "outputs": [],
   "source": []
  }
 ],
 "metadata": {
  "kernelspec": {
   "display_name": "rtc_analysis [conda env:.local-rtc_analysis]",
   "language": "python",
   "name": "conda-env-.local-rtc_analysis-py"
  },
  "language_info": {
   "codemirror_mode": {
    "name": "ipython",
    "version": 3
   },
   "file_extension": ".py",
   "mimetype": "text/x-python",
   "name": "python",
   "nbconvert_exporter": "python",
   "pygments_lexer": "ipython3",
   "version": "3.9.13"
  }
 },
 "nbformat": 4,
 "nbformat_minor": 5
}
