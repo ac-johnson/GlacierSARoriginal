{
 "cells": [
  {
   "cell_type": "markdown",
   "id": "f629ba05-7fa9-449b-887c-eaa4f83b33c7",
   "metadata": {},
   "source": [
    "## Acquire images\n",
    "\n",
    "This notebook will:\n",
    "\n",
    "* Section 1: For a given bounding box and year, find all SAR images in that region. Get some stats on them\n",
    "* Section 2: Filter out images from scenes that don't have sufficient preceding winter imagery for melt detection\n",
    "* Section 3: Run ASF Hyp3 RTC processing\n",
    "* Section 4: Download the data. Reproject it immedately and save only the smaller image. Does that work? I thought I would have to have EPSG vals? This will have to get figured out"
   ]
  },
  {
   "cell_type": "markdown",
   "id": "9a48161b-eb88-4715-a5a0-a549fbc9624d",
   "metadata": {},
   "source": [
    "### Preamble\n",
    "Prepare to do stuff"
   ]
  },
  {
   "cell_type": "code",
   "execution_count": 2,
   "id": "31ab6cac-f1dc-4e1d-8ee3-f35edcd60941",
   "metadata": {},
   "outputs": [
    {
     "data": {
      "application/vnd.jupyter.widget-view+json": {
       "model_id": "f459b96facc249b29d17a9f45e5cfff7",
       "version_major": 2,
       "version_minor": 0
      },
      "text/plain": [
       "URLWidget()"
      ]
     },
     "metadata": {},
     "output_type": "display_data"
    }
   ],
   "source": [
    "import url_widget as url_w\n",
    "notebookUrl = url_w.URLWidget()\n",
    "display(notebookUrl)\n",
    "\n",
    "notebookUrl = notebookUrl.value\n",
    "user = !echo $JUPYTERHUB_USER\n",
    "env = !echo $CONDA_PREFIX\n",
    "\n",
    "#capture\n",
    "from datetime import datetime\n",
    "import glob\n",
    "import json # for loads\n",
    "import os\n",
    "from pathlib import Path\n",
    "import pytz\n",
    "import re\n",
    "import shutil\n",
    "import asf_search as asf\n",
    "from zipfile import ZipFile\n",
    "import time\n",
    "import fnmatch\n",
    "\n",
    "from matplotlib import pyplot as plt\n",
    "#Writing Support Functions:\n",
    "\n",
    "import numpy as np\n",
    "from osgeo import gdal,osr\n",
    "\n",
    "from IPython.display import HTML, display, clear_output, Markdown\n",
    "    \n",
    "from hyp3_sdk import Batch, HyP3\n",
    "\n",
    "import opensarlab_lib as asfn"
   ]
  },
  {
   "cell_type": "code",
   "execution_count": 58,
   "id": "0df7713c-ce0f-4dbd-a83a-1243c2411ab1",
   "metadata": {
    "tags": []
   },
   "outputs": [
    {
     "name": "stdout",
     "output_type": "stream",
     "text": [
      "analysis_directory: /home/jovyan/GlacierSARdata/Denali_h/2019\n",
      "/home/jovyan/GlacierSARdata/Denali_h/2019/rtc_download\n",
      "/home/jovyan/GlacierSARdata/Denali_h/2019/rtc_products\n",
      "/home/jovyan/GlacierSARdata/Denali_h/2019/rtc_clipped\n"
     ]
    }
   ],
   "source": [
    "##NAME PROJECT###\n",
    "projdir = Path.home()/\"GlacierSARdata\"\n",
    "projname = 'Denali_h'\n",
    "year = 2019\n",
    "data_dir=Path(f'{projdir}/{projname}/{str(year)}')\n",
    "pols = ['VV','VH']\n",
    "\n",
    "# Setting Paths\n",
    "analysis_directory = Path.cwd()/data_dir\n",
    "print(f\"analysis_directory: {analysis_directory}\")\n",
    "\n",
    "download_path = analysis_directory/\"rtc_download\"\n",
    "# download_path.mkdir()\n",
    "products_path = analysis_directory/\"rtc_products\"\n",
    "# products_path.mkdir()\n",
    "clipped_path = analysis_directory/\"rtc_clipped\"\n",
    "\n",
    "print(download_path)\n",
    "print(products_path)\n",
    "print(clipped_path)\n",
    "\n",
    "os.makedirs(data_dir,exist_ok=True)\n",
    "os.makedirs(download_path,exist_ok=True)\n",
    "os.makedirs(products_path,exist_ok=True)\n",
    "os.makedirs(analysis_directory/\"figures\",exist_ok=True)\n",
    "os.makedirs(clipped_path,exist_ok=True)\n",
    "for pol in pols:\n",
    "    os.makedirs(clipped_path/pol,exist_ok=True)\n",
    "\n",
    "# print(os.path.exists(data_dir))\n",
    "\n",
    "WTKstr = None\n",
    "if projname==\"Wrangell\": WTKstr='POLYGON((-144.5124 61.8108,-143.2512 61.8108,-143.2512 62.1938,-144.5124 62.1938,-144.5124 61.8108))' #Mt Wrangell\n",
    "if projname==\"Denali_h\": WTKstr='POLYGON((-151.6946 62.7583,-150.1696 62.7583,-150.1696 63.2668,-151.6946 63.2668,-151.6946 62.7583))' #Denali_h (mostly higher elevations)\n",
    "if projname==\"Harding\": WTKstr='POLYGON((-150.6448 59.6467,-149.5491 59.6467,-149.5491 60.2703,-150.6448 60.2703,-150.6448 59.6467))' #Harding\n",
    "if projname==\"Juneau\": WTKstr='POLYGON((-134.7796 58.3698,-133.5 58.3698,-133.5 59.109,-134.7796 59.109,-134.7796 58.3698))' #Juneau"
   ]
  },
  {
   "cell_type": "code",
   "execution_count": 3,
   "id": "247df810-10d2-4d18-b9b4-1ada4ab5c4f0",
   "metadata": {
    "tags": []
   },
   "outputs": [],
   "source": [
    "# def timediff(time1,time2,form='seconds'):\n",
    "#     '''time difference between time2 and time1 expressed as either days or seconds'''\n",
    "#     # dd = 1\n",
    "#     # if time1>time2:\n",
    "#     #     dd=1\n",
    "#     diff = time2-time1\n",
    "#     if form=='seconds':\n",
    "#         diff = diff.seconds+diff.days*86400\n",
    "#     elif form=='days':\n",
    "#         diff = diff.seconds/86400+diff.days\n",
    "#     return diff"
   ]
  },
  {
   "cell_type": "markdown",
   "id": "2088a5e7-6ded-4a0f-bfeb-cd224b77e154",
   "metadata": {
    "tags": []
   },
   "source": [
    "## Find SAR Images\n",
    "\n",
    "Find the SAR images, run some statistics on their frequency, and queue them for Hyp3 processing\n",
    "\n",
    "* stuff\n",
    "* other stuff"
   ]
  },
  {
   "cell_type": "code",
   "execution_count": 17,
   "id": "64303cc7-a5b2-44ac-b9cf-edf089f1b5b8",
   "metadata": {
    "tags": []
   },
   "outputs": [],
   "source": [
    "# WTKstr = None\n",
    "# if projname==\"Wrangell\": WTKstr='POLYGON((-144.5124 61.8108,-143.2512 61.8108,-143.2512 62.1938,-144.5124 62.1938,-144.5124 61.8108))' #Mt Wrangell\n",
    "# if projname==\"Denali_h\": WTKstr='POLYGON((-151.6946 62.7583,-150.1696 62.7583,-150.1696 63.2668,-151.6946 63.2668,-151.6946 62.7583))' #Denali_h (mostly higher elevations)\n",
    "# if projname==\"Harding\": WTKstr='POLYGON((-150.6448 59.6467,-149.5491 59.6467,-149.5491 60.2703,-150.6448 60.2703,-150.6448 59.6467))' #Harding\n",
    "# if projname==\"Juneau\": WTKstr='POLYGON((-134.7796 58.3698,-133.5 58.3698,-133.5 59.109,-134.7796 59.109,-134.7796 58.3698))' #Juneau\n",
    "\n",
    "#testpolygon = POLYGON((-143.1356 61.7756,-143.3698 61.7793,-143.5279 61.7044,-143.3824 61.6052,-143.0614 61.4737,-142.9854 61.4144,-142.804 61.4292,-142.7358 61.5912,-142.5978 61.6494,-142.6707 61.7523,-142.9699 61.7839,-143.1356 61.7756))\n",
    "# WTKstr='POLYGON((-143.4858 61.4239,-142.5307 61.4239,-142.5307 61.7757,-143.4858 61.7757,-143.4858 61.4239))' #Kennicott\n",
    "# testWTK='POLYGON((-134.5463 58.5889,-133.8663 58.5889,-133.8663 58.7656,-134.5463 58.7656,-134.5463 58.5889))' #SE AK icefield\n",
    "# testWTK='POLYGON((-18.2664 63.9706,-15.2442 63.9706,-15.2442 64.9461,-18.2664 64.9461,-18.2664 63.9706))' #iceland\n",
    "# testWTK='POLYGON((15.123 78.0197,16.9688 78.0197,16.9688 78.2449,15.123 78.2449,15.123 78.0197))' #svalbard\n",
    "# testWTK = 'POLYGON((-140.264 60.3786,-140.0853 60.3786,-140.0853 60.4539,-140.264 60.4539,-140.264 60.3786))'\n",
    "# testWTK='POLYGON((-50.0733 70.6347,-47.6859 70.6347,-47.6859 71.1109,-50.0733 71.1109,-50.0733 70.6347))' #west greenland"
   ]
  },
  {
   "cell_type": "code",
   "execution_count": 59,
   "id": "526afff1-6352-472c-b230-21778230c6b8",
   "metadata": {
    "tags": []
   },
   "outputs": [],
   "source": [
    "#funcs for this kind of thing:\n",
    "\n",
    "def timediff(time1,time2,form='seconds'):\n",
    "    '''time difference between time2 and time1 expressed as either days or seconds'''\n",
    "    # dd = 1\n",
    "    # if time1>time2:\n",
    "    #     dd=1\n",
    "    diff = time2-time1\n",
    "    if form=='seconds':\n",
    "        diff = diff.seconds+diff.days*86400\n",
    "    elif form=='days':\n",
    "        diff = diff.seconds/86400+diff.days\n",
    "    return diff\n",
    "\n",
    "def getasfresults(WTKstr,year,trimresults=True,winterN=4,showplots=False,showstats=False):\n",
    "    \"\"\"trim results removes images if there are less than winterN number of winter scenes to establish the baseline\"\"\"\n",
    "    results = asf.geo_search(platform=[asf.PLATFORM.SENTINEL1], intersectsWith=WTKstr, maxResults=1000,start=f'{str(year)}-01-01',\n",
    "                         end=f'{str(year+1)}-01-01',processingLevel='SLC')\n",
    "\n",
    "    datelist = []\n",
    "    pflist = [] #path-frame list\n",
    "    for res in results:\n",
    "        res = res.properties\n",
    "        # print(res['startTime'])\n",
    "        rdate = datetime.strptime(res['startTime'],'%Y-%m-%dT%H:%M:%S.%fZ')\n",
    "        rpf = str(res['pathNumber'])+'-'+str(res['frameNumber'])\n",
    "        # print(rdate)\n",
    "        res['datetime']=rdate\n",
    "        res['pfval'] = rpf\n",
    "        datelist.append(rdate)\n",
    "        pflist.append(rpf)\n",
    "\n",
    "\n",
    "    pfunique = np.unique(pflist)\n",
    "    pfvals = pflist\n",
    "    pflist = [np.where(pfunique==i)[0][0] for i in pflist]\n",
    "    \n",
    "    if showplots==True:\n",
    "        plt.figure()\n",
    "        plt.plot(datelist,pflist,'.',markersize=12)\n",
    "        \n",
    "    if trimresults==True:\n",
    "        wstart = datetime(year,1,1,0,0,0)\n",
    "        wend = datetime(year,4,1,1,0,0,0)\n",
    "        #result2 = results\n",
    "        pfremove=[]\n",
    "        trem = 0\n",
    "        #identify path-frames that do not meet requirements\n",
    "        for pf in pfunique:\n",
    "            eles = [i for i in results if i.properties['pfval']==pf]\n",
    "            datelist = np.array([i.properties['datetime'] for i in eles])\n",
    "            dl2 = datelist[datelist > wstart]\n",
    "            dl2 = dl2[dl2 < wend]\n",
    "            if len(dl2)<winterN:\n",
    "                pfremove.append(pf)\n",
    "                trem += len(datelist)\n",
    "\n",
    "        #remove images from those path-frames\n",
    "        for res in results:\n",
    "            if res.properties['pfval'] in pfremove:\n",
    "                results.remove(res)\n",
    "\n",
    "        print(f'total removed: {trem}')\n",
    "        # print(pfremove)\n",
    "        \n",
    "        #now plot again:\n",
    "        datelist = [i.properties['datetime'] for i in results]\n",
    "        pflist = [i.properties['pfval'] for i in results]\n",
    "        pfunique = np.unique(pflist)\n",
    "        pflist = [np.where(pfunique==i)[0][0] for i in pflist]\n",
    "\n",
    "        if showplots==True:\n",
    "            plt.figure()\n",
    "            plt.plot(datelist,pflist,'.',markersize=12)\n",
    "        \n",
    "    if showstats==True:\n",
    "        dlsort = [i for i in datelist]\n",
    "        dlsort.sort()\n",
    "        dldelta = [timediff(dlsort[i],dlsort[i+1],form='days') for i in range(len(dlsort)-1)]\n",
    "        dldelta = np.array(dldelta)\n",
    "\n",
    "        print('Acquisition stats')\n",
    "        print(f'Number of acquisitions:       {len(dldelta)+1}')\n",
    "        print(f'Number of images >1min apart: {len(dldelta[dldelta>1/1440])+1}\\n')\n",
    "        print(f'Mean days apart:   {np.mean(dldelta):.3f}')\n",
    "        print(f'Mean days >1min:   {np.mean(dldelta[dldelta>1/1440]):.3f}')\n",
    "        print(f'Median days apart: {np.median(dldelta):.3f}')\n",
    "        print(f'Median days >1min: {np.median(dldelta[dldelta>1/1440]):.3f}')\n",
    "        print(f'Stdev days apart:  {np.std(dldelta):.3f}')\n",
    "        print(f'Longest gap:       {np.max(dldelta):.3f}')\n",
    "        print('Note: these are over the whole area, not necessarily by pixel')\n",
    "        \n",
    "    return results"
   ]
  },
  {
   "cell_type": "markdown",
   "id": "0cca386a-21e6-4945-a9ad-e39c4b63c839",
   "metadata": {
    "tags": []
   },
   "source": [
    "## Do Hyp3 Processing\n",
    "\n",
    "I need to:\n",
    "\n",
    "1. Identify all the images you want DONE\n",
    "2. Check if any of those are already RTC processed (not expired)\n",
    "3. Process all the remaining jobs\n",
    "4. Make a hyp3 object for the full list of jobs, with those done via new process and those done via old process\n",
    "5. download, extract, convert, and clip from those jobs"
   ]
  },
  {
   "cell_type": "code",
   "execution_count": 5,
   "id": "26b64e2b-2741-4190-8970-2b83f00b1470",
   "metadata": {
    "tags": []
   },
   "outputs": [
    {
     "name": "stdin",
     "output_type": "stream",
     "text": [
      "NASA Earthdata Login username:  acjohnson16\n",
      "NASA Earthdata Login password:  ·········\n"
     ]
    }
   ],
   "source": [
    "hyp3 = HyP3(prompt=True)"
   ]
  },
  {
   "cell_type": "code",
   "execution_count": 60,
   "id": "ec354636-5517-47bf-aded-448e49ea887a",
   "metadata": {
    "tags": []
   },
   "outputs": [
    {
     "name": "stdout",
     "output_type": "stream",
     "text": [
      "Denali_h: 2019\n",
      "total removed: 14\n",
      "Acquisition stats\n",
      "Number of acquisitions:       30\n",
      "Number of images >1min apart: 30\n",
      "\n",
      "Mean days apart:   12.000\n",
      "Mean days >1min:   12.000\n",
      "Median days apart: 12.000\n",
      "Median days >1min: 12.000\n",
      "Stdev days apart:  0.000\n",
      "Longest gap:       12.000\n",
      "Note: these are over the whole area, not necessarily by pixel\n",
      "total removed: 14\n",
      "jobs already ready: 30\n",
      "Number of jobs to do: 0\n"
     ]
    },
    {
     "data": {
      "image/png": "[encoded data removed]",
      "text/plain": [
       "<Figure size 640x480 with 1 Axes>"
      ]
     },
     "metadata": {},
     "output_type": "display_data"
    },
    {
     "data": {
      "image/png": "[encoded data removed]",
      "text/plain": [
       "<Figure size 640x480 with 1 Axes>"
      ]
     },
     "metadata": {},
     "output_type": "display_data"
    }
   ],
   "source": [
    "#Get_Data\n",
    "\n",
    "print(f'{projname}: {year}')\n",
    "readyproducts = hyp3.find_jobs()\n",
    "readyproducts = readyproducts.filter_jobs(succeeded=True,include_expired=False)\n",
    "readyprodnames = [i.job_parameters['granules'][0] for i in readyproducts]\n",
    "\n",
    "results = getasfresults(WTKstr,year,showplots=True,showstats=True)\n",
    "dojobs = getasfresults(WTKstr,year)\n",
    "resultnames = [i.properties['sceneName'] for i in results]\n",
    "\n",
    "remcount = 0\n",
    "for i,job in enumerate(results):\n",
    "    jobscene = job.properties['sceneName']\n",
    "    dojobnames = np.array([i.properties['sceneName'] for i in dojobs])\n",
    "    job = dojobs[np.where(dojobnames==jobscene)[0][0]]\n",
    "    # othercount += 1\n",
    "    if job.properties['sceneName'] in readyprodnames:\n",
    "        # print(i)\n",
    "        dojobs.remove(job)\n",
    "        remcount += 1\n",
    "        \n",
    "\n",
    "print(f'jobs already ready: {remcount}')\n",
    "print(f'Number of jobs to do: {len(dojobs)}')"
   ]
  },
  {
   "cell_type": "code",
   "execution_count": 43,
   "id": "75fe789b-7e1c-4216-9ad0-b6334fc0e76f",
   "metadata": {},
   "outputs": [
    {
     "name": "stdout",
     "output_type": "stream",
     "text": [
      "51 HyP3 Jobs: 0 succeeded, 0 failed, 0 running, 51 pending.\n",
      "{'max_jobs_per_month': 1000, 'remaining': 735}\n"
     ]
    }
   ],
   "source": [
    "#Submit jobs for RTC processing\n",
    "\n",
    "projectname = f'{projname}_{year%1000}'\n",
    "\n",
    "granules = [i.properties['sceneName'] for i in dojobs]\n",
    "\n",
    "submitjobs = True\n",
    "if submitjobs:\n",
    "    rtc_jobs = Batch()\n",
    "    for g in granules:\n",
    "        rtc_jobs += hyp3.submit_rtc_job(g, name=projectname)\n",
    "    print(rtc_jobs)\n",
    "else:\n",
    "    print(\"Note: no job submitted as submitjobs is currently 'False'\")\n",
    "print(hyp3.my_info()['quota'])"
   ]
  },
  {
   "cell_type": "code",
   "execution_count": 16,
   "id": "1b6e70a8-262e-43aa-8332-35c0fd24fd21",
   "metadata": {},
   "outputs": [],
   "source": [
    "#do failed jobs if necessary (set to True)\n",
    "\n",
    "dofailedjob = False\n",
    "if dofailedjob:\n",
    "    hyp3.submit_rtc_job('S1A_IW_SLC__1SDV_20210701T155634_20210701T155701_038586_048D97_C318', name = projectname)"
   ]
  },
  {
   "cell_type": "code",
   "execution_count": 7,
   "id": "e924d400-995f-4609-bbb2-2bb166877dea",
   "metadata": {},
   "outputs": [
    {
     "name": "stdout",
     "output_type": "stream",
     "text": [
      "{'max_jobs_per_month': 1000, 'remaining': 1000}\n"
     ]
    }
   ],
   "source": [
    "print(hyp3.my_info()['quota'])"
   ]
  },
  {
   "cell_type": "markdown",
   "id": "6047bf99-395d-4e86-931d-b82820a150f3",
   "metadata": {
    "tags": []
   },
   "source": [
    "## Utility Functions\n",
    "\n",
    "download images\\\n",
    "extract images\\\n",
    "reproject and clip to wtk\\\n",
    "convert to db\\\n",
    "do this sequentially"
   ]
  },
  {
   "cell_type": "code",
   "execution_count": 7,
   "id": "f24913c5-3258-48a6-b81d-29e5fe241e33",
   "metadata": {
    "tags": []
   },
   "outputs": [],
   "source": [
    "#convert utility\n",
    "def converttodb(file):\n",
    "    ds = gdal.Open(file, gdal.GA_Update)\n",
    "    data = ds.ReadAsArray()\n",
    "\n",
    "    data[data<1e-6]=1e-6\n",
    "    \n",
    "    data = 10*np.log10(data)\n",
    "    data[data==-np.inf]=-60\n",
    "    ds.GetRasterBand(1).WriteArray(data)\n",
    "    ds = None\n",
    "\n",
    "#download utility:\n",
    "def extracttif(inloc,outloc,pol='VV',convert=True):\n",
    "    \"\"\"expect pol to be 'VV','VH','HH', or 'HV' \n",
    "    convert will convert this to db\"\"\"\n",
    "    if str(inloc)[-1]!='/':\n",
    "        inloc = str(inloc)+'/'\n",
    "    if str(outloc)[-1]!='/':\n",
    "        outloc = str(outloc)+'/'\n",
    "    infile = glob.glob(f'{inloc}*')\n",
    "    endstr = pol+'.tif'\n",
    "    for file in infile:\n",
    "        # print(file)\n",
    "        # namelist = \n",
    "        with ZipFile(file) as z:\n",
    "            # print(z.namelist)\n",
    "            z = ZipFile(file)\n",
    "            zname = [name for name in z.namelist() if name[-6:]==endstr]\n",
    "            if len(zname)>0:\n",
    "                zname = zname[0]\n",
    "        \n",
    "                filename = os.path.basename(zname)\n",
    "                source = z.open(zname)\n",
    "                targetname = os.path.join(outloc, filename)\n",
    "                target = open(targetname, \"wb\")\n",
    "                with source, target:\n",
    "                    shutil.copyfileobj(source, target)\n",
    "                target.close()\n",
    "                if convert:\n",
    "                    converttodb(targetname)\n",
    "        # os.remove(file)\n",
    "        "
   ]
  },
  {
   "cell_type": "code",
   "execution_count": 8,
   "id": "7955c4dc-3ceb-4956-a593-3817eb244178",
   "metadata": {
    "tags": []
   },
   "outputs": [],
   "source": [
    "#CLIPPING TOOLS\n",
    "\n",
    "def wtkparse(wtk):\n",
    "    \"\"\"It's not weird if it works\"\"\"\n",
    "    wtk = wtk.split(\"'\")\n",
    "    wtk = wtk[0].split(\"(\")[2]\n",
    "    wtk = wtk.split(\")\")[0]\n",
    "    wtk = wtk.split(',')\n",
    "    wtk = [s.split(' ') for s in wtk]\n",
    "    wtk = np.array([[float(ss) for ss in s] for s in wtk])\n",
    "    return(wtk)\n",
    "\n",
    "def CoordConvert(points,inproj,outproj,ptparse=False):\n",
    "    \"\"\"Convert coordinate grid from one projection to another\n",
    "    if converting from 4326, then points should be ordered lon,lat\"\"\"\n",
    "\n",
    "    if ptparse:\n",
    "        points = wtkparse(points)\n",
    "\n",
    "    if type(inproj)==str:\n",
    "        inproj=int(inproj)\n",
    "    if type(outproj)==str:\n",
    "        outproj=int(outproj)\n",
    "\n",
    "    epsgin = osr.SpatialReference()\n",
    "    epsgin.ImportFromEPSG(inproj)   \n",
    "    epsgout = osr.SpatialReference()\n",
    "    epsgout.ImportFromEPSG(outproj)\n",
    "\n",
    "    convert = osr.CoordinateTransformation(epsgin, epsgout)\n",
    "    points = np.array(points)\n",
    "    \n",
    "    for i,x in enumerate(points):\n",
    "        newpt = convert.TransformPoint(x[1],x[0])\n",
    "        points[i,0],points[i,1]=newpt[0],newpt[1]\n",
    "        \n",
    "    return points\n",
    "\n",
    "def wtktobox(wtk,epsgn,srcproj = 4326):\n",
    "    \"\"\"epsgn is the epsg of the tif file\n",
    "    output will be ulx uly lrx lry\"\"\"\n",
    "    epsgn = int(epsgn)\n",
    "    srcproj = int(srcproj)\n",
    "    xyp = CoordConvert(wtk,4326,epsgn,ptparse=True)\n",
    "    ulx,uly = np.min(xyp[:,0]),np.max(xyp[:,1])\n",
    "    lrx,lry = np.max(xyp[:,0]),np.min(xyp[:,1])\n",
    "    return ulx,uly,lrx,lry\n",
    "\n",
    "def testEPSG(inloc):\n",
    "    if str(inloc)[-1]!='/':\n",
    "        inloc = str(inloc)+'/'\n",
    "    # if str(outloc)[-1]!='/':\n",
    "        # outloc = str(outloc)+'/'\n",
    "    infiles = glob.glob(f'{inloc}*')\n",
    "    for file in infiles:\n",
    "        ds=gdal.Open(file)\n",
    "        proj = osr.SpatialReference(wkt=ds.GetProjection())\n",
    "        dsproj = proj.GetAttrValue('AUTHORITY',1)\n",
    "        ds = None\n",
    "        print(dsproj)\n",
    "# testEPSG(products_path)\n",
    "\n",
    "def getEPSG(file):\n",
    "    ds=gdal.Open(file)\n",
    "    proj = osr.SpatialReference(wkt=ds.GetProjection())\n",
    "    dsproj = proj.GetAttrValue('AUTHORITY',1)\n",
    "    ds = None\n",
    "    return dsproj\n",
    "\n",
    "def identify_epsgs(fileloc):\n",
    "    \"\"\"Identify EPSG systems used in this. By default this will return the most commonly one.\"\"\"\n",
    "    if str(fileloc)[-1]!='/':\n",
    "        fileloc = str(fileloc)+'/'\n",
    "    filelist = glob.glob(f'{fileloc}*')\n",
    "    eplist = []\n",
    "    for file in filelist:\n",
    "        eplist.append(getEPSG(file))\n",
    "        # print(eplist[-1])\n",
    "        # print(file)\n",
    "    epu,epc = np.unique(eplist,return_counts=True)\n",
    "    for i,ep in enumerate(epu):\n",
    "        count = epc[i]\n",
    "        print(f'Found EPSG:{ep}, count: {count}')\n",
    "    return epu[np.where(epc==np.max(epc))[0]][0]\n",
    "\n",
    "def reproject(wtk,epsgn,inloc,outloc,res=30,convert_to_db=False):\n",
    "    \"\"\"make the magic happen\"\"\"\n",
    "    if str(inloc)[-1]!='/':\n",
    "        inloc = str(inloc)+'/'\n",
    "    if str(outloc)[-1]!='/':\n",
    "        outloc = str(outloc)+'/'\n",
    "    infiles = glob.glob(f'{inloc}*')\n",
    "    \n",
    "    epsgn = int(epsgn)\n",
    "    ulx,uly,lrx,lry = wtktobox(wtk,epsgn)\n",
    "    # c1=0\n",
    "    epsgns = f'ESPG:{str(epsgn)}'\n",
    "    for file in infiles:\n",
    "        ofile = file.replace(inloc,outloc)\n",
    "        # ofile = '/home/jovyan/test/rtc_clipped/S1B_IW_20210713T031944_DVP_RTC30_G_gpuned_1E76_VV'\n",
    "        epsgf = int(getEPSG(file))\n",
    "        epsgfs = f'ESPG:{str(epsgf)}'\n",
    "        src = gdal.Open(file)\n",
    "        # print(ofile)\n",
    "        # print(type(ofile))\n",
    "        \n",
    "        epsgo = osr.SpatialReference()\n",
    "        epsgo.ImportFromEPSG(epsgn)   \n",
    "        \n",
    "        gdal.Warp(destNameOrDestDS=ofile,srcDSOrSrcDSTab=src,dstSRS=epsgo,\n",
    "                  outputBounds=(ulx,lry,lrx,uly),outputBoundsSRS=epsgo,resampleAlg='near',\n",
    "                  xRes=res,yRes=res)\n",
    "        \n",
    "        if convert_to_db:\n",
    "            converttodb(ofile)"
   ]
  },
  {
   "cell_type": "markdown",
   "id": "bbcba4bf-61a6-482b-b160-992b0fe1b381",
   "metadata": {},
   "source": [
    "## Get Data"
   ]
  },
  {
   "cell_type": "code",
   "execution_count": 9,
   "id": "2f85a732-71fb-4527-a5cd-6f989c050ec8",
   "metadata": {
    "tags": []
   },
   "outputs": [
    {
     "name": "stdout",
     "output_type": "stream",
     "text": [
      "No jobs running, all clear\n"
     ]
    }
   ],
   "source": [
    "#Download the products, unzip them into the rtc_download directory, convert them to dB, and delete the zip files:\n",
    "\n",
    "# EPSGn = '32607'\n",
    "pols = ['VV','VH']\n",
    "\n",
    "autoEPSG=True #use this to pull the first projection and use that as your projection for all images\n",
    "\n",
    "# First check if jobs are running\n",
    "class Error(Exception):\n",
    "    \"\"\"Base class for other exceptions\"\"\"\n",
    "    pass\n",
    "class stillrunningError(Error):\n",
    "    \"\"\"raised when jobs are still running\"\"\"\n",
    "    pass\n",
    "\n",
    "running = len(hyp3.find_jobs(status_code=[\"RUNNING\"]))\n",
    "running += len(hyp3.find_jobs(status_code=[\"PENDING\"]))\n",
    "\n",
    "if running > 0:\n",
    "    print('Jobs still running!')\n",
    "    raise stillrunningError\n",
    "else:\n",
    "    print('No jobs running, all clear')"
   ]
  },
  {
   "cell_type": "code",
   "execution_count": 8,
   "id": "71c90323-8ffa-4e8c-af72-a2f8a6ef6cd0",
   "metadata": {
    "tags": []
   },
   "outputs": [
    {
     "name": "stdout",
     "output_type": "stream",
     "text": [
      "156: S1B_IW_SLC__1SSV_20170103T161137_20170103T161204_003686_00653D_DC77\n",
      "157: S1B_IW_SLC__1SDV_20170113T030256_20170113T030323_003824_006932_78C2\n",
      "158: S1B_IW_SLC__1SDV_20170111T031914_20170111T031942_003795_00685F_7C8B\n",
      "159: S1B_IW_SLC__1SSV_20170117T155522_20170117T155549_003890_006B27_8927\n",
      "160: S1B_IW_SLC__1SSV_20170124T154703_20170124T154730_003992_006E3A_80C3\n",
      "161: S1B_IW_SLC__1SSV_20170127T161137_20170127T161204_004036_006F95_AE91\n",
      "162: S1B_IW_SLC__1SDV_20170206T030255_20170206T030322_004174_007398_7474\n",
      "163: S1B_IW_SLC__1SDV_20170204T031913_20170204T031941_004145_0072BE_6035\n",
      "164: S1B_IW_SLC__1SSV_20170210T155521_20170210T155548_004240_00759A_8621\n",
      "Current job: 10/108, time elapsed: 0.00 min, time remaining: 0.00 min\n",
      "165: S1B_IW_SLC__1SSV_20170217T154703_20170217T154730_004342_0078AB_A6A8\n",
      "166: S1B_IW_SLC__1SSV_20170220T161136_20170220T161203_004386_007A0B_DF36\n",
      "167: S1B_IW_SLC__1SSV_20170222T155521_20170222T155548_004415_007AE7_5F89\n",
      "168: S1B_IW_SLC__1SDV_20170228T031913_20170228T031941_004495_007D2E_53C4\n",
      "169: S1B_IW_SLC__1SSV_20170301T154703_20170301T154730_004517_007DCD_726B\n",
      "170: S1B_IW_SLC__1SDV_20170302T030255_20170302T030322_004524_007E02_6010\n",
      "171: S1B_IW_SLC__1SSV_20170304T161136_20170304T161203_004561_007F26_8522\n",
      "172: S1B_IW_SLC__1SSV_20170306T155521_20170306T155548_004590_008000_D5EC\n",
      "173: S1B_IW_SLC__1SDV_20170312T031913_20170312T031941_004670_008251_235D\n",
      "174: S1B_IW_SLC__1SSV_20170313T154703_20170313T154730_004692_0082FD_59A0\n",
      "Current job: 20/108, time elapsed: 0.00 min, time remaining: 0.00 min\n",
      "175: S1B_IW_SLC__1SDV_20170314T030255_20170314T030322_004699_008330_5BDF\n",
      "176: S1B_IW_SLC__1SSV_20170316T161136_20170316T161203_004736_008452_9FEF\n",
      "177: S1B_IW_SLC__1SDV_20170324T031913_20170324T031941_004845_008766_017C\n",
      "178: S1B_IW_SLC__1SDV_20170326T030255_20170326T030322_004874_008832_09D0\n",
      "179: S1B_IW_SLC__1SDV_20170405T031914_20170405T031942_005020_008C75_B411\n",
      "180: S1B_IW_SLC__1SDV_20170407T030256_20170407T030323_005049_008D40_895A\n",
      "181: S1B_IW_SLC__1SDV_20170417T031914_20170417T031942_005195_009174_BB33\n",
      "182: S1B_IW_SLC__1SDV_20170429T031915_20170429T031943_005370_009693_6B78\n",
      "183: S1B_IW_SLC__1SDV_20170419T030256_20170419T030323_005224_009249_BC20\n",
      "184: S1B_IW_SLC__1SDV_20170501T030257_20170501T030324_005399_009762_42EF\n",
      "Current job: 30/108, time elapsed: 0.00 min, time remaining: 0.00 min\n",
      "185: S1A_IW_SLC__1SSV_20170511T155606_20170511T155633_016536_01B692_4F4F\n",
      "186: S1B_IW_SLC__1SDV_20170511T031915_20170511T031943_005545_009B64_87A8\n",
      "187: S1B_IW_SLC__1SDV_20170513T030257_20170513T030324_005574_009C2E_8852\n",
      "188: S1A_IW_SLC__1SSV_20170518T154748_20170518T154815_016638_01B9BD_EFBC\n",
      "189: S1B_IW_SLC__1SDV_20170523T031916_20170523T031944_005720_00A055_61B7\n",
      "190: S1A_IW_SLC__1SSV_20170523T155606_20170523T155633_016711_01BBFB_62CF\n",
      "191: S1A_IW_SLC__1SSV_20170530T154748_20170530T154815_016813_01BF22_841C\n",
      "192: S1A_IW_SLC__1SSV_20170602T161222_20170602T161245_016857_01C07F_A6A8\n",
      "193: S1B_IW_SLC__1SDV_20170604T031917_20170604T031945_005895_00A568_EB56\n",
      "194: S1A_IW_SLC__1SDV_20170604T155607_20170604T155634_016886_01C167_19EE\n",
      "Current job: 40/108, time elapsed: 0.00 min, time remaining: 0.00 min\n",
      "195: S1B_IW_SLC__1SDV_20170606T030259_20170606T030326_005924_00A63E_8989\n",
      "196: S1A_IW_SLC__1SDV_20170614T161223_20170614T161246_017032_01C5EA_FF72\n",
      "197: S1A_IW_SLC__1SDV_20170611T154749_20170611T154816_016988_01C490_82A4\n",
      "198: S1A_IW_SLC__1SDV_20170616T155608_20170616T155635_017061_01C6CC_B9B8\n",
      "199: S1B_IW_SLC__1SDV_20170616T031917_20170616T031945_006070_00AA8F_2EF3\n",
      "200: S1B_IW_SLC__1SDV_20170618T030300_20170618T030327_006099_00AB61_591A\n",
      "201: S1A_IW_SLC__1SDV_20170623T154750_20170623T154817_017163_01C9E9_7E04\n",
      "202: S1B_IW_SLC__1SDV_20170628T031918_20170628T031946_006245_00AFA2_657B\n",
      "203: S1A_IW_SLC__1SDV_20170628T155608_20170628T155635_017236_01CC1A_AE50\n",
      "204: S1B_IW_SLC__1SDV_20170630T030300_20170630T030327_006274_00B071_68AB\n",
      "Current job: 50/108, time elapsed: 0.00 min, time remaining: 0.00 min\n",
      "205: S1A_IW_SLC__1SDV_20170705T154750_20170705T154817_017338_01CF34_BC8F\n",
      "206: S1B_IW_SLC__1SDV_20170710T031919_20170710T031947_006420_00B491_4D36\n",
      "207: S1A_IW_SLC__1SDV_20170710T155609_20170710T155636_017411_01D162_76EB\n",
      "208: S1A_IW_SLC__1SDV_20170717T154751_20170717T154818_017513_01D485_D502\n",
      "209: S1B_IW_SLC__1SDV_20170722T031920_20170722T031947_006595_00B992_9C76\n",
      "210: S1A_IW_SLC__1SDV_20170722T155610_20170722T155637_017586_01D6B5_8062\n",
      "211: S1A_IW_SLC__1SDV_20170729T154752_20170729T154819_017688_01D9E0_C08A\n",
      "212: S1A_IW_SLC__1SDV_20170803T155610_20170803T155637_017761_01DC0D_A35E\n",
      "213: S1B_IW_SLC__1SDV_20170805T030302_20170805T030329_006799_00BF67_8DA5\n",
      "214: S1A_IW_SLC__1SDV_20170810T154753_20170810T154820_017863_01DF34_0964\n",
      "Current job: 60/108, time elapsed: 0.00 min, time remaining: 0.00 min\n",
      "215: S1A_IW_SLC__1SDV_20170813T161226_20170813T161249_017907_01E07F_F485\n",
      "216: S1B_IW_SLC__1SDV_20170815T031921_20170815T031949_006945_00C3B3_6142\n",
      "217: S1A_IW_SLC__1SDV_20170815T155611_20170815T155638_017936_01E162_832E\n",
      "218: S1B_IW_SLC__1SDV_20170817T030303_20170817T030330_006974_00C481_CEC4\n",
      "219: S1A_IW_SLC__1SDV_20170822T154753_20170822T154820_018038_01E485_D18C\n",
      "220: S1B_IW_SLC__1SDV_20170827T031921_20170827T031949_007120_00C8C4_A3A4\n",
      "221: S1A_IW_SLC__1SDV_20170827T155612_20170827T155639_018111_01E6AD_BC85\n",
      "222: S1B_IW_SLC__1SDV_20170829T030303_20170829T030330_007149_00C990_1CD7\n",
      "223: S1A_IW_SLC__1SDV_20170903T154754_20170903T154821_018213_01E9CA_59D5\n",
      "224: S1B_IW_SLC__1SDV_20170908T031922_20170908T031950_007295_00CDDC_D1A6\n",
      "Current job: 70/108, time elapsed: 0.00 min, time remaining: 0.00 min\n",
      "225: S1A_IW_SLC__1SDV_20170908T155612_20170908T155639_018286_01EC04_FA40\n",
      "226: S1B_IW_SLC__1SDV_20170910T030304_20170910T030331_007324_00CEAF_3C0B\n",
      "227: S1A_IW_SLC__1SDV_20170915T154754_20170915T154821_018388_01EF3E_5456\n",
      "228: S1B_IW_SLC__1SDV_20170920T031922_20170920T031950_007470_00D2FC_E983\n",
      "229: S1A_IW_SLC__1SDV_20170920T155613_20170920T155640_018461_01F166_840B\n",
      "230: S1B_IW_SLC__1SDV_20170922T030304_20170922T030331_007499_00D3CF_6071\n",
      "231: S1A_IW_SLC__1SDV_20170927T154754_20170927T154821_018563_01F499_62E4\n",
      "232: S1A_IW_SLC__1SDV_20170930T161228_20170930T161251_018607_01F5ED_BC78\n",
      "233: S1B_IW_SLC__1SDV_20171002T031923_20171002T031950_007645_00D7FD_0E5C\n",
      "234: S1A_IW_SLC__1SDV_20171002T155613_20171002T155640_018636_01F6CA_042B\n",
      "Current job: 80/108, time elapsed: 0.00 min, time remaining: 0.00 min\n",
      "235: S1A_IW_SLC__1SDV_20171009T154755_20171009T154822_018738_01F9E9_D9A6\n",
      "236: S1A_IW_SLC__1SDV_20171012T161228_20171012T161251_018782_01FB3C_64F8\n",
      "237: S1A_IW_SLC__1SDV_20171014T155613_20171014T155640_018811_01FC1A_770C\n",
      "238: S1B_IW_SLC__1SDV_20171016T030305_20171016T030332_007849_00DDBD_55C3\n",
      "239: S1A_IW_SLC__1SDV_20171021T154755_20171021T154822_018913_01FF4E_6DDB\n",
      "240: S1A_IW_SLC__1SDV_20171026T155613_20171026T155640_018986_020169_6B71\n",
      "241: S1A_IW_SLC__1SDV_20171024T161228_20171024T161252_018957_020098_67B8\n",
      "242: S1B_IW_SLC__1SDV_20171028T030305_20171028T030332_008024_00E2CD_023F\n",
      "243: S1A_IW_SLC__1SDV_20171102T154755_20171102T154822_019088_02049D_DB77\n",
      "244: S1B_IW_SLC__1SDV_20171107T031923_20171107T031951_008170_00E708_F1CA\n",
      "Current job: 90/108, time elapsed: 0.00 min, time remaining: 0.00 min\n",
      "245: S1B_IW_SLC__1SDV_20171109T030305_20171109T030332_008199_00E7DA_3CEB\n",
      "246: S1A_IW_SLC__1SDV_20171107T155613_20171107T155640_019161_0206D6_B384\n",
      "247: S1A_IW_SLC__1SDV_20171114T154754_20171114T154821_019263_020A12_41F8\n",
      "248: S1A_IW_SLC__1SDV_20171117T161228_20171117T161251_019307_020B69_B659\n",
      "249: S1A_IW_SLC__1SDV_20171119T155613_20171119T155640_019336_020C52_5093\n",
      "250: S1B_IW_SLC__1SDV_20171121T030304_20171121T030331_008374_00ED30_F307\n",
      "251: S1A_IW_SLC__1SDV_20171126T154754_20171126T154821_019438_020F9C_C7EE\n",
      "252: S1B_IW_SLC__1SDV_20171201T031922_20171201T031950_008520_00F1C6_993A\n",
      "253: S1A_IW_SLC__1SDV_20171129T161228_20171129T161251_019482_0210EE_0C3E\n",
      "254: S1A_IW_SLC__1SDV_20171201T155612_20171201T155639_019511_0211CB_C30A\n",
      "Current job: 100/108, time elapsed: 0.00 min, time remaining: 0.00 min\n",
      "255: S1B_IW_SLC__1SDV_20171203T030304_20171203T030331_008549_00F2AE_DE90\n",
      "256: S1A_IW_SLC__1SDV_20171208T154754_20171208T154821_019613_02150F_FBDD\n",
      "257: S1A_IW_SLC__1SDV_20171211T161227_20171211T161250_019657_021668_FFE6\n",
      "258: S1B_IW_SLC__1SDV_20171213T031922_20171213T031950_008695_00F752_4A4B\n",
      "259: S1A_IW_SLC__1SDV_20171213T155612_20171213T155639_019686_021746_0F1B\n",
      "260: S1B_IW_SLC__1SDV_20171215T030304_20171215T030331_008724_00F83B_A896\n",
      "261: S1A_IW_SLC__1SDV_20171220T154753_20171220T154820_019788_021A83_2F06\n",
      "262: S1A_IW_SLC__1SDV_20171223T161226_20171223T161250_019832_021BCB_26CB\n",
      "263: S1A_IW_SLC__1SDV_20171225T155611_20171225T155638_019861_021CAB_A3D2\n",
      "264: S1B_IW_SLC__1SDV_20171227T030303_20171227T030330_008899_00FDD7_9134\n",
      "109\n"
     ]
    }
   ],
   "source": [
    "# Get the list of jobs to download\n",
    "usegranules = [i.properties['sceneName'] for i in results]\n",
    "joblist = hyp3.find_jobs()\n",
    "joblist = joblist.filter_jobs(succeeded=True,include_expired=False)\n",
    "joblen = len(results)-1\n",
    "\n",
    "t = time.time()\n",
    "count = 0\n",
    "for i,job in enumerate(joblist):\n",
    "\n",
    "    jobname = job.job_parameters['granules'][0]\n",
    "\n",
    "    if jobname in usegranules:\n",
    "        count += 1\n",
    "        usegranules.remove(jobname)\n",
    "        if count%10 ==0:\n",
    "            te = time.time()-t\n",
    "            print(f'Current job: {count}/{joblen}, time elapsed: {te/60:.2f} min, time remaining: {(te/(i+1)*(joblen-count))/60:.2f} min')\n",
    "        # job.download_files(download_path)\n",
    "        # for pol in pols:\n",
    "            # print(pol)\n",
    "            # extracttif(download_path,products_path,pol=pol,convert=False)\n",
    "            # if autoEPSG:\n",
    "                # if (count == 1) and (pol == pols[0]):\n",
    "                    # fileg = glob.glob(f'{str(products_path)}/*.tif')\n",
    "                    # EPSGn = getEPSG(fileg[0])\n",
    "                    # print(getEPSG(fileg[0]))\n",
    "            # fulltif = glob.glob(f'{str(products_path)}/*{pol}*')\n",
    "            # reproject(WTKstr,EPSGn,products_path,f'{str(clipped_path)}/{pol}',convert_to_db=True)\n",
    "            # os.system(f'rm {str(products_path)}/*.tif')\n",
    "            # time.sleep(3)\n",
    "        # os.system(f'rm {str(download_path)}/*.zip')\n",
    "        print(f\"{i}: {jobname}\")\n",
    "print(count)\n",
    "if len(usegranules)>0:\n",
    "    print('WARNING: NOT ALL GRANULES USED')"
   ]
  },
  {
   "cell_type": "code",
   "execution_count": 85,
   "id": "40606baf-dc5e-4f3a-8fbb-bb7a43b70c8b",
   "metadata": {
    "tags": []
   },
   "outputs": [
    {
     "name": "stdout",
     "output_type": "stream",
     "text": [
      "['S1B_IW_SLC__1SDV_20171203T030304_20171203T030331_008549_00F2AE_DE90']\n",
      "0: S1B_IW_SLC__1SSV_20170101T162824_20170101T162901_003657_006459_DCFF\n",
      "1: S1B_IW_SLC__1SSV_20170103T161202_20170103T161230_003686_00653D_E5A4\n",
      "2: S1B_IW_SLC__1SSV_20170103T161228_20170103T161256_003686_00653D_BACD\n",
      "3: S1B_IW_SLC__1SSV_20170125T162823_20170125T162900_004007_006EB3_A47A\n",
      "4: S1B_IW_SLC__1SSV_20170127T161202_20170127T161229_004036_006F95_CAFC\n",
      "5: S1B_IW_SLC__1SSV_20170127T161227_20170127T161255_004036_006F95_EFFE\n",
      "6: S1B_IW_SLC__1SSV_20170218T162823_20170218T162900_004357_007925_1CB7\n",
      "7: S1B_IW_SLC__1SSV_20170220T161201_20170220T161228_004386_007A0B_760E\n",
      "8: S1B_IW_SLC__1SSV_20170220T161226_20170220T161255_004386_007A0B_9CB5\n",
      "9: S1B_IW_SLC__1SSV_20170304T161201_20170304T161229_004561_007F26_19EF\n",
      "10: S1B_IW_SLC__1SSV_20170314T162823_20170314T162900_004707_008371_4FCA\n",
      "11: S1B_IW_SLC__1SSV_20170304T161227_20170304T161255_004561_007F26_2E55\n",
      "12: S1B_IW_SLC__1SSV_20170316T161201_20170316T161229_004736_008452_BE3C\n",
      "13: S1B_IW_SLC__1SSV_20170316T161227_20170316T161255_004736_008452_ACEB\n",
      "14: S1A_IW_SLC__1SSV_20170519T162908_20170519T162936_016653_01BA3A_2D51\n",
      "15: S1B_IW_SLC__1SDV_20170427T033511_20170427T033541_005341_0095C9_57B3\n",
      "16: S1A_IW_SLC__1SSV_20170519T162933_20170519T163000_016653_01BA3A_7E63\n",
      "17: S1A_IW_SLC__1SSV_20170531T162934_20170531T163001_016828_01BFA3_E86B\n",
      "18: S1A_IW_SLC__1SSV_20170531T162908_20170531T162936_016828_01BFA3_6AB2\n",
      "19: S1A_IW_SLC__1SDV_20170612T162935_20170612T163002_017003_01C50E_AA21\n",
      "20: S1A_IW_SLC__1SDV_20170612T162909_20170612T162937_017003_01C50E_053F\n",
      "21: S1A_IW_SLC__1SDV_20170624T162910_20170624T162938_017178_01CA65_2DBD\n",
      "22: S1A_IW_SLC__1SDV_20170624T162936_20170624T163003_017178_01CA65_5933\n",
      "23: S1A_IW_SLC__1SDV_20170706T162936_20170706T163003_017353_01CFA8_7919\n",
      "24: S1A_IW_SLC__1SDV_20170706T162910_20170706T162938_017353_01CFA8_5493\n",
      "25: S1A_IW_SLC__1SDV_20170718T162911_20170718T162939_017528_01D502_CBFC\n",
      "26: S1A_IW_SLC__1SDV_20170718T162937_20170718T163004_017528_01D502_5010\n",
      "27: S1A_IW_SLC__1SDV_20170730T162912_20170730T162940_017703_01DA5B_04CE\n",
      "28: S1A_IW_SLC__1SDV_20170730T162938_20170730T163005_017703_01DA5B_58C7\n",
      "29: S1A_IW_SLC__1SDV_20170811T162912_20170811T162940_017878_01DFAF_6658\n",
      "30: S1A_IW_SLC__1SDV_20170823T162913_20170823T162941_018053_01E4FF_4752\n",
      "31: S1A_IW_SLC__1SDV_20170811T162938_20170811T163005_017878_01DFAF_70DC\n",
      "32: S1A_IW_SLC__1SDV_20170823T162939_20170823T163006_018053_01E4FF_754D\n",
      "33: S1A_IW_SLC__1SDV_20170904T162914_20170904T162941_018228_01EA49_B110\n",
      "34: S1A_IW_SLC__1SDV_20170904T162939_20170904T163006_018228_01EA49_925D\n",
      "35: S1A_IW_SLC__1SDV_20170916T162914_20170916T162942_018403_01EFBD_6F8E\n",
      "36: S1A_IW_SLC__1SDV_20170916T162940_20170916T163007_018403_01EFBD_528E\n",
      "37: S1A_IW_SLC__1SDV_20170928T162914_20170928T162942_018578_01F513_4EFA\n",
      "38: S1A_IW_SLC__1SDV_20170928T162940_20170928T163007_018578_01F513_94E9\n",
      "39: S1A_IW_SLC__1SDV_20171010T162915_20171010T162941_018753_01FA68_EBCE\n",
      "40: S1A_IW_SLC__1SDV_20171010T162939_20171010T163007_018753_01FA68_2503\n",
      "41: S1A_IW_SLC__1SDV_20171022T162915_20171022T162942_018928_01FFCB_41EC\n",
      "42: S1A_IW_SLC__1SDV_20171022T162939_20171022T163007_018928_01FFCB_60CD\n",
      "43: S1A_IW_SLC__1SDV_20171103T162940_20171103T163007_019103_02051D_2400\n",
      "44: S1A_IW_SLC__1SDV_20171103T162915_20171103T162943_019103_02051D_222D\n",
      "45: S1A_IW_SLC__1SDV_20171115T162940_20171115T163007_019278_020A93_C89F\n",
      "46: S1A_IW_SLC__1SDV_20171115T162914_20171115T162942_019278_020A93_4357\n",
      "47: S1A_IW_SLC__1SDV_20171127T162914_20171127T162942_019453_021015_E9A9\n",
      "48: S1A_IW_SLC__1SDV_20171127T162940_20171127T163007_019453_021015_335F\n",
      "49: S1A_IW_SLC__1SDV_20171209T162913_20171209T162941_019628_02158E_86B1\n",
      "50: S1A_IW_SLC__1SDV_20171221T162939_20171221T163006_019803_021AF7_4DAD\n",
      "51: S1B_IW_SLC__1SSV_20170101T162759_20170101T162826_003657_006459_6DB8\n",
      "52: S1B_IW_SLC__1SSV_20170125T162758_20170125T162825_004007_006EB3_FCD6\n",
      "53: S1B_IW_SLC__1SSV_20170314T162758_20170314T162825_004707_008371_2427\n",
      "54: S1B_IW_SLC__1SSV_20170218T162758_20170218T162825_004357_007925_2699\n",
      "55: S1A_IW_SLC__1SSV_20170519T162843_20170519T162910_016653_01BA3A_AFC7\n",
      "56: S1B_IW_SLC__1SDV_20170427T033605_20170427T033632_005341_0095C9_974F\n",
      "57: S1A_IW_SLC__1SSV_20170531T162843_20170531T162910_016828_01BFA3_C240\n",
      "58: S1A_IW_SLC__1SDV_20170612T162844_20170612T162911_017003_01C50E_3971\n",
      "59: S1A_IW_SLC__1SDV_20170624T162845_20170624T162912_017178_01CA65_A3D8\n",
      "60: S1A_IW_SLC__1SDV_20170706T162845_20170706T162912_017353_01CFA8_D541\n",
      "61: S1A_IW_SLC__1SDV_20170718T162846_20170718T162913_017528_01D502_AE3C\n",
      "62: S1A_IW_SLC__1SDV_20170730T162847_20170730T162914_017703_01DA5B_4C50\n",
      "63: S1A_IW_SLC__1SDV_20170811T162848_20170811T162915_017878_01DFAF_A20E\n",
      "64: S1A_IW_SLC__1SDV_20170823T162848_20170823T162915_018053_01E4FF_15D6\n",
      "65: S1A_IW_SLC__1SDV_20170916T162849_20170916T162916_018403_01EFBD_543E\n",
      "66: S1A_IW_SLC__1SDV_20170904T162849_20170904T162916_018228_01EA49_4A88\n",
      "67: S1A_IW_SLC__1SDV_20171010T162850_20171010T162917_018753_01FA68_A427\n",
      "68: S1A_IW_SLC__1SDV_20170928T162849_20170928T162916_018578_01F513_1921\n",
      "69: S1A_IW_SLC__1SDV_20171022T162850_20171022T162917_018928_01FFCB_BB43\n",
      "70: S1A_IW_SLC__1SDV_20171103T162850_20171103T162917_019103_02051D_32DF\n",
      "71: S1A_IW_SLC__1SDV_20171115T162849_20171115T162916_019278_020A93_022C\n",
      "72: S1B_IW_SLC__1SDV_20171117T033613_20171117T033640_008316_00EB73_A916\n",
      "73: S1A_IW_SLC__1SDV_20171127T162849_20171127T162916_019453_021015_0E75\n",
      "74: S1A_IW_SLC__1SDV_20171209T162849_20171209T162916_019628_02158E_9705\n",
      "75: S1A_IW_SLC__1SDV_20180102T162848_20180102T162915_019978_022078_116B\n",
      "76: S1A_IW_SLC__1SDV_20180114T162847_20180114T162914_020153_0225FE_5DC2\n",
      "77: S1B_IW_SLC__1SDV_20180116T033611_20180116T033638_009191_01075D_D01B\n",
      "78: S1A_IW_SLC__1SDV_20180126T162847_20180126T162914_020328_022B88_B9B1\n",
      "79: S1B_IW_SLC__1SDV_20180128T033610_20180128T033637_009366_010D16_7860\n",
      "80: S1A_IW_SLC__1SDV_20180207T162847_20180207T162914_020503_023121_C27D\n",
      "81: S1B_IW_SLC__1SDV_20180209T033610_20180209T033637_009541_0112D8_12B9\n",
      "82: S1A_IW_SLC__1SDV_20180219T162846_20180219T162913_020678_0236B5_A6C3\n",
      "83: S1B_IW_SLC__1SDV_20180221T033610_20180221T033637_009716_011893_0A66\n",
      "84: S1B_IW_SLC__1SDV_20180305T033610_20180305T033637_009891_011E69_4269\n",
      "85: S1A_IW_SLC__1SDV_20180303T162846_20180303T162913_020853_023C41_8E4A\n",
      "86: S1A_IW_SLC__1SDV_20180315T162847_20180315T162914_021028_0241CD_73BB\n",
      "87: S1A_IW_SLC__1SDV_20180327T162847_20180327T162914_021203_02475D_2355\n",
      "88: S1B_IW_SLC__1SDV_20180317T033610_20180317T033637_010066_01242D_F5F2\n",
      "89: S1A_IW_SLC__1SDV_20180408T162847_20180408T162914_021378_024CD6_734B\n",
      "90: S1A_IW_SLC__1SDV_20180420T162848_20180420T162915_021553_02524B_521B\n",
      "91: S1B_IW_SLC__1SDV_20180410T033611_20180410T033638_010416_012F8D_C860\n",
      "92: S1B_IW_SLC__1SDV_20180422T033611_20180422T033638_010591_013522_EB9E\n",
      "93: S1A_IW_SLC__1SDV_20180502T162848_20180502T162915_021728_0257CC_8B89\n",
      "94: S1B_IW_SLC__1SDV_20180504T033612_20180504T033639_010766_013AC7_9E1A\n",
      "95: S1A_IW_SLC__1SDV_20180514T162849_20180514T162916_021903_025D6B_70AA\n",
      "96: S1A_IW_SLC__1SDV_20180526T162850_20180526T162916_022078_0262F0_D415\n",
      "97: S1A_IW_SLC__1SDV_20180607T162850_20180607T162917_022253_026870_331B\n",
      "98: S1B_IW_SLC__1SDV_20180528T033613_20180528T033640_011116_014622_9FE9\n",
      "99: S1A_IW_SLC__1SDV_20180619T162851_20180619T162918_022428_026DD3_2C95\n",
      "100: S1A_IW_SLC__1SDV_20180701T162852_20180701T162919_022603_0272EC_7E0C\n",
      "101: S1B_IW_SLC__1SDV_20180703T033615_20180703T033642_011641_015681_5D03\n",
      "102: S1A_IW_SLC__1SDV_20180713T162852_20180713T162919_022778_027820_90EB\n",
      "103: S1A_IW_SLC__1SDV_20180725T162853_20180725T162920_022953_027DA7_DAD9\n",
      "104: S1B_IW_SLC__1SDV_20180727T033617_20180727T033644_011991_016130_85E2\n",
      "105: S1A_IW_SLC__1SDV_20180806T162854_20180806T162921_023128_02831D_A0C7\n",
      "106: S1B_IW_SLC__1SDV_20180808T033617_20180808T033644_012166_016683_B110\n",
      "107: S1A_IW_SLC__1SDV_20180818T162855_20180818T162921_023303_0288C8_CDA1\n",
      "108: S1A_IW_SLC__1SDV_20180830T162855_20180830T162922_023478_028E56_3390\n",
      "109: S1B_IW_SLC__1SDV_20180913T033619_20180913T033646_012691_0176B9_2F75\n",
      "110: S1A_IW_SLC__1SDV_20180911T162856_20180911T162923_023653_0293F0_D244\n",
      "111: S1A_IW_SLC__1SDV_20180923T162856_20180923T162923_023828_0299A2_0746\n",
      "112: S1A_IW_SLC__1SDV_20181005T162856_20181005T162923_024003_029F5A_7F04\n",
      "113: S1A_IW_SLC__1SDV_20181017T162856_20181017T162923_024178_02A512_2CBD\n",
      "114: S1B_IW_SLC__1SDV_20181007T033620_20181007T033647_013041_018174_C70D\n",
      "115: S1B_IW_SLC__1SDV_20181019T033620_20181019T033647_013216_0186D9_D2FA\n",
      "116: S1A_IW_SLC__1SDV_20181029T162856_20181029T162923_024353_02AAB1_E435\n",
      "117: S1B_IW_SLC__1SDV_20181031T033620_20181031T033647_013391_018C54_4A90\n",
      "118: S1A_IW_SLC__1SDV_20181110T162856_20181110T162923_024528_02B0FE_8134\n",
      "119: S1A_IW_SLC__1SDV_20181122T162856_20181122T162923_024703_02B76F_A2DB\n",
      "120: S1A_IW_SLC__1SDV_20181204T162856_20181204T162923_024878_02BD62_E77F\n",
      "121: S1A_IW_SLC__1SDV_20181216T162855_20181216T162922_025053_02C3AA_337A\n",
      "122: S1B_IW_SLC__1SDV_20181206T033619_20181206T033646_013916_019CF8_7E21\n",
      "123: S1B_IW_SLC__1SDV_20181218T033618_20181218T033645_014091_01A2B1_DA3D\n",
      "124: S1A_IW_SLC__1SDV_20181228T162855_20181228T162922_025228_02CA04_C03C\n",
      "125: S1B_IW_SLC__1SDV_20181230T033618_20181230T033645_014266_01A887_C15C\n",
      "126: S1A_IW_SLC__1SDV_20190109T162854_20190109T162921_025403_02D04F_2D50\n",
      "127: S1A_IW_SLC__1SDV_20190121T162854_20190121T162921_025578_02D6AE_F5A4\n",
      "128: S1A_IW_SLC__1SDV_20190214T162853_20190214T162920_025928_02E33F_B484\n",
      "129: S1A_IW_SLC__1SDV_20190202T162853_20190202T162920_025753_02DD0F_5F7D\n",
      "130: S1A_IW_SLC__1SDV_20190226T162853_20190226T162920_026103_02E986_6737\n",
      "131: S1A_IW_SLC__1SDV_20190310T162853_20190310T162920_026278_02EFD3_BBDE\n",
      "132: S1A_IW_SLC__1SDV_20190403T162853_20190403T162920_026628_02FCC0_8212\n",
      "133: S1A_IW_SLC__1SDV_20190322T162853_20190322T162920_026453_02F643_C7DD\n",
      "134: S1A_IW_SLC__1SDV_20190415T162854_20190415T162921_026803_03031E_2C8C\n",
      "135: S1A_IW_SLC__1SDV_20190427T162854_20190427T162921_026978_03096F_A930\n",
      "136: S1A_IW_SLC__1SDV_20190521T162855_20190521T162922_027328_03150C_D869\n",
      "137: S1A_IW_SLC__1SDV_20190509T162855_20190509T162922_027153_030F92_273B\n",
      "138: S1A_IW_SLC__1SDV_20190602T162856_20190602T162923_027503_031A7B_7D55\n",
      "139: S1A_IW_SLC__1SDV_20190614T162856_20190614T162923_027678_031FC7_1520\n",
      "140: S1A_IW_SLC__1SDV_20190626T162857_20190626T162924_027853_032502_2017\n",
      "141: S1A_IW_SLC__1SDV_20190708T162858_20190708T162925_028028_032A55_842A\n",
      "142: S1A_IW_SLC__1SDV_20190720T162859_20190720T162926_028203_032F9B_3964\n",
      "143: S1A_IW_SLC__1SDV_20190801T162900_20190801T162927_028378_0334F1_6214\n",
      "144: S1A_IW_SLC__1SDV_20190813T162901_20190813T162928_028553_033AA8_72BF\n",
      "145: S1A_IW_SLC__1SDV_20190825T162901_20190825T162928_028728_0340B3_00B3\n",
      "146: S1A_IW_SLC__1SDV_20190906T162902_20190906T162929_028903_0346CE_BC7E\n",
      "147: S1A_IW_SLC__1SDV_20190918T162902_20190918T162929_029078_034CDD_FB57\n",
      "148: S1A_IW_SLC__1SDV_20190930T162903_20190930T162930_029253_0352E3_F583\n",
      "149: S1A_IW_SLC__1SDV_20191012T162903_20191012T162930_029428_0358E4_5088\n",
      "150: S1A_IW_SLC__1SDV_20191024T162903_20191024T162930_029603_035EE6_588D\n",
      "151: S1A_IW_SLC__1SDV_20191105T162903_20191105T162930_029778_03650A_02E9\n",
      "152: S1A_IW_SLC__1SDV_20191117T162903_20191117T162930_029953_036B2C_71E1\n",
      "153: S1A_IW_SLC__1SDV_20191129T162902_20191129T162929_030128_03713C_B3E1\n",
      "154: S1A_IW_SLC__1SDV_20191211T162902_20191211T162929_030303_037742_245E\n",
      "155: S1A_IW_SLC__1SDV_20191223T162901_20191223T162928_030478_037D4F_C0AE\n",
      "156: S1B_IW_SLC__1SSV_20170103T161137_20170103T161204_003686_00653D_DC77\n",
      "157: S1B_IW_SLC__1SDV_20170113T030256_20170113T030323_003824_006932_78C2\n",
      "158: S1B_IW_SLC__1SDV_20170111T031914_20170111T031942_003795_00685F_7C8B\n",
      "159: S1B_IW_SLC__1SSV_20170117T155522_20170117T155549_003890_006B27_8927\n",
      "160: S1B_IW_SLC__1SSV_20170124T154703_20170124T154730_003992_006E3A_80C3\n",
      "161: S1B_IW_SLC__1SSV_20170127T161137_20170127T161204_004036_006F95_AE91\n",
      "162: S1B_IW_SLC__1SDV_20170206T030255_20170206T030322_004174_007398_7474\n",
      "163: S1B_IW_SLC__1SDV_20170204T031913_20170204T031941_004145_0072BE_6035\n",
      "164: S1B_IW_SLC__1SSV_20170210T155521_20170210T155548_004240_00759A_8621\n",
      "165: S1B_IW_SLC__1SSV_20170217T154703_20170217T154730_004342_0078AB_A6A8\n",
      "166: S1B_IW_SLC__1SSV_20170220T161136_20170220T161203_004386_007A0B_DF36\n",
      "167: S1B_IW_SLC__1SSV_20170222T155521_20170222T155548_004415_007AE7_5F89\n",
      "168: S1B_IW_SLC__1SDV_20170228T031913_20170228T031941_004495_007D2E_53C4\n",
      "169: S1B_IW_SLC__1SSV_20170301T154703_20170301T154730_004517_007DCD_726B\n",
      "170: S1B_IW_SLC__1SDV_20170302T030255_20170302T030322_004524_007E02_6010\n",
      "171: S1B_IW_SLC__1SSV_20170304T161136_20170304T161203_004561_007F26_8522\n",
      "172: S1B_IW_SLC__1SSV_20170306T155521_20170306T155548_004590_008000_D5EC\n",
      "173: S1B_IW_SLC__1SDV_20170312T031913_20170312T031941_004670_008251_235D\n",
      "174: S1B_IW_SLC__1SSV_20170313T154703_20170313T154730_004692_0082FD_59A0\n",
      "175: S1B_IW_SLC__1SDV_20170314T030255_20170314T030322_004699_008330_5BDF\n",
      "176: S1B_IW_SLC__1SSV_20170316T161136_20170316T161203_004736_008452_9FEF\n",
      "177: S1B_IW_SLC__1SDV_20170324T031913_20170324T031941_004845_008766_017C\n",
      "178: S1B_IW_SLC__1SDV_20170326T030255_20170326T030322_004874_008832_09D0\n",
      "179: S1B_IW_SLC__1SDV_20170405T031914_20170405T031942_005020_008C75_B411\n",
      "180: S1B_IW_SLC__1SDV_20170407T030256_20170407T030323_005049_008D40_895A\n",
      "181: S1B_IW_SLC__1SDV_20170417T031914_20170417T031942_005195_009174_BB33\n",
      "182: S1B_IW_SLC__1SDV_20170429T031915_20170429T031943_005370_009693_6B78\n",
      "183: S1B_IW_SLC__1SDV_20170419T030256_20170419T030323_005224_009249_BC20\n",
      "184: S1B_IW_SLC__1SDV_20170501T030257_20170501T030324_005399_009762_42EF\n",
      "185: S1A_IW_SLC__1SSV_20170511T155606_20170511T155633_016536_01B692_4F4F\n",
      "186: S1B_IW_SLC__1SDV_20170511T031915_20170511T031943_005545_009B64_87A8\n",
      "187: S1B_IW_SLC__1SDV_20170513T030257_20170513T030324_005574_009C2E_8852\n",
      "188: S1A_IW_SLC__1SSV_20170518T154748_20170518T154815_016638_01B9BD_EFBC\n",
      "189: S1B_IW_SLC__1SDV_20170523T031916_20170523T031944_005720_00A055_61B7\n",
      "190: S1A_IW_SLC__1SSV_20170523T155606_20170523T155633_016711_01BBFB_62CF\n",
      "191: S1A_IW_SLC__1SSV_20170530T154748_20170530T154815_016813_01BF22_841C\n",
      "192: S1A_IW_SLC__1SSV_20170602T161222_20170602T161245_016857_01C07F_A6A8\n",
      "193: S1B_IW_SLC__1SDV_20170604T031917_20170604T031945_005895_00A568_EB56\n",
      "194: S1A_IW_SLC__1SDV_20170604T155607_20170604T155634_016886_01C167_19EE\n",
      "195: S1B_IW_SLC__1SDV_20170606T030259_20170606T030326_005924_00A63E_8989\n",
      "196: S1A_IW_SLC__1SDV_20170614T161223_20170614T161246_017032_01C5EA_FF72\n",
      "197: S1A_IW_SLC__1SDV_20170611T154749_20170611T154816_016988_01C490_82A4\n",
      "198: S1A_IW_SLC__1SDV_20170616T155608_20170616T155635_017061_01C6CC_B9B8\n",
      "199: S1B_IW_SLC__1SDV_20170616T031917_20170616T031945_006070_00AA8F_2EF3\n",
      "200: S1B_IW_SLC__1SDV_20170618T030300_20170618T030327_006099_00AB61_591A\n",
      "201: S1A_IW_SLC__1SDV_20170623T154750_20170623T154817_017163_01C9E9_7E04\n",
      "202: S1B_IW_SLC__1SDV_20170628T031918_20170628T031946_006245_00AFA2_657B\n",
      "203: S1A_IW_SLC__1SDV_20170628T155608_20170628T155635_017236_01CC1A_AE50\n",
      "204: S1B_IW_SLC__1SDV_20170630T030300_20170630T030327_006274_00B071_68AB\n",
      "205: S1A_IW_SLC__1SDV_20170705T154750_20170705T154817_017338_01CF34_BC8F\n",
      "206: S1B_IW_SLC__1SDV_20170710T031919_20170710T031947_006420_00B491_4D36\n",
      "207: S1A_IW_SLC__1SDV_20170710T155609_20170710T155636_017411_01D162_76EB\n",
      "208: S1A_IW_SLC__1SDV_20170717T154751_20170717T154818_017513_01D485_D502\n",
      "209: S1B_IW_SLC__1SDV_20170722T031920_20170722T031947_006595_00B992_9C76\n",
      "210: S1A_IW_SLC__1SDV_20170722T155610_20170722T155637_017586_01D6B5_8062\n",
      "211: S1A_IW_SLC__1SDV_20170729T154752_20170729T154819_017688_01D9E0_C08A\n",
      "212: S1A_IW_SLC__1SDV_20170803T155610_20170803T155637_017761_01DC0D_A35E\n",
      "213: S1B_IW_SLC__1SDV_20170805T030302_20170805T030329_006799_00BF67_8DA5\n",
      "214: S1A_IW_SLC__1SDV_20170810T154753_20170810T154820_017863_01DF34_0964\n",
      "215: S1A_IW_SLC__1SDV_20170813T161226_20170813T161249_017907_01E07F_F485\n",
      "216: S1B_IW_SLC__1SDV_20170815T031921_20170815T031949_006945_00C3B3_6142\n",
      "217: S1A_IW_SLC__1SDV_20170815T155611_20170815T155638_017936_01E162_832E\n",
      "218: S1B_IW_SLC__1SDV_20170817T030303_20170817T030330_006974_00C481_CEC4\n",
      "219: S1A_IW_SLC__1SDV_20170822T154753_20170822T154820_018038_01E485_D18C\n",
      "220: S1B_IW_SLC__1SDV_20170827T031921_20170827T031949_007120_00C8C4_A3A4\n",
      "221: S1A_IW_SLC__1SDV_20170827T155612_20170827T155639_018111_01E6AD_BC85\n",
      "222: S1B_IW_SLC__1SDV_20170829T030303_20170829T030330_007149_00C990_1CD7\n",
      "223: S1A_IW_SLC__1SDV_20170903T154754_20170903T154821_018213_01E9CA_59D5\n",
      "224: S1B_IW_SLC__1SDV_20170908T031922_20170908T031950_007295_00CDDC_D1A6\n",
      "225: S1A_IW_SLC__1SDV_20170908T155612_20170908T155639_018286_01EC04_FA40\n",
      "226: S1B_IW_SLC__1SDV_20170910T030304_20170910T030331_007324_00CEAF_3C0B\n",
      "227: S1A_IW_SLC__1SDV_20170915T154754_20170915T154821_018388_01EF3E_5456\n",
      "228: S1B_IW_SLC__1SDV_20170920T031922_20170920T031950_007470_00D2FC_E983\n",
      "229: S1A_IW_SLC__1SDV_20170920T155613_20170920T155640_018461_01F166_840B\n",
      "230: S1B_IW_SLC__1SDV_20170922T030304_20170922T030331_007499_00D3CF_6071\n",
      "231: S1A_IW_SLC__1SDV_20170927T154754_20170927T154821_018563_01F499_62E4\n",
      "232: S1A_IW_SLC__1SDV_20170930T161228_20170930T161251_018607_01F5ED_BC78\n",
      "233: S1B_IW_SLC__1SDV_20171002T031923_20171002T031950_007645_00D7FD_0E5C\n",
      "234: S1A_IW_SLC__1SDV_20171002T155613_20171002T155640_018636_01F6CA_042B\n",
      "235: S1A_IW_SLC__1SDV_20171009T154755_20171009T154822_018738_01F9E9_D9A6\n",
      "236: S1A_IW_SLC__1SDV_20171012T161228_20171012T161251_018782_01FB3C_64F8\n",
      "237: S1A_IW_SLC__1SDV_20171014T155613_20171014T155640_018811_01FC1A_770C\n",
      "238: S1B_IW_SLC__1SDV_20171016T030305_20171016T030332_007849_00DDBD_55C3\n",
      "239: S1A_IW_SLC__1SDV_20171021T154755_20171021T154822_018913_01FF4E_6DDB\n",
      "240: S1A_IW_SLC__1SDV_20171026T155613_20171026T155640_018986_020169_6B71\n",
      "241: S1A_IW_SLC__1SDV_20171024T161228_20171024T161252_018957_020098_67B8\n",
      "242: S1B_IW_SLC__1SDV_20171028T030305_20171028T030332_008024_00E2CD_023F\n",
      "243: S1A_IW_SLC__1SDV_20171102T154755_20171102T154822_019088_02049D_DB77\n",
      "244: S1B_IW_SLC__1SDV_20171107T031923_20171107T031951_008170_00E708_F1CA\n",
      "245: S1B_IW_SLC__1SDV_20171109T030305_20171109T030332_008199_00E7DA_3CEB\n",
      "246: S1A_IW_SLC__1SDV_20171107T155613_20171107T155640_019161_0206D6_B384\n",
      "247: S1A_IW_SLC__1SDV_20171114T154754_20171114T154821_019263_020A12_41F8\n",
      "248: S1A_IW_SLC__1SDV_20171117T161228_20171117T161251_019307_020B69_B659\n",
      "249: S1A_IW_SLC__1SDV_20171119T155613_20171119T155640_019336_020C52_5093\n",
      "250: S1B_IW_SLC__1SDV_20171121T030304_20171121T030331_008374_00ED30_F307\n",
      "251: S1A_IW_SLC__1SDV_20171126T154754_20171126T154821_019438_020F9C_C7EE\n",
      "252: S1B_IW_SLC__1SDV_20171201T031922_20171201T031950_008520_00F1C6_993A\n",
      "253: S1A_IW_SLC__1SDV_20171129T161228_20171129T161251_019482_0210EE_0C3E\n",
      "254: S1A_IW_SLC__1SDV_20171201T155612_20171201T155639_019511_0211CB_C30A\n",
      "255: S1B_IW_SLC__1SDV_20171203T030304_20171203T030331_008549_00F2AE_DE90\n",
      "256: S1A_IW_SLC__1SDV_20171208T154754_20171208T154821_019613_02150F_FBDD\n",
      "257: S1A_IW_SLC__1SDV_20171211T161227_20171211T161250_019657_021668_FFE6\n",
      "258: S1B_IW_SLC__1SDV_20171213T031922_20171213T031950_008695_00F752_4A4B\n",
      "259: S1A_IW_SLC__1SDV_20171213T155612_20171213T155639_019686_021746_0F1B\n",
      "260: S1B_IW_SLC__1SDV_20171215T030304_20171215T030331_008724_00F83B_A896\n",
      "261: S1A_IW_SLC__1SDV_20171220T154753_20171220T154820_019788_021A83_2F06\n",
      "262: S1A_IW_SLC__1SDV_20171223T161226_20171223T161250_019832_021BCB_26CB\n",
      "263: S1A_IW_SLC__1SDV_20171225T155611_20171225T155638_019861_021CAB_A3D2\n",
      "264: S1B_IW_SLC__1SDV_20171227T030303_20171227T030330_008899_00FDD7_9134\n"
     ]
    }
   ],
   "source": [
    "usegranules = [i.properties['sceneName'] for i in results]\n",
    "# joblist = hyp3.find_jobs()\n",
    "# joblist = joblist.filter_jobs(succeeded=True,include_expired=False)\n",
    "# joblen = len(results)-1\n",
    "\n",
    "#NOTE: a result that is listed by has no file is: 1201T...22\n",
    "#      a file that exists by has no result is:    \n",
    "\n",
    "job = joblist[-11]\n",
    "jobname = job.job_parameters['granules']\n",
    "print(jobname)\n",
    "# job.download_files(download_path)\n",
    "# reproject(WTKstr,EPSGn,products_path,f'{str(clipped_path)}/{pol}',convert_to_db=True)\n",
    "# os.system(f'rm {str(products_path)}/*.tif')\n",
    "# os.system(f'rm {str(download_path)}/*.zip')\n",
    "for i,job in enumerate(joblist):\n",
    "    print(f'{i}: {job.job_parameters[\"granules\"][0]}')"
   ]
  },
  {
   "cell_type": "code",
   "execution_count": 26,
   "id": "660ac013-0c71-4e74-bc76-16238c5cac17",
   "metadata": {
    "tags": []
   },
   "outputs": [
    {
     "data": {
      "application/json": {
       "ascii": false,
       "bar_format": null,
       "colour": null,
       "elapsed": 0.019509077072143555,
       "initial": 0,
       "n": 0,
       "ncols": null,
       "nrows": null,
       "postfix": null,
       "prefix": "S1B_IW_20170103T161137_SVP_RTC30_G_gpuned_1404.zip",
       "rate": null,
       "total": 223438636,
       "unit": "it",
       "unit_divisor": 1000,
       "unit_scale": false
      },
      "application/vnd.jupyter.widget-view+json": {
       "model_id": "35d53223c7e1490ba3aab6359d027cd5",
       "version_major": 2,
       "version_minor": 0
      },
      "text/plain": [
       "S1B_IW_20170103T161137_SVP_RTC30_G_gpuned_1404.zip:   0%|          | 0/223438636 [00:00<?, ?it/s]"
      ]
     },
     "metadata": {},
     "output_type": "display_data"
    },
    {
     "name": "stdout",
     "output_type": "stream",
     "text": [
      "32606\n"
     ]
    },
    {
     "name": "stderr",
     "output_type": "stream",
     "text": [
      "rm: cannot remove '/home/jovyan/GlacierSARdata/Wrangell/2017/rtc_products/*.tif': No such file or directory\n"
     ]
    },
    {
     "data": {
      "application/json": {
       "ascii": false,
       "bar_format": null,
       "colour": null,
       "elapsed": 0.019578218460083008,
       "initial": 0,
       "n": 0,
       "ncols": null,
       "nrows": null,
       "postfix": null,
       "prefix": "S1B_IW_20170113T030256_DVP_RTC30_G_gpuned_A161.zip",
       "rate": null,
       "total": 450185437,
       "unit": "it",
       "unit_divisor": 1000,
       "unit_scale": false
      },
      "application/vnd.jupyter.widget-view+json": {
       "model_id": "56c4d0474ec141b5b11037ba38ec6e47",
       "version_major": 2,
       "version_minor": 0
      },
      "text/plain": [
       "S1B_IW_20170113T030256_DVP_RTC30_G_gpuned_A161.zip:   0%|          | 0/450185437 [00:00<?, ?it/s]"
      ]
     },
     "metadata": {},
     "output_type": "display_data"
    },
    {
     "data": {
      "application/json": {
       "ascii": false,
       "bar_format": null,
       "colour": null,
       "elapsed": 0.019751310348510742,
       "initial": 0,
       "n": 0,
       "ncols": null,
       "nrows": null,
       "postfix": null,
       "prefix": "S1B_IW_20170111T031914_DVP_RTC30_G_gpuned_FF1C.zip",
       "rate": null,
       "total": 468905528,
       "unit": "it",
       "unit_divisor": 1000,
       "unit_scale": false
      },
      "application/vnd.jupyter.widget-view+json": {
       "model_id": "dce6a812b1ca4ef59b662cd75b91b6ce",
       "version_major": 2,
       "version_minor": 0
      },
      "text/plain": [
       "S1B_IW_20170111T031914_DVP_RTC30_G_gpuned_FF1C.zip:   0%|          | 0/468905528 [00:00<?, ?it/s]"
      ]
     },
     "metadata": {},
     "output_type": "display_data"
    },
    {
     "data": {
      "application/json": {
       "ascii": false,
       "bar_format": null,
       "colour": null,
       "elapsed": 0.019526243209838867,
       "initial": 0,
       "n": 0,
       "ncols": null,
       "nrows": null,
       "postfix": null,
       "prefix": "S1B_IW_20170117T155522_SVP_RTC30_G_gpuned_5F65.zip",
       "rate": null,
       "total": 224995070,
       "unit": "it",
       "unit_divisor": 1000,
       "unit_scale": false
      },
      "application/vnd.jupyter.widget-view+json": {
       "model_id": "3f446df69aad49c4b769e5f0d9c12223",
       "version_major": 2,
       "version_minor": 0
      },
      "text/plain": [
       "S1B_IW_20170117T155522_SVP_RTC30_G_gpuned_5F65.zip:   0%|          | 0/224995070 [00:00<?, ?it/s]"
      ]
     },
     "metadata": {},
     "output_type": "display_data"
    },
    {
     "name": "stderr",
     "output_type": "stream",
     "text": [
      "rm: cannot remove '/home/jovyan/GlacierSARdata/Wrangell/2017/rtc_products/*.tif': No such file or directory\n"
     ]
    },
    {
     "data": {
      "application/json": {
       "ascii": false,
       "bar_format": null,
       "colour": null,
       "elapsed": 0.020044326782226562,
       "initial": 0,
       "n": 0,
       "ncols": null,
       "nrows": null,
       "postfix": null,
       "prefix": "S1B_IW_20170124T154703_SVP_RTC30_G_gpuned_F2E4.zip",
       "rate": null,
       "total": 224949853,
       "unit": "it",
       "unit_divisor": 1000,
       "unit_scale": false
      },
      "application/vnd.jupyter.widget-view+json": {
       "model_id": "fdbfc2446ea1429c94d2411456091a5f",
       "version_major": 2,
       "version_minor": 0
      },
      "text/plain": [
       "S1B_IW_20170124T154703_SVP_RTC30_G_gpuned_F2E4.zip:   0%|          | 0/224949853 [00:00<?, ?it/s]"
      ]
     },
     "metadata": {},
     "output_type": "display_data"
    },
    {
     "name": "stderr",
     "output_type": "stream",
     "text": [
      "rm: cannot remove '/home/jovyan/GlacierSARdata/Wrangell/2017/rtc_products/*.tif': No such file or directory\n"
     ]
    },
    {
     "data": {
      "application/json": {
       "ascii": false,
       "bar_format": null,
       "colour": null,
       "elapsed": 0.02014899253845215,
       "initial": 0,
       "n": 0,
       "ncols": null,
       "nrows": null,
       "postfix": null,
       "prefix": "S1B_IW_20170127T161137_SVP_RTC30_G_gpuned_10EF.zip",
       "rate": null,
       "total": 222936908,
       "unit": "it",
       "unit_divisor": 1000,
       "unit_scale": false
      },
      "application/vnd.jupyter.widget-view+json": {
       "model_id": "b9f85eed702240799edbe84258bae86f",
       "version_major": 2,
       "version_minor": 0
      },
      "text/plain": [
       "S1B_IW_20170127T161137_SVP_RTC30_G_gpuned_10EF.zip:   0%|          | 0/222936908 [00:00<?, ?it/s]"
      ]
     },
     "metadata": {},
     "output_type": "display_data"
    },
    {
     "name": "stderr",
     "output_type": "stream",
     "text": [
      "rm: cannot remove '/home/jovyan/GlacierSARdata/Wrangell/2017/rtc_products/*.tif': No such file or directory\n"
     ]
    },
    {
     "data": {
      "application/json": {
       "ascii": false,
       "bar_format": null,
       "colour": null,
       "elapsed": 0.019368886947631836,
       "initial": 0,
       "n": 0,
       "ncols": null,
       "nrows": null,
       "postfix": null,
       "prefix": "S1B_IW_20170206T030255_DVP_RTC30_G_gpuned_333E.zip",
       "rate": null,
       "total": 449550481,
       "unit": "it",
       "unit_divisor": 1000,
       "unit_scale": false
      },
      "application/vnd.jupyter.widget-view+json": {
       "model_id": "e287b7498773465995b611ed76a95a9e",
       "version_major": 2,
       "version_minor": 0
      },
      "text/plain": [
       "S1B_IW_20170206T030255_DVP_RTC30_G_gpuned_333E.zip:   0%|          | 0/449550481 [00:00<?, ?it/s]"
      ]
     },
     "metadata": {},
     "output_type": "display_data"
    },
    {
     "data": {
      "application/json": {
       "ascii": false,
       "bar_format": null,
       "colour": null,
       "elapsed": 0.01981043815612793,
       "initial": 0,
       "n": 0,
       "ncols": null,
       "nrows": null,
       "postfix": null,
       "prefix": "S1B_IW_20170204T031913_DVP_RTC30_G_gpuned_1072.zip",
       "rate": null,
       "total": 468021191,
       "unit": "it",
       "unit_divisor": 1000,
       "unit_scale": false
      },
      "application/vnd.jupyter.widget-view+json": {
       "model_id": "0f812fec5af24697a8765073a3b8302d",
       "version_major": 2,
       "version_minor": 0
      },
      "text/plain": [
       "S1B_IW_20170204T031913_DVP_RTC30_G_gpuned_1072.zip:   0%|          | 0/468021191 [00:00<?, ?it/s]"
      ]
     },
     "metadata": {},
     "output_type": "display_data"
    },
    {
     "data": {
      "application/json": {
       "ascii": false,
       "bar_format": null,
       "colour": null,
       "elapsed": 0.01930832862854004,
       "initial": 0,
       "n": 0,
       "ncols": null,
       "nrows": null,
       "postfix": null,
       "prefix": "S1B_IW_20170210T155521_SVP_RTC30_G_gpuned_5562.zip",
       "rate": null,
       "total": 225106982,
       "unit": "it",
       "unit_divisor": 1000,
       "unit_scale": false
      },
      "application/vnd.jupyter.widget-view+json": {
       "model_id": "400e30b4bed544bab1b013631a887a1e",
       "version_major": 2,
       "version_minor": 0
      },
      "text/plain": [
       "S1B_IW_20170210T155521_SVP_RTC30_G_gpuned_5562.zip:   0%|          | 0/225106982 [00:00<?, ?it/s]"
      ]
     },
     "metadata": {},
     "output_type": "display_data"
    },
    {
     "name": "stderr",
     "output_type": "stream",
     "text": [
      "rm: cannot remove '/home/jovyan/GlacierSARdata/Wrangell/2017/rtc_products/*.tif': No such file or directory\n"
     ]
    },
    {
     "name": "stdout",
     "output_type": "stream",
     "text": [
      "Current job: 10/108, time elapsed: 2.48 min, time remaining: 1.46 min\n"
     ]
    },
    {
     "data": {
      "application/json": {
       "ascii": false,
       "bar_format": null,
       "colour": null,
       "elapsed": 0.019200563430786133,
       "initial": 0,
       "n": 0,
       "ncols": null,
       "nrows": null,
       "postfix": null,
       "prefix": "S1B_IW_20170217T154703_SVP_RTC30_G_gpuned_3667.zip",
       "rate": null,
       "total": 224766051,
       "unit": "it",
       "unit_divisor": 1000,
       "unit_scale": false
      },
      "application/vnd.jupyter.widget-view+json": {
       "model_id": "bbab8907ee09495db75afdf6047d332d",
       "version_major": 2,
       "version_minor": 0
      },
      "text/plain": [
       "S1B_IW_20170217T154703_SVP_RTC30_G_gpuned_3667.zip:   0%|          | 0/224766051 [00:00<?, ?it/s]"
      ]
     },
     "metadata": {},
     "output_type": "display_data"
    },
    {
     "name": "stderr",
     "output_type": "stream",
     "text": [
      "rm: cannot remove '/home/jovyan/GlacierSARdata/Wrangell/2017/rtc_products/*.tif': No such file or directory\n"
     ]
    },
    {
     "data": {
      "application/json": {
       "ascii": false,
       "bar_format": null,
       "colour": null,
       "elapsed": 0.020479679107666016,
       "initial": 0,
       "n": 0,
       "ncols": null,
       "nrows": null,
       "postfix": null,
       "prefix": "S1B_IW_20170220T161136_SVP_RTC30_G_gpuned_A01D.zip",
       "rate": null,
       "total": 223228523,
       "unit": "it",
       "unit_divisor": 1000,
       "unit_scale": false
      },
      "application/vnd.jupyter.widget-view+json": {
       "model_id": "ce67793763424e50ab5a860fddf4b9e5",
       "version_major": 2,
       "version_minor": 0
      },
      "text/plain": [
       "S1B_IW_20170220T161136_SVP_RTC30_G_gpuned_A01D.zip:   0%|          | 0/223228523 [00:00<?, ?it/s]"
      ]
     },
     "metadata": {},
     "output_type": "display_data"
    },
    {
     "name": "stderr",
     "output_type": "stream",
     "text": [
      "rm: cannot remove '/home/jovyan/GlacierSARdata/Wrangell/2017/rtc_products/*.tif': No such file or directory\n"
     ]
    },
    {
     "data": {
      "application/json": {
       "ascii": false,
       "bar_format": null,
       "colour": null,
       "elapsed": 0.019205808639526367,
       "initial": 0,
       "n": 0,
       "ncols": null,
       "nrows": null,
       "postfix": null,
       "prefix": "S1B_IW_20170222T155521_SVP_RTC30_G_gpuned_4C5E.zip",
       "rate": null,
       "total": 225159809,
       "unit": "it",
       "unit_divisor": 1000,
       "unit_scale": false
      },
      "application/vnd.jupyter.widget-view+json": {
       "model_id": "6b8b4ff8199e4aa49d54217b592ab21e",
       "version_major": 2,
       "version_minor": 0
      },
      "text/plain": [
       "S1B_IW_20170222T155521_SVP_RTC30_G_gpuned_4C5E.zip:   0%|          | 0/225159809 [00:00<?, ?it/s]"
      ]
     },
     "metadata": {},
     "output_type": "display_data"
    },
    {
     "name": "stderr",
     "output_type": "stream",
     "text": [
      "rm: cannot remove '/home/jovyan/GlacierSARdata/Wrangell/2017/rtc_products/*.tif': No such file or directory\n"
     ]
    },
    {
     "data": {
      "application/json": {
       "ascii": false,
       "bar_format": null,
       "colour": null,
       "elapsed": 0.019357919692993164,
       "initial": 0,
       "n": 0,
       "ncols": null,
       "nrows": null,
       "postfix": null,
       "prefix": "S1B_IW_20170228T031913_DVP_RTC30_G_gpuned_9F15.zip",
       "rate": null,
       "total": 467773371,
       "unit": "it",
       "unit_divisor": 1000,
       "unit_scale": false
      },
      "application/vnd.jupyter.widget-view+json": {
       "model_id": "6c3cfe7d417d43acbecc3793f34b82ab",
       "version_major": 2,
       "version_minor": 0
      },
      "text/plain": [
       "S1B_IW_20170228T031913_DVP_RTC30_G_gpuned_9F15.zip:   0%|          | 0/467773371 [00:00<?, ?it/s]"
      ]
     },
     "metadata": {},
     "output_type": "display_data"
    },
    {
     "data": {
      "application/json": {
       "ascii": false,
       "bar_format": null,
       "colour": null,
       "elapsed": 0.019537925720214844,
       "initial": 0,
       "n": 0,
       "ncols": null,
       "nrows": null,
       "postfix": null,
       "prefix": "S1B_IW_20170301T154703_SVP_RTC30_G_gpuned_12C6.zip",
       "rate": null,
       "total": 225083666,
       "unit": "it",
       "unit_divisor": 1000,
       "unit_scale": false
      },
      "application/vnd.jupyter.widget-view+json": {
       "model_id": "7eed59f025a24284867ac21d51a63644",
       "version_major": 2,
       "version_minor": 0
      },
      "text/plain": [
       "S1B_IW_20170301T154703_SVP_RTC30_G_gpuned_12C6.zip:   0%|          | 0/225083666 [00:00<?, ?it/s]"
      ]
     },
     "metadata": {},
     "output_type": "display_data"
    },
    {
     "name": "stderr",
     "output_type": "stream",
     "text": [
      "rm: cannot remove '/home/jovyan/GlacierSARdata/Wrangell/2017/rtc_products/*.tif': No such file or directory\n"
     ]
    },
    {
     "data": {
      "application/json": {
       "ascii": false,
       "bar_format": null,
       "colour": null,
       "elapsed": 0.019474267959594727,
       "initial": 0,
       "n": 0,
       "ncols": null,
       "nrows": null,
       "postfix": null,
       "prefix": "S1B_IW_20170302T030255_DVP_RTC30_G_gpuned_47A3.zip",
       "rate": null,
       "total": 449363055,
       "unit": "it",
       "unit_divisor": 1000,
       "unit_scale": false
      },
      "application/vnd.jupyter.widget-view+json": {
       "model_id": "dc10a93d9dd247c28ed6ca1aa9758347",
       "version_major": 2,
       "version_minor": 0
      },
      "text/plain": [
       "S1B_IW_20170302T030255_DVP_RTC30_G_gpuned_47A3.zip:   0%|          | 0/449363055 [00:00<?, ?it/s]"
      ]
     },
     "metadata": {},
     "output_type": "display_data"
    },
    {
     "data": {
      "application/json": {
       "ascii": false,
       "bar_format": null,
       "colour": null,
       "elapsed": 0.019412517547607422,
       "initial": 0,
       "n": 0,
       "ncols": null,
       "nrows": null,
       "postfix": null,
       "prefix": "S1B_IW_20170304T161136_SVP_RTC30_G_gpuned_2224.zip",
       "rate": null,
       "total": 223349686,
       "unit": "it",
       "unit_divisor": 1000,
       "unit_scale": false
      },
      "application/vnd.jupyter.widget-view+json": {
       "model_id": "171debf2a43b4aaf8aaa08a5c0003283",
       "version_major": 2,
       "version_minor": 0
      },
      "text/plain": [
       "S1B_IW_20170304T161136_SVP_RTC30_G_gpuned_2224.zip:   0%|          | 0/223349686 [00:00<?, ?it/s]"
      ]
     },
     "metadata": {},
     "output_type": "display_data"
    },
    {
     "name": "stderr",
     "output_type": "stream",
     "text": [
      "rm: cannot remove '/home/jovyan/GlacierSARdata/Wrangell/2017/rtc_products/*.tif': No such file or directory\n"
     ]
    },
    {
     "data": {
      "application/json": {
       "ascii": false,
       "bar_format": null,
       "colour": null,
       "elapsed": 0.019594907760620117,
       "initial": 0,
       "n": 0,
       "ncols": null,
       "nrows": null,
       "postfix": null,
       "prefix": "S1B_IW_20170306T155521_SVP_RTC30_G_gpuned_1FE3.zip",
       "rate": null,
       "total": 225208157,
       "unit": "it",
       "unit_divisor": 1000,
       "unit_scale": false
      },
      "application/vnd.jupyter.widget-view+json": {
       "model_id": "1fe493f47f824e7592d34ae6fd5f9291",
       "version_major": 2,
       "version_minor": 0
      },
      "text/plain": [
       "S1B_IW_20170306T155521_SVP_RTC30_G_gpuned_1FE3.zip:   0%|          | 0/225208157 [00:00<?, ?it/s]"
      ]
     },
     "metadata": {},
     "output_type": "display_data"
    },
    {
     "name": "stderr",
     "output_type": "stream",
     "text": [
      "rm: cannot remove '/home/jovyan/GlacierSARdata/Wrangell/2017/rtc_products/*.tif': No such file or directory\n"
     ]
    },
    {
     "data": {
      "application/json": {
       "ascii": false,
       "bar_format": null,
       "colour": null,
       "elapsed": 0.0192873477935791,
       "initial": 0,
       "n": 0,
       "ncols": null,
       "nrows": null,
       "postfix": null,
       "prefix": "S1B_IW_20170312T031913_DVP_RTC30_G_gpuned_FA02.zip",
       "rate": null,
       "total": 467880217,
       "unit": "it",
       "unit_divisor": 1000,
       "unit_scale": false
      },
      "application/vnd.jupyter.widget-view+json": {
       "model_id": "8eb682ecfc424e91a3adeb006c781373",
       "version_major": 2,
       "version_minor": 0
      },
      "text/plain": [
       "S1B_IW_20170312T031913_DVP_RTC30_G_gpuned_FA02.zip:   0%|          | 0/467880217 [00:00<?, ?it/s]"
      ]
     },
     "metadata": {},
     "output_type": "display_data"
    },
    {
     "data": {
      "application/json": {
       "ascii": false,
       "bar_format": null,
       "colour": null,
       "elapsed": 0.01995563507080078,
       "initial": 0,
       "n": 0,
       "ncols": null,
       "nrows": null,
       "postfix": null,
       "prefix": "S1B_IW_20170313T154703_SVP_RTC30_G_gpuned_14BF.zip",
       "rate": null,
       "total": 224803475,
       "unit": "it",
       "unit_divisor": 1000,
       "unit_scale": false
      },
      "application/vnd.jupyter.widget-view+json": {
       "model_id": "82d174bd5e0942d0a70e7512f80402db",
       "version_major": 2,
       "version_minor": 0
      },
      "text/plain": [
       "S1B_IW_20170313T154703_SVP_RTC30_G_gpuned_14BF.zip:   0%|          | 0/224803475 [00:00<?, ?it/s]"
      ]
     },
     "metadata": {},
     "output_type": "display_data"
    },
    {
     "name": "stderr",
     "output_type": "stream",
     "text": [
      "rm: cannot remove '/home/jovyan/GlacierSARdata/Wrangell/2017/rtc_products/*.tif': No such file or directory\n"
     ]
    },
    {
     "name": "stdout",
     "output_type": "stream",
     "text": [
      "Current job: 20/108, time elapsed: 5.07 min, time remaining: 2.54 min\n"
     ]
    },
    {
     "data": {
      "application/json": {
       "ascii": false,
       "bar_format": null,
       "colour": null,
       "elapsed": 0.019738435745239258,
       "initial": 0,
       "n": 0,
       "ncols": null,
       "nrows": null,
       "postfix": null,
       "prefix": "S1B_IW_20170314T030255_DVP_RTC30_G_gpuned_201D.zip",
       "rate": null,
       "total": 449150915,
       "unit": "it",
       "unit_divisor": 1000,
       "unit_scale": false
      },
      "application/vnd.jupyter.widget-view+json": {
       "model_id": "1ec009670673434baf91fe70ac04b827",
       "version_major": 2,
       "version_minor": 0
      },
      "text/plain": [
       "S1B_IW_20170314T030255_DVP_RTC30_G_gpuned_201D.zip:   0%|          | 0/449150915 [00:00<?, ?it/s]"
      ]
     },
     "metadata": {},
     "output_type": "display_data"
    },
    {
     "data": {
      "application/json": {
       "ascii": false,
       "bar_format": null,
       "colour": null,
       "elapsed": 0.020427465438842773,
       "initial": 0,
       "n": 0,
       "ncols": null,
       "nrows": null,
       "postfix": null,
       "prefix": "S1B_IW_20170316T161136_SVP_RTC30_G_gpuned_A71E.zip",
       "rate": null,
       "total": 223182665,
       "unit": "it",
       "unit_divisor": 1000,
       "unit_scale": false
      },
      "application/vnd.jupyter.widget-view+json": {
       "model_id": "48ed0ca137a34bd1bebd427640cf1e5b",
       "version_major": 2,
       "version_minor": 0
      },
      "text/plain": [
       "S1B_IW_20170316T161136_SVP_RTC30_G_gpuned_A71E.zip:   0%|          | 0/223182665 [00:00<?, ?it/s]"
      ]
     },
     "metadata": {},
     "output_type": "display_data"
    },
    {
     "name": "stderr",
     "output_type": "stream",
     "text": [
      "rm: cannot remove '/home/jovyan/GlacierSARdata/Wrangell/2017/rtc_products/*.tif': No such file or directory\n"
     ]
    },
    {
     "data": {
      "application/json": {
       "ascii": false,
       "bar_format": null,
       "colour": null,
       "elapsed": 0.019468069076538086,
       "initial": 0,
       "n": 0,
       "ncols": null,
       "nrows": null,
       "postfix": null,
       "prefix": "S1B_IW_20170324T031913_DVP_RTC30_G_gpuned_AF29.zip",
       "rate": null,
       "total": 467597700,
       "unit": "it",
       "unit_divisor": 1000,
       "unit_scale": false
      },
      "application/vnd.jupyter.widget-view+json": {
       "model_id": "91534f5915cb4caf93ae95461dd23a3e",
       "version_major": 2,
       "version_minor": 0
      },
      "text/plain": [
       "S1B_IW_20170324T031913_DVP_RTC30_G_gpuned_AF29.zip:   0%|          | 0/467597700 [00:00<?, ?it/s]"
      ]
     },
     "metadata": {},
     "output_type": "display_data"
    },
    {
     "data": {
      "application/json": {
       "ascii": false,
       "bar_format": null,
       "colour": null,
       "elapsed": 0.019575119018554688,
       "initial": 0,
       "n": 0,
       "ncols": null,
       "nrows": null,
       "postfix": null,
       "prefix": "S1B_IW_20170326T030255_DVP_RTC30_G_gpuned_1ED6.zip",
       "rate": null,
       "total": 448785287,
       "unit": "it",
       "unit_divisor": 1000,
       "unit_scale": false
      },
      "application/vnd.jupyter.widget-view+json": {
       "model_id": "1ec2b05a445e41a3bd0b007cd07b99fb",
       "version_major": 2,
       "version_minor": 0
      },
      "text/plain": [
       "S1B_IW_20170326T030255_DVP_RTC30_G_gpuned_1ED6.zip:   0%|          | 0/448785287 [00:00<?, ?it/s]"
      ]
     },
     "metadata": {},
     "output_type": "display_data"
    },
    {
     "data": {
      "application/json": {
       "ascii": false,
       "bar_format": null,
       "colour": null,
       "elapsed": 0.0227963924407959,
       "initial": 0,
       "n": 0,
       "ncols": null,
       "nrows": null,
       "postfix": null,
       "prefix": "S1B_IW_20170405T031914_DVP_RTC30_G_gpuned_1F31.zip",
       "rate": null,
       "total": 469527508,
       "unit": "it",
       "unit_divisor": 1000,
       "unit_scale": false
      },
      "application/vnd.jupyter.widget-view+json": {
       "model_id": "d0a09e42aca34a6da7505c280f42fe93",
       "version_major": 2,
       "version_minor": 0
      },
      "text/plain": [
       "S1B_IW_20170405T031914_DVP_RTC30_G_gpuned_1F31.zip:   0%|          | 0/469527508 [00:00<?, ?it/s]"
      ]
     },
     "metadata": {},
     "output_type": "display_data"
    },
    {
     "data": {
      "application/json": {
       "ascii": false,
       "bar_format": null,
       "colour": null,
       "elapsed": 0.02025127410888672,
       "initial": 0,
       "n": 0,
       "ncols": null,
       "nrows": null,
       "postfix": null,
       "prefix": "S1B_IW_20170407T030256_DVP_RTC30_G_gpuned_633E.zip",
       "rate": null,
       "total": 452463677,
       "unit": "it",
       "unit_divisor": 1000,
       "unit_scale": false
      },
      "application/vnd.jupyter.widget-view+json": {
       "model_id": "798378f1a6a5469db69fa020f05aee99",
       "version_major": 2,
       "version_minor": 0
      },
      "text/plain": [
       "S1B_IW_20170407T030256_DVP_RTC30_G_gpuned_633E.zip:   0%|          | 0/452463677 [00:00<?, ?it/s]"
      ]
     },
     "metadata": {},
     "output_type": "display_data"
    },
    {
     "data": {
      "application/json": {
       "ascii": false,
       "bar_format": null,
       "colour": null,
       "elapsed": 0.01947760581970215,
       "initial": 0,
       "n": 0,
       "ncols": null,
       "nrows": null,
       "postfix": null,
       "prefix": "S1B_IW_20170417T031914_DVP_RTC30_G_gpuned_47E7.zip",
       "rate": null,
       "total": 469287838,
       "unit": "it",
       "unit_divisor": 1000,
       "unit_scale": false
      },
      "application/vnd.jupyter.widget-view+json": {
       "model_id": "96ca4c7911c347849faabff372b5160a",
       "version_major": 2,
       "version_minor": 0
      },
      "text/plain": [
       "S1B_IW_20170417T031914_DVP_RTC30_G_gpuned_47E7.zip:   0%|          | 0/469287838 [00:00<?, ?it/s]"
      ]
     },
     "metadata": {},
     "output_type": "display_data"
    },
    {
     "data": {
      "application/json": {
       "ascii": false,
       "bar_format": null,
       "colour": null,
       "elapsed": 0.01936197280883789,
       "initial": 0,
       "n": 0,
       "ncols": null,
       "nrows": null,
       "postfix": null,
       "prefix": "S1B_IW_20170429T031915_DVP_RTC30_G_gpuned_0216.zip",
       "rate": null,
       "total": 471674516,
       "unit": "it",
       "unit_divisor": 1000,
       "unit_scale": false
      },
      "application/vnd.jupyter.widget-view+json": {
       "model_id": "9cba1f8b53b342f28947bd0d0be6260f",
       "version_major": 2,
       "version_minor": 0
      },
      "text/plain": [
       "S1B_IW_20170429T031915_DVP_RTC30_G_gpuned_0216.zip:   0%|          | 0/471674516 [00:00<?, ?it/s]"
      ]
     },
     "metadata": {},
     "output_type": "display_data"
    },
    {
     "data": {
      "application/json": {
       "ascii": false,
       "bar_format": null,
       "colour": null,
       "elapsed": 0.019291162490844727,
       "initial": 0,
       "n": 0,
       "ncols": null,
       "nrows": null,
       "postfix": null,
       "prefix": "S1B_IW_20170419T030256_DVP_RTC30_G_gpuned_C8FC.zip",
       "rate": null,
       "total": 450760359,
       "unit": "it",
       "unit_divisor": 1000,
       "unit_scale": false
      },
      "application/vnd.jupyter.widget-view+json": {
       "model_id": "06166500b6b04937942c6ee0c7335b79",
       "version_major": 2,
       "version_minor": 0
      },
      "text/plain": [
       "S1B_IW_20170419T030256_DVP_RTC30_G_gpuned_C8FC.zip:   0%|          | 0/450760359 [00:00<?, ?it/s]"
      ]
     },
     "metadata": {},
     "output_type": "display_data"
    },
    {
     "data": {
      "application/json": {
       "ascii": false,
       "bar_format": null,
       "colour": null,
       "elapsed": 0.02025890350341797,
       "initial": 0,
       "n": 0,
       "ncols": null,
       "nrows": null,
       "postfix": null,
       "prefix": "S1B_IW_20170501T030257_DVP_RTC30_G_gpuned_BCA5.zip",
       "rate": null,
       "total": 451221272,
       "unit": "it",
       "unit_divisor": 1000,
       "unit_scale": false
      },
      "application/vnd.jupyter.widget-view+json": {
       "model_id": "0054ef037b484c288c7f61a2a5d4b70c",
       "version_major": 2,
       "version_minor": 0
      },
      "text/plain": [
       "S1B_IW_20170501T030257_DVP_RTC30_G_gpuned_BCA5.zip:   0%|          | 0/451221272 [00:00<?, ?it/s]"
      ]
     },
     "metadata": {},
     "output_type": "display_data"
    },
    {
     "name": "stdout",
     "output_type": "stream",
     "text": [
      "Current job: 30/108, time elapsed: 8.47 min, time remaining: 3.55 min\n"
     ]
    },
    {
     "data": {
      "application/json": {
       "ascii": false,
       "bar_format": null,
       "colour": null,
       "elapsed": 0.019446611404418945,
       "initial": 0,
       "n": 0,
       "ncols": null,
       "nrows": null,
       "postfix": null,
       "prefix": "S1A_IW_20170511T155606_SVP_RTC30_G_gpuned_90A5.zip",
       "rate": null,
       "total": 225355870,
       "unit": "it",
       "unit_divisor": 1000,
       "unit_scale": false
      },
      "application/vnd.jupyter.widget-view+json": {
       "model_id": "c1fbb26dfbdc4fc6b33d3bd80951efbc",
       "version_major": 2,
       "version_minor": 0
      },
      "text/plain": [
       "S1A_IW_20170511T155606_SVP_RTC30_G_gpuned_90A5.zip:   0%|          | 0/225355870 [00:00<?, ?it/s]"
      ]
     },
     "metadata": {},
     "output_type": "display_data"
    },
    {
     "name": "stderr",
     "output_type": "stream",
     "text": [
      "rm: cannot remove '/home/jovyan/GlacierSARdata/Wrangell/2017/rtc_products/*.tif': No such file or directory\n"
     ]
    },
    {
     "data": {
      "application/json": {
       "ascii": false,
       "bar_format": null,
       "colour": null,
       "elapsed": 0.020420074462890625,
       "initial": 0,
       "n": 0,
       "ncols": null,
       "nrows": null,
       "postfix": null,
       "prefix": "S1B_IW_20170511T031915_DVP_RTC30_G_gpuned_7C20.zip",
       "rate": null,
       "total": 471929660,
       "unit": "it",
       "unit_divisor": 1000,
       "unit_scale": false
      },
      "application/vnd.jupyter.widget-view+json": {
       "model_id": "147f1f5c128a4fc2ab65cf2ec3cf300a",
       "version_major": 2,
       "version_minor": 0
      },
      "text/plain": [
       "S1B_IW_20170511T031915_DVP_RTC30_G_gpuned_7C20.zip:   0%|          | 0/471929660 [00:00<?, ?it/s]"
      ]
     },
     "metadata": {},
     "output_type": "display_data"
    },
    {
     "data": {
      "application/json": {
       "ascii": false,
       "bar_format": null,
       "colour": null,
       "elapsed": 0.020587682723999023,
       "initial": 0,
       "n": 0,
       "ncols": null,
       "nrows": null,
       "postfix": null,
       "prefix": "S1B_IW_20170513T030257_DVP_RTC30_G_gpuned_66C0.zip",
       "rate": null,
       "total": 451672086,
       "unit": "it",
       "unit_divisor": 1000,
       "unit_scale": false
      },
      "application/vnd.jupyter.widget-view+json": {
       "model_id": "fb4932b702044539b2727efe063f0ff2",
       "version_major": 2,
       "version_minor": 0
      },
      "text/plain": [
       "S1B_IW_20170513T030257_DVP_RTC30_G_gpuned_66C0.zip:   0%|          | 0/451672086 [00:00<?, ?it/s]"
      ]
     },
     "metadata": {},
     "output_type": "display_data"
    },
    {
     "data": {
      "application/json": {
       "ascii": false,
       "bar_format": null,
       "colour": null,
       "elapsed": 0.019405126571655273,
       "initial": 0,
       "n": 0,
       "ncols": null,
       "nrows": null,
       "postfix": null,
       "prefix": "S1A_IW_20170518T154748_SVP_RTC30_G_gpuned_7A1D.zip",
       "rate": null,
       "total": 225691065,
       "unit": "it",
       "unit_divisor": 1000,
       "unit_scale": false
      },
      "application/vnd.jupyter.widget-view+json": {
       "model_id": "b3ff6b8dfbd040edbf7fd73ba289b82b",
       "version_major": 2,
       "version_minor": 0
      },
      "text/plain": [
       "S1A_IW_20170518T154748_SVP_RTC30_G_gpuned_7A1D.zip:   0%|          | 0/225691065 [00:00<?, ?it/s]"
      ]
     },
     "metadata": {},
     "output_type": "display_data"
    },
    {
     "name": "stderr",
     "output_type": "stream",
     "text": [
      "rm: cannot remove '/home/jovyan/GlacierSARdata/Wrangell/2017/rtc_products/*.tif': No such file or directory\n"
     ]
    },
    {
     "data": {
      "application/json": {
       "ascii": false,
       "bar_format": null,
       "colour": null,
       "elapsed": 0.019711971282958984,
       "initial": 0,
       "n": 0,
       "ncols": null,
       "nrows": null,
       "postfix": null,
       "prefix": "S1B_IW_20170523T031916_DVP_RTC30_G_gpuned_2078.zip",
       "rate": null,
       "total": 471904581,
       "unit": "it",
       "unit_divisor": 1000,
       "unit_scale": false
      },
      "application/vnd.jupyter.widget-view+json": {
       "model_id": "35136a2204044aafa9a50e0f9193fec5",
       "version_major": 2,
       "version_minor": 0
      },
      "text/plain": [
       "S1B_IW_20170523T031916_DVP_RTC30_G_gpuned_2078.zip:   0%|          | 0/471904581 [00:00<?, ?it/s]"
      ]
     },
     "metadata": {},
     "output_type": "display_data"
    },
    {
     "data": {
      "application/json": {
       "ascii": false,
       "bar_format": null,
       "colour": null,
       "elapsed": 0.021159648895263672,
       "initial": 0,
       "n": 0,
       "ncols": null,
       "nrows": null,
       "postfix": null,
       "prefix": "S1A_IW_20170523T155606_SVP_RTC30_G_gpuned_2A7B.zip",
       "rate": null,
       "total": 225528141,
       "unit": "it",
       "unit_divisor": 1000,
       "unit_scale": false
      },
      "application/vnd.jupyter.widget-view+json": {
       "model_id": "c2f75d03e77a4eb491bac7f5b0c622a1",
       "version_major": 2,
       "version_minor": 0
      },
      "text/plain": [
       "S1A_IW_20170523T155606_SVP_RTC30_G_gpuned_2A7B.zip:   0%|          | 0/225528141 [00:00<?, ?it/s]"
      ]
     },
     "metadata": {},
     "output_type": "display_data"
    },
    {
     "name": "stderr",
     "output_type": "stream",
     "text": [
      "rm: cannot remove '/home/jovyan/GlacierSARdata/Wrangell/2017/rtc_products/*.tif': No such file or directory\n"
     ]
    },
    {
     "data": {
      "application/json": {
       "ascii": false,
       "bar_format": null,
       "colour": null,
       "elapsed": 0.019303083419799805,
       "initial": 0,
       "n": 0,
       "ncols": null,
       "nrows": null,
       "postfix": null,
       "prefix": "S1A_IW_20170530T154748_SVP_RTC30_G_gpuned_71A3.zip",
       "rate": null,
       "total": 226052072,
       "unit": "it",
       "unit_divisor": 1000,
       "unit_scale": false
      },
      "application/vnd.jupyter.widget-view+json": {
       "model_id": "0986c4729f8b4d96b66e1e88f94dfed3",
       "version_major": 2,
       "version_minor": 0
      },
      "text/plain": [
       "S1A_IW_20170530T154748_SVP_RTC30_G_gpuned_71A3.zip:   0%|          | 0/226052072 [00:00<?, ?it/s]"
      ]
     },
     "metadata": {},
     "output_type": "display_data"
    },
    {
     "name": "stderr",
     "output_type": "stream",
     "text": [
      "rm: cannot remove '/home/jovyan/GlacierSARdata/Wrangell/2017/rtc_products/*.tif': No such file or directory\n"
     ]
    },
    {
     "data": {
      "application/json": {
       "ascii": false,
       "bar_format": null,
       "colour": null,
       "elapsed": 0.020004749298095703,
       "initial": 0,
       "n": 0,
       "ncols": null,
       "nrows": null,
       "postfix": null,
       "prefix": "S1A_IW_20170602T161222_SVP_RTC30_G_gpuned_061F.zip",
       "rate": null,
       "total": 192091133,
       "unit": "it",
       "unit_divisor": 1000,
       "unit_scale": false
      },
      "application/vnd.jupyter.widget-view+json": {
       "model_id": "ea37468fa94349c383f65307e6ed0ded",
       "version_major": 2,
       "version_minor": 0
      },
      "text/plain": [
       "S1A_IW_20170602T161222_SVP_RTC30_G_gpuned_061F.zip:   0%|          | 0/192091133 [00:00<?, ?it/s]"
      ]
     },
     "metadata": {},
     "output_type": "display_data"
    },
    {
     "name": "stderr",
     "output_type": "stream",
     "text": [
      "rm: cannot remove '/home/jovyan/GlacierSARdata/Wrangell/2017/rtc_products/*.tif': No such file or directory\n"
     ]
    },
    {
     "data": {
      "application/json": {
       "ascii": false,
       "bar_format": null,
       "colour": null,
       "elapsed": 0.01982426643371582,
       "initial": 0,
       "n": 0,
       "ncols": null,
       "nrows": null,
       "postfix": null,
       "prefix": "S1B_IW_20170604T031917_DVP_RTC30_G_gpuned_6F23.zip",
       "rate": null,
       "total": 470925288,
       "unit": "it",
       "unit_divisor": 1000,
       "unit_scale": false
      },
      "application/vnd.jupyter.widget-view+json": {
       "model_id": "13c3e87cec4b42bdb9c59a7572fb3cf2",
       "version_major": 2,
       "version_minor": 0
      },
      "text/plain": [
       "S1B_IW_20170604T031917_DVP_RTC30_G_gpuned_6F23.zip:   0%|          | 0/470925288 [00:00<?, ?it/s]"
      ]
     },
     "metadata": {},
     "output_type": "display_data"
    },
    {
     "data": {
      "application/json": {
       "ascii": false,
       "bar_format": null,
       "colour": null,
       "elapsed": 0.019899606704711914,
       "initial": 0,
       "n": 0,
       "ncols": null,
       "nrows": null,
       "postfix": null,
       "prefix": "S1A_IW_20170604T155607_DVP_RTC30_G_gpuned_58F3.zip",
       "rate": null,
       "total": 454453371,
       "unit": "it",
       "unit_divisor": 1000,
       "unit_scale": false
      },
      "application/vnd.jupyter.widget-view+json": {
       "model_id": "d725c2d969cd4cce82e7bd141e153ebd",
       "version_major": 2,
       "version_minor": 0
      },
      "text/plain": [
       "S1A_IW_20170604T155607_DVP_RTC30_G_gpuned_58F3.zip:   0%|          | 0/454453371 [00:00<?, ?it/s]"
      ]
     },
     "metadata": {},
     "output_type": "display_data"
    },
    {
     "name": "stdout",
     "output_type": "stream",
     "text": [
      "Current job: 40/108, time elapsed: 11.48 min, time remaining: 3.98 min\n"
     ]
    },
    {
     "data": {
      "application/json": {
       "ascii": false,
       "bar_format": null,
       "colour": null,
       "elapsed": 0.019196033477783203,
       "initial": 0,
       "n": 0,
       "ncols": null,
       "nrows": null,
       "postfix": null,
       "prefix": "S1B_IW_20170606T030259_DVP_RTC30_G_gpuned_6E1B.zip",
       "rate": null,
       "total": 451279355,
       "unit": "it",
       "unit_divisor": 1000,
       "unit_scale": false
      },
      "application/vnd.jupyter.widget-view+json": {
       "model_id": "2820646fd813429095fff0d7247e4f2f",
       "version_major": 2,
       "version_minor": 0
      },
      "text/plain": [
       "S1B_IW_20170606T030259_DVP_RTC30_G_gpuned_6E1B.zip:   0%|          | 0/451279355 [00:00<?, ?it/s]"
      ]
     },
     "metadata": {},
     "output_type": "display_data"
    },
    {
     "data": {
      "application/json": {
       "ascii": false,
       "bar_format": null,
       "colour": null,
       "elapsed": 0.01954174041748047,
       "initial": 0,
       "n": 0,
       "ncols": null,
       "nrows": null,
       "postfix": null,
       "prefix": "S1A_IW_20170614T161223_DVP_RTC30_G_gpuned_549B.zip",
       "rate": null,
       "total": 385925613,
       "unit": "it",
       "unit_divisor": 1000,
       "unit_scale": false
      },
      "application/vnd.jupyter.widget-view+json": {
       "model_id": "8369f23543294c38af54dfc1d411d494",
       "version_major": 2,
       "version_minor": 0
      },
      "text/plain": [
       "S1A_IW_20170614T161223_DVP_RTC30_G_gpuned_549B.zip:   0%|          | 0/385925613 [00:00<?, ?it/s]"
      ]
     },
     "metadata": {},
     "output_type": "display_data"
    },
    {
     "data": {
      "application/json": {
       "ascii": false,
       "bar_format": null,
       "colour": null,
       "elapsed": 0.019321680068969727,
       "initial": 0,
       "n": 0,
       "ncols": null,
       "nrows": null,
       "postfix": null,
       "prefix": "S1A_IW_20170611T154749_DVP_RTC30_G_gpuned_C8C3.zip",
       "rate": null,
       "total": 454077508,
       "unit": "it",
       "unit_divisor": 1000,
       "unit_scale": false
      },
      "application/vnd.jupyter.widget-view+json": {
       "model_id": "a2dab80849504403b089523e23da6b17",
       "version_major": 2,
       "version_minor": 0
      },
      "text/plain": [
       "S1A_IW_20170611T154749_DVP_RTC30_G_gpuned_C8C3.zip:   0%|          | 0/454077508 [00:00<?, ?it/s]"
      ]
     },
     "metadata": {},
     "output_type": "display_data"
    },
    {
     "data": {
      "application/json": {
       "ascii": false,
       "bar_format": null,
       "colour": null,
       "elapsed": 0.019634723663330078,
       "initial": 0,
       "n": 0,
       "ncols": null,
       "nrows": null,
       "postfix": null,
       "prefix": "S1A_IW_20170616T155608_DVP_RTC30_G_gpuned_69D1.zip",
       "rate": null,
       "total": 453424111,
       "unit": "it",
       "unit_divisor": 1000,
       "unit_scale": false
      },
      "application/vnd.jupyter.widget-view+json": {
       "model_id": "d801aeae21564d51801bfddb866246a9",
       "version_major": 2,
       "version_minor": 0
      },
      "text/plain": [
       "S1A_IW_20170616T155608_DVP_RTC30_G_gpuned_69D1.zip:   0%|          | 0/453424111 [00:00<?, ?it/s]"
      ]
     },
     "metadata": {},
     "output_type": "display_data"
    },
    {
     "data": {
      "application/json": {
       "ascii": false,
       "bar_format": null,
       "colour": null,
       "elapsed": 0.01982879638671875,
       "initial": 0,
       "n": 0,
       "ncols": null,
       "nrows": null,
       "postfix": null,
       "prefix": "S1B_IW_20170616T031917_DVP_RTC30_G_gpuned_C2AE.zip",
       "rate": null,
       "total": 470643047,
       "unit": "it",
       "unit_divisor": 1000,
       "unit_scale": false
      },
      "application/vnd.jupyter.widget-view+json": {
       "model_id": "293b8c09e45547f08d05540f4f93d7ba",
       "version_major": 2,
       "version_minor": 0
      },
      "text/plain": [
       "S1B_IW_20170616T031917_DVP_RTC30_G_gpuned_C2AE.zip:   0%|          | 0/470643047 [00:00<?, ?it/s]"
      ]
     },
     "metadata": {},
     "output_type": "display_data"
    },
    {
     "data": {
      "application/json": {
       "ascii": false,
       "bar_format": null,
       "colour": null,
       "elapsed": 0.019519329071044922,
       "initial": 0,
       "n": 0,
       "ncols": null,
       "nrows": null,
       "postfix": null,
       "prefix": "S1B_IW_20170618T030300_DVP_RTC30_G_gpuned_7AC0.zip",
       "rate": null,
       "total": 450565258,
       "unit": "it",
       "unit_divisor": 1000,
       "unit_scale": false
      },
      "application/vnd.jupyter.widget-view+json": {
       "model_id": "4a9980125cd74bb6a1fbbe7cf1a4b4e2",
       "version_major": 2,
       "version_minor": 0
      },
      "text/plain": [
       "S1B_IW_20170618T030300_DVP_RTC30_G_gpuned_7AC0.zip:   0%|          | 0/450565258 [00:00<?, ?it/s]"
      ]
     },
     "metadata": {},
     "output_type": "display_data"
    },
    {
     "data": {
      "application/json": {
       "ascii": false,
       "bar_format": null,
       "colour": null,
       "elapsed": 0.01993846893310547,
       "initial": 0,
       "n": 0,
       "ncols": null,
       "nrows": null,
       "postfix": null,
       "prefix": "S1A_IW_20170623T154750_DVP_RTC30_G_gpuned_4D4B.zip",
       "rate": null,
       "total": 456131314,
       "unit": "it",
       "unit_divisor": 1000,
       "unit_scale": false
      },
      "application/vnd.jupyter.widget-view+json": {
       "model_id": "0b9c42d3de49418e9569d0846e1a5325",
       "version_major": 2,
       "version_minor": 0
      },
      "text/plain": [
       "S1A_IW_20170623T154750_DVP_RTC30_G_gpuned_4D4B.zip:   0%|          | 0/456131314 [00:00<?, ?it/s]"
      ]
     },
     "metadata": {},
     "output_type": "display_data"
    },
    {
     "data": {
      "application/json": {
       "ascii": false,
       "bar_format": null,
       "colour": null,
       "elapsed": 0.019840002059936523,
       "initial": 0,
       "n": 0,
       "ncols": null,
       "nrows": null,
       "postfix": null,
       "prefix": "S1B_IW_20170628T031918_DVP_RTC30_G_gpuned_B841.zip",
       "rate": null,
       "total": 470021432,
       "unit": "it",
       "unit_divisor": 1000,
       "unit_scale": false
      },
      "application/vnd.jupyter.widget-view+json": {
       "model_id": "001abe2ea58a40ba86bb8ee91dbf9796",
       "version_major": 2,
       "version_minor": 0
      },
      "text/plain": [
       "S1B_IW_20170628T031918_DVP_RTC30_G_gpuned_B841.zip:   0%|          | 0/470021432 [00:00<?, ?it/s]"
      ]
     },
     "metadata": {},
     "output_type": "display_data"
    },
    {
     "data": {
      "application/json": {
       "ascii": false,
       "bar_format": null,
       "colour": null,
       "elapsed": 0.019373416900634766,
       "initial": 0,
       "n": 0,
       "ncols": null,
       "nrows": null,
       "postfix": null,
       "prefix": "S1A_IW_20170628T155608_DVP_RTC30_G_gpuned_A4DC.zip",
       "rate": null,
       "total": 452708545,
       "unit": "it",
       "unit_divisor": 1000,
       "unit_scale": false
      },
      "application/vnd.jupyter.widget-view+json": {
       "model_id": "c183bc6b6ffc49aabf8126890b72984b",
       "version_major": 2,
       "version_minor": 0
      },
      "text/plain": [
       "S1A_IW_20170628T155608_DVP_RTC30_G_gpuned_A4DC.zip:   0%|          | 0/452708545 [00:00<?, ?it/s]"
      ]
     },
     "metadata": {},
     "output_type": "display_data"
    },
    {
     "data": {
      "application/json": {
       "ascii": false,
       "bar_format": null,
       "colour": null,
       "elapsed": 0.01977705955505371,
       "initial": 0,
       "n": 0,
       "ncols": null,
       "nrows": null,
       "postfix": null,
       "prefix": "S1B_IW_20170630T030300_DVP_RTC30_G_gpuned_0C97.zip",
       "rate": null,
       "total": 450795736,
       "unit": "it",
       "unit_divisor": 1000,
       "unit_scale": false
      },
      "application/vnd.jupyter.widget-view+json": {
       "model_id": "242a9cab04fc42dbbe5521e321406f91",
       "version_major": 2,
       "version_minor": 0
      },
      "text/plain": [
       "S1B_IW_20170630T030300_DVP_RTC30_G_gpuned_0C97.zip:   0%|          | 0/450795736 [00:00<?, ?it/s]"
      ]
     },
     "metadata": {},
     "output_type": "display_data"
    },
    {
     "name": "stdout",
     "output_type": "stream",
     "text": [
      "Current job: 50/108, time elapsed: 14.85 min, time remaining: 4.18 min\n"
     ]
    },
    {
     "data": {
      "application/json": {
       "ascii": false,
       "bar_format": null,
       "colour": null,
       "elapsed": 0.020161151885986328,
       "initial": 0,
       "n": 0,
       "ncols": null,
       "nrows": null,
       "postfix": null,
       "prefix": "S1A_IW_20170705T154750_DVP_RTC30_G_gpuned_D2F8.zip",
       "rate": null,
       "total": 455443703,
       "unit": "it",
       "unit_divisor": 1000,
       "unit_scale": false
      },
      "application/vnd.jupyter.widget-view+json": {
       "model_id": "848506fc0ef84dfc8dfe5706168948df",
       "version_major": 2,
       "version_minor": 0
      },
      "text/plain": [
       "S1A_IW_20170705T154750_DVP_RTC30_G_gpuned_D2F8.zip:   0%|          | 0/455443703 [00:00<?, ?it/s]"
      ]
     },
     "metadata": {},
     "output_type": "display_data"
    },
    {
     "data": {
      "application/json": {
       "ascii": false,
       "bar_format": null,
       "colour": null,
       "elapsed": 0.019428253173828125,
       "initial": 0,
       "n": 0,
       "ncols": null,
       "nrows": null,
       "postfix": null,
       "prefix": "S1B_IW_20170710T031919_DVP_RTC30_G_gpuned_21A2.zip",
       "rate": null,
       "total": 469511668,
       "unit": "it",
       "unit_divisor": 1000,
       "unit_scale": false
      },
      "application/vnd.jupyter.widget-view+json": {
       "model_id": "9bd714372cb04595a7ff4ddc593e85a7",
       "version_major": 2,
       "version_minor": 0
      },
      "text/plain": [
       "S1B_IW_20170710T031919_DVP_RTC30_G_gpuned_21A2.zip:   0%|          | 0/469511668 [00:00<?, ?it/s]"
      ]
     },
     "metadata": {},
     "output_type": "display_data"
    },
    {
     "data": {
      "application/json": {
       "ascii": false,
       "bar_format": null,
       "colour": null,
       "elapsed": 0.019820213317871094,
       "initial": 0,
       "n": 0,
       "ncols": null,
       "nrows": null,
       "postfix": null,
       "prefix": "S1A_IW_20170710T155609_DVP_RTC30_G_gpuned_94ED.zip",
       "rate": null,
       "total": 452232767,
       "unit": "it",
       "unit_divisor": 1000,
       "unit_scale": false
      },
      "application/vnd.jupyter.widget-view+json": {
       "model_id": "d39a3f0904d041eba8eb8681015a2a82",
       "version_major": 2,
       "version_minor": 0
      },
      "text/plain": [
       "S1A_IW_20170710T155609_DVP_RTC30_G_gpuned_94ED.zip:   0%|          | 0/452232767 [00:00<?, ?it/s]"
      ]
     },
     "metadata": {},
     "output_type": "display_data"
    },
    {
     "data": {
      "application/json": {
       "ascii": false,
       "bar_format": null,
       "colour": null,
       "elapsed": 0.020055294036865234,
       "initial": 0,
       "n": 0,
       "ncols": null,
       "nrows": null,
       "postfix": null,
       "prefix": "S1A_IW_20170717T154751_DVP_RTC30_G_gpuned_0C52.zip",
       "rate": null,
       "total": 455658033,
       "unit": "it",
       "unit_divisor": 1000,
       "unit_scale": false
      },
      "application/vnd.jupyter.widget-view+json": {
       "model_id": "78661392a16148c9aa657a6e690aec64",
       "version_major": 2,
       "version_minor": 0
      },
      "text/plain": [
       "S1A_IW_20170717T154751_DVP_RTC30_G_gpuned_0C52.zip:   0%|          | 0/455658033 [00:00<?, ?it/s]"
      ]
     },
     "metadata": {},
     "output_type": "display_data"
    },
    {
     "data": {
      "application/json": {
       "ascii": false,
       "bar_format": null,
       "colour": null,
       "elapsed": 0.019478559494018555,
       "initial": 0,
       "n": 0,
       "ncols": null,
       "nrows": null,
       "postfix": null,
       "prefix": "S1B_IW_20170722T031920_DVP_RTC30_G_gpuned_B265.zip",
       "rate": null,
       "total": 469237794,
       "unit": "it",
       "unit_divisor": 1000,
       "unit_scale": false
      },
      "application/vnd.jupyter.widget-view+json": {
       "model_id": "784e57d2b13748488e28522ce8f4c4f7",
       "version_major": 2,
       "version_minor": 0
      },
      "text/plain": [
       "S1B_IW_20170722T031920_DVP_RTC30_G_gpuned_B265.zip:   0%|          | 0/469237794 [00:00<?, ?it/s]"
      ]
     },
     "metadata": {},
     "output_type": "display_data"
    },
    {
     "data": {
      "application/json": {
       "ascii": false,
       "bar_format": null,
       "colour": null,
       "elapsed": 0.019493818283081055,
       "initial": 0,
       "n": 0,
       "ncols": null,
       "nrows": null,
       "postfix": null,
       "prefix": "S1A_IW_20170722T155610_DVP_RTC30_G_gpuned_2AAC.zip",
       "rate": null,
       "total": 452591748,
       "unit": "it",
       "unit_divisor": 1000,
       "unit_scale": false
      },
      "application/vnd.jupyter.widget-view+json": {
       "model_id": "b0c7d799173e42ab95aadf2fca172c66",
       "version_major": 2,
       "version_minor": 0
      },
      "text/plain": [
       "S1A_IW_20170722T155610_DVP_RTC30_G_gpuned_2AAC.zip:   0%|          | 0/452591748 [00:00<?, ?it/s]"
      ]
     },
     "metadata": {},
     "output_type": "display_data"
    },
    {
     "data": {
      "application/json": {
       "ascii": false,
       "bar_format": null,
       "colour": null,
       "elapsed": 0.019752979278564453,
       "initial": 0,
       "n": 0,
       "ncols": null,
       "nrows": null,
       "postfix": null,
       "prefix": "S1A_IW_20170729T154752_DVP_RTC30_G_gpuned_59B5.zip",
       "rate": null,
       "total": 454785140,
       "unit": "it",
       "unit_divisor": 1000,
       "unit_scale": false
      },
      "application/vnd.jupyter.widget-view+json": {
       "model_id": "491c7289f16a4b25a3609c248cc569a8",
       "version_major": 2,
       "version_minor": 0
      },
      "text/plain": [
       "S1A_IW_20170729T154752_DVP_RTC30_G_gpuned_59B5.zip:   0%|          | 0/454785140 [00:00<?, ?it/s]"
      ]
     },
     "metadata": {},
     "output_type": "display_data"
    },
    {
     "data": {
      "application/json": {
       "ascii": false,
       "bar_format": null,
       "colour": null,
       "elapsed": 0.019328594207763672,
       "initial": 0,
       "n": 0,
       "ncols": null,
       "nrows": null,
       "postfix": null,
       "prefix": "S1A_IW_20170803T155610_DVP_RTC30_G_gpuned_06D5.zip",
       "rate": null,
       "total": 452358852,
       "unit": "it",
       "unit_divisor": 1000,
       "unit_scale": false
      },
      "application/vnd.jupyter.widget-view+json": {
       "model_id": "80385e816d90462da361b042b15e7ae5",
       "version_major": 2,
       "version_minor": 0
      },
      "text/plain": [
       "S1A_IW_20170803T155610_DVP_RTC30_G_gpuned_06D5.zip:   0%|          | 0/452358852 [00:00<?, ?it/s]"
      ]
     },
     "metadata": {},
     "output_type": "display_data"
    },
    {
     "data": {
      "application/json": {
       "ascii": false,
       "bar_format": null,
       "colour": null,
       "elapsed": 0.01922750473022461,
       "initial": 0,
       "n": 0,
       "ncols": null,
       "nrows": null,
       "postfix": null,
       "prefix": "S1B_IW_20170805T030302_DVP_RTC30_G_gpuned_C813.zip",
       "rate": null,
       "total": 450387461,
       "unit": "it",
       "unit_divisor": 1000,
       "unit_scale": false
      },
      "application/vnd.jupyter.widget-view+json": {
       "model_id": "4d3c18b49a654d44831611bf0472bc3c",
       "version_major": 2,
       "version_minor": 0
      },
      "text/plain": [
       "S1B_IW_20170805T030302_DVP_RTC30_G_gpuned_C813.zip:   0%|          | 0/450387461 [00:00<?, ?it/s]"
      ]
     },
     "metadata": {},
     "output_type": "display_data"
    },
    {
     "data": {
      "application/json": {
       "ascii": false,
       "bar_format": null,
       "colour": null,
       "elapsed": 0.019626617431640625,
       "initial": 0,
       "n": 0,
       "ncols": null,
       "nrows": null,
       "postfix": null,
       "prefix": "S1A_IW_20170810T154753_DVP_RTC30_G_gpuned_C989.zip",
       "rate": null,
       "total": 454928558,
       "unit": "it",
       "unit_divisor": 1000,
       "unit_scale": false
      },
      "application/vnd.jupyter.widget-view+json": {
       "model_id": "8a30d439a1bb4d02859d17dcb1b86d59",
       "version_major": 2,
       "version_minor": 0
      },
      "text/plain": [
       "S1A_IW_20170810T154753_DVP_RTC30_G_gpuned_C989.zip:   0%|          | 0/454928558 [00:00<?, ?it/s]"
      ]
     },
     "metadata": {},
     "output_type": "display_data"
    },
    {
     "name": "stdout",
     "output_type": "stream",
     "text": [
      "Current job: 60/108, time elapsed: 18.26 min, time remaining: 4.06 min\n"
     ]
    },
    {
     "data": {
      "application/json": {
       "ascii": false,
       "bar_format": null,
       "colour": null,
       "elapsed": 0.020603418350219727,
       "initial": 0,
       "n": 0,
       "ncols": null,
       "nrows": null,
       "postfix": null,
       "prefix": "S1A_IW_20170813T161226_DVP_RTC30_G_gpuned_38F0.zip",
       "rate": null,
       "total": 384345794,
       "unit": "it",
       "unit_divisor": 1000,
       "unit_scale": false
      },
      "application/vnd.jupyter.widget-view+json": {
       "model_id": "b49650cf6d8544b6822faadb5667b9cb",
       "version_major": 2,
       "version_minor": 0
      },
      "text/plain": [
       "S1A_IW_20170813T161226_DVP_RTC30_G_gpuned_38F0.zip:   0%|          | 0/384345794 [00:00<?, ?it/s]"
      ]
     },
     "metadata": {},
     "output_type": "display_data"
    },
    {
     "data": {
      "application/json": {
       "ascii": false,
       "bar_format": null,
       "colour": null,
       "elapsed": 0.019917964935302734,
       "initial": 0,
       "n": 0,
       "ncols": null,
       "nrows": null,
       "postfix": null,
       "prefix": "S1B_IW_20170815T031921_DVP_RTC30_G_gpuned_5615.zip",
       "rate": null,
       "total": 469635643,
       "unit": "it",
       "unit_divisor": 1000,
       "unit_scale": false
      },
      "application/vnd.jupyter.widget-view+json": {
       "model_id": "ac95dc81aa0243d78c925dc8594cdf67",
       "version_major": 2,
       "version_minor": 0
      },
      "text/plain": [
       "S1B_IW_20170815T031921_DVP_RTC30_G_gpuned_5615.zip:   0%|          | 0/469635643 [00:00<?, ?it/s]"
      ]
     },
     "metadata": {},
     "output_type": "display_data"
    },
    {
     "data": {
      "application/json": {
       "ascii": false,
       "bar_format": null,
       "colour": null,
       "elapsed": 0.0197598934173584,
       "initial": 0,
       "n": 0,
       "ncols": null,
       "nrows": null,
       "postfix": null,
       "prefix": "S1A_IW_20170815T155611_DVP_RTC30_G_gpuned_21CA.zip",
       "rate": null,
       "total": 452651925,
       "unit": "it",
       "unit_divisor": 1000,
       "unit_scale": false
      },
      "application/vnd.jupyter.widget-view+json": {
       "model_id": "bb47e7ebf5cb4845ba46ec02af449cb9",
       "version_major": 2,
       "version_minor": 0
      },
      "text/plain": [
       "S1A_IW_20170815T155611_DVP_RTC30_G_gpuned_21CA.zip:   0%|          | 0/452651925 [00:00<?, ?it/s]"
      ]
     },
     "metadata": {},
     "output_type": "display_data"
    },
    {
     "data": {
      "application/json": {
       "ascii": false,
       "bar_format": null,
       "colour": null,
       "elapsed": 0.01992034912109375,
       "initial": 0,
       "n": 0,
       "ncols": null,
       "nrows": null,
       "postfix": null,
       "prefix": "S1B_IW_20170817T030303_DVP_RTC30_G_gpuned_F103.zip",
       "rate": null,
       "total": 450581299,
       "unit": "it",
       "unit_divisor": 1000,
       "unit_scale": false
      },
      "application/vnd.jupyter.widget-view+json": {
       "model_id": "d865622f35f2411d997cc3920ba14341",
       "version_major": 2,
       "version_minor": 0
      },
      "text/plain": [
       "S1B_IW_20170817T030303_DVP_RTC30_G_gpuned_F103.zip:   0%|          | 0/450581299 [00:00<?, ?it/s]"
      ]
     },
     "metadata": {},
     "output_type": "display_data"
    },
    {
     "data": {
      "application/json": {
       "ascii": false,
       "bar_format": null,
       "colour": null,
       "elapsed": 0.019607067108154297,
       "initial": 0,
       "n": 0,
       "ncols": null,
       "nrows": null,
       "postfix": null,
       "prefix": "S1A_IW_20170822T154753_DVP_RTC30_G_gpuned_EF38.zip",
       "rate": null,
       "total": 454241013,
       "unit": "it",
       "unit_divisor": 1000,
       "unit_scale": false
      },
      "application/vnd.jupyter.widget-view+json": {
       "model_id": "8c80558632a0491ba4937fe46918c879",
       "version_major": 2,
       "version_minor": 0
      },
      "text/plain": [
       "S1A_IW_20170822T154753_DVP_RTC30_G_gpuned_EF38.zip:   0%|          | 0/454241013 [00:00<?, ?it/s]"
      ]
     },
     "metadata": {},
     "output_type": "display_data"
    },
    {
     "data": {
      "application/json": {
       "ascii": false,
       "bar_format": null,
       "colour": null,
       "elapsed": 0.019820690155029297,
       "initial": 0,
       "n": 0,
       "ncols": null,
       "nrows": null,
       "postfix": null,
       "prefix": "S1B_IW_20170827T031921_DVP_RTC30_G_gpuned_E89F.zip",
       "rate": null,
       "total": 469793715,
       "unit": "it",
       "unit_divisor": 1000,
       "unit_scale": false
      },
      "application/vnd.jupyter.widget-view+json": {
       "model_id": "eafec134b660454abf7044b300ada60d",
       "version_major": 2,
       "version_minor": 0
      },
      "text/plain": [
       "S1B_IW_20170827T031921_DVP_RTC30_G_gpuned_E89F.zip:   0%|          | 0/469793715 [00:00<?, ?it/s]"
      ]
     },
     "metadata": {},
     "output_type": "display_data"
    },
    {
     "data": {
      "application/json": {
       "ascii": false,
       "bar_format": null,
       "colour": null,
       "elapsed": 0.01933574676513672,
       "initial": 0,
       "n": 0,
       "ncols": null,
       "nrows": null,
       "postfix": null,
       "prefix": "S1A_IW_20170827T155612_DVP_RTC30_G_gpuned_A955.zip",
       "rate": null,
       "total": 452124636,
       "unit": "it",
       "unit_divisor": 1000,
       "unit_scale": false
      },
      "application/vnd.jupyter.widget-view+json": {
       "model_id": "3fbf22b4b5da461da6e1888bf5795400",
       "version_major": 2,
       "version_minor": 0
      },
      "text/plain": [
       "S1A_IW_20170827T155612_DVP_RTC30_G_gpuned_A955.zip:   0%|          | 0/452124636 [00:00<?, ?it/s]"
      ]
     },
     "metadata": {},
     "output_type": "display_data"
    },
    {
     "data": {
      "application/json": {
       "ascii": false,
       "bar_format": null,
       "colour": null,
       "elapsed": 0.019905567169189453,
       "initial": 0,
       "n": 0,
       "ncols": null,
       "nrows": null,
       "postfix": null,
       "prefix": "S1B_IW_20170829T030303_DVP_RTC30_G_gpuned_6FC5.zip",
       "rate": null,
       "total": 450462719,
       "unit": "it",
       "unit_divisor": 1000,
       "unit_scale": false
      },
      "application/vnd.jupyter.widget-view+json": {
       "model_id": "7031e42869c24832b8095cbfca10e6f0",
       "version_major": 2,
       "version_minor": 0
      },
      "text/plain": [
       "S1B_IW_20170829T030303_DVP_RTC30_G_gpuned_6FC5.zip:   0%|          | 0/450462719 [00:00<?, ?it/s]"
      ]
     },
     "metadata": {},
     "output_type": "display_data"
    },
    {
     "data": {
      "application/json": {
       "ascii": false,
       "bar_format": null,
       "colour": null,
       "elapsed": 0.020066261291503906,
       "initial": 0,
       "n": 0,
       "ncols": null,
       "nrows": null,
       "postfix": null,
       "prefix": "S1A_IW_20170903T154754_DVP_RTC30_G_gpuned_8CFE.zip",
       "rate": null,
       "total": 453657332,
       "unit": "it",
       "unit_divisor": 1000,
       "unit_scale": false
      },
      "application/vnd.jupyter.widget-view+json": {
       "model_id": "e7b8d57a5e6e45eb9c07c111584d1802",
       "version_major": 2,
       "version_minor": 0
      },
      "text/plain": [
       "S1A_IW_20170903T154754_DVP_RTC30_G_gpuned_8CFE.zip:   0%|          | 0/453657332 [00:00<?, ?it/s]"
      ]
     },
     "metadata": {},
     "output_type": "display_data"
    },
    {
     "data": {
      "application/json": {
       "ascii": false,
       "bar_format": null,
       "colour": null,
       "elapsed": 0.01954054832458496,
       "initial": 0,
       "n": 0,
       "ncols": null,
       "nrows": null,
       "postfix": null,
       "prefix": "S1B_IW_20170908T031922_DVP_RTC30_G_gpuned_AAB7.zip",
       "rate": null,
       "total": 469348396,
       "unit": "it",
       "unit_divisor": 1000,
       "unit_scale": false
      },
      "application/vnd.jupyter.widget-view+json": {
       "model_id": "192db819889d43b991182702a7402221",
       "version_major": 2,
       "version_minor": 0
      },
      "text/plain": [
       "S1B_IW_20170908T031922_DVP_RTC30_G_gpuned_AAB7.zip:   0%|          | 0/469348396 [00:00<?, ?it/s]"
      ]
     },
     "metadata": {},
     "output_type": "display_data"
    },
    {
     "name": "stdout",
     "output_type": "stream",
     "text": [
      "Current job: 70/108, time elapsed: 21.80 min, time remaining: 3.67 min\n"
     ]
    },
    {
     "data": {
      "application/json": {
       "ascii": false,
       "bar_format": null,
       "colour": null,
       "elapsed": 0.019489049911499023,
       "initial": 0,
       "n": 0,
       "ncols": null,
       "nrows": null,
       "postfix": null,
       "prefix": "S1A_IW_20170908T155612_DVP_RTC30_G_gpuned_8ACC.zip",
       "rate": null,
       "total": 451626359,
       "unit": "it",
       "unit_divisor": 1000,
       "unit_scale": false
      },
      "application/vnd.jupyter.widget-view+json": {
       "model_id": "b43843d64e754a2d86ef5f00ef18b2f2",
       "version_major": 2,
       "version_minor": 0
      },
      "text/plain": [
       "S1A_IW_20170908T155612_DVP_RTC30_G_gpuned_8ACC.zip:   0%|          | 0/451626359 [00:00<?, ?it/s]"
      ]
     },
     "metadata": {},
     "output_type": "display_data"
    },
    {
     "data": {
      "application/json": {
       "ascii": false,
       "bar_format": null,
       "colour": null,
       "elapsed": 0.02103424072265625,
       "initial": 0,
       "n": 0,
       "ncols": null,
       "nrows": null,
       "postfix": null,
       "prefix": "S1B_IW_20170910T030304_DVP_RTC30_G_gpuned_6F3A.zip",
       "rate": null,
       "total": 450199499,
       "unit": "it",
       "unit_divisor": 1000,
       "unit_scale": false
      },
      "application/vnd.jupyter.widget-view+json": {
       "model_id": "f4ed599d1ce241d0a3e4423181b70302",
       "version_major": 2,
       "version_minor": 0
      },
      "text/plain": [
       "S1B_IW_20170910T030304_DVP_RTC30_G_gpuned_6F3A.zip:   0%|          | 0/450199499 [00:00<?, ?it/s]"
      ]
     },
     "metadata": {},
     "output_type": "display_data"
    },
    {
     "data": {
      "application/json": {
       "ascii": false,
       "bar_format": null,
       "colour": null,
       "elapsed": 0.019358396530151367,
       "initial": 0,
       "n": 0,
       "ncols": null,
       "nrows": null,
       "postfix": null,
       "prefix": "S1A_IW_20170915T154754_DVP_RTC30_G_gpuned_2D8C.zip",
       "rate": null,
       "total": 453896072,
       "unit": "it",
       "unit_divisor": 1000,
       "unit_scale": false
      },
      "application/vnd.jupyter.widget-view+json": {
       "model_id": "aa6648c605e844e9aeab3934613b9e93",
       "version_major": 2,
       "version_minor": 0
      },
      "text/plain": [
       "S1A_IW_20170915T154754_DVP_RTC30_G_gpuned_2D8C.zip:   0%|          | 0/453896072 [00:00<?, ?it/s]"
      ]
     },
     "metadata": {},
     "output_type": "display_data"
    },
    {
     "data": {
      "application/json": {
       "ascii": false,
       "bar_format": null,
       "colour": null,
       "elapsed": 0.01943373680114746,
       "initial": 0,
       "n": 0,
       "ncols": null,
       "nrows": null,
       "postfix": null,
       "prefix": "S1B_IW_20170920T031922_DVP_RTC30_G_gpuned_A4C9.zip",
       "rate": null,
       "total": 469926575,
       "unit": "it",
       "unit_divisor": 1000,
       "unit_scale": false
      },
      "application/vnd.jupyter.widget-view+json": {
       "model_id": "9f556351017f48469f791c063de67d06",
       "version_major": 2,
       "version_minor": 0
      },
      "text/plain": [
       "S1B_IW_20170920T031922_DVP_RTC30_G_gpuned_A4C9.zip:   0%|          | 0/469926575 [00:00<?, ?it/s]"
      ]
     },
     "metadata": {},
     "output_type": "display_data"
    },
    {
     "data": {
      "application/json": {
       "ascii": false,
       "bar_format": null,
       "colour": null,
       "elapsed": 0.02016282081604004,
       "initial": 0,
       "n": 0,
       "ncols": null,
       "nrows": null,
       "postfix": null,
       "prefix": "S1A_IW_20170920T155613_DVP_RTC30_G_gpuned_01FE.zip",
       "rate": null,
       "total": 452112984,
       "unit": "it",
       "unit_divisor": 1000,
       "unit_scale": false
      },
      "application/vnd.jupyter.widget-view+json": {
       "model_id": "c5d23f43826943bea8fc91b348978673",
       "version_major": 2,
       "version_minor": 0
      },
      "text/plain": [
       "S1A_IW_20170920T155613_DVP_RTC30_G_gpuned_01FE.zip:   0%|          | 0/452112984 [00:00<?, ?it/s]"
      ]
     },
     "metadata": {},
     "output_type": "display_data"
    },
    {
     "data": {
      "application/json": {
       "ascii": false,
       "bar_format": null,
       "colour": null,
       "elapsed": 0.01921987533569336,
       "initial": 0,
       "n": 0,
       "ncols": null,
       "nrows": null,
       "postfix": null,
       "prefix": "S1B_IW_20170922T030304_DVP_RTC30_G_gpuned_5C07.zip",
       "rate": null,
       "total": 450439727,
       "unit": "it",
       "unit_divisor": 1000,
       "unit_scale": false
      },
      "application/vnd.jupyter.widget-view+json": {
       "model_id": "6223c99bbe19418fa3f5abc0d6f1e739",
       "version_major": 2,
       "version_minor": 0
      },
      "text/plain": [
       "S1B_IW_20170922T030304_DVP_RTC30_G_gpuned_5C07.zip:   0%|          | 0/450439727 [00:00<?, ?it/s]"
      ]
     },
     "metadata": {},
     "output_type": "display_data"
    },
    {
     "data": {
      "application/json": {
       "ascii": false,
       "bar_format": null,
       "colour": null,
       "elapsed": 0.019754409790039062,
       "initial": 0,
       "n": 0,
       "ncols": null,
       "nrows": null,
       "postfix": null,
       "prefix": "S1A_IW_20170927T154754_DVP_RTC30_G_gpuned_A6DA.zip",
       "rate": null,
       "total": 454666016,
       "unit": "it",
       "unit_divisor": 1000,
       "unit_scale": false
      },
      "application/vnd.jupyter.widget-view+json": {
       "model_id": "67a0510653ef4d4783b316e52c1c1af7",
       "version_major": 2,
       "version_minor": 0
      },
      "text/plain": [
       "S1A_IW_20170927T154754_DVP_RTC30_G_gpuned_A6DA.zip:   0%|          | 0/454666016 [00:00<?, ?it/s]"
      ]
     },
     "metadata": {},
     "output_type": "display_data"
    },
    {
     "data": {
      "application/json": {
       "ascii": false,
       "bar_format": null,
       "colour": null,
       "elapsed": 0.02238178253173828,
       "initial": 0,
       "n": 0,
       "ncols": null,
       "nrows": null,
       "postfix": null,
       "prefix": "S1A_IW_20170930T161228_DVP_RTC30_G_gpuned_63E6.zip",
       "rate": null,
       "total": 383247440,
       "unit": "it",
       "unit_divisor": 1000,
       "unit_scale": false
      },
      "application/vnd.jupyter.widget-view+json": {
       "model_id": "6b6ac2ac59a04f8194219c0ed1acaacc",
       "version_major": 2,
       "version_minor": 0
      },
      "text/plain": [
       "S1A_IW_20170930T161228_DVP_RTC30_G_gpuned_63E6.zip:   0%|          | 0/383247440 [00:00<?, ?it/s]"
      ]
     },
     "metadata": {},
     "output_type": "display_data"
    },
    {
     "data": {
      "application/json": {
       "ascii": false,
       "bar_format": null,
       "colour": null,
       "elapsed": 0.019320249557495117,
       "initial": 0,
       "n": 0,
       "ncols": null,
       "nrows": null,
       "postfix": null,
       "prefix": "S1B_IW_20171002T031923_DVP_RTC30_G_gpuned_08EC.zip",
       "rate": null,
       "total": 468807386,
       "unit": "it",
       "unit_divisor": 1000,
       "unit_scale": false
      },
      "application/vnd.jupyter.widget-view+json": {
       "model_id": "1158847b69a840fbbc32187db58d786a",
       "version_major": 2,
       "version_minor": 0
      },
      "text/plain": [
       "S1B_IW_20171002T031923_DVP_RTC30_G_gpuned_08EC.zip:   0%|          | 0/468807386 [00:00<?, ?it/s]"
      ]
     },
     "metadata": {},
     "output_type": "display_data"
    },
    {
     "data": {
      "application/json": {
       "ascii": false,
       "bar_format": null,
       "colour": null,
       "elapsed": 0.01949477195739746,
       "initial": 0,
       "n": 0,
       "ncols": null,
       "nrows": null,
       "postfix": null,
       "prefix": "S1A_IW_20171002T155613_DVP_RTC30_G_gpuned_3133.zip",
       "rate": null,
       "total": 451853994,
       "unit": "it",
       "unit_divisor": 1000,
       "unit_scale": false
      },
      "application/vnd.jupyter.widget-view+json": {
       "model_id": "2e78e194363a4faab8373011c0dbae43",
       "version_major": 2,
       "version_minor": 0
      },
      "text/plain": [
       "S1A_IW_20171002T155613_DVP_RTC30_G_gpuned_3133.zip:   0%|          | 0/451853994 [00:00<?, ?it/s]"
      ]
     },
     "metadata": {},
     "output_type": "display_data"
    },
    {
     "name": "stdout",
     "output_type": "stream",
     "text": [
      "Current job: 80/108, time elapsed: 25.32 min, time remaining: 3.00 min\n"
     ]
    },
    {
     "data": {
      "application/json": {
       "ascii": false,
       "bar_format": null,
       "colour": null,
       "elapsed": 0.019786596298217773,
       "initial": 0,
       "n": 0,
       "ncols": null,
       "nrows": null,
       "postfix": null,
       "prefix": "S1A_IW_20171009T154755_DVP_RTC30_G_gpuned_1958.zip",
       "rate": null,
       "total": 453353568,
       "unit": "it",
       "unit_divisor": 1000,
       "unit_scale": false
      },
      "application/vnd.jupyter.widget-view+json": {
       "model_id": "590277744d9d4505b47151b6f6c266ed",
       "version_major": 2,
       "version_minor": 0
      },
      "text/plain": [
       "S1A_IW_20171009T154755_DVP_RTC30_G_gpuned_1958.zip:   0%|          | 0/453353568 [00:00<?, ?it/s]"
      ]
     },
     "metadata": {},
     "output_type": "display_data"
    },
    {
     "data": {
      "application/json": {
       "ascii": false,
       "bar_format": null,
       "colour": null,
       "elapsed": 0.020015239715576172,
       "initial": 0,
       "n": 0,
       "ncols": null,
       "nrows": null,
       "postfix": null,
       "prefix": "S1A_IW_20171012T161228_DVP_RTC30_G_gpuned_D75E.zip",
       "rate": null,
       "total": 382632976,
       "unit": "it",
       "unit_divisor": 1000,
       "unit_scale": false
      },
      "application/vnd.jupyter.widget-view+json": {
       "model_id": "c3e469f63c06471eb8358c28bb6668fd",
       "version_major": 2,
       "version_minor": 0
      },
      "text/plain": [
       "S1A_IW_20171012T161228_DVP_RTC30_G_gpuned_D75E.zip:   0%|          | 0/382632976 [00:00<?, ?it/s]"
      ]
     },
     "metadata": {},
     "output_type": "display_data"
    },
    {
     "data": {
      "application/json": {
       "ascii": false,
       "bar_format": null,
       "colour": null,
       "elapsed": 0.019563674926757812,
       "initial": 0,
       "n": 0,
       "ncols": null,
       "nrows": null,
       "postfix": null,
       "prefix": "S1A_IW_20171014T155613_DVP_RTC30_G_gpuned_94AA.zip",
       "rate": null,
       "total": 451973798,
       "unit": "it",
       "unit_divisor": 1000,
       "unit_scale": false
      },
      "application/vnd.jupyter.widget-view+json": {
       "model_id": "ad62857a8d0b40b1b67d01566080b547",
       "version_major": 2,
       "version_minor": 0
      },
      "text/plain": [
       "S1A_IW_20171014T155613_DVP_RTC30_G_gpuned_94AA.zip:   0%|          | 0/451973798 [00:00<?, ?it/s]"
      ]
     },
     "metadata": {},
     "output_type": "display_data"
    },
    {
     "data": {
      "application/json": {
       "ascii": false,
       "bar_format": null,
       "colour": null,
       "elapsed": 0.019570112228393555,
       "initial": 0,
       "n": 0,
       "ncols": null,
       "nrows": null,
       "postfix": null,
       "prefix": "S1B_IW_20171016T030305_DVP_RTC30_G_gpuned_35EC.zip",
       "rate": null,
       "total": 447505765,
       "unit": "it",
       "unit_divisor": 1000,
       "unit_scale": false
      },
      "application/vnd.jupyter.widget-view+json": {
       "model_id": "16ce777a37b848d99c1a7fdef34c5ec0",
       "version_major": 2,
       "version_minor": 0
      },
      "text/plain": [
       "S1B_IW_20171016T030305_DVP_RTC30_G_gpuned_35EC.zip:   0%|          | 0/447505765 [00:00<?, ?it/s]"
      ]
     },
     "metadata": {},
     "output_type": "display_data"
    },
    {
     "data": {
      "application/json": {
       "ascii": false,
       "bar_format": null,
       "colour": null,
       "elapsed": 0.019450902938842773,
       "initial": 0,
       "n": 0,
       "ncols": null,
       "nrows": null,
       "postfix": null,
       "prefix": "S1A_IW_20171021T154755_DVP_RTC30_G_gpuned_1D16.zip",
       "rate": null,
       "total": 451744656,
       "unit": "it",
       "unit_divisor": 1000,
       "unit_scale": false
      },
      "application/vnd.jupyter.widget-view+json": {
       "model_id": "79b95b64bd004cbc84d0cbca84965a8e",
       "version_major": 2,
       "version_minor": 0
      },
      "text/plain": [
       "S1A_IW_20171021T154755_DVP_RTC30_G_gpuned_1D16.zip:   0%|          | 0/451744656 [00:00<?, ?it/s]"
      ]
     },
     "metadata": {},
     "output_type": "display_data"
    },
    {
     "data": {
      "application/json": {
       "ascii": false,
       "bar_format": null,
       "colour": null,
       "elapsed": 0.01942586898803711,
       "initial": 0,
       "n": 0,
       "ncols": null,
       "nrows": null,
       "postfix": null,
       "prefix": "S1A_IW_20171026T155613_DVP_RTC30_G_gpuned_CBB1.zip",
       "rate": null,
       "total": 452332372,
       "unit": "it",
       "unit_divisor": 1000,
       "unit_scale": false
      },
      "application/vnd.jupyter.widget-view+json": {
       "model_id": "c24cd2a380174c3887b7afbdfd836e51",
       "version_major": 2,
       "version_minor": 0
      },
      "text/plain": [
       "S1A_IW_20171026T155613_DVP_RTC30_G_gpuned_CBB1.zip:   0%|          | 0/452332372 [00:00<?, ?it/s]"
      ]
     },
     "metadata": {},
     "output_type": "display_data"
    },
    {
     "data": {
      "application/json": {
       "ascii": false,
       "bar_format": null,
       "colour": null,
       "elapsed": 0.019457578659057617,
       "initial": 0,
       "n": 0,
       "ncols": null,
       "nrows": null,
       "postfix": null,
       "prefix": "S1A_IW_20171024T161228_DVP_RTC30_G_gpuned_FE04.zip",
       "rate": null,
       "total": 382597520,
       "unit": "it",
       "unit_divisor": 1000,
       "unit_scale": false
      },
      "application/vnd.jupyter.widget-view+json": {
       "model_id": "e9e7db3e7be84105a97f0245ef9ca114",
       "version_major": 2,
       "version_minor": 0
      },
      "text/plain": [
       "S1A_IW_20171024T161228_DVP_RTC30_G_gpuned_FE04.zip:   0%|          | 0/382597520 [00:00<?, ?it/s]"
      ]
     },
     "metadata": {},
     "output_type": "display_data"
    },
    {
     "data": {
      "application/json": {
       "ascii": false,
       "bar_format": null,
       "colour": null,
       "elapsed": 0.019522666931152344,
       "initial": 0,
       "n": 0,
       "ncols": null,
       "nrows": null,
       "postfix": null,
       "prefix": "S1B_IW_20171028T030305_DVP_RTC30_G_gpuned_7360.zip",
       "rate": null,
       "total": 451083436,
       "unit": "it",
       "unit_divisor": 1000,
       "unit_scale": false
      },
      "application/vnd.jupyter.widget-view+json": {
       "model_id": "b4d4a2339b2746fd8dc948e4185c66eb",
       "version_major": 2,
       "version_minor": 0
      },
      "text/plain": [
       "S1B_IW_20171028T030305_DVP_RTC30_G_gpuned_7360.zip:   0%|          | 0/451083436 [00:00<?, ?it/s]"
      ]
     },
     "metadata": {},
     "output_type": "display_data"
    },
    {
     "data": {
      "application/json": {
       "ascii": false,
       "bar_format": null,
       "colour": null,
       "elapsed": 0.019539833068847656,
       "initial": 0,
       "n": 0,
       "ncols": null,
       "nrows": null,
       "postfix": null,
       "prefix": "S1A_IW_20171102T154755_DVP_RTC30_G_gpuned_6B23.zip",
       "rate": null,
       "total": 451973242,
       "unit": "it",
       "unit_divisor": 1000,
       "unit_scale": false
      },
      "application/vnd.jupyter.widget-view+json": {
       "model_id": "cf7481379d6546be9f8f786719d9d0a6",
       "version_major": 2,
       "version_minor": 0
      },
      "text/plain": [
       "S1A_IW_20171102T154755_DVP_RTC30_G_gpuned_6B23.zip:   0%|          | 0/451973242 [00:00<?, ?it/s]"
      ]
     },
     "metadata": {},
     "output_type": "display_data"
    },
    {
     "data": {
      "application/json": {
       "ascii": false,
       "bar_format": null,
       "colour": null,
       "elapsed": 0.019715070724487305,
       "initial": 0,
       "n": 0,
       "ncols": null,
       "nrows": null,
       "postfix": null,
       "prefix": "S1B_IW_20171107T031923_DVP_RTC30_G_gpuned_D7B7.zip",
       "rate": null,
       "total": 466576212,
       "unit": "it",
       "unit_divisor": 1000,
       "unit_scale": false
      },
      "application/vnd.jupyter.widget-view+json": {
       "model_id": "f773bf378b524c3988de6d712044b913",
       "version_major": 2,
       "version_minor": 0
      },
      "text/plain": [
       "S1B_IW_20171107T031923_DVP_RTC30_G_gpuned_D7B7.zip:   0%|          | 0/466576212 [00:00<?, ?it/s]"
      ]
     },
     "metadata": {},
     "output_type": "display_data"
    },
    {
     "name": "stdout",
     "output_type": "stream",
     "text": [
      "Current job: 90/108, time elapsed: 28.74 min, time remaining: 2.10 min\n"
     ]
    },
    {
     "data": {
      "application/json": {
       "ascii": false,
       "bar_format": null,
       "colour": null,
       "elapsed": 0.01936054229736328,
       "initial": 0,
       "n": 0,
       "ncols": null,
       "nrows": null,
       "postfix": null,
       "prefix": "S1B_IW_20171109T030305_DVP_RTC30_G_gpuned_2D1F.zip",
       "rate": null,
       "total": 447948158,
       "unit": "it",
       "unit_divisor": 1000,
       "unit_scale": false
      },
      "application/vnd.jupyter.widget-view+json": {
       "model_id": "36c9fbe687aa4a7eb9a4e522c2aec018",
       "version_major": 2,
       "version_minor": 0
      },
      "text/plain": [
       "S1B_IW_20171109T030305_DVP_RTC30_G_gpuned_2D1F.zip:   0%|          | 0/447948158 [00:00<?, ?it/s]"
      ]
     },
     "metadata": {},
     "output_type": "display_data"
    },
    {
     "data": {
      "application/json": {
       "ascii": false,
       "bar_format": null,
       "colour": null,
       "elapsed": 0.01935124397277832,
       "initial": 0,
       "n": 0,
       "ncols": null,
       "nrows": null,
       "postfix": null,
       "prefix": "S1A_IW_20171107T155613_DVP_RTC30_G_gpuned_38F1.zip",
       "rate": null,
       "total": 450791660,
       "unit": "it",
       "unit_divisor": 1000,
       "unit_scale": false
      },
      "application/vnd.jupyter.widget-view+json": {
       "model_id": "ce50cea7d1be4fde9f94bc68a6fcad0e",
       "version_major": 2,
       "version_minor": 0
      },
      "text/plain": [
       "S1A_IW_20171107T155613_DVP_RTC30_G_gpuned_38F1.zip:   0%|          | 0/450791660 [00:00<?, ?it/s]"
      ]
     },
     "metadata": {},
     "output_type": "display_data"
    },
    {
     "data": {
      "application/json": {
       "ascii": false,
       "bar_format": null,
       "colour": null,
       "elapsed": 0.01949930191040039,
       "initial": 0,
       "n": 0,
       "ncols": null,
       "nrows": null,
       "postfix": null,
       "prefix": "S1A_IW_20171114T154754_DVP_RTC30_G_gpuned_04B9.zip",
       "rate": null,
       "total": 452316654,
       "unit": "it",
       "unit_divisor": 1000,
       "unit_scale": false
      },
      "application/vnd.jupyter.widget-view+json": {
       "model_id": "69a4485e66544825a55661a7064d6c1c",
       "version_major": 2,
       "version_minor": 0
      },
      "text/plain": [
       "S1A_IW_20171114T154754_DVP_RTC30_G_gpuned_04B9.zip:   0%|          | 0/452316654 [00:00<?, ?it/s]"
      ]
     },
     "metadata": {},
     "output_type": "display_data"
    },
    {
     "data": {
      "application/json": {
       "ascii": false,
       "bar_format": null,
       "colour": null,
       "elapsed": 0.019303560256958008,
       "initial": 0,
       "n": 0,
       "ncols": null,
       "nrows": null,
       "postfix": null,
       "prefix": "S1A_IW_20171117T161228_DVP_RTC30_G_gpuned_2685.zip",
       "rate": null,
       "total": 383534991,
       "unit": "it",
       "unit_divisor": 1000,
       "unit_scale": false
      },
      "application/vnd.jupyter.widget-view+json": {
       "model_id": "f9c4071ecabc4393a04e87677220be4f",
       "version_major": 2,
       "version_minor": 0
      },
      "text/plain": [
       "S1A_IW_20171117T161228_DVP_RTC30_G_gpuned_2685.zip:   0%|          | 0/383534991 [00:00<?, ?it/s]"
      ]
     },
     "metadata": {},
     "output_type": "display_data"
    },
    {
     "data": {
      "application/json": {
       "ascii": false,
       "bar_format": null,
       "colour": null,
       "elapsed": 0.019398212432861328,
       "initial": 0,
       "n": 0,
       "ncols": null,
       "nrows": null,
       "postfix": null,
       "prefix": "S1A_IW_20171119T155613_DVP_RTC30_G_gpuned_4EB9.zip",
       "rate": null,
       "total": 451315829,
       "unit": "it",
       "unit_divisor": 1000,
       "unit_scale": false
      },
      "application/vnd.jupyter.widget-view+json": {
       "model_id": "e7f17b2e4d7d4182842b25753a3e04d3",
       "version_major": 2,
       "version_minor": 0
      },
      "text/plain": [
       "S1A_IW_20171119T155613_DVP_RTC30_G_gpuned_4EB9.zip:   0%|          | 0/451315829 [00:00<?, ?it/s]"
      ]
     },
     "metadata": {},
     "output_type": "display_data"
    },
    {
     "data": {
      "application/json": {
       "ascii": false,
       "bar_format": null,
       "colour": null,
       "elapsed": 0.022225618362426758,
       "initial": 0,
       "n": 0,
       "ncols": null,
       "nrows": null,
       "postfix": null,
       "prefix": "S1B_IW_20171121T030304_DVP_RTC30_G_gpuned_B33E.zip",
       "rate": null,
       "total": 449505269,
       "unit": "it",
       "unit_divisor": 1000,
       "unit_scale": false
      },
      "application/vnd.jupyter.widget-view+json": {
       "model_id": "a54598395099459daa0bbf1e37784c48",
       "version_major": 2,
       "version_minor": 0
      },
      "text/plain": [
       "S1B_IW_20171121T030304_DVP_RTC30_G_gpuned_B33E.zip:   0%|          | 0/449505269 [00:00<?, ?it/s]"
      ]
     },
     "metadata": {},
     "output_type": "display_data"
    },
    {
     "data": {
      "application/json": {
       "ascii": false,
       "bar_format": null,
       "colour": null,
       "elapsed": 0.020601272583007812,
       "initial": 0,
       "n": 0,
       "ncols": null,
       "nrows": null,
       "postfix": null,
       "prefix": "S1A_IW_20171126T154754_DVP_RTC30_G_gpuned_AD26.zip",
       "rate": null,
       "total": 453955708,
       "unit": "it",
       "unit_divisor": 1000,
       "unit_scale": false
      },
      "application/vnd.jupyter.widget-view+json": {
       "model_id": "f91eb11c36d1489c8f13abb26de85363",
       "version_major": 2,
       "version_minor": 0
      },
      "text/plain": [
       "S1A_IW_20171126T154754_DVP_RTC30_G_gpuned_AD26.zip:   0%|          | 0/453955708 [00:00<?, ?it/s]"
      ]
     },
     "metadata": {},
     "output_type": "display_data"
    },
    {
     "data": {
      "application/json": {
       "ascii": false,
       "bar_format": null,
       "colour": null,
       "elapsed": 0.019430875778198242,
       "initial": 0,
       "n": 0,
       "ncols": null,
       "nrows": null,
       "postfix": null,
       "prefix": "S1B_IW_20171201T031922_DVP_RTC30_G_gpuned_C38B.zip",
       "rate": null,
       "total": 467339883,
       "unit": "it",
       "unit_divisor": 1000,
       "unit_scale": false
      },
      "application/vnd.jupyter.widget-view+json": {
       "model_id": "ef3fb7533d504f2d969c184390a0d06e",
       "version_major": 2,
       "version_minor": 0
      },
      "text/plain": [
       "S1B_IW_20171201T031922_DVP_RTC30_G_gpuned_C38B.zip:   0%|          | 0/467339883 [00:00<?, ?it/s]"
      ]
     },
     "metadata": {},
     "output_type": "display_data"
    },
    {
     "data": {
      "application/json": {
       "ascii": false,
       "bar_format": null,
       "colour": null,
       "elapsed": 0.019446134567260742,
       "initial": 0,
       "n": 0,
       "ncols": null,
       "nrows": null,
       "postfix": null,
       "prefix": "S1A_IW_20171129T161228_DVP_RTC30_G_gpuned_478A.zip",
       "rate": null,
       "total": 383592760,
       "unit": "it",
       "unit_divisor": 1000,
       "unit_scale": false
      },
      "application/vnd.jupyter.widget-view+json": {
       "model_id": "2127ae88bf2642328ebe499fb1c340b4",
       "version_major": 2,
       "version_minor": 0
      },
      "text/plain": [
       "S1A_IW_20171129T161228_DVP_RTC30_G_gpuned_478A.zip:   0%|          | 0/383592760 [00:00<?, ?it/s]"
      ]
     },
     "metadata": {},
     "output_type": "display_data"
    },
    {
     "data": {
      "application/json": {
       "ascii": false,
       "bar_format": null,
       "colour": null,
       "elapsed": 0.019671201705932617,
       "initial": 0,
       "n": 0,
       "ncols": null,
       "nrows": null,
       "postfix": null,
       "prefix": "S1A_IW_20171201T155612_DVP_RTC30_G_gpuned_005E.zip",
       "rate": null,
       "total": 451281380,
       "unit": "it",
       "unit_divisor": 1000,
       "unit_scale": false
      },
      "application/vnd.jupyter.widget-view+json": {
       "model_id": "38e87d8226744457a98244e076bf86b5",
       "version_major": 2,
       "version_minor": 0
      },
      "text/plain": [
       "S1A_IW_20171201T155612_DVP_RTC30_G_gpuned_005E.zip:   0%|          | 0/451281380 [00:00<?, ?it/s]"
      ]
     },
     "metadata": {},
     "output_type": "display_data"
    },
    {
     "name": "stdout",
     "output_type": "stream",
     "text": [
      "Current job: 100/108, time elapsed: 32.11 min, time remaining: 1.00 min\n"
     ]
    },
    {
     "data": {
      "application/json": {
       "ascii": false,
       "bar_format": null,
       "colour": null,
       "elapsed": 0.01978754997253418,
       "initial": 0,
       "n": 0,
       "ncols": null,
       "nrows": null,
       "postfix": null,
       "prefix": "S1B_IW_20171203T030304_DVP_RTC30_G_gpuned_E5AF.zip",
       "rate": null,
       "total": 448757410,
       "unit": "it",
       "unit_divisor": 1000,
       "unit_scale": false
      },
      "application/vnd.jupyter.widget-view+json": {
       "model_id": "0efc3f2f5b0c4410a3bb7834f057fe81",
       "version_major": 2,
       "version_minor": 0
      },
      "text/plain": [
       "S1B_IW_20171203T030304_DVP_RTC30_G_gpuned_E5AF.zip:   0%|          | 0/448757410 [00:00<?, ?it/s]"
      ]
     },
     "metadata": {},
     "output_type": "display_data"
    },
    {
     "data": {
      "application/json": {
       "ascii": false,
       "bar_format": null,
       "colour": null,
       "elapsed": 0.02003765106201172,
       "initial": 0,
       "n": 0,
       "ncols": null,
       "nrows": null,
       "postfix": null,
       "prefix": "S1A_IW_20171208T154754_DVP_RTC30_G_gpuned_5BD8.zip",
       "rate": null,
       "total": 453812166,
       "unit": "it",
       "unit_divisor": 1000,
       "unit_scale": false
      },
      "application/vnd.jupyter.widget-view+json": {
       "model_id": "3cd6ee14ed2548be8aaa1292bd393543",
       "version_major": 2,
       "version_minor": 0
      },
      "text/plain": [
       "S1A_IW_20171208T154754_DVP_RTC30_G_gpuned_5BD8.zip:   0%|          | 0/453812166 [00:00<?, ?it/s]"
      ]
     },
     "metadata": {},
     "output_type": "display_data"
    },
    {
     "data": {
      "application/json": {
       "ascii": false,
       "bar_format": null,
       "colour": null,
       "elapsed": 0.01932215690612793,
       "initial": 0,
       "n": 0,
       "ncols": null,
       "nrows": null,
       "postfix": null,
       "prefix": "S1A_IW_20171211T161227_DVP_RTC30_G_gpuned_E257.zip",
       "rate": null,
       "total": 385987604,
       "unit": "it",
       "unit_divisor": 1000,
       "unit_scale": false
      },
      "application/vnd.jupyter.widget-view+json": {
       "model_id": "8c6a8c678c68417fb68f622a9976cef9",
       "version_major": 2,
       "version_minor": 0
      },
      "text/plain": [
       "S1A_IW_20171211T161227_DVP_RTC30_G_gpuned_E257.zip:   0%|          | 0/385987604 [00:00<?, ?it/s]"
      ]
     },
     "metadata": {},
     "output_type": "display_data"
    },
    {
     "data": {
      "application/json": {
       "ascii": false,
       "bar_format": null,
       "colour": null,
       "elapsed": 0.019379854202270508,
       "initial": 0,
       "n": 0,
       "ncols": null,
       "nrows": null,
       "postfix": null,
       "prefix": "S1B_IW_20171213T031922_DVP_RTC30_G_gpuned_49B7.zip",
       "rate": null,
       "total": 468857392,
       "unit": "it",
       "unit_divisor": 1000,
       "unit_scale": false
      },
      "application/vnd.jupyter.widget-view+json": {
       "model_id": "5d433006e1ed449396db14bdbaf4f7f9",
       "version_major": 2,
       "version_minor": 0
      },
      "text/plain": [
       "S1B_IW_20171213T031922_DVP_RTC30_G_gpuned_49B7.zip:   0%|          | 0/468857392 [00:00<?, ?it/s]"
      ]
     },
     "metadata": {},
     "output_type": "display_data"
    },
    {
     "data": {
      "application/json": {
       "ascii": false,
       "bar_format": null,
       "colour": null,
       "elapsed": 0.02009105682373047,
       "initial": 0,
       "n": 0,
       "ncols": null,
       "nrows": null,
       "postfix": null,
       "prefix": "S1A_IW_20171213T155612_DVP_RTC30_G_gpuned_E2FD.zip",
       "rate": null,
       "total": 452509117,
       "unit": "it",
       "unit_divisor": 1000,
       "unit_scale": false
      },
      "application/vnd.jupyter.widget-view+json": {
       "model_id": "c0095ba1580d4ec3be9c93b7ecc4586d",
       "version_major": 2,
       "version_minor": 0
      },
      "text/plain": [
       "S1A_IW_20171213T155612_DVP_RTC30_G_gpuned_E2FD.zip:   0%|          | 0/452509117 [00:00<?, ?it/s]"
      ]
     },
     "metadata": {},
     "output_type": "display_data"
    },
    {
     "data": {
      "application/json": {
       "ascii": false,
       "bar_format": null,
       "colour": null,
       "elapsed": 0.019661903381347656,
       "initial": 0,
       "n": 0,
       "ncols": null,
       "nrows": null,
       "postfix": null,
       "prefix": "S1B_IW_20171215T030304_DVP_RTC30_G_gpuned_FC42.zip",
       "rate": null,
       "total": 447576931,
       "unit": "it",
       "unit_divisor": 1000,
       "unit_scale": false
      },
      "application/vnd.jupyter.widget-view+json": {
       "model_id": "e125690d67ad4a1cbeacc442dde2de04",
       "version_major": 2,
       "version_minor": 0
      },
      "text/plain": [
       "S1B_IW_20171215T030304_DVP_RTC30_G_gpuned_FC42.zip:   0%|          | 0/447576931 [00:00<?, ?it/s]"
      ]
     },
     "metadata": {},
     "output_type": "display_data"
    },
    {
     "data": {
      "application/json": {
       "ascii": false,
       "bar_format": null,
       "colour": null,
       "elapsed": 0.01949000358581543,
       "initial": 0,
       "n": 0,
       "ncols": null,
       "nrows": null,
       "postfix": null,
       "prefix": "S1A_IW_20171220T154753_DVP_RTC30_G_gpuned_DBAC.zip",
       "rate": null,
       "total": 452329522,
       "unit": "it",
       "unit_divisor": 1000,
       "unit_scale": false
      },
      "application/vnd.jupyter.widget-view+json": {
       "model_id": "377768cd89784df1949c0ec6a2ceffa9",
       "version_major": 2,
       "version_minor": 0
      },
      "text/plain": [
       "S1A_IW_20171220T154753_DVP_RTC30_G_gpuned_DBAC.zip:   0%|          | 0/452329522 [00:00<?, ?it/s]"
      ]
     },
     "metadata": {},
     "output_type": "display_data"
    },
    {
     "data": {
      "application/json": {
       "ascii": false,
       "bar_format": null,
       "colour": null,
       "elapsed": 0.020560026168823242,
       "initial": 0,
       "n": 0,
       "ncols": null,
       "nrows": null,
       "postfix": null,
       "prefix": "S1A_IW_20171223T161226_DVP_RTC30_G_gpuned_C8AF.zip",
       "rate": null,
       "total": 385190496,
       "unit": "it",
       "unit_divisor": 1000,
       "unit_scale": false
      },
      "application/vnd.jupyter.widget-view+json": {
       "model_id": "e76c7e58f80245848a0b89752d5024ad",
       "version_major": 2,
       "version_minor": 0
      },
      "text/plain": [
       "S1A_IW_20171223T161226_DVP_RTC30_G_gpuned_C8AF.zip:   0%|          | 0/385190496 [00:00<?, ?it/s]"
      ]
     },
     "metadata": {},
     "output_type": "display_data"
    },
    {
     "data": {
      "application/json": {
       "ascii": false,
       "bar_format": null,
       "colour": null,
       "elapsed": 0.019168376922607422,
       "initial": 0,
       "n": 0,
       "ncols": null,
       "nrows": null,
       "postfix": null,
       "prefix": "S1A_IW_20171225T155611_DVP_RTC30_G_gpuned_1882.zip",
       "rate": null,
       "total": 452504629,
       "unit": "it",
       "unit_divisor": 1000,
       "unit_scale": false
      },
      "application/vnd.jupyter.widget-view+json": {
       "model_id": "6383f8d28b804389a7d0746dae3a5c97",
       "version_major": 2,
       "version_minor": 0
      },
      "text/plain": [
       "S1A_IW_20171225T155611_DVP_RTC30_G_gpuned_1882.zip:   0%|          | 0/452504629 [00:00<?, ?it/s]"
      ]
     },
     "metadata": {},
     "output_type": "display_data"
    },
    {
     "data": {
      "application/json": {
       "ascii": false,
       "bar_format": null,
       "colour": null,
       "elapsed": 0.01941537857055664,
       "initial": 0,
       "n": 0,
       "ncols": null,
       "nrows": null,
       "postfix": null,
       "prefix": "S1B_IW_20171227T030303_DVP_RTC30_G_gpuned_71D1.zip",
       "rate": null,
       "total": 449223630,
       "unit": "it",
       "unit_divisor": 1000,
       "unit_scale": false
      },
      "application/vnd.jupyter.widget-view+json": {
       "model_id": "0dd96344d7a346eb81c1a420819eb3ea",
       "version_major": 2,
       "version_minor": 0
      },
      "text/plain": [
       "S1B_IW_20171227T030303_DVP_RTC30_G_gpuned_71D1.zip:   0%|          | 0/449223630 [00:00<?, ?it/s]"
      ]
     },
     "metadata": {},
     "output_type": "display_data"
    }
   ],
   "source": [
    "# Get the list of jobs to download\n",
    "usegranules = [i.properties['sceneName'] for i in results]\n",
    "joblist = hyp3.find_jobs()\n",
    "joblist = joblist.filter_jobs(succeeded=True,include_expired=False)\n",
    "joblen = len(results)-1\n",
    "\n",
    "t = time.time()\n",
    "count = 0\n",
    "for i,job in enumerate(joblist):\n",
    "\n",
    "    jobname = job.job_parameters['granules'][0]\n",
    "\n",
    "    if jobname in usegranules:\n",
    "        count += 1\n",
    "        usegranules.remove(jobname)\n",
    "        if count%10 ==0:\n",
    "            te = time.time()-t\n",
    "            print(f'Current job: {count}/{joblen}, time elapsed: {te/60:.2f} min, time remaining: {(te/(i+1)*(joblen-count))/60:.2f} min')\n",
    "        job.download_files(download_path)\n",
    "        for pol in pols:\n",
    "            # print(pol)\n",
    "            extracttif(download_path,products_path,pol=pol,convert=False)\n",
    "            if autoEPSG:\n",
    "                if (count == 1) and (pol == pols[0]):\n",
    "                    fileg = glob.glob(f'{str(products_path)}/*.tif')\n",
    "                    EPSGn = getEPSG(fileg[0])\n",
    "                    print(getEPSG(fileg[0]))\n",
    "            # fulltif = glob.glob(f'{str(products_path)}/*{pol}*')\n",
    "            reproject(WTKstr,EPSGn,products_path,f'{str(clipped_path)}/{pol}',convert_to_db=True)\n",
    "            os.system(f'rm {str(products_path)}/*.tif')\n",
    "            time.sleep(3)\n",
    "        os.system(f'rm {str(download_path)}/*.zip')\n",
    "        \n",
    "if len(usegranules)>0:\n",
    "    print('WARNING: NOT ALL GRANULES USED')"
   ]
  },
  {
   "cell_type": "markdown",
   "id": "4e20120b-e917-4b01-ae2a-7c77090ed61b",
   "metadata": {
    "tags": []
   },
   "source": [
    "EPSG number records:\n",
    "\n",
    "* Denali_h: 32605?\n",
    "* Harding: 32605\n",
    "* Juneau: 32608"
   ]
  },
  {
   "cell_type": "markdown",
   "id": "4352c4ae-76fa-4b07-8ae1-bf172c380f7c",
   "metadata": {},
   "source": [
    "## Create some metadata\n",
    "\n",
    "I want: a set of lists that have (with each proper corresponding entry), image name (granule I guess), date (date will be used to match), orbit pf, and orbit unique pf number"
   ]
  },
  {
   "cell_type": "code",
   "execution_count": 10,
   "id": "b7c24847-5441-40fd-8d43-04a23067a5ac",
   "metadata": {},
   "outputs": [],
   "source": [
    "def getSARdate(file,returndatestring=False):\n",
    "    '''Obtains the date of the start of a SAR acquisition, returns as a datetime\n",
    "    or a string.'''\n",
    "\n",
    "    file = str(file)\n",
    "    query = \"_????????T??????_\"\n",
    "    seqquery = str(query)\n",
    "    seqquery.replace('?','[0-9]')\n",
    "\n",
    "    substrings = fnmatch.filter((file[i:i+len(query)] for i in range(len(file) - len(query))), seqquery)\n",
    "    dtstr = substrings[0][1:-1].split('T')\n",
    "    \n",
    "    dtint = [dtstr[0][0:4],dtstr[0][4:6],dtstr[0][6:8],dtstr[1][0:2],dtstr[1][2:4],dtstr[1][4:6]]\n",
    "    dtint = [int(i)for i in dtint]\n",
    "    dtimg = datetime(dtint[0],dtint[1],dtint[2],dtint[3],dtint[4],dtint[5])\n",
    "\n",
    "    if returndatestring:\n",
    "        dtstr = dtstr[0]+dtstr[1]\n",
    "        return dtimg,dtstr\n",
    "    else:\n",
    "        return dtimg"
   ]
  },
  {
   "cell_type": "code",
   "execution_count": 61,
   "id": "be29c8fa-4eff-4e46-a7de-062a1db7aacc",
   "metadata": {},
   "outputs": [],
   "source": [
    "#NOTE: Results must already be defined and refined\n",
    "\n",
    "for usepol in pols:\n",
    "\n",
    "    mnamelist = []\n",
    "    mdatelist = []\n",
    "    mpflist = []\n",
    "    mpfulist = []\n",
    "\n",
    "    files = (clipped_path/usepol).glob('*.tif')\n",
    "    filelist = []\n",
    "    pdatelist = []\n",
    "    pnamelist = []\n",
    "    # print(results)\n",
    "\n",
    "    for f in files:\n",
    "        # print(f)\n",
    "        pdatelist.append(getSARdate(f))\n",
    "        filelist.append(f)\n",
    "\n",
    "    # print(pdatelist)\n",
    "    pdatelist=np.array(pdatelist)\n",
    "    filelist = np.array(filelist)\n",
    "    # print(len(products))\n",
    "    # print(len(pdatelist))\n",
    "    for res in results:\n",
    "        res = res.properties\n",
    "        if usepol in res['polarization']:\n",
    "            rdate = datetime.strptime(res['startTime'],'%Y-%m-%dT%H:%M:%S.%fZ')\n",
    "            pind = np.where(rdate==pdatelist)\n",
    "            # print(pind)\n",
    "            if len(pind)==1:\n",
    "                pind = pind[0][0]\n",
    "                pnamelist.append(str(filelist[pind]))\n",
    "                rpf = str(res['pathNumber'])+'-'+str(res['frameNumber'])\n",
    "                mpflist.append(rpf)\n",
    "                mnamelist.append(res['sceneName'])\n",
    "                mdatelist.append(rdate)\n",
    "            else:\n",
    "                print('WARNING: Missing product')\n",
    "                print(res['sceneName'])\n",
    "                \n",
    "    pfunique = np.unique(mpflist)\n",
    "    mpfulist = [np.where(pfunique==i)[0][0] for i in mpflist]\n",
    "    arraykey = ['arraykey','pnamelist','mnamelist','mdatelist','mpflist','mpfulist']\n",
    "\n",
    "    arraykey = np.asanyarray(arraykey)\n",
    "    pnamelist = np.array(pnamelist)\n",
    "    mnamelist = np.array(mnamelist)\n",
    "    mdatelist = np.array(mdatelist)\n",
    "    mpflist = np.array(mpflist)\n",
    "    mpfulist = np.array(mpfulist)\n",
    "\n",
    "    mdatelist,pnamelist,mnamelist,mpflist,mpfulist = zip(*sorted(zip(mdatelist,pnamelist,mnamelist,mpflist,mpfulist)))\n",
    "    np.save(f'{str(data_dir)}/imgmeta_{usepol}.npy',(arraykey,pnamelist,mnamelist,mdatelist,mpflist,mpfulist))"
   ]
  },
  {
   "cell_type": "code",
   "execution_count": 16,
   "id": "c31620ce-dcc0-45d9-915c-602693d78d24",
   "metadata": {},
   "outputs": [
    {
     "name": "stdout",
     "output_type": "stream",
     "text": [
      "91\n",
      "109\n",
      "S1B_IW_SLC__1SDV_20171201T031922_20171201T031950_008520_00F1C6_993A\n"
     ]
    }
   ],
   "source": [
    "print(len(filelist))\n",
    "print(len(results))\n",
    "testnames = [i.properties['sceneName'] for i in results]\n",
    "print(testnames[11])\n",
    "# print(filelist[1])\n",
    "resultnames = [i.properties['sceneName'] for i in results]"
   ]
  },
  {
   "cell_type": "code",
   "execution_count": 34,
   "id": "2f312be8-07c6-4ddd-85ea-e1cceba46648",
   "metadata": {},
   "outputs": [],
   "source": [
    "test = [i.properties['sceneName'] for i in results]\n",
    "joblist = hyp3.find_jobs()\n",
    "joblist = joblist.filter_jobs(succeeded=True,include_expired=False)"
   ]
  },
  {
   "cell_type": "code",
   "execution_count": 36,
   "id": "5bbfe5ef-5eb2-4b4f-bef8-289daf5b3461",
   "metadata": {},
   "outputs": [
    {
     "data": {
      "text/plain": [
       "265"
      ]
     },
     "execution_count": 36,
     "metadata": {},
     "output_type": "execute_result"
    }
   ],
   "source": [
    "len(joblist)"
   ]
  },
  {
   "cell_type": "code",
   "execution_count": 1,
   "id": "0513c0c9-d210-4f7b-b034-04dc17b2bc4f",
   "metadata": {},
   "outputs": [
    {
     "ename": "NameError",
     "evalue": "name 'filelist' is not defined",
     "output_type": "error",
     "traceback": [
      "\u001b[0;31m---------------------------------------------------------------------------\u001b[0m",
      "\u001b[0;31mNameError\u001b[0m                                 Traceback (most recent call last)",
      "Input \u001b[0;32mIn [1]\u001b[0m, in \u001b[0;36m<cell line: 1>\u001b[0;34m()\u001b[0m\n\u001b[0;32m----> 1\u001b[0m \u001b[38;5;28mprint\u001b[39m(\u001b[43mfilelist\u001b[49m)\n",
      "\u001b[0;31mNameError\u001b[0m: name 'filelist' is not defined"
     ]
    }
   ],
   "source": [
    "print(filelist)"
   ]
  },
  {
   "cell_type": "code",
   "execution_count": 28,
   "id": "53326926-90a2-4a33-b5a5-9d7a71903f9f",
   "metadata": {},
   "outputs": [
    {
     "name": "stdout",
     "output_type": "stream",
     "text": [
      "/home/jovyan/GlacierSARdata/Wrangell/2017/rtc_clipped/VH/S1A_IW_20171225T155611_DVP_RTC30_G_gpuned_1882_VH.tif\n",
      "20171225T155611\n"
     ]
    }
   ],
   "source": []
  },
  {
   "cell_type": "code",
   "execution_count": 56,
   "id": "d2e10b4a-79f4-4e9e-aca2-d8be650dd8d2",
   "metadata": {},
   "outputs": [],
   "source": [
    "usepol = 'VV'\n",
    "files = (clipped_path/usepol).glob('*.tif')\n",
    "filelist = []\n",
    "# pdatelist = []\n",
    "# pnamelist = []\n",
    "# print(results)\n",
    "\n",
    "for f in files:\n",
    "    # print(f)\n",
    "    # pdatelist.append(getSARdate(f))\n",
    "    filelist.append(f)\n",
    "\n",
    "resulttimes = [i[17:32] for i in resultnames]\n",
    "filetimes = [str(i)[64:79] for i in filelist]"
   ]
  },
  {
   "cell_type": "code",
   "execution_count": 57,
   "id": "035fa452-a59b-456f-9297-c6919d8eddf8",
   "metadata": {},
   "outputs": [
    {
     "name": "stdout",
     "output_type": "stream",
     "text": [
      "res  len: 24\n",
      "file len: 24\n",
      "res  missing: 0\n",
      "file missing: 0\n"
     ]
    }
   ],
   "source": [
    "print(f'res  len: {len(resulttimes)}')\n",
    "print(f'file len: {len(filetimes)}')\n",
    "\n",
    "resmissing = [i for i in resulttimes if i not in filetimes]\n",
    "filmissing = [i for i in filetimes if i not in resulttimes]\n",
    "\n",
    "print(f'res  missing: {len(resmissing)}')\n",
    "print(f'file missing: {len(filmissing)}')"
   ]
  },
  {
   "cell_type": "code",
   "execution_count": 32,
   "id": "804d929f-d3aa-4482-b7fc-5a175f8b3408",
   "metadata": {},
   "outputs": [
    {
     "data": {
      "text/plain": [
       "'VH'"
      ]
     },
     "execution_count": 32,
     "metadata": {},
     "output_type": "execute_result"
    }
   ],
   "source": [
    "pol"
   ]
  },
  {
   "cell_type": "code",
   "execution_count": 40,
   "id": "de907a03-aaf4-4a8c-b936-e63687a71019",
   "metadata": {},
   "outputs": [
    {
     "data": {
      "text/plain": [
       "['20170602T161222',\n",
       " '20170530T154748',\n",
       " '20170523T155606',\n",
       " '20170518T154748',\n",
       " '20170511T155606',\n",
       " '20170316T161136',\n",
       " '20170313T154703',\n",
       " '20170306T155521',\n",
       " '20170304T161136',\n",
       " '20170301T154703',\n",
       " '20170222T155521',\n",
       " '20170220T161136',\n",
       " '20170217T154703',\n",
       " '20170210T155521',\n",
       " '20170127T161137',\n",
       " '20170124T154703',\n",
       " '20170117T155522',\n",
       " '20170103T161137']"
      ]
     },
     "execution_count": 40,
     "metadata": {},
     "output_type": "execute_result"
    }
   ],
   "source": [
    "resmissing"
   ]
  },
  {
   "cell_type": "code",
   "execution_count": 49,
   "id": "a69d2176-2ba6-437d-8ffb-9d5f6be791dc",
   "metadata": {},
   "outputs": [
    {
     "data": {
      "text/plain": [
       "False"
      ]
     },
     "execution_count": 49,
     "metadata": {},
     "output_type": "execute_result"
    }
   ],
   "source": [
    "'VH' in results[-1].properties['polarization']"
   ]
  },
  {
   "cell_type": "code",
   "execution_count": null,
   "id": "079203fa-92f7-45a8-b952-899ab28de0ae",
   "metadata": {},
   "outputs": [],
   "source": []
  }
 ],
 "metadata": {
  "kernelspec": {
   "display_name": "rtc_analysis",
   "language": "python",
   "name": "conda-env-.local-rtc_analysis-py"
  },
  "language_info": {
   "codemirror_mode": {
    "name": "ipython",
    "version": 3
   },
   "file_extension": ".py",
   "mimetype": "text/x-python",
   "name": "python",
   "nbconvert_exporter": "python",
   "pygments_lexer": "ipython3",
   "version": "3.9.13"
  }
 },
 "nbformat": 4,
 "nbformat_minor": 5
}
