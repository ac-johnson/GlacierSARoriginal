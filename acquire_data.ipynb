{
 "cells": [
  {
   "cell_type": "markdown",
   "id": "f629ba05-7fa9-449b-887c-eaa4f83b33c7",
   "metadata": {},
   "source": [
    "## Acquire images\n",
    "\n",
    "This notebook will:\n",
    "\n",
    "* Section 1: For a given bounding box and year, find all SAR images in that region. Get some stats on them\n",
    "* Section 2: Filter out images from scenes that don't have sufficient preceding winter imagery for melt detection\n",
    "* Section 3: Run ASF Hyp3 RTC processing\n",
    "* Section 4: Download the data. Reproject it immedately and save only the smaller image. Does that work? I thought I would have to have EPSG vals? This will have to get figured out"
   ]
  },
  {
   "cell_type": "markdown",
   "id": "9a48161b-eb88-4715-a5a0-a549fbc9624d",
   "metadata": {},
   "source": [
    "### Preamble\n",
    "Prepare to do stuff"
   ]
  },
  {
   "cell_type": "code",
   "execution_count": 2,
   "id": "31ab6cac-f1dc-4e1d-8ee3-f35edcd60941",
   "metadata": {},
   "outputs": [
    {
     "data": {
      "application/vnd.jupyter.widget-view+json": {
       "model_id": "2f9da806a9f24cfebe4ec95d163ecc0b",
       "version_major": 2,
       "version_minor": 0
      },
      "text/plain": [
       "URLWidget()"
      ]
     },
     "metadata": {},
     "output_type": "display_data"
    }
   ],
   "source": [
    "import url_widget as url_w\n",
    "notebookUrl = url_w.URLWidget()\n",
    "display(notebookUrl)\n",
    "\n",
    "notebookUrl = notebookUrl.value\n",
    "user = !echo $JUPYTERHUB_USER\n",
    "env = !echo $CONDA_PREFIX\n",
    "\n",
    "#capture\n",
    "from datetime import datetime\n",
    "import glob\n",
    "import json # for loads\n",
    "import os\n",
    "from pathlib import Path\n",
    "import pytz\n",
    "import re\n",
    "import shutil\n",
    "import asf_search as asf\n",
    "from zipfile import ZipFile\n",
    "import time\n",
    "import fnmatch\n",
    "\n",
    "from matplotlib import pyplot as plt\n",
    "#Writing Support Functions:\n",
    "\n",
    "import numpy as np\n",
    "from osgeo import gdal,osr\n",
    "\n",
    "from IPython.display import HTML, display, clear_output, Markdown\n",
    "    \n",
    "from hyp3_sdk import Batch, HyP3\n",
    "\n",
    "import opensarlab_lib as asfn"
   ]
  },
  {
   "cell_type": "code",
   "execution_count": 16,
   "id": "0df7713c-ce0f-4dbd-a83a-1243c2411ab1",
   "metadata": {
    "tags": []
   },
   "outputs": [
    {
     "name": "stdout",
     "output_type": "stream",
     "text": [
      "analysis_directory: /home/jovyan/GlacierSARdata/Juneau/2021\n",
      "/home/jovyan/GlacierSARdata/Juneau/2021/rtc_download\n",
      "/home/jovyan/GlacierSARdata/Juneau/2021/rtc_products\n",
      "/home/jovyan/GlacierSARdata/Juneau/2021/rtc_clipped\n"
     ]
    }
   ],
   "source": [
    "##NAME PROJECT###\n",
    "projdir = Path.home()/\"GlacierSARdata\"\n",
    "projname = 'Juneau'\n",
    "year = 2021\n",
    "data_dir=Path(f'{projdir}/{projname}/{str(year)}')\n",
    "pols = ['VV','VH']\n",
    "\n",
    "# Setting Paths\n",
    "analysis_directory = Path.cwd()/data_dir\n",
    "print(f\"analysis_directory: {analysis_directory}\")\n",
    "\n",
    "download_path = analysis_directory/\"rtc_download\"\n",
    "# download_path.mkdir()\n",
    "products_path = analysis_directory/\"rtc_products\"\n",
    "# products_path.mkdir()\n",
    "clipped_path = analysis_directory/\"rtc_clipped\"\n",
    "\n",
    "print(download_path)\n",
    "print(products_path)\n",
    "print(clipped_path)\n",
    "\n",
    "os.makedirs(data_dir,exist_ok=True)\n",
    "os.makedirs(download_path,exist_ok=True)\n",
    "os.makedirs(products_path,exist_ok=True)\n",
    "os.makedirs(analysis_directory/\"figures\",exist_ok=True)\n",
    "os.makedirs(clipped_path,exist_ok=True)\n",
    "for pol in pols:\n",
    "    os.makedirs(clipped_path/pol,exist_ok=True)\n",
    "\n",
    "# print(os.path.exists(data_dir))"
   ]
  },
  {
   "cell_type": "code",
   "execution_count": 8,
   "id": "247df810-10d2-4d18-b9b4-1ada4ab5c4f0",
   "metadata": {
    "tags": []
   },
   "outputs": [],
   "source": [
    "# def timediff(time1,time2,form='seconds'):\n",
    "#     '''time difference between time2 and time1 expressed as either days or seconds'''\n",
    "#     # dd = 1\n",
    "#     # if time1>time2:\n",
    "#     #     dd=1\n",
    "#     diff = time2-time1\n",
    "#     if form=='seconds':\n",
    "#         diff = diff.seconds+diff.days*86400\n",
    "#     elif form=='days':\n",
    "#         diff = diff.seconds/86400+diff.days\n",
    "#     return diff"
   ]
  },
  {
   "cell_type": "markdown",
   "id": "2088a5e7-6ded-4a0f-bfeb-cd224b77e154",
   "metadata": {
    "tags": []
   },
   "source": [
    "## Find SAR Images\n",
    "\n",
    "Find the SAR images, run some statistics on their frequency, and queue them for Hyp3 processing"
   ]
  },
  {
   "cell_type": "code",
   "execution_count": 17,
   "id": "e130110c-4820-4570-ac68-7d50dc54f98e",
   "metadata": {
    "tags": []
   },
   "outputs": [],
   "source": [
    "#testpolygon = POLYGON((-143.1356 61.7756,-143.3698 61.7793,-143.5279 61.7044,-143.3824 61.6052,-143.0614 61.4737,-142.9854 61.4144,-142.804 61.4292,-142.7358 61.5912,-142.5978 61.6494,-142.6707 61.7523,-142.9699 61.7839,-143.1356 61.7756))\n",
    "# WTKstr='POLYGON((-143.4858 61.4239,-142.5307 61.4239,-142.5307 61.7757,-143.4858 61.7757,-143.4858 61.4239))' #Kennicott\n",
    "# WTKstr='POLYGON((-144.5124 61.8108,-143.2512 61.8108,-143.2512 62.1938,-144.5124 62.1938,-144.5124 61.8108))' #Mt Wrangell\n",
    "# WTKstr='POLYGON((-151.6946 62.7583,-150.1696 62.7583,-150.1696 63.2668,-151.6946 63.2668,-151.6946 62.7583))' #Denali_h (mostly higher elevations)\n",
    "# WTKstr='POLYGON((-150.6448 59.6467,-149.5491 59.6467,-149.5491 60.2703,-150.6448 60.2703,-150.6448 59.6467))' #Harding\n",
    "WTKstr='POLYGON((-134.7796 58.3698,-133.5 58.3698,-133.5 59.109,-134.7796 59.109,-134.7796 58.3698))' #Juneau\n",
    "# testWTK='POLYGON((-134.5463 58.5889,-133.8663 58.5889,-133.8663 58.7656,-134.5463 58.7656,-134.5463 58.5889))' #SE AK icefield\n",
    "# testWTK='POLYGON((-18.2664 63.9706,-15.2442 63.9706,-15.2442 64.9461,-18.2664 64.9461,-18.2664 63.9706))' #iceland\n",
    "# testWTK='POLYGON((15.123 78.0197,16.9688 78.0197,16.9688 78.2449,15.123 78.2449,15.123 78.0197))' #svalbard\n",
    "# testWTK = 'POLYGON((-140.264 60.3786,-140.0853 60.3786,-140.0853 60.4539,-140.264 60.4539,-140.264 60.3786))'\n",
    "# testWTK='POLYGON((-50.0733 70.6347,-47.6859 70.6347,-47.6859 71.1109,-50.0733 71.1109,-50.0733 70.6347))' #west greenland\n",
    "\n",
    "#test thing\n",
    "#test thing 2\n",
    "# year = 2021\n",
    "# results = asf.geo_search(platform=[asf.PLATFORM.SENTINEL1], intersectsWith=WTKstr, maxResults=1000,start=f'{year}-01-01',\n",
    "#                          end=f'{year+1}-01-01',processingLevel='SLC')\n",
    "\n",
    "# datelist = []\n",
    "# pflist = [] #path-frame list\n",
    "# for res in results:\n",
    "#     res = res.properties\n",
    "#     rdate = datetime.strptime(res['startTime'],'%Y-%m-%dT%H:%M:%S.%f')\n",
    "#     rpf = res['pathNumber']+'-'+res['frameNumber']\n",
    "#     res['datetime']=rdate\n",
    "#     res['pfval'] = rpf\n",
    "#     datelist.append(rdate)\n",
    "#     pflist.append(rpf)\n",
    "\n",
    "    \n",
    "# pfunique = np.unique(pflist)\n",
    "# pfvals = pflist\n",
    "# pflist = [np.where(pfunique==i)[0][0] for i in pflist]\n",
    "\n",
    "# plt.figure()\n",
    "# plt.plot(datelist,pflist,'.',markersize=12)"
   ]
  },
  {
   "cell_type": "code",
   "execution_count": 17,
   "id": "43f79a2b-99ec-4dfb-93c9-52d47efa6125",
   "metadata": {
    "tags": []
   },
   "outputs": [],
   "source": [
    "# help(results[0])\n",
    "# results[0].properties"
   ]
  },
  {
   "cell_type": "code",
   "execution_count": 31,
   "id": "d366b6a6-d9b9-47e9-8726-003036ae97a1",
   "metadata": {
    "tags": []
   },
   "outputs": [],
   "source": [
    "# #remove images that have less than N winter scenes\n",
    "\n",
    "# N=4\n",
    "# wstart = datetime(year,1,1,0,0,0)\n",
    "# wend = datetime(year,4,1,1,0,0,0)\n",
    "# #result2 = results\n",
    "# pfremove=[]\n",
    "# trem = 0\n",
    "# #identify path-frames that do not meet requirements\n",
    "# for pf in pfunique:\n",
    "#     eles = [i for i in results if i.properties['pfval']==pf]\n",
    "#     datelist = np.array([i.properties['datetime'] for i in eles])\n",
    "#     dl2 = datelist[datelist > wstart]\n",
    "#     dl2 = dl2[dl2 < wend]\n",
    "#     if len(dl2)<N:\n",
    "#         pfremove.append(pf)\n",
    "#         trem += len(datelist)\n",
    "\n",
    "# #remove images from those path-frames\n",
    "# for res in results:\n",
    "#     if res.properties['pfval'] in pfremove:\n",
    "#         results.remove(res)\n",
    "            \n",
    "# print(f'total removed: {trem}')\n",
    "# # print(pfremove)\n",
    "\n",
    "# #now plot again:\n",
    "# datelist = [i.properties['datetime'] for i in results]\n",
    "# pflist = [i.properties['pfval'] for i in results]\n",
    "# pfunique = np.unique(pflist)\n",
    "# pflist = [np.where(pfunique==i)[0][0] for i in pflist]\n",
    "\n",
    "# plt.figure()\n",
    "# plt.plot(datelist,pflist,'.',markersize=12)"
   ]
  },
  {
   "cell_type": "code",
   "execution_count": 15,
   "id": "c9f131b7-a039-408d-8c0d-ad8441c509a2",
   "metadata": {
    "tags": []
   },
   "outputs": [],
   "source": [
    "#Give more stats:\n",
    "\n",
    "# dlsort = [i for i in datelist]\n",
    "# dlsort.sort()\n",
    "# dldelta = [timediff(dlsort[i],dlsort[i+1],form='days') for i in range(len(dlsort)-1)]\n",
    "# dldelta = np.array(dldelta)\n",
    "\n",
    "# print('Acquisition stats')\n",
    "# print(f'Number of acquisitions:       {len(dldelta)+1}')\n",
    "# print(f'Number of images >1min apart: {len(dldelta[dldelta>1/1440])+1}\\n')\n",
    "# print(f'Mean days apart:   {np.mean(dldelta):.3f}')\n",
    "# print(f'Mean days >1min:   {np.mean(dldelta[dldelta>1/1440]):.3f}')\n",
    "# print(f'Median days apart: {np.median(dldelta):.3f}')\n",
    "# print(f'Median days >1min: {np.median(dldelta[dldelta>1/1440]):.3f}')\n",
    "# print(f'Stdev days apart:  {np.std(dldelta):.3f}')\n",
    "# print(f'Longest gap:       {np.max(dldelta):.3f}')\n",
    "# print('Note: these are over the whole area, not necessarily by pixel')"
   ]
  },
  {
   "cell_type": "code",
   "execution_count": 6,
   "id": "526afff1-6352-472c-b230-21778230c6b8",
   "metadata": {
    "tags": []
   },
   "outputs": [],
   "source": [
    "#funcs for this kind of thing:\n",
    "\n",
    "def timediff(time1,time2,form='seconds'):\n",
    "    '''time difference between time2 and time1 expressed as either days or seconds'''\n",
    "    # dd = 1\n",
    "    # if time1>time2:\n",
    "    #     dd=1\n",
    "    diff = time2-time1\n",
    "    if form=='seconds':\n",
    "        diff = diff.seconds+diff.days*86400\n",
    "    elif form=='days':\n",
    "        diff = diff.seconds/86400+diff.days\n",
    "    return diff\n",
    "\n",
    "def getasfresults(WTKstr,year,trimresults=True,winterN=4,showplots=False,showstats=False):\n",
    "    \"\"\"trim results removes images if there are less than winterN number of winter scenes to establish the baseline\"\"\"\n",
    "    results = asf.geo_search(platform=[asf.PLATFORM.SENTINEL1], intersectsWith=WTKstr, maxResults=1000,start=f'{str(year)}-01-01',\n",
    "                         end=f'{str(year+1)}-01-01',processingLevel='SLC')\n",
    "\n",
    "    datelist = []\n",
    "    pflist = [] #path-frame list\n",
    "    for res in results:\n",
    "        res = res.properties\n",
    "        rdate = datetime.strptime(res['startTime'],'%Y-%m-%dT%H:%M:%S.%f')\n",
    "        rpf = res['pathNumber']+'-'+res['frameNumber']\n",
    "        res['datetime']=rdate\n",
    "        res['pfval'] = rpf\n",
    "        datelist.append(rdate)\n",
    "        pflist.append(rpf)\n",
    "\n",
    "\n",
    "    pfunique = np.unique(pflist)\n",
    "    pfvals = pflist\n",
    "    pflist = [np.where(pfunique==i)[0][0] for i in pflist]\n",
    "    \n",
    "    if showplots==True:\n",
    "        plt.figure()\n",
    "        plt.plot(datelist,pflist,'.',markersize=12)\n",
    "        \n",
    "    if trimresults==True:\n",
    "        wstart = datetime(year,1,1,0,0,0)\n",
    "        wend = datetime(year,4,1,1,0,0,0)\n",
    "        #result2 = results\n",
    "        pfremove=[]\n",
    "        trem = 0\n",
    "        #identify path-frames that do not meet requirements\n",
    "        for pf in pfunique:\n",
    "            eles = [i for i in results if i.properties['pfval']==pf]\n",
    "            datelist = np.array([i.properties['datetime'] for i in eles])\n",
    "            dl2 = datelist[datelist > wstart]\n",
    "            dl2 = dl2[dl2 < wend]\n",
    "            if len(dl2)<winterN:\n",
    "                pfremove.append(pf)\n",
    "                trem += len(datelist)\n",
    "\n",
    "        #remove images from those path-frames\n",
    "        for res in results:\n",
    "            if res.properties['pfval'] in pfremove:\n",
    "                results.remove(res)\n",
    "\n",
    "        print(f'total removed: {trem}')\n",
    "        # print(pfremove)\n",
    "        \n",
    "        #now plot again:\n",
    "        datelist = [i.properties['datetime'] for i in results]\n",
    "        pflist = [i.properties['pfval'] for i in results]\n",
    "        pfunique = np.unique(pflist)\n",
    "        pflist = [np.where(pfunique==i)[0][0] for i in pflist]\n",
    "\n",
    "        if showplots==True:\n",
    "            plt.figure()\n",
    "            plt.plot(datelist,pflist,'.',markersize=12)\n",
    "        \n",
    "    if showstats==True:\n",
    "        dlsort = [i for i in datelist]\n",
    "        dlsort.sort()\n",
    "        dldelta = [timediff(dlsort[i],dlsort[i+1],form='days') for i in range(len(dlsort)-1)]\n",
    "        dldelta = np.array(dldelta)\n",
    "\n",
    "        print('Acquisition stats')\n",
    "        print(f'Number of acquisitions:       {len(dldelta)+1}')\n",
    "        print(f'Number of images >1min apart: {len(dldelta[dldelta>1/1440])+1}\\n')\n",
    "        print(f'Mean days apart:   {np.mean(dldelta):.3f}')\n",
    "        print(f'Mean days >1min:   {np.mean(dldelta[dldelta>1/1440]):.3f}')\n",
    "        print(f'Median days apart: {np.median(dldelta):.3f}')\n",
    "        print(f'Median days >1min: {np.median(dldelta[dldelta>1/1440]):.3f}')\n",
    "        print(f'Stdev days apart:  {np.std(dldelta):.3f}')\n",
    "        print(f'Longest gap:       {np.max(dldelta):.3f}')\n",
    "        print('Note: these are over the whole area, not necessarily by pixel')\n",
    "        \n",
    "    return results"
   ]
  },
  {
   "cell_type": "code",
   "execution_count": 28,
   "id": "673b9700-c918-467a-8c96-b7fe904835ff",
   "metadata": {
    "tags": []
   },
   "outputs": [],
   "source": [
    "# results = getasfresults(WTKstr,year,showplots=True,showstats=True)\n",
    "# print(len(results))"
   ]
  },
  {
   "cell_type": "markdown",
   "id": "0cca386a-21e6-4945-a9ad-e39c4b63c839",
   "metadata": {
    "tags": []
   },
   "source": [
    "## Do Hyp3 Processing\n",
    "\n",
    "I need to:\n",
    "\n",
    "1. Identify all the images you want DONE\n",
    "2. Check if any of those are already RTC processed (not expired)\n",
    "3. Process all the remaining jobs\n",
    "4. Make a hyp3 object for the full list of jobs, with those done via new process and those done via old process\n",
    "5. download, extract, convert, and clip from those jobs"
   ]
  },
  {
   "cell_type": "code",
   "execution_count": 7,
   "id": "26b64e2b-2741-4190-8970-2b83f00b1470",
   "metadata": {
    "tags": []
   },
   "outputs": [
    {
     "name": "stdin",
     "output_type": "stream",
     "text": [
      "NASA Earthdata Login username:  acjohnson16\n",
      "NASA Earthdata Login password:  ·········\n"
     ]
    }
   ],
   "source": [
    "hyp3 = HyP3(prompt=True)"
   ]
  },
  {
   "cell_type": "code",
   "execution_count": null,
   "id": "d9ae79e0-d703-49f6-9671-97e9f24095d0",
   "metadata": {
    "tags": []
   },
   "outputs": [],
   "source": [
    "# readyproducts[10].job_parameters['granules']\n",
    "# readyproducts[10]#.job_parameters['expiration_time']\n",
    "# print(readyproducts[10].expiration_time)\n",
    "newproducts= hyp3.find_jobs(name='Wrangell_19')"
   ]
  },
  {
   "cell_type": "code",
   "execution_count": 34,
   "id": "67206c79-d913-4e94-b7aa-cfd2ad510f92",
   "metadata": {
    "tags": []
   },
   "outputs": [
    {
     "name": "stdout",
     "output_type": "stream",
     "text": [
      "129\n",
      "128\n"
     ]
    }
   ],
   "source": [
    "# granp = newproducts[0].job_parameters['granules'][0]\n",
    "# print(newproducts[0])\n",
    "# newproducts[0]\n",
    "# print(granp)\n",
    "# print(dojobs[-1].properties['sceneName'])\n",
    "# granp in readyprodnames\n",
    "# dojobs[-1].properties['sceneName'] in readyprodnames\n",
    "# incount = [1 for i in readyprodnames if i in resultnames]\n",
    "# print(np.sum(incount))\n",
    "# len(readyprodnames)\n",
    "# resultnames[-2] in readyprodnames\n",
    "\n",
    "print(len(results))\n",
    "results.remove(results[0])\n",
    "print(len(results))"
   ]
  },
  {
   "cell_type": "code",
   "execution_count": 18,
   "id": "ec354636-5517-47bf-aded-448e49ea887a",
   "metadata": {
    "tags": []
   },
   "outputs": [
    {
     "name": "stdout",
     "output_type": "stream",
     "text": [
      "total removed: 0\n",
      "Acquisition stats\n",
      "Number of acquisitions:       116\n",
      "Number of images >1min apart: 87\n",
      "\n",
      "Mean days apart:   3.070\n",
      "Mean days >1min:   4.105\n",
      "Median days apart: 4.480\n",
      "Median days >1min: 4.480\n",
      "Stdev days apart:  2.978\n",
      "Longest gap:       11.474\n",
      "Note: these are over the whole area, not necessarily by pixel\n",
      "total removed: 0\n",
      "jobs already ready: 116\n",
      "Number of jobs to do: 0\n"
     ]
    },
    {
     "data": {
      "image/png": "[encoded data removed]",
      "text/plain": [
       "<Figure size 432x288 with 1 Axes>"
      ]
     },
     "metadata": {
      "needs_background": "light"
     },
     "output_type": "display_data"
    },
    {
     "data": {
      "image/png": "[encoded data removed]",
      "text/plain": [
       "<Figure size 432x288 with 1 Axes>"
      ]
     },
     "metadata": {
      "needs_background": "light"
     },
     "output_type": "display_data"
    }
   ],
   "source": [
    "#Get_Data\n",
    "\n",
    "# readyproducts = hyp3.find_jobs(name=\"Wrangell_19\")\n",
    "readyproducts = hyp3.find_jobs()\n",
    "readyproducts = readyproducts.filter_jobs(succeeded=True,include_expired=False)\n",
    "readyprodnames = [i.job_parameters['granules'][0] for i in readyproducts]\n",
    "# print(len(readyproducts))\n",
    "\n",
    "results = getasfresults(WTKstr,year,showplots=True,showstats=True)\n",
    "dojobs = getasfresults(WTKstr,year)\n",
    "resultnames = [i.properties['sceneName'] for i in results]\n",
    "\n",
    "# print('job count')\n",
    "# print(len(dojobs))\n",
    "# print(len(results))\n",
    "remcount = 0\n",
    "# othercount = 0\n",
    "for i,job in enumerate(results):\n",
    "    # job = dojobs[i]\n",
    "    jobscene = job.properties['sceneName']\n",
    "    dojobnames = np.array([i.properties['sceneName'] for i in dojobs])\n",
    "    # print(np.where(dojobnames==jobscene)[0])\n",
    "    job = dojobs[np.where(dojobnames==jobscene)[0][0]]\n",
    "    # othercount += 1\n",
    "    if job.properties['sceneName'] in readyprodnames:\n",
    "        # print(i)\n",
    "        dojobs.remove(job)\n",
    "        remcount += 1\n",
    "    # else:\n",
    "    #     print(job.properties['sceneName'])\n",
    "    #     print(job.properties['sceneName'] in readyprodnames)\n",
    "        \n",
    "# results = getasfresults(WTKstr,year)\n",
    "print(f'jobs already ready: {remcount}')\n",
    "print(f'Number of jobs to do: {len(dojobs)}')\n",
    "# print(othercount)"
   ]
  },
  {
   "cell_type": "code",
   "execution_count": 29,
   "id": "ae6d700f-73ff-4001-89a2-e09475d4828f",
   "metadata": {
    "tags": []
   },
   "outputs": [
    {
     "data": {
      "text/plain": [
       "0"
      ]
     },
     "execution_count": 29,
     "metadata": {},
     "output_type": "execute_result"
    }
   ],
   "source": [
    "# testjobs = hyp3.find_jobs(status_code=[\"SUCCEEDED\",\"PENDING\"])\n",
    "# len(testjobs)"
   ]
  },
  {
   "cell_type": "code",
   "execution_count": 14,
   "id": "f07d5ae0-20f2-4e66-8528-8054a1912021",
   "metadata": {
    "tags": []
   },
   "outputs": [
    {
     "data": {
      "text/plain": [
       "Job.from_dict({'job_id': '775c5bfa-834b-4121-bf65-8a32cd332f82', 'job_type': 'RTC_GAMMA', 'request_time': '2022-07-20T19:52:30+00:00', 'status_code': 'SUCCEEDED', 'user_id': 'acjohnson16', 'name': 'Kenn_19_notebook', 'job_parameters': {'dem_matching': False, 'dem_name': 'copernicus', 'granules': ['S1B_IW_SLC__1SDV_20190113T031927_20190113T031955_014470_01AF1D_8B07'], 'include_dem': False, 'include_inc_map': False, 'include_rgb': False, 'include_scattering_area': False, 'radiometry': 'gamma0', 'resolution': 30, 'scale': 'power', 'speckle_filter': False}, 'files': [{'filename': 'S1B_IW_20190113T031927_DVP_RTC30_G_gpuned_3C9B.zip', 's3': {'bucket': 'hyp3-edc-prod-contentbucket-1fv14ed36ifj6', 'key': '775c5bfa-834b-4121-bf65-8a32cd332f82/S1B_IW_20190113T031927_DVP_RTC30_G_gpuned_3C9B.zip'}, 'size': 469771218, 'url': 'https://d3gm2hf49xd6jj.cloudfront.net/775c5bfa-834b-4121-bf65-8a32cd332f82/S1B_IW_20190113T031927_DVP_RTC30_G_gpuned_3C9B.zip'}], 'logs': [], 'browse_images': ['https://d3gm2hf49xd6jj.cloudfront.net/775c5bfa-834b-4121-bf65-8a32cd332f82/S1B_IW_20190113T031927_DVP_RTC30_G_gpuned_3C9B.png', 'https://d3gm2hf49xd6jj.cloudfront.net/775c5bfa-834b-4121-bf65-8a32cd332f82/S1B_IW_20190113T031927_DVP_RTC30_G_gpuned_3C9B_rgb.png'], 'thumbnail_images': ['https://d3gm2hf49xd6jj.cloudfront.net/775c5bfa-834b-4121-bf65-8a32cd332f82/S1B_IW_20190113T031927_DVP_RTC30_G_gpuned_3C9B_thumb.png', 'https://d3gm2hf49xd6jj.cloudfront.net/775c5bfa-834b-4121-bf65-8a32cd332f82/S1B_IW_20190113T031927_DVP_RTC30_G_gpuned_3C9B_rgb_thumb.png'], 'expiration_time': '2022-08-04T00:00:00+00:00'})"
      ]
     },
     "execution_count": 14,
     "metadata": {},
     "output_type": "execute_result"
    }
   ],
   "source": [
    "# test = hyp3.find_jobs()\n",
    "# print(len(test))\n",
    "# # print(test[50].download_files)\n",
    "\n",
    "# test2 = hyp3.my_info()\n",
    "# print(test2)\n",
    "\n",
    "# testf = test.filter_jobs(succeeded=True,include_expired=False)\n",
    "readyproducts[5]"
   ]
  },
  {
   "cell_type": "code",
   "execution_count": 19,
   "id": "75fe789b-7e1c-4216-9ad0-b6334fc0e76f",
   "metadata": {},
   "outputs": [
    {
     "name": "stdout",
     "output_type": "stream",
     "text": [
      "116 HyP3 Jobs: 0 succeeded, 0 failed, 0 running, 116 pending.\n"
     ]
    }
   ],
   "source": [
    "#Submit jobs for RTC processing\n",
    "\n",
    "# projectname = f'{projname}_{year%1000}_notebook'\n",
    "projectname = f'{projname}_{year%1000}'\n",
    "#'Kenn_19_notebook'\n",
    "\n",
    "# granules = [i.properties['sceneName'] for i in results]\n",
    "granules = [i.properties['sceneName'] for i in dojobs]\n",
    "# print(granules)\n",
    "# help(hyp3.submit_rtc_job)\n",
    "submitjobs = False\n",
    "if submitjobs:\n",
    "    rtc_jobs = Batch()\n",
    "    for g in granules:\n",
    "        rtc_jobs += hyp3.submit_rtc_job(g, name=projectname)\n",
    "    print(rtc_jobs)"
   ]
  },
  {
   "cell_type": "code",
   "execution_count": 16,
   "id": "1b6e70a8-262e-43aa-8332-35c0fd24fd21",
   "metadata": {},
   "outputs": [],
   "source": [
    "#do failed job: S1A_IW_SLC__1SDV_20210701T155634_20210701T155701_038586_048D97_C318\n",
    "dofailedjob = False\n",
    "if dofailedjob:\n",
    "    hyp3.submit_rtc_job('S1A_IW_SLC__1SDV_20210701T155634_20210701T155701_038586_048D97_C318', name = projectname)"
   ]
  },
  {
   "cell_type": "code",
   "execution_count": 18,
   "id": "1bdbb2a8-ea30-43c4-805c-e7d5cf7c35cc",
   "metadata": {},
   "outputs": [
    {
     "name": "stdout",
     "output_type": "stream",
     "text": [
      "0 HyP3 Jobs: 0 succeeded, 0 failed, 0 running, 0 pending.\n",
      "{'job_names': ['BSI_test2', 'BSI_test3', 'Greenland_test1', 'Hidden Lake Single', 'Kenn_19_notebook', 'Kenn_20_notebook', 'Kenn_20_notebook_2', 'Kenn_21_alt', 'Kenn_21_full', 'Kenn_21_notebook', 'Kennicott_21', 'Kennicott_Dec20', 'Kennicott_Jul21_test', 'LarsenC Single', 'Ronne_July21', 'Utk_test1', 'Wilkins Apr_17'], 'quota': {'max_jobs_per_month': 1000, 'remaining': 646}, 'user_id': 'acjohnson16'}\n"
     ]
    }
   ],
   "source": [
    "# Display Hyp3 job info\n",
    "print(Batch())\n",
    "print(hyp3.my_info())"
   ]
  },
  {
   "cell_type": "code",
   "execution_count": 17,
   "id": "e924d400-995f-4609-bbb2-2bb166877dea",
   "metadata": {},
   "outputs": [
    {
     "data": {
      "text/plain": [
       "{'job_names': ['BSI_test2',\n",
       "  'BSI_test3',\n",
       "  'Greenland_test1',\n",
       "  'Hidden Lake Single',\n",
       "  'Kenn_19_notebook',\n",
       "  'Kenn_20_notebook',\n",
       "  'Kenn_20_notebook_2',\n",
       "  'Kenn_21_alt',\n",
       "  'Kenn_21_full',\n",
       "  'Kenn_21_notebook',\n",
       "  'Kennicott_21',\n",
       "  'Kennicott_Dec20',\n",
       "  'Kennicott_Jul21_test',\n",
       "  'LarsenC Single',\n",
       "  'Ronne_July21',\n",
       "  'Utk_test1',\n",
       "  'Wilkins Apr_17'],\n",
       " 'quota': {'max_jobs_per_month': 1000, 'remaining': 646},\n",
       " 'user_id': 'acjohnson16'}"
      ]
     },
     "execution_count": 17,
     "metadata": {},
     "output_type": "execute_result"
    }
   ],
   "source": [
    "hyp3.my_info()"
   ]
  },
  {
   "cell_type": "markdown",
   "id": "6047bf99-395d-4e86-931d-b82820a150f3",
   "metadata": {
    "tags": []
   },
   "source": [
    "## Utility Functions\n",
    "\n",
    "download images\\\n",
    "extract images\\\n",
    "reproject and clip to wtk\\\n",
    "convert to db\\\n",
    "do this sequentially"
   ]
  },
  {
   "cell_type": "code",
   "execution_count": 9,
   "id": "f24913c5-3258-48a6-b81d-29e5fe241e33",
   "metadata": {
    "tags": []
   },
   "outputs": [],
   "source": [
    "#convert utility\n",
    "def converttodb(file):\n",
    "    ds = gdal.Open(file, gdal.GA_Update)\n",
    "    data = ds.ReadAsArray()\n",
    "\n",
    "    data[data<1e-6]=1e-6\n",
    "    \n",
    "    data = 10*np.log10(data)\n",
    "    data[data==-np.inf]=-60\n",
    "    ds.GetRasterBand(1).WriteArray(data)\n",
    "    ds = None\n",
    "\n",
    "#download utility:\n",
    "def extracttif(inloc,outloc,pol='VV',convert=True):\n",
    "    \"\"\"expect pol to be 'VV','VH','HH', or 'HV' \n",
    "    convert will convert this to db\"\"\"\n",
    "    if str(inloc)[-1]!='/':\n",
    "        inloc = str(inloc)+'/'\n",
    "    if str(outloc)[-1]!='/':\n",
    "        outloc = str(outloc)+'/'\n",
    "    infile = glob.glob(f'{inloc}*')\n",
    "    endstr = pol+'.tif'\n",
    "    for file in infile:\n",
    "        # print(file)\n",
    "        # namelist = \n",
    "        with ZipFile(file) as z:\n",
    "            # print(z.namelist)\n",
    "            z = ZipFile(file)\n",
    "            zname = [name for name in z.namelist() if name[-6:]==endstr][0]\n",
    "            # z.extract()\n",
    "        \n",
    "            filename = os.path.basename(zname)\n",
    "            source = z.open(zname)\n",
    "            targetname = os.path.join(outloc, filename)\n",
    "            target = open(targetname, \"wb\")\n",
    "            with source, target:\n",
    "                shutil.copyfileobj(source, target)\n",
    "            target.close()\n",
    "            if convert:\n",
    "                converttodb(targetname)\n",
    "        # os.remove(file)\n",
    "        "
   ]
  },
  {
   "cell_type": "code",
   "execution_count": 10,
   "id": "7955c4dc-3ceb-4956-a593-3817eb244178",
   "metadata": {
    "tags": []
   },
   "outputs": [],
   "source": [
    "#CLIPPING TOOLS\n",
    "\n",
    "def wtkparse(wtk):\n",
    "    \"\"\"It's not weird if it works\"\"\"\n",
    "    wtk = wtk.split(\"'\")\n",
    "    wtk = wtk[0].split(\"(\")[2]\n",
    "    wtk = wtk.split(\")\")[0]\n",
    "    wtk = wtk.split(',')\n",
    "    wtk = [s.split(' ') for s in wtk]\n",
    "    wtk = np.array([[float(ss) for ss in s] for s in wtk])\n",
    "    return(wtk)\n",
    "\n",
    "def CoordConvert(points,inproj,outproj,ptparse=False):\n",
    "    \"\"\"Convert coordinate grid from one projection to another\n",
    "    if converting from 4326, then points should be ordered lon,lat\"\"\"\n",
    "\n",
    "    if ptparse:\n",
    "        points = wtkparse(points)\n",
    "\n",
    "    if type(inproj)==str:\n",
    "        inproj=int(inproj)\n",
    "    if type(outproj)==str:\n",
    "        outproj=int(outproj)\n",
    "\n",
    "    epsgin = osr.SpatialReference()\n",
    "    epsgin.ImportFromEPSG(inproj)   \n",
    "    epsgout = osr.SpatialReference()\n",
    "    epsgout.ImportFromEPSG(outproj)\n",
    "\n",
    "    convert = osr.CoordinateTransformation(epsgin, epsgout)\n",
    "    points = np.array(points)\n",
    "    \n",
    "    for i,x in enumerate(points):\n",
    "        newpt = convert.TransformPoint(x[1],x[0])\n",
    "        points[i,0],points[i,1]=newpt[0],newpt[1]\n",
    "        \n",
    "    return points\n",
    "\n",
    "def wtktobox(wtk,epsgn,srcproj = 4326):\n",
    "    \"\"\"epsgn is the epsg of the tif file\n",
    "    output will be ulx uly lrx lry\"\"\"\n",
    "    epsgn = int(epsgn)\n",
    "    srcproj = int(srcproj)\n",
    "    xyp = CoordConvert(wtk,4326,epsgn,ptparse=True)\n",
    "    ulx,uly = np.min(xyp[:,0]),np.max(xyp[:,1])\n",
    "    lrx,lry = np.max(xyp[:,0]),np.min(xyp[:,1])\n",
    "    return ulx,uly,lrx,lry\n",
    "\n",
    "def testEPSG(inloc):\n",
    "    if str(inloc)[-1]!='/':\n",
    "        inloc = str(inloc)+'/'\n",
    "    # if str(outloc)[-1]!='/':\n",
    "        # outloc = str(outloc)+'/'\n",
    "    infiles = glob.glob(f'{inloc}*')\n",
    "    for file in infiles:\n",
    "        ds=gdal.Open(file)\n",
    "        proj = osr.SpatialReference(wkt=ds.GetProjection())\n",
    "        dsproj = proj.GetAttrValue('AUTHORITY',1)\n",
    "        ds = None\n",
    "        print(dsproj)\n",
    "# testEPSG(products_path)\n",
    "\n",
    "def getEPSG(file):\n",
    "    ds=gdal.Open(file)\n",
    "    proj = osr.SpatialReference(wkt=ds.GetProjection())\n",
    "    dsproj = proj.GetAttrValue('AUTHORITY',1)\n",
    "    ds = None\n",
    "    return dsproj\n",
    "\n",
    "def identify_epsgs(fileloc):\n",
    "    \"\"\"Identify EPSG systems used in this. By default this will return the most commonly one.\"\"\"\n",
    "    if str(fileloc)[-1]!='/':\n",
    "        fileloc = str(fileloc)+'/'\n",
    "    filelist = glob.glob(f'{fileloc}*')\n",
    "    eplist = []\n",
    "    for file in filelist:\n",
    "        eplist.append(getEPSG(file))\n",
    "        # print(eplist[-1])\n",
    "        # print(file)\n",
    "    epu,epc = np.unique(eplist,return_counts=True)\n",
    "    for i,ep in enumerate(epu):\n",
    "        count = epc[i]\n",
    "        print(f'Found EPSG:{ep}, count: {count}')\n",
    "    return epu[np.where(epc==np.max(epc))[0]][0]\n",
    "\n",
    "def reproject(wtk,epsgn,inloc,outloc,res=30,convert_to_db=False):\n",
    "    \"\"\"make the magic happen\"\"\"\n",
    "    if str(inloc)[-1]!='/':\n",
    "        inloc = str(inloc)+'/'\n",
    "    if str(outloc)[-1]!='/':\n",
    "        outloc = str(outloc)+'/'\n",
    "    infiles = glob.glob(f'{inloc}*')\n",
    "    \n",
    "    epsgn = int(epsgn)\n",
    "    ulx,uly,lrx,lry = wtktobox(wtk,epsgn)\n",
    "    # c1=0\n",
    "    epsgns = f'ESPG:{str(epsgn)}'\n",
    "    for file in infiles:\n",
    "        ofile = file.replace(inloc,outloc)\n",
    "        # ofile = '/home/jovyan/test/rtc_clipped/S1B_IW_20210713T031944_DVP_RTC30_G_gpuned_1E76_VV'\n",
    "        epsgf = int(getEPSG(file))\n",
    "        epsgfs = f'ESPG:{str(epsgf)}'\n",
    "        src = gdal.Open(file)\n",
    "        # print(ofile)\n",
    "        # print(type(ofile))\n",
    "        \n",
    "        epsgo = osr.SpatialReference()\n",
    "        epsgo.ImportFromEPSG(epsgn)   \n",
    "        \n",
    "        gdal.Warp(destNameOrDestDS=ofile,srcDSOrSrcDSTab=src,dstSRS=epsgo,\n",
    "                  outputBounds=(ulx,lry,lrx,uly),outputBoundsSRS=epsgo,resampleAlg='near',\n",
    "                  xRes=res,yRes=res)\n",
    "        \n",
    "        if convert_to_db:\n",
    "            converttodb(ofile)"
   ]
  },
  {
   "cell_type": "markdown",
   "id": "bbcba4bf-61a6-482b-b160-992b0fe1b381",
   "metadata": {},
   "source": [
    "## Get Data"
   ]
  },
  {
   "cell_type": "code",
   "execution_count": 69,
   "id": "c8295120-157b-401b-9766-6ff07d62ed7d",
   "metadata": {
    "tags": []
   },
   "outputs": [
    {
     "data": {
      "text/plain": [
       "Batch([Job.from_dict({'job_id': 'ba1539c1-8c68-446d-9d2b-c171075c49da', 'job_type': 'RTC_GAMMA', 'request_time': '2022-05-10T23:51:32+00:00', 'status_code': 'FAILED', 'user_id': 'acjohnson16', 'name': 'Kenn_21_notebook', 'job_parameters': {'dem_matching': False, 'dem_name': 'copernicus', 'granules': ['S1A_IW_SLC__1SDV_20210701T155634_20210701T155701_038586_048D97_C318'], 'include_dem': False, 'include_inc_map': False, 'include_rgb': False, 'include_scattering_area': False, 'radiometry': 'gamma0', 'resolution': 30, 'scale': 'power', 'speckle_filter': False}, 'logs': ['https://d3gm2hf49xd6jj.cloudfront.net/ba1539c1-8c68-446d-9d2b-c171075c49da/ba1539c1-8c68-446d-9d2b-c171075c49da.log'], 'expiration_time': '2022-05-26T00:00:00+00:00'})])"
      ]
     },
     "execution_count": 69,
     "metadata": {},
     "output_type": "execute_result"
    }
   ],
   "source": [
    "#Determine EPSG\n",
    "\n",
    "# (1==1) and ('VV'==pols[1])\n",
    "\n",
    "# hyp3.find_jobs(status_code=[\"FAILED\"])"
   ]
  },
  {
   "cell_type": "code",
   "execution_count": 19,
   "id": "1a2802cf-8d33-452e-8093-e82e48e22c3c",
   "metadata": {
    "tags": []
   },
   "outputs": [
    {
     "name": "stdout",
     "output_type": "stream",
     "text": [
      "No jobs running, all clear\n",
      "S1B_IW_SLC__1SDV_20211221T151537_20211221T151604_030125_0398E3_8E58\n",
      "116\n",
      "S1B_IW_SLC__1SDV_20211221T151537_20211221T151604_030125_0398E3_8E58\n",
      "115\n"
     ]
    }
   ],
   "source": [
    "#check if all jobs are finished\n",
    "\n",
    "class Error(Exception):\n",
    "    \"\"\"Base class for other exceptions\"\"\"\n",
    "    pass\n",
    "class stillrunningError(Error):\n",
    "    \"\"\"raised when jobs are still running\"\"\"\n",
    "    pass\n",
    "\n",
    "running = len(hyp3.find_jobs(status_code=[\"RUNNING\"]))\n",
    "running += len(hyp3.find_jobs(status_code=[\"PENDING\"]))\n",
    "\n",
    "if running > 0:\n",
    "    print('Jobs still running!')\n",
    "    raise stillrunningError\n",
    "else:\n",
    "    print('No jobs running, all clear')\n",
    "\n",
    "# hyp3products = hyp3.find_jobs()\n",
    "# hyp3products = hyp3products.filter_jobs(succeeded=True,include_expired=False)\n",
    "# # readyprodnames = [i.job_parameters['granules'][0] for i in readyproducts]\n",
    "# # print(len(hyp3products))\n",
    "# hyp3prodnames = [i.job_parameters['granules'][0] for i in hyp3products]\n",
    "# len(results)\n",
    "usegranules = [i.properties['sceneName'] for i in results]\n",
    "\n",
    "print(usegranules[0])\n",
    "print(len(usegranules))\n",
    "usegranules.remove(usegranules[10])\n",
    "print(usegranules[0])\n",
    "print(len(usegranules))\n",
    "# print(granules)"
   ]
  },
  {
   "cell_type": "code",
   "execution_count": 20,
   "id": "92928d69-b233-4e73-9d2d-e950100b281c",
   "metadata": {
    "tags": []
   },
   "outputs": [
    {
     "name": "stdout",
     "output_type": "stream",
     "text": [
      "No jobs running, all clear\n"
     ]
    },
    {
     "data": {
      "application/vnd.jupyter.widget-view+json": {
       "model_id": "b6f5516ae86849e9b3156d90d2d81460",
       "version_major": 2,
       "version_minor": 0
      },
      "text/plain": [
       "S1B_IW_20210102T150722_DVP_RTC30_G_gpuned_83D9.zip:   0%|          | 0/452962914 [00:00<?, ?it/s]"
      ]
     },
     "metadata": {},
     "output_type": "display_data"
    },
    {
     "name": "stdout",
     "output_type": "stream",
     "text": [
      "32608\n"
     ]
    },
    {
     "data": {
      "application/vnd.jupyter.widget-view+json": {
       "model_id": "89b941d53e01478bb26a7a30f2b31125",
       "version_major": 2,
       "version_minor": 0
      },
      "text/plain": [
       "S1A_IW_20210107T023805_DVP_RTC30_G_gpuned_4E85.zip:   0%|          | 0/458104746 [00:00<?, ?it/s]"
      ]
     },
     "metadata": {},
     "output_type": "display_data"
    },
    {
     "data": {
      "application/vnd.jupyter.widget-view+json": {
       "model_id": "380c6ce44a304807b4ffc5228c6e5ac7",
       "version_major": 2,
       "version_minor": 0
      },
      "text/plain": [
       "S1A_IW_20210107T023830_DVP_RTC30_G_gpuned_3CD9.zip:   0%|          | 0/456648092 [00:00<?, ?it/s]"
      ]
     },
     "metadata": {},
     "output_type": "display_data"
    },
    {
     "data": {
      "application/vnd.jupyter.widget-view+json": {
       "model_id": "84a534b625bc4b1684a2aa716fc3ba68",
       "version_major": 2,
       "version_minor": 0
      },
      "text/plain": [
       "S1B_IW_20210107T151531_DVP_RTC30_G_gpuned_5B2E.zip:   0%|          | 0/456247534 [00:00<?, ?it/s]"
      ]
     },
     "metadata": {},
     "output_type": "display_data"
    },
    {
     "data": {
      "application/vnd.jupyter.widget-view+json": {
       "model_id": "78135c38af074599a5fe49ca78257cce",
       "version_major": 2,
       "version_minor": 0
      },
      "text/plain": [
       "S1B_IW_20210114T150721_DVP_RTC30_G_gpuned_2D73.zip:   0%|          | 0/452950352 [00:00<?, ?it/s]"
      ]
     },
     "metadata": {},
     "output_type": "display_data"
    },
    {
     "data": {
      "application/vnd.jupyter.widget-view+json": {
       "model_id": "1112304dd4674678b35e85a362973871",
       "version_major": 2,
       "version_minor": 0
      },
      "text/plain": [
       "S1A_IW_20210119T023804_DVP_RTC30_G_gpuned_8270.zip:   0%|          | 0/458026231 [00:00<?, ?it/s]"
      ]
     },
     "metadata": {},
     "output_type": "display_data"
    },
    {
     "data": {
      "application/vnd.jupyter.widget-view+json": {
       "model_id": "dda5bf6c01964531ae56693ae7677074",
       "version_major": 2,
       "version_minor": 0
      },
      "text/plain": [
       "S1A_IW_20210119T023829_DVP_RTC30_G_gpuned_C9B8.zip:   0%|          | 0/457042125 [00:00<?, ?it/s]"
      ]
     },
     "metadata": {},
     "output_type": "display_data"
    },
    {
     "data": {
      "application/vnd.jupyter.widget-view+json": {
       "model_id": "163a7ba5b2934ba8a111269cf32abeac",
       "version_major": 2,
       "version_minor": 0
      },
      "text/plain": [
       "S1B_IW_20210119T151530_DVP_RTC30_G_gpuned_30AD.zip:   0%|          | 0/456626770 [00:00<?, ?it/s]"
      ]
     },
     "metadata": {},
     "output_type": "display_data"
    },
    {
     "data": {
      "application/vnd.jupyter.widget-view+json": {
       "model_id": "05647b349a8c4e09a551c4b6f22b1018",
       "version_major": 2,
       "version_minor": 0
      },
      "text/plain": [
       "S1A_IW_20210131T023804_DVP_RTC30_G_gpuned_4045.zip:   0%|          | 0/458419547 [00:00<?, ?it/s]"
      ]
     },
     "metadata": {},
     "output_type": "display_data"
    },
    {
     "name": "stdout",
     "output_type": "stream",
     "text": [
      "Current job: 10/115, time elapsed: 4.36 min, time remaining: 45.83 min\n"
     ]
    },
    {
     "data": {
      "application/vnd.jupyter.widget-view+json": {
       "model_id": "8212607cd1ea44d0afc74781a1495da7",
       "version_major": 2,
       "version_minor": 0
      },
      "text/plain": [
       "S1B_IW_20210126T150721_DVP_RTC30_G_gpuned_EFC7.zip:   0%|          | 0/452960507 [00:00<?, ?it/s]"
      ]
     },
     "metadata": {},
     "output_type": "display_data"
    },
    {
     "data": {
      "application/vnd.jupyter.widget-view+json": {
       "model_id": "00ec104683094da0828ccfdd307e76ab",
       "version_major": 2,
       "version_minor": 0
      },
      "text/plain": [
       "S1A_IW_20210131T023829_DVP_RTC30_G_gpuned_0340.zip:   0%|          | 0/456885126 [00:00<?, ?it/s]"
      ]
     },
     "metadata": {},
     "output_type": "display_data"
    },
    {
     "data": {
      "application/vnd.jupyter.widget-view+json": {
       "model_id": "5fb7ab667a1842efbc1779a46061bd4a",
       "version_major": 2,
       "version_minor": 0
      },
      "text/plain": [
       "S1B_IW_20210131T151530_DVP_RTC30_G_gpuned_2209.zip:   0%|          | 0/455494214 [00:00<?, ?it/s]"
      ]
     },
     "metadata": {},
     "output_type": "display_data"
    },
    {
     "data": {
      "application/vnd.jupyter.widget-view+json": {
       "model_id": "4800581ea2cb4fe79a125294c2331355",
       "version_major": 2,
       "version_minor": 0
      },
      "text/plain": [
       "S1B_IW_20210207T150721_DVP_RTC30_G_gpuned_D2ED.zip:   0%|          | 0/452939701 [00:00<?, ?it/s]"
      ]
     },
     "metadata": {},
     "output_type": "display_data"
    },
    {
     "data": {
      "application/vnd.jupyter.widget-view+json": {
       "model_id": "0ae323a5d24a45c5b08713db779e250f",
       "version_major": 2,
       "version_minor": 0
      },
      "text/plain": [
       "S1A_IW_20210212T023828_DVP_RTC30_G_gpuned_3130.zip:   0%|          | 0/456678648 [00:00<?, ?it/s]"
      ]
     },
     "metadata": {},
     "output_type": "display_data"
    },
    {
     "data": {
      "application/vnd.jupyter.widget-view+json": {
       "model_id": "0dae07f7ac3d48bdb185d6aab3ec070f",
       "version_major": 2,
       "version_minor": 0
      },
      "text/plain": [
       "S1A_IW_20210212T023804_DVP_RTC30_G_gpuned_8ABD.zip:   0%|          | 0/458032243 [00:00<?, ?it/s]"
      ]
     },
     "metadata": {},
     "output_type": "display_data"
    },
    {
     "data": {
      "application/vnd.jupyter.widget-view+json": {
       "model_id": "8fc0826f9a99435ca67c5cd4f9104514",
       "version_major": 2,
       "version_minor": 0
      },
      "text/plain": [
       "S1B_IW_20210212T151529_DVP_RTC30_G_gpuned_0399.zip:   0%|          | 0/455299993 [00:00<?, ?it/s]"
      ]
     },
     "metadata": {},
     "output_type": "display_data"
    },
    {
     "data": {
      "application/vnd.jupyter.widget-view+json": {
       "model_id": "d59b2fc3517849169d07df12b10ae0b1",
       "version_major": 2,
       "version_minor": 0
      },
      "text/plain": [
       "S1B_IW_20210219T150720_DVP_RTC30_G_gpuned_E339.zip:   0%|          | 0/452782873 [00:00<?, ?it/s]"
      ]
     },
     "metadata": {},
     "output_type": "display_data"
    },
    {
     "data": {
      "application/vnd.jupyter.widget-view+json": {
       "model_id": "ae3628d3d8294fe29824e0fabe43fe93",
       "version_major": 2,
       "version_minor": 0
      },
      "text/plain": [
       "S1A_IW_20210224T023803_DVP_RTC30_G_gpuned_5985.zip:   0%|          | 0/458793624 [00:00<?, ?it/s]"
      ]
     },
     "metadata": {},
     "output_type": "display_data"
    },
    {
     "data": {
      "application/vnd.jupyter.widget-view+json": {
       "model_id": "078f912f627145b097b61fa51ead503c",
       "version_major": 2,
       "version_minor": 0
      },
      "text/plain": [
       "S1B_IW_20210224T151529_DVP_RTC30_G_gpuned_A5D3.zip:   0%|          | 0/455661987 [00:00<?, ?it/s]"
      ]
     },
     "metadata": {},
     "output_type": "display_data"
    },
    {
     "name": "stdout",
     "output_type": "stream",
     "text": [
      "Current job: 20/115, time elapsed: 9.21 min, time remaining: 43.75 min\n"
     ]
    },
    {
     "data": {
      "application/vnd.jupyter.widget-view+json": {
       "model_id": "90e7a688c3f540088987b534d53a33f6",
       "version_major": 2,
       "version_minor": 0
      },
      "text/plain": [
       "S1A_IW_20210224T023828_DVP_RTC30_G_gpuned_209E.zip:   0%|          | 0/456260048 [00:00<?, ?it/s]"
      ]
     },
     "metadata": {},
     "output_type": "display_data"
    },
    {
     "data": {
      "application/vnd.jupyter.widget-view+json": {
       "model_id": "df7f81ebb5f544408e6d7c30bb929d9c",
       "version_major": 2,
       "version_minor": 0
      },
      "text/plain": [
       "S1B_IW_20210303T150720_DVP_RTC30_G_gpuned_53D5.zip:   0%|          | 0/452960965 [00:00<?, ?it/s]"
      ]
     },
     "metadata": {},
     "output_type": "display_data"
    },
    {
     "data": {
      "application/vnd.jupyter.widget-view+json": {
       "model_id": "e1e1e18b3bf84f0dbc6e2aaed560736f",
       "version_major": 2,
       "version_minor": 0
      },
      "text/plain": [
       "S1A_IW_20210308T023803_DVP_RTC30_G_gpuned_AB6A.zip:   0%|          | 0/458966878 [00:00<?, ?it/s]"
      ]
     },
     "metadata": {},
     "output_type": "display_data"
    },
    {
     "data": {
      "application/vnd.jupyter.widget-view+json": {
       "model_id": "288caeb0614c4788bf80a5c76f513954",
       "version_major": 2,
       "version_minor": 0
      },
      "text/plain": [
       "S1A_IW_20210308T023828_DVP_RTC30_G_gpuned_BFDD.zip:   0%|          | 0/456352097 [00:00<?, ?it/s]"
      ]
     },
     "metadata": {},
     "output_type": "display_data"
    },
    {
     "data": {
      "application/vnd.jupyter.widget-view+json": {
       "model_id": "e0b86e13f7194f1dac172907ac4e39d0",
       "version_major": 2,
       "version_minor": 0
      },
      "text/plain": [
       "S1B_IW_20210315T150720_DVP_RTC30_G_gpuned_3149.zip:   0%|          | 0/453008883 [00:00<?, ?it/s]"
      ]
     },
     "metadata": {},
     "output_type": "display_data"
    },
    {
     "data": {
      "application/vnd.jupyter.widget-view+json": {
       "model_id": "f9d72039c6774c7e8a9110e47f183aad",
       "version_major": 2,
       "version_minor": 0
      },
      "text/plain": [
       "S1A_IW_20210320T023803_DVP_RTC30_G_gpuned_70A9.zip:   0%|          | 0/458635086 [00:00<?, ?it/s]"
      ]
     },
     "metadata": {},
     "output_type": "display_data"
    },
    {
     "data": {
      "application/vnd.jupyter.widget-view+json": {
       "model_id": "2cc1787093cb481cba07a423705fb1c3",
       "version_major": 2,
       "version_minor": 0
      },
      "text/plain": [
       "S1A_IW_20210320T023828_DVP_RTC30_G_gpuned_79BF.zip:   0%|          | 0/455793214 [00:00<?, ?it/s]"
      ]
     },
     "metadata": {},
     "output_type": "display_data"
    },
    {
     "data": {
      "application/vnd.jupyter.widget-view+json": {
       "model_id": "038cc788e02e475d9e9bf1c9a33449e7",
       "version_major": 2,
       "version_minor": 0
      },
      "text/plain": [
       "S1B_IW_20210320T151529_DVP_RTC30_G_gpuned_4A27.zip:   0%|          | 0/455502666 [00:00<?, ?it/s]"
      ]
     },
     "metadata": {},
     "output_type": "display_data"
    },
    {
     "data": {
      "application/vnd.jupyter.widget-view+json": {
       "model_id": "8f554475f3a14cfa9066d3cd1aad1c12",
       "version_major": 2,
       "version_minor": 0
      },
      "text/plain": [
       "S1A_IW_20210401T023804_DVP_RTC30_G_gpuned_9D2A.zip:   0%|          | 0/458849813 [00:00<?, ?it/s]"
      ]
     },
     "metadata": {},
     "output_type": "display_data"
    },
    {
     "data": {
      "application/vnd.jupyter.widget-view+json": {
       "model_id": "23e6a0c1f650428ba3f44b74c95fbc93",
       "version_major": 2,
       "version_minor": 0
      },
      "text/plain": [
       "S1B_IW_20210327T150720_DVP_RTC30_G_gpuned_53EA.zip:   0%|          | 0/453454485 [00:00<?, ?it/s]"
      ]
     },
     "metadata": {},
     "output_type": "display_data"
    },
    {
     "name": "stdout",
     "output_type": "stream",
     "text": [
      "Current job: 30/115, time elapsed: 14.42 min, time remaining: 40.87 min\n"
     ]
    },
    {
     "data": {
      "application/vnd.jupyter.widget-view+json": {
       "model_id": "7a215a155d644d6bafc24eb150110acd",
       "version_major": 2,
       "version_minor": 0
      },
      "text/plain": [
       "S1A_IW_20210401T023828_DVP_RTC30_G_gpuned_9D14.zip:   0%|          | 0/456795115 [00:00<?, ?it/s]"
      ]
     },
     "metadata": {},
     "output_type": "display_data"
    },
    {
     "data": {
      "application/vnd.jupyter.widget-view+json": {
       "model_id": "14f7aa307eb54fe5a532fdf6525663de",
       "version_major": 2,
       "version_minor": 0
      },
      "text/plain": [
       "S1B_IW_20210408T150721_DVP_RTC30_G_gpuned_415B.zip:   0%|          | 0/453520355 [00:00<?, ?it/s]"
      ]
     },
     "metadata": {},
     "output_type": "display_data"
    },
    {
     "data": {
      "application/vnd.jupyter.widget-view+json": {
       "model_id": "8e0953a027fa46a28b5e72b36b750fa8",
       "version_major": 2,
       "version_minor": 0
      },
      "text/plain": [
       "S1B_IW_20210401T151529_DVP_RTC30_G_gpuned_04D1.zip:   0%|          | 0/456370090 [00:00<?, ?it/s]"
      ]
     },
     "metadata": {},
     "output_type": "display_data"
    },
    {
     "data": {
      "application/vnd.jupyter.widget-view+json": {
       "model_id": "1646f76eb4964dc997e03f7e7234b4b7",
       "version_major": 2,
       "version_minor": 0
      },
      "text/plain": [
       "S1A_IW_20210413T023829_DVP_RTC30_G_gpuned_C849.zip:   0%|          | 0/457128880 [00:00<?, ?it/s]"
      ]
     },
     "metadata": {},
     "output_type": "display_data"
    },
    {
     "data": {
      "application/vnd.jupyter.widget-view+json": {
       "model_id": "6f8e58be9b5d4623897bbd86858bd428",
       "version_major": 2,
       "version_minor": 0
      },
      "text/plain": [
       "S1A_IW_20210413T023804_DVP_RTC30_G_gpuned_2AD9.zip:   0%|          | 0/458778054 [00:00<?, ?it/s]"
      ]
     },
     "metadata": {},
     "output_type": "display_data"
    },
    {
     "data": {
      "application/vnd.jupyter.widget-view+json": {
       "model_id": "3c7834b5b0684ad29a5d04a0f3fc86ce",
       "version_major": 2,
       "version_minor": 0
      },
      "text/plain": [
       "S1B_IW_20210413T151530_DVP_RTC30_G_gpuned_D0FC.zip:   0%|          | 0/456344271 [00:00<?, ?it/s]"
      ]
     },
     "metadata": {},
     "output_type": "display_data"
    },
    {
     "data": {
      "application/vnd.jupyter.widget-view+json": {
       "model_id": "93a0175ec2634e309405e1ee52de2024",
       "version_major": 2,
       "version_minor": 0
      },
      "text/plain": [
       "S1A_IW_20210425T023805_DVP_RTC30_G_gpuned_D818.zip:   0%|          | 0/460806905 [00:00<?, ?it/s]"
      ]
     },
     "metadata": {},
     "output_type": "display_data"
    },
    {
     "data": {
      "application/vnd.jupyter.widget-view+json": {
       "model_id": "3889c420054641548ef55c4365590592",
       "version_major": 2,
       "version_minor": 0
      },
      "text/plain": [
       "S1B_IW_20210420T150721_DVP_RTC30_G_gpuned_F29A.zip:   0%|          | 0/455732534 [00:00<?, ?it/s]"
      ]
     },
     "metadata": {},
     "output_type": "display_data"
    },
    {
     "data": {
      "application/vnd.jupyter.widget-view+json": {
       "model_id": "4a6dfe6247704d5ea4dd40ea8398527f",
       "version_major": 2,
       "version_minor": 0
      },
      "text/plain": [
       "S1A_IW_20210425T023829_DVP_RTC30_G_gpuned_E7FE.zip:   0%|          | 0/459644758 [00:00<?, ?it/s]"
      ]
     },
     "metadata": {},
     "output_type": "display_data"
    },
    {
     "data": {
      "application/vnd.jupyter.widget-view+json": {
       "model_id": "b604308fe6f24b629df5dbc30727b0dd",
       "version_major": 2,
       "version_minor": 0
      },
      "text/plain": [
       "S1B_IW_20210425T151530_DVP_RTC30_G_gpuned_966F.zip:   0%|          | 0/457807389 [00:00<?, ?it/s]"
      ]
     },
     "metadata": {},
     "output_type": "display_data"
    },
    {
     "name": "stdout",
     "output_type": "stream",
     "text": [
      "Current job: 40/115, time elapsed: 19.50 min, time remaining: 36.57 min\n"
     ]
    },
    {
     "data": {
      "application/vnd.jupyter.widget-view+json": {
       "model_id": "257170900f634a69bf637faec74f4951",
       "version_major": 2,
       "version_minor": 0
      },
      "text/plain": [
       "S1B_IW_20210502T150722_DVP_RTC30_G_gpuned_4BA6.zip:   0%|          | 0/455679459 [00:00<?, ?it/s]"
      ]
     },
     "metadata": {},
     "output_type": "display_data"
    },
    {
     "data": {
      "application/vnd.jupyter.widget-view+json": {
       "model_id": "48c6f3a5fb7844cba50b8c3d46dc0ce3",
       "version_major": 2,
       "version_minor": 0
      },
      "text/plain": [
       "S1A_IW_20210507T023830_DVP_RTC30_G_gpuned_17EA.zip:   0%|          | 0/460711532 [00:00<?, ?it/s]"
      ]
     },
     "metadata": {},
     "output_type": "display_data"
    },
    {
     "data": {
      "application/vnd.jupyter.widget-view+json": {
       "model_id": "d30db1faa9ea4e4fb3ae8ebe3b0992fb",
       "version_major": 2,
       "version_minor": 0
      },
      "text/plain": [
       "S1A_IW_20210507T023805_DVP_RTC30_G_gpuned_7F50.zip:   0%|          | 0/461110042 [00:00<?, ?it/s]"
      ]
     },
     "metadata": {},
     "output_type": "display_data"
    },
    {
     "data": {
      "application/vnd.jupyter.widget-view+json": {
       "model_id": "f4a7876da4ed47efaba1d9aee96e471d",
       "version_major": 2,
       "version_minor": 0
      },
      "text/plain": [
       "S1B_IW_20210514T150723_DVP_RTC30_G_gpuned_FD81.zip:   0%|          | 0/457064509 [00:00<?, ?it/s]"
      ]
     },
     "metadata": {},
     "output_type": "display_data"
    },
    {
     "data": {
      "application/vnd.jupyter.widget-view+json": {
       "model_id": "80047cfdd3964f7ea32dd41b2e3f82af",
       "version_major": 2,
       "version_minor": 0
      },
      "text/plain": [
       "S1B_IW_20210507T151531_DVP_RTC30_G_gpuned_EC83.zip:   0%|          | 0/458880913 [00:00<?, ?it/s]"
      ]
     },
     "metadata": {},
     "output_type": "display_data"
    },
    {
     "data": {
      "application/vnd.jupyter.widget-view+json": {
       "model_id": "e15a09ed5ef341249044bd4ea8e54af6",
       "version_major": 2,
       "version_minor": 0
      },
      "text/plain": [
       "S1A_IW_20210519T023806_DVP_RTC30_G_gpuned_50FA.zip:   0%|          | 0/460855401 [00:00<?, ?it/s]"
      ]
     },
     "metadata": {},
     "output_type": "display_data"
    },
    {
     "data": {
      "application/vnd.jupyter.widget-view+json": {
       "model_id": "5e43241b6c06463982f05afc5f220ea5",
       "version_major": 2,
       "version_minor": 0
      },
      "text/plain": [
       "S1A_IW_20210519T023830_DVP_RTC30_G_gpuned_4863.zip:   0%|          | 0/460460457 [00:00<?, ?it/s]"
      ]
     },
     "metadata": {},
     "output_type": "display_data"
    },
    {
     "data": {
      "application/vnd.jupyter.widget-view+json": {
       "model_id": "06a24f33feba433591dbf3677915e265",
       "version_major": 2,
       "version_minor": 0
      },
      "text/plain": [
       "S1B_IW_20210519T151532_DVP_RTC30_G_gpuned_9AB1.zip:   0%|          | 0/459157355 [00:00<?, ?it/s]"
      ]
     },
     "metadata": {},
     "output_type": "display_data"
    },
    {
     "data": {
      "application/vnd.jupyter.widget-view+json": {
       "model_id": "e47600776a754e95814b40d06ed3883b",
       "version_major": 2,
       "version_minor": 0
      },
      "text/plain": [
       "S1B_IW_20210526T150723_DVP_RTC30_G_gpuned_A42E.zip:   0%|          | 0/455935111 [00:00<?, ?it/s]"
      ]
     },
     "metadata": {},
     "output_type": "display_data"
    },
    {
     "data": {
      "application/vnd.jupyter.widget-view+json": {
       "model_id": "c8818dc5e0464167b2f289953e9ef101",
       "version_major": 2,
       "version_minor": 0
      },
      "text/plain": [
       "S1A_IW_20210531T023806_DVP_RTC30_G_gpuned_43FC.zip:   0%|          | 0/459934803 [00:00<?, ?it/s]"
      ]
     },
     "metadata": {},
     "output_type": "display_data"
    },
    {
     "name": "stdout",
     "output_type": "stream",
     "text": [
      "Current job: 50/115, time elapsed: 24.50 min, time remaining: 31.85 min\n"
     ]
    },
    {
     "data": {
      "application/vnd.jupyter.widget-view+json": {
       "model_id": "ecf4bf1486ba43849290165b679dc2ba",
       "version_major": 2,
       "version_minor": 0
      },
      "text/plain": [
       "S1A_IW_20210531T023831_DVP_RTC30_G_gpuned_C0C3.zip:   0%|          | 0/460080359 [00:00<?, ?it/s]"
      ]
     },
     "metadata": {},
     "output_type": "display_data"
    },
    {
     "data": {
      "application/vnd.jupyter.widget-view+json": {
       "model_id": "178b8789485540e780c249979da3e2a2",
       "version_major": 2,
       "version_minor": 0
      },
      "text/plain": [
       "S1B_IW_20210531T151532_DVP_RTC30_G_gpuned_77A2.zip:   0%|          | 0/457622911 [00:00<?, ?it/s]"
      ]
     },
     "metadata": {},
     "output_type": "display_data"
    },
    {
     "data": {
      "application/vnd.jupyter.widget-view+json": {
       "model_id": "3e1896c8f33941989f16a3b805887d26",
       "version_major": 2,
       "version_minor": 0
      },
      "text/plain": [
       "S1B_IW_20210607T150724_DVP_RTC30_G_gpuned_BFCF.zip:   0%|          | 0/454930814 [00:00<?, ?it/s]"
      ]
     },
     "metadata": {},
     "output_type": "display_data"
    },
    {
     "data": {
      "application/vnd.jupyter.widget-view+json": {
       "model_id": "4fec4a3ff0204771830ea22b9a28ca8d",
       "version_major": 2,
       "version_minor": 0
      },
      "text/plain": [
       "S1A_IW_20210612T023807_DVP_RTC30_G_gpuned_CC48.zip:   0%|          | 0/459547757 [00:00<?, ?it/s]"
      ]
     },
     "metadata": {},
     "output_type": "display_data"
    },
    {
     "data": {
      "application/vnd.jupyter.widget-view+json": {
       "model_id": "a1a4e95e7c1148f6a7a1197ec275bc95",
       "version_major": 2,
       "version_minor": 0
      },
      "text/plain": [
       "S1A_IW_20210612T023832_DVP_RTC30_G_gpuned_6160.zip:   0%|          | 0/458564323 [00:00<?, ?it/s]"
      ]
     },
     "metadata": {},
     "output_type": "display_data"
    },
    {
     "data": {
      "application/vnd.jupyter.widget-view+json": {
       "model_id": "0b9c5ece350649f69d297b5cb7d7e57b",
       "version_major": 2,
       "version_minor": 0
      },
      "text/plain": [
       "S1B_IW_20210619T150725_DVP_RTC30_G_gpuned_8B62.zip:   0%|          | 0/454302107 [00:00<?, ?it/s]"
      ]
     },
     "metadata": {},
     "output_type": "display_data"
    },
    {
     "data": {
      "application/vnd.jupyter.widget-view+json": {
       "model_id": "7ca1750418c248e6b5afc5728bedc54a",
       "version_major": 2,
       "version_minor": 0
      },
      "text/plain": [
       "S1B_IW_20210612T151533_DVP_RTC30_G_gpuned_6BFC.zip:   0%|          | 0/457019943 [00:00<?, ?it/s]"
      ]
     },
     "metadata": {},
     "output_type": "display_data"
    },
    {
     "data": {
      "application/vnd.jupyter.widget-view+json": {
       "model_id": "0fdfa9a7db0842b6ad95957908c8f330",
       "version_major": 2,
       "version_minor": 0
      },
      "text/plain": [
       "S1A_IW_20210624T023808_DVP_RTC30_G_gpuned_487D.zip:   0%|          | 0/457402400 [00:00<?, ?it/s]"
      ]
     },
     "metadata": {},
     "output_type": "display_data"
    },
    {
     "data": {
      "application/vnd.jupyter.widget-view+json": {
       "model_id": "df474e9a6f8847e4bc4c2c9f2cc4464e",
       "version_major": 2,
       "version_minor": 0
      },
      "text/plain": [
       "S1A_IW_20210624T023833_DVP_RTC30_G_gpuned_1650.zip:   0%|          | 0/457304667 [00:00<?, ?it/s]"
      ]
     },
     "metadata": {},
     "output_type": "display_data"
    },
    {
     "data": {
      "application/vnd.jupyter.widget-view+json": {
       "model_id": "d387a318677543ddb63bf3e7d3af30a5",
       "version_major": 2,
       "version_minor": 0
      },
      "text/plain": [
       "S1B_IW_20210624T151534_DVP_RTC30_G_gpuned_7D1C.zip:   0%|          | 0/455249345 [00:00<?, ?it/s]"
      ]
     },
     "metadata": {},
     "output_type": "display_data"
    },
    {
     "name": "stdout",
     "output_type": "stream",
     "text": [
      "Current job: 60/115, time elapsed: 29.50 min, time remaining: 27.04 min\n"
     ]
    },
    {
     "data": {
      "application/vnd.jupyter.widget-view+json": {
       "model_id": "c5d6434922e44dadbef147f220938aa6",
       "version_major": 2,
       "version_minor": 0
      },
      "text/plain": [
       "S1B_IW_20210701T150725_DVP_RTC30_G_gpuned_A334.zip:   0%|          | 0/451306170 [00:00<?, ?it/s]"
      ]
     },
     "metadata": {},
     "output_type": "display_data"
    },
    {
     "data": {
      "application/vnd.jupyter.widget-view+json": {
       "model_id": "a6548213d9af46c785719e5aa40f3d09",
       "version_major": 2,
       "version_minor": 0
      },
      "text/plain": [
       "S1A_IW_20210706T023809_DVP_RTC30_G_gpuned_C297.zip:   0%|          | 0/456830392 [00:00<?, ?it/s]"
      ]
     },
     "metadata": {},
     "output_type": "display_data"
    },
    {
     "data": {
      "application/vnd.jupyter.widget-view+json": {
       "model_id": "464f18c0f0fb42b3be3b24741e5e91b8",
       "version_major": 2,
       "version_minor": 0
      },
      "text/plain": [
       "S1A_IW_20210706T023833_DVP_RTC30_G_gpuned_2D71.zip:   0%|          | 0/455425023 [00:00<?, ?it/s]"
      ]
     },
     "metadata": {},
     "output_type": "display_data"
    },
    {
     "data": {
      "application/vnd.jupyter.widget-view+json": {
       "model_id": "84c0545ce71840af867100feda2101b4",
       "version_major": 2,
       "version_minor": 0
      },
      "text/plain": [
       "S1B_IW_20210713T150726_DVP_RTC30_G_gpuned_12A4.zip:   0%|          | 0/452772189 [00:00<?, ?it/s]"
      ]
     },
     "metadata": {},
     "output_type": "display_data"
    },
    {
     "data": {
      "application/vnd.jupyter.widget-view+json": {
       "model_id": "03039955c6c540c5bf611ce04b978229",
       "version_major": 2,
       "version_minor": 0
      },
      "text/plain": [
       "S1B_IW_20210706T151534_DVP_RTC30_G_gpuned_6D13.zip:   0%|          | 0/455390781 [00:00<?, ?it/s]"
      ]
     },
     "metadata": {},
     "output_type": "display_data"
    },
    {
     "data": {
      "application/vnd.jupyter.widget-view+json": {
       "model_id": "06509dd6df1447f8968cc2775f2ae2c9",
       "version_major": 2,
       "version_minor": 0
      },
      "text/plain": [
       "S1A_IW_20210718T023809_DVP_RTC30_G_gpuned_10C5.zip:   0%|          | 0/456830609 [00:00<?, ?it/s]"
      ]
     },
     "metadata": {},
     "output_type": "display_data"
    },
    {
     "data": {
      "application/vnd.jupyter.widget-view+json": {
       "model_id": "f5c5591ae0c149fdb386d59be807c3ca",
       "version_major": 2,
       "version_minor": 0
      },
      "text/plain": [
       "S1A_IW_20210718T023834_DVP_RTC30_G_gpuned_FE14.zip:   0%|          | 0/456204414 [00:00<?, ?it/s]"
      ]
     },
     "metadata": {},
     "output_type": "display_data"
    },
    {
     "data": {
      "application/vnd.jupyter.widget-view+json": {
       "model_id": "cfe3ee2829f745989f5bd8e9226d297b",
       "version_major": 2,
       "version_minor": 0
      },
      "text/plain": [
       "S1B_IW_20210718T151535_DVP_RTC30_G_gpuned_AD71.zip:   0%|          | 0/455123180 [00:00<?, ?it/s]"
      ]
     },
     "metadata": {},
     "output_type": "display_data"
    },
    {
     "data": {
      "application/vnd.jupyter.widget-view+json": {
       "model_id": "0820b95b7c89464682bd5086ce9768e3",
       "version_major": 2,
       "version_minor": 0
      },
      "text/plain": [
       "S1B_IW_20210725T150727_DVP_RTC30_G_gpuned_9C89.zip:   0%|          | 0/452679949 [00:00<?, ?it/s]"
      ]
     },
     "metadata": {},
     "output_type": "display_data"
    },
    {
     "data": {
      "application/vnd.jupyter.widget-view+json": {
       "model_id": "38e8fa5a3a794b5dae48821ffafc49f0",
       "version_major": 2,
       "version_minor": 0
      },
      "text/plain": [
       "S1A_IW_20210730T023810_DVP_RTC30_G_gpuned_6AB9.zip:   0%|          | 0/456427233 [00:00<?, ?it/s]"
      ]
     },
     "metadata": {},
     "output_type": "display_data"
    },
    {
     "name": "stdout",
     "output_type": "stream",
     "text": [
      "Current job: 70/115, time elapsed: 34.36 min, time remaining: 22.09 min\n"
     ]
    },
    {
     "data": {
      "application/vnd.jupyter.widget-view+json": {
       "model_id": "9ed9d7186dfa4c9f98911e534cbd3e68",
       "version_major": 2,
       "version_minor": 0
      },
      "text/plain": [
       "S1B_IW_20210730T151536_DVP_RTC30_G_gpuned_358D.zip:   0%|          | 0/454975187 [00:00<?, ?it/s]"
      ]
     },
     "metadata": {},
     "output_type": "display_data"
    },
    {
     "data": {
      "application/vnd.jupyter.widget-view+json": {
       "model_id": "7477dd57d20b449fa295d06e3f78d4f5",
       "version_major": 2,
       "version_minor": 0
      },
      "text/plain": [
       "S1A_IW_20210730T023835_DVP_RTC30_G_gpuned_0ABB.zip:   0%|          | 0/455565954 [00:00<?, ?it/s]"
      ]
     },
     "metadata": {},
     "output_type": "display_data"
    },
    {
     "data": {
      "application/vnd.jupyter.widget-view+json": {
       "model_id": "ede0cdf2b83b457fabc18fcc1ba8c488",
       "version_major": 2,
       "version_minor": 0
      },
      "text/plain": [
       "S1B_IW_20210811T151537_DVP_RTC30_G_gpuned_94B4.zip:   0%|          | 0/454601141 [00:00<?, ?it/s]"
      ]
     },
     "metadata": {},
     "output_type": "display_data"
    },
    {
     "data": {
      "application/vnd.jupyter.widget-view+json": {
       "model_id": "a32987f39d0a450b828201f1fec50039",
       "version_major": 2,
       "version_minor": 0
      },
      "text/plain": [
       "S1B_IW_20210806T150727_DVP_RTC30_G_gpuned_AB09.zip:   0%|          | 0/451681892 [00:00<?, ?it/s]"
      ]
     },
     "metadata": {},
     "output_type": "display_data"
    },
    {
     "data": {
      "application/vnd.jupyter.widget-view+json": {
       "model_id": "5a5e4b76def04372b43f551c3e6cb153",
       "version_major": 2,
       "version_minor": 0
      },
      "text/plain": [
       "S1B_IW_20210818T150728_DVP_RTC30_G_gpuned_73C5.zip:   0%|          | 0/450771449 [00:00<?, ?it/s]"
      ]
     },
     "metadata": {},
     "output_type": "display_data"
    },
    {
     "data": {
      "application/vnd.jupyter.widget-view+json": {
       "model_id": "feaee9ab455342cfaae55381e0e89205",
       "version_major": 2,
       "version_minor": 0
      },
      "text/plain": [
       "S1A_IW_20210823T023811_DVP_RTC30_G_gpuned_D6C2.zip:   0%|          | 0/456750654 [00:00<?, ?it/s]"
      ]
     },
     "metadata": {},
     "output_type": "display_data"
    },
    {
     "data": {
      "application/vnd.jupyter.widget-view+json": {
       "model_id": "56db1cfb2fd34ce7ab52970a2422d843",
       "version_major": 2,
       "version_minor": 0
      },
      "text/plain": [
       "S1A_IW_20210823T023836_DVP_RTC30_G_gpuned_A124.zip:   0%|          | 0/456195125 [00:00<?, ?it/s]"
      ]
     },
     "metadata": {},
     "output_type": "display_data"
    },
    {
     "data": {
      "application/vnd.jupyter.widget-view+json": {
       "model_id": "4ddf3873a4b3434c954b108eb62a5d44",
       "version_major": 2,
       "version_minor": 0
      },
      "text/plain": [
       "S1B_IW_20210823T151537_DVP_RTC30_G_gpuned_6952.zip:   0%|          | 0/455329910 [00:00<?, ?it/s]"
      ]
     },
     "metadata": {},
     "output_type": "display_data"
    },
    {
     "data": {
      "application/vnd.jupyter.widget-view+json": {
       "model_id": "b81cf8df248643c8ba930c19ec93c4bd",
       "version_major": 2,
       "version_minor": 0
      },
      "text/plain": [
       "S1B_IW_20210830T150729_DVP_RTC30_G_gpuned_4F29.zip:   0%|          | 0/450543015 [00:00<?, ?it/s]"
      ]
     },
     "metadata": {},
     "output_type": "display_data"
    },
    {
     "data": {
      "application/vnd.jupyter.widget-view+json": {
       "model_id": "5a4b740a1b07451098a2cd607cc86ead",
       "version_major": 2,
       "version_minor": 0
      },
      "text/plain": [
       "S1A_IW_20210904T023837_DVP_RTC30_G_gpuned_1621.zip:   0%|          | 0/455418405 [00:00<?, ?it/s]"
      ]
     },
     "metadata": {},
     "output_type": "display_data"
    },
    {
     "name": "stdout",
     "output_type": "stream",
     "text": [
      "Current job: 80/115, time elapsed: 39.12 min, time remaining: 17.12 min\n"
     ]
    },
    {
     "data": {
      "application/vnd.jupyter.widget-view+json": {
       "model_id": "a1240bcd041843408d409c6aa03ad173",
       "version_major": 2,
       "version_minor": 0
      },
      "text/plain": [
       "S1A_IW_20210904T023812_DVP_RTC30_G_gpuned_B5E7.zip:   0%|          | 0/454542337 [00:00<?, ?it/s]"
      ]
     },
     "metadata": {},
     "output_type": "display_data"
    },
    {
     "data": {
      "application/vnd.jupyter.widget-view+json": {
       "model_id": "747a25fa88f24ebe826681cebff873eb",
       "version_major": 2,
       "version_minor": 0
      },
      "text/plain": [
       "S1B_IW_20210904T151538_DVP_RTC30_G_gpuned_5C29.zip:   0%|          | 0/453296611 [00:00<?, ?it/s]"
      ]
     },
     "metadata": {},
     "output_type": "display_data"
    },
    {
     "data": {
      "application/vnd.jupyter.widget-view+json": {
       "model_id": "650067a3dcdd478399e72b5f11c7ce22",
       "version_major": 2,
       "version_minor": 0
      },
      "text/plain": [
       "S1B_IW_20210911T150729_DVP_RTC30_G_gpuned_7C09.zip:   0%|          | 0/451809952 [00:00<?, ?it/s]"
      ]
     },
     "metadata": {},
     "output_type": "display_data"
    },
    {
     "data": {
      "application/vnd.jupyter.widget-view+json": {
       "model_id": "b63c9fd28bca49588cdff66e47da7943",
       "version_major": 2,
       "version_minor": 0
      },
      "text/plain": [
       "S1A_IW_20210916T023812_DVP_RTC30_G_gpuned_6F37.zip:   0%|          | 0/455960347 [00:00<?, ?it/s]"
      ]
     },
     "metadata": {},
     "output_type": "display_data"
    },
    {
     "data": {
      "application/vnd.jupyter.widget-view+json": {
       "model_id": "7ed2b19aee04462fb34c64b330212428",
       "version_major": 2,
       "version_minor": 0
      },
      "text/plain": [
       "S1A_IW_20210916T023837_DVP_RTC30_G_gpuned_5401.zip:   0%|          | 0/456405893 [00:00<?, ?it/s]"
      ]
     },
     "metadata": {},
     "output_type": "display_data"
    },
    {
     "data": {
      "application/vnd.jupyter.widget-view+json": {
       "model_id": "d7e15d39eaef45c5a7341d0204aedfaf",
       "version_major": 2,
       "version_minor": 0
      },
      "text/plain": [
       "S1B_IW_20210916T151538_DVP_RTC30_G_gpuned_539C.zip:   0%|          | 0/454407795 [00:00<?, ?it/s]"
      ]
     },
     "metadata": {},
     "output_type": "display_data"
    },
    {
     "data": {
      "application/vnd.jupyter.widget-view+json": {
       "model_id": "70d4fb26a36d45449b9c4435a2e5495d",
       "version_major": 2,
       "version_minor": 0
      },
      "text/plain": [
       "S1B_IW_20210923T150730_DVP_RTC30_G_gpuned_0A23.zip:   0%|          | 0/453405922 [00:00<?, ?it/s]"
      ]
     },
     "metadata": {},
     "output_type": "display_data"
    },
    {
     "data": {
      "application/vnd.jupyter.widget-view+json": {
       "model_id": "00f66783190f47f6a601db0e6873e468",
       "version_major": 2,
       "version_minor": 0
      },
      "text/plain": [
       "S1A_IW_20210928T023838_DVP_RTC30_G_gpuned_E091.zip:   0%|          | 0/455872878 [00:00<?, ?it/s]"
      ]
     },
     "metadata": {},
     "output_type": "display_data"
    },
    {
     "data": {
      "application/vnd.jupyter.widget-view+json": {
       "model_id": "cf697fcea32d4b6ba7cce6f7c832fc45",
       "version_major": 2,
       "version_minor": 0
      },
      "text/plain": [
       "S1A_IW_20210928T023813_DVP_RTC30_G_gpuned_A872.zip:   0%|          | 0/455747113 [00:00<?, ?it/s]"
      ]
     },
     "metadata": {},
     "output_type": "display_data"
    },
    {
     "data": {
      "application/vnd.jupyter.widget-view+json": {
       "model_id": "98e62806c54d4eed9b66119a77277ed0",
       "version_major": 2,
       "version_minor": 0
      },
      "text/plain": [
       "S1B_IW_20211005T150730_DVP_RTC30_G_gpuned_A73F.zip:   0%|          | 0/451802818 [00:00<?, ?it/s]"
      ]
     },
     "metadata": {},
     "output_type": "display_data"
    },
    {
     "name": "stdout",
     "output_type": "stream",
     "text": [
      "Current job: 90/115, time elapsed: 43.62 min, time remaining: 12.12 min\n"
     ]
    },
    {
     "data": {
      "application/vnd.jupyter.widget-view+json": {
       "model_id": "e84399007141444889ecc85690da02c5",
       "version_major": 2,
       "version_minor": 0
      },
      "text/plain": [
       "S1B_IW_20210928T151539_DVP_RTC30_G_gpuned_9DDB.zip:   0%|          | 0/454359434 [00:00<?, ?it/s]"
      ]
     },
     "metadata": {},
     "output_type": "display_data"
    },
    {
     "data": {
      "application/vnd.jupyter.widget-view+json": {
       "model_id": "2f01414e5a8043c0b99c88a821b28e5e",
       "version_major": 2,
       "version_minor": 0
      },
      "text/plain": [
       "S1A_IW_20211010T023813_DVP_RTC30_G_gpuned_842F.zip:   0%|          | 0/456493898 [00:00<?, ?it/s]"
      ]
     },
     "metadata": {},
     "output_type": "display_data"
    },
    {
     "data": {
      "application/vnd.jupyter.widget-view+json": {
       "model_id": "394f2f0d241b495a80f28ba15fcdfafd",
       "version_major": 2,
       "version_minor": 0
      },
      "text/plain": [
       "S1A_IW_20211010T023838_DVP_RTC30_G_gpuned_4989.zip:   0%|          | 0/456874944 [00:00<?, ?it/s]"
      ]
     },
     "metadata": {},
     "output_type": "display_data"
    },
    {
     "data": {
      "application/vnd.jupyter.widget-view+json": {
       "model_id": "bdc3ca41644c4ed4ac6c306dbf044b8f",
       "version_major": 2,
       "version_minor": 0
      },
      "text/plain": [
       "S1B_IW_20211010T151539_DVP_RTC30_G_gpuned_5878.zip:   0%|          | 0/455436470 [00:00<?, ?it/s]"
      ]
     },
     "metadata": {},
     "output_type": "display_data"
    },
    {
     "data": {
      "application/vnd.jupyter.widget-view+json": {
       "model_id": "658ccaf74475441bae2df0451e253dd4",
       "version_major": 2,
       "version_minor": 0
      },
      "text/plain": [
       "S1B_IW_20211017T150730_DVP_RTC30_G_gpuned_2616.zip:   0%|          | 0/451129216 [00:00<?, ?it/s]"
      ]
     },
     "metadata": {},
     "output_type": "display_data"
    },
    {
     "data": {
      "application/vnd.jupyter.widget-view+json": {
       "model_id": "41a9f1a783154a829f14cf97734abd00",
       "version_major": 2,
       "version_minor": 0
      },
      "text/plain": [
       "S1A_IW_20211022T023813_DVP_RTC30_G_gpuned_6042.zip:   0%|          | 0/457180518 [00:00<?, ?it/s]"
      ]
     },
     "metadata": {},
     "output_type": "display_data"
    },
    {
     "data": {
      "application/vnd.jupyter.widget-view+json": {
       "model_id": "5dfcf9c200fb4b61998e5bd02154a56c",
       "version_major": 2,
       "version_minor": 0
      },
      "text/plain": [
       "S1A_IW_20211022T023838_DVP_RTC30_G_gpuned_ED13.zip:   0%|          | 0/457542761 [00:00<?, ?it/s]"
      ]
     },
     "metadata": {},
     "output_type": "display_data"
    },
    {
     "data": {
      "application/vnd.jupyter.widget-view+json": {
       "model_id": "b458ae22cdf74b8a89590355e844f5a6",
       "version_major": 2,
       "version_minor": 0
      },
      "text/plain": [
       "S1B_IW_20211022T151539_DVP_RTC30_G_gpuned_AF01.zip:   0%|          | 0/455382487 [00:00<?, ?it/s]"
      ]
     },
     "metadata": {},
     "output_type": "display_data"
    },
    {
     "data": {
      "application/vnd.jupyter.widget-view+json": {
       "model_id": "fc139136579045d59e85d8a530405e64",
       "version_major": 2,
       "version_minor": 0
      },
      "text/plain": [
       "S1B_IW_20211029T150730_DVP_RTC30_G_gpuned_FDBE.zip:   0%|          | 0/451174903 [00:00<?, ?it/s]"
      ]
     },
     "metadata": {},
     "output_type": "display_data"
    },
    {
     "data": {
      "application/vnd.jupyter.widget-view+json": {
       "model_id": "6a8aa7f9ae254b138a52981e0f91997a",
       "version_major": 2,
       "version_minor": 0
      },
      "text/plain": [
       "S1A_IW_20211103T023838_DVP_RTC30_G_gpuned_61F4.zip:   0%|          | 0/455722245 [00:00<?, ?it/s]"
      ]
     },
     "metadata": {},
     "output_type": "display_data"
    },
    {
     "name": "stdout",
     "output_type": "stream",
     "text": [
      "Current job: 100/115, time elapsed: 48.13 min, time remaining: 7.22 min\n"
     ]
    },
    {
     "data": {
      "application/vnd.jupyter.widget-view+json": {
       "model_id": "6bdb4b010ba94638bcb9814c2c6feec7",
       "version_major": 2,
       "version_minor": 0
      },
      "text/plain": [
       "S1A_IW_20211103T023813_DVP_RTC30_G_gpuned_07FB.zip:   0%|          | 0/457495266 [00:00<?, ?it/s]"
      ]
     },
     "metadata": {},
     "output_type": "display_data"
    },
    {
     "data": {
      "application/vnd.jupyter.widget-view+json": {
       "model_id": "6b80cea6d6ea4140b385f1cacc58e8ba",
       "version_major": 2,
       "version_minor": 0
      },
      "text/plain": [
       "S1B_IW_20211103T151539_DVP_RTC30_G_gpuned_62A9.zip:   0%|          | 0/455537638 [00:00<?, ?it/s]"
      ]
     },
     "metadata": {},
     "output_type": "display_data"
    },
    {
     "data": {
      "application/vnd.jupyter.widget-view+json": {
       "model_id": "f79ea5117c4a4fd2a7c153b253935951",
       "version_major": 2,
       "version_minor": 0
      },
      "text/plain": [
       "S1B_IW_20211110T150730_DVP_RTC30_G_gpuned_76B0.zip:   0%|          | 0/451125415 [00:00<?, ?it/s]"
      ]
     },
     "metadata": {},
     "output_type": "display_data"
    },
    {
     "data": {
      "application/vnd.jupyter.widget-view+json": {
       "model_id": "d0e65f98996a45a1afc327be42e1b1f4",
       "version_major": 2,
       "version_minor": 0
      },
      "text/plain": [
       "S1A_IW_20211115T023813_DVP_RTC30_G_gpuned_CED7.zip:   0%|          | 0/457620902 [00:00<?, ?it/s]"
      ]
     },
     "metadata": {},
     "output_type": "display_data"
    },
    {
     "data": {
      "application/vnd.jupyter.widget-view+json": {
       "model_id": "cca517bbcb644768b9ac84350c515f9d",
       "version_major": 2,
       "version_minor": 0
      },
      "text/plain": [
       "S1A_IW_20211115T023838_DVP_RTC30_G_gpuned_F5BD.zip:   0%|          | 0/454831006 [00:00<?, ?it/s]"
      ]
     },
     "metadata": {},
     "output_type": "display_data"
    },
    {
     "data": {
      "application/vnd.jupyter.widget-view+json": {
       "model_id": "232af105b9534900b3accfffc307820d",
       "version_major": 2,
       "version_minor": 0
      },
      "text/plain": [
       "S1B_IW_20211115T151539_DVP_RTC30_G_gpuned_5076.zip:   0%|          | 0/454466147 [00:00<?, ?it/s]"
      ]
     },
     "metadata": {},
     "output_type": "display_data"
    },
    {
     "data": {
      "application/vnd.jupyter.widget-view+json": {
       "model_id": "620f449f5d3544b28dc7081f6779d4c5",
       "version_major": 2,
       "version_minor": 0
      },
      "text/plain": [
       "S1B_IW_20211122T150729_DVP_RTC30_G_gpuned_DAF2.zip:   0%|          | 0/451850092 [00:00<?, ?it/s]"
      ]
     },
     "metadata": {},
     "output_type": "display_data"
    },
    {
     "data": {
      "application/vnd.jupyter.widget-view+json": {
       "model_id": "43339f865fc3433db6638c23ae6a08b5",
       "version_major": 2,
       "version_minor": 0
      },
      "text/plain": [
       "S1A_IW_20211127T023837_DVP_RTC30_G_gpuned_B7AB.zip:   0%|          | 0/455221206 [00:00<?, ?it/s]"
      ]
     },
     "metadata": {},
     "output_type": "display_data"
    },
    {
     "data": {
      "application/vnd.jupyter.widget-view+json": {
       "model_id": "07ff0925ed55478bb3462e5f4ee1ec5c",
       "version_major": 2,
       "version_minor": 0
      },
      "text/plain": [
       "S1A_IW_20211127T023812_DVP_RTC30_G_gpuned_8310.zip:   0%|          | 0/457835389 [00:00<?, ?it/s]"
      ]
     },
     "metadata": {},
     "output_type": "display_data"
    },
    {
     "data": {
      "application/vnd.jupyter.widget-view+json": {
       "model_id": "2a64fd5ba2674ced8ad3c02d20dd6954",
       "version_major": 2,
       "version_minor": 0
      },
      "text/plain": [
       "S1A_IW_20211209T023812_DVP_RTC30_G_gpuned_2347.zip:   0%|          | 0/457937926 [00:00<?, ?it/s]"
      ]
     },
     "metadata": {},
     "output_type": "display_data"
    },
    {
     "data": {
      "application/vnd.jupyter.widget-view+json": {
       "model_id": "a9d24eac56c946d1b0cdaa240a1fa2b2",
       "version_major": 2,
       "version_minor": 0
      },
      "text/plain": [
       "S1A_IW_20211209T023836_DVP_RTC30_G_gpuned_77C7.zip:   0%|          | 0/455783835 [00:00<?, ?it/s]"
      ]
     },
     "metadata": {},
     "output_type": "display_data"
    },
    {
     "data": {
      "application/vnd.jupyter.widget-view+json": {
       "model_id": "191deb19bd9744f79bc618a7895db468",
       "version_major": 2,
       "version_minor": 0
      },
      "text/plain": [
       "S1B_IW_20211216T150728_DVP_RTC30_G_gpuned_483A.zip:   0%|          | 0/452852514 [00:00<?, ?it/s]"
      ]
     },
     "metadata": {},
     "output_type": "display_data"
    },
    {
     "data": {
      "application/vnd.jupyter.widget-view+json": {
       "model_id": "54a6a303b667449d92e5134e703d8347",
       "version_major": 2,
       "version_minor": 0
      },
      "text/plain": [
       "S1B_IW_20211209T151538_DVP_RTC30_G_gpuned_D2E4.zip:   0%|          | 0/455132396 [00:00<?, ?it/s]"
      ]
     },
     "metadata": {},
     "output_type": "display_data"
    },
    {
     "data": {
      "application/vnd.jupyter.widget-view+json": {
       "model_id": "4286ae70d4d644c785bfc248e907e383",
       "version_major": 2,
       "version_minor": 0
      },
      "text/plain": [
       "S1A_IW_20211221T023811_DVP_RTC30_G_gpuned_0380.zip:   0%|          | 0/458036204 [00:00<?, ?it/s]"
      ]
     },
     "metadata": {},
     "output_type": "display_data"
    },
    {
     "data": {
      "application/vnd.jupyter.widget-view+json": {
       "model_id": "3cb80e3580b745159bcf16e02bf2386a",
       "version_major": 2,
       "version_minor": 0
      },
      "text/plain": [
       "S1A_IW_20211221T023836_DVP_RTC30_G_gpuned_4EAD.zip:   0%|          | 0/455949551 [00:00<?, ?it/s]"
      ]
     },
     "metadata": {},
     "output_type": "display_data"
    },
    {
     "data": {
      "application/vnd.jupyter.widget-view+json": {
       "model_id": "7686867c01e74b25b477e9dc12fb5a7f",
       "version_major": 2,
       "version_minor": 0
      },
      "text/plain": [
       "S1B_IW_20211221T151537_DVP_RTC30_G_gpuned_C1B4.zip:   0%|          | 0/454906340 [00:00<?, ?it/s]"
      ]
     },
     "metadata": {},
     "output_type": "display_data"
    }
   ],
   "source": [
    "#Download the products, unzip them into the rtc_download directory, convert them to dB, and delete the zip files:\n",
    "\n",
    "# projectname = 'Kenn_20_notebook_2'\n",
    "# projectname = f'{projname}_{year%1000}'\n",
    "# EPSGn = '32607'\n",
    "pols = ['VV','VH']\n",
    "\n",
    "autoEPSG=True #use this to pull the first projection and use that as your projection for all images\n",
    "\n",
    "#First check if jobs are running\n",
    "class Error(Exception):\n",
    "    \"\"\"Base class for other exceptions\"\"\"\n",
    "    pass\n",
    "class stillrunningError(Error):\n",
    "    \"\"\"raised when jobs are still running\"\"\"\n",
    "    pass\n",
    "\n",
    "running = len(hyp3.find_jobs(status_code=[\"RUNNING\"]))\n",
    "running += len(hyp3.find_jobs(status_code=[\"PENDING\"]))\n",
    "\n",
    "if running > 0:\n",
    "    print('Jobs still running!')\n",
    "    raise stillrunningError\n",
    "else:\n",
    "    print('No jobs running, all clear')\n",
    "\n",
    "usegranules = [i.properties['sceneName'] for i in results]\n",
    "joblist = hyp3.find_jobs()\n",
    "joblist = joblist.filter_jobs(succeeded=True,include_expired=False)\n",
    "\n",
    "# joblist = hyp3.find_jobs(name=projectnam)\n",
    "joblen = len(results)-1\n",
    "# jobi=0\n",
    "t = time.time()\n",
    "count = 0\n",
    "for i,job in enumerate(joblist):\n",
    "    # if job.succeeded()==True:\n",
    "    jobname = job.job_parameters['granules'][0]\n",
    "    if jobname in usegranules:\n",
    "        count += 1\n",
    "        usegranules.remove(jobname)\n",
    "        if count%10 ==0:\n",
    "            te = time.time()-t\n",
    "            print(f'Current job: {count}/{joblen}, time elapsed: {te/60:.2f} min, time remaining: {(te/(i+1)*(joblen-count))/60:.2f} min')\n",
    "        job.download_files(download_path)\n",
    "        for pol in pols:\n",
    "            # print(pol)\n",
    "            extracttif(download_path,products_path,pol=pol,convert=False)\n",
    "            if autoEPSG:\n",
    "                if (count == 1) and (pol == pols[0]):\n",
    "                    fileg = glob.glob(f'{str(products_path)}/*.tif')\n",
    "                    EPSGn = getEPSG(fileg[0])\n",
    "                    print(getEPSG(fileg[0]))\n",
    "            # fulltif = glob.glob(f'{str(products_path)}/*{pol}*')\n",
    "            reproject(WTKstr,EPSGn,products_path,f'{str(clipped_path)}/{pol}',convert_to_db=True)\n",
    "            os.system(f'rm {str(products_path)}/*.tif')\n",
    "            time.sleep(3)\n",
    "        os.system(f'rm {str(download_path)}/*.zip')\n",
    "            # extracttif(download_path,products_path,'VH',convert=True)\n",
    "    # else:\n",
    "    #     print(f'WARNING: job {i} did not succeed')\n",
    "        \n",
    "if len(usegranules)>0:\n",
    "    print('WARNING: NOT ALL GRANULES USED')"
   ]
  },
  {
   "cell_type": "code",
   "execution_count": null,
   "id": "ba37eff9-1aee-4f90-9432-5adddcb623d4",
   "metadata": {
    "tags": []
   },
   "outputs": [],
   "source": [
    "# usegranules\n",
    "EPSGn\n",
    "\n",
    "#Denali_h: 32605?\n",
    "#Harding: 32605\n",
    "#Juneau: 32608"
   ]
  },
  {
   "cell_type": "code",
   "execution_count": 28,
   "id": "abee6475-e6b0-4fe8-963e-e9b77ff01d79",
   "metadata": {
    "tags": []
   },
   "outputs": [],
   "source": [
    "# #OLD, DO NOT USE\n",
    "# #Download the products, unzip them into the rtc_download directory, convert them to dB, and delete the zip files:\n",
    "\n",
    "# # projectname = 'Kenn_20_notebook_2'\n",
    "# # projectname = f'{projname}_{year%1000}'\n",
    "# EPSGn = '32607'\n",
    "# pols = ['VV','VH']\n",
    "\n",
    "# autoEPSG=False #use this to pull the first projection and use that as your projection for all images\n",
    "\n",
    "# joblist = hyp3.find_jobs(name=projectnam)\n",
    "# joblen = len(granules)-1\n",
    "# # jobi=0\n",
    "# t = time.time()\n",
    "# count = 0\n",
    "# for i,job in enumerate(joblist):\n",
    "#     # if job.succeeded()==True:\n",
    "#     jobname = job.job_parameters['granules'][0]\n",
    "#     if jobname in usegranules:\n",
    "#         if count%10 ==1:\n",
    "#             te = time.time()-t\n",
    "#             print(f'Current job: {count}/{joblen}, time elapsed: {te/60:.2f} min, time remaining: {(te/(i+1)*(joblen-count))/60:.2f} min')\n",
    "#         job.download_files(download_path)\n",
    "#         for pol in pols:\n",
    "#             # print(pol)\n",
    "#             extracttif(download_path,products_path,pol=pol,convert=False)\n",
    "#             if autoEPSG:\n",
    "#                 if (i == 0) and (pol == pols[0]):\n",
    "#                     fileg = glob.glob(f'{str(products_path)}/*.tif')\n",
    "#                     print(getEPSG(fileg[0]))\n",
    "#                     #SET THIS UP TO SET EPSG!!\n",
    "#             # fulltif = glob.glob(f'{str(products_path)}/*{pol}*')\n",
    "#             reproject(WTKstr,EPSGn,products_path,f'{str(clipped_path)}/{pol}',convert_to_db=True)\n",
    "#             os.system(f'rm {str(products_path)}/*.tif')\n",
    "#             time.sleep(3)\n",
    "#         os.system(f'rm {str(download_path)}/*.zip')\n",
    "#             # extracttif(download_path,products_path,'VH',convert=True)\n",
    "#     else:\n",
    "#         print(f'WARNING: job {i} did not succeed')"
   ]
  },
  {
   "cell_type": "code",
   "execution_count": 28,
   "id": "2aeb4f3e-4f93-4c45-a271-d8314af06647",
   "metadata": {
    "tags": []
   },
   "outputs": [
    {
     "data": {
      "application/vnd.jupyter.widget-view+json": {
       "model_id": "b181aeb998224cac9c9511673e6e420c",
       "version_major": 2,
       "version_minor": 0
      },
      "text/plain": [
       "S1B_IW_20190101T031900_DVP_RTC30_G_gpuned_A41E.zip:   0%|          | 0/504010115 [00:00<?, ?it/s]"
      ]
     },
     "metadata": {},
     "output_type": "display_data"
    },
    {
     "name": "stdout",
     "output_type": "stream",
     "text": [
      "32606\n",
      "Current job: 1/177, time elapsed: 0.26 min, time remaining: 22.78 min\n"
     ]
    },
    {
     "data": {
      "application/vnd.jupyter.widget-view+json": {
       "model_id": "849a7a8849d14a62a76fadbbd05e7806",
       "version_major": 2,
       "version_minor": 0
      },
      "text/plain": [
       "S1A_IW_20190101T155618_DVP_RTC30_G_gpuned_CD28.zip:   0%|          | 0/452109305 [00:00<?, ?it/s]"
      ]
     },
     "metadata": {},
     "output_type": "display_data"
    },
    {
     "data": {
      "application/vnd.jupyter.widget-view+json": {
       "model_id": "b801371f8dbc4030883093f31c16dd21",
       "version_major": 2,
       "version_minor": 0
      },
      "text/plain": [
       "S1B_IW_20190101T031928_DVP_RTC30_G_gpuned_F58A.zip:   0%|          | 0/468753464 [00:00<?, ?it/s]"
      ]
     },
     "metadata": {},
     "output_type": "display_data"
    },
    {
     "data": {
      "application/vnd.jupyter.widget-view+json": {
       "model_id": "4a951d7bbc5c49dc822bfdb3845af522",
       "version_major": 2,
       "version_minor": 0
      },
      "text/plain": [
       "S1A_IW_20190108T154759_DVP_RTC30_G_gpuned_C5DD.zip:   0%|          | 0/453660219 [00:00<?, ?it/s]"
      ]
     },
     "metadata": {},
     "output_type": "display_data"
    },
    {
     "data": {
      "application/vnd.jupyter.widget-view+json": {
       "model_id": "e6fddc55d8cc4c9ea23cb2dda7ecd675",
       "version_major": 2,
       "version_minor": 0
      },
      "text/plain": [
       "S1B_IW_20190113T031900_DVP_RTC30_G_gpuned_544D.zip:   0%|          | 0/503428024 [00:00<?, ?it/s]"
      ]
     },
     "metadata": {},
     "output_type": "display_data"
    },
    {
     "data": {
      "application/vnd.jupyter.widget-view+json": {
       "model_id": "044382fb8b15473696e23d200dc7faf9",
       "version_major": 2,
       "version_minor": 0
      },
      "text/plain": [
       "S1B_IW_20190113T031927_DVP_RTC30_G_gpuned_3C9B.zip:   0%|          | 0/469771218 [00:00<?, ?it/s]"
      ]
     },
     "metadata": {},
     "output_type": "display_data"
    },
    {
     "data": {
      "application/vnd.jupyter.widget-view+json": {
       "model_id": "d77e053e6d6e4bc5b3b7d4f0caf504f4",
       "version_major": 2,
       "version_minor": 0
      },
      "text/plain": [
       "S1A_IW_20190113T155617_DVP_RTC30_G_gpuned_EEAD.zip:   0%|          | 0/451962752 [00:00<?, ?it/s]"
      ]
     },
     "metadata": {},
     "output_type": "display_data"
    },
    {
     "data": {
      "application/vnd.jupyter.widget-view+json": {
       "model_id": "f341e212d5194985b6735409a80cd7a1",
       "version_major": 2,
       "version_minor": 0
      },
      "text/plain": [
       "S1B_IW_20190115T030244_DVP_RTC30_G_gpuned_0322.zip:   0%|          | 0/471924357 [00:00<?, ?it/s]"
      ]
     },
     "metadata": {},
     "output_type": "display_data"
    },
    {
     "data": {
      "application/vnd.jupyter.widget-view+json": {
       "model_id": "be76b6d41e6d4f7186288806db1e6058",
       "version_major": 2,
       "version_minor": 0
      },
      "text/plain": [
       "S1B_IW_20190115T030309_DVP_RTC30_G_gpuned_3433.zip:   0%|          | 0/450306045 [00:00<?, ?it/s]"
      ]
     },
     "metadata": {},
     "output_type": "display_data"
    },
    {
     "data": {
      "application/vnd.jupyter.widget-view+json": {
       "model_id": "f916f38310c142edb1e69f08bd59718f",
       "version_major": 2,
       "version_minor": 0
      },
      "text/plain": [
       "S1A_IW_20190120T154759_DVP_RTC30_G_gpuned_C629.zip:   0%|          | 0/453496069 [00:00<?, ?it/s]"
      ]
     },
     "metadata": {},
     "output_type": "display_data"
    },
    {
     "data": {
      "application/vnd.jupyter.widget-view+json": {
       "model_id": "b85ccba3e1c042029514930c326af14b",
       "version_major": 2,
       "version_minor": 0
      },
      "text/plain": [
       "S1B_IW_20190125T031859_DVP_RTC30_G_gpuned_3CA9.zip:   0%|          | 0/503386655 [00:00<?, ?it/s]"
      ]
     },
     "metadata": {},
     "output_type": "display_data"
    },
    {
     "name": "stdout",
     "output_type": "stream",
     "text": [
      "Current job: 11/177, time elapsed: 3.62 min, time remaining: 50.01 min\n"
     ]
    },
    {
     "data": {
      "application/vnd.jupyter.widget-view+json": {
       "model_id": "cf287a0249eb4619a6903d89aac0e948",
       "version_major": 2,
       "version_minor": 0
      },
      "text/plain": [
       "S1A_IW_20190125T155617_DVP_RTC30_G_gpuned_1D84.zip:   0%|          | 0/452278145 [00:00<?, ?it/s]"
      ]
     },
     "metadata": {},
     "output_type": "display_data"
    },
    {
     "data": {
      "application/vnd.jupyter.widget-view+json": {
       "model_id": "39b5349e0924445bbdf05e0aa6e4d14c",
       "version_major": 2,
       "version_minor": 0
      },
      "text/plain": [
       "S1B_IW_20190125T031927_DVP_RTC30_G_gpuned_D1D2.zip:   0%|          | 0/469478584 [00:00<?, ?it/s]"
      ]
     },
     "metadata": {},
     "output_type": "display_data"
    },
    {
     "data": {
      "application/vnd.jupyter.widget-view+json": {
       "model_id": "20e80454125b4c43b2a2d79afe45ab96",
       "version_major": 2,
       "version_minor": 0
      },
      "text/plain": [
       "S1B_IW_20190127T030243_DVP_RTC30_G_gpuned_A2A4.zip:   0%|          | 0/472022768 [00:00<?, ?it/s]"
      ]
     },
     "metadata": {},
     "output_type": "display_data"
    },
    {
     "data": {
      "application/vnd.jupyter.widget-view+json": {
       "model_id": "6d2c3b4c2fbe4b42ad95a80ee9f2f909",
       "version_major": 2,
       "version_minor": 0
      },
      "text/plain": [
       "S1A_IW_20190201T154758_DVP_RTC30_G_gpuned_8B31.zip:   0%|          | 0/453675918 [00:00<?, ?it/s]"
      ]
     },
     "metadata": {},
     "output_type": "display_data"
    },
    {
     "data": {
      "application/vnd.jupyter.widget-view+json": {
       "model_id": "9e7446df58ae46b2976bce372f71988d",
       "version_major": 2,
       "version_minor": 0
      },
      "text/plain": [
       "S1B_IW_20190127T030309_DVP_RTC30_G_gpuned_A5F6.zip:   0%|          | 0/449264183 [00:00<?, ?it/s]"
      ]
     },
     "metadata": {},
     "output_type": "display_data"
    },
    {
     "data": {
      "application/vnd.jupyter.widget-view+json": {
       "model_id": "4f80687537a849feb99a538b55fef641",
       "version_major": 2,
       "version_minor": 0
      },
      "text/plain": [
       "S1B_IW_20190206T031859_DVP_RTC30_G_gpuned_820E.zip:   0%|          | 0/502701942 [00:00<?, ?it/s]"
      ]
     },
     "metadata": {},
     "output_type": "display_data"
    },
    {
     "data": {
      "application/vnd.jupyter.widget-view+json": {
       "model_id": "5173391e605d445cbe164de49c21de4e",
       "version_major": 2,
       "version_minor": 0
      },
      "text/plain": [
       "S1B_IW_20190206T031927_DVP_RTC30_G_gpuned_F408.zip:   0%|          | 0/468718509 [00:00<?, ?it/s]"
      ]
     },
     "metadata": {},
     "output_type": "display_data"
    },
    {
     "data": {
      "application/vnd.jupyter.widget-view+json": {
       "model_id": "e1332349f0154590b93fcf58fa364b5c",
       "version_major": 2,
       "version_minor": 0
      },
      "text/plain": [
       "S1A_IW_20190206T155616_DVP_RTC30_G_gpuned_026C.zip:   0%|          | 0/451675132 [00:00<?, ?it/s]"
      ]
     },
     "metadata": {},
     "output_type": "display_data"
    },
    {
     "data": {
      "application/vnd.jupyter.widget-view+json": {
       "model_id": "0f9baf28882b4d83956eb816a3623720",
       "version_major": 2,
       "version_minor": 0
      },
      "text/plain": [
       "S1A_IW_20190213T154758_DVP_RTC30_G_gpuned_5BEC.zip:   0%|          | 0/453385440 [00:00<?, ?it/s]"
      ]
     },
     "metadata": {},
     "output_type": "display_data"
    },
    {
     "data": {
      "application/vnd.jupyter.widget-view+json": {
       "model_id": "fcdb42aeec0b41b0bd2a86d2fed6746c",
       "version_major": 2,
       "version_minor": 0
      },
      "text/plain": [
       "S1B_IW_20190218T031859_DVP_RTC30_G_gpuned_860C.zip:   0%|          | 0/503884742 [00:00<?, ?it/s]"
      ]
     },
     "metadata": {},
     "output_type": "display_data"
    },
    {
     "name": "stdout",
     "output_type": "stream",
     "text": [
      "Current job: 21/177, time elapsed: 7.08 min, time remaining: 50.23 min\n"
     ]
    },
    {
     "data": {
      "application/vnd.jupyter.widget-view+json": {
       "model_id": "a7d92484969d4ac2b59935e8023d3bba",
       "version_major": 2,
       "version_minor": 0
      },
      "text/plain": [
       "S1B_IW_20190218T031926_DVP_RTC30_G_gpuned_841A.zip:   0%|          | 0/468872311 [00:00<?, ?it/s]"
      ]
     },
     "metadata": {},
     "output_type": "display_data"
    },
    {
     "data": {
      "application/vnd.jupyter.widget-view+json": {
       "model_id": "1be28f47e42f4182a91e294400d0fc46",
       "version_major": 2,
       "version_minor": 0
      },
      "text/plain": [
       "S1A_IW_20190218T155616_DVP_RTC30_G_gpuned_2491.zip:   0%|          | 0/452110198 [00:00<?, ?it/s]"
      ]
     },
     "metadata": {},
     "output_type": "display_data"
    },
    {
     "data": {
      "application/vnd.jupyter.widget-view+json": {
       "model_id": "2cbf2ff19fab4dcbba3590e9bb886b69",
       "version_major": 2,
       "version_minor": 0
      },
      "text/plain": [
       "S1B_IW_20190220T030243_DVP_RTC30_G_gpuned_5065.zip:   0%|          | 0/471872068 [00:00<?, ?it/s]"
      ]
     },
     "metadata": {},
     "output_type": "display_data"
    },
    {
     "data": {
      "application/vnd.jupyter.widget-view+json": {
       "model_id": "29ae080a34c04f60a6f96ed2e4329b7c",
       "version_major": 2,
       "version_minor": 0
      },
      "text/plain": [
       "S1A_IW_20190225T154758_DVP_RTC30_G_gpuned_65CF.zip:   0%|          | 0/453650598 [00:00<?, ?it/s]"
      ]
     },
     "metadata": {},
     "output_type": "display_data"
    },
    {
     "data": {
      "application/vnd.jupyter.widget-view+json": {
       "model_id": "3ce684810cb04b81b7221ee2814b7e4b",
       "version_major": 2,
       "version_minor": 0
      },
      "text/plain": [
       "S1B_IW_20190220T030308_DVP_RTC30_G_gpuned_5C99.zip:   0%|          | 0/449413184 [00:00<?, ?it/s]"
      ]
     },
     "metadata": {},
     "output_type": "display_data"
    },
    {
     "data": {
      "application/vnd.jupyter.widget-view+json": {
       "model_id": "1bd24dabdf1b45f487ea3e2934c6ae21",
       "version_major": 2,
       "version_minor": 0
      },
      "text/plain": [
       "S1B_IW_20190302T031859_DVP_RTC30_G_gpuned_90D5.zip:   0%|          | 0/503254048 [00:00<?, ?it/s]"
      ]
     },
     "metadata": {},
     "output_type": "display_data"
    },
    {
     "data": {
      "application/vnd.jupyter.widget-view+json": {
       "model_id": "d3ca1dfc18214bf28b7a2a646a2cc9fb",
       "version_major": 2,
       "version_minor": 0
      },
      "text/plain": [
       "S1A_IW_20190302T155616_DVP_RTC30_G_gpuned_FFDD.zip:   0%|          | 0/451760897 [00:00<?, ?it/s]"
      ]
     },
     "metadata": {},
     "output_type": "display_data"
    },
    {
     "data": {
      "application/vnd.jupyter.widget-view+json": {
       "model_id": "207b94a9811840549881c8a28c7a2bce",
       "version_major": 2,
       "version_minor": 0
      },
      "text/plain": [
       "S1B_IW_20190302T031926_DVP_RTC30_G_gpuned_93A5.zip:   0%|          | 0/468293635 [00:00<?, ?it/s]"
      ]
     },
     "metadata": {},
     "output_type": "display_data"
    },
    {
     "data": {
      "application/vnd.jupyter.widget-view+json": {
       "model_id": "ae1af945dca0440299fb0ac5ed1d8997",
       "version_major": 2,
       "version_minor": 0
      },
      "text/plain": [
       "S1B_IW_20190304T030243_DVP_RTC30_G_gpuned_9CE0.zip:   0%|          | 0/471718579 [00:00<?, ?it/s]"
      ]
     },
     "metadata": {},
     "output_type": "display_data"
    },
    {
     "data": {
      "application/vnd.jupyter.widget-view+json": {
       "model_id": "6cb940551fef4fd08788ac6174653c34",
       "version_major": 2,
       "version_minor": 0
      },
      "text/plain": [
       "S1B_IW_20190304T030308_DVP_RTC30_G_gpuned_EB49.zip:   0%|          | 0/449294406 [00:00<?, ?it/s]"
      ]
     },
     "metadata": {},
     "output_type": "display_data"
    },
    {
     "name": "stdout",
     "output_type": "stream",
     "text": [
      "Current job: 31/177, time elapsed: 10.48 min, time remaining: 47.80 min\n"
     ]
    },
    {
     "data": {
      "application/vnd.jupyter.widget-view+json": {
       "model_id": "1814a8bf829f42dba3a7f87071829bc3",
       "version_major": 2,
       "version_minor": 0
      },
      "text/plain": [
       "S1A_IW_20190309T154758_DVP_RTC30_G_gpuned_2ECA.zip:   0%|          | 0/453496387 [00:00<?, ?it/s]"
      ]
     },
     "metadata": {},
     "output_type": "display_data"
    },
    {
     "data": {
      "application/vnd.jupyter.widget-view+json": {
       "model_id": "a944e1ed70e74190a9dccbb277fb13a3",
       "version_major": 2,
       "version_minor": 0
      },
      "text/plain": [
       "S1B_IW_20190314T031926_DVP_RTC30_G_gpuned_E51F.zip:   0%|          | 0/468332588 [00:00<?, ?it/s]"
      ]
     },
     "metadata": {},
     "output_type": "display_data"
    },
    {
     "data": {
      "application/vnd.jupyter.widget-view+json": {
       "model_id": "8df64df8735d404a8a5ec8a67587379b",
       "version_major": 2,
       "version_minor": 0
      },
      "text/plain": [
       "S1B_IW_20190314T031859_DVP_RTC30_G_gpuned_09E7.zip:   0%|          | 0/503056160 [00:00<?, ?it/s]"
      ]
     },
     "metadata": {},
     "output_type": "display_data"
    },
    {
     "data": {
      "application/vnd.jupyter.widget-view+json": {
       "model_id": "322d8e47a989454c90234abcd8ce9ee3",
       "version_major": 2,
       "version_minor": 0
      },
      "text/plain": [
       "S1A_IW_20190314T155616_DVP_RTC30_G_gpuned_0D8A.zip:   0%|          | 0/451750152 [00:00<?, ?it/s]"
      ]
     },
     "metadata": {},
     "output_type": "display_data"
    },
    {
     "data": {
      "application/vnd.jupyter.widget-view+json": {
       "model_id": "88dde2ebca5f47e698086a50eed0ae4a",
       "version_major": 2,
       "version_minor": 0
      },
      "text/plain": [
       "S1B_IW_20190316T030242_DVP_RTC30_G_gpuned_410B.zip:   0%|          | 0/471857193 [00:00<?, ?it/s]"
      ]
     },
     "metadata": {},
     "output_type": "display_data"
    },
    {
     "data": {
      "application/vnd.jupyter.widget-view+json": {
       "model_id": "2f1e62bda14942ea99f20c453aa832f5",
       "version_major": 2,
       "version_minor": 0
      },
      "text/plain": [
       "S1B_IW_20190316T030308_DVP_RTC30_G_gpuned_7320.zip:   0%|          | 0/450679717 [00:00<?, ?it/s]"
      ]
     },
     "metadata": {},
     "output_type": "display_data"
    },
    {
     "data": {
      "application/vnd.jupyter.widget-view+json": {
       "model_id": "1a24c7fcc3904b6194426b16df473027",
       "version_major": 2,
       "version_minor": 0
      },
      "text/plain": [
       "S1B_IW_20190326T031859_DVP_RTC30_G_gpuned_821C.zip:   0%|          | 0/504970306 [00:00<?, ?it/s]"
      ]
     },
     "metadata": {},
     "output_type": "display_data"
    },
    {
     "data": {
      "application/vnd.jupyter.widget-view+json": {
       "model_id": "d5bd39e4ba0849dea9492e33d0c5e324",
       "version_major": 2,
       "version_minor": 0
      },
      "text/plain": [
       "S1A_IW_20190321T154758_DVP_RTC30_G_gpuned_3862.zip:   0%|          | 0/453630768 [00:00<?, ?it/s]"
      ]
     },
     "metadata": {},
     "output_type": "display_data"
    },
    {
     "data": {
      "application/vnd.jupyter.widget-view+json": {
       "model_id": "15b02c1960de40f6856f4f8bb779cbc5",
       "version_major": 2,
       "version_minor": 0
      },
      "text/plain": [
       "S1A_IW_20190326T155617_DVP_RTC30_G_gpuned_BFD8.zip:   0%|          | 0/452030937 [00:00<?, ?it/s]"
      ]
     },
     "metadata": {},
     "output_type": "display_data"
    },
    {
     "data": {
      "application/vnd.jupyter.widget-view+json": {
       "model_id": "994f89837d0142e48c84d5c873a78588",
       "version_major": 2,
       "version_minor": 0
      },
      "text/plain": [
       "S1B_IW_20190326T031926_DVP_RTC30_G_gpuned_324E.zip:   0%|          | 0/469956094 [00:00<?, ?it/s]"
      ]
     },
     "metadata": {},
     "output_type": "display_data"
    },
    {
     "name": "stdout",
     "output_type": "stream",
     "text": [
      "Current job: 41/177, time elapsed: 13.78 min, time remaining: 44.61 min\n"
     ]
    },
    {
     "data": {
      "application/vnd.jupyter.widget-view+json": {
       "model_id": "b0161ca2d94f4f4d9bac629e38721821",
       "version_major": 2,
       "version_minor": 0
      },
      "text/plain": [
       "S1B_IW_20190328T030243_DVP_RTC30_G_gpuned_FF74.zip:   0%|          | 0/472850990 [00:00<?, ?it/s]"
      ]
     },
     "metadata": {},
     "output_type": "display_data"
    },
    {
     "data": {
      "application/vnd.jupyter.widget-view+json": {
       "model_id": "2b4883b083594b27a78194d8577078bf",
       "version_major": 2,
       "version_minor": 0
      },
      "text/plain": [
       "S1B_IW_20190328T030309_DVP_RTC30_G_gpuned_61A8.zip:   0%|          | 0/451225013 [00:00<?, ?it/s]"
      ]
     },
     "metadata": {},
     "output_type": "display_data"
    },
    {
     "data": {
      "application/vnd.jupyter.widget-view+json": {
       "model_id": "4014eeff201440318c4e280002f672e0",
       "version_major": 2,
       "version_minor": 0
      },
      "text/plain": [
       "S1A_IW_20190402T154758_DVP_RTC30_G_gpuned_D4EF.zip:   0%|          | 0/453416829 [00:00<?, ?it/s]"
      ]
     },
     "metadata": {},
     "output_type": "display_data"
    },
    {
     "data": {
      "application/vnd.jupyter.widget-view+json": {
       "model_id": "6155ce01696c4637aae40c329575f344",
       "version_major": 2,
       "version_minor": 0
      },
      "text/plain": [
       "S1B_IW_20190407T031859_DVP_RTC30_G_gpuned_DD69.zip:   0%|          | 0/504393746 [00:00<?, ?it/s]"
      ]
     },
     "metadata": {},
     "output_type": "display_data"
    },
    {
     "data": {
      "application/vnd.jupyter.widget-view+json": {
       "model_id": "4fbc8c0fa9ef4765986a1fa4252ec355",
       "version_major": 2,
       "version_minor": 0
      },
      "text/plain": [
       "S1A_IW_20190407T155617_DVP_RTC30_G_gpuned_FF52.zip:   0%|          | 0/451693812 [00:00<?, ?it/s]"
      ]
     },
     "metadata": {},
     "output_type": "display_data"
    },
    {
     "data": {
      "application/vnd.jupyter.widget-view+json": {
       "model_id": "e2086b5059b3477d9446b2ad0e5b1fd6",
       "version_major": 2,
       "version_minor": 0
      },
      "text/plain": [
       "S1B_IW_20190407T031927_DVP_RTC30_G_gpuned_1F78.zip:   0%|          | 0/469700354 [00:00<?, ?it/s]"
      ]
     },
     "metadata": {},
     "output_type": "display_data"
    },
    {
     "data": {
      "application/vnd.jupyter.widget-view+json": {
       "model_id": "d05477d4fd4f495c81448e931a55bb2a",
       "version_major": 2,
       "version_minor": 0
      },
      "text/plain": [
       "S1B_IW_20190409T030243_DVP_RTC30_G_gpuned_F40F.zip:   0%|          | 0/472343749 [00:00<?, ?it/s]"
      ]
     },
     "metadata": {},
     "output_type": "display_data"
    },
    {
     "data": {
      "application/vnd.jupyter.widget-view+json": {
       "model_id": "041cff201de44eb5b4e065c805aea720",
       "version_major": 2,
       "version_minor": 0
      },
      "text/plain": [
       "S1B_IW_20190409T030309_DVP_RTC30_G_gpuned_D967.zip:   0%|          | 0/451309604 [00:00<?, ?it/s]"
      ]
     },
     "metadata": {},
     "output_type": "display_data"
    },
    {
     "data": {
      "application/vnd.jupyter.widget-view+json": {
       "model_id": "3c01f1e0bcc3486f84ff131dda1b89fc",
       "version_major": 2,
       "version_minor": 0
      },
      "text/plain": [
       "S1A_IW_20190414T154759_DVP_RTC30_G_gpuned_6AF1.zip:   0%|          | 0/452824136 [00:00<?, ?it/s]"
      ]
     },
     "metadata": {},
     "output_type": "display_data"
    },
    {
     "data": {
      "application/vnd.jupyter.widget-view+json": {
       "model_id": "2596c2b99fd04fe2afbffac8c25aa566",
       "version_major": 2,
       "version_minor": 0
      },
      "text/plain": [
       "S1B_IW_20190419T031859_DVP_RTC30_G_gpuned_BD54.zip:   0%|          | 0/505884967 [00:00<?, ?it/s]"
      ]
     },
     "metadata": {},
     "output_type": "display_data"
    },
    {
     "name": "stdout",
     "output_type": "stream",
     "text": [
      "Current job: 51/177, time elapsed: 17.09 min, time remaining: 41.40 min\n"
     ]
    },
    {
     "data": {
      "application/vnd.jupyter.widget-view+json": {
       "model_id": "630a623ac3ac430c8e977f50d5a2faaa",
       "version_major": 2,
       "version_minor": 0
      },
      "text/plain": [
       "S1A_IW_20190419T155617_DVP_RTC30_G_gpuned_854A.zip:   0%|          | 0/452135038 [00:00<?, ?it/s]"
      ]
     },
     "metadata": {},
     "output_type": "display_data"
    },
    {
     "data": {
      "application/vnd.jupyter.widget-view+json": {
       "model_id": "6f7bd61c7588470180250aa501646c39",
       "version_major": 2,
       "version_minor": 0
      },
      "text/plain": [
       "S1B_IW_20190419T031927_DVP_RTC30_G_gpuned_05EB.zip:   0%|          | 0/470571347 [00:00<?, ?it/s]"
      ]
     },
     "metadata": {},
     "output_type": "display_data"
    },
    {
     "data": {
      "application/vnd.jupyter.widget-view+json": {
       "model_id": "478f5dbcee62426dbf2fd909fe0fa68e",
       "version_major": 2,
       "version_minor": 0
      },
      "text/plain": [
       "S1B_IW_20190421T030244_DVP_RTC30_G_gpuned_901B.zip:   0%|          | 0/471967444 [00:00<?, ?it/s]"
      ]
     },
     "metadata": {},
     "output_type": "display_data"
    },
    {
     "data": {
      "application/vnd.jupyter.widget-view+json": {
       "model_id": "ca642926709d467cb5ec80416549e574",
       "version_major": 2,
       "version_minor": 0
      },
      "text/plain": [
       "S1B_IW_20190421T030309_DVP_RTC30_G_gpuned_4A3E.zip:   0%|          | 0/451059221 [00:00<?, ?it/s]"
      ]
     },
     "metadata": {},
     "output_type": "display_data"
    },
    {
     "data": {
      "application/vnd.jupyter.widget-view+json": {
       "model_id": "5206b469387a490ea777ee6a3db962e5",
       "version_major": 2,
       "version_minor": 0
      },
      "text/plain": [
       "S1A_IW_20190426T154759_DVP_RTC30_G_gpuned_32E4.zip:   0%|          | 0/452401708 [00:00<?, ?it/s]"
      ]
     },
     "metadata": {},
     "output_type": "display_data"
    },
    {
     "data": {
      "application/vnd.jupyter.widget-view+json": {
       "model_id": "66b835969d4742ddb7b4e3b2dbcb623c",
       "version_major": 2,
       "version_minor": 0
      },
      "text/plain": [
       "S1B_IW_20190501T031900_DVP_RTC30_G_gpuned_EDE9.zip:   0%|          | 0/504010813 [00:00<?, ?it/s]"
      ]
     },
     "metadata": {},
     "output_type": "display_data"
    },
    {
     "data": {
      "application/vnd.jupyter.widget-view+json": {
       "model_id": "71e15b5062e64edfb38b7775197bd0ea",
       "version_major": 2,
       "version_minor": 0
      },
      "text/plain": [
       "S1B_IW_20190501T031928_DVP_RTC30_G_gpuned_76FF.zip:   0%|          | 0/472453834 [00:00<?, ?it/s]"
      ]
     },
     "metadata": {},
     "output_type": "display_data"
    },
    {
     "data": {
      "application/vnd.jupyter.widget-view+json": {
       "model_id": "49506935ad8948479c13ad36f5d3ab49",
       "version_major": 2,
       "version_minor": 0
      },
      "text/plain": [
       "S1B_IW_20190503T030244_DVP_RTC30_G_gpuned_53F3.zip:   0%|          | 0/474300399 [00:00<?, ?it/s]"
      ]
     },
     "metadata": {},
     "output_type": "display_data"
    },
    {
     "data": {
      "application/vnd.jupyter.widget-view+json": {
       "model_id": "252dfbffffdf4b96ba87f12fdcefd780",
       "version_major": 2,
       "version_minor": 0
      },
      "text/plain": [
       "S1A_IW_20190501T155618_DVP_RTC30_G_gpuned_98BF.zip:   0%|          | 0/452550564 [00:00<?, ?it/s]"
      ]
     },
     "metadata": {},
     "output_type": "display_data"
    },
    {
     "data": {
      "application/vnd.jupyter.widget-view+json": {
       "model_id": "2771b45610b9493495fd00494d178812",
       "version_major": 2,
       "version_minor": 0
      },
      "text/plain": [
       "S1B_IW_20190503T030310_DVP_RTC30_G_gpuned_EA37.zip:   0%|          | 0/452221710 [00:00<?, ?it/s]"
      ]
     },
     "metadata": {},
     "output_type": "display_data"
    },
    {
     "name": "stdout",
     "output_type": "stream",
     "text": [
      "Current job: 61/177, time elapsed: 20.43 min, time remaining: 38.23 min\n"
     ]
    },
    {
     "data": {
      "application/vnd.jupyter.widget-view+json": {
       "model_id": "e785d9e0c05149808cbc55edfd689fa5",
       "version_major": 2,
       "version_minor": 0
      },
      "text/plain": [
       "S1A_IW_20190508T154759_DVP_RTC30_G_gpuned_4B17.zip:   0%|          | 0/455086845 [00:00<?, ?it/s]"
      ]
     },
     "metadata": {},
     "output_type": "display_data"
    },
    {
     "data": {
      "application/vnd.jupyter.widget-view+json": {
       "model_id": "12af603acfae4b469a9edee0cd195ee3",
       "version_major": 2,
       "version_minor": 0
      },
      "text/plain": [
       "S1B_IW_20190513T031901_DVP_RTC30_G_gpuned_2E25.zip:   0%|          | 0/505878104 [00:00<?, ?it/s]"
      ]
     },
     "metadata": {},
     "output_type": "display_data"
    },
    {
     "data": {
      "application/vnd.jupyter.widget-view+json": {
       "model_id": "512e645a485f406ab58b2fd4d2d3aee3",
       "version_major": 2,
       "version_minor": 0
      },
      "text/plain": [
       "S1A_IW_20190513T155618_DVP_RTC30_G_gpuned_5923.zip:   0%|          | 0/453103313 [00:00<?, ?it/s]"
      ]
     },
     "metadata": {},
     "output_type": "display_data"
    },
    {
     "data": {
      "application/vnd.jupyter.widget-view+json": {
       "model_id": "a75c6907a718442581a32dfbd5d8ccf1",
       "version_major": 2,
       "version_minor": 0
      },
      "text/plain": [
       "S1B_IW_20190513T031928_DVP_RTC30_G_gpuned_9F53.zip:   0%|          | 0/472770800 [00:00<?, ?it/s]"
      ]
     },
     "metadata": {},
     "output_type": "display_data"
    },
    {
     "data": {
      "application/vnd.jupyter.widget-view+json": {
       "model_id": "2c7fad8dd5db48e192c77b0d6cc6f5d7",
       "version_major": 2,
       "version_minor": 0
      },
      "text/plain": [
       "S1B_IW_20190515T030245_DVP_RTC30_G_gpuned_A341.zip:   0%|          | 0/474549043 [00:00<?, ?it/s]"
      ]
     },
     "metadata": {},
     "output_type": "display_data"
    },
    {
     "data": {
      "application/vnd.jupyter.widget-view+json": {
       "model_id": "44099c6052264e04a80e1d54daab27cf",
       "version_major": 2,
       "version_minor": 0
      },
      "text/plain": [
       "S1B_IW_20190515T030310_DVP_RTC30_G_gpuned_2032.zip:   0%|          | 0/451301243 [00:00<?, ?it/s]"
      ]
     },
     "metadata": {},
     "output_type": "display_data"
    },
    {
     "data": {
      "application/vnd.jupyter.widget-view+json": {
       "model_id": "0b9423e23a3d485691047c0804958755",
       "version_major": 2,
       "version_minor": 0
      },
      "text/plain": [
       "S1A_IW_20190520T154800_DVP_RTC30_G_gpuned_92EE.zip:   0%|          | 0/454825861 [00:00<?, ?it/s]"
      ]
     },
     "metadata": {},
     "output_type": "display_data"
    },
    {
     "data": {
      "application/vnd.jupyter.widget-view+json": {
       "model_id": "bcfc653be010433f85de2ee99cfbc123",
       "version_major": 2,
       "version_minor": 0
      },
      "text/plain": [
       "S1B_IW_20190525T031901_DVP_RTC30_G_gpuned_FB0F.zip:   0%|          | 0/503956928 [00:00<?, ?it/s]"
      ]
     },
     "metadata": {},
     "output_type": "display_data"
    },
    {
     "data": {
      "application/vnd.jupyter.widget-view+json": {
       "model_id": "8cd4c9f366614d959330f5d3eb0f2b31",
       "version_major": 2,
       "version_minor": 0
      },
      "text/plain": [
       "S1B_IW_20190525T031929_DVP_RTC30_G_gpuned_A6A4.zip:   0%|          | 0/472727437 [00:00<?, ?it/s]"
      ]
     },
     "metadata": {},
     "output_type": "display_data"
    },
    {
     "data": {
      "application/vnd.jupyter.widget-view+json": {
       "model_id": "27ec1f2f95594daa84e6afc854cb95c2",
       "version_major": 2,
       "version_minor": 0
      },
      "text/plain": [
       "S1A_IW_20190525T155619_DVP_RTC30_G_gpuned_A1ED.zip:   0%|          | 0/454563874 [00:00<?, ?it/s]"
      ]
     },
     "metadata": {},
     "output_type": "display_data"
    },
    {
     "name": "stdout",
     "output_type": "stream",
     "text": [
      "Current job: 71/177, time elapsed: 23.86 min, time remaining: 35.13 min\n"
     ]
    },
    {
     "data": {
      "application/vnd.jupyter.widget-view+json": {
       "model_id": "133b732737fd442f91f228050f90afc0",
       "version_major": 2,
       "version_minor": 0
      },
      "text/plain": [
       "S1B_IW_20190527T030245_DVP_RTC30_G_gpuned_B8BE.zip:   0%|          | 0/474479561 [00:00<?, ?it/s]"
      ]
     },
     "metadata": {},
     "output_type": "display_data"
    },
    {
     "data": {
      "application/vnd.jupyter.widget-view+json": {
       "model_id": "cc7cd0357d3f428f990d00ff1831f50b",
       "version_major": 2,
       "version_minor": 0
      },
      "text/plain": [
       "S1B_IW_20190527T030311_DVP_RTC30_G_gpuned_A47D.zip:   0%|          | 0/450730695 [00:00<?, ?it/s]"
      ]
     },
     "metadata": {},
     "output_type": "display_data"
    },
    {
     "data": {
      "application/vnd.jupyter.widget-view+json": {
       "model_id": "b60b2b21a1284be6838c050e11fc6714",
       "version_major": 2,
       "version_minor": 0
      },
      "text/plain": [
       "S1A_IW_20190601T154801_DVP_RTC30_G_gpuned_BA2F.zip:   0%|          | 0/455175500 [00:00<?, ?it/s]"
      ]
     },
     "metadata": {},
     "output_type": "display_data"
    },
    {
     "data": {
      "application/vnd.jupyter.widget-view+json": {
       "model_id": "a5cb9df713b34871890a92294f62bd52",
       "version_major": 2,
       "version_minor": 0
      },
      "text/plain": [
       "S1B_IW_20190606T031902_DVP_RTC30_G_gpuned_62BF.zip:   0%|          | 0/503452821 [00:00<?, ?it/s]"
      ]
     },
     "metadata": {},
     "output_type": "display_data"
    },
    {
     "data": {
      "application/vnd.jupyter.widget-view+json": {
       "model_id": "434853532d874d5e91f9e92074093964",
       "version_major": 2,
       "version_minor": 0
      },
      "text/plain": [
       "S1B_IW_20190606T031929_DVP_RTC30_G_gpuned_C2DF.zip:   0%|          | 0/471445674 [00:00<?, ?it/s]"
      ]
     },
     "metadata": {},
     "output_type": "display_data"
    },
    {
     "data": {
      "application/vnd.jupyter.widget-view+json": {
       "model_id": "31f9c7e3ac5e4edc8266c48e55261813",
       "version_major": 2,
       "version_minor": 0
      },
      "text/plain": [
       "S1A_IW_20190606T155619_DVP_RTC30_G_gpuned_7659.zip:   0%|          | 0/453911216 [00:00<?, ?it/s]"
      ]
     },
     "metadata": {},
     "output_type": "display_data"
    },
    {
     "data": {
      "application/vnd.jupyter.widget-view+json": {
       "model_id": "b87c1250c73a4d58bf6b1f80c0ae4d39",
       "version_major": 2,
       "version_minor": 0
      },
      "text/plain": [
       "S1B_IW_20190608T030246_DVP_RTC30_G_gpuned_61C3.zip:   0%|          | 0/474512002 [00:00<?, ?it/s]"
      ]
     },
     "metadata": {},
     "output_type": "display_data"
    },
    {
     "data": {
      "application/vnd.jupyter.widget-view+json": {
       "model_id": "68bb6a72079944bf8a441ddc1a6bc54a",
       "version_major": 2,
       "version_minor": 0
      },
      "text/plain": [
       "S1A_IW_20190613T154801_DVP_RTC30_G_gpuned_06A7.zip:   0%|          | 0/455737639 [00:00<?, ?it/s]"
      ]
     },
     "metadata": {},
     "output_type": "display_data"
    },
    {
     "data": {
      "application/vnd.jupyter.widget-view+json": {
       "model_id": "f22b047c4408450ea874672caf47bcbf",
       "version_major": 2,
       "version_minor": 0
      },
      "text/plain": [
       "S1B_IW_20190608T030312_DVP_RTC30_G_gpuned_B707.zip:   0%|          | 0/451224511 [00:00<?, ?it/s]"
      ]
     },
     "metadata": {},
     "output_type": "display_data"
    },
    {
     "data": {
      "application/vnd.jupyter.widget-view+json": {
       "model_id": "4fe4f61812254af285da3a1fad10ab51",
       "version_major": 2,
       "version_minor": 0
      },
      "text/plain": [
       "S1B_IW_20190618T031903_DVP_RTC30_G_gpuned_F79C.zip:   0%|          | 0/503348877 [00:00<?, ?it/s]"
      ]
     },
     "metadata": {},
     "output_type": "display_data"
    },
    {
     "name": "stdout",
     "output_type": "stream",
     "text": [
      "Current job: 81/177, time elapsed: 27.45 min, time remaining: 32.13 min\n"
     ]
    },
    {
     "data": {
      "application/vnd.jupyter.widget-view+json": {
       "model_id": "95c51c28f70a4d0b8a0a5b132905ebaa",
       "version_major": 2,
       "version_minor": 0
      },
      "text/plain": [
       "S1B_IW_20190618T031930_DVP_RTC30_G_gpuned_1791.zip:   0%|          | 0/470849400 [00:00<?, ?it/s]"
      ]
     },
     "metadata": {},
     "output_type": "display_data"
    },
    {
     "data": {
      "application/vnd.jupyter.widget-view+json": {
       "model_id": "748364c773914d3d8943a7e01a6fda42",
       "version_major": 2,
       "version_minor": 0
      },
      "text/plain": [
       "S1A_IW_20190618T155620_DVP_RTC30_G_gpuned_392C.zip:   0%|          | 0/453087053 [00:00<?, ?it/s]"
      ]
     },
     "metadata": {},
     "output_type": "display_data"
    },
    {
     "data": {
      "application/vnd.jupyter.widget-view+json": {
       "model_id": "4df0d8ee41554c09b7b97e3553ee8e2b",
       "version_major": 2,
       "version_minor": 0
      },
      "text/plain": [
       "S1B_IW_20190620T030247_DVP_RTC30_G_gpuned_F139.zip:   0%|          | 0/474249798 [00:00<?, ?it/s]"
      ]
     },
     "metadata": {},
     "output_type": "display_data"
    },
    {
     "data": {
      "application/vnd.jupyter.widget-view+json": {
       "model_id": "d6be3ce18a6f4e28a55a2d3af5d0e410",
       "version_major": 2,
       "version_minor": 0
      },
      "text/plain": [
       "S1A_IW_20190625T154802_DVP_RTC30_G_gpuned_AD36.zip:   0%|          | 0/455196860 [00:00<?, ?it/s]"
      ]
     },
     "metadata": {},
     "output_type": "display_data"
    },
    {
     "data": {
      "application/vnd.jupyter.widget-view+json": {
       "model_id": "59617258cc654d10a5e9211094eee1fe",
       "version_major": 2,
       "version_minor": 0
      },
      "text/plain": [
       "S1B_IW_20190620T030312_DVP_RTC30_G_gpuned_41FF.zip:   0%|          | 0/450588615 [00:00<?, ?it/s]"
      ]
     },
     "metadata": {},
     "output_type": "display_data"
    },
    {
     "data": {
      "application/vnd.jupyter.widget-view+json": {
       "model_id": "beb97203d59949bd94a7888251ca2903",
       "version_major": 2,
       "version_minor": 0
      },
      "text/plain": [
       "S1B_IW_20190630T031903_DVP_RTC30_G_gpuned_D9BD.zip:   0%|          | 0/502481541 [00:00<?, ?it/s]"
      ]
     },
     "metadata": {},
     "output_type": "display_data"
    },
    {
     "data": {
      "application/vnd.jupyter.widget-view+json": {
       "model_id": "d41ab5f08e3e4b1c9b122968029694b8",
       "version_major": 2,
       "version_minor": 0
      },
      "text/plain": [
       "S1A_IW_20190630T155621_DVP_RTC30_G_gpuned_AD3A.zip:   0%|          | 0/452172764 [00:00<?, ?it/s]"
      ]
     },
     "metadata": {},
     "output_type": "display_data"
    },
    {
     "data": {
      "application/vnd.jupyter.widget-view+json": {
       "model_id": "cb19d17357474ae6a086b610ccefc129",
       "version_major": 2,
       "version_minor": 0
      },
      "text/plain": [
       "S1B_IW_20190630T031931_DVP_RTC30_G_gpuned_B803.zip:   0%|          | 0/468826377 [00:00<?, ?it/s]"
      ]
     },
     "metadata": {},
     "output_type": "display_data"
    },
    {
     "data": {
      "application/vnd.jupyter.widget-view+json": {
       "model_id": "51bbb1ad6fb549aaa894c9ce5f56a1ca",
       "version_major": 2,
       "version_minor": 0
      },
      "text/plain": [
       "S1B_IW_20190702T030313_DVP_RTC30_G_gpuned_DABF.zip:   0%|          | 0/450531681 [00:00<?, ?it/s]"
      ]
     },
     "metadata": {},
     "output_type": "display_data"
    },
    {
     "data": {
      "application/vnd.jupyter.widget-view+json": {
       "model_id": "6d656cec9f6e42fbacf6f5f1aa311d7b",
       "version_major": 2,
       "version_minor": 0
      },
      "text/plain": [
       "S1B_IW_20190702T030247_DVP_RTC30_G_gpuned_2D58.zip:   0%|          | 0/473668244 [00:00<?, ?it/s]"
      ]
     },
     "metadata": {},
     "output_type": "display_data"
    },
    {
     "name": "stdout",
     "output_type": "stream",
     "text": [
      "Current job: 91/177, time elapsed: 30.93 min, time remaining: 28.91 min\n"
     ]
    },
    {
     "data": {
      "application/vnd.jupyter.widget-view+json": {
       "model_id": "24240d50e2a6493b8b38893c9aeba475",
       "version_major": 2,
       "version_minor": 0
      },
      "text/plain": [
       "S1A_IW_20190707T154803_DVP_RTC30_G_gpuned_2B5F.zip:   0%|          | 0/454825552 [00:00<?, ?it/s]"
      ]
     },
     "metadata": {},
     "output_type": "display_data"
    },
    {
     "data": {
      "application/vnd.jupyter.widget-view+json": {
       "model_id": "446cbb84af804279843ffe38198e6499",
       "version_major": 2,
       "version_minor": 0
      },
      "text/plain": [
       "S1B_IW_20190712T031932_DVP_RTC30_G_gpuned_7BB6.zip:   0%|          | 0/470019966 [00:00<?, ?it/s]"
      ]
     },
     "metadata": {},
     "output_type": "display_data"
    },
    {
     "data": {
      "application/vnd.jupyter.widget-view+json": {
       "model_id": "7d61a6609e1647b68eebb0205ec2e7b5",
       "version_major": 2,
       "version_minor": 0
      },
      "text/plain": [
       "S1B_IW_20190712T031904_DVP_RTC30_G_gpuned_E739.zip:   0%|          | 0/503815559 [00:00<?, ?it/s]"
      ]
     },
     "metadata": {},
     "output_type": "display_data"
    },
    {
     "data": {
      "application/vnd.jupyter.widget-view+json": {
       "model_id": "98a71a09723f4679b010fbde184f5972",
       "version_major": 2,
       "version_minor": 0
      },
      "text/plain": [
       "S1A_IW_20190712T155622_DVP_RTC30_G_gpuned_13D4.zip:   0%|          | 0/451757155 [00:00<?, ?it/s]"
      ]
     },
     "metadata": {},
     "output_type": "display_data"
    },
    {
     "data": {
      "application/vnd.jupyter.widget-view+json": {
       "model_id": "88fa8afbc9e249f59caf958f1e484d33",
       "version_major": 2,
       "version_minor": 0
      },
      "text/plain": [
       "S1B_IW_20190714T030248_DVP_RTC30_G_gpuned_7F42.zip:   0%|          | 0/473483688 [00:00<?, ?it/s]"
      ]
     },
     "metadata": {},
     "output_type": "display_data"
    },
    {
     "data": {
      "application/vnd.jupyter.widget-view+json": {
       "model_id": "1950bb7a2c514021b1f5424847617995",
       "version_major": 2,
       "version_minor": 0
      },
      "text/plain": [
       "S1B_IW_20190714T030314_DVP_RTC30_G_gpuned_1BC6.zip:   0%|          | 0/450142950 [00:00<?, ?it/s]"
      ]
     },
     "metadata": {},
     "output_type": "display_data"
    },
    {
     "data": {
      "application/vnd.jupyter.widget-view+json": {
       "model_id": "02f44214d4c048f793fca9da21771fe5",
       "version_major": 2,
       "version_minor": 0
      },
      "text/plain": [
       "S1A_IW_20190719T154804_DVP_RTC30_G_gpuned_6EA6.zip:   0%|          | 0/454976006 [00:00<?, ?it/s]"
      ]
     },
     "metadata": {},
     "output_type": "display_data"
    },
    {
     "data": {
      "application/vnd.jupyter.widget-view+json": {
       "model_id": "944943c63cff4927b3ab628f5a9d98eb",
       "version_major": 2,
       "version_minor": 0
      },
      "text/plain": [
       "S1B_IW_20190724T031905_DVP_RTC30_G_gpuned_7CE9.zip:   0%|          | 0/503194371 [00:00<?, ?it/s]"
      ]
     },
     "metadata": {},
     "output_type": "display_data"
    },
    {
     "data": {
      "application/vnd.jupyter.widget-view+json": {
       "model_id": "9ad65ed85aeb40ea947ecad333d03a7f",
       "version_major": 2,
       "version_minor": 0
      },
      "text/plain": [
       "S1B_IW_20190724T031932_DVP_RTC30_G_gpuned_E4C3.zip:   0%|          | 0/469564235 [00:00<?, ?it/s]"
      ]
     },
     "metadata": {},
     "output_type": "display_data"
    },
    {
     "data": {
      "application/vnd.jupyter.widget-view+json": {
       "model_id": "dd01f16490a14cfea5d50aa2c940fd2f",
       "version_major": 2,
       "version_minor": 0
      },
      "text/plain": [
       "S1A_IW_20190724T155622_DVP_RTC30_G_gpuned_48AD.zip:   0%|          | 0/452056164 [00:00<?, ?it/s]"
      ]
     },
     "metadata": {},
     "output_type": "display_data"
    },
    {
     "name": "stdout",
     "output_type": "stream",
     "text": [
      "Current job: 101/177, time elapsed: 34.36 min, time remaining: 25.60 min\n"
     ]
    },
    {
     "data": {
      "application/vnd.jupyter.widget-view+json": {
       "model_id": "cd4aa1f40c8b4473819ce7da3992379d",
       "version_major": 2,
       "version_minor": 0
      },
      "text/plain": [
       "S1B_IW_20190726T030249_DVP_RTC30_G_gpuned_1FF9.zip:   0%|          | 0/473174759 [00:00<?, ?it/s]"
      ]
     },
     "metadata": {},
     "output_type": "display_data"
    },
    {
     "data": {
      "application/vnd.jupyter.widget-view+json": {
       "model_id": "5224aadd5c154236892b546464c36817",
       "version_major": 2,
       "version_minor": 0
      },
      "text/plain": [
       "S1B_IW_20190726T030315_DVP_RTC30_G_gpuned_F0BE.zip:   0%|          | 0/449793505 [00:00<?, ?it/s]"
      ]
     },
     "metadata": {},
     "output_type": "display_data"
    },
    {
     "data": {
      "application/vnd.jupyter.widget-view+json": {
       "model_id": "139645bddd7b4fb3b1522ffa8307160a",
       "version_major": 2,
       "version_minor": 0
      },
      "text/plain": [
       "S1A_IW_20190731T154804_DVP_RTC30_G_gpuned_00F0.zip:   0%|          | 0/455136889 [00:00<?, ?it/s]"
      ]
     },
     "metadata": {},
     "output_type": "display_data"
    },
    {
     "data": {
      "application/vnd.jupyter.widget-view+json": {
       "model_id": "f0fd55b23ce2450fac95f86ca4cc542e",
       "version_major": 2,
       "version_minor": 0
      },
      "text/plain": [
       "S1B_IW_20190805T031905_DVP_RTC30_G_gpuned_8324.zip:   0%|          | 0/504660926 [00:00<?, ?it/s]"
      ]
     },
     "metadata": {},
     "output_type": "display_data"
    },
    {
     "data": {
      "application/vnd.jupyter.widget-view+json": {
       "model_id": "985f0290af6d4622bffb910da6bba053",
       "version_major": 2,
       "version_minor": 0
      },
      "text/plain": [
       "S1B_IW_20190805T031933_DVP_RTC30_G_gpuned_071C.zip:   0%|          | 0/469609144 [00:00<?, ?it/s]"
      ]
     },
     "metadata": {},
     "output_type": "display_data"
    },
    {
     "data": {
      "application/vnd.jupyter.widget-view+json": {
       "model_id": "65878c83462a4ca787f570ce3fa0c28c",
       "version_major": 2,
       "version_minor": 0
      },
      "text/plain": [
       "S1A_IW_20190805T155623_DVP_RTC30_G_gpuned_27F4.zip:   0%|          | 0/452121361 [00:00<?, ?it/s]"
      ]
     },
     "metadata": {},
     "output_type": "display_data"
    },
    {
     "data": {
      "application/vnd.jupyter.widget-view+json": {
       "model_id": "8340c69550d241078b80696f668f2b35",
       "version_major": 2,
       "version_minor": 0
      },
      "text/plain": [
       "S1B_IW_20190807T030250_DVP_RTC30_G_gpuned_026C.zip:   0%|          | 0/473489145 [00:00<?, ?it/s]"
      ]
     },
     "metadata": {},
     "output_type": "display_data"
    },
    {
     "data": {
      "application/vnd.jupyter.widget-view+json": {
       "model_id": "d761a4130628450e8051981871ab3989",
       "version_major": 2,
       "version_minor": 0
      },
      "text/plain": [
       "S1B_IW_20190807T030315_DVP_RTC30_G_gpuned_3979.zip:   0%|          | 0/449730254 [00:00<?, ?it/s]"
      ]
     },
     "metadata": {},
     "output_type": "display_data"
    },
    {
     "data": {
      "application/vnd.jupyter.widget-view+json": {
       "model_id": "e22ad49bfcfc4f4f93d8f8ee89587b8c",
       "version_major": 2,
       "version_minor": 0
      },
      "text/plain": [
       "S1A_IW_20190812T154806_DVP_RTC30_G_gpuned_4C8C.zip:   0%|          | 0/454132912 [00:00<?, ?it/s]"
      ]
     },
     "metadata": {},
     "output_type": "display_data"
    },
    {
     "data": {
      "application/vnd.jupyter.widget-view+json": {
       "model_id": "b040fdf1a53241cc8c83bfc36423d381",
       "version_major": 2,
       "version_minor": 0
      },
      "text/plain": [
       "S1B_IW_20190817T031906_DVP_RTC30_G_gpuned_7CC1.zip:   0%|          | 0/504647465 [00:00<?, ?it/s]"
      ]
     },
     "metadata": {},
     "output_type": "display_data"
    },
    {
     "name": "stdout",
     "output_type": "stream",
     "text": [
      "Current job: 111/177, time elapsed: 37.74 min, time remaining: 22.24 min\n"
     ]
    },
    {
     "data": {
      "application/vnd.jupyter.widget-view+json": {
       "model_id": "40af8e74c144448a977fae2a313191ca",
       "version_major": 2,
       "version_minor": 0
      },
      "text/plain": [
       "S1A_IW_20190817T155624_DVP_RTC30_G_gpuned_EAFD.zip:   0%|          | 0/452058492 [00:00<?, ?it/s]"
      ]
     },
     "metadata": {},
     "output_type": "display_data"
    },
    {
     "data": {
      "application/vnd.jupyter.widget-view+json": {
       "model_id": "7fc68f2aac674ab493d58ee6ca1ccc0e",
       "version_major": 2,
       "version_minor": 0
      },
      "text/plain": [
       "S1B_IW_20190817T031934_DVP_RTC30_G_gpuned_14B9.zip:   0%|          | 0/469258776 [00:00<?, ?it/s]"
      ]
     },
     "metadata": {},
     "output_type": "display_data"
    },
    {
     "data": {
      "application/vnd.jupyter.widget-view+json": {
       "model_id": "77ac1557f0064254b50b5274cf8c858d",
       "version_major": 2,
       "version_minor": 0
      },
      "text/plain": [
       "S1B_IW_20190819T030250_DVP_RTC30_G_gpuned_E029.zip:   0%|          | 0/472877412 [00:00<?, ?it/s]"
      ]
     },
     "metadata": {},
     "output_type": "display_data"
    },
    {
     "data": {
      "application/vnd.jupyter.widget-view+json": {
       "model_id": "f3dfda95ed0146efb42b84c39596f0bc",
       "version_major": 2,
       "version_minor": 0
      },
      "text/plain": [
       "S1A_IW_20190824T154806_DVP_RTC30_G_gpuned_E09F.zip:   0%|          | 0/453480963 [00:00<?, ?it/s]"
      ]
     },
     "metadata": {},
     "output_type": "display_data"
    },
    {
     "data": {
      "application/vnd.jupyter.widget-view+json": {
       "model_id": "03d34a842fdd44e1b66a537aef960633",
       "version_major": 2,
       "version_minor": 0
      },
      "text/plain": [
       "S1B_IW_20190819T030316_DVP_RTC30_G_gpuned_8ECE.zip:   0%|          | 0/450264841 [00:00<?, ?it/s]"
      ]
     },
     "metadata": {},
     "output_type": "display_data"
    },
    {
     "data": {
      "application/vnd.jupyter.widget-view+json": {
       "model_id": "5f9472cd112e4291b56bd02fbe5c80d6",
       "version_major": 2,
       "version_minor": 0
      },
      "text/plain": [
       "S1B_IW_20190829T031907_DVP_RTC30_G_gpuned_7C57.zip:   0%|          | 0/503539472 [00:00<?, ?it/s]"
      ]
     },
     "metadata": {},
     "output_type": "display_data"
    },
    {
     "data": {
      "application/vnd.jupyter.widget-view+json": {
       "model_id": "9761964b19814471a80baa3c89c8a0db",
       "version_major": 2,
       "version_minor": 0
      },
      "text/plain": [
       "S1B_IW_20190829T031934_DVP_RTC30_G_gpuned_0688.zip:   0%|          | 0/469632965 [00:00<?, ?it/s]"
      ]
     },
     "metadata": {},
     "output_type": "display_data"
    },
    {
     "data": {
      "application/vnd.jupyter.widget-view+json": {
       "model_id": "baee42832aec4100ab5f1957110f397d",
       "version_major": 2,
       "version_minor": 0
      },
      "text/plain": [
       "S1A_IW_20190829T155624_DVP_RTC30_G_gpuned_71D9.zip:   0%|          | 0/451508900 [00:00<?, ?it/s]"
      ]
     },
     "metadata": {},
     "output_type": "display_data"
    },
    {
     "data": {
      "application/vnd.jupyter.widget-view+json": {
       "model_id": "109a8bf4deae403494005397440cd523",
       "version_major": 2,
       "version_minor": 0
      },
      "text/plain": [
       "S1B_IW_20190831T030317_DVP_RTC30_G_gpuned_FF48.zip:   0%|          | 0/450732203 [00:00<?, ?it/s]"
      ]
     },
     "metadata": {},
     "output_type": "display_data"
    },
    {
     "data": {
      "application/vnd.jupyter.widget-view+json": {
       "model_id": "e9baa270c4944014a239076fcdd8bc71",
       "version_major": 2,
       "version_minor": 0
      },
      "text/plain": [
       "S1B_IW_20190831T030251_DVP_RTC30_G_gpuned_376B.zip:   0%|          | 0/473208221 [00:00<?, ?it/s]"
      ]
     },
     "metadata": {},
     "output_type": "display_data"
    },
    {
     "name": "stdout",
     "output_type": "stream",
     "text": [
      "Current job: 121/177, time elapsed: 41.08 min, time remaining: 18.85 min\n"
     ]
    },
    {
     "data": {
      "application/vnd.jupyter.widget-view+json": {
       "model_id": "18fdce184c0a4daf933861994e20a79b",
       "version_major": 2,
       "version_minor": 0
      },
      "text/plain": [
       "S1A_IW_20190905T154807_DVP_RTC30_G_gpuned_7642.zip:   0%|          | 0/453904474 [00:00<?, ?it/s]"
      ]
     },
     "metadata": {},
     "output_type": "display_data"
    },
    {
     "data": {
      "application/vnd.jupyter.widget-view+json": {
       "model_id": "ccae20f2bd554f69845b3ee43bbf4458",
       "version_major": 2,
       "version_minor": 0
      },
      "text/plain": [
       "S1B_IW_20190910T031935_DVP_RTC30_G_gpuned_2107.zip:   0%|          | 0/469715079 [00:00<?, ?it/s]"
      ]
     },
     "metadata": {},
     "output_type": "display_data"
    },
    {
     "data": {
      "application/vnd.jupyter.widget-view+json": {
       "model_id": "03ef8bde650540bba0afeab371e087b7",
       "version_major": 2,
       "version_minor": 0
      },
      "text/plain": [
       "S1B_IW_20190910T031908_DVP_RTC30_G_gpuned_D116.zip:   0%|          | 0/502273314 [00:00<?, ?it/s]"
      ]
     },
     "metadata": {},
     "output_type": "display_data"
    },
    {
     "data": {
      "application/vnd.jupyter.widget-view+json": {
       "model_id": "a8380f6ae6044d729a1d001d3c226fe5",
       "version_major": 2,
       "version_minor": 0
      },
      "text/plain": [
       "S1B_IW_20190912T030251_DVP_RTC30_G_gpuned_C081.zip:   0%|          | 0/472755348 [00:00<?, ?it/s]"
      ]
     },
     "metadata": {},
     "output_type": "display_data"
    },
    {
     "data": {
      "application/vnd.jupyter.widget-view+json": {
       "model_id": "07f1c6facfa84542964f2981be262806",
       "version_major": 2,
       "version_minor": 0
      },
      "text/plain": [
       "S1A_IW_20190910T155625_DVP_RTC30_G_gpuned_A310.zip:   0%|          | 0/451369636 [00:00<?, ?it/s]"
      ]
     },
     "metadata": {},
     "output_type": "display_data"
    },
    {
     "data": {
      "application/vnd.jupyter.widget-view+json": {
       "model_id": "108579ff88094a048954fbd59e7531d4",
       "version_major": 2,
       "version_minor": 0
      },
      "text/plain": [
       "S1B_IW_20190912T030317_DVP_RTC30_G_gpuned_E57F.zip:   0%|          | 0/450635848 [00:00<?, ?it/s]"
      ]
     },
     "metadata": {},
     "output_type": "display_data"
    },
    {
     "data": {
      "application/vnd.jupyter.widget-view+json": {
       "model_id": "a54217be2bd949cabc484b26918cd3a2",
       "version_major": 2,
       "version_minor": 0
      },
      "text/plain": [
       "S1B_IW_20190922T031935_DVP_RTC30_G_gpuned_D962.zip:   0%|          | 0/469540778 [00:00<?, ?it/s]"
      ]
     },
     "metadata": {},
     "output_type": "display_data"
    },
    {
     "data": {
      "application/vnd.jupyter.widget-view+json": {
       "model_id": "410b28835a15405eb3a44e433bb0304e",
       "version_major": 2,
       "version_minor": 0
      },
      "text/plain": [
       "S1B_IW_20190922T031908_DVP_RTC30_G_gpuned_B223.zip:   0%|          | 0/502034450 [00:00<?, ?it/s]"
      ]
     },
     "metadata": {},
     "output_type": "display_data"
    },
    {
     "data": {
      "application/vnd.jupyter.widget-view+json": {
       "model_id": "dae8ba77e741485d84cae95b7a5ac57e",
       "version_major": 2,
       "version_minor": 0
      },
      "text/plain": [
       "S1A_IW_20190922T155626_DVP_RTC30_G_gpuned_35AA.zip:   0%|          | 0/451594970 [00:00<?, ?it/s]"
      ]
     },
     "metadata": {},
     "output_type": "display_data"
    },
    {
     "data": {
      "application/vnd.jupyter.widget-view+json": {
       "model_id": "b8972da699b84f6a8578d4700a9c481e",
       "version_major": 2,
       "version_minor": 0
      },
      "text/plain": [
       "S1B_IW_20190924T030318_DVP_RTC30_G_gpuned_BA34.zip:   0%|          | 0/450570388 [00:00<?, ?it/s]"
      ]
     },
     "metadata": {},
     "output_type": "display_data"
    },
    {
     "name": "stdout",
     "output_type": "stream",
     "text": [
      "Current job: 131/177, time elapsed: 44.30 min, time remaining: 15.44 min\n"
     ]
    },
    {
     "data": {
      "application/vnd.jupyter.widget-view+json": {
       "model_id": "e4b2c07109fd4e1ba22ec049dca61194",
       "version_major": 2,
       "version_minor": 0
      },
      "text/plain": [
       "S1B_IW_20190924T030252_DVP_RTC30_G_gpuned_21CF.zip:   0%|          | 0/472328880 [00:00<?, ?it/s]"
      ]
     },
     "metadata": {},
     "output_type": "display_data"
    },
    {
     "data": {
      "application/vnd.jupyter.widget-view+json": {
       "model_id": "ac507b17589c439083128bf5ecc9bdd7",
       "version_major": 2,
       "version_minor": 0
      },
      "text/plain": [
       "S1A_IW_20190929T154808_DVP_RTC30_G_gpuned_36A7.zip:   0%|          | 0/453801153 [00:00<?, ?it/s]"
      ]
     },
     "metadata": {},
     "output_type": "display_data"
    },
    {
     "data": {
      "application/vnd.jupyter.widget-view+json": {
       "model_id": "87bdcc3fc2644e4a91464fe800bcaf9f",
       "version_major": 2,
       "version_minor": 0
      },
      "text/plain": [
       "S1B_IW_20191004T031908_DVP_RTC30_G_gpuned_B5C4.zip:   0%|          | 0/502268818 [00:00<?, ?it/s]"
      ]
     },
     "metadata": {},
     "output_type": "display_data"
    },
    {
     "data": {
      "application/vnd.jupyter.widget-view+json": {
       "model_id": "09352b2ab1ad4dc58761facd695955b4",
       "version_major": 2,
       "version_minor": 0
      },
      "text/plain": [
       "S1B_IW_20191004T031936_DVP_RTC30_G_gpuned_C068.zip:   0%|          | 0/469200212 [00:00<?, ?it/s]"
      ]
     },
     "metadata": {},
     "output_type": "display_data"
    },
    {
     "data": {
      "application/vnd.jupyter.widget-view+json": {
       "model_id": "97a0bbdcb6994a5687c6007f66bbb490",
       "version_major": 2,
       "version_minor": 0
      },
      "text/plain": [
       "S1A_IW_20191004T155626_DVP_RTC30_G_gpuned_B678.zip:   0%|          | 0/451794337 [00:00<?, ?it/s]"
      ]
     },
     "metadata": {},
     "output_type": "display_data"
    },
    {
     "data": {
      "application/vnd.jupyter.widget-view+json": {
       "model_id": "79846997a7b047818642130927562cb5",
       "version_major": 2,
       "version_minor": 0
      },
      "text/plain": [
       "S1B_IW_20191006T030252_DVP_RTC30_G_gpuned_FA00.zip:   0%|          | 0/472155183 [00:00<?, ?it/s]"
      ]
     },
     "metadata": {},
     "output_type": "display_data"
    },
    {
     "data": {
      "application/vnd.jupyter.widget-view+json": {
       "model_id": "e6deeb118388482d9a25066bb4b88ee1",
       "version_major": 2,
       "version_minor": 0
      },
      "text/plain": [
       "S1B_IW_20191006T030318_DVP_RTC30_G_gpuned_539B.zip:   0%|          | 0/448572278 [00:00<?, ?it/s]"
      ]
     },
     "metadata": {},
     "output_type": "display_data"
    },
    {
     "data": {
      "application/vnd.jupyter.widget-view+json": {
       "model_id": "a296293c03c042ababf11c3b90902b0e",
       "version_major": 2,
       "version_minor": 0
      },
      "text/plain": [
       "S1B_IW_20191016T031908_DVP_RTC30_G_gpuned_EF12.zip:   0%|          | 0/502769263 [00:00<?, ?it/s]"
      ]
     },
     "metadata": {},
     "output_type": "display_data"
    },
    {
     "data": {
      "application/vnd.jupyter.widget-view+json": {
       "model_id": "1d1df087b60745b8a2005c30038bd490",
       "version_major": 2,
       "version_minor": 0
      },
      "text/plain": [
       "S1A_IW_20191011T154808_DVP_RTC30_G_gpuned_7D95.zip:   0%|          | 0/453236453 [00:00<?, ?it/s]"
      ]
     },
     "metadata": {},
     "output_type": "display_data"
    },
    {
     "data": {
      "application/vnd.jupyter.widget-view+json": {
       "model_id": "317d658d293444fb8fd6b8eb80bab809",
       "version_major": 2,
       "version_minor": 0
      },
      "text/plain": [
       "S1B_IW_20191016T031936_DVP_RTC30_G_gpuned_8300.zip:   0%|          | 0/467585213 [00:00<?, ?it/s]"
      ]
     },
     "metadata": {},
     "output_type": "display_data"
    },
    {
     "name": "stdout",
     "output_type": "stream",
     "text": [
      "Current job: 141/177, time elapsed: 47.48 min, time remaining: 12.04 min\n"
     ]
    },
    {
     "data": {
      "application/vnd.jupyter.widget-view+json": {
       "model_id": "4a4ad809f492474fb840bf06da5b029c",
       "version_major": 2,
       "version_minor": 0
      },
      "text/plain": [
       "S1A_IW_20191016T155626_DVP_RTC30_G_gpuned_A759.zip:   0%|          | 0/450517124 [00:00<?, ?it/s]"
      ]
     },
     "metadata": {},
     "output_type": "display_data"
    },
    {
     "data": {
      "application/vnd.jupyter.widget-view+json": {
       "model_id": "ea77076bd91141208bdcf4e94c3b8fad",
       "version_major": 2,
       "version_minor": 0
      },
      "text/plain": [
       "S1B_IW_20191018T030252_DVP_RTC30_G_gpuned_9BFD.zip:   0%|          | 0/471652180 [00:00<?, ?it/s]"
      ]
     },
     "metadata": {},
     "output_type": "display_data"
    },
    {
     "data": {
      "application/vnd.jupyter.widget-view+json": {
       "model_id": "224d59e1022d44b59f602ddccc34a3ba",
       "version_major": 2,
       "version_minor": 0
      },
      "text/plain": [
       "S1B_IW_20191018T030318_DVP_RTC30_G_gpuned_EAF4.zip:   0%|          | 0/447850207 [00:00<?, ?it/s]"
      ]
     },
     "metadata": {},
     "output_type": "display_data"
    },
    {
     "data": {
      "application/vnd.jupyter.widget-view+json": {
       "model_id": "a3b42c1e6e164e7ca0d1a50fe4cb5e8c",
       "version_major": 2,
       "version_minor": 0
      },
      "text/plain": [
       "S1A_IW_20191023T154808_DVP_RTC30_G_gpuned_1086.zip:   0%|          | 0/452440025 [00:00<?, ?it/s]"
      ]
     },
     "metadata": {},
     "output_type": "display_data"
    },
    {
     "data": {
      "application/vnd.jupyter.widget-view+json": {
       "model_id": "2ce6741e0eeb49a5b12351e551a40100",
       "version_major": 2,
       "version_minor": 0
      },
      "text/plain": [
       "S1B_IW_20191028T031936_DVP_RTC30_G_gpuned_6938.zip:   0%|          | 0/469429489 [00:00<?, ?it/s]"
      ]
     },
     "metadata": {},
     "output_type": "display_data"
    },
    {
     "data": {
      "application/vnd.jupyter.widget-view+json": {
       "model_id": "fb68fca3b6b54ec1b0f6e89a96319420",
       "version_major": 2,
       "version_minor": 0
      },
      "text/plain": [
       "S1B_IW_20191028T031908_DVP_RTC30_G_gpuned_ADB1.zip:   0%|          | 0/504465047 [00:00<?, ?it/s]"
      ]
     },
     "metadata": {},
     "output_type": "display_data"
    },
    {
     "data": {
      "application/vnd.jupyter.widget-view+json": {
       "model_id": "5c7b570ce45f49ddb6e193b9176050d8",
       "version_major": 2,
       "version_minor": 0
      },
      "text/plain": [
       "S1A_IW_20191028T155626_DVP_RTC30_G_gpuned_8EEB.zip:   0%|          | 0/452211034 [00:00<?, ?it/s]"
      ]
     },
     "metadata": {},
     "output_type": "display_data"
    },
    {
     "data": {
      "application/vnd.jupyter.widget-view+json": {
       "model_id": "810fbd43352644b8b5501e6364ac3c0b",
       "version_major": 2,
       "version_minor": 0
      },
      "text/plain": [
       "S1B_IW_20191030T030318_DVP_RTC30_G_gpuned_4078.zip:   0%|          | 0/450425553 [00:00<?, ?it/s]"
      ]
     },
     "metadata": {},
     "output_type": "display_data"
    },
    {
     "data": {
      "application/vnd.jupyter.widget-view+json": {
       "model_id": "2861937eec7a492190a3631ff9d58398",
       "version_major": 2,
       "version_minor": 0
      },
      "text/plain": [
       "S1B_IW_20191030T030252_DVP_RTC30_G_gpuned_7DAD.zip:   0%|          | 0/472477216 [00:00<?, ?it/s]"
      ]
     },
     "metadata": {},
     "output_type": "display_data"
    },
    {
     "data": {
      "application/vnd.jupyter.widget-view+json": {
       "model_id": "e4f04f0641084d0e831fd25c825e5d18",
       "version_major": 2,
       "version_minor": 0
      },
      "text/plain": [
       "S1A_IW_20191104T154808_DVP_RTC30_G_gpuned_DB56.zip:   0%|          | 0/451770574 [00:00<?, ?it/s]"
      ]
     },
     "metadata": {},
     "output_type": "display_data"
    },
    {
     "name": "stdout",
     "output_type": "stream",
     "text": [
      "Current job: 151/177, time elapsed: 50.68 min, time remaining: 8.67 min\n"
     ]
    },
    {
     "data": {
      "application/vnd.jupyter.widget-view+json": {
       "model_id": "385290e762e04cdb99b450f39d7a10ed",
       "version_major": 2,
       "version_minor": 0
      },
      "text/plain": [
       "S1B_IW_20191109T031936_DVP_RTC30_G_gpuned_5262.zip:   0%|          | 0/468345802 [00:00<?, ?it/s]"
      ]
     },
     "metadata": {},
     "output_type": "display_data"
    },
    {
     "data": {
      "application/vnd.jupyter.widget-view+json": {
       "model_id": "2b5fce9994c045a18a74a82c1d5d7c2f",
       "version_major": 2,
       "version_minor": 0
      },
      "text/plain": [
       "S1B_IW_20191109T031908_DVP_RTC30_G_gpuned_6981.zip:   0%|          | 0/503178643 [00:00<?, ?it/s]"
      ]
     },
     "metadata": {},
     "output_type": "display_data"
    },
    {
     "data": {
      "application/vnd.jupyter.widget-view+json": {
       "model_id": "daaf021afea141e3a5d8a36f2a530a0e",
       "version_major": 2,
       "version_minor": 0
      },
      "text/plain": [
       "S1A_IW_20191109T155626_DVP_RTC30_G_gpuned_552A.zip:   0%|          | 0/451069332 [00:00<?, ?it/s]"
      ]
     },
     "metadata": {},
     "output_type": "display_data"
    },
    {
     "data": {
      "application/vnd.jupyter.widget-view+json": {
       "model_id": "d42652dda13c43d2bdaba9b2ff4336b0",
       "version_major": 2,
       "version_minor": 0
      },
      "text/plain": [
       "S1B_IW_20191111T030252_DVP_RTC30_G_gpuned_C66D.zip:   0%|          | 0/471637274 [00:00<?, ?it/s]"
      ]
     },
     "metadata": {},
     "output_type": "display_data"
    },
    {
     "data": {
      "application/vnd.jupyter.widget-view+json": {
       "model_id": "9d93089c22364a0b8317aa90b85be3f6",
       "version_major": 2,
       "version_minor": 0
      },
      "text/plain": [
       "S1B_IW_20191111T030318_DVP_RTC30_G_gpuned_53B8.zip:   0%|          | 0/448281437 [00:00<?, ?it/s]"
      ]
     },
     "metadata": {},
     "output_type": "display_data"
    },
    {
     "data": {
      "application/vnd.jupyter.widget-view+json": {
       "model_id": "20b50ce7e6e74c2aaefc9c73ea292daa",
       "version_major": 2,
       "version_minor": 0
      },
      "text/plain": [
       "S1A_IW_20191116T154808_DVP_RTC30_G_gpuned_0DB9.zip:   0%|          | 0/452448509 [00:00<?, ?it/s]"
      ]
     },
     "metadata": {},
     "output_type": "display_data"
    },
    {
     "data": {
      "application/vnd.jupyter.widget-view+json": {
       "model_id": "81a5d2a887594d18a3a1e20aa104aa7a",
       "version_major": 2,
       "version_minor": 0
      },
      "text/plain": [
       "S1B_IW_20191121T031936_DVP_RTC30_G_gpuned_BA79.zip:   0%|          | 0/469013492 [00:00<?, ?it/s]"
      ]
     },
     "metadata": {},
     "output_type": "display_data"
    },
    {
     "data": {
      "application/vnd.jupyter.widget-view+json": {
       "model_id": "3c5f2a77b8d34475948330afab4cd311",
       "version_major": 2,
       "version_minor": 0
      },
      "text/plain": [
       "S1B_IW_20191121T031908_DVP_RTC30_G_gpuned_4906.zip:   0%|          | 0/503978190 [00:00<?, ?it/s]"
      ]
     },
     "metadata": {},
     "output_type": "display_data"
    },
    {
     "data": {
      "application/vnd.jupyter.widget-view+json": {
       "model_id": "b14781e02f2042a2ada39e53ee126b68",
       "version_major": 2,
       "version_minor": 0
      },
      "text/plain": [
       "S1A_IW_20191121T155626_DVP_RTC30_G_gpuned_ABA5.zip:   0%|          | 0/452262528 [00:00<?, ?it/s]"
      ]
     },
     "metadata": {},
     "output_type": "display_data"
    },
    {
     "data": {
      "application/vnd.jupyter.widget-view+json": {
       "model_id": "25258ad410bf4ba7ae82bc7440660455",
       "version_major": 2,
       "version_minor": 0
      },
      "text/plain": [
       "S1B_IW_20191123T030252_DVP_RTC30_G_gpuned_4D6F.zip:   0%|          | 0/472393219 [00:00<?, ?it/s]"
      ]
     },
     "metadata": {},
     "output_type": "display_data"
    },
    {
     "name": "stdout",
     "output_type": "stream",
     "text": [
      "Current job: 161/177, time elapsed: 53.93 min, time remaining: 5.33 min\n"
     ]
    },
    {
     "data": {
      "application/vnd.jupyter.widget-view+json": {
       "model_id": "b0a2bf1b56bd4670a4e1dd6028da9744",
       "version_major": 2,
       "version_minor": 0
      },
      "text/plain": [
       "S1B_IW_20191123T030318_DVP_RTC30_G_gpuned_D7E4.zip:   0%|          | 0/448565050 [00:00<?, ?it/s]"
      ]
     },
     "metadata": {},
     "output_type": "display_data"
    },
    {
     "data": {
      "application/vnd.jupyter.widget-view+json": {
       "model_id": "7c5a0e49122c4c76872a301e59cd3e28",
       "version_major": 2,
       "version_minor": 0
      },
      "text/plain": [
       "S1A_IW_20191128T154807_DVP_RTC30_G_gpuned_8863.zip:   0%|          | 0/452563734 [00:00<?, ?it/s]"
      ]
     },
     "metadata": {},
     "output_type": "display_data"
    },
    {
     "data": {
      "application/vnd.jupyter.widget-view+json": {
       "model_id": "5bf1fe0269fb47e9bd71cda67438da1e",
       "version_major": 2,
       "version_minor": 0
      },
      "text/plain": [
       "S1B_IW_20191203T031935_DVP_RTC30_G_gpuned_A326.zip:   0%|          | 0/467769265 [00:00<?, ?it/s]"
      ]
     },
     "metadata": {},
     "output_type": "display_data"
    },
    {
     "data": {
      "application/vnd.jupyter.widget-view+json": {
       "model_id": "a9f4a36d1f6f40a9b746d542f85f39e0",
       "version_major": 2,
       "version_minor": 0
      },
      "text/plain": [
       "S1B_IW_20191203T031908_DVP_RTC30_G_gpuned_DF6B.zip:   0%|          | 0/504537376 [00:00<?, ?it/s]"
      ]
     },
     "metadata": {},
     "output_type": "display_data"
    },
    {
     "data": {
      "application/vnd.jupyter.widget-view+json": {
       "model_id": "9864563eb54b4c2d9f1aa49572dfd0a9",
       "version_major": 2,
       "version_minor": 0
      },
      "text/plain": [
       "S1A_IW_20191203T155625_DVP_RTC30_G_gpuned_F379.zip:   0%|          | 0/451093100 [00:00<?, ?it/s]"
      ]
     },
     "metadata": {},
     "output_type": "display_data"
    },
    {
     "data": {
      "application/vnd.jupyter.widget-view+json": {
       "model_id": "50a385264633441d921328b740e3bcb8",
       "version_major": 2,
       "version_minor": 0
      },
      "text/plain": [
       "S1B_IW_20191215T031907_DVP_RTC30_G_gpuned_83E2.zip:   0%|          | 0/503780715 [00:00<?, ?it/s]"
      ]
     },
     "metadata": {},
     "output_type": "display_data"
    },
    {
     "data": {
      "application/vnd.jupyter.widget-view+json": {
       "model_id": "0d6ff68424ac470aaba5f6423f2cedd6",
       "version_major": 2,
       "version_minor": 0
      },
      "text/plain": [
       "S1A_IW_20191210T154807_DVP_RTC30_G_gpuned_BD90.zip:   0%|          | 0/452724535 [00:00<?, ?it/s]"
      ]
     },
     "metadata": {},
     "output_type": "display_data"
    },
    {
     "data": {
      "application/vnd.jupyter.widget-view+json": {
       "model_id": "2c6a739ab7174d518a3f99dd396055a0",
       "version_major": 2,
       "version_minor": 0
      },
      "text/plain": [
       "S1A_IW_20191215T155625_DVP_RTC30_G_gpuned_C19A.zip:   0%|          | 0/451326561 [00:00<?, ?it/s]"
      ]
     },
     "metadata": {},
     "output_type": "display_data"
    },
    {
     "data": {
      "application/vnd.jupyter.widget-view+json": {
       "model_id": "db69c4a100fe43e695b49634aae6050f",
       "version_major": 2,
       "version_minor": 0
      },
      "text/plain": [
       "S1B_IW_20191215T031935_DVP_RTC30_G_gpuned_F415.zip:   0%|          | 0/468349956 [00:00<?, ?it/s]"
      ]
     },
     "metadata": {},
     "output_type": "display_data"
    },
    {
     "data": {
      "application/vnd.jupyter.widget-view+json": {
       "model_id": "16982e557d6d4069997ef26535cad197",
       "version_major": 2,
       "version_minor": 0
      },
      "text/plain": [
       "S1B_IW_20191217T030251_DVP_RTC30_G_gpuned_AD8E.zip:   0%|          | 0/471726843 [00:00<?, ?it/s]"
      ]
     },
     "metadata": {},
     "output_type": "display_data"
    },
    {
     "name": "stdout",
     "output_type": "stream",
     "text": [
      "Current job: 171/177, time elapsed: 57.15 min, time remaining: 1.99 min\n"
     ]
    },
    {
     "data": {
      "application/vnd.jupyter.widget-view+json": {
       "model_id": "ccb91570ffa64419a9dc22e0b6722e9d",
       "version_major": 2,
       "version_minor": 0
      },
      "text/plain": [
       "S1A_IW_20191222T154806_DVP_RTC30_G_gpuned_B06D.zip:   0%|          | 0/453554957 [00:00<?, ?it/s]"
      ]
     },
     "metadata": {},
     "output_type": "display_data"
    },
    {
     "data": {
      "application/vnd.jupyter.widget-view+json": {
       "model_id": "16bef750084e42009d1a52514d8e0d17",
       "version_major": 2,
       "version_minor": 0
      },
      "text/plain": [
       "S1B_IW_20191217T030317_DVP_RTC30_G_gpuned_E4FA.zip:   0%|          | 0/449287438 [00:00<?, ?it/s]"
      ]
     },
     "metadata": {},
     "output_type": "display_data"
    },
    {
     "data": {
      "application/vnd.jupyter.widget-view+json": {
       "model_id": "b862a12597a44c6281b3fd5fd3c60b0f",
       "version_major": 2,
       "version_minor": 0
      },
      "text/plain": [
       "S1B_IW_20191227T031934_DVP_RTC30_G_gpuned_A240.zip:   0%|          | 0/468583600 [00:00<?, ?it/s]"
      ]
     },
     "metadata": {},
     "output_type": "display_data"
    },
    {
     "data": {
      "application/vnd.jupyter.widget-view+json": {
       "model_id": "e7ff6f183c4041ad969bd62c304edbbd",
       "version_major": 2,
       "version_minor": 0
      },
      "text/plain": [
       "S1B_IW_20191227T031907_DVP_RTC30_G_gpuned_847C.zip:   0%|          | 0/504696915 [00:00<?, ?it/s]"
      ]
     },
     "metadata": {},
     "output_type": "display_data"
    },
    {
     "data": {
      "application/vnd.jupyter.widget-view+json": {
       "model_id": "cec0ffb5a1c44345b3c614e06e875a72",
       "version_major": 2,
       "version_minor": 0
      },
      "text/plain": [
       "S1A_IW_20191227T155624_DVP_RTC30_G_gpuned_DF5A.zip:   0%|          | 0/451662644 [00:00<?, ?it/s]"
      ]
     },
     "metadata": {},
     "output_type": "display_data"
    },
    {
     "data": {
      "application/vnd.jupyter.widget-view+json": {
       "model_id": "8b2c19f29f2949f9b175b8df0e607efa",
       "version_major": 2,
       "version_minor": 0
      },
      "text/plain": [
       "S1B_IW_20191229T030250_DVP_RTC30_G_gpuned_273F.zip:   0%|          | 0/472216615 [00:00<?, ?it/s]"
      ]
     },
     "metadata": {},
     "output_type": "display_data"
    },
    {
     "data": {
      "application/vnd.jupyter.widget-view+json": {
       "model_id": "a176d133c5064828bb9b42e07ca9c33b",
       "version_major": 2,
       "version_minor": 0
      },
      "text/plain": [
       "S1B_IW_20191229T030316_DVP_RTC30_G_gpuned_16FC.zip:   0%|          | 0/450249977 [00:00<?, ?it/s]"
      ]
     },
     "metadata": {},
     "output_type": "display_data"
    }
   ],
   "source": [
    "# #Download the products, unzip them into the rtc_download directory, convert them to dB, and delete the zip files:\n",
    "\n",
    "# # projectname = 'Kenn_20_notebook_2'\n",
    "# projectname = f'{projname}_{year%1000}_notebook'\n",
    "# EPSGn = '32607'\n",
    "# pols = ['VV','VH']\n",
    "\n",
    "# autoEPSG=False #use this to pull the first projection and use that as your projection for all images\n",
    "\n",
    "# joblist = hyp3.find_jobs(name=projectname)\n",
    "# joblen = len(joblist)-1\n",
    "# # jobi=0\n",
    "# t = time.time()\n",
    "# for i,job in enumerate(joblist):\n",
    "#     if job.succeeded()==True:\n",
    "#         if i%10 ==1:\n",
    "#             te = time.time()-t\n",
    "#             print(f'Current job: {i}/{joblen}, time elapsed: {te/60:.2f} min, time remaining: {(te/(i+1)*(joblen-i))/60:.2f} min')\n",
    "#         job.download_files(download_path)\n",
    "#         for pol in pols:\n",
    "#             # print(pol)\n",
    "#             extracttif(download_path,products_path,pol=pol,convert=False)\n",
    "#             if autoEPSG:\n",
    "#                 if (i == 0) and (pol == pols[0]):\n",
    "#                     fileg = glob.glob(f'{str(products_path)}/*.tif')\n",
    "#                     print(getEPSG(fileg[0]))\n",
    "#                     #SET THIS UP TO SET EPSG!!\n",
    "#             # fulltif = glob.glob(f'{str(products_path)}/*{pol}*')\n",
    "#             reproject(WTKstr,EPSGn,products_path,f'{str(clipped_path)}/{pol}',convert_to_db=True)\n",
    "#             os.system(f'rm {str(products_path)}/*.tif')\n",
    "#             time.sleep(3)\n",
    "#         os.system(f'rm {str(download_path)}/*.zip')\n",
    "#             # extracttif(download_path,products_path,'VH',convert=True)\n",
    "#     else:\n",
    "#         print(f'WARNING: job {i} did not succeed')"
   ]
  },
  {
   "cell_type": "code",
   "execution_count": 9,
   "id": "60bc84cf-68a6-451f-af7c-dd02d71155c1",
   "metadata": {},
   "outputs": [],
   "source": [
    "# Check Failed Jobs:\n",
    "# print(joblist[5].succeeded)"
   ]
  },
  {
   "cell_type": "markdown",
   "id": "4352c4ae-76fa-4b07-8ae1-bf172c380f7c",
   "metadata": {},
   "source": [
    "## Create some metadata\n",
    "\n",
    "I want: a set of lists that have (with each proper corresponding entry), image name (granule I guess), date (date will be used to match), orbit pf, and orbit unique pf number"
   ]
  },
  {
   "cell_type": "code",
   "execution_count": 14,
   "id": "b7c24847-5441-40fd-8d43-04a23067a5ac",
   "metadata": {},
   "outputs": [],
   "source": [
    "def getSARdate(file,returndatestring=False):\n",
    "    '''Obtains the date of the start of a SAR acquisition, returns as a datetime\n",
    "    or a string.'''\n",
    "\n",
    "    file = str(file)\n",
    "    query = \"_????????T??????_\"\n",
    "    seqquery = str(query)\n",
    "    seqquery.replace('?','[0-9]')\n",
    "\n",
    "    substrings = fnmatch.filter((file[i:i+len(query)] for i in range(len(file) - len(query))), seqquery)\n",
    "    dtstr = substrings[0][1:-1].split('T')\n",
    "    \n",
    "    dtint = [dtstr[0][0:4],dtstr[0][4:6],dtstr[0][6:8],dtstr[1][0:2],dtstr[1][2:4],dtstr[1][4:6]]\n",
    "    dtint = [int(i)for i in dtint]\n",
    "    dtimg = datetime(dtint[0],dtint[1],dtint[2],dtint[3],dtint[4],dtint[5])\n",
    "\n",
    "    if returndatestring:\n",
    "        dtstr = dtstr[0]+dtstr[1]\n",
    "        return dtimg,dtstr\n",
    "    else:\n",
    "        return dtimg"
   ]
  },
  {
   "cell_type": "code",
   "execution_count": 80,
   "id": "1fd7dcf4-e155-4154-ae22-5cf5ed7e1417",
   "metadata": {},
   "outputs": [
    {
     "data": {
      "text/plain": [
       "['VV', 'VH']"
      ]
     },
     "execution_count": 80,
     "metadata": {},
     "output_type": "execute_result"
    }
   ],
   "source": [
    "pols"
   ]
  },
  {
   "cell_type": "code",
   "execution_count": 21,
   "id": "be29c8fa-4eff-4e46-a7de-062a1db7aacc",
   "metadata": {},
   "outputs": [],
   "source": [
    "#NOTE: Results must already be defined and refined\n",
    "# usepol=\"VH\"\n",
    "for usepol in pols:\n",
    "\n",
    "    mnamelist = []\n",
    "    mdatelist = []\n",
    "    mpflist = []\n",
    "    mpfulist = []\n",
    "\n",
    "    # products = glob.glob(f'{str(products_path)}/*')\n",
    "    # clipped_path = analysis_directory/\"rtc_clipped\"\n",
    "    # products = glob.glob(f'{str(clipped_path)}/*')\n",
    "    files = (clipped_path/usepol).glob('*.tif')\n",
    "    filelist = []\n",
    "    pdatelist = []\n",
    "    pnamelist = []\n",
    "    # print(results)\n",
    "\n",
    "    for f in files:\n",
    "        # print(f)\n",
    "        pdatelist.append(getSARdate(f))\n",
    "        filelist.append(f)\n",
    "\n",
    "    # print(pdatelist)\n",
    "    pdatelist=np.array(pdatelist)\n",
    "    filelist = np.array(filelist)\n",
    "    # print(len(products))\n",
    "    # print(len(pdatelist))\n",
    "    for res in results:\n",
    "        res = res.properties\n",
    "        rdate = datetime.strptime(res['startTime'],'%Y-%m-%dT%H:%M:%S.%f')\n",
    "        pind = np.where(rdate==pdatelist)\n",
    "        # print(pind)\n",
    "        if len(pind)==1:\n",
    "            pind = pind[0][0]\n",
    "            pnamelist.append(str(filelist[pind]))\n",
    "            rpf = res['pathNumber']+'-'+res['frameNumber']\n",
    "            mpflist.append(rpf)\n",
    "            mnamelist.append(res['sceneName'])\n",
    "            mdatelist.append(rdate)\n",
    "        else:\n",
    "            print('WARNING: Missing product')\n",
    "            print(res['sceneName'])\n",
    "\n",
    "    pfunique = np.unique(mpflist)\n",
    "    mpfulist = [np.where(pfunique==i)[0][0] for i in mpflist]\n",
    "    arraykey = ['arraykey','pnamelist','mnamelist','mdatelist','mpflist','mpfulist']\n",
    "\n",
    "    arraykey = np.asanyarray(arraykey)\n",
    "    pnamelist = np.array(pnamelist)\n",
    "    mnamelist = np.array(mnamelist)\n",
    "    mdatelist = np.array(mdatelist)\n",
    "    mpflist = np.array(mpflist)\n",
    "    mpfulist = np.array(mpfulist)\n",
    "\n",
    "    mdatelist,pnamelist,mnamelist,mpflist,mpfulist = zip(*sorted(zip(mdatelist,pnamelist,mnamelist,mpflist,mpfulist)))\n",
    "\n",
    "    np.save(f'{str(data_dir)}/imgmeta_{usepol}.npy',(arraykey,pnamelist,mnamelist,mdatelist,mpflist,mpfulist))\n",
    "\n",
    "    # print(mdatelist)\n",
    "    # print(pnamelist)\n",
    "        # print(res['sceneName'])\n",
    "        # print(np.where(rdate==pdatelist))\n",
    "        # rpf = res['pathNumber']+'-'+res['frameNumber']\n",
    "        # res['datetime']=rdate\n",
    "        # res['pfval'] = rpf\n",
    "        # datelist.append(rdate)\n",
    "        # pflist.append(rpf)\n",
    "\n",
    "\n",
    "    # pfunique = np.unique(pflist)\n",
    "    # pfvals = pflist\n",
    "    # pflist = [np.where(pfunique==i)[0][0] for i in pflist]"
   ]
  },
  {
   "cell_type": "code",
   "execution_count": null,
   "id": "8c03473a-073b-4cf5-8537-ffd6268cbf3d",
   "metadata": {},
   "outputs": [],
   "source": []
  }
 ],
 "metadata": {
  "kernelspec": {
   "display_name": "rtc_analysis",
   "language": "python",
   "name": "conda-env-.local-rtc_analysis-py"
  },
  "language_info": {
   "codemirror_mode": {
    "name": "ipython",
    "version": 3
   },
   "file_extension": ".py",
   "mimetype": "text/x-python",
   "name": "python",
   "nbconvert_exporter": "python",
   "pygments_lexer": "ipython3",
   "version": "3.9.10"
  }
 },
 "nbformat": 4,
 "nbformat_minor": 5
}
