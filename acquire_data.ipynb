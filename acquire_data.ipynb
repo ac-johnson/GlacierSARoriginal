{
 "cells": [
  {
   "cell_type": "markdown",
   "id": "f629ba05-7fa9-449b-887c-eaa4f83b33c7",
   "metadata": {},
   "source": [
    "## Acquire images\n",
    "\n",
    "This notebook will:\n",
    "\n",
    "* Section 1: For a given bounding box and year, find all SAR images in that region. Get some stats on them\n",
    "* Section 2: Filter out images from scenes that don't have sufficient preceding winter imagery for melt detection\n",
    "* Section 3: Run ASF Hyp3 RTC processing\n",
    "* Section 4: Download the data. Reproject it immedately and save only the smaller image. Does that work? I thought I would have to have EPSG vals? This will have to get figured out"
   ]
  },
  {
   "cell_type": "markdown",
   "id": "9a48161b-eb88-4715-a5a0-a549fbc9624d",
   "metadata": {},
   "source": [
    "### Preamble\n",
    "Prepare to do stuff"
   ]
  },
  {
   "cell_type": "code",
   "execution_count": 1,
   "id": "31ab6cac-f1dc-4e1d-8ee3-f35edcd60941",
   "metadata": {},
   "outputs": [
    {
     "data": {
      "application/vnd.jupyter.widget-view+json": {
       "model_id": "0b5424d503ea49189c577dba804e3826",
       "version_major": 2,
       "version_minor": 0
      },
      "text/plain": [
       "URLWidget()"
      ]
     },
     "metadata": {},
     "output_type": "display_data"
    }
   ],
   "source": [
    "import url_widget as url_w\n",
    "notebookUrl = url_w.URLWidget()\n",
    "display(notebookUrl)\n",
    "\n",
    "notebookUrl = notebookUrl.value\n",
    "user = !echo $JUPYTERHUB_USER\n",
    "env = !echo $CONDA_PREFIX\n",
    "\n",
    "#capture\n",
    "from datetime import datetime\n",
    "import glob\n",
    "import json # for loads\n",
    "import os\n",
    "from pathlib import Path\n",
    "import pytz\n",
    "import re\n",
    "import shutil\n",
    "import asf_search as asf\n",
    "from zipfile import ZipFile\n",
    "import time\n",
    "import fnmatch\n",
    "\n",
    "from matplotlib import pyplot as plt\n",
    "#Writing Support Functions:\n",
    "\n",
    "import numpy as np\n",
    "from osgeo import gdal,osr\n",
    "\n",
    "from IPython.display import HTML, display, clear_output, Markdown\n",
    "    \n",
    "from hyp3_sdk import Batch, HyP3\n",
    "\n",
    "import opensarlab_lib as asfn"
   ]
  },
  {
   "cell_type": "code",
   "execution_count": 2,
   "id": "0df7713c-ce0f-4dbd-a83a-1243c2411ab1",
   "metadata": {
    "tags": []
   },
   "outputs": [
    {
     "name": "stdout",
     "output_type": "stream",
     "text": [
      "analysis_directory: /home/jovyan/Kenn/2020\n",
      "/home/jovyan/Kenn/2020/rtc_download\n",
      "/home/jovyan/Kenn/2020/rtc_products\n",
      "/home/jovyan/Kenn/2020/rtc_clipped\n"
     ]
    }
   ],
   "source": [
    "##NAME PROJECT###\n",
    "projdir = Path.home()\n",
    "projname = 'Kenn'\n",
    "year = 2020\n",
    "data_dir=Path(f'{projdir}/{projname}/{str(year)}')\n",
    "pols = ['VV','VH']\n",
    "\n",
    "# Setting Paths\n",
    "analysis_directory = Path.cwd()/data_dir\n",
    "print(f\"analysis_directory: {analysis_directory}\")\n",
    "\n",
    "download_path = analysis_directory/\"rtc_download\"\n",
    "# download_path.mkdir()\n",
    "products_path = analysis_directory/\"rtc_products\"\n",
    "# products_path.mkdir()\n",
    "clipped_path = analysis_directory/\"rtc_clipped\"\n",
    "\n",
    "print(download_path)\n",
    "print(products_path)\n",
    "print(clipped_path)\n",
    "\n",
    "os.makedirs(data_dir,exist_ok=True)\n",
    "os.makedirs(download_path,exist_ok=True)\n",
    "os.makedirs(products_path,exist_ok=True)\n",
    "os.makedirs(analysis_directory/\"figures\",exist_ok=True)\n",
    "os.makedirs(clipped_path,exist_ok=True)\n",
    "for pol in pols:\n",
    "    os.makedirs(clipped_path/pol,exist_ok=True)\n",
    "\n",
    "# print(os.path.exists(data_dir))"
   ]
  },
  {
   "cell_type": "code",
   "execution_count": 3,
   "id": "247df810-10d2-4d18-b9b4-1ada4ab5c4f0",
   "metadata": {
    "tags": []
   },
   "outputs": [],
   "source": [
    "def timediff(time1,time2,form='seconds'):\n",
    "    '''time difference between time2 and time1 expressed as either days or seconds'''\n",
    "    # dd = 1\n",
    "    # if time1>time2:\n",
    "    #     dd=1\n",
    "    diff = time2-time1\n",
    "    if form=='seconds':\n",
    "        diff = diff.seconds+diff.days*86400\n",
    "    elif form=='days':\n",
    "        diff = diff.seconds/86400+diff.days\n",
    "    return diff"
   ]
  },
  {
   "cell_type": "markdown",
   "id": "2088a5e7-6ded-4a0f-bfeb-cd224b77e154",
   "metadata": {
    "tags": []
   },
   "source": [
    "## Find SAR Images\n",
    "\n",
    "Find the SAR images, run some statistics on their frequency, and queue them for Hyp3 processing"
   ]
  },
  {
   "cell_type": "code",
   "execution_count": 4,
   "id": "e130110c-4820-4570-ac68-7d50dc54f98e",
   "metadata": {
    "tags": []
   },
   "outputs": [
    {
     "data": {
      "text/plain": [
       "[<matplotlib.lines.Line2D at 0x7f72e000dc10>]"
      ]
     },
     "execution_count": 4,
     "metadata": {},
     "output_type": "execute_result"
    },
    {
     "data": {
      "image/png": "[encoded data removed]",
      "text/plain": [
       "<Figure size 432x288 with 1 Axes>"
      ]
     },
     "metadata": {
      "needs_background": "light"
     },
     "output_type": "display_data"
    }
   ],
   "source": [
    "#testpolygon = POLYGON((-143.1356 61.7756,-143.3698 61.7793,-143.5279 61.7044,-143.3824 61.6052,-143.0614 61.4737,-142.9854 61.4144,-142.804 61.4292,-142.7358 61.5912,-142.5978 61.6494,-142.6707 61.7523,-142.9699 61.7839,-143.1356 61.7756))\n",
    "WTKstr='POLYGON((-143.4858 61.4239,-142.5307 61.4239,-142.5307 61.7757,-143.4858 61.7757,-143.4858 61.4239))' #Kennicott\n",
    "# testWTK='POLYGON((-134.5463 58.5889,-133.8663 58.5889,-133.8663 58.7656,-134.5463 58.7656,-134.5463 58.5889))' #SE AK icefield\n",
    "# testWTK='POLYGON((-18.2664 63.9706,-15.2442 63.9706,-15.2442 64.9461,-18.2664 64.9461,-18.2664 63.9706))' #iceland\n",
    "# testWTK='POLYGON((15.123 78.0197,16.9688 78.0197,16.9688 78.2449,15.123 78.2449,15.123 78.0197))' #svalbard\n",
    "# testWTK = 'POLYGON((-140.264 60.3786,-140.0853 60.3786,-140.0853 60.4539,-140.264 60.4539,-140.264 60.3786))'\n",
    "# testWTK='POLYGON((-50.0733 70.6347,-47.6859 70.6347,-47.6859 71.1109,-50.0733 71.1109,-50.0733 70.6347))' #west greenland\n",
    "\n",
    "# year = 2020\n",
    "results = asf.geo_search(platform=[asf.PLATFORM.SENTINEL1], intersectsWith=WTKstr, maxResults=1000,start=f'{year}-01-01',\n",
    "                         end=f'{year+1}-01-01',processingLevel='SLC')\n",
    "\n",
    "datelist = []\n",
    "pflist = [] #path-frame list\n",
    "for res in results:\n",
    "    res = res.properties\n",
    "    rdate = datetime.strptime(res['startTime'],'%Y-%m-%dT%H:%M:%S.%f')\n",
    "    rpf = res['pathNumber']+'-'+res['frameNumber']\n",
    "    res['datetime']=rdate\n",
    "    res['pfval'] = rpf\n",
    "    datelist.append(rdate)\n",
    "    pflist.append(rpf)\n",
    "\n",
    "    \n",
    "pfunique = np.unique(pflist)\n",
    "pfvals = pflist\n",
    "pflist = [np.where(pfunique==i)[0][0] for i in pflist]\n",
    "\n",
    "plt.figure()\n",
    "plt.plot(datelist,pflist,'.',markersize=12)"
   ]
  },
  {
   "cell_type": "code",
   "execution_count": 17,
   "id": "43f79a2b-99ec-4dfb-93c9-52d47efa6125",
   "metadata": {
    "tags": []
   },
   "outputs": [],
   "source": [
    "# help(results[0])\n",
    "# results[0].properties"
   ]
  },
  {
   "cell_type": "code",
   "execution_count": 5,
   "id": "d366b6a6-d9b9-47e9-8726-003036ae97a1",
   "metadata": {
    "tags": []
   },
   "outputs": [
    {
     "name": "stdout",
     "output_type": "stream",
     "text": [
      "total removed: 0\n"
     ]
    },
    {
     "data": {
      "text/plain": [
       "[<matplotlib.lines.Line2D at 0x7f72d7eb5d00>]"
      ]
     },
     "execution_count": 5,
     "metadata": {},
     "output_type": "execute_result"
    },
    {
     "data": {
      "image/png": "[encoded data removed]",
      "text/plain": [
       "<Figure size 432x288 with 1 Axes>"
      ]
     },
     "metadata": {
      "needs_background": "light"
     },
     "output_type": "display_data"
    }
   ],
   "source": [
    "#remove images that have less than N winter scenes\n",
    "\n",
    "N=4\n",
    "wstart = datetime(year,1,1,0,0,0)\n",
    "wend = datetime(year,4,1,1,0,0,0)\n",
    "#result2 = results\n",
    "pfremove=[]\n",
    "trem = 0\n",
    "#identify path-frames that do not meet requirements\n",
    "for pf in pfunique:\n",
    "    eles = [i for i in results if i.properties['pfval']==pf]\n",
    "    datelist = np.array([i.properties['datetime'] for i in eles])\n",
    "    dl2 = datelist[datelist > wstart]\n",
    "    dl2 = dl2[dl2 < wend]\n",
    "    if len(dl2)<N:\n",
    "        pfremove.append(pf)\n",
    "        trem += len(datelist)\n",
    "\n",
    "#remove images from those path-frames\n",
    "for res in results:\n",
    "    if res.properties['pfval'] in pfremove:\n",
    "        results.remove(res)\n",
    "            \n",
    "print(f'total removed: {trem}')\n",
    "# print(pfremove)\n",
    "\n",
    "#now plot again:\n",
    "datelist = [i.properties['datetime'] for i in results]\n",
    "pflist = [i.properties['pfval'] for i in results]\n",
    "pfunique = np.unique(pflist)\n",
    "pflist = [np.where(pfunique==i)[0][0] for i in pflist]\n",
    "\n",
    "plt.figure()\n",
    "plt.plot(datelist,pflist,'.',markersize=12)"
   ]
  },
  {
   "cell_type": "code",
   "execution_count": 18,
   "id": "03d5e0bd-5012-4d0f-a91b-32a8367e9875",
   "metadata": {
    "tags": []
   },
   "outputs": [
    {
     "name": "stdout",
     "output_type": "stream",
     "text": [
      "Acquisition stats\n",
      "Number of acquisitions:       176\n",
      "Number of images >1min apart: 118\n",
      "\n",
      "Mean days apart:   2.057\n",
      "Mean days >1min:   3.077\n",
      "Median days apart: 1.463\n",
      "Median days >1min: 4.480\n",
      "Stdev days apart:  2.296\n",
      "Longest gap:       10.011\n",
      "Note: these are over the whole area, not necessarily by pixel\n"
     ]
    }
   ],
   "source": [
    "#Give more stats:\n",
    "\n",
    "dlsort = [i for i in datelist]\n",
    "dlsort.sort()\n",
    "dldelta = [timediff(dlsort[i],dlsort[i+1],form='days') for i in range(len(dlsort)-1)]\n",
    "dldelta = np.array(dldelta)\n",
    "\n",
    "print('Acquisition stats')\n",
    "print(f'Number of acquisitions:       {len(dldelta)+1}')\n",
    "print(f'Number of images >1min apart: {len(dldelta[dldelta>1/1440])+1}\\n')\n",
    "print(f'Mean days apart:   {np.mean(dldelta):.3f}')\n",
    "print(f'Mean days >1min:   {np.mean(dldelta[dldelta>1/1440]):.3f}')\n",
    "print(f'Median days apart: {np.median(dldelta):.3f}')\n",
    "print(f'Median days >1min: {np.median(dldelta[dldelta>1/1440]):.3f}')\n",
    "print(f'Stdev days apart:  {np.std(dldelta):.3f}')\n",
    "print(f'Longest gap:       {np.max(dldelta):.3f}')\n",
    "print('Note: these are over the whole area, not necessarily by pixel')"
   ]
  },
  {
   "cell_type": "markdown",
   "id": "0cca386a-21e6-4945-a9ad-e39c4b63c839",
   "metadata": {
    "tags": []
   },
   "source": [
    "## Do Hyp3 Processing"
   ]
  },
  {
   "cell_type": "code",
   "execution_count": 7,
   "id": "26b64e2b-2741-4190-8970-2b83f00b1470",
   "metadata": {
    "tags": []
   },
   "outputs": [
    {
     "name": "stdin",
     "output_type": "stream",
     "text": [
      "NASA Earthdata Login username:  acjohnson16\n",
      "NASA Earthdata Login password:  ·········\n"
     ]
    }
   ],
   "source": [
    "hyp3 = HyP3(prompt=True)"
   ]
  },
  {
   "cell_type": "code",
   "execution_count": 22,
   "id": "d978ecee-1d5a-4ea4-a9d0-f610a398a8f8",
   "metadata": {
    "tags": []
   },
   "outputs": [
    {
     "name": "stdout",
     "output_type": "stream",
     "text": [
      "419\n",
      "{'job_names': ['BSI_test2', 'BSI_test3', 'Greenland_test1', 'Hidden Lake Single', 'Kenn_20_notebook', 'Kenn_21_alt', 'Kenn_21_full', 'Kenn_21_notebook', 'Kennicott_21', 'Kennicott_Dec20', 'Kennicott_Jul21_test', 'LarsenC Single', 'Ronne_July21', 'Utk_test1', 'Wilkins Apr_17'], 'quota': {'max_jobs_per_month': 1000, 'remaining': 824}, 'user_id': 'acjohnson16'}\n"
     ]
    }
   ],
   "source": [
    "test = hyp3.find_jobs()\n",
    "print(len(test))\n",
    "# print(test[50].download_files)\n",
    "\n",
    "test2 = hyp3.my_info()\n",
    "print(test2)"
   ]
  },
  {
   "cell_type": "code",
   "execution_count": 11,
   "id": "75fe789b-7e1c-4216-9ad0-b6334fc0e76f",
   "metadata": {},
   "outputs": [
    {
     "name": "stdout",
     "output_type": "stream",
     "text": [
      "176 HyP3 Jobs: 0 succeeded, 0 failed, 0 running, 176 pending.\n"
     ]
    }
   ],
   "source": [
    "#Submit jobs for RTC processing\n",
    "\n",
    "projectname = 'Kenn_20_notebook_2'\n",
    "\n",
    "granules = [i.properties['sceneName'] for i in results]\n",
    "# print(granules)\n",
    "# help(hyp3.submit_rtc_job)\n",
    "submitjobs = True\n",
    "if submitjobs:\n",
    "    rtc_jobs = Batch()\n",
    "    for g in granules:\n",
    "        rtc_jobs += hyp3.submit_rtc_job(g, name=projectname)\n",
    "    print(rtc_jobs)"
   ]
  },
  {
   "cell_type": "code",
   "execution_count": 16,
   "id": "1b6e70a8-262e-43aa-8332-35c0fd24fd21",
   "metadata": {},
   "outputs": [],
   "source": [
    "#do failed job: S1A_IW_SLC__1SDV_20210701T155634_20210701T155701_038586_048D97_C318\n",
    "dofailedjob = False\n",
    "if dofailedjob:\n",
    "    hyp3.submit_rtc_job('S1A_IW_SLC__1SDV_20210701T155634_20210701T155701_038586_048D97_C318', name = projectname)"
   ]
  },
  {
   "cell_type": "code",
   "execution_count": 140,
   "id": "1bdbb2a8-ea30-43c4-805c-e7d5cf7c35cc",
   "metadata": {},
   "outputs": [
    {
     "name": "stdout",
     "output_type": "stream",
     "text": [
      "173 HyP3 Jobs: 0 succeeded, 0 failed, 0 running, 173 pending.\n",
      "0 HyP3 Jobs: 0 succeeded, 0 failed, 0 running, 0 pending.\n",
      "{'job_names': ['BSI_test2', 'BSI_test3', 'Greenland_test1', 'Hidden Lake Single', 'Kenn_21_alt', 'Kenn_21_full', 'Kenn_21_notebook', 'Kennicott_21', 'Kennicott_Dec20', 'Kennicott_Jul21_test', 'LarsenC Single', 'Ronne_July21', 'Utk_test1', 'Wilkins Apr_17'], 'quota': {'max_jobs_per_month': 1000, 'remaining': 827}, 'user_id': 'acjohnson16'}\n"
     ]
    }
   ],
   "source": [
    "# Display Hyp3 job info\n",
    "print(rtc_jobs)\n",
    "print(hyp3.my_info())"
   ]
  },
  {
   "cell_type": "code",
   "execution_count": 17,
   "id": "e924d400-995f-4609-bbb2-2bb166877dea",
   "metadata": {},
   "outputs": [
    {
     "data": {
      "text/plain": [
       "{'job_names': ['BSI_test2',\n",
       "  'BSI_test3',\n",
       "  'Greenland_test1',\n",
       "  'Hidden Lake Single',\n",
       "  'Kenn_21_alt',\n",
       "  'Kenn_21_full',\n",
       "  'Kenn_21_notebook',\n",
       "  'Kennicott_21',\n",
       "  'Kennicott_Dec20',\n",
       "  'Kennicott_Jul21_test',\n",
       "  'LarsenC Single',\n",
       "  'Ronne_July21',\n",
       "  'Utk_test1',\n",
       "  'Wilkins Apr_17'],\n",
       " 'quota': {'max_jobs_per_month': 1000, 'remaining': 826},\n",
       " 'user_id': 'acjohnson16'}"
      ]
     },
     "execution_count": 17,
     "metadata": {},
     "output_type": "execute_result"
    }
   ],
   "source": [
    "hyp3.my_info()"
   ]
  },
  {
   "cell_type": "markdown",
   "id": "6047bf99-395d-4e86-931d-b82820a150f3",
   "metadata": {
    "tags": []
   },
   "source": [
    "## Utility Functions\n",
    "\n",
    "download images\\\n",
    "extract images\\\n",
    "reproject and clip to wtk\\\n",
    "convert to db\\\n",
    "do this sequentially"
   ]
  },
  {
   "cell_type": "code",
   "execution_count": 8,
   "id": "f24913c5-3258-48a6-b81d-29e5fe241e33",
   "metadata": {
    "tags": []
   },
   "outputs": [],
   "source": [
    "#convert utility\n",
    "def converttodb(file):\n",
    "    ds = gdal.Open(file, gdal.GA_Update)\n",
    "    data = ds.ReadAsArray()\n",
    "\n",
    "    data[data<1e-6]=1e-6\n",
    "    \n",
    "    data = 10*np.log10(data)\n",
    "    data[data==-np.inf]=-60\n",
    "    ds.GetRasterBand(1).WriteArray(data)\n",
    "    ds = None\n",
    "\n",
    "#download utility:\n",
    "def extracttif(inloc,outloc,pol='VV',convert=True):\n",
    "    \"\"\"expect pol to be 'VV','VH','HH', or 'HV' \n",
    "    convert will convert this to db\"\"\"\n",
    "    if str(inloc)[-1]!='/':\n",
    "        inloc = str(inloc)+'/'\n",
    "    if str(outloc)[-1]!='/':\n",
    "        outloc = str(outloc)+'/'\n",
    "    infile = glob.glob(f'{inloc}*')\n",
    "    endstr = pol+'.tif'\n",
    "    for file in infile:\n",
    "        # print(file)\n",
    "        # namelist = \n",
    "        with ZipFile(file) as z:\n",
    "            # print(z.namelist)\n",
    "            z = ZipFile(file)\n",
    "            zname = [name for name in z.namelist() if name[-6:]==endstr][0]\n",
    "            # z.extract()\n",
    "        \n",
    "            filename = os.path.basename(zname)\n",
    "            source = z.open(zname)\n",
    "            targetname = os.path.join(outloc, filename)\n",
    "            target = open(targetname, \"wb\")\n",
    "            with source, target:\n",
    "                shutil.copyfileobj(source, target)\n",
    "            target.close()\n",
    "            if convert:\n",
    "                converttodb(targetname)\n",
    "        # os.remove(file)\n",
    "        "
   ]
  },
  {
   "cell_type": "code",
   "execution_count": 9,
   "id": "7955c4dc-3ceb-4956-a593-3817eb244178",
   "metadata": {
    "tags": []
   },
   "outputs": [],
   "source": [
    "#CLIPPING TOOLS\n",
    "\n",
    "def wtkparse(wtk):\n",
    "    \"\"\"It's not weird if it works\"\"\"\n",
    "    wtk = wtk.split(\"'\")\n",
    "    wtk = wtk[0].split(\"(\")[2]\n",
    "    wtk = wtk.split(\")\")[0]\n",
    "    wtk = wtk.split(',')\n",
    "    wtk = [s.split(' ') for s in wtk]\n",
    "    wtk = np.array([[float(ss) for ss in s] for s in wtk])\n",
    "    return(wtk)\n",
    "\n",
    "def CoordConvert(points,inproj,outproj,ptparse=False):\n",
    "    \"\"\"Convert coordinate grid from one projection to another\n",
    "    if converting from 4326, then points should be ordered lon,lat\"\"\"\n",
    "\n",
    "    if ptparse:\n",
    "        points = wtkparse(points)\n",
    "\n",
    "    if type(inproj)==str:\n",
    "        inproj=int(inproj)\n",
    "    if type(outproj)==str:\n",
    "        outproj=int(outproj)\n",
    "\n",
    "    epsgin = osr.SpatialReference()\n",
    "    epsgin.ImportFromEPSG(inproj)   \n",
    "    epsgout = osr.SpatialReference()\n",
    "    epsgout.ImportFromEPSG(outproj)\n",
    "\n",
    "    convert = osr.CoordinateTransformation(epsgin, epsgout)\n",
    "    points = np.array(points)\n",
    "    \n",
    "    for i,x in enumerate(points):\n",
    "        newpt = convert.TransformPoint(x[1],x[0])\n",
    "        points[i,0],points[i,1]=newpt[0],newpt[1]\n",
    "        \n",
    "    return points\n",
    "\n",
    "def wtktobox(wtk,epsgn,srcproj = 4326):\n",
    "    \"\"\"epsgn is the epsg of the tif file\n",
    "    output will be ulx uly lrx lry\"\"\"\n",
    "    epsgn = int(epsgn)\n",
    "    srcproj = int(srcproj)\n",
    "    xyp = CoordConvert(wtk,4326,epsgn,ptparse=True)\n",
    "    ulx,uly = np.min(xyp[:,0]),np.max(xyp[:,1])\n",
    "    lrx,lry = np.max(xyp[:,0]),np.min(xyp[:,1])\n",
    "    return ulx,uly,lrx,lry\n",
    "\n",
    "def testEPSG(inloc):\n",
    "    if str(inloc)[-1]!='/':\n",
    "        inloc = str(inloc)+'/'\n",
    "    # if str(outloc)[-1]!='/':\n",
    "        # outloc = str(outloc)+'/'\n",
    "    infiles = glob.glob(f'{inloc}*')\n",
    "    for file in infiles:\n",
    "        ds=gdal.Open(file)\n",
    "        proj = osr.SpatialReference(wkt=ds.GetProjection())\n",
    "        dsproj = proj.GetAttrValue('AUTHORITY',1)\n",
    "        ds = None\n",
    "        print(dsproj)\n",
    "# testEPSG(products_path)\n",
    "\n",
    "def getEPSG(file):\n",
    "    ds=gdal.Open(file)\n",
    "    proj = osr.SpatialReference(wkt=ds.GetProjection())\n",
    "    dsproj = proj.GetAttrValue('AUTHORITY',1)\n",
    "    ds = None\n",
    "    return dsproj\n",
    "\n",
    "def identify_epsgs(fileloc):\n",
    "    \"\"\"Identify EPSG systems used in this. By default this will return the most commonly one.\"\"\"\n",
    "    if str(fileloc)[-1]!='/':\n",
    "        fileloc = str(fileloc)+'/'\n",
    "    filelist = glob.glob(f'{fileloc}*')\n",
    "    eplist = []\n",
    "    for file in filelist:\n",
    "        eplist.append(getEPSG(file))\n",
    "        # print(eplist[-1])\n",
    "        # print(file)\n",
    "    epu,epc = np.unique(eplist,return_counts=True)\n",
    "    for i,ep in enumerate(epu):\n",
    "        count = epc[i]\n",
    "        print(f'Found EPSG:{ep}, count: {count}')\n",
    "    return epu[np.where(epc==np.max(epc))[0]][0]\n",
    "\n",
    "def reproject(wtk,epsgn,inloc,outloc,res=30,convert_to_db=False):\n",
    "    \"\"\"make the magic happen\"\"\"\n",
    "    if str(inloc)[-1]!='/':\n",
    "        inloc = str(inloc)+'/'\n",
    "    if str(outloc)[-1]!='/':\n",
    "        outloc = str(outloc)+'/'\n",
    "    infiles = glob.glob(f'{inloc}*')\n",
    "    \n",
    "    epsgn = int(epsgn)\n",
    "    ulx,uly,lrx,lry = wtktobox(wtk,epsgn)\n",
    "    # c1=0\n",
    "    epsgns = f'ESPG:{str(epsgn)}'\n",
    "    for file in infiles:\n",
    "        ofile = file.replace(inloc,outloc)\n",
    "        # ofile = '/home/jovyan/test/rtc_clipped/S1B_IW_20210713T031944_DVP_RTC30_G_gpuned_1E76_VV'\n",
    "        epsgf = int(getEPSG(file))\n",
    "        epsgfs = f'ESPG:{str(epsgf)}'\n",
    "        src = gdal.Open(file)\n",
    "        # print(ofile)\n",
    "        # print(type(ofile))\n",
    "        \n",
    "        epsgo = osr.SpatialReference()\n",
    "        epsgo.ImportFromEPSG(epsgn)   \n",
    "        \n",
    "        gdal.Warp(destNameOrDestDS=ofile,srcDSOrSrcDSTab=src,dstSRS=epsgo,\n",
    "                  outputBounds=(ulx,lry,lrx,uly),outputBoundsSRS=epsgo,resampleAlg='near',\n",
    "                  xRes=res,yRes=res)\n",
    "        \n",
    "        if convert_to_db:\n",
    "            converttodb(ofile)"
   ]
  },
  {
   "cell_type": "markdown",
   "id": "bbcba4bf-61a6-482b-b160-992b0fe1b381",
   "metadata": {},
   "source": [
    "## Get Data"
   ]
  },
  {
   "cell_type": "code",
   "execution_count": 13,
   "id": "e395e15b-7ca9-44be-9555-d12a21c6f4cc",
   "metadata": {
    "tags": []
   },
   "outputs": [
    {
     "data": {
      "application/vnd.jupyter.widget-view+json": {
       "model_id": "6127b39ee20740058a57c412cffb846f",
       "version_major": 2,
       "version_minor": 0
      },
      "text/plain": [
       "S1A_IW_20200103T154806_DVP_RTC30_G_gpuned_8BB4.zip:   0%|          | 0/453042135 [00:00<?, ?it/s]"
      ]
     },
     "metadata": {},
     "output_type": "display_data"
    },
    {
     "name": "stdout",
     "output_type": "stream",
     "text": [
      "Current job: 1/175, time elapsed: 0.35 min, time remaining: 30.49 min\n"
     ]
    },
    {
     "data": {
      "application/vnd.jupyter.widget-view+json": {
       "model_id": "0716abca9e6f461b81ffca98a75af378",
       "version_major": 2,
       "version_minor": 0
      },
      "text/plain": [
       "S1B_IW_20200108T031906_DVP_RTC30_G_gpuned_D132.zip:   0%|          | 0/503990326 [00:00<?, ?it/s]"
      ]
     },
     "metadata": {},
     "output_type": "display_data"
    },
    {
     "data": {
      "application/vnd.jupyter.widget-view+json": {
       "model_id": "ae8a8a01e5024b0cbf7abee596642f72",
       "version_major": 2,
       "version_minor": 0
      },
      "text/plain": [
       "S1A_IW_20200108T155624_DVP_RTC30_G_gpuned_2427.zip:   0%|          | 0/451840731 [00:00<?, ?it/s]"
      ]
     },
     "metadata": {},
     "output_type": "display_data"
    },
    {
     "data": {
      "application/vnd.jupyter.widget-view+json": {
       "model_id": "2ce9d6c65d894c3f8fde7a8929c66940",
       "version_major": 2,
       "version_minor": 0
      },
      "text/plain": [
       "S1B_IW_20200108T031934_DVP_RTC30_G_gpuned_8A97.zip:   0%|          | 0/468993102 [00:00<?, ?it/s]"
      ]
     },
     "metadata": {},
     "output_type": "display_data"
    },
    {
     "data": {
      "application/vnd.jupyter.widget-view+json": {
       "model_id": "1e78c00d6fe247a5a11ce8f0c9ca7b21",
       "version_major": 2,
       "version_minor": 0
      },
      "text/plain": [
       "S1B_IW_20200110T030250_DVP_RTC30_G_gpuned_9A50.zip:   0%|          | 0/472225791 [00:00<?, ?it/s]"
      ]
     },
     "metadata": {},
     "output_type": "display_data"
    },
    {
     "data": {
      "application/vnd.jupyter.widget-view+json": {
       "model_id": "5478996cb70f4f04bf75f35a212e193a",
       "version_major": 2,
       "version_minor": 0
      },
      "text/plain": [
       "S1A_IW_20200115T154805_DVP_RTC30_G_gpuned_4D9C.zip:   0%|          | 0/453398591 [00:00<?, ?it/s]"
      ]
     },
     "metadata": {},
     "output_type": "display_data"
    },
    {
     "data": {
      "application/vnd.jupyter.widget-view+json": {
       "model_id": "1c1e3a6ff0c7408ca3eafceff3c5e72e",
       "version_major": 2,
       "version_minor": 0
      },
      "text/plain": [
       "S1B_IW_20200110T030316_DVP_RTC30_G_gpuned_5532.zip:   0%|          | 0/450569196 [00:00<?, ?it/s]"
      ]
     },
     "metadata": {},
     "output_type": "display_data"
    },
    {
     "data": {
      "application/vnd.jupyter.widget-view+json": {
       "model_id": "d7667d45d3964ae9895bdeed930066b7",
       "version_major": 2,
       "version_minor": 0
      },
      "text/plain": [
       "S1B_IW_20200120T031906_DVP_RTC30_G_gpuned_99B9.zip:   0%|          | 0/503380448 [00:00<?, ?it/s]"
      ]
     },
     "metadata": {},
     "output_type": "display_data"
    },
    {
     "data": {
      "application/vnd.jupyter.widget-view+json": {
       "model_id": "253323a3926d4f8490cd1ec9ea040bdf",
       "version_major": 2,
       "version_minor": 0
      },
      "text/plain": [
       "S1B_IW_20200120T031933_DVP_RTC30_G_gpuned_CE56.zip:   0%|          | 0/469216686 [00:00<?, ?it/s]"
      ]
     },
     "metadata": {},
     "output_type": "display_data"
    },
    {
     "data": {
      "application/vnd.jupyter.widget-view+json": {
       "model_id": "2d67be62900644eb98592065c55b5f3e",
       "version_major": 2,
       "version_minor": 0
      },
      "text/plain": [
       "S1A_IW_20200120T155623_DVP_RTC30_G_gpuned_384C.zip:   0%|          | 0/451933761 [00:00<?, ?it/s]"
      ]
     },
     "metadata": {},
     "output_type": "display_data"
    },
    {
     "data": {
      "application/vnd.jupyter.widget-view+json": {
       "model_id": "36c22c346dcd4f1e843f99cdcee3684b",
       "version_major": 2,
       "version_minor": 0
      },
      "text/plain": [
       "S1B_IW_20200122T030315_DVP_RTC30_G_gpuned_2003.zip:   0%|          | 0/450009685 [00:00<?, ?it/s]"
      ]
     },
     "metadata": {},
     "output_type": "display_data"
    },
    {
     "name": "stdout",
     "output_type": "stream",
     "text": [
      "Current job: 11/175, time elapsed: 3.58 min, time remaining: 48.95 min\n"
     ]
    },
    {
     "data": {
      "application/vnd.jupyter.widget-view+json": {
       "model_id": "9db0d0cb94df4d74bd46a05fd8e5c4bd",
       "version_major": 2,
       "version_minor": 0
      },
      "text/plain": [
       "S1B_IW_20200122T030249_DVP_RTC30_G_gpuned_E862.zip:   0%|          | 0/472154606 [00:00<?, ?it/s]"
      ]
     },
     "metadata": {},
     "output_type": "display_data"
    },
    {
     "data": {
      "application/vnd.jupyter.widget-view+json": {
       "model_id": "1846810c887c49daa31c617d5e5c4af4",
       "version_major": 2,
       "version_minor": 0
      },
      "text/plain": [
       "S1A_IW_20200127T154805_DVP_RTC30_G_gpuned_B9E9.zip:   0%|          | 0/453922771 [00:00<?, ?it/s]"
      ]
     },
     "metadata": {},
     "output_type": "display_data"
    },
    {
     "data": {
      "application/vnd.jupyter.widget-view+json": {
       "model_id": "db125226c46043bd86b6ffea1be1e18e",
       "version_major": 2,
       "version_minor": 0
      },
      "text/plain": [
       "S1B_IW_20200201T031905_DVP_RTC30_G_gpuned_2799.zip:   0%|          | 0/503602659 [00:00<?, ?it/s]"
      ]
     },
     "metadata": {},
     "output_type": "display_data"
    },
    {
     "data": {
      "application/vnd.jupyter.widget-view+json": {
       "model_id": "57cd0f5c3de84fa5a3c88858ec1d2123",
       "version_major": 2,
       "version_minor": 0
      },
      "text/plain": [
       "S1B_IW_20200201T031933_DVP_RTC30_G_gpuned_57F7.zip:   0%|          | 0/468794815 [00:00<?, ?it/s]"
      ]
     },
     "metadata": {},
     "output_type": "display_data"
    },
    {
     "data": {
      "application/vnd.jupyter.widget-view+json": {
       "model_id": "472656bb93864ad2a31858bbf41fcae9",
       "version_major": 2,
       "version_minor": 0
      },
      "text/plain": [
       "S1A_IW_20200201T155623_DVP_RTC30_G_gpuned_39BC.zip:   0%|          | 0/451885056 [00:00<?, ?it/s]"
      ]
     },
     "metadata": {},
     "output_type": "display_data"
    },
    {
     "data": {
      "application/vnd.jupyter.widget-view+json": {
       "model_id": "12253ecc708741f3a670cfcdaa3edd5a",
       "version_major": 2,
       "version_minor": 0
      },
      "text/plain": [
       "S1B_IW_20200203T030249_DVP_RTC30_G_gpuned_94EF.zip:   0%|          | 0/472140265 [00:00<?, ?it/s]"
      ]
     },
     "metadata": {},
     "output_type": "display_data"
    },
    {
     "data": {
      "application/vnd.jupyter.widget-view+json": {
       "model_id": "351ab519d8ab4bad969c5f979cfb7bc5",
       "version_major": 2,
       "version_minor": 0
      },
      "text/plain": [
       "S1B_IW_20200203T030315_DVP_RTC30_G_gpuned_FF61.zip:   0%|          | 0/450105416 [00:00<?, ?it/s]"
      ]
     },
     "metadata": {},
     "output_type": "display_data"
    },
    {
     "data": {
      "application/vnd.jupyter.widget-view+json": {
       "model_id": "2fba1f862b144322924121e7f49a94a5",
       "version_major": 2,
       "version_minor": 0
      },
      "text/plain": [
       "S1A_IW_20200208T154805_DVP_RTC30_G_gpuned_72C7.zip:   0%|          | 0/452845292 [00:00<?, ?it/s]"
      ]
     },
     "metadata": {},
     "output_type": "display_data"
    },
    {
     "data": {
      "application/vnd.jupyter.widget-view+json": {
       "model_id": "a4aa007c57db45ee8a090a526bbcc0ee",
       "version_major": 2,
       "version_minor": 0
      },
      "text/plain": [
       "S1B_IW_20200213T031933_DVP_RTC30_G_gpuned_316A.zip:   0%|          | 0/468576700 [00:00<?, ?it/s]"
      ]
     },
     "metadata": {},
     "output_type": "display_data"
    },
    {
     "data": {
      "application/vnd.jupyter.widget-view+json": {
       "model_id": "a646a5a96e5b4a9c995dfced5ccc92e9",
       "version_major": 2,
       "version_minor": 0
      },
      "text/plain": [
       "S1B_IW_20200213T031905_DVP_RTC30_G_gpuned_B97E.zip:   0%|          | 0/503183518 [00:00<?, ?it/s]"
      ]
     },
     "metadata": {},
     "output_type": "display_data"
    },
    {
     "name": "stdout",
     "output_type": "stream",
     "text": [
      "Current job: 21/175, time elapsed: 6.87 min, time remaining: 48.07 min\n"
     ]
    },
    {
     "data": {
      "application/vnd.jupyter.widget-view+json": {
       "model_id": "4ca45e94baa44f6ea8d1c55af8fce66b",
       "version_major": 2,
       "version_minor": 0
      },
      "text/plain": [
       "S1A_IW_20200213T155623_DVP_RTC30_G_gpuned_B17C.zip:   0%|          | 0/451591531 [00:00<?, ?it/s]"
      ]
     },
     "metadata": {},
     "output_type": "display_data"
    },
    {
     "data": {
      "application/vnd.jupyter.widget-view+json": {
       "model_id": "f2d022e96b5549219a34c6069dc35c92",
       "version_major": 2,
       "version_minor": 0
      },
      "text/plain": [
       "S1B_IW_20200215T030249_DVP_RTC30_G_gpuned_EFC2.zip:   0%|          | 0/472053468 [00:00<?, ?it/s]"
      ]
     },
     "metadata": {},
     "output_type": "display_data"
    },
    {
     "data": {
      "application/vnd.jupyter.widget-view+json": {
       "model_id": "0005810f26124c46974364460d782ef6",
       "version_major": 2,
       "version_minor": 0
      },
      "text/plain": [
       "S1B_IW_20200215T030315_DVP_RTC30_G_gpuned_1AB1.zip:   0%|          | 0/450012635 [00:00<?, ?it/s]"
      ]
     },
     "metadata": {},
     "output_type": "display_data"
    },
    {
     "data": {
      "application/vnd.jupyter.widget-view+json": {
       "model_id": "00877856a96147379d153f99d3e36b9e",
       "version_major": 2,
       "version_minor": 0
      },
      "text/plain": [
       "S1A_IW_20200220T154804_DVP_RTC30_G_gpuned_E774.zip:   0%|          | 0/452834569 [00:00<?, ?it/s]"
      ]
     },
     "metadata": {},
     "output_type": "display_data"
    },
    {
     "data": {
      "application/vnd.jupyter.widget-view+json": {
       "model_id": "a5800a71a42e48b38c4d8b8f71b49b75",
       "version_major": 2,
       "version_minor": 0
      },
      "text/plain": [
       "S1B_IW_20200225T031932_DVP_RTC30_G_gpuned_33A0.zip:   0%|          | 0/468455003 [00:00<?, ?it/s]"
      ]
     },
     "metadata": {},
     "output_type": "display_data"
    },
    {
     "data": {
      "application/vnd.jupyter.widget-view+json": {
       "model_id": "0b9dedd30a094e18a9f4861b76f8ef78",
       "version_major": 2,
       "version_minor": 0
      },
      "text/plain": [
       "S1B_IW_20200225T031905_DVP_RTC30_G_gpuned_43C6.zip:   0%|          | 0/503575634 [00:00<?, ?it/s]"
      ]
     },
     "metadata": {},
     "output_type": "display_data"
    },
    {
     "data": {
      "application/vnd.jupyter.widget-view+json": {
       "model_id": "5ea9e71177264d2b83ea83cf2f1abc78",
       "version_major": 2,
       "version_minor": 0
      },
      "text/plain": [
       "S1B_IW_20200227T030248_DVP_RTC30_G_gpuned_80EF.zip:   0%|          | 0/472028371 [00:00<?, ?it/s]"
      ]
     },
     "metadata": {},
     "output_type": "display_data"
    },
    {
     "data": {
      "application/vnd.jupyter.widget-view+json": {
       "model_id": "ff6e0819f07d4cb692939e3b4527be70",
       "version_major": 2,
       "version_minor": 0
      },
      "text/plain": [
       "S1A_IW_20200225T155622_DVP_RTC30_G_gpuned_039E.zip:   0%|          | 0/451811920 [00:00<?, ?it/s]"
      ]
     },
     "metadata": {},
     "output_type": "display_data"
    },
    {
     "data": {
      "application/vnd.jupyter.widget-view+json": {
       "model_id": "8e418f8bcab54a4bb0239d6fe5e69ae9",
       "version_major": 2,
       "version_minor": 0
      },
      "text/plain": [
       "S1B_IW_20200227T030314_DVP_RTC30_G_gpuned_7D25.zip:   0%|          | 0/449230520 [00:00<?, ?it/s]"
      ]
     },
     "metadata": {},
     "output_type": "display_data"
    },
    {
     "data": {
      "application/vnd.jupyter.widget-view+json": {
       "model_id": "d606f79254984f4aa95865640ae64461",
       "version_major": 2,
       "version_minor": 0
      },
      "text/plain": [
       "S1B_IW_20200308T031905_DVP_RTC30_G_gpuned_0C74.zip:   0%|          | 0/504036520 [00:00<?, ?it/s]"
      ]
     },
     "metadata": {},
     "output_type": "display_data"
    },
    {
     "name": "stdout",
     "output_type": "stream",
     "text": [
      "Current job: 31/175, time elapsed: 10.24 min, time remaining: 46.08 min\n"
     ]
    },
    {
     "data": {
      "application/vnd.jupyter.widget-view+json": {
       "model_id": "3080b9c56352473f90d0d5ae600e978f",
       "version_major": 2,
       "version_minor": 0
      },
      "text/plain": [
       "S1A_IW_20200303T154804_DVP_RTC30_G_gpuned_0230.zip:   0%|          | 0/452954956 [00:00<?, ?it/s]"
      ]
     },
     "metadata": {},
     "output_type": "display_data"
    },
    {
     "data": {
      "application/vnd.jupyter.widget-view+json": {
       "model_id": "eb3df6a8c6ef4c22818ac9758ce9c8e6",
       "version_major": 2,
       "version_minor": 0
      },
      "text/plain": [
       "S1A_IW_20200308T155623_DVP_RTC30_G_gpuned_EA40.zip:   0%|          | 0/451608535 [00:00<?, ?it/s]"
      ]
     },
     "metadata": {},
     "output_type": "display_data"
    },
    {
     "data": {
      "application/vnd.jupyter.widget-view+json": {
       "model_id": "dbea6115f31240909d12442226e9f0fd",
       "version_major": 2,
       "version_minor": 0
      },
      "text/plain": [
       "S1B_IW_20200308T031932_DVP_RTC30_G_gpuned_8352.zip:   0%|          | 0/468518527 [00:00<?, ?it/s]"
      ]
     },
     "metadata": {},
     "output_type": "display_data"
    },
    {
     "data": {
      "application/vnd.jupyter.widget-view+json": {
       "model_id": "3a976d5840824dc5a5bd5424f5b037ba",
       "version_major": 2,
       "version_minor": 0
      },
      "text/plain": [
       "S1B_IW_20200310T030249_DVP_RTC30_G_gpuned_CA02.zip:   0%|          | 0/471997949 [00:00<?, ?it/s]"
      ]
     },
     "metadata": {},
     "output_type": "display_data"
    },
    {
     "data": {
      "application/vnd.jupyter.widget-view+json": {
       "model_id": "5a542e01b01b42a2b55554d6e584f925",
       "version_major": 2,
       "version_minor": 0
      },
      "text/plain": [
       "S1A_IW_20200315T154804_DVP_RTC30_G_gpuned_E70F.zip:   0%|          | 0/452830452 [00:00<?, ?it/s]"
      ]
     },
     "metadata": {},
     "output_type": "display_data"
    },
    {
     "data": {
      "application/vnd.jupyter.widget-view+json": {
       "model_id": "adf067f9dda641649468c2ed119ccbf1",
       "version_major": 2,
       "version_minor": 0
      },
      "text/plain": [
       "S1B_IW_20200310T030314_DVP_RTC30_G_gpuned_BC49.zip:   0%|          | 0/448927209 [00:00<?, ?it/s]"
      ]
     },
     "metadata": {},
     "output_type": "display_data"
    },
    {
     "data": {
      "application/vnd.jupyter.widget-view+json": {
       "model_id": "377ba36bfcc14a98984fb90f368e0ac0",
       "version_major": 2,
       "version_minor": 0
      },
      "text/plain": [
       "S1B_IW_20200320T031905_DVP_RTC30_G_gpuned_6ED5.zip:   0%|          | 0/503842982 [00:00<?, ?it/s]"
      ]
     },
     "metadata": {},
     "output_type": "display_data"
    },
    {
     "data": {
      "application/vnd.jupyter.widget-view+json": {
       "model_id": "2ade95f9ceeb4643b5d450da44c0d1be",
       "version_major": 2,
       "version_minor": 0
      },
      "text/plain": [
       "S1A_IW_20200320T155623_DVP_RTC30_G_gpuned_899F.zip:   0%|          | 0/451827921 [00:00<?, ?it/s]"
      ]
     },
     "metadata": {},
     "output_type": "display_data"
    },
    {
     "data": {
      "application/vnd.jupyter.widget-view+json": {
       "model_id": "9bf0fb5d51944b94bf9d37a44460d2d8",
       "version_major": 2,
       "version_minor": 0
      },
      "text/plain": [
       "S1B_IW_20200320T031933_DVP_RTC30_G_gpuned_2237.zip:   0%|          | 0/469060251 [00:00<?, ?it/s]"
      ]
     },
     "metadata": {},
     "output_type": "display_data"
    },
    {
     "data": {
      "application/vnd.jupyter.widget-view+json": {
       "model_id": "f74773d26e2d4112a078ee159decc20f",
       "version_major": 2,
       "version_minor": 0
      },
      "text/plain": [
       "S1B_IW_20200322T030249_DVP_RTC30_G_gpuned_C476.zip:   0%|          | 0/472218258 [00:00<?, ?it/s]"
      ]
     },
     "metadata": {},
     "output_type": "display_data"
    },
    {
     "name": "stdout",
     "output_type": "stream",
     "text": [
      "Current job: 41/175, time elapsed: 13.53 min, time remaining: 43.15 min\n"
     ]
    },
    {
     "data": {
      "application/vnd.jupyter.widget-view+json": {
       "model_id": "1b9a4abacf0b485ab79de4285c96692f",
       "version_major": 2,
       "version_minor": 0
      },
      "text/plain": [
       "S1B_IW_20200322T030315_DVP_RTC30_G_gpuned_9F7B.zip:   0%|          | 0/449527344 [00:00<?, ?it/s]"
      ]
     },
     "metadata": {},
     "output_type": "display_data"
    },
    {
     "data": {
      "application/vnd.jupyter.widget-view+json": {
       "model_id": "22898bd91bbb48de859e2eb0f39ae235",
       "version_major": 2,
       "version_minor": 0
      },
      "text/plain": [
       "S1A_IW_20200327T154805_DVP_RTC30_G_gpuned_06CA.zip:   0%|          | 0/452777457 [00:00<?, ?it/s]"
      ]
     },
     "metadata": {},
     "output_type": "display_data"
    },
    {
     "data": {
      "application/vnd.jupyter.widget-view+json": {
       "model_id": "1d312f4024d34cb1afa41724da6e47a9",
       "version_major": 2,
       "version_minor": 0
      },
      "text/plain": [
       "S1B_IW_20200401T031933_DVP_RTC30_G_gpuned_EBAD.zip:   0%|          | 0/467947009 [00:00<?, ?it/s]"
      ]
     },
     "metadata": {},
     "output_type": "display_data"
    },
    {
     "data": {
      "application/vnd.jupyter.widget-view+json": {
       "model_id": "fde5a176c04b44aba10aaa57d124cd0d",
       "version_major": 2,
       "version_minor": 0
      },
      "text/plain": [
       "S1B_IW_20200401T031905_DVP_RTC30_G_gpuned_D034.zip:   0%|          | 0/503421672 [00:00<?, ?it/s]"
      ]
     },
     "metadata": {},
     "output_type": "display_data"
    },
    {
     "data": {
      "application/vnd.jupyter.widget-view+json": {
       "model_id": "61e0cad3648b434c80298b7155572b18",
       "version_major": 2,
       "version_minor": 0
      },
      "text/plain": [
       "S1A_IW_20200401T155623_DVP_RTC30_G_gpuned_F21A.zip:   0%|          | 0/451728650 [00:00<?, ?it/s]"
      ]
     },
     "metadata": {},
     "output_type": "display_data"
    },
    {
     "data": {
      "application/vnd.jupyter.widget-view+json": {
       "model_id": "0c9a324d1639426396d338b3c38732a1",
       "version_major": 2,
       "version_minor": 0
      },
      "text/plain": [
       "S1B_IW_20200403T030249_DVP_RTC30_G_gpuned_D840.zip:   0%|          | 0/472179035 [00:00<?, ?it/s]"
      ]
     },
     "metadata": {},
     "output_type": "display_data"
    },
    {
     "data": {
      "application/vnd.jupyter.widget-view+json": {
       "model_id": "5c0401bace724d53af83297eb5478cc9",
       "version_major": 2,
       "version_minor": 0
      },
      "text/plain": [
       "S1B_IW_20200403T030315_DVP_RTC30_G_gpuned_EF3D.zip:   0%|          | 0/450557052 [00:00<?, ?it/s]"
      ]
     },
     "metadata": {},
     "output_type": "display_data"
    },
    {
     "data": {
      "application/vnd.jupyter.widget-view+json": {
       "model_id": "8246bfbc4e0f4fadba60121075472e90",
       "version_major": 2,
       "version_minor": 0
      },
      "text/plain": [
       "S1A_IW_20200408T154805_DVP_RTC30_G_gpuned_7251.zip:   0%|          | 0/452506429 [00:00<?, ?it/s]"
      ]
     },
     "metadata": {},
     "output_type": "display_data"
    },
    {
     "data": {
      "application/vnd.jupyter.widget-view+json": {
       "model_id": "6622c5c13c63479289ab3c60a322b7d0",
       "version_major": 2,
       "version_minor": 0
      },
      "text/plain": [
       "S1B_IW_20200413T031906_DVP_RTC30_G_gpuned_2F1A.zip:   0%|          | 0/503616659 [00:00<?, ?it/s]"
      ]
     },
     "metadata": {},
     "output_type": "display_data"
    },
    {
     "data": {
      "application/vnd.jupyter.widget-view+json": {
       "model_id": "f8990615146b4657b04db852681bd49a",
       "version_major": 2,
       "version_minor": 0
      },
      "text/plain": [
       "S1A_IW_20200413T155623_DVP_RTC30_G_gpuned_52D9.zip:   0%|          | 0/453027283 [00:00<?, ?it/s]"
      ]
     },
     "metadata": {},
     "output_type": "display_data"
    },
    {
     "name": "stdout",
     "output_type": "stream",
     "text": [
      "Current job: 51/175, time elapsed: 16.80 min, time remaining: 40.07 min\n"
     ]
    },
    {
     "data": {
      "application/vnd.jupyter.widget-view+json": {
       "model_id": "754f17518dd7489898e33caf29f35aae",
       "version_major": 2,
       "version_minor": 0
      },
      "text/plain": [
       "S1B_IW_20200413T031933_DVP_RTC30_G_gpuned_89D5.zip:   0%|          | 0/470241869 [00:00<?, ?it/s]"
      ]
     },
     "metadata": {},
     "output_type": "display_data"
    },
    {
     "data": {
      "application/vnd.jupyter.widget-view+json": {
       "model_id": "b79f3eeac270498eb14d7965c195a848",
       "version_major": 2,
       "version_minor": 0
      },
      "text/plain": [
       "S1B_IW_20200415T030250_DVP_RTC30_G_gpuned_9868.zip:   0%|          | 0/474318425 [00:00<?, ?it/s]"
      ]
     },
     "metadata": {},
     "output_type": "display_data"
    },
    {
     "data": {
      "application/vnd.jupyter.widget-view+json": {
       "model_id": "90ab11dba30b4858a21d3c121a0013a6",
       "version_major": 2,
       "version_minor": 0
      },
      "text/plain": [
       "S1B_IW_20200415T030315_DVP_RTC30_G_gpuned_DDF5.zip:   0%|          | 0/454088975 [00:00<?, ?it/s]"
      ]
     },
     "metadata": {},
     "output_type": "display_data"
    },
    {
     "data": {
      "application/vnd.jupyter.widget-view+json": {
       "model_id": "bf13b70219954c068b2ba47785fa6099",
       "version_major": 2,
       "version_minor": 0
      },
      "text/plain": [
       "S1A_IW_20200420T154805_DVP_RTC30_G_gpuned_2232.zip:   0%|          | 0/455163892 [00:00<?, ?it/s]"
      ]
     },
     "metadata": {},
     "output_type": "display_data"
    },
    {
     "data": {
      "application/vnd.jupyter.widget-view+json": {
       "model_id": "2fbbba7d24e4404091e1d7622853e208",
       "version_major": 2,
       "version_minor": 0
      },
      "text/plain": [
       "S1B_IW_20200425T031906_DVP_RTC30_G_gpuned_7C7C.zip:   0%|          | 0/504822928 [00:00<?, ?it/s]"
      ]
     },
     "metadata": {},
     "output_type": "display_data"
    },
    {
     "data": {
      "application/vnd.jupyter.widget-view+json": {
       "model_id": "3aab1697e3a04654b923eb29d4abe7b4",
       "version_major": 2,
       "version_minor": 0
      },
      "text/plain": [
       "S1A_IW_20200425T155624_DVP_RTC30_G_gpuned_16AD.zip:   0%|          | 0/453358832 [00:00<?, ?it/s]"
      ]
     },
     "metadata": {},
     "output_type": "display_data"
    },
    {
     "data": {
      "application/vnd.jupyter.widget-view+json": {
       "model_id": "051571b7e558482b8d5b36b43ece03a7",
       "version_major": 2,
       "version_minor": 0
      },
      "text/plain": [
       "S1B_IW_20200425T031934_DVP_RTC30_G_gpuned_F2CF.zip:   0%|          | 0/473179367 [00:00<?, ?it/s]"
      ]
     },
     "metadata": {},
     "output_type": "display_data"
    },
    {
     "data": {
      "application/vnd.jupyter.widget-view+json": {
       "model_id": "ea50f916ea0f47b7badc5f7d3661f229",
       "version_major": 2,
       "version_minor": 0
      },
      "text/plain": [
       "S1B_IW_20200427T030250_DVP_RTC30_G_gpuned_C6D8.zip:   0%|          | 0/473729179 [00:00<?, ?it/s]"
      ]
     },
     "metadata": {},
     "output_type": "display_data"
    },
    {
     "data": {
      "application/vnd.jupyter.widget-view+json": {
       "model_id": "5887ca79fda24a95ae929686acd874bb",
       "version_major": 2,
       "version_minor": 0
      },
      "text/plain": [
       "S1A_IW_20200502T154806_DVP_RTC30_G_gpuned_EF7A.zip:   0%|          | 0/454208840 [00:00<?, ?it/s]"
      ]
     },
     "metadata": {},
     "output_type": "display_data"
    },
    {
     "data": {
      "application/vnd.jupyter.widget-view+json": {
       "model_id": "094bd20e474a46b69661df337c5cf18a",
       "version_major": 2,
       "version_minor": 0
      },
      "text/plain": [
       "S1B_IW_20200427T030316_DVP_RTC30_G_gpuned_FA87.zip:   0%|          | 0/452007041 [00:00<?, ?it/s]"
      ]
     },
     "metadata": {},
     "output_type": "display_data"
    },
    {
     "name": "stdout",
     "output_type": "stream",
     "text": [
      "Current job: 61/175, time elapsed: 20.17 min, time remaining: 37.09 min\n"
     ]
    },
    {
     "data": {
      "application/vnd.jupyter.widget-view+json": {
       "model_id": "ca0cdcfe9b2e4e569d5abf43b935f660",
       "version_major": 2,
       "version_minor": 0
      },
      "text/plain": [
       "S1B_IW_20200507T031907_DVP_RTC30_G_gpuned_A457.zip:   0%|          | 0/505909070 [00:00<?, ?it/s]"
      ]
     },
     "metadata": {},
     "output_type": "display_data"
    },
    {
     "data": {
      "application/vnd.jupyter.widget-view+json": {
       "model_id": "0c4e030a01034942a335b9be4a66c4fd",
       "version_major": 2,
       "version_minor": 0
      },
      "text/plain": [
       "S1B_IW_20200507T031934_DVP_RTC30_G_gpuned_A7F0.zip:   0%|          | 0/473323821 [00:00<?, ?it/s]"
      ]
     },
     "metadata": {},
     "output_type": "display_data"
    },
    {
     "data": {
      "application/vnd.jupyter.widget-view+json": {
       "model_id": "9bdf724f0d854e3dae9d0f3c1774a0d1",
       "version_major": 2,
       "version_minor": 0
      },
      "text/plain": [
       "S1B_IW_20200509T030251_DVP_RTC30_G_gpuned_CE7C.zip:   0%|          | 0/475172424 [00:00<?, ?it/s]"
      ]
     },
     "metadata": {},
     "output_type": "display_data"
    },
    {
     "data": {
      "application/vnd.jupyter.widget-view+json": {
       "model_id": "2e5d1227c0ea4e56831505a21c72f0d5",
       "version_major": 2,
       "version_minor": 0
      },
      "text/plain": [
       "S1A_IW_20200507T155624_DVP_RTC30_G_gpuned_BC21.zip:   0%|          | 0/453563935 [00:00<?, ?it/s]"
      ]
     },
     "metadata": {},
     "output_type": "display_data"
    },
    {
     "data": {
      "application/vnd.jupyter.widget-view+json": {
       "model_id": "ea62056b233a423e864238a46916c71d",
       "version_major": 2,
       "version_minor": 0
      },
      "text/plain": [
       "S1B_IW_20200509T030316_DVP_RTC30_G_gpuned_3218.zip:   0%|          | 0/452524514 [00:00<?, ?it/s]"
      ]
     },
     "metadata": {},
     "output_type": "display_data"
    },
    {
     "data": {
      "application/vnd.jupyter.widget-view+json": {
       "model_id": "12c2e8ac55674741a26d6038ce584b9c",
       "version_major": 2,
       "version_minor": 0
      },
      "text/plain": [
       "S1A_IW_20200514T154807_DVP_RTC30_G_gpuned_E920.zip:   0%|          | 0/456154286 [00:00<?, ?it/s]"
      ]
     },
     "metadata": {},
     "output_type": "display_data"
    },
    {
     "data": {
      "application/vnd.jupyter.widget-view+json": {
       "model_id": "0786423cc1004329a0692090f237e56a",
       "version_major": 2,
       "version_minor": 0
      },
      "text/plain": [
       "S1B_IW_20200519T031907_DVP_RTC30_G_gpuned_97FF.zip:   0%|          | 0/504224455 [00:00<?, ?it/s]"
      ]
     },
     "metadata": {},
     "output_type": "display_data"
    },
    {
     "data": {
      "application/vnd.jupyter.widget-view+json": {
       "model_id": "4f6bc90575974a4280a5fa0576f922ee",
       "version_major": 2,
       "version_minor": 0
      },
      "text/plain": [
       "S1B_IW_20200519T031935_DVP_RTC30_G_gpuned_4159.zip:   0%|          | 0/472968851 [00:00<?, ?it/s]"
      ]
     },
     "metadata": {},
     "output_type": "display_data"
    },
    {
     "data": {
      "application/vnd.jupyter.widget-view+json": {
       "model_id": "b619fa1614dd408780d9215e8ce3c3f4",
       "version_major": 2,
       "version_minor": 0
      },
      "text/plain": [
       "S1A_IW_20200519T155625_DVP_RTC30_G_gpuned_DA7D.zip:   0%|          | 0/454907759 [00:00<?, ?it/s]"
      ]
     },
     "metadata": {},
     "output_type": "display_data"
    },
    {
     "data": {
      "application/vnd.jupyter.widget-view+json": {
       "model_id": "5b2c3dc6d2004f448fdc66bc417fb232",
       "version_major": 2,
       "version_minor": 0
      },
      "text/plain": [
       "S1B_IW_20200521T030251_DVP_RTC30_G_gpuned_79ED.zip:   0%|          | 0/475728968 [00:00<?, ?it/s]"
      ]
     },
     "metadata": {},
     "output_type": "display_data"
    },
    {
     "name": "stdout",
     "output_type": "stream",
     "text": [
      "Current job: 71/175, time elapsed: 23.44 min, time remaining: 33.86 min\n"
     ]
    },
    {
     "data": {
      "application/vnd.jupyter.widget-view+json": {
       "model_id": "80fed0d1f0ef479ca38a7e0c2a934a84",
       "version_major": 2,
       "version_minor": 0
      },
      "text/plain": [
       "S1B_IW_20200521T030317_DVP_RTC30_G_gpuned_BE75.zip:   0%|          | 0/435415761 [00:00<?, ?it/s]"
      ]
     },
     "metadata": {},
     "output_type": "display_data"
    },
    {
     "data": {
      "application/vnd.jupyter.widget-view+json": {
       "model_id": "abe5df0e094a41d5a43f747ec99c0148",
       "version_major": 2,
       "version_minor": 0
      },
      "text/plain": [
       "S1A_IW_20200526T154807_DVP_RTC30_G_gpuned_9BD3.zip:   0%|          | 0/456200824 [00:00<?, ?it/s]"
      ]
     },
     "metadata": {},
     "output_type": "display_data"
    },
    {
     "data": {
      "application/vnd.jupyter.widget-view+json": {
       "model_id": "c03fdbc5bb794ee98911ceb328a961df",
       "version_major": 2,
       "version_minor": 0
      },
      "text/plain": [
       "S1B_IW_20200531T031936_DVP_RTC30_G_gpuned_C3C9.zip:   0%|          | 0/472083377 [00:00<?, ?it/s]"
      ]
     },
     "metadata": {},
     "output_type": "display_data"
    },
    {
     "data": {
      "application/vnd.jupyter.widget-view+json": {
       "model_id": "fe166c3d45e340d7a74a081483fc5286",
       "version_major": 2,
       "version_minor": 0
      },
      "text/plain": [
       "S1B_IW_20200531T031908_DVP_RTC30_G_gpuned_498A.zip:   0%|          | 0/504684564 [00:00<?, ?it/s]"
      ]
     },
     "metadata": {},
     "output_type": "display_data"
    },
    {
     "data": {
      "application/vnd.jupyter.widget-view+json": {
       "model_id": "0a203e4be1c6475abc97cf961327a050",
       "version_major": 2,
       "version_minor": 0
      },
      "text/plain": [
       "S1A_IW_20200531T155626_DVP_RTC30_G_gpuned_4318.zip:   0%|          | 0/454307817 [00:00<?, ?it/s]"
      ]
     },
     "metadata": {},
     "output_type": "display_data"
    },
    {
     "data": {
      "application/vnd.jupyter.widget-view+json": {
       "model_id": "d3172301001e433680d6ea50fb3b8f12",
       "version_major": 2,
       "version_minor": 0
      },
      "text/plain": [
       "S1A_IW_20200607T154808_DVP_RTC30_G_gpuned_7997.zip:   0%|          | 0/456115383 [00:00<?, ?it/s]"
      ]
     },
     "metadata": {},
     "output_type": "display_data"
    },
    {
     "data": {
      "application/vnd.jupyter.widget-view+json": {
       "model_id": "cfc8f539bb90476a9690ff456c83f0b8",
       "version_major": 2,
       "version_minor": 0
      },
      "text/plain": [
       "S1B_IW_20200612T031909_DVP_RTC30_G_gpuned_B131.zip:   0%|          | 0/503588734 [00:00<?, ?it/s]"
      ]
     },
     "metadata": {},
     "output_type": "display_data"
    },
    {
     "data": {
      "application/vnd.jupyter.widget-view+json": {
       "model_id": "89db12c02bf843e9bfcf2b30cc376bc6",
       "version_major": 2,
       "version_minor": 0
      },
      "text/plain": [
       "S1A_IW_20200612T155627_DVP_RTC30_G_gpuned_750D.zip:   0%|          | 0/454597202 [00:00<?, ?it/s]"
      ]
     },
     "metadata": {},
     "output_type": "display_data"
    },
    {
     "data": {
      "application/vnd.jupyter.widget-view+json": {
       "model_id": "666238da98d24e41be27abdda7822266",
       "version_major": 2,
       "version_minor": 0
      },
      "text/plain": [
       "S1B_IW_20200612T031936_DVP_RTC30_G_gpuned_9895.zip:   0%|          | 0/471445116 [00:00<?, ?it/s]"
      ]
     },
     "metadata": {},
     "output_type": "display_data"
    },
    {
     "data": {
      "application/vnd.jupyter.widget-view+json": {
       "model_id": "9c5be0ec79fd4be88cdb6cf7acbe267f",
       "version_major": 2,
       "version_minor": 0
      },
      "text/plain": [
       "S1B_IW_20200614T030253_DVP_RTC30_G_gpuned_1624.zip:   0%|          | 0/475068940 [00:00<?, ?it/s]"
      ]
     },
     "metadata": {},
     "output_type": "display_data"
    },
    {
     "name": "stdout",
     "output_type": "stream",
     "text": [
      "Current job: 81/175, time elapsed: 26.71 min, time remaining: 30.62 min\n"
     ]
    },
    {
     "data": {
      "application/vnd.jupyter.widget-view+json": {
       "model_id": "1cbd0b9877d745b3b02e9f53d5ff0287",
       "version_major": 2,
       "version_minor": 0
      },
      "text/plain": [
       "S1A_IW_20200619T154809_DVP_RTC30_G_gpuned_B55D.zip:   0%|          | 0/455571172 [00:00<?, ?it/s]"
      ]
     },
     "metadata": {},
     "output_type": "display_data"
    },
    {
     "data": {
      "application/vnd.jupyter.widget-view+json": {
       "model_id": "02ea9dcf3763438ba38d3928e3a24a36",
       "version_major": 2,
       "version_minor": 0
      },
      "text/plain": [
       "S1B_IW_20200614T030319_DVP_RTC30_G_gpuned_E968.zip:   0%|          | 0/434719798 [00:00<?, ?it/s]"
      ]
     },
     "metadata": {},
     "output_type": "display_data"
    },
    {
     "data": {
      "application/vnd.jupyter.widget-view+json": {
       "model_id": "352584b537194326aae9c9eb3f2c1699",
       "version_major": 2,
       "version_minor": 0
      },
      "text/plain": [
       "S1B_IW_20200624T031937_DVP_RTC30_G_gpuned_4862.zip:   0%|          | 0/471204784 [00:00<?, ?it/s]"
      ]
     },
     "metadata": {},
     "output_type": "display_data"
    },
    {
     "data": {
      "application/vnd.jupyter.widget-view+json": {
       "model_id": "58a4b95f5cc34c9481bd2ce7734ed7e0",
       "version_major": 2,
       "version_minor": 0
      },
      "text/plain": [
       "S1B_IW_20200624T031909_DVP_RTC30_G_gpuned_B97A.zip:   0%|          | 0/503165633 [00:00<?, ?it/s]"
      ]
     },
     "metadata": {},
     "output_type": "display_data"
    },
    {
     "data": {
      "application/vnd.jupyter.widget-view+json": {
       "model_id": "a155f202c760447e8928ab13a18ac150",
       "version_major": 2,
       "version_minor": 0
      },
      "text/plain": [
       "S1A_IW_20200624T155627_DVP_RTC30_G_gpuned_C392.zip:   0%|          | 0/453771558 [00:00<?, ?it/s]"
      ]
     },
     "metadata": {},
     "output_type": "display_data"
    },
    {
     "data": {
      "application/vnd.jupyter.widget-view+json": {
       "model_id": "165c944366f0436d97cbe8bf573a337f",
       "version_major": 2,
       "version_minor": 0
      },
      "text/plain": [
       "S1B_IW_20200626T030319_DVP_RTC30_G_gpuned_047F.zip:   0%|          | 0/451369017 [00:00<?, ?it/s]"
      ]
     },
     "metadata": {},
     "output_type": "display_data"
    },
    {
     "data": {
      "application/vnd.jupyter.widget-view+json": {
       "model_id": "1474e50a3207407ea19a542222b07baf",
       "version_major": 2,
       "version_minor": 0
      },
      "text/plain": [
       "S1B_IW_20200626T030253_DVP_RTC30_G_gpuned_15D6.zip:   0%|          | 0/474666465 [00:00<?, ?it/s]"
      ]
     },
     "metadata": {},
     "output_type": "display_data"
    },
    {
     "data": {
      "application/vnd.jupyter.widget-view+json": {
       "model_id": "6b10dfb275fb4d21adb61b4765e7ebfd",
       "version_major": 2,
       "version_minor": 0
      },
      "text/plain": [
       "S1A_IW_20200701T154809_DVP_RTC30_G_gpuned_AF0E.zip:   0%|          | 0/455748858 [00:00<?, ?it/s]"
      ]
     },
     "metadata": {},
     "output_type": "display_data"
    },
    {
     "data": {
      "application/vnd.jupyter.widget-view+json": {
       "model_id": "0fb36b9ffa2a44269ff009267e32370a",
       "version_major": 2,
       "version_minor": 0
      },
      "text/plain": [
       "S1B_IW_20200706T031910_DVP_RTC30_G_gpuned_4751.zip:   0%|          | 0/504760593 [00:00<?, ?it/s]"
      ]
     },
     "metadata": {},
     "output_type": "display_data"
    },
    {
     "data": {
      "application/vnd.jupyter.widget-view+json": {
       "model_id": "68d5b3fef7b54bf7b748fcbc042092db",
       "version_major": 2,
       "version_minor": 0
      },
      "text/plain": [
       "S1B_IW_20200706T031938_DVP_RTC30_G_gpuned_5068.zip:   0%|          | 0/469233544 [00:00<?, ?it/s]"
      ]
     },
     "metadata": {},
     "output_type": "display_data"
    },
    {
     "name": "stdout",
     "output_type": "stream",
     "text": [
      "Current job: 91/175, time elapsed: 30.01 min, time remaining: 27.40 min\n"
     ]
    },
    {
     "data": {
      "application/vnd.jupyter.widget-view+json": {
       "model_id": "28305308307e4afd9b811d1d4a10fbc9",
       "version_major": 2,
       "version_minor": 0
      },
      "text/plain": [
       "S1A_IW_20200706T155628_DVP_RTC30_G_gpuned_EBE2.zip:   0%|          | 0/453150983 [00:00<?, ?it/s]"
      ]
     },
     "metadata": {},
     "output_type": "display_data"
    },
    {
     "data": {
      "application/vnd.jupyter.widget-view+json": {
       "model_id": "c5ab3f92caf342f8a44e115a3c4e4397",
       "version_major": 2,
       "version_minor": 0
      },
      "text/plain": [
       "S1B_IW_20200708T030254_DVP_RTC30_G_gpuned_1F3E.zip:   0%|          | 0/474276679 [00:00<?, ?it/s]"
      ]
     },
     "metadata": {},
     "output_type": "display_data"
    },
    {
     "data": {
      "application/vnd.jupyter.widget-view+json": {
       "model_id": "f4027d46fea24b3aa27d20a5573d5834",
       "version_major": 2,
       "version_minor": 0
      },
      "text/plain": [
       "S1B_IW_20200708T030320_DVP_RTC30_G_gpuned_D5E9.zip:   0%|          | 0/451189741 [00:00<?, ?it/s]"
      ]
     },
     "metadata": {},
     "output_type": "display_data"
    },
    {
     "data": {
      "application/vnd.jupyter.widget-view+json": {
       "model_id": "35f7eca65f474f1fbda550991ad5cd9a",
       "version_major": 2,
       "version_minor": 0
      },
      "text/plain": [
       "S1A_IW_20200713T154810_DVP_RTC30_G_gpuned_E48E.zip:   0%|          | 0/455525643 [00:00<?, ?it/s]"
      ]
     },
     "metadata": {},
     "output_type": "display_data"
    },
    {
     "data": {
      "application/vnd.jupyter.widget-view+json": {
       "model_id": "7d20bd6a27c0405cb4cca5da81b62057",
       "version_major": 2,
       "version_minor": 0
      },
      "text/plain": [
       "S1B_IW_20200718T031938_DVP_RTC30_G_gpuned_F44C.zip:   0%|          | 0/470293723 [00:00<?, ?it/s]"
      ]
     },
     "metadata": {},
     "output_type": "display_data"
    },
    {
     "data": {
      "application/vnd.jupyter.widget-view+json": {
       "model_id": "e73a6113061547829c8aad06fe7c7ee5",
       "version_major": 2,
       "version_minor": 0
      },
      "text/plain": [
       "S1B_IW_20200718T031911_DVP_RTC30_G_gpuned_C282.zip:   0%|          | 0/502798558 [00:00<?, ?it/s]"
      ]
     },
     "metadata": {},
     "output_type": "display_data"
    },
    {
     "data": {
      "application/vnd.jupyter.widget-view+json": {
       "model_id": "5cc5829a5f714180a32de0d57ad5ac04",
       "version_major": 2,
       "version_minor": 0
      },
      "text/plain": [
       "S1A_IW_20200718T155629_DVP_RTC30_G_gpuned_2809.zip:   0%|          | 0/452871126 [00:00<?, ?it/s]"
      ]
     },
     "metadata": {},
     "output_type": "display_data"
    },
    {
     "data": {
      "application/vnd.jupyter.widget-view+json": {
       "model_id": "bc4afa047bc34698999ce40b0f70fa21",
       "version_major": 2,
       "version_minor": 0
      },
      "text/plain": [
       "S1B_IW_20200720T030255_DVP_RTC30_G_gpuned_44D6.zip:   0%|          | 0/473578036 [00:00<?, ?it/s]"
      ]
     },
     "metadata": {},
     "output_type": "display_data"
    },
    {
     "data": {
      "application/vnd.jupyter.widget-view+json": {
       "model_id": "f3a0bbaf26e94364ba1105bf75e2470c",
       "version_major": 2,
       "version_minor": 0
      },
      "text/plain": [
       "S1B_IW_20200720T030321_DVP_RTC30_G_gpuned_FC4F.zip:   0%|          | 0/450908292 [00:00<?, ?it/s]"
      ]
     },
     "metadata": {},
     "output_type": "display_data"
    },
    {
     "data": {
      "application/vnd.jupyter.widget-view+json": {
       "model_id": "89290d5dcb104ef3821f45221d92b05e",
       "version_major": 2,
       "version_minor": 0
      },
      "text/plain": [
       "S1B_IW_20200730T031912_DVP_RTC30_G_gpuned_06F7.zip:   0%|          | 0/504306564 [00:00<?, ?it/s]"
      ]
     },
     "metadata": {},
     "output_type": "display_data"
    },
    {
     "name": "stdout",
     "output_type": "stream",
     "text": [
      "Current job: 101/175, time elapsed: 33.25 min, time remaining: 24.12 min\n"
     ]
    },
    {
     "data": {
      "application/vnd.jupyter.widget-view+json": {
       "model_id": "7b6470f82d6f475ca2e20f3031a64cd3",
       "version_major": 2,
       "version_minor": 0
      },
      "text/plain": [
       "S1A_IW_20200725T154811_DVP_RTC30_G_gpuned_023D.zip:   0%|          | 0/455151990 [00:00<?, ?it/s]"
      ]
     },
     "metadata": {},
     "output_type": "display_data"
    },
    {
     "data": {
      "application/vnd.jupyter.widget-view+json": {
       "model_id": "d7b6b4c9ab72461f9dbc6a744bdb6a39",
       "version_major": 2,
       "version_minor": 0
      },
      "text/plain": [
       "S1B_IW_20200730T031939_DVP_RTC30_G_gpuned_352C.zip:   0%|          | 0/469714074 [00:00<?, ?it/s]"
      ]
     },
     "metadata": {},
     "output_type": "display_data"
    },
    {
     "data": {
      "application/vnd.jupyter.widget-view+json": {
       "model_id": "f8670cb9ea094785a8833bcc10f0d009",
       "version_major": 2,
       "version_minor": 0
      },
      "text/plain": [
       "S1A_IW_20200730T155629_DVP_RTC30_G_gpuned_709E.zip:   0%|          | 0/452546878 [00:00<?, ?it/s]"
      ]
     },
     "metadata": {},
     "output_type": "display_data"
    },
    {
     "data": {
      "application/vnd.jupyter.widget-view+json": {
       "model_id": "1d76088424c14181a330ea433559636b",
       "version_major": 2,
       "version_minor": 0
      },
      "text/plain": [
       "S1B_IW_20200801T030256_DVP_RTC30_G_gpuned_0FCA.zip:   0%|          | 0/473812338 [00:00<?, ?it/s]"
      ]
     },
     "metadata": {},
     "output_type": "display_data"
    },
    {
     "data": {
      "application/vnd.jupyter.widget-view+json": {
       "model_id": "be8f31f7eef547a79b67bf4d2c5764cf",
       "version_major": 2,
       "version_minor": 0
      },
      "text/plain": [
       "S1A_IW_20200806T154811_DVP_RTC30_G_gpuned_6A5A.zip:   0%|          | 0/455103351 [00:00<?, ?it/s]"
      ]
     },
     "metadata": {},
     "output_type": "display_data"
    },
    {
     "data": {
      "application/vnd.jupyter.widget-view+json": {
       "model_id": "0527fc47a9c040d281fc1c93dc2adfef",
       "version_major": 2,
       "version_minor": 0
      },
      "text/plain": [
       "S1B_IW_20200801T030321_DVP_RTC30_G_gpuned_7462.zip:   0%|          | 0/450542771 [00:00<?, ?it/s]"
      ]
     },
     "metadata": {},
     "output_type": "display_data"
    },
    {
     "data": {
      "application/vnd.jupyter.widget-view+json": {
       "model_id": "e993c6625315467a8f45af37a318bf9e",
       "version_major": 2,
       "version_minor": 0
      },
      "text/plain": [
       "S1B_IW_20200811T031912_DVP_RTC30_G_gpuned_D8CA.zip:   0%|          | 0/501759842 [00:00<?, ?it/s]"
      ]
     },
     "metadata": {},
     "output_type": "display_data"
    },
    {
     "data": {
      "application/vnd.jupyter.widget-view+json": {
       "model_id": "673e29f8b2004eb785a0cd42b4627287",
       "version_major": 2,
       "version_minor": 0
      },
      "text/plain": [
       "S1B_IW_20200811T031940_DVP_RTC30_G_gpuned_28C3.zip:   0%|          | 0/468948103 [00:00<?, ?it/s]"
      ]
     },
     "metadata": {},
     "output_type": "display_data"
    },
    {
     "data": {
      "application/vnd.jupyter.widget-view+json": {
       "model_id": "64e61ef335094569be87267ef64c2c1f",
       "version_major": 2,
       "version_minor": 0
      },
      "text/plain": [
       "S1A_IW_20200811T155630_DVP_RTC30_G_gpuned_FE2B.zip:   0%|          | 0/451915937 [00:00<?, ?it/s]"
      ]
     },
     "metadata": {},
     "output_type": "display_data"
    },
    {
     "data": {
      "application/vnd.jupyter.widget-view+json": {
       "model_id": "b538510a890f46f8a0067c3e177afa04",
       "version_major": 2,
       "version_minor": 0
      },
      "text/plain": [
       "S1B_IW_20200813T030256_DVP_RTC30_G_gpuned_5CC2.zip:   0%|          | 0/473694563 [00:00<?, ?it/s]"
      ]
     },
     "metadata": {},
     "output_type": "display_data"
    },
    {
     "name": "stdout",
     "output_type": "stream",
     "text": [
      "Current job: 111/175, time elapsed: 36.41 min, time remaining: 20.81 min\n"
     ]
    },
    {
     "data": {
      "application/vnd.jupyter.widget-view+json": {
       "model_id": "7a6674970b7944e6824210cb54b5147b",
       "version_major": 2,
       "version_minor": 0
      },
      "text/plain": [
       "S1A_IW_20200818T154812_DVP_RTC30_G_gpuned_16B3.zip:   0%|          | 0/455545121 [00:00<?, ?it/s]"
      ]
     },
     "metadata": {},
     "output_type": "display_data"
    },
    {
     "data": {
      "application/vnd.jupyter.widget-view+json": {
       "model_id": "4e285c0520b640af8d5907a7dadafc7a",
       "version_major": 2,
       "version_minor": 0
      },
      "text/plain": [
       "S1B_IW_20200813T030322_DVP_RTC30_G_gpuned_1D03.zip:   0%|          | 0/450742666 [00:00<?, ?it/s]"
      ]
     },
     "metadata": {},
     "output_type": "display_data"
    },
    {
     "data": {
      "application/vnd.jupyter.widget-view+json": {
       "model_id": "b9f164103e2f40dca7ac336ccdb61804",
       "version_major": 2,
       "version_minor": 0
      },
      "text/plain": [
       "S1B_IW_20200823T031941_DVP_RTC30_G_gpuned_1912.zip:   0%|          | 0/470245205 [00:00<?, ?it/s]"
      ]
     },
     "metadata": {},
     "output_type": "display_data"
    },
    {
     "data": {
      "application/vnd.jupyter.widget-view+json": {
       "model_id": "95866973ddcc458a8d4b32ec15fb8917",
       "version_major": 2,
       "version_minor": 0
      },
      "text/plain": [
       "S1B_IW_20200823T031913_DVP_RTC30_G_gpuned_9418.zip:   0%|          | 0/502912020 [00:00<?, ?it/s]"
      ]
     },
     "metadata": {},
     "output_type": "display_data"
    },
    {
     "data": {
      "application/vnd.jupyter.widget-view+json": {
       "model_id": "db2b9e1a2d8a41e98ff5eae075afe1e6",
       "version_major": 2,
       "version_minor": 0
      },
      "text/plain": [
       "S1A_IW_20200823T155631_DVP_RTC30_G_gpuned_4741.zip:   0%|          | 0/452761712 [00:00<?, ?it/s]"
      ]
     },
     "metadata": {},
     "output_type": "display_data"
    },
    {
     "data": {
      "application/vnd.jupyter.widget-view+json": {
       "model_id": "6486580ac1f041eda7b869a49383e193",
       "version_major": 2,
       "version_minor": 0
      },
      "text/plain": [
       "S1B_IW_20200825T030323_DVP_RTC30_G_gpuned_7072.zip:   0%|          | 0/451140070 [00:00<?, ?it/s]"
      ]
     },
     "metadata": {},
     "output_type": "display_data"
    },
    {
     "data": {
      "application/vnd.jupyter.widget-view+json": {
       "model_id": "c05c356091f34acc80eaad6469bfb863",
       "version_major": 2,
       "version_minor": 0
      },
      "text/plain": [
       "S1B_IW_20200825T030257_DVP_RTC30_G_gpuned_7CB5.zip:   0%|          | 0/474059178 [00:00<?, ?it/s]"
      ]
     },
     "metadata": {},
     "output_type": "display_data"
    },
    {
     "data": {
      "application/vnd.jupyter.widget-view+json": {
       "model_id": "860194c87651474c81a5123aa2530ab5",
       "version_major": 2,
       "version_minor": 0
      },
      "text/plain": [
       "S1A_IW_20200830T154813_DVP_RTC30_G_gpuned_3343.zip:   0%|          | 0/454967861 [00:00<?, ?it/s]"
      ]
     },
     "metadata": {},
     "output_type": "display_data"
    },
    {
     "data": {
      "application/vnd.jupyter.widget-view+json": {
       "model_id": "330fb28b6b314351aef892e979564dce",
       "version_major": 2,
       "version_minor": 0
      },
      "text/plain": [
       "S1B_IW_20200904T031941_DVP_RTC30_G_gpuned_8A17.zip:   0%|          | 0/470090036 [00:00<?, ?it/s]"
      ]
     },
     "metadata": {},
     "output_type": "display_data"
    },
    {
     "data": {
      "application/vnd.jupyter.widget-view+json": {
       "model_id": "07cd9d6952c548c9b86a56bd404e4ffc",
       "version_major": 2,
       "version_minor": 0
      },
      "text/plain": [
       "S1B_IW_20200904T031914_DVP_RTC30_G_gpuned_556E.zip:   0%|          | 0/502392666 [00:00<?, ?it/s]"
      ]
     },
     "metadata": {},
     "output_type": "display_data"
    },
    {
     "name": "stdout",
     "output_type": "stream",
     "text": [
      "Current job: 121/175, time elapsed: 39.55 min, time remaining: 17.51 min\n"
     ]
    },
    {
     "data": {
      "application/vnd.jupyter.widget-view+json": {
       "model_id": "a21f09abb2784ebe825b915994605411",
       "version_major": 2,
       "version_minor": 0
      },
      "text/plain": [
       "S1A_IW_20200904T155631_DVP_RTC30_G_gpuned_CF5C.zip:   0%|          | 0/452364034 [00:00<?, ?it/s]"
      ]
     },
     "metadata": {},
     "output_type": "display_data"
    },
    {
     "data": {
      "application/vnd.jupyter.widget-view+json": {
       "model_id": "ee04da164bd04f6fadff6e54a7c6b54f",
       "version_major": 2,
       "version_minor": 0
      },
      "text/plain": [
       "S1B_IW_20200906T030323_DVP_RTC30_G_gpuned_9E6B.zip:   0%|          | 0/450953523 [00:00<?, ?it/s]"
      ]
     },
     "metadata": {},
     "output_type": "display_data"
    },
    {
     "data": {
      "application/vnd.jupyter.widget-view+json": {
       "model_id": "f5b2543f11594edea0be9cf112477e2e",
       "version_major": 2,
       "version_minor": 0
      },
      "text/plain": [
       "S1B_IW_20200906T030258_DVP_RTC30_G_gpuned_797D.zip:   0%|          | 0/473351897 [00:00<?, ?it/s]"
      ]
     },
     "metadata": {},
     "output_type": "display_data"
    },
    {
     "data": {
      "application/vnd.jupyter.widget-view+json": {
       "model_id": "945c039486fe41128933f7172460521c",
       "version_major": 2,
       "version_minor": 0
      },
      "text/plain": [
       "S1A_IW_20200911T154813_DVP_RTC30_G_gpuned_29CA.zip:   0%|          | 0/454212563 [00:00<?, ?it/s]"
      ]
     },
     "metadata": {},
     "output_type": "display_data"
    },
    {
     "data": {
      "application/vnd.jupyter.widget-view+json": {
       "model_id": "997326bfbffc4ceb82e3803298687074",
       "version_major": 2,
       "version_minor": 0
      },
      "text/plain": [
       "S1B_IW_20200916T031914_DVP_RTC30_G_gpuned_114A.zip:   0%|          | 0/503077001 [00:00<?, ?it/s]"
      ]
     },
     "metadata": {},
     "output_type": "display_data"
    },
    {
     "data": {
      "application/vnd.jupyter.widget-view+json": {
       "model_id": "36885391723a493791e9219c99766a79",
       "version_major": 2,
       "version_minor": 0
      },
      "text/plain": [
       "S1B_IW_20200916T031942_DVP_RTC30_G_gpuned_8434.zip:   0%|          | 0/470151731 [00:00<?, ?it/s]"
      ]
     },
     "metadata": {},
     "output_type": "display_data"
    },
    {
     "data": {
      "application/vnd.jupyter.widget-view+json": {
       "model_id": "d33105269fab4981a33cf9fdb93592f6",
       "version_major": 2,
       "version_minor": 0
      },
      "text/plain": [
       "S1A_IW_20200916T155632_DVP_RTC30_G_gpuned_B981.zip:   0%|          | 0/452035231 [00:00<?, ?it/s]"
      ]
     },
     "metadata": {},
     "output_type": "display_data"
    },
    {
     "data": {
      "application/vnd.jupyter.widget-view+json": {
       "model_id": "587e3b8f67864d1f89b8409d18eac5cc",
       "version_major": 2,
       "version_minor": 0
      },
      "text/plain": [
       "S1B_IW_20200918T030258_DVP_RTC30_G_gpuned_CB64.zip:   0%|          | 0/473385954 [00:00<?, ?it/s]"
      ]
     },
     "metadata": {},
     "output_type": "display_data"
    },
    {
     "data": {
      "application/vnd.jupyter.widget-view+json": {
       "model_id": "707607a835394469a2cfca5356847f56",
       "version_major": 2,
       "version_minor": 0
      },
      "text/plain": [
       "S1B_IW_20200918T030324_DVP_RTC30_G_gpuned_6B9E.zip:   0%|          | 0/451432616 [00:00<?, ?it/s]"
      ]
     },
     "metadata": {},
     "output_type": "display_data"
    },
    {
     "data": {
      "application/vnd.jupyter.widget-view+json": {
       "model_id": "a9926c58664241d5a4eddf215298f84e",
       "version_major": 2,
       "version_minor": 0
      },
      "text/plain": [
       "S1A_IW_20200923T154814_DVP_RTC30_G_gpuned_623F.zip:   0%|          | 0/454568458 [00:00<?, ?it/s]"
      ]
     },
     "metadata": {},
     "output_type": "display_data"
    },
    {
     "name": "stdout",
     "output_type": "stream",
     "text": [
      "Current job: 131/175, time elapsed: 42.71 min, time remaining: 14.24 min\n"
     ]
    },
    {
     "data": {
      "application/vnd.jupyter.widget-view+json": {
       "model_id": "e71857af52a94cec8c9a9ac8f40f8412",
       "version_major": 2,
       "version_minor": 0
      },
      "text/plain": [
       "S1B_IW_20200928T031914_DVP_RTC30_G_gpuned_6797.zip:   0%|          | 0/503026202 [00:00<?, ?it/s]"
      ]
     },
     "metadata": {},
     "output_type": "display_data"
    },
    {
     "data": {
      "application/vnd.jupyter.widget-view+json": {
       "model_id": "fdd9236e88204fafa65e7af2bbe3e45f",
       "version_major": 2,
       "version_minor": 0
      },
      "text/plain": [
       "S1A_IW_20200928T155632_DVP_RTC30_G_gpuned_6B78.zip:   0%|          | 0/451537361 [00:00<?, ?it/s]"
      ]
     },
     "metadata": {},
     "output_type": "display_data"
    },
    {
     "data": {
      "application/vnd.jupyter.widget-view+json": {
       "model_id": "9e63d36943c448059a9775f342c7d897",
       "version_major": 2,
       "version_minor": 0
      },
      "text/plain": [
       "S1B_IW_20200928T031942_DVP_RTC30_G_gpuned_03BF.zip:   0%|          | 0/469640646 [00:00<?, ?it/s]"
      ]
     },
     "metadata": {},
     "output_type": "display_data"
    },
    {
     "data": {
      "application/vnd.jupyter.widget-view+json": {
       "model_id": "5acf6651e3614f679c07aee45b460f69",
       "version_major": 2,
       "version_minor": 0
      },
      "text/plain": [
       "S1B_IW_20200930T030258_DVP_RTC30_G_gpuned_409D.zip:   0%|          | 0/472665191 [00:00<?, ?it/s]"
      ]
     },
     "metadata": {},
     "output_type": "display_data"
    },
    {
     "data": {
      "application/vnd.jupyter.widget-view+json": {
       "model_id": "1fb1ab03d658419f9a2eebebf64a920b",
       "version_major": 2,
       "version_minor": 0
      },
      "text/plain": [
       "S1A_IW_20201005T154814_DVP_RTC30_G_gpuned_BF2E.zip:   0%|          | 0/454751770 [00:00<?, ?it/s]"
      ]
     },
     "metadata": {},
     "output_type": "display_data"
    },
    {
     "data": {
      "application/vnd.jupyter.widget-view+json": {
       "model_id": "d106125c1fa04654acacb40e217b0f5e",
       "version_major": 2,
       "version_minor": 0
      },
      "text/plain": [
       "S1B_IW_20200930T030324_DVP_RTC30_G_gpuned_A1B4.zip:   0%|          | 0/451149625 [00:00<?, ?it/s]"
      ]
     },
     "metadata": {},
     "output_type": "display_data"
    },
    {
     "data": {
      "application/vnd.jupyter.widget-view+json": {
       "model_id": "fa95d97e65614f20ac1fe7dc36f8b202",
       "version_major": 2,
       "version_minor": 0
      },
      "text/plain": [
       "S1B_IW_20201010T031942_DVP_RTC30_G_gpuned_BE8D.zip:   0%|          | 0/469279701 [00:00<?, ?it/s]"
      ]
     },
     "metadata": {},
     "output_type": "display_data"
    },
    {
     "data": {
      "application/vnd.jupyter.widget-view+json": {
       "model_id": "1f28d5adee8d4ac5a8dcabd80983ea79",
       "version_major": 2,
       "version_minor": 0
      },
      "text/plain": [
       "S1B_IW_20201010T031915_DVP_RTC30_G_gpuned_9EEF.zip:   0%|          | 0/502690098 [00:00<?, ?it/s]"
      ]
     },
     "metadata": {},
     "output_type": "display_data"
    },
    {
     "data": {
      "application/vnd.jupyter.widget-view+json": {
       "model_id": "04e8d37c27b84743a2b80eb860777100",
       "version_major": 2,
       "version_minor": 0
      },
      "text/plain": [
       "S1A_IW_20201010T155632_DVP_RTC30_G_gpuned_0FE7.zip:   0%|          | 0/451695805 [00:00<?, ?it/s]"
      ]
     },
     "metadata": {},
     "output_type": "display_data"
    },
    {
     "data": {
      "application/vnd.jupyter.widget-view+json": {
       "model_id": "d7c2de4a04de43f7b161ea37850b0e57",
       "version_major": 2,
       "version_minor": 0
      },
      "text/plain": [
       "S1B_IW_20201012T030324_DVP_RTC30_G_gpuned_DFE0.zip:   0%|          | 0/450115657 [00:00<?, ?it/s]"
      ]
     },
     "metadata": {},
     "output_type": "display_data"
    },
    {
     "name": "stdout",
     "output_type": "stream",
     "text": [
      "Current job: 141/175, time elapsed: 45.85 min, time remaining: 10.98 min\n"
     ]
    },
    {
     "data": {
      "application/vnd.jupyter.widget-view+json": {
       "model_id": "8d2d2cacc73b4302a0293aa395f79f22",
       "version_major": 2,
       "version_minor": 0
      },
      "text/plain": [
       "S1B_IW_20201012T030258_DVP_RTC30_G_gpuned_513E.zip:   0%|          | 0/472720010 [00:00<?, ?it/s]"
      ]
     },
     "metadata": {},
     "output_type": "display_data"
    },
    {
     "data": {
      "application/vnd.jupyter.widget-view+json": {
       "model_id": "654311b36906458295badec97d5d9dec",
       "version_major": 2,
       "version_minor": 0
      },
      "text/plain": [
       "S1A_IW_20201017T154814_DVP_RTC30_G_gpuned_A10E.zip:   0%|          | 0/453583374 [00:00<?, ?it/s]"
      ]
     },
     "metadata": {},
     "output_type": "display_data"
    },
    {
     "data": {
      "application/vnd.jupyter.widget-view+json": {
       "model_id": "df431dd434824a2cb5a4ebf16ed28f1a",
       "version_major": 2,
       "version_minor": 0
      },
      "text/plain": [
       "S1A_IW_20201022T155632_DVP_RTC30_G_gpuned_F4A9.zip:   0%|          | 0/451076316 [00:00<?, ?it/s]"
      ]
     },
     "metadata": {},
     "output_type": "display_data"
    },
    {
     "data": {
      "application/vnd.jupyter.widget-view+json": {
       "model_id": "7f2a6c560ea24497a9b1de28d2e0c4fb",
       "version_major": 2,
       "version_minor": 0
      },
      "text/plain": [
       "S1B_IW_20201024T030258_DVP_RTC30_G_gpuned_D31B.zip:   0%|          | 0/472705589 [00:00<?, ?it/s]"
      ]
     },
     "metadata": {},
     "output_type": "display_data"
    },
    {
     "data": {
      "application/vnd.jupyter.widget-view+json": {
       "model_id": "44a16f4beaa547678d00a2ab2ded619a",
       "version_major": 2,
       "version_minor": 0
      },
      "text/plain": [
       "S1B_IW_20201103T031915_DVP_RTC30_G_gpuned_C336.zip:   0%|          | 0/502882169 [00:00<?, ?it/s]"
      ]
     },
     "metadata": {},
     "output_type": "display_data"
    },
    {
     "data": {
      "application/vnd.jupyter.widget-view+json": {
       "model_id": "b902575e9f554de0a8586b5312caafb0",
       "version_major": 2,
       "version_minor": 0
      },
      "text/plain": [
       "S1B_IW_20201024T030324_DVP_RTC30_G_gpuned_A292.zip:   0%|          | 0/449613268 [00:00<?, ?it/s]"
      ]
     },
     "metadata": {},
     "output_type": "display_data"
    },
    {
     "data": {
      "application/vnd.jupyter.widget-view+json": {
       "model_id": "c8a36e33ed814870b8ccc6f6632beffe",
       "version_major": 2,
       "version_minor": 0
      },
      "text/plain": [
       "S1B_IW_20201103T031942_DVP_RTC30_G_gpuned_CF48.zip:   0%|          | 0/468144790 [00:00<?, ?it/s]"
      ]
     },
     "metadata": {},
     "output_type": "display_data"
    },
    {
     "data": {
      "application/vnd.jupyter.widget-view+json": {
       "model_id": "fd0d438f7c4941f7afeb7248c2e2eefb",
       "version_major": 2,
       "version_minor": 0
      },
      "text/plain": [
       "S1B_IW_20201105T030258_DVP_RTC30_G_gpuned_3351.zip:   0%|          | 0/472487057 [00:00<?, ?it/s]"
      ]
     },
     "metadata": {},
     "output_type": "display_data"
    },
    {
     "data": {
      "application/vnd.jupyter.widget-view+json": {
       "model_id": "e579f731e4b140b6a42f10b103ae49e3",
       "version_major": 2,
       "version_minor": 0
      },
      "text/plain": [
       "S1A_IW_20201103T155632_DVP_RTC30_G_gpuned_FF42.zip:   0%|          | 0/451288838 [00:00<?, ?it/s]"
      ]
     },
     "metadata": {},
     "output_type": "display_data"
    },
    {
     "data": {
      "application/vnd.jupyter.widget-view+json": {
       "model_id": "bdb834b8c48d497b9cfd9b0c9ffb4655",
       "version_major": 2,
       "version_minor": 0
      },
      "text/plain": [
       "S1B_IW_20201105T030324_DVP_RTC30_G_gpuned_C336.zip:   0%|          | 0/449684071 [00:00<?, ?it/s]"
      ]
     },
     "metadata": {},
     "output_type": "display_data"
    },
    {
     "name": "stdout",
     "output_type": "stream",
     "text": [
      "Current job: 151/175, time elapsed: 48.99 min, time remaining: 7.73 min\n"
     ]
    },
    {
     "data": {
      "application/vnd.jupyter.widget-view+json": {
       "model_id": "59b7e13992ab4b0290c000846bc60364",
       "version_major": 2,
       "version_minor": 0
      },
      "text/plain": [
       "S1B_IW_20201115T031914_DVP_RTC30_G_gpuned_85FB.zip:   0%|          | 0/503587467 [00:00<?, ?it/s]"
      ]
     },
     "metadata": {},
     "output_type": "display_data"
    },
    {
     "data": {
      "application/vnd.jupyter.widget-view+json": {
       "model_id": "5b3731729a114c14b6044d1b9cf923ba",
       "version_major": 2,
       "version_minor": 0
      },
      "text/plain": [
       "S1A_IW_20201110T154814_DVP_RTC30_G_gpuned_5809.zip:   0%|          | 0/453021783 [00:00<?, ?it/s]"
      ]
     },
     "metadata": {},
     "output_type": "display_data"
    },
    {
     "data": {
      "application/vnd.jupyter.widget-view+json": {
       "model_id": "3bcb9793f0414a14ba1f4d0f4d9b8574",
       "version_major": 2,
       "version_minor": 0
      },
      "text/plain": [
       "S1B_IW_20201115T031942_DVP_RTC30_G_gpuned_134E.zip:   0%|          | 0/467778688 [00:00<?, ?it/s]"
      ]
     },
     "metadata": {},
     "output_type": "display_data"
    },
    {
     "data": {
      "application/vnd.jupyter.widget-view+json": {
       "model_id": "4b6a6ec065c9465f85de625ca6d3e99c",
       "version_major": 2,
       "version_minor": 0
      },
      "text/plain": [
       "S1A_IW_20201115T155632_DVP_RTC30_G_gpuned_A382.zip:   0%|          | 0/451026098 [00:00<?, ?it/s]"
      ]
     },
     "metadata": {},
     "output_type": "display_data"
    },
    {
     "data": {
      "application/vnd.jupyter.widget-view+json": {
       "model_id": "dbd8233197064bc68294a12080314158",
       "version_major": 2,
       "version_minor": 0
      },
      "text/plain": [
       "S1B_IW_20201117T030258_DVP_RTC30_G_gpuned_D1EE.zip:   0%|          | 0/472213227 [00:00<?, ?it/s]"
      ]
     },
     "metadata": {},
     "output_type": "display_data"
    },
    {
     "data": {
      "application/vnd.jupyter.widget-view+json": {
       "model_id": "952d56077d024b46b8d5dee2bf234c6b",
       "version_major": 2,
       "version_minor": 0
      },
      "text/plain": [
       "S1B_IW_20201117T030324_DVP_RTC30_G_gpuned_2C22.zip:   0%|          | 0/449235104 [00:00<?, ?it/s]"
      ]
     },
     "metadata": {},
     "output_type": "display_data"
    },
    {
     "data": {
      "application/vnd.jupyter.widget-view+json": {
       "model_id": "52a9164762c348b6a706566915fe1fd4",
       "version_major": 2,
       "version_minor": 0
      },
      "text/plain": [
       "S1A_IW_20201122T154814_DVP_RTC30_G_gpuned_142C.zip:   0%|          | 0/453234421 [00:00<?, ?it/s]"
      ]
     },
     "metadata": {},
     "output_type": "display_data"
    },
    {
     "data": {
      "application/vnd.jupyter.widget-view+json": {
       "model_id": "00c50d5844ba4a6caa70011cf0e7e741",
       "version_major": 2,
       "version_minor": 0
      },
      "text/plain": [
       "S1B_IW_20201127T031914_DVP_RTC30_G_gpuned_FB5D.zip:   0%|          | 0/504067928 [00:00<?, ?it/s]"
      ]
     },
     "metadata": {},
     "output_type": "display_data"
    },
    {
     "data": {
      "application/vnd.jupyter.widget-view+json": {
       "model_id": "afe6ce9a69da4da8b51eb02c8de59b9d",
       "version_major": 2,
       "version_minor": 0
      },
      "text/plain": [
       "S1A_IW_20201127T155632_DVP_RTC30_G_gpuned_DC5B.zip:   0%|          | 0/451270340 [00:00<?, ?it/s]"
      ]
     },
     "metadata": {},
     "output_type": "display_data"
    },
    {
     "data": {
      "application/vnd.jupyter.widget-view+json": {
       "model_id": "badf24f81b1548a483b547996cfab64d",
       "version_major": 2,
       "version_minor": 0
      },
      "text/plain": [
       "S1B_IW_20201127T031942_DVP_RTC30_G_gpuned_2A44.zip:   0%|          | 0/467970220 [00:00<?, ?it/s]"
      ]
     },
     "metadata": {},
     "output_type": "display_data"
    },
    {
     "name": "stdout",
     "output_type": "stream",
     "text": [
      "Current job: 161/175, time elapsed: 52.09 min, time remaining: 4.50 min\n"
     ]
    },
    {
     "data": {
      "application/vnd.jupyter.widget-view+json": {
       "model_id": "7efe92955368427e859471b2917e34c5",
       "version_major": 2,
       "version_minor": 0
      },
      "text/plain": [
       "S1B_IW_20201129T030258_DVP_RTC30_G_gpuned_98FD.zip:   0%|          | 0/472080620 [00:00<?, ?it/s]"
      ]
     },
     "metadata": {},
     "output_type": "display_data"
    },
    {
     "data": {
      "application/vnd.jupyter.widget-view+json": {
       "model_id": "176994740d1b44c390d6c71b5ed5f597",
       "version_major": 2,
       "version_minor": 0
      },
      "text/plain": [
       "S1B_IW_20201129T030324_DVP_RTC30_G_gpuned_60C1.zip:   0%|          | 0/449217676 [00:00<?, ?it/s]"
      ]
     },
     "metadata": {},
     "output_type": "display_data"
    },
    {
     "data": {
      "application/vnd.jupyter.widget-view+json": {
       "model_id": "910cb02b77a74300b82887d3142311b1",
       "version_major": 2,
       "version_minor": 0
      },
      "text/plain": [
       "S1B_IW_20201209T031913_DVP_RTC30_G_gpuned_8063.zip:   0%|          | 0/504526464 [00:00<?, ?it/s]"
      ]
     },
     "metadata": {},
     "output_type": "display_data"
    },
    {
     "data": {
      "application/vnd.jupyter.widget-view+json": {
       "model_id": "8af1e07a910d4af18199526136f5569d",
       "version_major": 2,
       "version_minor": 0
      },
      "text/plain": [
       "S1A_IW_20201204T154813_DVP_RTC30_G_gpuned_FB6B.zip:   0%|          | 0/453082279 [00:00<?, ?it/s]"
      ]
     },
     "metadata": {},
     "output_type": "display_data"
    },
    {
     "data": {
      "application/vnd.jupyter.widget-view+json": {
       "model_id": "42ae3ed3cffd4bef828a5f1647a402e4",
       "version_major": 2,
       "version_minor": 0
      },
      "text/plain": [
       "S1A_IW_20201209T155631_DVP_RTC30_G_gpuned_3C76.zip:   0%|          | 0/451596786 [00:00<?, ?it/s]"
      ]
     },
     "metadata": {},
     "output_type": "display_data"
    },
    {
     "data": {
      "application/vnd.jupyter.widget-view+json": {
       "model_id": "6011b5458c4a4f00aeba787980863ecc",
       "version_major": 2,
       "version_minor": 0
      },
      "text/plain": [
       "S1B_IW_20201209T031941_DVP_RTC30_G_gpuned_0E79.zip:   0%|          | 0/468549468 [00:00<?, ?it/s]"
      ]
     },
     "metadata": {},
     "output_type": "display_data"
    },
    {
     "data": {
      "application/vnd.jupyter.widget-view+json": {
       "model_id": "2d42dd947bd14fc7a2af58bd46cef7ef",
       "version_major": 2,
       "version_minor": 0
      },
      "text/plain": [
       "S1B_IW_20201211T030257_DVP_RTC30_G_gpuned_57B8.zip:   0%|          | 0/472281260 [00:00<?, ?it/s]"
      ]
     },
     "metadata": {},
     "output_type": "display_data"
    },
    {
     "data": {
      "application/vnd.jupyter.widget-view+json": {
       "model_id": "fa0a4415f1d5411fadd618643c9a0959",
       "version_major": 2,
       "version_minor": 0
      },
      "text/plain": [
       "S1B_IW_20201211T030323_DVP_RTC30_G_gpuned_B6A9.zip:   0%|          | 0/449291626 [00:00<?, ?it/s]"
      ]
     },
     "metadata": {},
     "output_type": "display_data"
    },
    {
     "data": {
      "application/vnd.jupyter.widget-view+json": {
       "model_id": "ec9743cc2d4143e9b9ac2997922fa00c",
       "version_major": 2,
       "version_minor": 0
      },
      "text/plain": [
       "S1A_IW_20201216T154813_DVP_RTC30_G_gpuned_BB5C.zip:   0%|          | 0/453387196 [00:00<?, ?it/s]"
      ]
     },
     "metadata": {},
     "output_type": "display_data"
    },
    {
     "data": {
      "application/vnd.jupyter.widget-view+json": {
       "model_id": "7d05884f0eea42ba9178d7899a0cfb91",
       "version_major": 2,
       "version_minor": 0
      },
      "text/plain": [
       "S1B_IW_20201221T031913_DVP_RTC30_G_gpuned_B38A.zip:   0%|          | 0/503732924 [00:00<?, ?it/s]"
      ]
     },
     "metadata": {},
     "output_type": "display_data"
    },
    {
     "name": "stdout",
     "output_type": "stream",
     "text": [
      "Current job: 171/175, time elapsed: 55.13 min, time remaining: 1.28 min\n"
     ]
    },
    {
     "data": {
      "application/vnd.jupyter.widget-view+json": {
       "model_id": "5f9c344f453f4eeda53bae4a7e59e322",
       "version_major": 2,
       "version_minor": 0
      },
      "text/plain": [
       "S1A_IW_20201221T155631_DVP_RTC30_G_gpuned_CA61.zip:   0%|          | 0/451965390 [00:00<?, ?it/s]"
      ]
     },
     "metadata": {},
     "output_type": "display_data"
    },
    {
     "data": {
      "application/vnd.jupyter.widget-view+json": {
       "model_id": "844eea197abd4eee95def42b0247ee13",
       "version_major": 2,
       "version_minor": 0
      },
      "text/plain": [
       "S1B_IW_20201221T031940_DVP_RTC30_G_gpuned_847D.zip:   0%|          | 0/469007907 [00:00<?, ?it/s]"
      ]
     },
     "metadata": {},
     "output_type": "display_data"
    },
    {
     "data": {
      "application/vnd.jupyter.widget-view+json": {
       "model_id": "1ae43bdda5bd4e2e9496f707bf4890fb",
       "version_major": 2,
       "version_minor": 0
      },
      "text/plain": [
       "S1B_IW_20201223T030257_DVP_RTC30_G_gpuned_45A6.zip:   0%|          | 0/472206999 [00:00<?, ?it/s]"
      ]
     },
     "metadata": {},
     "output_type": "display_data"
    },
    {
     "data": {
      "application/vnd.jupyter.widget-view+json": {
       "model_id": "16e3ad8e365048eba51d9caa0ee62a07",
       "version_major": 2,
       "version_minor": 0
      },
      "text/plain": [
       "S1B_IW_20201223T030322_DVP_RTC30_G_gpuned_2A0C.zip:   0%|          | 0/449630388 [00:00<?, ?it/s]"
      ]
     },
     "metadata": {},
     "output_type": "display_data"
    },
    {
     "data": {
      "application/vnd.jupyter.widget-view+json": {
       "model_id": "0e1dd2002c424db4976dbc5f924e4a4c",
       "version_major": 2,
       "version_minor": 0
      },
      "text/plain": [
       "S1A_IW_20201228T154812_DVP_RTC30_G_gpuned_3E24.zip:   0%|          | 0/453369591 [00:00<?, ?it/s]"
      ]
     },
     "metadata": {},
     "output_type": "display_data"
    }
   ],
   "source": [
    "#Download the products, unzip them into the rtc_download directory, convert them to dB, and delete the zip files:\n",
    "projectname = 'Kenn_20_notebook_2'\n",
    "EPSGn = '32607'\n",
    "pols = ['VV','VH']\n",
    "\n",
    "joblist = hyp3.find_jobs(name=projectname)\n",
    "joblen = len(joblist)-1\n",
    "# jobi=0\n",
    "t = time.time()\n",
    "for i,job in enumerate(joblist):\n",
    "    if job.succeeded()==True:\n",
    "        if i%10 ==1:\n",
    "            te = time.time()-t\n",
    "            print(f'Current job: {i}/{joblen}, time elapsed: {te/60:.2f} min, time remaining: {(te/(i+1)*(joblen-i))/60:.2f} min')\n",
    "        job.download_files(download_path)\n",
    "        for pol in pols:\n",
    "            # print(pol)\n",
    "            extracttif(download_path,products_path,pol=pol,convert=False)\n",
    "            # fulltif = glob.glob(f'{str(products_path)}/*{pol}*')\n",
    "            reproject(WTKstr,EPSGn,products_path,f'{str(clipped_path)}/{pol}',convert_to_db=True)\n",
    "            os.system(f'rm {str(products_path)}/*.tif')\n",
    "            time.sleep(3)\n",
    "        os.system(f'rm {str(download_path)}/*.zip')\n",
    "            # extracttif(download_path,products_path,'VH',convert=True)\n",
    "    else:\n",
    "        print(f'WARNING: job {i} did not succeed')"
   ]
  },
  {
   "cell_type": "code",
   "execution_count": 9,
   "id": "60bc84cf-68a6-451f-af7c-dd02d71155c1",
   "metadata": {},
   "outputs": [],
   "source": [
    "# Check Failed Jobs:\n",
    "# print(joblist[5].succeeded)"
   ]
  },
  {
   "cell_type": "markdown",
   "id": "4352c4ae-76fa-4b07-8ae1-bf172c380f7c",
   "metadata": {},
   "source": [
    "## Create some metadata\n",
    "\n",
    "I want: a set of lists that have (with each proper corresponding entry), image name (granule I guess), date (date will be used to match), orbit pf, and orbit unique pf number"
   ]
  },
  {
   "cell_type": "code",
   "execution_count": 7,
   "id": "b7c24847-5441-40fd-8d43-04a23067a5ac",
   "metadata": {},
   "outputs": [],
   "source": [
    "def getSARdate(file,returndatestring=False):\n",
    "    '''Obtains the date of the start of a SAR acquisition, returns as a datetime\n",
    "    or a string.'''\n",
    "\n",
    "    file = str(file)\n",
    "    query = \"_????????T??????_\"\n",
    "    seqquery = str(query)\n",
    "    seqquery.replace('?','[0-9]')\n",
    "\n",
    "    substrings = fnmatch.filter((file[i:i+len(query)] for i in range(len(file) - len(query))), seqquery)\n",
    "    dtstr = substrings[0][1:-1].split('T')\n",
    "    \n",
    "    dtint = [dtstr[0][0:4],dtstr[0][4:6],dtstr[0][6:8],dtstr[1][0:2],dtstr[1][2:4],dtstr[1][4:6]]\n",
    "    dtint = [int(i)for i in dtint]\n",
    "    dtimg = datetime(dtint[0],dtint[1],dtint[2],dtint[3],dtint[4],dtint[5])\n",
    "\n",
    "    if returndatestring:\n",
    "        dtstr = dtstr[0]+dtstr[1]\n",
    "        return dtimg,dtstr\n",
    "    else:\n",
    "        return dtimg"
   ]
  },
  {
   "cell_type": "code",
   "execution_count": 8,
   "id": "91e1d18c-39f6-4365-98bb-5803c739fcf7",
   "metadata": {},
   "outputs": [
    {
     "name": "stdout",
     "output_type": "stream",
     "text": [
      "(datetime.datetime(2020, 1, 3, 15, 48, 6), datetime.datetime(2020, 1, 8, 3, 19, 6), datetime.datetime(2020, 1, 8, 3, 19, 34), datetime.datetime(2020, 1, 8, 15, 56, 24), datetime.datetime(2020, 1, 10, 3, 2, 50), datetime.datetime(2020, 1, 10, 3, 3, 16), datetime.datetime(2020, 1, 15, 15, 48, 5), datetime.datetime(2020, 1, 20, 3, 19, 6), datetime.datetime(2020, 1, 20, 3, 19, 33), datetime.datetime(2020, 1, 20, 15, 56, 23), datetime.datetime(2020, 1, 22, 3, 2, 49), datetime.datetime(2020, 1, 22, 3, 3, 15), datetime.datetime(2020, 1, 27, 15, 48, 5), datetime.datetime(2020, 2, 1, 3, 19, 5), datetime.datetime(2020, 2, 1, 3, 19, 33), datetime.datetime(2020, 2, 1, 15, 56, 23), datetime.datetime(2020, 2, 3, 3, 2, 49), datetime.datetime(2020, 2, 3, 3, 3, 15), datetime.datetime(2020, 2, 8, 15, 48, 5), datetime.datetime(2020, 2, 13, 3, 19, 5), datetime.datetime(2020, 2, 13, 3, 19, 33), datetime.datetime(2020, 2, 13, 15, 56, 23), datetime.datetime(2020, 2, 15, 3, 2, 49), datetime.datetime(2020, 2, 15, 3, 3, 15), datetime.datetime(2020, 2, 20, 15, 48, 4), datetime.datetime(2020, 2, 25, 3, 19, 5), datetime.datetime(2020, 2, 25, 3, 19, 32), datetime.datetime(2020, 2, 25, 15, 56, 22), datetime.datetime(2020, 2, 27, 3, 2, 48), datetime.datetime(2020, 2, 27, 3, 3, 14), datetime.datetime(2020, 3, 3, 15, 48, 4), datetime.datetime(2020, 3, 8, 3, 19, 5), datetime.datetime(2020, 3, 8, 3, 19, 32), datetime.datetime(2020, 3, 8, 15, 56, 23), datetime.datetime(2020, 3, 10, 3, 2, 49), datetime.datetime(2020, 3, 10, 3, 3, 14), datetime.datetime(2020, 3, 15, 15, 48, 4), datetime.datetime(2020, 3, 20, 3, 19, 5), datetime.datetime(2020, 3, 20, 3, 19, 33), datetime.datetime(2020, 3, 20, 15, 56, 23), datetime.datetime(2020, 3, 22, 3, 2, 49), datetime.datetime(2020, 3, 22, 3, 3, 15), datetime.datetime(2020, 3, 27, 15, 48, 5), datetime.datetime(2020, 4, 1, 3, 19, 5), datetime.datetime(2020, 4, 1, 3, 19, 33), datetime.datetime(2020, 4, 1, 15, 56, 23), datetime.datetime(2020, 4, 3, 3, 2, 49), datetime.datetime(2020, 4, 3, 3, 3, 15), datetime.datetime(2020, 4, 8, 15, 48, 5), datetime.datetime(2020, 4, 13, 3, 19, 6), datetime.datetime(2020, 4, 13, 3, 19, 33), datetime.datetime(2020, 4, 13, 15, 56, 23), datetime.datetime(2020, 4, 15, 3, 2, 50), datetime.datetime(2020, 4, 15, 3, 3, 15), datetime.datetime(2020, 4, 20, 15, 48, 5), datetime.datetime(2020, 4, 25, 3, 19, 6), datetime.datetime(2020, 4, 25, 3, 19, 34), datetime.datetime(2020, 4, 25, 15, 56, 24), datetime.datetime(2020, 4, 27, 3, 2, 50), datetime.datetime(2020, 4, 27, 3, 3, 16), datetime.datetime(2020, 5, 2, 15, 48, 6), datetime.datetime(2020, 5, 7, 3, 19, 7), datetime.datetime(2020, 5, 7, 3, 19, 34), datetime.datetime(2020, 5, 7, 15, 56, 24), datetime.datetime(2020, 5, 9, 3, 2, 51), datetime.datetime(2020, 5, 9, 3, 3, 16), datetime.datetime(2020, 5, 14, 15, 48, 7), datetime.datetime(2020, 5, 19, 3, 19, 7), datetime.datetime(2020, 5, 19, 3, 19, 35), datetime.datetime(2020, 5, 19, 15, 56, 25), datetime.datetime(2020, 5, 21, 3, 2, 51), datetime.datetime(2020, 5, 21, 3, 3, 17), datetime.datetime(2020, 5, 26, 15, 48, 7), datetime.datetime(2020, 5, 31, 3, 19, 8), datetime.datetime(2020, 5, 31, 3, 19, 36), datetime.datetime(2020, 5, 31, 15, 56, 26), datetime.datetime(2020, 6, 7, 15, 48, 8), datetime.datetime(2020, 6, 12, 3, 19, 9), datetime.datetime(2020, 6, 12, 3, 19, 36), datetime.datetime(2020, 6, 12, 15, 56, 27), datetime.datetime(2020, 6, 14, 3, 2, 53), datetime.datetime(2020, 6, 14, 3, 3, 19), datetime.datetime(2020, 6, 19, 15, 48, 9), datetime.datetime(2020, 6, 24, 3, 19, 9), datetime.datetime(2020, 6, 24, 3, 19, 37), datetime.datetime(2020, 6, 24, 15, 56, 27), datetime.datetime(2020, 6, 26, 3, 2, 53), datetime.datetime(2020, 6, 26, 3, 3, 19), datetime.datetime(2020, 7, 1, 15, 48, 9), datetime.datetime(2020, 7, 6, 3, 19, 10), datetime.datetime(2020, 7, 6, 3, 19, 38), datetime.datetime(2020, 7, 6, 15, 56, 28), datetime.datetime(2020, 7, 8, 3, 2, 54), datetime.datetime(2020, 7, 8, 3, 3, 20), datetime.datetime(2020, 7, 13, 15, 48, 10), datetime.datetime(2020, 7, 18, 3, 19, 11), datetime.datetime(2020, 7, 18, 3, 19, 38), datetime.datetime(2020, 7, 18, 15, 56, 29), datetime.datetime(2020, 7, 20, 3, 2, 55), datetime.datetime(2020, 7, 20, 3, 3, 21), datetime.datetime(2020, 7, 25, 15, 48, 11), datetime.datetime(2020, 7, 30, 3, 19, 12), datetime.datetime(2020, 7, 30, 3, 19, 39), datetime.datetime(2020, 7, 30, 15, 56, 29), datetime.datetime(2020, 8, 1, 3, 2, 56), datetime.datetime(2020, 8, 1, 3, 3, 21), datetime.datetime(2020, 8, 6, 15, 48, 11), datetime.datetime(2020, 8, 11, 3, 19, 12), datetime.datetime(2020, 8, 11, 3, 19, 40), datetime.datetime(2020, 8, 11, 15, 56, 30), datetime.datetime(2020, 8, 13, 3, 2, 56), datetime.datetime(2020, 8, 13, 3, 3, 22), datetime.datetime(2020, 8, 18, 15, 48, 12), datetime.datetime(2020, 8, 23, 3, 19, 13), datetime.datetime(2020, 8, 23, 3, 19, 41), datetime.datetime(2020, 8, 23, 15, 56, 31), datetime.datetime(2020, 8, 25, 3, 2, 57), datetime.datetime(2020, 8, 25, 3, 3, 23), datetime.datetime(2020, 8, 30, 15, 48, 13), datetime.datetime(2020, 9, 4, 3, 19, 14), datetime.datetime(2020, 9, 4, 3, 19, 41), datetime.datetime(2020, 9, 4, 15, 56, 31), datetime.datetime(2020, 9, 6, 3, 2, 58), datetime.datetime(2020, 9, 6, 3, 3, 23), datetime.datetime(2020, 9, 11, 15, 48, 13), datetime.datetime(2020, 9, 16, 3, 19, 14), datetime.datetime(2020, 9, 16, 3, 19, 42), datetime.datetime(2020, 9, 16, 15, 56, 32), datetime.datetime(2020, 9, 18, 3, 2, 58), datetime.datetime(2020, 9, 18, 3, 3, 24), datetime.datetime(2020, 9, 23, 15, 48, 14), datetime.datetime(2020, 9, 28, 3, 19, 14), datetime.datetime(2020, 9, 28, 3, 19, 42), datetime.datetime(2020, 9, 28, 15, 56, 32), datetime.datetime(2020, 9, 30, 3, 2, 58), datetime.datetime(2020, 9, 30, 3, 3, 24), datetime.datetime(2020, 10, 5, 15, 48, 14), datetime.datetime(2020, 10, 10, 3, 19, 15), datetime.datetime(2020, 10, 10, 3, 19, 42), datetime.datetime(2020, 10, 10, 15, 56, 32), datetime.datetime(2020, 10, 12, 3, 2, 58), datetime.datetime(2020, 10, 12, 3, 3, 24), datetime.datetime(2020, 10, 17, 15, 48, 14), datetime.datetime(2020, 10, 22, 15, 56, 32), datetime.datetime(2020, 10, 24, 3, 2, 58), datetime.datetime(2020, 10, 24, 3, 3, 24), datetime.datetime(2020, 11, 3, 3, 19, 15), datetime.datetime(2020, 11, 3, 3, 19, 42), datetime.datetime(2020, 11, 3, 15, 56, 32), datetime.datetime(2020, 11, 5, 3, 2, 58), datetime.datetime(2020, 11, 5, 3, 3, 24), datetime.datetime(2020, 11, 10, 15, 48, 14), datetime.datetime(2020, 11, 15, 3, 19, 14), datetime.datetime(2020, 11, 15, 3, 19, 42), datetime.datetime(2020, 11, 15, 15, 56, 32), datetime.datetime(2020, 11, 17, 3, 2, 58), datetime.datetime(2020, 11, 17, 3, 3, 24), datetime.datetime(2020, 11, 22, 15, 48, 14), datetime.datetime(2020, 11, 27, 3, 19, 14), datetime.datetime(2020, 11, 27, 3, 19, 42), datetime.datetime(2020, 11, 27, 15, 56, 32), datetime.datetime(2020, 11, 29, 3, 2, 58), datetime.datetime(2020, 11, 29, 3, 3, 24), datetime.datetime(2020, 12, 4, 15, 48, 13), datetime.datetime(2020, 12, 9, 3, 19, 13), datetime.datetime(2020, 12, 9, 3, 19, 41), datetime.datetime(2020, 12, 9, 15, 56, 31), datetime.datetime(2020, 12, 11, 3, 2, 57), datetime.datetime(2020, 12, 11, 3, 3, 23), datetime.datetime(2020, 12, 16, 15, 48, 13), datetime.datetime(2020, 12, 21, 3, 19, 13), datetime.datetime(2020, 12, 21, 3, 19, 40), datetime.datetime(2020, 12, 21, 15, 56, 31), datetime.datetime(2020, 12, 23, 3, 2, 57), datetime.datetime(2020, 12, 23, 3, 3, 22), datetime.datetime(2020, 12, 28, 15, 48, 12))\n",
      "('/home/jovyan/Kenn/2020/rtc_clipped/VH/S1A_IW_20200103T154806_DVP_RTC30_G_gpuned_8BB4_VH.tif', '/home/jovyan/Kenn/2020/rtc_clipped/VH/S1B_IW_20200108T031906_DVP_RTC30_G_gpuned_DAE1_VH.tif', '/home/jovyan/Kenn/2020/rtc_clipped/VH/S1B_IW_20200108T031934_DVP_RTC30_G_gpuned_F327_VH.tif', '/home/jovyan/Kenn/2020/rtc_clipped/VH/S1A_IW_20200108T155624_DVP_RTC30_G_gpuned_2427_VH.tif', '/home/jovyan/Kenn/2020/rtc_clipped/VH/S1B_IW_20200110T030250_DVP_RTC30_G_gpuned_9A50_VH.tif', '/home/jovyan/Kenn/2020/rtc_clipped/VH/S1B_IW_20200110T030316_DVP_RTC30_G_gpuned_62D4_VH.tif', '/home/jovyan/Kenn/2020/rtc_clipped/VH/S1A_IW_20200115T154805_DVP_RTC30_G_gpuned_4D9C_VH.tif', '/home/jovyan/Kenn/2020/rtc_clipped/VH/S1B_IW_20200120T031906_DVP_RTC30_G_gpuned_8561_VH.tif', '/home/jovyan/Kenn/2020/rtc_clipped/VH/S1B_IW_20200120T031933_DVP_RTC30_G_gpuned_CE56_VH.tif', '/home/jovyan/Kenn/2020/rtc_clipped/VH/S1A_IW_20200120T155623_DVP_RTC30_G_gpuned_FB61_VH.tif', '/home/jovyan/Kenn/2020/rtc_clipped/VH/S1B_IW_20200122T030249_DVP_RTC30_G_gpuned_E862_VH.tif', '/home/jovyan/Kenn/2020/rtc_clipped/VH/S1B_IW_20200122T030315_DVP_RTC30_G_gpuned_2003_VH.tif', '/home/jovyan/Kenn/2020/rtc_clipped/VH/S1A_IW_20200127T154805_DVP_RTC30_G_gpuned_C255_VH.tif', '/home/jovyan/Kenn/2020/rtc_clipped/VH/S1B_IW_20200201T031905_DVP_RTC30_G_gpuned_2799_VH.tif', '/home/jovyan/Kenn/2020/rtc_clipped/VH/S1B_IW_20200201T031933_DVP_RTC30_G_gpuned_57F7_VH.tif', '/home/jovyan/Kenn/2020/rtc_clipped/VH/S1A_IW_20200201T155623_DVP_RTC30_G_gpuned_39BC_VH.tif', '/home/jovyan/Kenn/2020/rtc_clipped/VH/S1B_IW_20200203T030249_DVP_RTC30_G_gpuned_94EF_VH.tif', '/home/jovyan/Kenn/2020/rtc_clipped/VH/S1B_IW_20200203T030315_DVP_RTC30_G_gpuned_FF61_VH.tif', '/home/jovyan/Kenn/2020/rtc_clipped/VH/S1A_IW_20200208T154805_DVP_RTC30_G_gpuned_72C7_VH.tif', '/home/jovyan/Kenn/2020/rtc_clipped/VH/S1B_IW_20200213T031905_DVP_RTC30_G_gpuned_8091_VH.tif', '/home/jovyan/Kenn/2020/rtc_clipped/VH/S1B_IW_20200213T031933_DVP_RTC30_G_gpuned_316A_VH.tif', '/home/jovyan/Kenn/2020/rtc_clipped/VH/S1A_IW_20200213T155623_DVP_RTC30_G_gpuned_B17C_VH.tif', '/home/jovyan/Kenn/2020/rtc_clipped/VH/S1B_IW_20200215T030249_DVP_RTC30_G_gpuned_EFC2_VH.tif', '/home/jovyan/Kenn/2020/rtc_clipped/VH/S1B_IW_20200215T030315_DVP_RTC30_G_gpuned_E2B5_VH.tif', '/home/jovyan/Kenn/2020/rtc_clipped/VH/S1A_IW_20200220T154804_DVP_RTC30_G_gpuned_E774_VH.tif', '/home/jovyan/Kenn/2020/rtc_clipped/VH/S1B_IW_20200225T031905_DVP_RTC30_G_gpuned_068C_VH.tif', '/home/jovyan/Kenn/2020/rtc_clipped/VH/S1B_IW_20200225T031932_DVP_RTC30_G_gpuned_4349_VH.tif', '/home/jovyan/Kenn/2020/rtc_clipped/VH/S1A_IW_20200225T155622_DVP_RTC30_G_gpuned_990F_VH.tif', '/home/jovyan/Kenn/2020/rtc_clipped/VH/S1B_IW_20200227T030248_DVP_RTC30_G_gpuned_80EF_VH.tif', '/home/jovyan/Kenn/2020/rtc_clipped/VH/S1B_IW_20200227T030314_DVP_RTC30_G_gpuned_7D25_VH.tif', '/home/jovyan/Kenn/2020/rtc_clipped/VH/S1A_IW_20200303T154804_DVP_RTC30_G_gpuned_0230_VH.tif', '/home/jovyan/Kenn/2020/rtc_clipped/VH/S1B_IW_20200308T031905_DVP_RTC30_G_gpuned_0C74_VH.tif', '/home/jovyan/Kenn/2020/rtc_clipped/VH/S1B_IW_20200308T031932_DVP_RTC30_G_gpuned_0BD8_VH.tif', '/home/jovyan/Kenn/2020/rtc_clipped/VH/S1A_IW_20200308T155623_DVP_RTC30_G_gpuned_EA40_VH.tif', '/home/jovyan/Kenn/2020/rtc_clipped/VH/S1B_IW_20200310T030249_DVP_RTC30_G_gpuned_C4C2_VH.tif', '/home/jovyan/Kenn/2020/rtc_clipped/VH/S1B_IW_20200310T030314_DVP_RTC30_G_gpuned_69C3_VH.tif', '/home/jovyan/Kenn/2020/rtc_clipped/VH/S1A_IW_20200315T154804_DVP_RTC30_G_gpuned_E70F_VH.tif', '/home/jovyan/Kenn/2020/rtc_clipped/VH/S1B_IW_20200320T031905_DVP_RTC30_G_gpuned_6ED5_VH.tif', '/home/jovyan/Kenn/2020/rtc_clipped/VH/S1B_IW_20200320T031933_DVP_RTC30_G_gpuned_2237_VH.tif', '/home/jovyan/Kenn/2020/rtc_clipped/VH/S1A_IW_20200320T155623_DVP_RTC30_G_gpuned_899F_VH.tif', '/home/jovyan/Kenn/2020/rtc_clipped/VH/S1B_IW_20200322T030249_DVP_RTC30_G_gpuned_C476_VH.tif', '/home/jovyan/Kenn/2020/rtc_clipped/VH/S1B_IW_20200322T030315_DVP_RTC30_G_gpuned_9F7B_VH.tif', '/home/jovyan/Kenn/2020/rtc_clipped/VH/S1A_IW_20200327T154805_DVP_RTC30_G_gpuned_06CA_VH.tif', '/home/jovyan/Kenn/2020/rtc_clipped/VH/S1B_IW_20200401T031905_DVP_RTC30_G_gpuned_D034_VH.tif', '/home/jovyan/Kenn/2020/rtc_clipped/VH/S1B_IW_20200401T031933_DVP_RTC30_G_gpuned_EBAD_VH.tif', '/home/jovyan/Kenn/2020/rtc_clipped/VH/S1A_IW_20200401T155623_DVP_RTC30_G_gpuned_F21A_VH.tif', '/home/jovyan/Kenn/2020/rtc_clipped/VH/S1B_IW_20200403T030249_DVP_RTC30_G_gpuned_D840_VH.tif', '/home/jovyan/Kenn/2020/rtc_clipped/VH/S1B_IW_20200403T030315_DVP_RTC30_G_gpuned_EF3D_VH.tif', '/home/jovyan/Kenn/2020/rtc_clipped/VH/S1A_IW_20200408T154805_DVP_RTC30_G_gpuned_7251_VH.tif', '/home/jovyan/Kenn/2020/rtc_clipped/VH/S1B_IW_20200413T031906_DVP_RTC30_G_gpuned_2F1A_VH.tif', '/home/jovyan/Kenn/2020/rtc_clipped/VH/S1B_IW_20200413T031933_DVP_RTC30_G_gpuned_89D5_VH.tif', '/home/jovyan/Kenn/2020/rtc_clipped/VH/S1A_IW_20200413T155623_DVP_RTC30_G_gpuned_52D9_VH.tif', '/home/jovyan/Kenn/2020/rtc_clipped/VH/S1B_IW_20200415T030250_DVP_RTC30_G_gpuned_9868_VH.tif', '/home/jovyan/Kenn/2020/rtc_clipped/VH/S1B_IW_20200415T030315_DVP_RTC30_G_gpuned_DDF5_VH.tif', '/home/jovyan/Kenn/2020/rtc_clipped/VH/S1A_IW_20200420T154805_DVP_RTC30_G_gpuned_2232_VH.tif', '/home/jovyan/Kenn/2020/rtc_clipped/VH/S1B_IW_20200425T031906_DVP_RTC30_G_gpuned_7C7C_VH.tif', '/home/jovyan/Kenn/2020/rtc_clipped/VH/S1B_IW_20200425T031934_DVP_RTC30_G_gpuned_F2CF_VH.tif', '/home/jovyan/Kenn/2020/rtc_clipped/VH/S1A_IW_20200425T155624_DVP_RTC30_G_gpuned_16AD_VH.tif', '/home/jovyan/Kenn/2020/rtc_clipped/VH/S1B_IW_20200427T030250_DVP_RTC30_G_gpuned_C6D8_VH.tif', '/home/jovyan/Kenn/2020/rtc_clipped/VH/S1B_IW_20200427T030316_DVP_RTC30_G_gpuned_FA87_VH.tif', '/home/jovyan/Kenn/2020/rtc_clipped/VH/S1A_IW_20200502T154806_DVP_RTC30_G_gpuned_EF7A_VH.tif', '/home/jovyan/Kenn/2020/rtc_clipped/VH/S1B_IW_20200507T031907_DVP_RTC30_G_gpuned_A457_VH.tif', '/home/jovyan/Kenn/2020/rtc_clipped/VH/S1B_IW_20200507T031934_DVP_RTC30_G_gpuned_A7F0_VH.tif', '/home/jovyan/Kenn/2020/rtc_clipped/VH/S1A_IW_20200507T155624_DVP_RTC30_G_gpuned_BC21_VH.tif', '/home/jovyan/Kenn/2020/rtc_clipped/VH/S1B_IW_20200509T030251_DVP_RTC30_G_gpuned_CE7C_VH.tif', '/home/jovyan/Kenn/2020/rtc_clipped/VH/S1B_IW_20200509T030316_DVP_RTC30_G_gpuned_3218_VH.tif', '/home/jovyan/Kenn/2020/rtc_clipped/VH/S1A_IW_20200514T154807_DVP_RTC30_G_gpuned_E920_VH.tif', '/home/jovyan/Kenn/2020/rtc_clipped/VH/S1B_IW_20200519T031907_DVP_RTC30_G_gpuned_97FF_VH.tif', '/home/jovyan/Kenn/2020/rtc_clipped/VH/S1B_IW_20200519T031935_DVP_RTC30_G_gpuned_4159_VH.tif', '/home/jovyan/Kenn/2020/rtc_clipped/VH/S1A_IW_20200519T155625_DVP_RTC30_G_gpuned_DA7D_VH.tif', '/home/jovyan/Kenn/2020/rtc_clipped/VH/S1B_IW_20200521T030251_DVP_RTC30_G_gpuned_79ED_VH.tif', '/home/jovyan/Kenn/2020/rtc_clipped/VH/S1B_IW_20200521T030317_DVP_RTC30_G_gpuned_BE75_VH.tif', '/home/jovyan/Kenn/2020/rtc_clipped/VH/S1A_IW_20200526T154807_DVP_RTC30_G_gpuned_9BD3_VH.tif', '/home/jovyan/Kenn/2020/rtc_clipped/VH/S1B_IW_20200531T031908_DVP_RTC30_G_gpuned_498A_VH.tif', '/home/jovyan/Kenn/2020/rtc_clipped/VH/S1B_IW_20200531T031936_DVP_RTC30_G_gpuned_C3C9_VH.tif', '/home/jovyan/Kenn/2020/rtc_clipped/VH/S1A_IW_20200531T155626_DVP_RTC30_G_gpuned_4318_VH.tif', '/home/jovyan/Kenn/2020/rtc_clipped/VH/S1A_IW_20200607T154808_DVP_RTC30_G_gpuned_7997_VH.tif', '/home/jovyan/Kenn/2020/rtc_clipped/VH/S1B_IW_20200612T031909_DVP_RTC30_G_gpuned_B131_VH.tif', '/home/jovyan/Kenn/2020/rtc_clipped/VH/S1B_IW_20200612T031936_DVP_RTC30_G_gpuned_9895_VH.tif', '/home/jovyan/Kenn/2020/rtc_clipped/VH/S1A_IW_20200612T155627_DVP_RTC30_G_gpuned_750D_VH.tif', '/home/jovyan/Kenn/2020/rtc_clipped/VH/S1B_IW_20200614T030253_DVP_RTC30_G_gpuned_1624_VH.tif', '/home/jovyan/Kenn/2020/rtc_clipped/VH/S1B_IW_20200614T030319_DVP_RTC30_G_gpuned_E968_VH.tif', '/home/jovyan/Kenn/2020/rtc_clipped/VH/S1A_IW_20200619T154809_DVP_RTC30_G_gpuned_B55D_VH.tif', '/home/jovyan/Kenn/2020/rtc_clipped/VH/S1B_IW_20200624T031909_DVP_RTC30_G_gpuned_B97A_VH.tif', '/home/jovyan/Kenn/2020/rtc_clipped/VH/S1B_IW_20200624T031937_DVP_RTC30_G_gpuned_4862_VH.tif', '/home/jovyan/Kenn/2020/rtc_clipped/VH/S1A_IW_20200624T155627_DVP_RTC30_G_gpuned_C392_VH.tif', '/home/jovyan/Kenn/2020/rtc_clipped/VH/S1B_IW_20200626T030253_DVP_RTC30_G_gpuned_15D6_VH.tif', '/home/jovyan/Kenn/2020/rtc_clipped/VH/S1B_IW_20200626T030319_DVP_RTC30_G_gpuned_047F_VH.tif', '/home/jovyan/Kenn/2020/rtc_clipped/VH/S1A_IW_20200701T154809_DVP_RTC30_G_gpuned_AF0E_VH.tif', '/home/jovyan/Kenn/2020/rtc_clipped/VH/S1B_IW_20200706T031910_DVP_RTC30_G_gpuned_4751_VH.tif', '/home/jovyan/Kenn/2020/rtc_clipped/VH/S1B_IW_20200706T031938_DVP_RTC30_G_gpuned_5068_VH.tif', '/home/jovyan/Kenn/2020/rtc_clipped/VH/S1A_IW_20200706T155628_DVP_RTC30_G_gpuned_EBE2_VH.tif', '/home/jovyan/Kenn/2020/rtc_clipped/VH/S1B_IW_20200708T030254_DVP_RTC30_G_gpuned_1F3E_VH.tif', '/home/jovyan/Kenn/2020/rtc_clipped/VH/S1B_IW_20200708T030320_DVP_RTC30_G_gpuned_D5E9_VH.tif', '/home/jovyan/Kenn/2020/rtc_clipped/VH/S1A_IW_20200713T154810_DVP_RTC30_G_gpuned_E48E_VH.tif', '/home/jovyan/Kenn/2020/rtc_clipped/VH/S1B_IW_20200718T031911_DVP_RTC30_G_gpuned_C282_VH.tif', '/home/jovyan/Kenn/2020/rtc_clipped/VH/S1B_IW_20200718T031938_DVP_RTC30_G_gpuned_F44C_VH.tif', '/home/jovyan/Kenn/2020/rtc_clipped/VH/S1A_IW_20200718T155629_DVP_RTC30_G_gpuned_2809_VH.tif', '/home/jovyan/Kenn/2020/rtc_clipped/VH/S1B_IW_20200720T030255_DVP_RTC30_G_gpuned_44D6_VH.tif', '/home/jovyan/Kenn/2020/rtc_clipped/VH/S1B_IW_20200720T030321_DVP_RTC30_G_gpuned_FC4F_VH.tif', '/home/jovyan/Kenn/2020/rtc_clipped/VH/S1A_IW_20200725T154811_DVP_RTC30_G_gpuned_023D_VH.tif', '/home/jovyan/Kenn/2020/rtc_clipped/VH/S1B_IW_20200730T031912_DVP_RTC30_G_gpuned_06F7_VH.tif', '/home/jovyan/Kenn/2020/rtc_clipped/VH/S1B_IW_20200730T031939_DVP_RTC30_G_gpuned_352C_VH.tif', '/home/jovyan/Kenn/2020/rtc_clipped/VH/S1A_IW_20200730T155629_DVP_RTC30_G_gpuned_709E_VH.tif', '/home/jovyan/Kenn/2020/rtc_clipped/VH/S1B_IW_20200801T030256_DVP_RTC30_G_gpuned_0FCA_VH.tif', '/home/jovyan/Kenn/2020/rtc_clipped/VH/S1B_IW_20200801T030321_DVP_RTC30_G_gpuned_7462_VH.tif', '/home/jovyan/Kenn/2020/rtc_clipped/VH/S1A_IW_20200806T154811_DVP_RTC30_G_gpuned_6A5A_VH.tif', '/home/jovyan/Kenn/2020/rtc_clipped/VH/S1B_IW_20200811T031912_DVP_RTC30_G_gpuned_D8CA_VH.tif', '/home/jovyan/Kenn/2020/rtc_clipped/VH/S1B_IW_20200811T031940_DVP_RTC30_G_gpuned_28C3_VH.tif', '/home/jovyan/Kenn/2020/rtc_clipped/VH/S1A_IW_20200811T155630_DVP_RTC30_G_gpuned_FE2B_VH.tif', '/home/jovyan/Kenn/2020/rtc_clipped/VH/S1B_IW_20200813T030256_DVP_RTC30_G_gpuned_5CC2_VH.tif', '/home/jovyan/Kenn/2020/rtc_clipped/VH/S1B_IW_20200813T030322_DVP_RTC30_G_gpuned_1D03_VH.tif', '/home/jovyan/Kenn/2020/rtc_clipped/VH/S1A_IW_20200818T154812_DVP_RTC30_G_gpuned_16B3_VH.tif', '/home/jovyan/Kenn/2020/rtc_clipped/VH/S1B_IW_20200823T031913_DVP_RTC30_G_gpuned_9418_VH.tif', '/home/jovyan/Kenn/2020/rtc_clipped/VH/S1B_IW_20200823T031941_DVP_RTC30_G_gpuned_1912_VH.tif', '/home/jovyan/Kenn/2020/rtc_clipped/VH/S1A_IW_20200823T155631_DVP_RTC30_G_gpuned_4741_VH.tif', '/home/jovyan/Kenn/2020/rtc_clipped/VH/S1B_IW_20200825T030257_DVP_RTC30_G_gpuned_7CB5_VH.tif', '/home/jovyan/Kenn/2020/rtc_clipped/VH/S1B_IW_20200825T030323_DVP_RTC30_G_gpuned_7072_VH.tif', '/home/jovyan/Kenn/2020/rtc_clipped/VH/S1A_IW_20200830T154813_DVP_RTC30_G_gpuned_3343_VH.tif', '/home/jovyan/Kenn/2020/rtc_clipped/VH/S1B_IW_20200904T031914_DVP_RTC30_G_gpuned_556E_VH.tif', '/home/jovyan/Kenn/2020/rtc_clipped/VH/S1B_IW_20200904T031941_DVP_RTC30_G_gpuned_8A17_VH.tif', '/home/jovyan/Kenn/2020/rtc_clipped/VH/S1A_IW_20200904T155631_DVP_RTC30_G_gpuned_CF5C_VH.tif', '/home/jovyan/Kenn/2020/rtc_clipped/VH/S1B_IW_20200906T030258_DVP_RTC30_G_gpuned_797D_VH.tif', '/home/jovyan/Kenn/2020/rtc_clipped/VH/S1B_IW_20200906T030323_DVP_RTC30_G_gpuned_9E6B_VH.tif', '/home/jovyan/Kenn/2020/rtc_clipped/VH/S1A_IW_20200911T154813_DVP_RTC30_G_gpuned_29CA_VH.tif', '/home/jovyan/Kenn/2020/rtc_clipped/VH/S1B_IW_20200916T031914_DVP_RTC30_G_gpuned_114A_VH.tif', '/home/jovyan/Kenn/2020/rtc_clipped/VH/S1B_IW_20200916T031942_DVP_RTC30_G_gpuned_8434_VH.tif', '/home/jovyan/Kenn/2020/rtc_clipped/VH/S1A_IW_20200916T155632_DVP_RTC30_G_gpuned_B981_VH.tif', '/home/jovyan/Kenn/2020/rtc_clipped/VH/S1B_IW_20200918T030258_DVP_RTC30_G_gpuned_CB64_VH.tif', '/home/jovyan/Kenn/2020/rtc_clipped/VH/S1B_IW_20200918T030324_DVP_RTC30_G_gpuned_6B9E_VH.tif', '/home/jovyan/Kenn/2020/rtc_clipped/VH/S1A_IW_20200923T154814_DVP_RTC30_G_gpuned_623F_VH.tif', '/home/jovyan/Kenn/2020/rtc_clipped/VH/S1B_IW_20200928T031914_DVP_RTC30_G_gpuned_6797_VH.tif', '/home/jovyan/Kenn/2020/rtc_clipped/VH/S1B_IW_20200928T031942_DVP_RTC30_G_gpuned_03BF_VH.tif', '/home/jovyan/Kenn/2020/rtc_clipped/VH/S1A_IW_20200928T155632_DVP_RTC30_G_gpuned_6B78_VH.tif', '/home/jovyan/Kenn/2020/rtc_clipped/VH/S1B_IW_20200930T030258_DVP_RTC30_G_gpuned_409D_VH.tif', '/home/jovyan/Kenn/2020/rtc_clipped/VH/S1B_IW_20200930T030324_DVP_RTC30_G_gpuned_A1B4_VH.tif', '/home/jovyan/Kenn/2020/rtc_clipped/VH/S1A_IW_20201005T154814_DVP_RTC30_G_gpuned_BF2E_VH.tif', '/home/jovyan/Kenn/2020/rtc_clipped/VH/S1B_IW_20201010T031915_DVP_RTC30_G_gpuned_9EEF_VH.tif', '/home/jovyan/Kenn/2020/rtc_clipped/VH/S1B_IW_20201010T031942_DVP_RTC30_G_gpuned_BE8D_VH.tif', '/home/jovyan/Kenn/2020/rtc_clipped/VH/S1A_IW_20201010T155632_DVP_RTC30_G_gpuned_0FE7_VH.tif', '/home/jovyan/Kenn/2020/rtc_clipped/VH/S1B_IW_20201012T030258_DVP_RTC30_G_gpuned_513E_VH.tif', '/home/jovyan/Kenn/2020/rtc_clipped/VH/S1B_IW_20201012T030324_DVP_RTC30_G_gpuned_DFE0_VH.tif', '/home/jovyan/Kenn/2020/rtc_clipped/VH/S1A_IW_20201017T154814_DVP_RTC30_G_gpuned_A10E_VH.tif', '/home/jovyan/Kenn/2020/rtc_clipped/VH/S1A_IW_20201022T155632_DVP_RTC30_G_gpuned_F4A9_VH.tif', '/home/jovyan/Kenn/2020/rtc_clipped/VH/S1B_IW_20201024T030258_DVP_RTC30_G_gpuned_D31B_VH.tif', '/home/jovyan/Kenn/2020/rtc_clipped/VH/S1B_IW_20201024T030324_DVP_RTC30_G_gpuned_A292_VH.tif', '/home/jovyan/Kenn/2020/rtc_clipped/VH/S1B_IW_20201103T031915_DVP_RTC30_G_gpuned_C336_VH.tif', '/home/jovyan/Kenn/2020/rtc_clipped/VH/S1B_IW_20201103T031942_DVP_RTC30_G_gpuned_CF48_VH.tif', '/home/jovyan/Kenn/2020/rtc_clipped/VH/S1A_IW_20201103T155632_DVP_RTC30_G_gpuned_FF42_VH.tif', '/home/jovyan/Kenn/2020/rtc_clipped/VH/S1B_IW_20201105T030258_DVP_RTC30_G_gpuned_3351_VH.tif', '/home/jovyan/Kenn/2020/rtc_clipped/VH/S1B_IW_20201105T030324_DVP_RTC30_G_gpuned_C336_VH.tif', '/home/jovyan/Kenn/2020/rtc_clipped/VH/S1A_IW_20201110T154814_DVP_RTC30_G_gpuned_5809_VH.tif', '/home/jovyan/Kenn/2020/rtc_clipped/VH/S1B_IW_20201115T031914_DVP_RTC30_G_gpuned_85FB_VH.tif', '/home/jovyan/Kenn/2020/rtc_clipped/VH/S1B_IW_20201115T031942_DVP_RTC30_G_gpuned_134E_VH.tif', '/home/jovyan/Kenn/2020/rtc_clipped/VH/S1A_IW_20201115T155632_DVP_RTC30_G_gpuned_A382_VH.tif', '/home/jovyan/Kenn/2020/rtc_clipped/VH/S1B_IW_20201117T030258_DVP_RTC30_G_gpuned_D1EE_VH.tif', '/home/jovyan/Kenn/2020/rtc_clipped/VH/S1B_IW_20201117T030324_DVP_RTC30_G_gpuned_2C22_VH.tif', '/home/jovyan/Kenn/2020/rtc_clipped/VH/S1A_IW_20201122T154814_DVP_RTC30_G_gpuned_142C_VH.tif', '/home/jovyan/Kenn/2020/rtc_clipped/VH/S1B_IW_20201127T031914_DVP_RTC30_G_gpuned_FB5D_VH.tif', '/home/jovyan/Kenn/2020/rtc_clipped/VH/S1B_IW_20201127T031942_DVP_RTC30_G_gpuned_2A44_VH.tif', '/home/jovyan/Kenn/2020/rtc_clipped/VH/S1A_IW_20201127T155632_DVP_RTC30_G_gpuned_DC5B_VH.tif', '/home/jovyan/Kenn/2020/rtc_clipped/VH/S1B_IW_20201129T030258_DVP_RTC30_G_gpuned_98FD_VH.tif', '/home/jovyan/Kenn/2020/rtc_clipped/VH/S1B_IW_20201129T030324_DVP_RTC30_G_gpuned_60C1_VH.tif', '/home/jovyan/Kenn/2020/rtc_clipped/VH/S1A_IW_20201204T154813_DVP_RTC30_G_gpuned_FB6B_VH.tif', '/home/jovyan/Kenn/2020/rtc_clipped/VH/S1B_IW_20201209T031913_DVP_RTC30_G_gpuned_8063_VH.tif', '/home/jovyan/Kenn/2020/rtc_clipped/VH/S1B_IW_20201209T031941_DVP_RTC30_G_gpuned_0E79_VH.tif', '/home/jovyan/Kenn/2020/rtc_clipped/VH/S1A_IW_20201209T155631_DVP_RTC30_G_gpuned_3C76_VH.tif', '/home/jovyan/Kenn/2020/rtc_clipped/VH/S1B_IW_20201211T030257_DVP_RTC30_G_gpuned_57B8_VH.tif', '/home/jovyan/Kenn/2020/rtc_clipped/VH/S1B_IW_20201211T030323_DVP_RTC30_G_gpuned_B6A9_VH.tif', '/home/jovyan/Kenn/2020/rtc_clipped/VH/S1A_IW_20201216T154813_DVP_RTC30_G_gpuned_BB5C_VH.tif', '/home/jovyan/Kenn/2020/rtc_clipped/VH/S1B_IW_20201221T031913_DVP_RTC30_G_gpuned_B38A_VH.tif', '/home/jovyan/Kenn/2020/rtc_clipped/VH/S1B_IW_20201221T031940_DVP_RTC30_G_gpuned_847D_VH.tif', '/home/jovyan/Kenn/2020/rtc_clipped/VH/S1A_IW_20201221T155631_DVP_RTC30_G_gpuned_CA61_VH.tif', '/home/jovyan/Kenn/2020/rtc_clipped/VH/S1B_IW_20201223T030257_DVP_RTC30_G_gpuned_45A6_VH.tif', '/home/jovyan/Kenn/2020/rtc_clipped/VH/S1B_IW_20201223T030322_DVP_RTC30_G_gpuned_2A0C_VH.tif', '/home/jovyan/Kenn/2020/rtc_clipped/VH/S1A_IW_20201228T154812_DVP_RTC30_G_gpuned_3E24_VH.tif')\n"
     ]
    },
    {
     "name": "stderr",
     "output_type": "stream",
     "text": [
      "/home/jovyan/.local/envs/rtc_analysis/lib/python3.9/site-packages/numpy/lib/npyio.py:518: VisibleDeprecationWarning: Creating an ndarray from ragged nested sequences (which is a list-or-tuple of lists-or-tuples-or ndarrays with different lengths or shapes) is deprecated. If you meant to do this, you must specify 'dtype=object' when creating the ndarray.\n",
      "  arr = np.asanyarray(arr)\n"
     ]
    }
   ],
   "source": [
    "#NOTE: Results must already be defined and refined\n",
    "usepol=\"VH\"\n",
    "\n",
    "mnamelist = []\n",
    "mdatelist = []\n",
    "mpflist = []\n",
    "mpfulist = []\n",
    "\n",
    "# products = glob.glob(f'{str(products_path)}/*')\n",
    "# clipped_path = analysis_directory/\"rtc_clipped\"\n",
    "# products = glob.glob(f'{str(clipped_path)}/*')\n",
    "files = (clipped_path/usepol).glob('*.tif')\n",
    "filelist = []\n",
    "pdatelist = []\n",
    "pnamelist = []\n",
    "# print(results)\n",
    "\n",
    "for f in files:\n",
    "    # print(f)\n",
    "    pdatelist.append(getSARdate(f))\n",
    "    filelist.append(f)\n",
    "\n",
    "# print(pdatelist)\n",
    "pdatelist=np.array(pdatelist)\n",
    "filelist = np.array(filelist)\n",
    "# print(len(products))\n",
    "# print(len(pdatelist))\n",
    "for res in results:\n",
    "    res = res.properties\n",
    "    rdate = datetime.strptime(res['startTime'],'%Y-%m-%dT%H:%M:%S.%f')\n",
    "    pind = np.where(rdate==pdatelist)\n",
    "    # print(pind)\n",
    "    if len(pind)==1:\n",
    "        pind = pind[0][0]\n",
    "        pnamelist.append(str(filelist[pind]))\n",
    "        rpf = res['pathNumber']+'-'+res['frameNumber']\n",
    "        mpflist.append(rpf)\n",
    "        mnamelist.append(res['sceneName'])\n",
    "        mdatelist.append(rdate)\n",
    "    else:\n",
    "        print('WARNING: Missing product')\n",
    "        print(res['sceneName'])\n",
    "    \n",
    "pfunique = np.unique(mpflist)\n",
    "mpfulist = [np.where(pfunique==i)[0][0] for i in mpflist]\n",
    "arraykey = ['arraykey','pnamelist','mnamelist','mdatelist','mpflist','mpfulist']\n",
    "\n",
    "arraykey = np.asanyarray(arraykey)\n",
    "pnamelist = np.array(pnamelist)\n",
    "mnamelist = np.array(mnamelist)\n",
    "mdatelist = np.array(mdatelist)\n",
    "mpflist = np.array(mpflist)\n",
    "mpfulist = np.array(mpfulist)\n",
    "\n",
    "mdatelist,pnamelist,mnamelist,mpflist,mpfulist = zip(*sorted(zip(mdatelist,pnamelist,mnamelist,mpflist,mpfulist)))\n",
    "\n",
    "np.save(f'{str(data_dir)}/imgmeta_{usepol}.npy',(arraykey,pnamelist,mnamelist,mdatelist,mpflist,mpfulist))\n",
    "\n",
    "print(mdatelist)\n",
    "print(pnamelist)\n",
    "    # print(res['sceneName'])\n",
    "    # print(np.where(rdate==pdatelist))\n",
    "    # rpf = res['pathNumber']+'-'+res['frameNumber']\n",
    "    # res['datetime']=rdate\n",
    "    # res['pfval'] = rpf\n",
    "    # datelist.append(rdate)\n",
    "    # pflist.append(rpf)\n",
    "\n",
    "    \n",
    "# pfunique = np.unique(pflist)\n",
    "# pfvals = pflist\n",
    "# pflist = [np.where(pfunique==i)[0][0] for i in pflist]"
   ]
  }
 ],
 "metadata": {
  "kernelspec": {
   "display_name": "rtc_analysis",
   "language": "python",
   "name": "conda-env-.local-rtc_analysis-py"
  },
  "language_info": {
   "codemirror_mode": {
    "name": "ipython",
    "version": 3
   },
   "file_extension": ".py",
   "mimetype": "text/x-python",
   "name": "python",
   "nbconvert_exporter": "python",
   "pygments_lexer": "ipython3",
   "version": "3.9.10"
  }
 },
 "nbformat": 4,
 "nbformat_minor": 5
}
