{
 "cells": [
  {
   "cell_type": "markdown",
   "id": "f629ba05-7fa9-449b-887c-eaa4f83b33c7",
   "metadata": {},
   "source": [
    "## Acquire images\n",
    "\n",
    "This notebook will:\n",
    "\n",
    "* Section 1: For a given bounding box and year, find all SAR images in that region. Get some stats on them\n",
    "* Section 2: Filter out images from scenes that don't have sufficient preceding winter imagery for melt detection\n",
    "* Section 3: Run ASF Hyp3 RTC processing\n",
    "* Section 4: Download the data. Reproject it immedately and save only the smaller image. Does that work? I thought I would have to have EPSG vals? This will have to get figured out"
   ]
  },
  {
   "cell_type": "markdown",
   "id": "9a48161b-eb88-4715-a5a0-a549fbc9624d",
   "metadata": {},
   "source": [
    "### Preamble\n",
    "Prepare to do stuff"
   ]
  },
  {
   "cell_type": "code",
   "execution_count": 1,
   "id": "31ab6cac-f1dc-4e1d-8ee3-f35edcd60941",
   "metadata": {},
   "outputs": [
    {
     "data": {
      "application/vnd.jupyter.widget-view+json": {
       "model_id": "c64e1d2ae79847ff9f965fd40390e1a8",
       "version_major": 2,
       "version_minor": 0
      },
      "text/plain": [
       "URLWidget()"
      ]
     },
     "metadata": {},
     "output_type": "display_data"
    }
   ],
   "source": [
    "import url_widget as url_w\n",
    "notebookUrl = url_w.URLWidget()\n",
    "display(notebookUrl)\n",
    "\n",
    "notebookUrl = notebookUrl.value\n",
    "user = !echo $JUPYTERHUB_USER\n",
    "env = !echo $CONDA_PREFIX\n",
    "\n",
    "#capture\n",
    "from datetime import datetime\n",
    "import glob\n",
    "import json # for loads\n",
    "import os\n",
    "from pathlib import Path\n",
    "import pytz\n",
    "import re\n",
    "import shutil\n",
    "import asf_search as asf\n",
    "from zipfile import ZipFile\n",
    "import time\n",
    "import fnmatch\n",
    "\n",
    "from matplotlib import pyplot as plt\n",
    "#Writing Support Functions:\n",
    "\n",
    "import numpy as np\n",
    "from osgeo import gdal,osr\n",
    "\n",
    "from IPython.display import HTML, display, clear_output, Markdown\n",
    "    \n",
    "from hyp3_sdk import Batch, HyP3\n",
    "\n",
    "import opensarlab_lib as asfn"
   ]
  },
  {
   "cell_type": "code",
   "execution_count": 3,
   "id": "0df7713c-ce0f-4dbd-a83a-1243c2411ab1",
   "metadata": {
    "tags": []
   },
   "outputs": [
    {
     "name": "stdout",
     "output_type": "stream",
     "text": [
      "analysis_directory: /home/jovyan/Kenn/2019\n",
      "/home/jovyan/Kenn/2019/rtc_download\n",
      "/home/jovyan/Kenn/2019/rtc_products\n",
      "/home/jovyan/Kenn/2019/rtc_clipped\n"
     ]
    }
   ],
   "source": [
    "##NAME PROJECT###\n",
    "projdir = Path.home()\n",
    "projname = 'Kenn'\n",
    "year = 2019\n",
    "data_dir=Path(f'{projdir}/{projname}/{str(year)}')\n",
    "pols = ['VV','VH']\n",
    "\n",
    "# Setting Paths\n",
    "analysis_directory = Path.cwd()/data_dir\n",
    "print(f\"analysis_directory: {analysis_directory}\")\n",
    "\n",
    "download_path = analysis_directory/\"rtc_download\"\n",
    "# download_path.mkdir()\n",
    "products_path = analysis_directory/\"rtc_products\"\n",
    "# products_path.mkdir()\n",
    "clipped_path = analysis_directory/\"rtc_clipped\"\n",
    "\n",
    "print(download_path)\n",
    "print(products_path)\n",
    "print(clipped_path)\n",
    "\n",
    "os.makedirs(data_dir,exist_ok=True)\n",
    "os.makedirs(download_path,exist_ok=True)\n",
    "os.makedirs(products_path,exist_ok=True)\n",
    "os.makedirs(analysis_directory/\"figures\",exist_ok=True)\n",
    "os.makedirs(clipped_path,exist_ok=True)\n",
    "for pol in pols:\n",
    "    os.makedirs(clipped_path/pol,exist_ok=True)\n",
    "\n",
    "# print(os.path.exists(data_dir))"
   ]
  },
  {
   "cell_type": "code",
   "execution_count": 7,
   "id": "247df810-10d2-4d18-b9b4-1ada4ab5c4f0",
   "metadata": {
    "tags": []
   },
   "outputs": [],
   "source": [
    "# def timediff(time1,time2,form='seconds'):\n",
    "#     '''time difference between time2 and time1 expressed as either days or seconds'''\n",
    "#     # dd = 1\n",
    "#     # if time1>time2:\n",
    "#     #     dd=1\n",
    "#     diff = time2-time1\n",
    "#     if form=='seconds':\n",
    "#         diff = diff.seconds+diff.days*86400\n",
    "#     elif form=='days':\n",
    "#         diff = diff.seconds/86400+diff.days\n",
    "#     return diff"
   ]
  },
  {
   "cell_type": "markdown",
   "id": "2088a5e7-6ded-4a0f-bfeb-cd224b77e154",
   "metadata": {
    "tags": []
   },
   "source": [
    "## Find SAR Images\n",
    "\n",
    "Find the SAR images, run some statistics on their frequency, and queue them for Hyp3 processing"
   ]
  },
  {
   "cell_type": "code",
   "execution_count": 30,
   "id": "e130110c-4820-4570-ac68-7d50dc54f98e",
   "metadata": {
    "tags": []
   },
   "outputs": [],
   "source": [
    "#testpolygon = POLYGON((-143.1356 61.7756,-143.3698 61.7793,-143.5279 61.7044,-143.3824 61.6052,-143.0614 61.4737,-142.9854 61.4144,-142.804 61.4292,-142.7358 61.5912,-142.5978 61.6494,-142.6707 61.7523,-142.9699 61.7839,-143.1356 61.7756))\n",
    "# WTKstr='POLYGON((-143.4858 61.4239,-142.5307 61.4239,-142.5307 61.7757,-143.4858 61.7757,-143.4858 61.4239))' #Kennicott\n",
    "WTKstr='POLYGON((-144.5124 61.8108,-143.2512 61.8108,-143.2512 62.1938,-144.5124 62.1938,-144.5124 61.8108))' #Mt Warrgol\n",
    "# testWTK='POLYGON((-134.5463 58.5889,-133.8663 58.5889,-133.8663 58.7656,-134.5463 58.7656,-134.5463 58.5889))' #SE AK icefield\n",
    "# testWTK='POLYGON((-18.2664 63.9706,-15.2442 63.9706,-15.2442 64.9461,-18.2664 64.9461,-18.2664 63.9706))' #iceland\n",
    "# testWTK='POLYGON((15.123 78.0197,16.9688 78.0197,16.9688 78.2449,15.123 78.2449,15.123 78.0197))' #svalbard\n",
    "# testWTK = 'POLYGON((-140.264 60.3786,-140.0853 60.3786,-140.0853 60.4539,-140.264 60.4539,-140.264 60.3786))'\n",
    "# testWTK='POLYGON((-50.0733 70.6347,-47.6859 70.6347,-47.6859 71.1109,-50.0733 71.1109,-50.0733 70.6347))' #west greenland\n",
    "\n",
    "year = 2019\n",
    "# results = asf.geo_search(platform=[asf.PLATFORM.SENTINEL1], intersectsWith=WTKstr, maxResults=1000,start=f'{year}-01-01',\n",
    "#                          end=f'{year+1}-01-01',processingLevel='SLC')\n",
    "\n",
    "# datelist = []\n",
    "# pflist = [] #path-frame list\n",
    "# for res in results:\n",
    "#     res = res.properties\n",
    "#     rdate = datetime.strptime(res['startTime'],'%Y-%m-%dT%H:%M:%S.%f')\n",
    "#     rpf = res['pathNumber']+'-'+res['frameNumber']\n",
    "#     res['datetime']=rdate\n",
    "#     res['pfval'] = rpf\n",
    "#     datelist.append(rdate)\n",
    "#     pflist.append(rpf)\n",
    "\n",
    "    \n",
    "# pfunique = np.unique(pflist)\n",
    "# pfvals = pflist\n",
    "# pflist = [np.where(pfunique==i)[0][0] for i in pflist]\n",
    "\n",
    "# plt.figure()\n",
    "# plt.plot(datelist,pflist,'.',markersize=12)"
   ]
  },
  {
   "cell_type": "code",
   "execution_count": 17,
   "id": "43f79a2b-99ec-4dfb-93c9-52d47efa6125",
   "metadata": {
    "tags": []
   },
   "outputs": [],
   "source": [
    "# help(results[0])\n",
    "# results[0].properties"
   ]
  },
  {
   "cell_type": "code",
   "execution_count": 31,
   "id": "d366b6a6-d9b9-47e9-8726-003036ae97a1",
   "metadata": {
    "tags": []
   },
   "outputs": [],
   "source": [
    "# #remove images that have less than N winter scenes\n",
    "\n",
    "# N=4\n",
    "# wstart = datetime(year,1,1,0,0,0)\n",
    "# wend = datetime(year,4,1,1,0,0,0)\n",
    "# #result2 = results\n",
    "# pfremove=[]\n",
    "# trem = 0\n",
    "# #identify path-frames that do not meet requirements\n",
    "# for pf in pfunique:\n",
    "#     eles = [i for i in results if i.properties['pfval']==pf]\n",
    "#     datelist = np.array([i.properties['datetime'] for i in eles])\n",
    "#     dl2 = datelist[datelist > wstart]\n",
    "#     dl2 = dl2[dl2 < wend]\n",
    "#     if len(dl2)<N:\n",
    "#         pfremove.append(pf)\n",
    "#         trem += len(datelist)\n",
    "\n",
    "# #remove images from those path-frames\n",
    "# for res in results:\n",
    "#     if res.properties['pfval'] in pfremove:\n",
    "#         results.remove(res)\n",
    "            \n",
    "# print(f'total removed: {trem}')\n",
    "# # print(pfremove)\n",
    "\n",
    "# #now plot again:\n",
    "# datelist = [i.properties['datetime'] for i in results]\n",
    "# pflist = [i.properties['pfval'] for i in results]\n",
    "# pfunique = np.unique(pflist)\n",
    "# pflist = [np.where(pfunique==i)[0][0] for i in pflist]\n",
    "\n",
    "# plt.figure()\n",
    "# plt.plot(datelist,pflist,'.',markersize=12)"
   ]
  },
  {
   "cell_type": "code",
   "execution_count": 15,
   "id": "c9f131b7-a039-408d-8c0d-ad8441c509a2",
   "metadata": {
    "tags": []
   },
   "outputs": [],
   "source": [
    "#Give more stats:\n",
    "\n",
    "# dlsort = [i for i in datelist]\n",
    "# dlsort.sort()\n",
    "# dldelta = [timediff(dlsort[i],dlsort[i+1],form='days') for i in range(len(dlsort)-1)]\n",
    "# dldelta = np.array(dldelta)\n",
    "\n",
    "# print('Acquisition stats')\n",
    "# print(f'Number of acquisitions:       {len(dldelta)+1}')\n",
    "# print(f'Number of images >1min apart: {len(dldelta[dldelta>1/1440])+1}\\n')\n",
    "# print(f'Mean days apart:   {np.mean(dldelta):.3f}')\n",
    "# print(f'Mean days >1min:   {np.mean(dldelta[dldelta>1/1440]):.3f}')\n",
    "# print(f'Median days apart: {np.median(dldelta):.3f}')\n",
    "# print(f'Median days >1min: {np.median(dldelta[dldelta>1/1440]):.3f}')\n",
    "# print(f'Stdev days apart:  {np.std(dldelta):.3f}')\n",
    "# print(f'Longest gap:       {np.max(dldelta):.3f}')\n",
    "# print('Note: these are over the whole area, not necessarily by pixel')"
   ]
  },
  {
   "cell_type": "code",
   "execution_count": 24,
   "id": "526afff1-6352-472c-b230-21778230c6b8",
   "metadata": {
    "tags": []
   },
   "outputs": [],
   "source": [
    "#funcs for this kind of thing:\n",
    "\n",
    "def timediff(time1,time2,form='seconds'):\n",
    "    '''time difference between time2 and time1 expressed as either days or seconds'''\n",
    "    # dd = 1\n",
    "    # if time1>time2:\n",
    "    #     dd=1\n",
    "    diff = time2-time1\n",
    "    if form=='seconds':\n",
    "        diff = diff.seconds+diff.days*86400\n",
    "    elif form=='days':\n",
    "        diff = diff.seconds/86400+diff.days\n",
    "    return diff\n",
    "\n",
    "def getasfresults(WTKstr,year,trimresults=True,winterN=4,showplots=False,showstats=False):\n",
    "    \"\"\"trim results removes images if there are less than winterN number of winter scenes to establish the baseline\"\"\"\n",
    "    results = asf.geo_search(platform=[asf.PLATFORM.SENTINEL1], intersectsWith=WTKstr, maxResults=1000,start=f'{str(year)}-01-01',\n",
    "                         end=f'{str(year+1)}-01-01',processingLevel='SLC')\n",
    "\n",
    "    datelist = []\n",
    "    pflist = [] #path-frame list\n",
    "    for res in results:\n",
    "        res = res.properties\n",
    "        rdate = datetime.strptime(res['startTime'],'%Y-%m-%dT%H:%M:%S.%f')\n",
    "        rpf = res['pathNumber']+'-'+res['frameNumber']\n",
    "        res['datetime']=rdate\n",
    "        res['pfval'] = rpf\n",
    "        datelist.append(rdate)\n",
    "        pflist.append(rpf)\n",
    "\n",
    "\n",
    "    pfunique = np.unique(pflist)\n",
    "    pfvals = pflist\n",
    "    pflist = [np.where(pfunique==i)[0][0] for i in pflist]\n",
    "    \n",
    "    if showplots==True:\n",
    "        plt.figure()\n",
    "        plt.plot(datelist,pflist,'.',markersize=12)\n",
    "        \n",
    "    if trimresults==True:\n",
    "        wstart = datetime(year,1,1,0,0,0)\n",
    "        wend = datetime(year,4,1,1,0,0,0)\n",
    "        #result2 = results\n",
    "        pfremove=[]\n",
    "        trem = 0\n",
    "        #identify path-frames that do not meet requirements\n",
    "        for pf in pfunique:\n",
    "            eles = [i for i in results if i.properties['pfval']==pf]\n",
    "            datelist = np.array([i.properties['datetime'] for i in eles])\n",
    "            dl2 = datelist[datelist > wstart]\n",
    "            dl2 = dl2[dl2 < wend]\n",
    "            if len(dl2)<winterN:\n",
    "                pfremove.append(pf)\n",
    "                trem += len(datelist)\n",
    "\n",
    "        #remove images from those path-frames\n",
    "        for res in results:\n",
    "            if res.properties['pfval'] in pfremove:\n",
    "                results.remove(res)\n",
    "\n",
    "        print(f'total removed: {trem}')\n",
    "        # print(pfremove)\n",
    "        \n",
    "        #now plot again:\n",
    "        datelist = [i.properties['datetime'] for i in results]\n",
    "        pflist = [i.properties['pfval'] for i in results]\n",
    "        pfunique = np.unique(pflist)\n",
    "        pflist = [np.where(pfunique==i)[0][0] for i in pflist]\n",
    "\n",
    "        if showplots==True:\n",
    "            plt.figure()\n",
    "            plt.plot(datelist,pflist,'.',markersize=12)\n",
    "        \n",
    "    if showstats==True:\n",
    "        dlsort = [i for i in datelist]\n",
    "        dlsort.sort()\n",
    "        dldelta = [timediff(dlsort[i],dlsort[i+1],form='days') for i in range(len(dlsort)-1)]\n",
    "        dldelta = np.array(dldelta)\n",
    "\n",
    "        print('Acquisition stats')\n",
    "        print(f'Number of acquisitions:       {len(dldelta)+1}')\n",
    "        print(f'Number of images >1min apart: {len(dldelta[dldelta>1/1440])+1}\\n')\n",
    "        print(f'Mean days apart:   {np.mean(dldelta):.3f}')\n",
    "        print(f'Mean days >1min:   {np.mean(dldelta[dldelta>1/1440]):.3f}')\n",
    "        print(f'Median days apart: {np.median(dldelta):.3f}')\n",
    "        print(f'Median days >1min: {np.median(dldelta[dldelta>1/1440]):.3f}')\n",
    "        print(f'Stdev days apart:  {np.std(dldelta):.3f}')\n",
    "        print(f'Longest gap:       {np.max(dldelta):.3f}')\n",
    "        print('Note: these are over the whole area, not necessarily by pixel')\n",
    "        \n",
    "    return results"
   ]
  },
  {
   "cell_type": "code",
   "execution_count": 28,
   "id": "673b9700-c918-467a-8c96-b7fe904835ff",
   "metadata": {
    "tags": []
   },
   "outputs": [],
   "source": [
    "# results = getasfresults(WTKstr,year,showplots=True,showstats=True)\n",
    "# print(len(results))"
   ]
  },
  {
   "cell_type": "markdown",
   "id": "0cca386a-21e6-4945-a9ad-e39c4b63c839",
   "metadata": {
    "tags": []
   },
   "source": [
    "## Do Hyp3 Processing\n",
    "\n",
    "I need to:\n",
    "\n",
    "1. Identify all the images you want DONE\n",
    "2. Check if any of those are already RTC processed (not expired)\n",
    "3. Process all the remaining jobs => work that out\n",
    "4. Make a hyp3 object for the full list of jobs, with those done via new process and those done via old process\n",
    "5. download, extract, convert, and clip from those jobs"
   ]
  },
  {
   "cell_type": "code",
   "execution_count": 3,
   "id": "26b64e2b-2741-4190-8970-2b83f00b1470",
   "metadata": {
    "tags": []
   },
   "outputs": [
    {
     "name": "stdin",
     "output_type": "stream",
     "text": [
      "NASA Earthdata Login username:  acjohnson16\n",
      "NASA Earthdata Login password:  ·········\n"
     ]
    }
   ],
   "source": [
    "hyp3 = HyP3(prompt=True)"
   ]
  },
  {
   "cell_type": "code",
   "execution_count": 29,
   "id": "b4d7e454-99b9-426e-94d7-3ab1a4f34532",
   "metadata": {
    "tags": []
   },
   "outputs": [
    {
     "name": "stdout",
     "output_type": "stream",
     "text": [
      "total removed: 0\n",
      "Acquisition stats\n",
      "Number of acquisitions:       129\n",
      "Number of images >1min apart: 129\n",
      "\n",
      "Mean days apart:   2.828\n",
      "Mean days >1min:   2.828\n",
      "Median days apart: 1.463\n",
      "Median days >1min: 1.463\n",
      "Stdev days apart:  2.131\n",
      "Longest gap:       10.011\n",
      "Note: these are over the whole area, not necessarily by pixel\n",
      "total removed: 0\n"
     ]
    },
    {
     "data": {
      "image/png": "[encoded data removed]",
      "text/plain": [
       "<Figure size 432x288 with 1 Axes>"
      ]
     },
     "metadata": {
      "needs_background": "light"
     },
     "output_type": "display_data"
    },
    {
     "data": {
      "image/png": "[encoded data removed]",
      "text/plain": [
       "<Figure size 432x288 with 1 Axes>"
      ]
     },
     "metadata": {
      "needs_background": "light"
     },
     "output_type": "display_data"
    }
   ],
   "source": [
    "#Get_Data\n",
    "\n",
    "readyproducts = hyp3.find_jobs()\n",
    "\n",
    "readyproducts = readyproducts.filter_jobs(succeeded=True,include_expired=False)\n",
    "readyprodnames = [i.job_parameters['granules'][0] for i in readyproducts]\n",
    "\n",
    "results = getasfresults(WTKstr,year,showplots=True,showstats=True)\n",
    "dojobs = results\n",
    "\n",
    "for job in dojobs:\n",
    "    if job.properties['sceneName'] in readyprodnames:\n",
    "        dojobs.remove(job)\n",
    "results = getasfresults(WTKstr,year)\n"
   ]
  },
  {
   "cell_type": "code",
   "execution_count": 14,
   "id": "378c3e51-f044-4892-8272-af5fad1472c7",
   "metadata": {
    "tags": []
   },
   "outputs": [
    {
     "name": "stdout",
     "output_type": "stream",
     "text": [
      "773\n",
      "{'job_names': ['BSI_test2', 'BSI_test3', 'Greenland_test1', 'Hidden Lake Single', 'Kenn_19_notebook', 'Kenn_20_notebook', 'Kenn_20_notebook_2', 'Kenn_21_alt', 'Kenn_21_full', 'Kenn_21_notebook', 'Kennicott_21', 'Kennicott_Dec20', 'Kennicott_Jul21_test', 'LarsenC Single', 'Ronne_July21', 'Utk_test1', 'Wilkins Apr_17'], 'quota': {'max_jobs_per_month': 1000, 'remaining': 646}, 'user_id': 'acjohnson16'}\n"
     ]
    }
   ],
   "source": [
    "# test = hyp3.find_jobs()\n",
    "# print(len(test))\n",
    "# # print(test[50].download_files)\n",
    "\n",
    "# test2 = hyp3.my_info()\n",
    "# print(test2)\n",
    "\n",
    "# testf = test.filter_jobs(succeeded=True,include_expired=False)"
   ]
  },
  {
   "cell_type": "code",
   "execution_count": 15,
   "id": "75fe789b-7e1c-4216-9ad0-b6334fc0e76f",
   "metadata": {},
   "outputs": [
    {
     "name": "stdout",
     "output_type": "stream",
     "text": [
      "178 HyP3 Jobs: 0 succeeded, 0 failed, 0 running, 178 pending.\n"
     ]
    }
   ],
   "source": [
    "#Submit jobs for RTC processing\n",
    "\n",
    "projectname = f'{projname}_{year%1000}_notebook'\n",
    "#'Kenn_19_notebook'\n",
    "\n",
    "granules = [i.properties['sceneName'] for i in results]\n",
    "# print(granules)\n",
    "# help(hyp3.submit_rtc_job)\n",
    "submitjobs = False\n",
    "if submitjobs:\n",
    "    rtc_jobs = Batch()\n",
    "    for g in granules:\n",
    "        rtc_jobs += hyp3.submit_rtc_job(g, name=projectname)\n",
    "    print(rtc_jobs)"
   ]
  },
  {
   "cell_type": "code",
   "execution_count": 16,
   "id": "1b6e70a8-262e-43aa-8332-35c0fd24fd21",
   "metadata": {},
   "outputs": [],
   "source": [
    "#do failed job: S1A_IW_SLC__1SDV_20210701T155634_20210701T155701_038586_048D97_C318\n",
    "dofailedjob = False\n",
    "if dofailedjob:\n",
    "    hyp3.submit_rtc_job('S1A_IW_SLC__1SDV_20210701T155634_20210701T155701_038586_048D97_C318', name = projectname)"
   ]
  },
  {
   "cell_type": "code",
   "execution_count": 18,
   "id": "1bdbb2a8-ea30-43c4-805c-e7d5cf7c35cc",
   "metadata": {},
   "outputs": [
    {
     "name": "stdout",
     "output_type": "stream",
     "text": [
      "0 HyP3 Jobs: 0 succeeded, 0 failed, 0 running, 0 pending.\n",
      "{'job_names': ['BSI_test2', 'BSI_test3', 'Greenland_test1', 'Hidden Lake Single', 'Kenn_19_notebook', 'Kenn_20_notebook', 'Kenn_20_notebook_2', 'Kenn_21_alt', 'Kenn_21_full', 'Kenn_21_notebook', 'Kennicott_21', 'Kennicott_Dec20', 'Kennicott_Jul21_test', 'LarsenC Single', 'Ronne_July21', 'Utk_test1', 'Wilkins Apr_17'], 'quota': {'max_jobs_per_month': 1000, 'remaining': 646}, 'user_id': 'acjohnson16'}\n"
     ]
    }
   ],
   "source": [
    "# Display Hyp3 job info\n",
    "print(Batch())\n",
    "print(hyp3.my_info())"
   ]
  },
  {
   "cell_type": "code",
   "execution_count": 17,
   "id": "e924d400-995f-4609-bbb2-2bb166877dea",
   "metadata": {},
   "outputs": [
    {
     "data": {
      "text/plain": [
       "{'job_names': ['BSI_test2',\n",
       "  'BSI_test3',\n",
       "  'Greenland_test1',\n",
       "  'Hidden Lake Single',\n",
       "  'Kenn_21_alt',\n",
       "  'Kenn_21_full',\n",
       "  'Kenn_21_notebook',\n",
       "  'Kennicott_21',\n",
       "  'Kennicott_Dec20',\n",
       "  'Kennicott_Jul21_test',\n",
       "  'LarsenC Single',\n",
       "  'Ronne_July21',\n",
       "  'Utk_test1',\n",
       "  'Wilkins Apr_17'],\n",
       " 'quota': {'max_jobs_per_month': 1000, 'remaining': 826},\n",
       " 'user_id': 'acjohnson16'}"
      ]
     },
     "execution_count": 17,
     "metadata": {},
     "output_type": "execute_result"
    }
   ],
   "source": [
    "hyp3.my_info()"
   ]
  },
  {
   "cell_type": "markdown",
   "id": "6047bf99-395d-4e86-931d-b82820a150f3",
   "metadata": {
    "tags": []
   },
   "source": [
    "## Utility Functions\n",
    "\n",
    "download images\\\n",
    "extract images\\\n",
    "reproject and clip to wtk\\\n",
    "convert to db\\\n",
    "do this sequentially"
   ]
  },
  {
   "cell_type": "code",
   "execution_count": 19,
   "id": "f24913c5-3258-48a6-b81d-29e5fe241e33",
   "metadata": {
    "tags": []
   },
   "outputs": [],
   "source": [
    "#convert utility\n",
    "def converttodb(file):\n",
    "    ds = gdal.Open(file, gdal.GA_Update)\n",
    "    data = ds.ReadAsArray()\n",
    "\n",
    "    data[data<1e-6]=1e-6\n",
    "    \n",
    "    data = 10*np.log10(data)\n",
    "    data[data==-np.inf]=-60\n",
    "    ds.GetRasterBand(1).WriteArray(data)\n",
    "    ds = None\n",
    "\n",
    "#download utility:\n",
    "def extracttif(inloc,outloc,pol='VV',convert=True):\n",
    "    \"\"\"expect pol to be 'VV','VH','HH', or 'HV' \n",
    "    convert will convert this to db\"\"\"\n",
    "    if str(inloc)[-1]!='/':\n",
    "        inloc = str(inloc)+'/'\n",
    "    if str(outloc)[-1]!='/':\n",
    "        outloc = str(outloc)+'/'\n",
    "    infile = glob.glob(f'{inloc}*')\n",
    "    endstr = pol+'.tif'\n",
    "    for file in infile:\n",
    "        # print(file)\n",
    "        # namelist = \n",
    "        with ZipFile(file) as z:\n",
    "            # print(z.namelist)\n",
    "            z = ZipFile(file)\n",
    "            zname = [name for name in z.namelist() if name[-6:]==endstr][0]\n",
    "            # z.extract()\n",
    "        \n",
    "            filename = os.path.basename(zname)\n",
    "            source = z.open(zname)\n",
    "            targetname = os.path.join(outloc, filename)\n",
    "            target = open(targetname, \"wb\")\n",
    "            with source, target:\n",
    "                shutil.copyfileobj(source, target)\n",
    "            target.close()\n",
    "            if convert:\n",
    "                converttodb(targetname)\n",
    "        # os.remove(file)\n",
    "        "
   ]
  },
  {
   "cell_type": "code",
   "execution_count": 20,
   "id": "7955c4dc-3ceb-4956-a593-3817eb244178",
   "metadata": {
    "tags": []
   },
   "outputs": [],
   "source": [
    "#CLIPPING TOOLS\n",
    "\n",
    "def wtkparse(wtk):\n",
    "    \"\"\"It's not weird if it works\"\"\"\n",
    "    wtk = wtk.split(\"'\")\n",
    "    wtk = wtk[0].split(\"(\")[2]\n",
    "    wtk = wtk.split(\")\")[0]\n",
    "    wtk = wtk.split(',')\n",
    "    wtk = [s.split(' ') for s in wtk]\n",
    "    wtk = np.array([[float(ss) for ss in s] for s in wtk])\n",
    "    return(wtk)\n",
    "\n",
    "def CoordConvert(points,inproj,outproj,ptparse=False):\n",
    "    \"\"\"Convert coordinate grid from one projection to another\n",
    "    if converting from 4326, then points should be ordered lon,lat\"\"\"\n",
    "\n",
    "    if ptparse:\n",
    "        points = wtkparse(points)\n",
    "\n",
    "    if type(inproj)==str:\n",
    "        inproj=int(inproj)\n",
    "    if type(outproj)==str:\n",
    "        outproj=int(outproj)\n",
    "\n",
    "    epsgin = osr.SpatialReference()\n",
    "    epsgin.ImportFromEPSG(inproj)   \n",
    "    epsgout = osr.SpatialReference()\n",
    "    epsgout.ImportFromEPSG(outproj)\n",
    "\n",
    "    convert = osr.CoordinateTransformation(epsgin, epsgout)\n",
    "    points = np.array(points)\n",
    "    \n",
    "    for i,x in enumerate(points):\n",
    "        newpt = convert.TransformPoint(x[1],x[0])\n",
    "        points[i,0],points[i,1]=newpt[0],newpt[1]\n",
    "        \n",
    "    return points\n",
    "\n",
    "def wtktobox(wtk,epsgn,srcproj = 4326):\n",
    "    \"\"\"epsgn is the epsg of the tif file\n",
    "    output will be ulx uly lrx lry\"\"\"\n",
    "    epsgn = int(epsgn)\n",
    "    srcproj = int(srcproj)\n",
    "    xyp = CoordConvert(wtk,4326,epsgn,ptparse=True)\n",
    "    ulx,uly = np.min(xyp[:,0]),np.max(xyp[:,1])\n",
    "    lrx,lry = np.max(xyp[:,0]),np.min(xyp[:,1])\n",
    "    return ulx,uly,lrx,lry\n",
    "\n",
    "def testEPSG(inloc):\n",
    "    if str(inloc)[-1]!='/':\n",
    "        inloc = str(inloc)+'/'\n",
    "    # if str(outloc)[-1]!='/':\n",
    "        # outloc = str(outloc)+'/'\n",
    "    infiles = glob.glob(f'{inloc}*')\n",
    "    for file in infiles:\n",
    "        ds=gdal.Open(file)\n",
    "        proj = osr.SpatialReference(wkt=ds.GetProjection())\n",
    "        dsproj = proj.GetAttrValue('AUTHORITY',1)\n",
    "        ds = None\n",
    "        print(dsproj)\n",
    "# testEPSG(products_path)\n",
    "\n",
    "def getEPSG(file):\n",
    "    ds=gdal.Open(file)\n",
    "    proj = osr.SpatialReference(wkt=ds.GetProjection())\n",
    "    dsproj = proj.GetAttrValue('AUTHORITY',1)\n",
    "    ds = None\n",
    "    return dsproj\n",
    "\n",
    "def identify_epsgs(fileloc):\n",
    "    \"\"\"Identify EPSG systems used in this. By default this will return the most commonly one.\"\"\"\n",
    "    if str(fileloc)[-1]!='/':\n",
    "        fileloc = str(fileloc)+'/'\n",
    "    filelist = glob.glob(f'{fileloc}*')\n",
    "    eplist = []\n",
    "    for file in filelist:\n",
    "        eplist.append(getEPSG(file))\n",
    "        # print(eplist[-1])\n",
    "        # print(file)\n",
    "    epu,epc = np.unique(eplist,return_counts=True)\n",
    "    for i,ep in enumerate(epu):\n",
    "        count = epc[i]\n",
    "        print(f'Found EPSG:{ep}, count: {count}')\n",
    "    return epu[np.where(epc==np.max(epc))[0]][0]\n",
    "\n",
    "def reproject(wtk,epsgn,inloc,outloc,res=30,convert_to_db=False):\n",
    "    \"\"\"make the magic happen\"\"\"\n",
    "    if str(inloc)[-1]!='/':\n",
    "        inloc = str(inloc)+'/'\n",
    "    if str(outloc)[-1]!='/':\n",
    "        outloc = str(outloc)+'/'\n",
    "    infiles = glob.glob(f'{inloc}*')\n",
    "    \n",
    "    epsgn = int(epsgn)\n",
    "    ulx,uly,lrx,lry = wtktobox(wtk,epsgn)\n",
    "    # c1=0\n",
    "    epsgns = f'ESPG:{str(epsgn)}'\n",
    "    for file in infiles:\n",
    "        ofile = file.replace(inloc,outloc)\n",
    "        # ofile = '/home/jovyan/test/rtc_clipped/S1B_IW_20210713T031944_DVP_RTC30_G_gpuned_1E76_VV'\n",
    "        epsgf = int(getEPSG(file))\n",
    "        epsgfs = f'ESPG:{str(epsgf)}'\n",
    "        src = gdal.Open(file)\n",
    "        # print(ofile)\n",
    "        # print(type(ofile))\n",
    "        \n",
    "        epsgo = osr.SpatialReference()\n",
    "        epsgo.ImportFromEPSG(epsgn)   \n",
    "        \n",
    "        gdal.Warp(destNameOrDestDS=ofile,srcDSOrSrcDSTab=src,dstSRS=epsgo,\n",
    "                  outputBounds=(ulx,lry,lrx,uly),outputBoundsSRS=epsgo,resampleAlg='near',\n",
    "                  xRes=res,yRes=res)\n",
    "        \n",
    "        if convert_to_db:\n",
    "            converttodb(ofile)"
   ]
  },
  {
   "cell_type": "markdown",
   "id": "bbcba4bf-61a6-482b-b160-992b0fe1b381",
   "metadata": {},
   "source": [
    "## Get Data"
   ]
  },
  {
   "cell_type": "code",
   "execution_count": 23,
   "id": "c8295120-157b-401b-9766-6ff07d62ed7d",
   "metadata": {
    "tags": []
   },
   "outputs": [
    {
     "data": {
      "text/plain": [
       "False"
      ]
     },
     "execution_count": 23,
     "metadata": {},
     "output_type": "execute_result"
    }
   ],
   "source": [
    "#Determine EPSG\n",
    "\n",
    "# (1==1) and ('VV'==pols[1])"
   ]
  },
  {
   "cell_type": "code",
   "execution_count": 28,
   "id": "ead74aa8-1c0f-4a0d-83f7-3bfc4a56f06e",
   "metadata": {
    "tags": []
   },
   "outputs": [
    {
     "data": {
      "application/vnd.jupyter.widget-view+json": {
       "model_id": "b181aeb998224cac9c9511673e6e420c",
       "version_major": 2,
       "version_minor": 0
      },
      "text/plain": [
       "S1B_IW_20190101T031900_DVP_RTC30_G_gpuned_A41E.zip:   0%|          | 0/504010115 [00:00<?, ?it/s]"
      ]
     },
     "metadata": {},
     "output_type": "display_data"
    },
    {
     "name": "stdout",
     "output_type": "stream",
     "text": [
      "32606\n",
      "Current job: 1/177, time elapsed: 0.26 min, time remaining: 22.78 min\n"
     ]
    },
    {
     "data": {
      "application/vnd.jupyter.widget-view+json": {
       "model_id": "849a7a8849d14a62a76fadbbd05e7806",
       "version_major": 2,
       "version_minor": 0
      },
      "text/plain": [
       "S1A_IW_20190101T155618_DVP_RTC30_G_gpuned_CD28.zip:   0%|          | 0/452109305 [00:00<?, ?it/s]"
      ]
     },
     "metadata": {},
     "output_type": "display_data"
    },
    {
     "data": {
      "application/vnd.jupyter.widget-view+json": {
       "model_id": "b801371f8dbc4030883093f31c16dd21",
       "version_major": 2,
       "version_minor": 0
      },
      "text/plain": [
       "S1B_IW_20190101T031928_DVP_RTC30_G_gpuned_F58A.zip:   0%|          | 0/468753464 [00:00<?, ?it/s]"
      ]
     },
     "metadata": {},
     "output_type": "display_data"
    },
    {
     "data": {
      "application/vnd.jupyter.widget-view+json": {
       "model_id": "4a951d7bbc5c49dc822bfdb3845af522",
       "version_major": 2,
       "version_minor": 0
      },
      "text/plain": [
       "S1A_IW_20190108T154759_DVP_RTC30_G_gpuned_C5DD.zip:   0%|          | 0/453660219 [00:00<?, ?it/s]"
      ]
     },
     "metadata": {},
     "output_type": "display_data"
    },
    {
     "data": {
      "application/vnd.jupyter.widget-view+json": {
       "model_id": "e6fddc55d8cc4c9ea23cb2dda7ecd675",
       "version_major": 2,
       "version_minor": 0
      },
      "text/plain": [
       "S1B_IW_20190113T031900_DVP_RTC30_G_gpuned_544D.zip:   0%|          | 0/503428024 [00:00<?, ?it/s]"
      ]
     },
     "metadata": {},
     "output_type": "display_data"
    },
    {
     "data": {
      "application/vnd.jupyter.widget-view+json": {
       "model_id": "044382fb8b15473696e23d200dc7faf9",
       "version_major": 2,
       "version_minor": 0
      },
      "text/plain": [
       "S1B_IW_20190113T031927_DVP_RTC30_G_gpuned_3C9B.zip:   0%|          | 0/469771218 [00:00<?, ?it/s]"
      ]
     },
     "metadata": {},
     "output_type": "display_data"
    },
    {
     "data": {
      "application/vnd.jupyter.widget-view+json": {
       "model_id": "d77e053e6d6e4bc5b3b7d4f0caf504f4",
       "version_major": 2,
       "version_minor": 0
      },
      "text/plain": [
       "S1A_IW_20190113T155617_DVP_RTC30_G_gpuned_EEAD.zip:   0%|          | 0/451962752 [00:00<?, ?it/s]"
      ]
     },
     "metadata": {},
     "output_type": "display_data"
    },
    {
     "data": {
      "application/vnd.jupyter.widget-view+json": {
       "model_id": "f341e212d5194985b6735409a80cd7a1",
       "version_major": 2,
       "version_minor": 0
      },
      "text/plain": [
       "S1B_IW_20190115T030244_DVP_RTC30_G_gpuned_0322.zip:   0%|          | 0/471924357 [00:00<?, ?it/s]"
      ]
     },
     "metadata": {},
     "output_type": "display_data"
    },
    {
     "data": {
      "application/vnd.jupyter.widget-view+json": {
       "model_id": "be76b6d41e6d4f7186288806db1e6058",
       "version_major": 2,
       "version_minor": 0
      },
      "text/plain": [
       "S1B_IW_20190115T030309_DVP_RTC30_G_gpuned_3433.zip:   0%|          | 0/450306045 [00:00<?, ?it/s]"
      ]
     },
     "metadata": {},
     "output_type": "display_data"
    },
    {
     "data": {
      "application/vnd.jupyter.widget-view+json": {
       "model_id": "f916f38310c142edb1e69f08bd59718f",
       "version_major": 2,
       "version_minor": 0
      },
      "text/plain": [
       "S1A_IW_20190120T154759_DVP_RTC30_G_gpuned_C629.zip:   0%|          | 0/453496069 [00:00<?, ?it/s]"
      ]
     },
     "metadata": {},
     "output_type": "display_data"
    },
    {
     "data": {
      "application/vnd.jupyter.widget-view+json": {
       "model_id": "b85ccba3e1c042029514930c326af14b",
       "version_major": 2,
       "version_minor": 0
      },
      "text/plain": [
       "S1B_IW_20190125T031859_DVP_RTC30_G_gpuned_3CA9.zip:   0%|          | 0/503386655 [00:00<?, ?it/s]"
      ]
     },
     "metadata": {},
     "output_type": "display_data"
    },
    {
     "name": "stdout",
     "output_type": "stream",
     "text": [
      "Current job: 11/177, time elapsed: 3.62 min, time remaining: 50.01 min\n"
     ]
    },
    {
     "data": {
      "application/vnd.jupyter.widget-view+json": {
       "model_id": "cf287a0249eb4619a6903d89aac0e948",
       "version_major": 2,
       "version_minor": 0
      },
      "text/plain": [
       "S1A_IW_20190125T155617_DVP_RTC30_G_gpuned_1D84.zip:   0%|          | 0/452278145 [00:00<?, ?it/s]"
      ]
     },
     "metadata": {},
     "output_type": "display_data"
    },
    {
     "data": {
      "application/vnd.jupyter.widget-view+json": {
       "model_id": "39b5349e0924445bbdf05e0aa6e4d14c",
       "version_major": 2,
       "version_minor": 0
      },
      "text/plain": [
       "S1B_IW_20190125T031927_DVP_RTC30_G_gpuned_D1D2.zip:   0%|          | 0/469478584 [00:00<?, ?it/s]"
      ]
     },
     "metadata": {},
     "output_type": "display_data"
    },
    {
     "data": {
      "application/vnd.jupyter.widget-view+json": {
       "model_id": "20e80454125b4c43b2a2d79afe45ab96",
       "version_major": 2,
       "version_minor": 0
      },
      "text/plain": [
       "S1B_IW_20190127T030243_DVP_RTC30_G_gpuned_A2A4.zip:   0%|          | 0/472022768 [00:00<?, ?it/s]"
      ]
     },
     "metadata": {},
     "output_type": "display_data"
    },
    {
     "data": {
      "application/vnd.jupyter.widget-view+json": {
       "model_id": "6d2c3b4c2fbe4b42ad95a80ee9f2f909",
       "version_major": 2,
       "version_minor": 0
      },
      "text/plain": [
       "S1A_IW_20190201T154758_DVP_RTC30_G_gpuned_8B31.zip:   0%|          | 0/453675918 [00:00<?, ?it/s]"
      ]
     },
     "metadata": {},
     "output_type": "display_data"
    },
    {
     "data": {
      "application/vnd.jupyter.widget-view+json": {
       "model_id": "9e7446df58ae46b2976bce372f71988d",
       "version_major": 2,
       "version_minor": 0
      },
      "text/plain": [
       "S1B_IW_20190127T030309_DVP_RTC30_G_gpuned_A5F6.zip:   0%|          | 0/449264183 [00:00<?, ?it/s]"
      ]
     },
     "metadata": {},
     "output_type": "display_data"
    },
    {
     "data": {
      "application/vnd.jupyter.widget-view+json": {
       "model_id": "4f80687537a849feb99a538b55fef641",
       "version_major": 2,
       "version_minor": 0
      },
      "text/plain": [
       "S1B_IW_20190206T031859_DVP_RTC30_G_gpuned_820E.zip:   0%|          | 0/502701942 [00:00<?, ?it/s]"
      ]
     },
     "metadata": {},
     "output_type": "display_data"
    },
    {
     "data": {
      "application/vnd.jupyter.widget-view+json": {
       "model_id": "5173391e605d445cbe164de49c21de4e",
       "version_major": 2,
       "version_minor": 0
      },
      "text/plain": [
       "S1B_IW_20190206T031927_DVP_RTC30_G_gpuned_F408.zip:   0%|          | 0/468718509 [00:00<?, ?it/s]"
      ]
     },
     "metadata": {},
     "output_type": "display_data"
    },
    {
     "data": {
      "application/vnd.jupyter.widget-view+json": {
       "model_id": "e1332349f0154590b93fcf58fa364b5c",
       "version_major": 2,
       "version_minor": 0
      },
      "text/plain": [
       "S1A_IW_20190206T155616_DVP_RTC30_G_gpuned_026C.zip:   0%|          | 0/451675132 [00:00<?, ?it/s]"
      ]
     },
     "metadata": {},
     "output_type": "display_data"
    },
    {
     "data": {
      "application/vnd.jupyter.widget-view+json": {
       "model_id": "0f9baf28882b4d83956eb816a3623720",
       "version_major": 2,
       "version_minor": 0
      },
      "text/plain": [
       "S1A_IW_20190213T154758_DVP_RTC30_G_gpuned_5BEC.zip:   0%|          | 0/453385440 [00:00<?, ?it/s]"
      ]
     },
     "metadata": {},
     "output_type": "display_data"
    },
    {
     "data": {
      "application/vnd.jupyter.widget-view+json": {
       "model_id": "fcdb42aeec0b41b0bd2a86d2fed6746c",
       "version_major": 2,
       "version_minor": 0
      },
      "text/plain": [
       "S1B_IW_20190218T031859_DVP_RTC30_G_gpuned_860C.zip:   0%|          | 0/503884742 [00:00<?, ?it/s]"
      ]
     },
     "metadata": {},
     "output_type": "display_data"
    },
    {
     "name": "stdout",
     "output_type": "stream",
     "text": [
      "Current job: 21/177, time elapsed: 7.08 min, time remaining: 50.23 min\n"
     ]
    },
    {
     "data": {
      "application/vnd.jupyter.widget-view+json": {
       "model_id": "a7d92484969d4ac2b59935e8023d3bba",
       "version_major": 2,
       "version_minor": 0
      },
      "text/plain": [
       "S1B_IW_20190218T031926_DVP_RTC30_G_gpuned_841A.zip:   0%|          | 0/468872311 [00:00<?, ?it/s]"
      ]
     },
     "metadata": {},
     "output_type": "display_data"
    },
    {
     "data": {
      "application/vnd.jupyter.widget-view+json": {
       "model_id": "1be28f47e42f4182a91e294400d0fc46",
       "version_major": 2,
       "version_minor": 0
      },
      "text/plain": [
       "S1A_IW_20190218T155616_DVP_RTC30_G_gpuned_2491.zip:   0%|          | 0/452110198 [00:00<?, ?it/s]"
      ]
     },
     "metadata": {},
     "output_type": "display_data"
    },
    {
     "data": {
      "application/vnd.jupyter.widget-view+json": {
       "model_id": "2cbf2ff19fab4dcbba3590e9bb886b69",
       "version_major": 2,
       "version_minor": 0
      },
      "text/plain": [
       "S1B_IW_20190220T030243_DVP_RTC30_G_gpuned_5065.zip:   0%|          | 0/471872068 [00:00<?, ?it/s]"
      ]
     },
     "metadata": {},
     "output_type": "display_data"
    },
    {
     "data": {
      "application/vnd.jupyter.widget-view+json": {
       "model_id": "29ae080a34c04f60a6f96ed2e4329b7c",
       "version_major": 2,
       "version_minor": 0
      },
      "text/plain": [
       "S1A_IW_20190225T154758_DVP_RTC30_G_gpuned_65CF.zip:   0%|          | 0/453650598 [00:00<?, ?it/s]"
      ]
     },
     "metadata": {},
     "output_type": "display_data"
    },
    {
     "data": {
      "application/vnd.jupyter.widget-view+json": {
       "model_id": "3ce684810cb04b81b7221ee2814b7e4b",
       "version_major": 2,
       "version_minor": 0
      },
      "text/plain": [
       "S1B_IW_20190220T030308_DVP_RTC30_G_gpuned_5C99.zip:   0%|          | 0/449413184 [00:00<?, ?it/s]"
      ]
     },
     "metadata": {},
     "output_type": "display_data"
    },
    {
     "data": {
      "application/vnd.jupyter.widget-view+json": {
       "model_id": "1bd24dabdf1b45f487ea3e2934c6ae21",
       "version_major": 2,
       "version_minor": 0
      },
      "text/plain": [
       "S1B_IW_20190302T031859_DVP_RTC30_G_gpuned_90D5.zip:   0%|          | 0/503254048 [00:00<?, ?it/s]"
      ]
     },
     "metadata": {},
     "output_type": "display_data"
    },
    {
     "data": {
      "application/vnd.jupyter.widget-view+json": {
       "model_id": "d3ca1dfc18214bf28b7a2a646a2cc9fb",
       "version_major": 2,
       "version_minor": 0
      },
      "text/plain": [
       "S1A_IW_20190302T155616_DVP_RTC30_G_gpuned_FFDD.zip:   0%|          | 0/451760897 [00:00<?, ?it/s]"
      ]
     },
     "metadata": {},
     "output_type": "display_data"
    },
    {
     "data": {
      "application/vnd.jupyter.widget-view+json": {
       "model_id": "207b94a9811840549881c8a28c7a2bce",
       "version_major": 2,
       "version_minor": 0
      },
      "text/plain": [
       "S1B_IW_20190302T031926_DVP_RTC30_G_gpuned_93A5.zip:   0%|          | 0/468293635 [00:00<?, ?it/s]"
      ]
     },
     "metadata": {},
     "output_type": "display_data"
    },
    {
     "data": {
      "application/vnd.jupyter.widget-view+json": {
       "model_id": "ae1af945dca0440299fb0ac5ed1d8997",
       "version_major": 2,
       "version_minor": 0
      },
      "text/plain": [
       "S1B_IW_20190304T030243_DVP_RTC30_G_gpuned_9CE0.zip:   0%|          | 0/471718579 [00:00<?, ?it/s]"
      ]
     },
     "metadata": {},
     "output_type": "display_data"
    },
    {
     "data": {
      "application/vnd.jupyter.widget-view+json": {
       "model_id": "6cb940551fef4fd08788ac6174653c34",
       "version_major": 2,
       "version_minor": 0
      },
      "text/plain": [
       "S1B_IW_20190304T030308_DVP_RTC30_G_gpuned_EB49.zip:   0%|          | 0/449294406 [00:00<?, ?it/s]"
      ]
     },
     "metadata": {},
     "output_type": "display_data"
    },
    {
     "name": "stdout",
     "output_type": "stream",
     "text": [
      "Current job: 31/177, time elapsed: 10.48 min, time remaining: 47.80 min\n"
     ]
    },
    {
     "data": {
      "application/vnd.jupyter.widget-view+json": {
       "model_id": "1814a8bf829f42dba3a7f87071829bc3",
       "version_major": 2,
       "version_minor": 0
      },
      "text/plain": [
       "S1A_IW_20190309T154758_DVP_RTC30_G_gpuned_2ECA.zip:   0%|          | 0/453496387 [00:00<?, ?it/s]"
      ]
     },
     "metadata": {},
     "output_type": "display_data"
    },
    {
     "data": {
      "application/vnd.jupyter.widget-view+json": {
       "model_id": "a944e1ed70e74190a9dccbb277fb13a3",
       "version_major": 2,
       "version_minor": 0
      },
      "text/plain": [
       "S1B_IW_20190314T031926_DVP_RTC30_G_gpuned_E51F.zip:   0%|          | 0/468332588 [00:00<?, ?it/s]"
      ]
     },
     "metadata": {},
     "output_type": "display_data"
    },
    {
     "data": {
      "application/vnd.jupyter.widget-view+json": {
       "model_id": "8df64df8735d404a8a5ec8a67587379b",
       "version_major": 2,
       "version_minor": 0
      },
      "text/plain": [
       "S1B_IW_20190314T031859_DVP_RTC30_G_gpuned_09E7.zip:   0%|          | 0/503056160 [00:00<?, ?it/s]"
      ]
     },
     "metadata": {},
     "output_type": "display_data"
    },
    {
     "data": {
      "application/vnd.jupyter.widget-view+json": {
       "model_id": "322d8e47a989454c90234abcd8ce9ee3",
       "version_major": 2,
       "version_minor": 0
      },
      "text/plain": [
       "S1A_IW_20190314T155616_DVP_RTC30_G_gpuned_0D8A.zip:   0%|          | 0/451750152 [00:00<?, ?it/s]"
      ]
     },
     "metadata": {},
     "output_type": "display_data"
    },
    {
     "data": {
      "application/vnd.jupyter.widget-view+json": {
       "model_id": "88dde2ebca5f47e698086a50eed0ae4a",
       "version_major": 2,
       "version_minor": 0
      },
      "text/plain": [
       "S1B_IW_20190316T030242_DVP_RTC30_G_gpuned_410B.zip:   0%|          | 0/471857193 [00:00<?, ?it/s]"
      ]
     },
     "metadata": {},
     "output_type": "display_data"
    },
    {
     "data": {
      "application/vnd.jupyter.widget-view+json": {
       "model_id": "2f1e62bda14942ea99f20c453aa832f5",
       "version_major": 2,
       "version_minor": 0
      },
      "text/plain": [
       "S1B_IW_20190316T030308_DVP_RTC30_G_gpuned_7320.zip:   0%|          | 0/450679717 [00:00<?, ?it/s]"
      ]
     },
     "metadata": {},
     "output_type": "display_data"
    },
    {
     "data": {
      "application/vnd.jupyter.widget-view+json": {
       "model_id": "1a24c7fcc3904b6194426b16df473027",
       "version_major": 2,
       "version_minor": 0
      },
      "text/plain": [
       "S1B_IW_20190326T031859_DVP_RTC30_G_gpuned_821C.zip:   0%|          | 0/504970306 [00:00<?, ?it/s]"
      ]
     },
     "metadata": {},
     "output_type": "display_data"
    },
    {
     "data": {
      "application/vnd.jupyter.widget-view+json": {
       "model_id": "d5bd39e4ba0849dea9492e33d0c5e324",
       "version_major": 2,
       "version_minor": 0
      },
      "text/plain": [
       "S1A_IW_20190321T154758_DVP_RTC30_G_gpuned_3862.zip:   0%|          | 0/453630768 [00:00<?, ?it/s]"
      ]
     },
     "metadata": {},
     "output_type": "display_data"
    },
    {
     "data": {
      "application/vnd.jupyter.widget-view+json": {
       "model_id": "15b02c1960de40f6856f4f8bb779cbc5",
       "version_major": 2,
       "version_minor": 0
      },
      "text/plain": [
       "S1A_IW_20190326T155617_DVP_RTC30_G_gpuned_BFD8.zip:   0%|          | 0/452030937 [00:00<?, ?it/s]"
      ]
     },
     "metadata": {},
     "output_type": "display_data"
    },
    {
     "data": {
      "application/vnd.jupyter.widget-view+json": {
       "model_id": "994f89837d0142e48c84d5c873a78588",
       "version_major": 2,
       "version_minor": 0
      },
      "text/plain": [
       "S1B_IW_20190326T031926_DVP_RTC30_G_gpuned_324E.zip:   0%|          | 0/469956094 [00:00<?, ?it/s]"
      ]
     },
     "metadata": {},
     "output_type": "display_data"
    },
    {
     "name": "stdout",
     "output_type": "stream",
     "text": [
      "Current job: 41/177, time elapsed: 13.78 min, time remaining: 44.61 min\n"
     ]
    },
    {
     "data": {
      "application/vnd.jupyter.widget-view+json": {
       "model_id": "b0161ca2d94f4f4d9bac629e38721821",
       "version_major": 2,
       "version_minor": 0
      },
      "text/plain": [
       "S1B_IW_20190328T030243_DVP_RTC30_G_gpuned_FF74.zip:   0%|          | 0/472850990 [00:00<?, ?it/s]"
      ]
     },
     "metadata": {},
     "output_type": "display_data"
    },
    {
     "data": {
      "application/vnd.jupyter.widget-view+json": {
       "model_id": "2b4883b083594b27a78194d8577078bf",
       "version_major": 2,
       "version_minor": 0
      },
      "text/plain": [
       "S1B_IW_20190328T030309_DVP_RTC30_G_gpuned_61A8.zip:   0%|          | 0/451225013 [00:00<?, ?it/s]"
      ]
     },
     "metadata": {},
     "output_type": "display_data"
    },
    {
     "data": {
      "application/vnd.jupyter.widget-view+json": {
       "model_id": "4014eeff201440318c4e280002f672e0",
       "version_major": 2,
       "version_minor": 0
      },
      "text/plain": [
       "S1A_IW_20190402T154758_DVP_RTC30_G_gpuned_D4EF.zip:   0%|          | 0/453416829 [00:00<?, ?it/s]"
      ]
     },
     "metadata": {},
     "output_type": "display_data"
    },
    {
     "data": {
      "application/vnd.jupyter.widget-view+json": {
       "model_id": "6155ce01696c4637aae40c329575f344",
       "version_major": 2,
       "version_minor": 0
      },
      "text/plain": [
       "S1B_IW_20190407T031859_DVP_RTC30_G_gpuned_DD69.zip:   0%|          | 0/504393746 [00:00<?, ?it/s]"
      ]
     },
     "metadata": {},
     "output_type": "display_data"
    },
    {
     "data": {
      "application/vnd.jupyter.widget-view+json": {
       "model_id": "4fbc8c0fa9ef4765986a1fa4252ec355",
       "version_major": 2,
       "version_minor": 0
      },
      "text/plain": [
       "S1A_IW_20190407T155617_DVP_RTC30_G_gpuned_FF52.zip:   0%|          | 0/451693812 [00:00<?, ?it/s]"
      ]
     },
     "metadata": {},
     "output_type": "display_data"
    },
    {
     "data": {
      "application/vnd.jupyter.widget-view+json": {
       "model_id": "e2086b5059b3477d9446b2ad0e5b1fd6",
       "version_major": 2,
       "version_minor": 0
      },
      "text/plain": [
       "S1B_IW_20190407T031927_DVP_RTC30_G_gpuned_1F78.zip:   0%|          | 0/469700354 [00:00<?, ?it/s]"
      ]
     },
     "metadata": {},
     "output_type": "display_data"
    },
    {
     "data": {
      "application/vnd.jupyter.widget-view+json": {
       "model_id": "d05477d4fd4f495c81448e931a55bb2a",
       "version_major": 2,
       "version_minor": 0
      },
      "text/plain": [
       "S1B_IW_20190409T030243_DVP_RTC30_G_gpuned_F40F.zip:   0%|          | 0/472343749 [00:00<?, ?it/s]"
      ]
     },
     "metadata": {},
     "output_type": "display_data"
    },
    {
     "data": {
      "application/vnd.jupyter.widget-view+json": {
       "model_id": "041cff201de44eb5b4e065c805aea720",
       "version_major": 2,
       "version_minor": 0
      },
      "text/plain": [
       "S1B_IW_20190409T030309_DVP_RTC30_G_gpuned_D967.zip:   0%|          | 0/451309604 [00:00<?, ?it/s]"
      ]
     },
     "metadata": {},
     "output_type": "display_data"
    },
    {
     "data": {
      "application/vnd.jupyter.widget-view+json": {
       "model_id": "3c01f1e0bcc3486f84ff131dda1b89fc",
       "version_major": 2,
       "version_minor": 0
      },
      "text/plain": [
       "S1A_IW_20190414T154759_DVP_RTC30_G_gpuned_6AF1.zip:   0%|          | 0/452824136 [00:00<?, ?it/s]"
      ]
     },
     "metadata": {},
     "output_type": "display_data"
    },
    {
     "data": {
      "application/vnd.jupyter.widget-view+json": {
       "model_id": "2596c2b99fd04fe2afbffac8c25aa566",
       "version_major": 2,
       "version_minor": 0
      },
      "text/plain": [
       "S1B_IW_20190419T031859_DVP_RTC30_G_gpuned_BD54.zip:   0%|          | 0/505884967 [00:00<?, ?it/s]"
      ]
     },
     "metadata": {},
     "output_type": "display_data"
    },
    {
     "name": "stdout",
     "output_type": "stream",
     "text": [
      "Current job: 51/177, time elapsed: 17.09 min, time remaining: 41.40 min\n"
     ]
    },
    {
     "data": {
      "application/vnd.jupyter.widget-view+json": {
       "model_id": "630a623ac3ac430c8e977f50d5a2faaa",
       "version_major": 2,
       "version_minor": 0
      },
      "text/plain": [
       "S1A_IW_20190419T155617_DVP_RTC30_G_gpuned_854A.zip:   0%|          | 0/452135038 [00:00<?, ?it/s]"
      ]
     },
     "metadata": {},
     "output_type": "display_data"
    },
    {
     "data": {
      "application/vnd.jupyter.widget-view+json": {
       "model_id": "6f7bd61c7588470180250aa501646c39",
       "version_major": 2,
       "version_minor": 0
      },
      "text/plain": [
       "S1B_IW_20190419T031927_DVP_RTC30_G_gpuned_05EB.zip:   0%|          | 0/470571347 [00:00<?, ?it/s]"
      ]
     },
     "metadata": {},
     "output_type": "display_data"
    },
    {
     "data": {
      "application/vnd.jupyter.widget-view+json": {
       "model_id": "478f5dbcee62426dbf2fd909fe0fa68e",
       "version_major": 2,
       "version_minor": 0
      },
      "text/plain": [
       "S1B_IW_20190421T030244_DVP_RTC30_G_gpuned_901B.zip:   0%|          | 0/471967444 [00:00<?, ?it/s]"
      ]
     },
     "metadata": {},
     "output_type": "display_data"
    },
    {
     "data": {
      "application/vnd.jupyter.widget-view+json": {
       "model_id": "ca642926709d467cb5ec80416549e574",
       "version_major": 2,
       "version_minor": 0
      },
      "text/plain": [
       "S1B_IW_20190421T030309_DVP_RTC30_G_gpuned_4A3E.zip:   0%|          | 0/451059221 [00:00<?, ?it/s]"
      ]
     },
     "metadata": {},
     "output_type": "display_data"
    },
    {
     "data": {
      "application/vnd.jupyter.widget-view+json": {
       "model_id": "5206b469387a490ea777ee6a3db962e5",
       "version_major": 2,
       "version_minor": 0
      },
      "text/plain": [
       "S1A_IW_20190426T154759_DVP_RTC30_G_gpuned_32E4.zip:   0%|          | 0/452401708 [00:00<?, ?it/s]"
      ]
     },
     "metadata": {},
     "output_type": "display_data"
    },
    {
     "data": {
      "application/vnd.jupyter.widget-view+json": {
       "model_id": "66b835969d4742ddb7b4e3b2dbcb623c",
       "version_major": 2,
       "version_minor": 0
      },
      "text/plain": [
       "S1B_IW_20190501T031900_DVP_RTC30_G_gpuned_EDE9.zip:   0%|          | 0/504010813 [00:00<?, ?it/s]"
      ]
     },
     "metadata": {},
     "output_type": "display_data"
    },
    {
     "data": {
      "application/vnd.jupyter.widget-view+json": {
       "model_id": "71e15b5062e64edfb38b7775197bd0ea",
       "version_major": 2,
       "version_minor": 0
      },
      "text/plain": [
       "S1B_IW_20190501T031928_DVP_RTC30_G_gpuned_76FF.zip:   0%|          | 0/472453834 [00:00<?, ?it/s]"
      ]
     },
     "metadata": {},
     "output_type": "display_data"
    },
    {
     "data": {
      "application/vnd.jupyter.widget-view+json": {
       "model_id": "49506935ad8948479c13ad36f5d3ab49",
       "version_major": 2,
       "version_minor": 0
      },
      "text/plain": [
       "S1B_IW_20190503T030244_DVP_RTC30_G_gpuned_53F3.zip:   0%|          | 0/474300399 [00:00<?, ?it/s]"
      ]
     },
     "metadata": {},
     "output_type": "display_data"
    },
    {
     "data": {
      "application/vnd.jupyter.widget-view+json": {
       "model_id": "252dfbffffdf4b96ba87f12fdcefd780",
       "version_major": 2,
       "version_minor": 0
      },
      "text/plain": [
       "S1A_IW_20190501T155618_DVP_RTC30_G_gpuned_98BF.zip:   0%|          | 0/452550564 [00:00<?, ?it/s]"
      ]
     },
     "metadata": {},
     "output_type": "display_data"
    },
    {
     "data": {
      "application/vnd.jupyter.widget-view+json": {
       "model_id": "2771b45610b9493495fd00494d178812",
       "version_major": 2,
       "version_minor": 0
      },
      "text/plain": [
       "S1B_IW_20190503T030310_DVP_RTC30_G_gpuned_EA37.zip:   0%|          | 0/452221710 [00:00<?, ?it/s]"
      ]
     },
     "metadata": {},
     "output_type": "display_data"
    },
    {
     "name": "stdout",
     "output_type": "stream",
     "text": [
      "Current job: 61/177, time elapsed: 20.43 min, time remaining: 38.23 min\n"
     ]
    },
    {
     "data": {
      "application/vnd.jupyter.widget-view+json": {
       "model_id": "e785d9e0c05149808cbc55edfd689fa5",
       "version_major": 2,
       "version_minor": 0
      },
      "text/plain": [
       "S1A_IW_20190508T154759_DVP_RTC30_G_gpuned_4B17.zip:   0%|          | 0/455086845 [00:00<?, ?it/s]"
      ]
     },
     "metadata": {},
     "output_type": "display_data"
    },
    {
     "data": {
      "application/vnd.jupyter.widget-view+json": {
       "model_id": "12af603acfae4b469a9edee0cd195ee3",
       "version_major": 2,
       "version_minor": 0
      },
      "text/plain": [
       "S1B_IW_20190513T031901_DVP_RTC30_G_gpuned_2E25.zip:   0%|          | 0/505878104 [00:00<?, ?it/s]"
      ]
     },
     "metadata": {},
     "output_type": "display_data"
    },
    {
     "data": {
      "application/vnd.jupyter.widget-view+json": {
       "model_id": "512e645a485f406ab58b2fd4d2d3aee3",
       "version_major": 2,
       "version_minor": 0
      },
      "text/plain": [
       "S1A_IW_20190513T155618_DVP_RTC30_G_gpuned_5923.zip:   0%|          | 0/453103313 [00:00<?, ?it/s]"
      ]
     },
     "metadata": {},
     "output_type": "display_data"
    },
    {
     "data": {
      "application/vnd.jupyter.widget-view+json": {
       "model_id": "a75c6907a718442581a32dfbd5d8ccf1",
       "version_major": 2,
       "version_minor": 0
      },
      "text/plain": [
       "S1B_IW_20190513T031928_DVP_RTC30_G_gpuned_9F53.zip:   0%|          | 0/472770800 [00:00<?, ?it/s]"
      ]
     },
     "metadata": {},
     "output_type": "display_data"
    },
    {
     "data": {
      "application/vnd.jupyter.widget-view+json": {
       "model_id": "2c7fad8dd5db48e192c77b0d6cc6f5d7",
       "version_major": 2,
       "version_minor": 0
      },
      "text/plain": [
       "S1B_IW_20190515T030245_DVP_RTC30_G_gpuned_A341.zip:   0%|          | 0/474549043 [00:00<?, ?it/s]"
      ]
     },
     "metadata": {},
     "output_type": "display_data"
    },
    {
     "data": {
      "application/vnd.jupyter.widget-view+json": {
       "model_id": "44099c6052264e04a80e1d54daab27cf",
       "version_major": 2,
       "version_minor": 0
      },
      "text/plain": [
       "S1B_IW_20190515T030310_DVP_RTC30_G_gpuned_2032.zip:   0%|          | 0/451301243 [00:00<?, ?it/s]"
      ]
     },
     "metadata": {},
     "output_type": "display_data"
    },
    {
     "data": {
      "application/vnd.jupyter.widget-view+json": {
       "model_id": "0b9423e23a3d485691047c0804958755",
       "version_major": 2,
       "version_minor": 0
      },
      "text/plain": [
       "S1A_IW_20190520T154800_DVP_RTC30_G_gpuned_92EE.zip:   0%|          | 0/454825861 [00:00<?, ?it/s]"
      ]
     },
     "metadata": {},
     "output_type": "display_data"
    },
    {
     "data": {
      "application/vnd.jupyter.widget-view+json": {
       "model_id": "bcfc653be010433f85de2ee99cfbc123",
       "version_major": 2,
       "version_minor": 0
      },
      "text/plain": [
       "S1B_IW_20190525T031901_DVP_RTC30_G_gpuned_FB0F.zip:   0%|          | 0/503956928 [00:00<?, ?it/s]"
      ]
     },
     "metadata": {},
     "output_type": "display_data"
    },
    {
     "data": {
      "application/vnd.jupyter.widget-view+json": {
       "model_id": "8cd4c9f366614d959330f5d3eb0f2b31",
       "version_major": 2,
       "version_minor": 0
      },
      "text/plain": [
       "S1B_IW_20190525T031929_DVP_RTC30_G_gpuned_A6A4.zip:   0%|          | 0/472727437 [00:00<?, ?it/s]"
      ]
     },
     "metadata": {},
     "output_type": "display_data"
    },
    {
     "data": {
      "application/vnd.jupyter.widget-view+json": {
       "model_id": "27ec1f2f95594daa84e6afc854cb95c2",
       "version_major": 2,
       "version_minor": 0
      },
      "text/plain": [
       "S1A_IW_20190525T155619_DVP_RTC30_G_gpuned_A1ED.zip:   0%|          | 0/454563874 [00:00<?, ?it/s]"
      ]
     },
     "metadata": {},
     "output_type": "display_data"
    },
    {
     "name": "stdout",
     "output_type": "stream",
     "text": [
      "Current job: 71/177, time elapsed: 23.86 min, time remaining: 35.13 min\n"
     ]
    },
    {
     "data": {
      "application/vnd.jupyter.widget-view+json": {
       "model_id": "133b732737fd442f91f228050f90afc0",
       "version_major": 2,
       "version_minor": 0
      },
      "text/plain": [
       "S1B_IW_20190527T030245_DVP_RTC30_G_gpuned_B8BE.zip:   0%|          | 0/474479561 [00:00<?, ?it/s]"
      ]
     },
     "metadata": {},
     "output_type": "display_data"
    },
    {
     "data": {
      "application/vnd.jupyter.widget-view+json": {
       "model_id": "cc7cd0357d3f428f990d00ff1831f50b",
       "version_major": 2,
       "version_minor": 0
      },
      "text/plain": [
       "S1B_IW_20190527T030311_DVP_RTC30_G_gpuned_A47D.zip:   0%|          | 0/450730695 [00:00<?, ?it/s]"
      ]
     },
     "metadata": {},
     "output_type": "display_data"
    },
    {
     "data": {
      "application/vnd.jupyter.widget-view+json": {
       "model_id": "b60b2b21a1284be6838c050e11fc6714",
       "version_major": 2,
       "version_minor": 0
      },
      "text/plain": [
       "S1A_IW_20190601T154801_DVP_RTC30_G_gpuned_BA2F.zip:   0%|          | 0/455175500 [00:00<?, ?it/s]"
      ]
     },
     "metadata": {},
     "output_type": "display_data"
    },
    {
     "data": {
      "application/vnd.jupyter.widget-view+json": {
       "model_id": "a5cb9df713b34871890a92294f62bd52",
       "version_major": 2,
       "version_minor": 0
      },
      "text/plain": [
       "S1B_IW_20190606T031902_DVP_RTC30_G_gpuned_62BF.zip:   0%|          | 0/503452821 [00:00<?, ?it/s]"
      ]
     },
     "metadata": {},
     "output_type": "display_data"
    },
    {
     "data": {
      "application/vnd.jupyter.widget-view+json": {
       "model_id": "434853532d874d5e91f9e92074093964",
       "version_major": 2,
       "version_minor": 0
      },
      "text/plain": [
       "S1B_IW_20190606T031929_DVP_RTC30_G_gpuned_C2DF.zip:   0%|          | 0/471445674 [00:00<?, ?it/s]"
      ]
     },
     "metadata": {},
     "output_type": "display_data"
    },
    {
     "data": {
      "application/vnd.jupyter.widget-view+json": {
       "model_id": "31f9c7e3ac5e4edc8266c48e55261813",
       "version_major": 2,
       "version_minor": 0
      },
      "text/plain": [
       "S1A_IW_20190606T155619_DVP_RTC30_G_gpuned_7659.zip:   0%|          | 0/453911216 [00:00<?, ?it/s]"
      ]
     },
     "metadata": {},
     "output_type": "display_data"
    },
    {
     "data": {
      "application/vnd.jupyter.widget-view+json": {
       "model_id": "b87c1250c73a4d58bf6b1f80c0ae4d39",
       "version_major": 2,
       "version_minor": 0
      },
      "text/plain": [
       "S1B_IW_20190608T030246_DVP_RTC30_G_gpuned_61C3.zip:   0%|          | 0/474512002 [00:00<?, ?it/s]"
      ]
     },
     "metadata": {},
     "output_type": "display_data"
    },
    {
     "data": {
      "application/vnd.jupyter.widget-view+json": {
       "model_id": "68bb6a72079944bf8a441ddc1a6bc54a",
       "version_major": 2,
       "version_minor": 0
      },
      "text/plain": [
       "S1A_IW_20190613T154801_DVP_RTC30_G_gpuned_06A7.zip:   0%|          | 0/455737639 [00:00<?, ?it/s]"
      ]
     },
     "metadata": {},
     "output_type": "display_data"
    },
    {
     "data": {
      "application/vnd.jupyter.widget-view+json": {
       "model_id": "f22b047c4408450ea874672caf47bcbf",
       "version_major": 2,
       "version_minor": 0
      },
      "text/plain": [
       "S1B_IW_20190608T030312_DVP_RTC30_G_gpuned_B707.zip:   0%|          | 0/451224511 [00:00<?, ?it/s]"
      ]
     },
     "metadata": {},
     "output_type": "display_data"
    },
    {
     "data": {
      "application/vnd.jupyter.widget-view+json": {
       "model_id": "4fe4f61812254af285da3a1fad10ab51",
       "version_major": 2,
       "version_minor": 0
      },
      "text/plain": [
       "S1B_IW_20190618T031903_DVP_RTC30_G_gpuned_F79C.zip:   0%|          | 0/503348877 [00:00<?, ?it/s]"
      ]
     },
     "metadata": {},
     "output_type": "display_data"
    },
    {
     "name": "stdout",
     "output_type": "stream",
     "text": [
      "Current job: 81/177, time elapsed: 27.45 min, time remaining: 32.13 min\n"
     ]
    },
    {
     "data": {
      "application/vnd.jupyter.widget-view+json": {
       "model_id": "95c51c28f70a4d0b8a0a5b132905ebaa",
       "version_major": 2,
       "version_minor": 0
      },
      "text/plain": [
       "S1B_IW_20190618T031930_DVP_RTC30_G_gpuned_1791.zip:   0%|          | 0/470849400 [00:00<?, ?it/s]"
      ]
     },
     "metadata": {},
     "output_type": "display_data"
    },
    {
     "data": {
      "application/vnd.jupyter.widget-view+json": {
       "model_id": "748364c773914d3d8943a7e01a6fda42",
       "version_major": 2,
       "version_minor": 0
      },
      "text/plain": [
       "S1A_IW_20190618T155620_DVP_RTC30_G_gpuned_392C.zip:   0%|          | 0/453087053 [00:00<?, ?it/s]"
      ]
     },
     "metadata": {},
     "output_type": "display_data"
    },
    {
     "data": {
      "application/vnd.jupyter.widget-view+json": {
       "model_id": "4df0d8ee41554c09b7b97e3553ee8e2b",
       "version_major": 2,
       "version_minor": 0
      },
      "text/plain": [
       "S1B_IW_20190620T030247_DVP_RTC30_G_gpuned_F139.zip:   0%|          | 0/474249798 [00:00<?, ?it/s]"
      ]
     },
     "metadata": {},
     "output_type": "display_data"
    },
    {
     "data": {
      "application/vnd.jupyter.widget-view+json": {
       "model_id": "d6be3ce18a6f4e28a55a2d3af5d0e410",
       "version_major": 2,
       "version_minor": 0
      },
      "text/plain": [
       "S1A_IW_20190625T154802_DVP_RTC30_G_gpuned_AD36.zip:   0%|          | 0/455196860 [00:00<?, ?it/s]"
      ]
     },
     "metadata": {},
     "output_type": "display_data"
    },
    {
     "data": {
      "application/vnd.jupyter.widget-view+json": {
       "model_id": "59617258cc654d10a5e9211094eee1fe",
       "version_major": 2,
       "version_minor": 0
      },
      "text/plain": [
       "S1B_IW_20190620T030312_DVP_RTC30_G_gpuned_41FF.zip:   0%|          | 0/450588615 [00:00<?, ?it/s]"
      ]
     },
     "metadata": {},
     "output_type": "display_data"
    },
    {
     "data": {
      "application/vnd.jupyter.widget-view+json": {
       "model_id": "beb97203d59949bd94a7888251ca2903",
       "version_major": 2,
       "version_minor": 0
      },
      "text/plain": [
       "S1B_IW_20190630T031903_DVP_RTC30_G_gpuned_D9BD.zip:   0%|          | 0/502481541 [00:00<?, ?it/s]"
      ]
     },
     "metadata": {},
     "output_type": "display_data"
    },
    {
     "data": {
      "application/vnd.jupyter.widget-view+json": {
       "model_id": "d41ab5f08e3e4b1c9b122968029694b8",
       "version_major": 2,
       "version_minor": 0
      },
      "text/plain": [
       "S1A_IW_20190630T155621_DVP_RTC30_G_gpuned_AD3A.zip:   0%|          | 0/452172764 [00:00<?, ?it/s]"
      ]
     },
     "metadata": {},
     "output_type": "display_data"
    },
    {
     "data": {
      "application/vnd.jupyter.widget-view+json": {
       "model_id": "cb19d17357474ae6a086b610ccefc129",
       "version_major": 2,
       "version_minor": 0
      },
      "text/plain": [
       "S1B_IW_20190630T031931_DVP_RTC30_G_gpuned_B803.zip:   0%|          | 0/468826377 [00:00<?, ?it/s]"
      ]
     },
     "metadata": {},
     "output_type": "display_data"
    },
    {
     "data": {
      "application/vnd.jupyter.widget-view+json": {
       "model_id": "51bbb1ad6fb549aaa894c9ce5f56a1ca",
       "version_major": 2,
       "version_minor": 0
      },
      "text/plain": [
       "S1B_IW_20190702T030313_DVP_RTC30_G_gpuned_DABF.zip:   0%|          | 0/450531681 [00:00<?, ?it/s]"
      ]
     },
     "metadata": {},
     "output_type": "display_data"
    },
    {
     "data": {
      "application/vnd.jupyter.widget-view+json": {
       "model_id": "6d656cec9f6e42fbacf6f5f1aa311d7b",
       "version_major": 2,
       "version_minor": 0
      },
      "text/plain": [
       "S1B_IW_20190702T030247_DVP_RTC30_G_gpuned_2D58.zip:   0%|          | 0/473668244 [00:00<?, ?it/s]"
      ]
     },
     "metadata": {},
     "output_type": "display_data"
    },
    {
     "name": "stdout",
     "output_type": "stream",
     "text": [
      "Current job: 91/177, time elapsed: 30.93 min, time remaining: 28.91 min\n"
     ]
    },
    {
     "data": {
      "application/vnd.jupyter.widget-view+json": {
       "model_id": "24240d50e2a6493b8b38893c9aeba475",
       "version_major": 2,
       "version_minor": 0
      },
      "text/plain": [
       "S1A_IW_20190707T154803_DVP_RTC30_G_gpuned_2B5F.zip:   0%|          | 0/454825552 [00:00<?, ?it/s]"
      ]
     },
     "metadata": {},
     "output_type": "display_data"
    },
    {
     "data": {
      "application/vnd.jupyter.widget-view+json": {
       "model_id": "446cbb84af804279843ffe38198e6499",
       "version_major": 2,
       "version_minor": 0
      },
      "text/plain": [
       "S1B_IW_20190712T031932_DVP_RTC30_G_gpuned_7BB6.zip:   0%|          | 0/470019966 [00:00<?, ?it/s]"
      ]
     },
     "metadata": {},
     "output_type": "display_data"
    },
    {
     "data": {
      "application/vnd.jupyter.widget-view+json": {
       "model_id": "7d61a6609e1647b68eebb0205ec2e7b5",
       "version_major": 2,
       "version_minor": 0
      },
      "text/plain": [
       "S1B_IW_20190712T031904_DVP_RTC30_G_gpuned_E739.zip:   0%|          | 0/503815559 [00:00<?, ?it/s]"
      ]
     },
     "metadata": {},
     "output_type": "display_data"
    },
    {
     "data": {
      "application/vnd.jupyter.widget-view+json": {
       "model_id": "98a71a09723f4679b010fbde184f5972",
       "version_major": 2,
       "version_minor": 0
      },
      "text/plain": [
       "S1A_IW_20190712T155622_DVP_RTC30_G_gpuned_13D4.zip:   0%|          | 0/451757155 [00:00<?, ?it/s]"
      ]
     },
     "metadata": {},
     "output_type": "display_data"
    },
    {
     "data": {
      "application/vnd.jupyter.widget-view+json": {
       "model_id": "88fa8afbc9e249f59caf958f1e484d33",
       "version_major": 2,
       "version_minor": 0
      },
      "text/plain": [
       "S1B_IW_20190714T030248_DVP_RTC30_G_gpuned_7F42.zip:   0%|          | 0/473483688 [00:00<?, ?it/s]"
      ]
     },
     "metadata": {},
     "output_type": "display_data"
    },
    {
     "data": {
      "application/vnd.jupyter.widget-view+json": {
       "model_id": "1950bb7a2c514021b1f5424847617995",
       "version_major": 2,
       "version_minor": 0
      },
      "text/plain": [
       "S1B_IW_20190714T030314_DVP_RTC30_G_gpuned_1BC6.zip:   0%|          | 0/450142950 [00:00<?, ?it/s]"
      ]
     },
     "metadata": {},
     "output_type": "display_data"
    },
    {
     "data": {
      "application/vnd.jupyter.widget-view+json": {
       "model_id": "02f44214d4c048f793fca9da21771fe5",
       "version_major": 2,
       "version_minor": 0
      },
      "text/plain": [
       "S1A_IW_20190719T154804_DVP_RTC30_G_gpuned_6EA6.zip:   0%|          | 0/454976006 [00:00<?, ?it/s]"
      ]
     },
     "metadata": {},
     "output_type": "display_data"
    },
    {
     "data": {
      "application/vnd.jupyter.widget-view+json": {
       "model_id": "944943c63cff4927b3ab628f5a9d98eb",
       "version_major": 2,
       "version_minor": 0
      },
      "text/plain": [
       "S1B_IW_20190724T031905_DVP_RTC30_G_gpuned_7CE9.zip:   0%|          | 0/503194371 [00:00<?, ?it/s]"
      ]
     },
     "metadata": {},
     "output_type": "display_data"
    },
    {
     "data": {
      "application/vnd.jupyter.widget-view+json": {
       "model_id": "9ad65ed85aeb40ea947ecad333d03a7f",
       "version_major": 2,
       "version_minor": 0
      },
      "text/plain": [
       "S1B_IW_20190724T031932_DVP_RTC30_G_gpuned_E4C3.zip:   0%|          | 0/469564235 [00:00<?, ?it/s]"
      ]
     },
     "metadata": {},
     "output_type": "display_data"
    },
    {
     "data": {
      "application/vnd.jupyter.widget-view+json": {
       "model_id": "dd01f16490a14cfea5d50aa2c940fd2f",
       "version_major": 2,
       "version_minor": 0
      },
      "text/plain": [
       "S1A_IW_20190724T155622_DVP_RTC30_G_gpuned_48AD.zip:   0%|          | 0/452056164 [00:00<?, ?it/s]"
      ]
     },
     "metadata": {},
     "output_type": "display_data"
    },
    {
     "name": "stdout",
     "output_type": "stream",
     "text": [
      "Current job: 101/177, time elapsed: 34.36 min, time remaining: 25.60 min\n"
     ]
    },
    {
     "data": {
      "application/vnd.jupyter.widget-view+json": {
       "model_id": "cd4aa1f40c8b4473819ce7da3992379d",
       "version_major": 2,
       "version_minor": 0
      },
      "text/plain": [
       "S1B_IW_20190726T030249_DVP_RTC30_G_gpuned_1FF9.zip:   0%|          | 0/473174759 [00:00<?, ?it/s]"
      ]
     },
     "metadata": {},
     "output_type": "display_data"
    },
    {
     "data": {
      "application/vnd.jupyter.widget-view+json": {
       "model_id": "5224aadd5c154236892b546464c36817",
       "version_major": 2,
       "version_minor": 0
      },
      "text/plain": [
       "S1B_IW_20190726T030315_DVP_RTC30_G_gpuned_F0BE.zip:   0%|          | 0/449793505 [00:00<?, ?it/s]"
      ]
     },
     "metadata": {},
     "output_type": "display_data"
    },
    {
     "data": {
      "application/vnd.jupyter.widget-view+json": {
       "model_id": "139645bddd7b4fb3b1522ffa8307160a",
       "version_major": 2,
       "version_minor": 0
      },
      "text/plain": [
       "S1A_IW_20190731T154804_DVP_RTC30_G_gpuned_00F0.zip:   0%|          | 0/455136889 [00:00<?, ?it/s]"
      ]
     },
     "metadata": {},
     "output_type": "display_data"
    },
    {
     "data": {
      "application/vnd.jupyter.widget-view+json": {
       "model_id": "f0fd55b23ce2450fac95f86ca4cc542e",
       "version_major": 2,
       "version_minor": 0
      },
      "text/plain": [
       "S1B_IW_20190805T031905_DVP_RTC30_G_gpuned_8324.zip:   0%|          | 0/504660926 [00:00<?, ?it/s]"
      ]
     },
     "metadata": {},
     "output_type": "display_data"
    },
    {
     "data": {
      "application/vnd.jupyter.widget-view+json": {
       "model_id": "985f0290af6d4622bffb910da6bba053",
       "version_major": 2,
       "version_minor": 0
      },
      "text/plain": [
       "S1B_IW_20190805T031933_DVP_RTC30_G_gpuned_071C.zip:   0%|          | 0/469609144 [00:00<?, ?it/s]"
      ]
     },
     "metadata": {},
     "output_type": "display_data"
    },
    {
     "data": {
      "application/vnd.jupyter.widget-view+json": {
       "model_id": "65878c83462a4ca787f570ce3fa0c28c",
       "version_major": 2,
       "version_minor": 0
      },
      "text/plain": [
       "S1A_IW_20190805T155623_DVP_RTC30_G_gpuned_27F4.zip:   0%|          | 0/452121361 [00:00<?, ?it/s]"
      ]
     },
     "metadata": {},
     "output_type": "display_data"
    },
    {
     "data": {
      "application/vnd.jupyter.widget-view+json": {
       "model_id": "8340c69550d241078b80696f668f2b35",
       "version_major": 2,
       "version_minor": 0
      },
      "text/plain": [
       "S1B_IW_20190807T030250_DVP_RTC30_G_gpuned_026C.zip:   0%|          | 0/473489145 [00:00<?, ?it/s]"
      ]
     },
     "metadata": {},
     "output_type": "display_data"
    },
    {
     "data": {
      "application/vnd.jupyter.widget-view+json": {
       "model_id": "d761a4130628450e8051981871ab3989",
       "version_major": 2,
       "version_minor": 0
      },
      "text/plain": [
       "S1B_IW_20190807T030315_DVP_RTC30_G_gpuned_3979.zip:   0%|          | 0/449730254 [00:00<?, ?it/s]"
      ]
     },
     "metadata": {},
     "output_type": "display_data"
    },
    {
     "data": {
      "application/vnd.jupyter.widget-view+json": {
       "model_id": "e22ad49bfcfc4f4f93d8f8ee89587b8c",
       "version_major": 2,
       "version_minor": 0
      },
      "text/plain": [
       "S1A_IW_20190812T154806_DVP_RTC30_G_gpuned_4C8C.zip:   0%|          | 0/454132912 [00:00<?, ?it/s]"
      ]
     },
     "metadata": {},
     "output_type": "display_data"
    },
    {
     "data": {
      "application/vnd.jupyter.widget-view+json": {
       "model_id": "b040fdf1a53241cc8c83bfc36423d381",
       "version_major": 2,
       "version_minor": 0
      },
      "text/plain": [
       "S1B_IW_20190817T031906_DVP_RTC30_G_gpuned_7CC1.zip:   0%|          | 0/504647465 [00:00<?, ?it/s]"
      ]
     },
     "metadata": {},
     "output_type": "display_data"
    },
    {
     "name": "stdout",
     "output_type": "stream",
     "text": [
      "Current job: 111/177, time elapsed: 37.74 min, time remaining: 22.24 min\n"
     ]
    },
    {
     "data": {
      "application/vnd.jupyter.widget-view+json": {
       "model_id": "40af8e74c144448a977fae2a313191ca",
       "version_major": 2,
       "version_minor": 0
      },
      "text/plain": [
       "S1A_IW_20190817T155624_DVP_RTC30_G_gpuned_EAFD.zip:   0%|          | 0/452058492 [00:00<?, ?it/s]"
      ]
     },
     "metadata": {},
     "output_type": "display_data"
    },
    {
     "data": {
      "application/vnd.jupyter.widget-view+json": {
       "model_id": "7fc68f2aac674ab493d58ee6ca1ccc0e",
       "version_major": 2,
       "version_minor": 0
      },
      "text/plain": [
       "S1B_IW_20190817T031934_DVP_RTC30_G_gpuned_14B9.zip:   0%|          | 0/469258776 [00:00<?, ?it/s]"
      ]
     },
     "metadata": {},
     "output_type": "display_data"
    },
    {
     "data": {
      "application/vnd.jupyter.widget-view+json": {
       "model_id": "77ac1557f0064254b50b5274cf8c858d",
       "version_major": 2,
       "version_minor": 0
      },
      "text/plain": [
       "S1B_IW_20190819T030250_DVP_RTC30_G_gpuned_E029.zip:   0%|          | 0/472877412 [00:00<?, ?it/s]"
      ]
     },
     "metadata": {},
     "output_type": "display_data"
    },
    {
     "data": {
      "application/vnd.jupyter.widget-view+json": {
       "model_id": "f3dfda95ed0146efb42b84c39596f0bc",
       "version_major": 2,
       "version_minor": 0
      },
      "text/plain": [
       "S1A_IW_20190824T154806_DVP_RTC30_G_gpuned_E09F.zip:   0%|          | 0/453480963 [00:00<?, ?it/s]"
      ]
     },
     "metadata": {},
     "output_type": "display_data"
    },
    {
     "data": {
      "application/vnd.jupyter.widget-view+json": {
       "model_id": "03d34a842fdd44e1b66a537aef960633",
       "version_major": 2,
       "version_minor": 0
      },
      "text/plain": [
       "S1B_IW_20190819T030316_DVP_RTC30_G_gpuned_8ECE.zip:   0%|          | 0/450264841 [00:00<?, ?it/s]"
      ]
     },
     "metadata": {},
     "output_type": "display_data"
    },
    {
     "data": {
      "application/vnd.jupyter.widget-view+json": {
       "model_id": "5f9472cd112e4291b56bd02fbe5c80d6",
       "version_major": 2,
       "version_minor": 0
      },
      "text/plain": [
       "S1B_IW_20190829T031907_DVP_RTC30_G_gpuned_7C57.zip:   0%|          | 0/503539472 [00:00<?, ?it/s]"
      ]
     },
     "metadata": {},
     "output_type": "display_data"
    },
    {
     "data": {
      "application/vnd.jupyter.widget-view+json": {
       "model_id": "9761964b19814471a80baa3c89c8a0db",
       "version_major": 2,
       "version_minor": 0
      },
      "text/plain": [
       "S1B_IW_20190829T031934_DVP_RTC30_G_gpuned_0688.zip:   0%|          | 0/469632965 [00:00<?, ?it/s]"
      ]
     },
     "metadata": {},
     "output_type": "display_data"
    },
    {
     "data": {
      "application/vnd.jupyter.widget-view+json": {
       "model_id": "baee42832aec4100ab5f1957110f397d",
       "version_major": 2,
       "version_minor": 0
      },
      "text/plain": [
       "S1A_IW_20190829T155624_DVP_RTC30_G_gpuned_71D9.zip:   0%|          | 0/451508900 [00:00<?, ?it/s]"
      ]
     },
     "metadata": {},
     "output_type": "display_data"
    },
    {
     "data": {
      "application/vnd.jupyter.widget-view+json": {
       "model_id": "109a8bf4deae403494005397440cd523",
       "version_major": 2,
       "version_minor": 0
      },
      "text/plain": [
       "S1B_IW_20190831T030317_DVP_RTC30_G_gpuned_FF48.zip:   0%|          | 0/450732203 [00:00<?, ?it/s]"
      ]
     },
     "metadata": {},
     "output_type": "display_data"
    },
    {
     "data": {
      "application/vnd.jupyter.widget-view+json": {
       "model_id": "e9baa270c4944014a239076fcdd8bc71",
       "version_major": 2,
       "version_minor": 0
      },
      "text/plain": [
       "S1B_IW_20190831T030251_DVP_RTC30_G_gpuned_376B.zip:   0%|          | 0/473208221 [00:00<?, ?it/s]"
      ]
     },
     "metadata": {},
     "output_type": "display_data"
    },
    {
     "name": "stdout",
     "output_type": "stream",
     "text": [
      "Current job: 121/177, time elapsed: 41.08 min, time remaining: 18.85 min\n"
     ]
    },
    {
     "data": {
      "application/vnd.jupyter.widget-view+json": {
       "model_id": "18fdce184c0a4daf933861994e20a79b",
       "version_major": 2,
       "version_minor": 0
      },
      "text/plain": [
       "S1A_IW_20190905T154807_DVP_RTC30_G_gpuned_7642.zip:   0%|          | 0/453904474 [00:00<?, ?it/s]"
      ]
     },
     "metadata": {},
     "output_type": "display_data"
    },
    {
     "data": {
      "application/vnd.jupyter.widget-view+json": {
       "model_id": "ccae20f2bd554f69845b3ee43bbf4458",
       "version_major": 2,
       "version_minor": 0
      },
      "text/plain": [
       "S1B_IW_20190910T031935_DVP_RTC30_G_gpuned_2107.zip:   0%|          | 0/469715079 [00:00<?, ?it/s]"
      ]
     },
     "metadata": {},
     "output_type": "display_data"
    },
    {
     "data": {
      "application/vnd.jupyter.widget-view+json": {
       "model_id": "03ef8bde650540bba0afeab371e087b7",
       "version_major": 2,
       "version_minor": 0
      },
      "text/plain": [
       "S1B_IW_20190910T031908_DVP_RTC30_G_gpuned_D116.zip:   0%|          | 0/502273314 [00:00<?, ?it/s]"
      ]
     },
     "metadata": {},
     "output_type": "display_data"
    },
    {
     "data": {
      "application/vnd.jupyter.widget-view+json": {
       "model_id": "a8380f6ae6044d729a1d001d3c226fe5",
       "version_major": 2,
       "version_minor": 0
      },
      "text/plain": [
       "S1B_IW_20190912T030251_DVP_RTC30_G_gpuned_C081.zip:   0%|          | 0/472755348 [00:00<?, ?it/s]"
      ]
     },
     "metadata": {},
     "output_type": "display_data"
    },
    {
     "data": {
      "application/vnd.jupyter.widget-view+json": {
       "model_id": "07f1c6facfa84542964f2981be262806",
       "version_major": 2,
       "version_minor": 0
      },
      "text/plain": [
       "S1A_IW_20190910T155625_DVP_RTC30_G_gpuned_A310.zip:   0%|          | 0/451369636 [00:00<?, ?it/s]"
      ]
     },
     "metadata": {},
     "output_type": "display_data"
    },
    {
     "data": {
      "application/vnd.jupyter.widget-view+json": {
       "model_id": "108579ff88094a048954fbd59e7531d4",
       "version_major": 2,
       "version_minor": 0
      },
      "text/plain": [
       "S1B_IW_20190912T030317_DVP_RTC30_G_gpuned_E57F.zip:   0%|          | 0/450635848 [00:00<?, ?it/s]"
      ]
     },
     "metadata": {},
     "output_type": "display_data"
    },
    {
     "data": {
      "application/vnd.jupyter.widget-view+json": {
       "model_id": "a54217be2bd949cabc484b26918cd3a2",
       "version_major": 2,
       "version_minor": 0
      },
      "text/plain": [
       "S1B_IW_20190922T031935_DVP_RTC30_G_gpuned_D962.zip:   0%|          | 0/469540778 [00:00<?, ?it/s]"
      ]
     },
     "metadata": {},
     "output_type": "display_data"
    },
    {
     "data": {
      "application/vnd.jupyter.widget-view+json": {
       "model_id": "410b28835a15405eb3a44e433bb0304e",
       "version_major": 2,
       "version_minor": 0
      },
      "text/plain": [
       "S1B_IW_20190922T031908_DVP_RTC30_G_gpuned_B223.zip:   0%|          | 0/502034450 [00:00<?, ?it/s]"
      ]
     },
     "metadata": {},
     "output_type": "display_data"
    },
    {
     "data": {
      "application/vnd.jupyter.widget-view+json": {
       "model_id": "dae8ba77e741485d84cae95b7a5ac57e",
       "version_major": 2,
       "version_minor": 0
      },
      "text/plain": [
       "S1A_IW_20190922T155626_DVP_RTC30_G_gpuned_35AA.zip:   0%|          | 0/451594970 [00:00<?, ?it/s]"
      ]
     },
     "metadata": {},
     "output_type": "display_data"
    },
    {
     "data": {
      "application/vnd.jupyter.widget-view+json": {
       "model_id": "b8972da699b84f6a8578d4700a9c481e",
       "version_major": 2,
       "version_minor": 0
      },
      "text/plain": [
       "S1B_IW_20190924T030318_DVP_RTC30_G_gpuned_BA34.zip:   0%|          | 0/450570388 [00:00<?, ?it/s]"
      ]
     },
     "metadata": {},
     "output_type": "display_data"
    },
    {
     "name": "stdout",
     "output_type": "stream",
     "text": [
      "Current job: 131/177, time elapsed: 44.30 min, time remaining: 15.44 min\n"
     ]
    },
    {
     "data": {
      "application/vnd.jupyter.widget-view+json": {
       "model_id": "e4b2c07109fd4e1ba22ec049dca61194",
       "version_major": 2,
       "version_minor": 0
      },
      "text/plain": [
       "S1B_IW_20190924T030252_DVP_RTC30_G_gpuned_21CF.zip:   0%|          | 0/472328880 [00:00<?, ?it/s]"
      ]
     },
     "metadata": {},
     "output_type": "display_data"
    },
    {
     "data": {
      "application/vnd.jupyter.widget-view+json": {
       "model_id": "ac507b17589c439083128bf5ecc9bdd7",
       "version_major": 2,
       "version_minor": 0
      },
      "text/plain": [
       "S1A_IW_20190929T154808_DVP_RTC30_G_gpuned_36A7.zip:   0%|          | 0/453801153 [00:00<?, ?it/s]"
      ]
     },
     "metadata": {},
     "output_type": "display_data"
    },
    {
     "data": {
      "application/vnd.jupyter.widget-view+json": {
       "model_id": "87bdcc3fc2644e4a91464fe800bcaf9f",
       "version_major": 2,
       "version_minor": 0
      },
      "text/plain": [
       "S1B_IW_20191004T031908_DVP_RTC30_G_gpuned_B5C4.zip:   0%|          | 0/502268818 [00:00<?, ?it/s]"
      ]
     },
     "metadata": {},
     "output_type": "display_data"
    },
    {
     "data": {
      "application/vnd.jupyter.widget-view+json": {
       "model_id": "09352b2ab1ad4dc58761facd695955b4",
       "version_major": 2,
       "version_minor": 0
      },
      "text/plain": [
       "S1B_IW_20191004T031936_DVP_RTC30_G_gpuned_C068.zip:   0%|          | 0/469200212 [00:00<?, ?it/s]"
      ]
     },
     "metadata": {},
     "output_type": "display_data"
    },
    {
     "data": {
      "application/vnd.jupyter.widget-view+json": {
       "model_id": "97a0bbdcb6994a5687c6007f66bbb490",
       "version_major": 2,
       "version_minor": 0
      },
      "text/plain": [
       "S1A_IW_20191004T155626_DVP_RTC30_G_gpuned_B678.zip:   0%|          | 0/451794337 [00:00<?, ?it/s]"
      ]
     },
     "metadata": {},
     "output_type": "display_data"
    },
    {
     "data": {
      "application/vnd.jupyter.widget-view+json": {
       "model_id": "79846997a7b047818642130927562cb5",
       "version_major": 2,
       "version_minor": 0
      },
      "text/plain": [
       "S1B_IW_20191006T030252_DVP_RTC30_G_gpuned_FA00.zip:   0%|          | 0/472155183 [00:00<?, ?it/s]"
      ]
     },
     "metadata": {},
     "output_type": "display_data"
    },
    {
     "data": {
      "application/vnd.jupyter.widget-view+json": {
       "model_id": "e6deeb118388482d9a25066bb4b88ee1",
       "version_major": 2,
       "version_minor": 0
      },
      "text/plain": [
       "S1B_IW_20191006T030318_DVP_RTC30_G_gpuned_539B.zip:   0%|          | 0/448572278 [00:00<?, ?it/s]"
      ]
     },
     "metadata": {},
     "output_type": "display_data"
    },
    {
     "data": {
      "application/vnd.jupyter.widget-view+json": {
       "model_id": "a296293c03c042ababf11c3b90902b0e",
       "version_major": 2,
       "version_minor": 0
      },
      "text/plain": [
       "S1B_IW_20191016T031908_DVP_RTC30_G_gpuned_EF12.zip:   0%|          | 0/502769263 [00:00<?, ?it/s]"
      ]
     },
     "metadata": {},
     "output_type": "display_data"
    },
    {
     "data": {
      "application/vnd.jupyter.widget-view+json": {
       "model_id": "1d1df087b60745b8a2005c30038bd490",
       "version_major": 2,
       "version_minor": 0
      },
      "text/plain": [
       "S1A_IW_20191011T154808_DVP_RTC30_G_gpuned_7D95.zip:   0%|          | 0/453236453 [00:00<?, ?it/s]"
      ]
     },
     "metadata": {},
     "output_type": "display_data"
    },
    {
     "data": {
      "application/vnd.jupyter.widget-view+json": {
       "model_id": "317d658d293444fb8fd6b8eb80bab809",
       "version_major": 2,
       "version_minor": 0
      },
      "text/plain": [
       "S1B_IW_20191016T031936_DVP_RTC30_G_gpuned_8300.zip:   0%|          | 0/467585213 [00:00<?, ?it/s]"
      ]
     },
     "metadata": {},
     "output_type": "display_data"
    },
    {
     "name": "stdout",
     "output_type": "stream",
     "text": [
      "Current job: 141/177, time elapsed: 47.48 min, time remaining: 12.04 min\n"
     ]
    },
    {
     "data": {
      "application/vnd.jupyter.widget-view+json": {
       "model_id": "4a4ad809f492474fb840bf06da5b029c",
       "version_major": 2,
       "version_minor": 0
      },
      "text/plain": [
       "S1A_IW_20191016T155626_DVP_RTC30_G_gpuned_A759.zip:   0%|          | 0/450517124 [00:00<?, ?it/s]"
      ]
     },
     "metadata": {},
     "output_type": "display_data"
    },
    {
     "data": {
      "application/vnd.jupyter.widget-view+json": {
       "model_id": "ea77076bd91141208bdcf4e94c3b8fad",
       "version_major": 2,
       "version_minor": 0
      },
      "text/plain": [
       "S1B_IW_20191018T030252_DVP_RTC30_G_gpuned_9BFD.zip:   0%|          | 0/471652180 [00:00<?, ?it/s]"
      ]
     },
     "metadata": {},
     "output_type": "display_data"
    },
    {
     "data": {
      "application/vnd.jupyter.widget-view+json": {
       "model_id": "224d59e1022d44b59f602ddccc34a3ba",
       "version_major": 2,
       "version_minor": 0
      },
      "text/plain": [
       "S1B_IW_20191018T030318_DVP_RTC30_G_gpuned_EAF4.zip:   0%|          | 0/447850207 [00:00<?, ?it/s]"
      ]
     },
     "metadata": {},
     "output_type": "display_data"
    },
    {
     "data": {
      "application/vnd.jupyter.widget-view+json": {
       "model_id": "a3b42c1e6e164e7ca0d1a50fe4cb5e8c",
       "version_major": 2,
       "version_minor": 0
      },
      "text/plain": [
       "S1A_IW_20191023T154808_DVP_RTC30_G_gpuned_1086.zip:   0%|          | 0/452440025 [00:00<?, ?it/s]"
      ]
     },
     "metadata": {},
     "output_type": "display_data"
    },
    {
     "data": {
      "application/vnd.jupyter.widget-view+json": {
       "model_id": "2ce6741e0eeb49a5b12351e551a40100",
       "version_major": 2,
       "version_minor": 0
      },
      "text/plain": [
       "S1B_IW_20191028T031936_DVP_RTC30_G_gpuned_6938.zip:   0%|          | 0/469429489 [00:00<?, ?it/s]"
      ]
     },
     "metadata": {},
     "output_type": "display_data"
    },
    {
     "data": {
      "application/vnd.jupyter.widget-view+json": {
       "model_id": "fb68fca3b6b54ec1b0f6e89a96319420",
       "version_major": 2,
       "version_minor": 0
      },
      "text/plain": [
       "S1B_IW_20191028T031908_DVP_RTC30_G_gpuned_ADB1.zip:   0%|          | 0/504465047 [00:00<?, ?it/s]"
      ]
     },
     "metadata": {},
     "output_type": "display_data"
    },
    {
     "data": {
      "application/vnd.jupyter.widget-view+json": {
       "model_id": "5c7b570ce45f49ddb6e193b9176050d8",
       "version_major": 2,
       "version_minor": 0
      },
      "text/plain": [
       "S1A_IW_20191028T155626_DVP_RTC30_G_gpuned_8EEB.zip:   0%|          | 0/452211034 [00:00<?, ?it/s]"
      ]
     },
     "metadata": {},
     "output_type": "display_data"
    },
    {
     "data": {
      "application/vnd.jupyter.widget-view+json": {
       "model_id": "810fbd43352644b8b5501e6364ac3c0b",
       "version_major": 2,
       "version_minor": 0
      },
      "text/plain": [
       "S1B_IW_20191030T030318_DVP_RTC30_G_gpuned_4078.zip:   0%|          | 0/450425553 [00:00<?, ?it/s]"
      ]
     },
     "metadata": {},
     "output_type": "display_data"
    },
    {
     "data": {
      "application/vnd.jupyter.widget-view+json": {
       "model_id": "2861937eec7a492190a3631ff9d58398",
       "version_major": 2,
       "version_minor": 0
      },
      "text/plain": [
       "S1B_IW_20191030T030252_DVP_RTC30_G_gpuned_7DAD.zip:   0%|          | 0/472477216 [00:00<?, ?it/s]"
      ]
     },
     "metadata": {},
     "output_type": "display_data"
    },
    {
     "data": {
      "application/vnd.jupyter.widget-view+json": {
       "model_id": "e4f04f0641084d0e831fd25c825e5d18",
       "version_major": 2,
       "version_minor": 0
      },
      "text/plain": [
       "S1A_IW_20191104T154808_DVP_RTC30_G_gpuned_DB56.zip:   0%|          | 0/451770574 [00:00<?, ?it/s]"
      ]
     },
     "metadata": {},
     "output_type": "display_data"
    },
    {
     "name": "stdout",
     "output_type": "stream",
     "text": [
      "Current job: 151/177, time elapsed: 50.68 min, time remaining: 8.67 min\n"
     ]
    },
    {
     "data": {
      "application/vnd.jupyter.widget-view+json": {
       "model_id": "385290e762e04cdb99b450f39d7a10ed",
       "version_major": 2,
       "version_minor": 0
      },
      "text/plain": [
       "S1B_IW_20191109T031936_DVP_RTC30_G_gpuned_5262.zip:   0%|          | 0/468345802 [00:00<?, ?it/s]"
      ]
     },
     "metadata": {},
     "output_type": "display_data"
    },
    {
     "data": {
      "application/vnd.jupyter.widget-view+json": {
       "model_id": "2b5fce9994c045a18a74a82c1d5d7c2f",
       "version_major": 2,
       "version_minor": 0
      },
      "text/plain": [
       "S1B_IW_20191109T031908_DVP_RTC30_G_gpuned_6981.zip:   0%|          | 0/503178643 [00:00<?, ?it/s]"
      ]
     },
     "metadata": {},
     "output_type": "display_data"
    },
    {
     "data": {
      "application/vnd.jupyter.widget-view+json": {
       "model_id": "daaf021afea141e3a5d8a36f2a530a0e",
       "version_major": 2,
       "version_minor": 0
      },
      "text/plain": [
       "S1A_IW_20191109T155626_DVP_RTC30_G_gpuned_552A.zip:   0%|          | 0/451069332 [00:00<?, ?it/s]"
      ]
     },
     "metadata": {},
     "output_type": "display_data"
    },
    {
     "data": {
      "application/vnd.jupyter.widget-view+json": {
       "model_id": "d42652dda13c43d2bdaba9b2ff4336b0",
       "version_major": 2,
       "version_minor": 0
      },
      "text/plain": [
       "S1B_IW_20191111T030252_DVP_RTC30_G_gpuned_C66D.zip:   0%|          | 0/471637274 [00:00<?, ?it/s]"
      ]
     },
     "metadata": {},
     "output_type": "display_data"
    },
    {
     "data": {
      "application/vnd.jupyter.widget-view+json": {
       "model_id": "9d93089c22364a0b8317aa90b85be3f6",
       "version_major": 2,
       "version_minor": 0
      },
      "text/plain": [
       "S1B_IW_20191111T030318_DVP_RTC30_G_gpuned_53B8.zip:   0%|          | 0/448281437 [00:00<?, ?it/s]"
      ]
     },
     "metadata": {},
     "output_type": "display_data"
    },
    {
     "data": {
      "application/vnd.jupyter.widget-view+json": {
       "model_id": "20b50ce7e6e74c2aaefc9c73ea292daa",
       "version_major": 2,
       "version_minor": 0
      },
      "text/plain": [
       "S1A_IW_20191116T154808_DVP_RTC30_G_gpuned_0DB9.zip:   0%|          | 0/452448509 [00:00<?, ?it/s]"
      ]
     },
     "metadata": {},
     "output_type": "display_data"
    },
    {
     "data": {
      "application/vnd.jupyter.widget-view+json": {
       "model_id": "81a5d2a887594d18a3a1e20aa104aa7a",
       "version_major": 2,
       "version_minor": 0
      },
      "text/plain": [
       "S1B_IW_20191121T031936_DVP_RTC30_G_gpuned_BA79.zip:   0%|          | 0/469013492 [00:00<?, ?it/s]"
      ]
     },
     "metadata": {},
     "output_type": "display_data"
    },
    {
     "data": {
      "application/vnd.jupyter.widget-view+json": {
       "model_id": "3c5f2a77b8d34475948330afab4cd311",
       "version_major": 2,
       "version_minor": 0
      },
      "text/plain": [
       "S1B_IW_20191121T031908_DVP_RTC30_G_gpuned_4906.zip:   0%|          | 0/503978190 [00:00<?, ?it/s]"
      ]
     },
     "metadata": {},
     "output_type": "display_data"
    },
    {
     "data": {
      "application/vnd.jupyter.widget-view+json": {
       "model_id": "b14781e02f2042a2ada39e53ee126b68",
       "version_major": 2,
       "version_minor": 0
      },
      "text/plain": [
       "S1A_IW_20191121T155626_DVP_RTC30_G_gpuned_ABA5.zip:   0%|          | 0/452262528 [00:00<?, ?it/s]"
      ]
     },
     "metadata": {},
     "output_type": "display_data"
    },
    {
     "data": {
      "application/vnd.jupyter.widget-view+json": {
       "model_id": "25258ad410bf4ba7ae82bc7440660455",
       "version_major": 2,
       "version_minor": 0
      },
      "text/plain": [
       "S1B_IW_20191123T030252_DVP_RTC30_G_gpuned_4D6F.zip:   0%|          | 0/472393219 [00:00<?, ?it/s]"
      ]
     },
     "metadata": {},
     "output_type": "display_data"
    },
    {
     "name": "stdout",
     "output_type": "stream",
     "text": [
      "Current job: 161/177, time elapsed: 53.93 min, time remaining: 5.33 min\n"
     ]
    },
    {
     "data": {
      "application/vnd.jupyter.widget-view+json": {
       "model_id": "b0a2bf1b56bd4670a4e1dd6028da9744",
       "version_major": 2,
       "version_minor": 0
      },
      "text/plain": [
       "S1B_IW_20191123T030318_DVP_RTC30_G_gpuned_D7E4.zip:   0%|          | 0/448565050 [00:00<?, ?it/s]"
      ]
     },
     "metadata": {},
     "output_type": "display_data"
    },
    {
     "data": {
      "application/vnd.jupyter.widget-view+json": {
       "model_id": "7c5a0e49122c4c76872a301e59cd3e28",
       "version_major": 2,
       "version_minor": 0
      },
      "text/plain": [
       "S1A_IW_20191128T154807_DVP_RTC30_G_gpuned_8863.zip:   0%|          | 0/452563734 [00:00<?, ?it/s]"
      ]
     },
     "metadata": {},
     "output_type": "display_data"
    },
    {
     "data": {
      "application/vnd.jupyter.widget-view+json": {
       "model_id": "5bf1fe0269fb47e9bd71cda67438da1e",
       "version_major": 2,
       "version_minor": 0
      },
      "text/plain": [
       "S1B_IW_20191203T031935_DVP_RTC30_G_gpuned_A326.zip:   0%|          | 0/467769265 [00:00<?, ?it/s]"
      ]
     },
     "metadata": {},
     "output_type": "display_data"
    },
    {
     "data": {
      "application/vnd.jupyter.widget-view+json": {
       "model_id": "a9f4a36d1f6f40a9b746d542f85f39e0",
       "version_major": 2,
       "version_minor": 0
      },
      "text/plain": [
       "S1B_IW_20191203T031908_DVP_RTC30_G_gpuned_DF6B.zip:   0%|          | 0/504537376 [00:00<?, ?it/s]"
      ]
     },
     "metadata": {},
     "output_type": "display_data"
    },
    {
     "data": {
      "application/vnd.jupyter.widget-view+json": {
       "model_id": "9864563eb54b4c2d9f1aa49572dfd0a9",
       "version_major": 2,
       "version_minor": 0
      },
      "text/plain": [
       "S1A_IW_20191203T155625_DVP_RTC30_G_gpuned_F379.zip:   0%|          | 0/451093100 [00:00<?, ?it/s]"
      ]
     },
     "metadata": {},
     "output_type": "display_data"
    },
    {
     "data": {
      "application/vnd.jupyter.widget-view+json": {
       "model_id": "50a385264633441d921328b740e3bcb8",
       "version_major": 2,
       "version_minor": 0
      },
      "text/plain": [
       "S1B_IW_20191215T031907_DVP_RTC30_G_gpuned_83E2.zip:   0%|          | 0/503780715 [00:00<?, ?it/s]"
      ]
     },
     "metadata": {},
     "output_type": "display_data"
    },
    {
     "data": {
      "application/vnd.jupyter.widget-view+json": {
       "model_id": "0d6ff68424ac470aaba5f6423f2cedd6",
       "version_major": 2,
       "version_minor": 0
      },
      "text/plain": [
       "S1A_IW_20191210T154807_DVP_RTC30_G_gpuned_BD90.zip:   0%|          | 0/452724535 [00:00<?, ?it/s]"
      ]
     },
     "metadata": {},
     "output_type": "display_data"
    },
    {
     "data": {
      "application/vnd.jupyter.widget-view+json": {
       "model_id": "2c6a739ab7174d518a3f99dd396055a0",
       "version_major": 2,
       "version_minor": 0
      },
      "text/plain": [
       "S1A_IW_20191215T155625_DVP_RTC30_G_gpuned_C19A.zip:   0%|          | 0/451326561 [00:00<?, ?it/s]"
      ]
     },
     "metadata": {},
     "output_type": "display_data"
    },
    {
     "data": {
      "application/vnd.jupyter.widget-view+json": {
       "model_id": "db69c4a100fe43e695b49634aae6050f",
       "version_major": 2,
       "version_minor": 0
      },
      "text/plain": [
       "S1B_IW_20191215T031935_DVP_RTC30_G_gpuned_F415.zip:   0%|          | 0/468349956 [00:00<?, ?it/s]"
      ]
     },
     "metadata": {},
     "output_type": "display_data"
    },
    {
     "data": {
      "application/vnd.jupyter.widget-view+json": {
       "model_id": "16982e557d6d4069997ef26535cad197",
       "version_major": 2,
       "version_minor": 0
      },
      "text/plain": [
       "S1B_IW_20191217T030251_DVP_RTC30_G_gpuned_AD8E.zip:   0%|          | 0/471726843 [00:00<?, ?it/s]"
      ]
     },
     "metadata": {},
     "output_type": "display_data"
    },
    {
     "name": "stdout",
     "output_type": "stream",
     "text": [
      "Current job: 171/177, time elapsed: 57.15 min, time remaining: 1.99 min\n"
     ]
    },
    {
     "data": {
      "application/vnd.jupyter.widget-view+json": {
       "model_id": "ccb91570ffa64419a9dc22e0b6722e9d",
       "version_major": 2,
       "version_minor": 0
      },
      "text/plain": [
       "S1A_IW_20191222T154806_DVP_RTC30_G_gpuned_B06D.zip:   0%|          | 0/453554957 [00:00<?, ?it/s]"
      ]
     },
     "metadata": {},
     "output_type": "display_data"
    },
    {
     "data": {
      "application/vnd.jupyter.widget-view+json": {
       "model_id": "16bef750084e42009d1a52514d8e0d17",
       "version_major": 2,
       "version_minor": 0
      },
      "text/plain": [
       "S1B_IW_20191217T030317_DVP_RTC30_G_gpuned_E4FA.zip:   0%|          | 0/449287438 [00:00<?, ?it/s]"
      ]
     },
     "metadata": {},
     "output_type": "display_data"
    },
    {
     "data": {
      "application/vnd.jupyter.widget-view+json": {
       "model_id": "b862a12597a44c6281b3fd5fd3c60b0f",
       "version_major": 2,
       "version_minor": 0
      },
      "text/plain": [
       "S1B_IW_20191227T031934_DVP_RTC30_G_gpuned_A240.zip:   0%|          | 0/468583600 [00:00<?, ?it/s]"
      ]
     },
     "metadata": {},
     "output_type": "display_data"
    },
    {
     "data": {
      "application/vnd.jupyter.widget-view+json": {
       "model_id": "e7ff6f183c4041ad969bd62c304edbbd",
       "version_major": 2,
       "version_minor": 0
      },
      "text/plain": [
       "S1B_IW_20191227T031907_DVP_RTC30_G_gpuned_847C.zip:   0%|          | 0/504696915 [00:00<?, ?it/s]"
      ]
     },
     "metadata": {},
     "output_type": "display_data"
    },
    {
     "data": {
      "application/vnd.jupyter.widget-view+json": {
       "model_id": "cec0ffb5a1c44345b3c614e06e875a72",
       "version_major": 2,
       "version_minor": 0
      },
      "text/plain": [
       "S1A_IW_20191227T155624_DVP_RTC30_G_gpuned_DF5A.zip:   0%|          | 0/451662644 [00:00<?, ?it/s]"
      ]
     },
     "metadata": {},
     "output_type": "display_data"
    },
    {
     "data": {
      "application/vnd.jupyter.widget-view+json": {
       "model_id": "8b2c19f29f2949f9b175b8df0e607efa",
       "version_major": 2,
       "version_minor": 0
      },
      "text/plain": [
       "S1B_IW_20191229T030250_DVP_RTC30_G_gpuned_273F.zip:   0%|          | 0/472216615 [00:00<?, ?it/s]"
      ]
     },
     "metadata": {},
     "output_type": "display_data"
    },
    {
     "data": {
      "application/vnd.jupyter.widget-view+json": {
       "model_id": "a176d133c5064828bb9b42e07ca9c33b",
       "version_major": 2,
       "version_minor": 0
      },
      "text/plain": [
       "S1B_IW_20191229T030316_DVP_RTC30_G_gpuned_16FC.zip:   0%|          | 0/450249977 [00:00<?, ?it/s]"
      ]
     },
     "metadata": {},
     "output_type": "display_data"
    }
   ],
   "source": [
    "#Download the products, unzip them into the rtc_download directory, convert them to dB, and delete the zip files:\n",
    "\n",
    "# projectname = 'Kenn_20_notebook_2'\n",
    "projectname = f'{projname}_{year%1000}_notebook'\n",
    "EPSGn = '32607'\n",
    "pols = ['VV','VH']\n",
    "\n",
    "autoEPSG=False #use this to pull the first projection and use that as your projection for all images\n",
    "\n",
    "joblist = hyp3.find_jobs(name=projectname)\n",
    "joblen = len(joblist)-1\n",
    "# jobi=0\n",
    "t = time.time()\n",
    "for i,job in enumerate(joblist):\n",
    "    if job.succeeded()==True:\n",
    "        if i%10 ==1:\n",
    "            te = time.time()-t\n",
    "            print(f'Current job: {i}/{joblen}, time elapsed: {te/60:.2f} min, time remaining: {(te/(i+1)*(joblen-i))/60:.2f} min')\n",
    "        job.download_files(download_path)\n",
    "        for pol in pols:\n",
    "            # print(pol)\n",
    "            extracttif(download_path,products_path,pol=pol,convert=False)\n",
    "            if autoEPSG:\n",
    "                if (i == 0) and (pol == pols[0]):\n",
    "                    fileg = glob.glob(f'{str(products_path)}/*.tif')\n",
    "                    print(getEPSG(fileg[0]))\n",
    "                    #SET THIS UP TO SET EPSG!!\n",
    "            # fulltif = glob.glob(f'{str(products_path)}/*{pol}*')\n",
    "            reproject(WTKstr,EPSGn,products_path,f'{str(clipped_path)}/{pol}',convert_to_db=True)\n",
    "            os.system(f'rm {str(products_path)}/*.tif')\n",
    "            time.sleep(3)\n",
    "        os.system(f'rm {str(download_path)}/*.zip')\n",
    "            # extracttif(download_path,products_path,'VH',convert=True)\n",
    "    else:\n",
    "        print(f'WARNING: job {i} did not succeed')"
   ]
  },
  {
   "cell_type": "code",
   "execution_count": 9,
   "id": "60bc84cf-68a6-451f-af7c-dd02d71155c1",
   "metadata": {},
   "outputs": [],
   "source": [
    "# Check Failed Jobs:\n",
    "# print(joblist[5].succeeded)"
   ]
  },
  {
   "cell_type": "markdown",
   "id": "4352c4ae-76fa-4b07-8ae1-bf172c380f7c",
   "metadata": {},
   "source": [
    "## Create some metadata\n",
    "\n",
    "I want: a set of lists that have (with each proper corresponding entry), image name (granule I guess), date (date will be used to match), orbit pf, and orbit unique pf number"
   ]
  },
  {
   "cell_type": "code",
   "execution_count": 29,
   "id": "b7c24847-5441-40fd-8d43-04a23067a5ac",
   "metadata": {},
   "outputs": [],
   "source": [
    "def getSARdate(file,returndatestring=False):\n",
    "    '''Obtains the date of the start of a SAR acquisition, returns as a datetime\n",
    "    or a string.'''\n",
    "\n",
    "    file = str(file)\n",
    "    query = \"_????????T??????_\"\n",
    "    seqquery = str(query)\n",
    "    seqquery.replace('?','[0-9]')\n",
    "\n",
    "    substrings = fnmatch.filter((file[i:i+len(query)] for i in range(len(file) - len(query))), seqquery)\n",
    "    dtstr = substrings[0][1:-1].split('T')\n",
    "    \n",
    "    dtint = [dtstr[0][0:4],dtstr[0][4:6],dtstr[0][6:8],dtstr[1][0:2],dtstr[1][2:4],dtstr[1][4:6]]\n",
    "    dtint = [int(i)for i in dtint]\n",
    "    dtimg = datetime(dtint[0],dtint[1],dtint[2],dtint[3],dtint[4],dtint[5])\n",
    "\n",
    "    if returndatestring:\n",
    "        dtstr = dtstr[0]+dtstr[1]\n",
    "        return dtimg,dtstr\n",
    "    else:\n",
    "        return dtimg"
   ]
  },
  {
   "cell_type": "code",
   "execution_count": 31,
   "id": "91e1d18c-39f6-4365-98bb-5803c739fcf7",
   "metadata": {},
   "outputs": [
    {
     "name": "stdout",
     "output_type": "stream",
     "text": [
      "(datetime.datetime(2019, 1, 1, 3, 19), datetime.datetime(2019, 1, 1, 3, 19, 28), datetime.datetime(2019, 1, 1, 15, 56, 18), datetime.datetime(2019, 1, 8, 15, 47, 59), datetime.datetime(2019, 1, 13, 3, 19), datetime.datetime(2019, 1, 13, 3, 19, 27), datetime.datetime(2019, 1, 13, 15, 56, 17), datetime.datetime(2019, 1, 15, 3, 2, 44), datetime.datetime(2019, 1, 15, 3, 3, 9), datetime.datetime(2019, 1, 20, 15, 47, 59), datetime.datetime(2019, 1, 25, 3, 18, 59), datetime.datetime(2019, 1, 25, 3, 19, 27), datetime.datetime(2019, 1, 25, 15, 56, 17), datetime.datetime(2019, 1, 27, 3, 2, 43), datetime.datetime(2019, 1, 27, 3, 3, 9), datetime.datetime(2019, 2, 1, 15, 47, 58), datetime.datetime(2019, 2, 6, 3, 18, 59), datetime.datetime(2019, 2, 6, 3, 19, 27), datetime.datetime(2019, 2, 6, 15, 56, 16), datetime.datetime(2019, 2, 13, 15, 47, 58), datetime.datetime(2019, 2, 18, 3, 18, 59), datetime.datetime(2019, 2, 18, 3, 19, 26), datetime.datetime(2019, 2, 18, 15, 56, 16), datetime.datetime(2019, 2, 20, 3, 2, 43), datetime.datetime(2019, 2, 20, 3, 3, 8), datetime.datetime(2019, 2, 25, 15, 47, 58), datetime.datetime(2019, 3, 2, 3, 18, 59), datetime.datetime(2019, 3, 2, 3, 19, 26), datetime.datetime(2019, 3, 2, 15, 56, 16), datetime.datetime(2019, 3, 4, 3, 2, 43), datetime.datetime(2019, 3, 4, 3, 3, 8), datetime.datetime(2019, 3, 9, 15, 47, 58), datetime.datetime(2019, 3, 14, 3, 18, 59), datetime.datetime(2019, 3, 14, 3, 19, 26), datetime.datetime(2019, 3, 14, 15, 56, 16), datetime.datetime(2019, 3, 16, 3, 2, 42), datetime.datetime(2019, 3, 16, 3, 3, 8), datetime.datetime(2019, 3, 21, 15, 47, 58), datetime.datetime(2019, 3, 26, 3, 18, 59), datetime.datetime(2019, 3, 26, 3, 19, 26), datetime.datetime(2019, 3, 26, 15, 56, 17), datetime.datetime(2019, 3, 28, 3, 2, 43), datetime.datetime(2019, 3, 28, 3, 3, 9), datetime.datetime(2019, 4, 2, 15, 47, 58), datetime.datetime(2019, 4, 7, 3, 18, 59), datetime.datetime(2019, 4, 7, 3, 19, 27), datetime.datetime(2019, 4, 7, 15, 56, 17), datetime.datetime(2019, 4, 9, 3, 2, 43), datetime.datetime(2019, 4, 9, 3, 3, 9), datetime.datetime(2019, 4, 14, 15, 47, 59), datetime.datetime(2019, 4, 19, 3, 18, 59), datetime.datetime(2019, 4, 19, 3, 19, 27), datetime.datetime(2019, 4, 19, 15, 56, 17), datetime.datetime(2019, 4, 21, 3, 2, 44), datetime.datetime(2019, 4, 21, 3, 3, 9), datetime.datetime(2019, 4, 26, 15, 47, 59), datetime.datetime(2019, 5, 1, 3, 19), datetime.datetime(2019, 5, 1, 3, 19, 28), datetime.datetime(2019, 5, 1, 15, 56, 18), datetime.datetime(2019, 5, 3, 3, 2, 44), datetime.datetime(2019, 5, 3, 3, 3, 10), datetime.datetime(2019, 5, 8, 15, 47, 59), datetime.datetime(2019, 5, 13, 3, 19, 1), datetime.datetime(2019, 5, 13, 3, 19, 28), datetime.datetime(2019, 5, 13, 15, 56, 18), datetime.datetime(2019, 5, 15, 3, 2, 45), datetime.datetime(2019, 5, 15, 3, 3, 10), datetime.datetime(2019, 5, 20, 15, 48), datetime.datetime(2019, 5, 25, 3, 19, 1), datetime.datetime(2019, 5, 25, 3, 19, 29), datetime.datetime(2019, 5, 25, 15, 56, 19), datetime.datetime(2019, 5, 27, 3, 2, 45), datetime.datetime(2019, 5, 27, 3, 3, 11), datetime.datetime(2019, 6, 1, 15, 48, 1), datetime.datetime(2019, 6, 6, 3, 19, 2), datetime.datetime(2019, 6, 6, 3, 19, 29), datetime.datetime(2019, 6, 6, 15, 56, 19), datetime.datetime(2019, 6, 8, 3, 2, 46), datetime.datetime(2019, 6, 8, 3, 3, 12), datetime.datetime(2019, 6, 13, 15, 48, 1), datetime.datetime(2019, 6, 18, 3, 19, 3), datetime.datetime(2019, 6, 18, 3, 19, 30), datetime.datetime(2019, 6, 18, 15, 56, 20), datetime.datetime(2019, 6, 20, 3, 2, 47), datetime.datetime(2019, 6, 20, 3, 3, 12), datetime.datetime(2019, 6, 25, 15, 48, 2), datetime.datetime(2019, 6, 30, 3, 19, 3), datetime.datetime(2019, 6, 30, 3, 19, 31), datetime.datetime(2019, 6, 30, 15, 56, 21), datetime.datetime(2019, 7, 2, 3, 2, 47), datetime.datetime(2019, 7, 2, 3, 3, 13), datetime.datetime(2019, 7, 7, 15, 48, 3), datetime.datetime(2019, 7, 12, 3, 19, 4), datetime.datetime(2019, 7, 12, 3, 19, 32), datetime.datetime(2019, 7, 12, 15, 56, 22), datetime.datetime(2019, 7, 14, 3, 2, 48), datetime.datetime(2019, 7, 14, 3, 3, 14), datetime.datetime(2019, 7, 19, 15, 48, 4), datetime.datetime(2019, 7, 24, 3, 19, 5), datetime.datetime(2019, 7, 24, 3, 19, 32), datetime.datetime(2019, 7, 24, 15, 56, 22), datetime.datetime(2019, 7, 26, 3, 2, 49), datetime.datetime(2019, 7, 26, 3, 3, 15), datetime.datetime(2019, 7, 31, 15, 48, 4), datetime.datetime(2019, 8, 5, 3, 19, 5), datetime.datetime(2019, 8, 5, 3, 19, 33), datetime.datetime(2019, 8, 5, 15, 56, 23), datetime.datetime(2019, 8, 7, 3, 2, 50), datetime.datetime(2019, 8, 7, 3, 3, 15), datetime.datetime(2019, 8, 12, 15, 48, 6), datetime.datetime(2019, 8, 17, 3, 19, 6), datetime.datetime(2019, 8, 17, 3, 19, 34), datetime.datetime(2019, 8, 17, 15, 56, 24), datetime.datetime(2019, 8, 19, 3, 2, 50), datetime.datetime(2019, 8, 19, 3, 3, 16), datetime.datetime(2019, 8, 24, 15, 48, 6), datetime.datetime(2019, 8, 29, 3, 19, 7), datetime.datetime(2019, 8, 29, 3, 19, 34), datetime.datetime(2019, 8, 29, 15, 56, 24), datetime.datetime(2019, 8, 31, 3, 2, 51), datetime.datetime(2019, 8, 31, 3, 3, 17), datetime.datetime(2019, 9, 5, 15, 48, 7), datetime.datetime(2019, 9, 10, 3, 19, 8), datetime.datetime(2019, 9, 10, 3, 19, 35), datetime.datetime(2019, 9, 10, 15, 56, 25), datetime.datetime(2019, 9, 12, 3, 2, 51), datetime.datetime(2019, 9, 12, 3, 3, 17), datetime.datetime(2019, 9, 22, 3, 19, 8), datetime.datetime(2019, 9, 22, 3, 19, 35), datetime.datetime(2019, 9, 22, 15, 56, 26), datetime.datetime(2019, 9, 24, 3, 2, 52), datetime.datetime(2019, 9, 24, 3, 3, 18), datetime.datetime(2019, 9, 29, 15, 48, 8), datetime.datetime(2019, 10, 4, 3, 19, 8), datetime.datetime(2019, 10, 4, 3, 19, 36), datetime.datetime(2019, 10, 4, 15, 56, 26), datetime.datetime(2019, 10, 6, 3, 2, 52), datetime.datetime(2019, 10, 6, 3, 3, 18), datetime.datetime(2019, 10, 11, 15, 48, 8), datetime.datetime(2019, 10, 16, 3, 19, 8), datetime.datetime(2019, 10, 16, 3, 19, 36), datetime.datetime(2019, 10, 16, 15, 56, 26), datetime.datetime(2019, 10, 18, 3, 2, 52), datetime.datetime(2019, 10, 18, 3, 3, 18), datetime.datetime(2019, 10, 23, 15, 48, 8), datetime.datetime(2019, 10, 28, 3, 19, 8), datetime.datetime(2019, 10, 28, 3, 19, 36), datetime.datetime(2019, 10, 28, 15, 56, 26), datetime.datetime(2019, 10, 30, 3, 2, 52), datetime.datetime(2019, 10, 30, 3, 3, 18), datetime.datetime(2019, 11, 4, 15, 48, 8), datetime.datetime(2019, 11, 9, 3, 19, 8), datetime.datetime(2019, 11, 9, 3, 19, 36), datetime.datetime(2019, 11, 9, 15, 56, 26), datetime.datetime(2019, 11, 11, 3, 2, 52), datetime.datetime(2019, 11, 11, 3, 3, 18), datetime.datetime(2019, 11, 16, 15, 48, 8), datetime.datetime(2019, 11, 21, 3, 19, 8), datetime.datetime(2019, 11, 21, 3, 19, 36), datetime.datetime(2019, 11, 21, 15, 56, 26), datetime.datetime(2019, 11, 23, 3, 2, 52), datetime.datetime(2019, 11, 23, 3, 3, 18), datetime.datetime(2019, 11, 28, 15, 48, 7), datetime.datetime(2019, 12, 3, 3, 19, 8), datetime.datetime(2019, 12, 3, 3, 19, 35), datetime.datetime(2019, 12, 3, 15, 56, 25), datetime.datetime(2019, 12, 10, 15, 48, 7), datetime.datetime(2019, 12, 15, 3, 19, 7), datetime.datetime(2019, 12, 15, 3, 19, 35), datetime.datetime(2019, 12, 15, 15, 56, 25), datetime.datetime(2019, 12, 17, 3, 2, 51), datetime.datetime(2019, 12, 17, 3, 3, 17), datetime.datetime(2019, 12, 22, 15, 48, 6), datetime.datetime(2019, 12, 27, 3, 19, 7), datetime.datetime(2019, 12, 27, 3, 19, 34), datetime.datetime(2019, 12, 27, 15, 56, 24), datetime.datetime(2019, 12, 29, 3, 2, 50), datetime.datetime(2019, 12, 29, 3, 3, 16))\n",
      "('/home/jovyan/Kenn/2019/rtc_clipped/VH/S1B_IW_20190101T031900_DVP_RTC30_G_gpuned_A41E_VH.tif', '/home/jovyan/Kenn/2019/rtc_clipped/VH/S1B_IW_20190101T031928_DVP_RTC30_G_gpuned_F58A_VH.tif', '/home/jovyan/Kenn/2019/rtc_clipped/VH/S1A_IW_20190101T155618_DVP_RTC30_G_gpuned_CD28_VH.tif', '/home/jovyan/Kenn/2019/rtc_clipped/VH/S1A_IW_20190108T154759_DVP_RTC30_G_gpuned_C5DD_VH.tif', '/home/jovyan/Kenn/2019/rtc_clipped/VH/S1B_IW_20190113T031900_DVP_RTC30_G_gpuned_544D_VH.tif', '/home/jovyan/Kenn/2019/rtc_clipped/VH/S1B_IW_20190113T031927_DVP_RTC30_G_gpuned_3C9B_VH.tif', '/home/jovyan/Kenn/2019/rtc_clipped/VH/S1A_IW_20190113T155617_DVP_RTC30_G_gpuned_EEAD_VH.tif', '/home/jovyan/Kenn/2019/rtc_clipped/VH/S1B_IW_20190115T030244_DVP_RTC30_G_gpuned_0322_VH.tif', '/home/jovyan/Kenn/2019/rtc_clipped/VH/S1B_IW_20190115T030309_DVP_RTC30_G_gpuned_3433_VH.tif', '/home/jovyan/Kenn/2019/rtc_clipped/VH/S1A_IW_20190120T154759_DVP_RTC30_G_gpuned_C629_VH.tif', '/home/jovyan/Kenn/2019/rtc_clipped/VH/S1B_IW_20190125T031859_DVP_RTC30_G_gpuned_3CA9_VH.tif', '/home/jovyan/Kenn/2019/rtc_clipped/VH/S1B_IW_20190125T031927_DVP_RTC30_G_gpuned_D1D2_VH.tif', '/home/jovyan/Kenn/2019/rtc_clipped/VH/S1A_IW_20190125T155617_DVP_RTC30_G_gpuned_1D84_VH.tif', '/home/jovyan/Kenn/2019/rtc_clipped/VH/S1B_IW_20190127T030243_DVP_RTC30_G_gpuned_A2A4_VH.tif', '/home/jovyan/Kenn/2019/rtc_clipped/VH/S1B_IW_20190127T030309_DVP_RTC30_G_gpuned_A5F6_VH.tif', '/home/jovyan/Kenn/2019/rtc_clipped/VH/S1A_IW_20190201T154758_DVP_RTC30_G_gpuned_8B31_VH.tif', '/home/jovyan/Kenn/2019/rtc_clipped/VH/S1B_IW_20190206T031859_DVP_RTC30_G_gpuned_820E_VH.tif', '/home/jovyan/Kenn/2019/rtc_clipped/VH/S1B_IW_20190206T031927_DVP_RTC30_G_gpuned_F408_VH.tif', '/home/jovyan/Kenn/2019/rtc_clipped/VH/S1A_IW_20190206T155616_DVP_RTC30_G_gpuned_026C_VH.tif', '/home/jovyan/Kenn/2019/rtc_clipped/VH/S1A_IW_20190213T154758_DVP_RTC30_G_gpuned_5BEC_VH.tif', '/home/jovyan/Kenn/2019/rtc_clipped/VH/S1B_IW_20190218T031859_DVP_RTC30_G_gpuned_860C_VH.tif', '/home/jovyan/Kenn/2019/rtc_clipped/VH/S1B_IW_20190218T031926_DVP_RTC30_G_gpuned_841A_VH.tif', '/home/jovyan/Kenn/2019/rtc_clipped/VH/S1A_IW_20190218T155616_DVP_RTC30_G_gpuned_2491_VH.tif', '/home/jovyan/Kenn/2019/rtc_clipped/VH/S1B_IW_20190220T030243_DVP_RTC30_G_gpuned_5065_VH.tif', '/home/jovyan/Kenn/2019/rtc_clipped/VH/S1B_IW_20190220T030308_DVP_RTC30_G_gpuned_5C99_VH.tif', '/home/jovyan/Kenn/2019/rtc_clipped/VH/S1A_IW_20190225T154758_DVP_RTC30_G_gpuned_65CF_VH.tif', '/home/jovyan/Kenn/2019/rtc_clipped/VH/S1B_IW_20190302T031859_DVP_RTC30_G_gpuned_90D5_VH.tif', '/home/jovyan/Kenn/2019/rtc_clipped/VH/S1B_IW_20190302T031926_DVP_RTC30_G_gpuned_93A5_VH.tif', '/home/jovyan/Kenn/2019/rtc_clipped/VH/S1A_IW_20190302T155616_DVP_RTC30_G_gpuned_FFDD_VH.tif', '/home/jovyan/Kenn/2019/rtc_clipped/VH/S1B_IW_20190304T030243_DVP_RTC30_G_gpuned_9CE0_VH.tif', '/home/jovyan/Kenn/2019/rtc_clipped/VH/S1B_IW_20190304T030308_DVP_RTC30_G_gpuned_EB49_VH.tif', '/home/jovyan/Kenn/2019/rtc_clipped/VH/S1A_IW_20190309T154758_DVP_RTC30_G_gpuned_2ECA_VH.tif', '/home/jovyan/Kenn/2019/rtc_clipped/VH/S1B_IW_20190314T031859_DVP_RTC30_G_gpuned_09E7_VH.tif', '/home/jovyan/Kenn/2019/rtc_clipped/VH/S1B_IW_20190314T031926_DVP_RTC30_G_gpuned_E51F_VH.tif', '/home/jovyan/Kenn/2019/rtc_clipped/VH/S1A_IW_20190314T155616_DVP_RTC30_G_gpuned_0D8A_VH.tif', '/home/jovyan/Kenn/2019/rtc_clipped/VH/S1B_IW_20190316T030242_DVP_RTC30_G_gpuned_410B_VH.tif', '/home/jovyan/Kenn/2019/rtc_clipped/VH/S1B_IW_20190316T030308_DVP_RTC30_G_gpuned_7320_VH.tif', '/home/jovyan/Kenn/2019/rtc_clipped/VH/S1A_IW_20190321T154758_DVP_RTC30_G_gpuned_3862_VH.tif', '/home/jovyan/Kenn/2019/rtc_clipped/VH/S1B_IW_20190326T031859_DVP_RTC30_G_gpuned_821C_VH.tif', '/home/jovyan/Kenn/2019/rtc_clipped/VH/S1B_IW_20190326T031926_DVP_RTC30_G_gpuned_324E_VH.tif', '/home/jovyan/Kenn/2019/rtc_clipped/VH/S1A_IW_20190326T155617_DVP_RTC30_G_gpuned_BFD8_VH.tif', '/home/jovyan/Kenn/2019/rtc_clipped/VH/S1B_IW_20190328T030243_DVP_RTC30_G_gpuned_FF74_VH.tif', '/home/jovyan/Kenn/2019/rtc_clipped/VH/S1B_IW_20190328T030309_DVP_RTC30_G_gpuned_61A8_VH.tif', '/home/jovyan/Kenn/2019/rtc_clipped/VH/S1A_IW_20190402T154758_DVP_RTC30_G_gpuned_D4EF_VH.tif', '/home/jovyan/Kenn/2019/rtc_clipped/VH/S1B_IW_20190407T031859_DVP_RTC30_G_gpuned_DD69_VH.tif', '/home/jovyan/Kenn/2019/rtc_clipped/VH/S1B_IW_20190407T031927_DVP_RTC30_G_gpuned_1F78_VH.tif', '/home/jovyan/Kenn/2019/rtc_clipped/VH/S1A_IW_20190407T155617_DVP_RTC30_G_gpuned_FF52_VH.tif', '/home/jovyan/Kenn/2019/rtc_clipped/VH/S1B_IW_20190409T030243_DVP_RTC30_G_gpuned_F40F_VH.tif', '/home/jovyan/Kenn/2019/rtc_clipped/VH/S1B_IW_20190409T030309_DVP_RTC30_G_gpuned_D967_VH.tif', '/home/jovyan/Kenn/2019/rtc_clipped/VH/S1A_IW_20190414T154759_DVP_RTC30_G_gpuned_6AF1_VH.tif', '/home/jovyan/Kenn/2019/rtc_clipped/VH/S1B_IW_20190419T031859_DVP_RTC30_G_gpuned_BD54_VH.tif', '/home/jovyan/Kenn/2019/rtc_clipped/VH/S1B_IW_20190419T031927_DVP_RTC30_G_gpuned_05EB_VH.tif', '/home/jovyan/Kenn/2019/rtc_clipped/VH/S1A_IW_20190419T155617_DVP_RTC30_G_gpuned_854A_VH.tif', '/home/jovyan/Kenn/2019/rtc_clipped/VH/S1B_IW_20190421T030244_DVP_RTC30_G_gpuned_901B_VH.tif', '/home/jovyan/Kenn/2019/rtc_clipped/VH/S1B_IW_20190421T030309_DVP_RTC30_G_gpuned_4A3E_VH.tif', '/home/jovyan/Kenn/2019/rtc_clipped/VH/S1A_IW_20190426T154759_DVP_RTC30_G_gpuned_32E4_VH.tif', '/home/jovyan/Kenn/2019/rtc_clipped/VH/S1B_IW_20190501T031900_DVP_RTC30_G_gpuned_EDE9_VH.tif', '/home/jovyan/Kenn/2019/rtc_clipped/VH/S1B_IW_20190501T031928_DVP_RTC30_G_gpuned_76FF_VH.tif', '/home/jovyan/Kenn/2019/rtc_clipped/VH/S1A_IW_20190501T155618_DVP_RTC30_G_gpuned_98BF_VH.tif', '/home/jovyan/Kenn/2019/rtc_clipped/VH/S1B_IW_20190503T030244_DVP_RTC30_G_gpuned_53F3_VH.tif', '/home/jovyan/Kenn/2019/rtc_clipped/VH/S1B_IW_20190503T030310_DVP_RTC30_G_gpuned_EA37_VH.tif', '/home/jovyan/Kenn/2019/rtc_clipped/VH/S1A_IW_20190508T154759_DVP_RTC30_G_gpuned_4B17_VH.tif', '/home/jovyan/Kenn/2019/rtc_clipped/VH/S1B_IW_20190513T031901_DVP_RTC30_G_gpuned_2E25_VH.tif', '/home/jovyan/Kenn/2019/rtc_clipped/VH/S1B_IW_20190513T031928_DVP_RTC30_G_gpuned_9F53_VH.tif', '/home/jovyan/Kenn/2019/rtc_clipped/VH/S1A_IW_20190513T155618_DVP_RTC30_G_gpuned_5923_VH.tif', '/home/jovyan/Kenn/2019/rtc_clipped/VH/S1B_IW_20190515T030245_DVP_RTC30_G_gpuned_A341_VH.tif', '/home/jovyan/Kenn/2019/rtc_clipped/VH/S1B_IW_20190515T030310_DVP_RTC30_G_gpuned_2032_VH.tif', '/home/jovyan/Kenn/2019/rtc_clipped/VH/S1A_IW_20190520T154800_DVP_RTC30_G_gpuned_92EE_VH.tif', '/home/jovyan/Kenn/2019/rtc_clipped/VH/S1B_IW_20190525T031901_DVP_RTC30_G_gpuned_FB0F_VH.tif', '/home/jovyan/Kenn/2019/rtc_clipped/VH/S1B_IW_20190525T031929_DVP_RTC30_G_gpuned_A6A4_VH.tif', '/home/jovyan/Kenn/2019/rtc_clipped/VH/S1A_IW_20190525T155619_DVP_RTC30_G_gpuned_A1ED_VH.tif', '/home/jovyan/Kenn/2019/rtc_clipped/VH/S1B_IW_20190527T030245_DVP_RTC30_G_gpuned_B8BE_VH.tif', '/home/jovyan/Kenn/2019/rtc_clipped/VH/S1B_IW_20190527T030311_DVP_RTC30_G_gpuned_A47D_VH.tif', '/home/jovyan/Kenn/2019/rtc_clipped/VH/S1A_IW_20190601T154801_DVP_RTC30_G_gpuned_BA2F_VH.tif', '/home/jovyan/Kenn/2019/rtc_clipped/VH/S1B_IW_20190606T031902_DVP_RTC30_G_gpuned_62BF_VH.tif', '/home/jovyan/Kenn/2019/rtc_clipped/VH/S1B_IW_20190606T031929_DVP_RTC30_G_gpuned_C2DF_VH.tif', '/home/jovyan/Kenn/2019/rtc_clipped/VH/S1A_IW_20190606T155619_DVP_RTC30_G_gpuned_7659_VH.tif', '/home/jovyan/Kenn/2019/rtc_clipped/VH/S1B_IW_20190608T030246_DVP_RTC30_G_gpuned_61C3_VH.tif', '/home/jovyan/Kenn/2019/rtc_clipped/VH/S1B_IW_20190608T030312_DVP_RTC30_G_gpuned_B707_VH.tif', '/home/jovyan/Kenn/2019/rtc_clipped/VH/S1A_IW_20190613T154801_DVP_RTC30_G_gpuned_06A7_VH.tif', '/home/jovyan/Kenn/2019/rtc_clipped/VH/S1B_IW_20190618T031903_DVP_RTC30_G_gpuned_F79C_VH.tif', '/home/jovyan/Kenn/2019/rtc_clipped/VH/S1B_IW_20190618T031930_DVP_RTC30_G_gpuned_1791_VH.tif', '/home/jovyan/Kenn/2019/rtc_clipped/VH/S1A_IW_20190618T155620_DVP_RTC30_G_gpuned_392C_VH.tif', '/home/jovyan/Kenn/2019/rtc_clipped/VH/S1B_IW_20190620T030247_DVP_RTC30_G_gpuned_F139_VH.tif', '/home/jovyan/Kenn/2019/rtc_clipped/VH/S1B_IW_20190620T030312_DVP_RTC30_G_gpuned_41FF_VH.tif', '/home/jovyan/Kenn/2019/rtc_clipped/VH/S1A_IW_20190625T154802_DVP_RTC30_G_gpuned_AD36_VH.tif', '/home/jovyan/Kenn/2019/rtc_clipped/VH/S1B_IW_20190630T031903_DVP_RTC30_G_gpuned_D9BD_VH.tif', '/home/jovyan/Kenn/2019/rtc_clipped/VH/S1B_IW_20190630T031931_DVP_RTC30_G_gpuned_B803_VH.tif', '/home/jovyan/Kenn/2019/rtc_clipped/VH/S1A_IW_20190630T155621_DVP_RTC30_G_gpuned_AD3A_VH.tif', '/home/jovyan/Kenn/2019/rtc_clipped/VH/S1B_IW_20190702T030247_DVP_RTC30_G_gpuned_2D58_VH.tif', '/home/jovyan/Kenn/2019/rtc_clipped/VH/S1B_IW_20190702T030313_DVP_RTC30_G_gpuned_DABF_VH.tif', '/home/jovyan/Kenn/2019/rtc_clipped/VH/S1A_IW_20190707T154803_DVP_RTC30_G_gpuned_2B5F_VH.tif', '/home/jovyan/Kenn/2019/rtc_clipped/VH/S1B_IW_20190712T031904_DVP_RTC30_G_gpuned_E739_VH.tif', '/home/jovyan/Kenn/2019/rtc_clipped/VH/S1B_IW_20190712T031932_DVP_RTC30_G_gpuned_7BB6_VH.tif', '/home/jovyan/Kenn/2019/rtc_clipped/VH/S1A_IW_20190712T155622_DVP_RTC30_G_gpuned_13D4_VH.tif', '/home/jovyan/Kenn/2019/rtc_clipped/VH/S1B_IW_20190714T030248_DVP_RTC30_G_gpuned_7F42_VH.tif', '/home/jovyan/Kenn/2019/rtc_clipped/VH/S1B_IW_20190714T030314_DVP_RTC30_G_gpuned_1BC6_VH.tif', '/home/jovyan/Kenn/2019/rtc_clipped/VH/S1A_IW_20190719T154804_DVP_RTC30_G_gpuned_6EA6_VH.tif', '/home/jovyan/Kenn/2019/rtc_clipped/VH/S1B_IW_20190724T031905_DVP_RTC30_G_gpuned_7CE9_VH.tif', '/home/jovyan/Kenn/2019/rtc_clipped/VH/S1B_IW_20190724T031932_DVP_RTC30_G_gpuned_E4C3_VH.tif', '/home/jovyan/Kenn/2019/rtc_clipped/VH/S1A_IW_20190724T155622_DVP_RTC30_G_gpuned_48AD_VH.tif', '/home/jovyan/Kenn/2019/rtc_clipped/VH/S1B_IW_20190726T030249_DVP_RTC30_G_gpuned_1FF9_VH.tif', '/home/jovyan/Kenn/2019/rtc_clipped/VH/S1B_IW_20190726T030315_DVP_RTC30_G_gpuned_F0BE_VH.tif', '/home/jovyan/Kenn/2019/rtc_clipped/VH/S1A_IW_20190731T154804_DVP_RTC30_G_gpuned_00F0_VH.tif', '/home/jovyan/Kenn/2019/rtc_clipped/VH/S1B_IW_20190805T031905_DVP_RTC30_G_gpuned_8324_VH.tif', '/home/jovyan/Kenn/2019/rtc_clipped/VH/S1B_IW_20190805T031933_DVP_RTC30_G_gpuned_071C_VH.tif', '/home/jovyan/Kenn/2019/rtc_clipped/VH/S1A_IW_20190805T155623_DVP_RTC30_G_gpuned_27F4_VH.tif', '/home/jovyan/Kenn/2019/rtc_clipped/VH/S1B_IW_20190807T030250_DVP_RTC30_G_gpuned_026C_VH.tif', '/home/jovyan/Kenn/2019/rtc_clipped/VH/S1B_IW_20190807T030315_DVP_RTC30_G_gpuned_3979_VH.tif', '/home/jovyan/Kenn/2019/rtc_clipped/VH/S1A_IW_20190812T154806_DVP_RTC30_G_gpuned_4C8C_VH.tif', '/home/jovyan/Kenn/2019/rtc_clipped/VH/S1B_IW_20190817T031906_DVP_RTC30_G_gpuned_7CC1_VH.tif', '/home/jovyan/Kenn/2019/rtc_clipped/VH/S1B_IW_20190817T031934_DVP_RTC30_G_gpuned_14B9_VH.tif', '/home/jovyan/Kenn/2019/rtc_clipped/VH/S1A_IW_20190817T155624_DVP_RTC30_G_gpuned_EAFD_VH.tif', '/home/jovyan/Kenn/2019/rtc_clipped/VH/S1B_IW_20190819T030250_DVP_RTC30_G_gpuned_E029_VH.tif', '/home/jovyan/Kenn/2019/rtc_clipped/VH/S1B_IW_20190819T030316_DVP_RTC30_G_gpuned_8ECE_VH.tif', '/home/jovyan/Kenn/2019/rtc_clipped/VH/S1A_IW_20190824T154806_DVP_RTC30_G_gpuned_E09F_VH.tif', '/home/jovyan/Kenn/2019/rtc_clipped/VH/S1B_IW_20190829T031907_DVP_RTC30_G_gpuned_7C57_VH.tif', '/home/jovyan/Kenn/2019/rtc_clipped/VH/S1B_IW_20190829T031934_DVP_RTC30_G_gpuned_0688_VH.tif', '/home/jovyan/Kenn/2019/rtc_clipped/VH/S1A_IW_20190829T155624_DVP_RTC30_G_gpuned_71D9_VH.tif', '/home/jovyan/Kenn/2019/rtc_clipped/VH/S1B_IW_20190831T030251_DVP_RTC30_G_gpuned_376B_VH.tif', '/home/jovyan/Kenn/2019/rtc_clipped/VH/S1B_IW_20190831T030317_DVP_RTC30_G_gpuned_FF48_VH.tif', '/home/jovyan/Kenn/2019/rtc_clipped/VH/S1A_IW_20190905T154807_DVP_RTC30_G_gpuned_7642_VH.tif', '/home/jovyan/Kenn/2019/rtc_clipped/VH/S1B_IW_20190910T031908_DVP_RTC30_G_gpuned_D116_VH.tif', '/home/jovyan/Kenn/2019/rtc_clipped/VH/S1B_IW_20190910T031935_DVP_RTC30_G_gpuned_2107_VH.tif', '/home/jovyan/Kenn/2019/rtc_clipped/VH/S1A_IW_20190910T155625_DVP_RTC30_G_gpuned_A310_VH.tif', '/home/jovyan/Kenn/2019/rtc_clipped/VH/S1B_IW_20190912T030251_DVP_RTC30_G_gpuned_C081_VH.tif', '/home/jovyan/Kenn/2019/rtc_clipped/VH/S1B_IW_20190912T030317_DVP_RTC30_G_gpuned_E57F_VH.tif', '/home/jovyan/Kenn/2019/rtc_clipped/VH/S1B_IW_20190922T031908_DVP_RTC30_G_gpuned_B223_VH.tif', '/home/jovyan/Kenn/2019/rtc_clipped/VH/S1B_IW_20190922T031935_DVP_RTC30_G_gpuned_D962_VH.tif', '/home/jovyan/Kenn/2019/rtc_clipped/VH/S1A_IW_20190922T155626_DVP_RTC30_G_gpuned_35AA_VH.tif', '/home/jovyan/Kenn/2019/rtc_clipped/VH/S1B_IW_20190924T030252_DVP_RTC30_G_gpuned_21CF_VH.tif', '/home/jovyan/Kenn/2019/rtc_clipped/VH/S1B_IW_20190924T030318_DVP_RTC30_G_gpuned_BA34_VH.tif', '/home/jovyan/Kenn/2019/rtc_clipped/VH/S1A_IW_20190929T154808_DVP_RTC30_G_gpuned_36A7_VH.tif', '/home/jovyan/Kenn/2019/rtc_clipped/VH/S1B_IW_20191004T031908_DVP_RTC30_G_gpuned_B5C4_VH.tif', '/home/jovyan/Kenn/2019/rtc_clipped/VH/S1B_IW_20191004T031936_DVP_RTC30_G_gpuned_C068_VH.tif', '/home/jovyan/Kenn/2019/rtc_clipped/VH/S1A_IW_20191004T155626_DVP_RTC30_G_gpuned_B678_VH.tif', '/home/jovyan/Kenn/2019/rtc_clipped/VH/S1B_IW_20191006T030252_DVP_RTC30_G_gpuned_FA00_VH.tif', '/home/jovyan/Kenn/2019/rtc_clipped/VH/S1B_IW_20191006T030318_DVP_RTC30_G_gpuned_539B_VH.tif', '/home/jovyan/Kenn/2019/rtc_clipped/VH/S1A_IW_20191011T154808_DVP_RTC30_G_gpuned_7D95_VH.tif', '/home/jovyan/Kenn/2019/rtc_clipped/VH/S1B_IW_20191016T031908_DVP_RTC30_G_gpuned_EF12_VH.tif', '/home/jovyan/Kenn/2019/rtc_clipped/VH/S1B_IW_20191016T031936_DVP_RTC30_G_gpuned_8300_VH.tif', '/home/jovyan/Kenn/2019/rtc_clipped/VH/S1A_IW_20191016T155626_DVP_RTC30_G_gpuned_A759_VH.tif', '/home/jovyan/Kenn/2019/rtc_clipped/VH/S1B_IW_20191018T030252_DVP_RTC30_G_gpuned_9BFD_VH.tif', '/home/jovyan/Kenn/2019/rtc_clipped/VH/S1B_IW_20191018T030318_DVP_RTC30_G_gpuned_EAF4_VH.tif', '/home/jovyan/Kenn/2019/rtc_clipped/VH/S1A_IW_20191023T154808_DVP_RTC30_G_gpuned_1086_VH.tif', '/home/jovyan/Kenn/2019/rtc_clipped/VH/S1B_IW_20191028T031908_DVP_RTC30_G_gpuned_ADB1_VH.tif', '/home/jovyan/Kenn/2019/rtc_clipped/VH/S1B_IW_20191028T031936_DVP_RTC30_G_gpuned_6938_VH.tif', '/home/jovyan/Kenn/2019/rtc_clipped/VH/S1A_IW_20191028T155626_DVP_RTC30_G_gpuned_8EEB_VH.tif', '/home/jovyan/Kenn/2019/rtc_clipped/VH/S1B_IW_20191030T030252_DVP_RTC30_G_gpuned_7DAD_VH.tif', '/home/jovyan/Kenn/2019/rtc_clipped/VH/S1B_IW_20191030T030318_DVP_RTC30_G_gpuned_4078_VH.tif', '/home/jovyan/Kenn/2019/rtc_clipped/VH/S1A_IW_20191104T154808_DVP_RTC30_G_gpuned_DB56_VH.tif', '/home/jovyan/Kenn/2019/rtc_clipped/VH/S1B_IW_20191109T031908_DVP_RTC30_G_gpuned_6981_VH.tif', '/home/jovyan/Kenn/2019/rtc_clipped/VH/S1B_IW_20191109T031936_DVP_RTC30_G_gpuned_5262_VH.tif', '/home/jovyan/Kenn/2019/rtc_clipped/VH/S1A_IW_20191109T155626_DVP_RTC30_G_gpuned_552A_VH.tif', '/home/jovyan/Kenn/2019/rtc_clipped/VH/S1B_IW_20191111T030252_DVP_RTC30_G_gpuned_C66D_VH.tif', '/home/jovyan/Kenn/2019/rtc_clipped/VH/S1B_IW_20191111T030318_DVP_RTC30_G_gpuned_53B8_VH.tif', '/home/jovyan/Kenn/2019/rtc_clipped/VH/S1A_IW_20191116T154808_DVP_RTC30_G_gpuned_0DB9_VH.tif', '/home/jovyan/Kenn/2019/rtc_clipped/VH/S1B_IW_20191121T031908_DVP_RTC30_G_gpuned_4906_VH.tif', '/home/jovyan/Kenn/2019/rtc_clipped/VH/S1B_IW_20191121T031936_DVP_RTC30_G_gpuned_BA79_VH.tif', '/home/jovyan/Kenn/2019/rtc_clipped/VH/S1A_IW_20191121T155626_DVP_RTC30_G_gpuned_ABA5_VH.tif', '/home/jovyan/Kenn/2019/rtc_clipped/VH/S1B_IW_20191123T030252_DVP_RTC30_G_gpuned_4D6F_VH.tif', '/home/jovyan/Kenn/2019/rtc_clipped/VH/S1B_IW_20191123T030318_DVP_RTC30_G_gpuned_D7E4_VH.tif', '/home/jovyan/Kenn/2019/rtc_clipped/VH/S1A_IW_20191128T154807_DVP_RTC30_G_gpuned_8863_VH.tif', '/home/jovyan/Kenn/2019/rtc_clipped/VH/S1B_IW_20191203T031908_DVP_RTC30_G_gpuned_DF6B_VH.tif', '/home/jovyan/Kenn/2019/rtc_clipped/VH/S1B_IW_20191203T031935_DVP_RTC30_G_gpuned_A326_VH.tif', '/home/jovyan/Kenn/2019/rtc_clipped/VH/S1A_IW_20191203T155625_DVP_RTC30_G_gpuned_F379_VH.tif', '/home/jovyan/Kenn/2019/rtc_clipped/VH/S1A_IW_20191210T154807_DVP_RTC30_G_gpuned_BD90_VH.tif', '/home/jovyan/Kenn/2019/rtc_clipped/VH/S1B_IW_20191215T031907_DVP_RTC30_G_gpuned_83E2_VH.tif', '/home/jovyan/Kenn/2019/rtc_clipped/VH/S1B_IW_20191215T031935_DVP_RTC30_G_gpuned_F415_VH.tif', '/home/jovyan/Kenn/2019/rtc_clipped/VH/S1A_IW_20191215T155625_DVP_RTC30_G_gpuned_C19A_VH.tif', '/home/jovyan/Kenn/2019/rtc_clipped/VH/S1B_IW_20191217T030251_DVP_RTC30_G_gpuned_AD8E_VH.tif', '/home/jovyan/Kenn/2019/rtc_clipped/VH/S1B_IW_20191217T030317_DVP_RTC30_G_gpuned_E4FA_VH.tif', '/home/jovyan/Kenn/2019/rtc_clipped/VH/S1A_IW_20191222T154806_DVP_RTC30_G_gpuned_B06D_VH.tif', '/home/jovyan/Kenn/2019/rtc_clipped/VH/S1B_IW_20191227T031907_DVP_RTC30_G_gpuned_847C_VH.tif', '/home/jovyan/Kenn/2019/rtc_clipped/VH/S1B_IW_20191227T031934_DVP_RTC30_G_gpuned_A240_VH.tif', '/home/jovyan/Kenn/2019/rtc_clipped/VH/S1A_IW_20191227T155624_DVP_RTC30_G_gpuned_DF5A_VH.tif', '/home/jovyan/Kenn/2019/rtc_clipped/VH/S1B_IW_20191229T030250_DVP_RTC30_G_gpuned_273F_VH.tif', '/home/jovyan/Kenn/2019/rtc_clipped/VH/S1B_IW_20191229T030316_DVP_RTC30_G_gpuned_16FC_VH.tif')\n"
     ]
    }
   ],
   "source": [
    "#NOTE: Results must already be defined and refined\n",
    "usepol=\"VH\"\n",
    "\n",
    "mnamelist = []\n",
    "mdatelist = []\n",
    "mpflist = []\n",
    "mpfulist = []\n",
    "\n",
    "# products = glob.glob(f'{str(products_path)}/*')\n",
    "# clipped_path = analysis_directory/\"rtc_clipped\"\n",
    "# products = glob.glob(f'{str(clipped_path)}/*')\n",
    "files = (clipped_path/usepol).glob('*.tif')\n",
    "filelist = []\n",
    "pdatelist = []\n",
    "pnamelist = []\n",
    "# print(results)\n",
    "\n",
    "for f in files:\n",
    "    # print(f)\n",
    "    pdatelist.append(getSARdate(f))\n",
    "    filelist.append(f)\n",
    "\n",
    "# print(pdatelist)\n",
    "pdatelist=np.array(pdatelist)\n",
    "filelist = np.array(filelist)\n",
    "# print(len(products))\n",
    "# print(len(pdatelist))\n",
    "for res in results:\n",
    "    res = res.properties\n",
    "    rdate = datetime.strptime(res['startTime'],'%Y-%m-%dT%H:%M:%S.%f')\n",
    "    pind = np.where(rdate==pdatelist)\n",
    "    # print(pind)\n",
    "    if len(pind)==1:\n",
    "        pind = pind[0][0]\n",
    "        pnamelist.append(str(filelist[pind]))\n",
    "        rpf = res['pathNumber']+'-'+res['frameNumber']\n",
    "        mpflist.append(rpf)\n",
    "        mnamelist.append(res['sceneName'])\n",
    "        mdatelist.append(rdate)\n",
    "    else:\n",
    "        print('WARNING: Missing product')\n",
    "        print(res['sceneName'])\n",
    "    \n",
    "pfunique = np.unique(mpflist)\n",
    "mpfulist = [np.where(pfunique==i)[0][0] for i in mpflist]\n",
    "arraykey = ['arraykey','pnamelist','mnamelist','mdatelist','mpflist','mpfulist']\n",
    "\n",
    "arraykey = np.asanyarray(arraykey)\n",
    "pnamelist = np.array(pnamelist)\n",
    "mnamelist = np.array(mnamelist)\n",
    "mdatelist = np.array(mdatelist)\n",
    "mpflist = np.array(mpflist)\n",
    "mpfulist = np.array(mpfulist)\n",
    "\n",
    "mdatelist,pnamelist,mnamelist,mpflist,mpfulist = zip(*sorted(zip(mdatelist,pnamelist,mnamelist,mpflist,mpfulist)))\n",
    "\n",
    "np.save(f'{str(data_dir)}/imgmeta_{usepol}.npy',(arraykey,pnamelist,mnamelist,mdatelist,mpflist,mpfulist))\n",
    "\n",
    "print(mdatelist)\n",
    "print(pnamelist)\n",
    "    # print(res['sceneName'])\n",
    "    # print(np.where(rdate==pdatelist))\n",
    "    # rpf = res['pathNumber']+'-'+res['frameNumber']\n",
    "    # res['datetime']=rdate\n",
    "    # res['pfval'] = rpf\n",
    "    # datelist.append(rdate)\n",
    "    # pflist.append(rpf)\n",
    "\n",
    "    \n",
    "# pfunique = np.unique(pflist)\n",
    "# pfvals = pflist\n",
    "# pflist = [np.where(pfunique==i)[0][0] for i in pflist]"
   ]
  },
  {
   "cell_type": "code",
   "execution_count": null,
   "id": "8c03473a-073b-4cf5-8537-ffd6268cbf3d",
   "metadata": {},
   "outputs": [],
   "source": []
  }
 ],
 "metadata": {
  "kernelspec": {
   "display_name": "rtc_analysis",
   "language": "python",
   "name": "conda-env-.local-rtc_analysis-py"
  },
  "language_info": {
   "codemirror_mode": {
    "name": "ipython",
    "version": 3
   },
   "file_extension": ".py",
   "mimetype": "text/x-python",
   "name": "python",
   "nbconvert_exporter": "python",
   "pygments_lexer": "ipython3",
   "version": "3.9.10"
  }
 },
 "nbformat": 4,
 "nbformat_minor": 5
}
