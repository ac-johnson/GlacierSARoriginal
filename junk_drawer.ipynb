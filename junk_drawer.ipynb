{
 "cells": [
  {
   "cell_type": "markdown",
   "id": "8f7df57d-0d6a-44ee-8e9e-6e2af40e4f2c",
   "metadata": {},
   "source": [
    "## Junk Drawer\n",
    "\n",
    "This is used to store various old scriptlets and the like that I have removed to clean up other notebooks."
   ]
  },
  {
   "cell_type": "code",
   "execution_count": null,
   "id": "2921bce4-6258-4bf8-b462-1269506b3f8b",
   "metadata": {},
   "outputs": [],
   "source": [
    "# results = asf.geo_search(platform=[asf.PLATFORM.SENTINEL1], intersectsWith=WTKstr, maxResults=1000,start=f'{year}-01-01',\n",
    "#                          end=f'{year+1}-01-01',processingLevel='SLC')\n",
    "\n",
    "# datelist = []\n",
    "# pflist = [] #path-frame list\n",
    "# for res in results:\n",
    "#     res = res.properties\n",
    "#     rdate = datetime.strptime(res['startTime'],'%Y-%m-%dT%H:%M:%S.%f')\n",
    "#     rpf = res['pathNumber']+'-'+res['frameNumber']\n",
    "#     res['datetime']=rdate\n",
    "#     res['pfval'] = rpf\n",
    "#     datelist.append(rdate)\n",
    "#     pflist.append(rpf)\n",
    "\n",
    "    \n",
    "# pfunique = np.unique(pflist)\n",
    "# pfvals = pflist\n",
    "# pflist = [np.where(pfunique==i)[0][0] for i in pflist]"
   ]
  },
  {
   "cell_type": "code",
   "execution_count": null,
   "id": "324e88ce-0634-476c-b855-96a30089ff7c",
   "metadata": {},
   "outputs": [],
   "source": [
    "newproducts= hyp3.find_jobs(name='Wrangell_19')\n",
    "print(len(results))\n",
    "results.remove(results[0])\n",
    "print(len(results))"
   ]
  },
  {
   "cell_type": "code",
   "execution_count": null,
   "id": "061d4cea-a678-47f5-b5d9-a9322d9820a6",
   "metadata": {},
   "outputs": [],
   "source": [
    "# Display Hyp3 job info\n",
    "print(Batch())\n",
    "print(hyp3.my_info())"
   ]
  },
  {
   "cell_type": "code",
   "execution_count": null,
   "id": "248f7fde-df8b-423c-ba1b-0366b722d163",
   "metadata": {},
   "outputs": [],
   "source": [
    "#Determine EPSG\n",
    "\n",
    "# (1==1) and ('VV'==pols[1])\n",
    "# test = hyp3.find_jobs(status_code=[\"FAILED\"])\n",
    "# test.jobs['name']\n",
    "# hyp3.find_jobs(status_code=[\"EXPIRED\"])"
   ]
  },
  {
   "cell_type": "code",
   "execution_count": null,
   "id": "88953e09-484a-4a69-a27f-174205def990",
   "metadata": {},
   "outputs": [],
   "source": [
    "#check if all jobs are finished\n",
    "\n",
    "class Error(Exception):\n",
    "    \"\"\"Base class for other exceptions\"\"\"\n",
    "    pass\n",
    "class stillrunningError(Error):\n",
    "    \"\"\"raised when jobs are still running\"\"\"\n",
    "    pass\n",
    "\n",
    "running = len(hyp3.find_jobs(status_code=[\"RUNNING\"]))\n",
    "running += len(hyp3.find_jobs(status_code=[\"PENDING\"]))\n",
    "\n",
    "if running > 0:\n",
    "    print('Jobs still running!')\n",
    "    raise stillrunningError\n",
    "else:\n",
    "    print('No jobs running, all clear')\n",
    "\n",
    "usegranules = [i.properties['sceneName'] for i in results]\n",
    "\n",
    "print(usegranules[0])\n",
    "print(len(usegranules))\n",
    "usegranules.remove(usegranules[10])\n",
    "print(usegranules[0])\n",
    "print(len(usegranules))"
   ]
  },
  {
   "cell_type": "code",
   "execution_count": null,
   "id": "a51e6e88-b1f0-46e1-9fae-aba382a978db",
   "metadata": {},
   "outputs": [],
   "source": [
    "# #OLD, DO NOT USE\n",
    "# #Download the products, unzip them into the rtc_download directory, convert them to dB, and delete the zip files:\n",
    "\n",
    "# # projectname = 'Kenn_20_notebook_2'\n",
    "# # projectname = f'{projname}_{year%1000}'\n",
    "# EPSGn = '32607'\n",
    "# pols = ['VV','VH']\n",
    "\n",
    "# autoEPSG=False #use this to pull the first projection and use that as your projection for all images\n",
    "\n",
    "# joblist = hyp3.find_jobs(name=projectnam)\n",
    "# joblen = len(granules)-1\n",
    "# # jobi=0\n",
    "# t = time.time()\n",
    "# count = 0\n",
    "# for i,job in enumerate(joblist):\n",
    "#     # if job.succeeded()==True:\n",
    "#     jobname = job.job_parameters['granules'][0]\n",
    "#     if jobname in usegranules:\n",
    "#         if count%10 ==1:\n",
    "#             te = time.time()-t\n",
    "#             print(f'Current job: {count}/{joblen}, time elapsed: {te/60:.2f} min, time remaining: {(te/(i+1)*(joblen-count))/60:.2f} min')\n",
    "#         job.download_files(download_path)\n",
    "#         for pol in pols:\n",
    "#             # print(pol)\n",
    "#             extracttif(download_path,products_path,pol=pol,convert=False)\n",
    "#             if autoEPSG:\n",
    "#                 if (i == 0) and (pol == pols[0]):\n",
    "#                     fileg = glob.glob(f'{str(products_path)}/*.tif')\n",
    "#                     print(getEPSG(fileg[0]))\n",
    "#                     #SET THIS UP TO SET EPSG!!\n",
    "#             # fulltif = glob.glob(f'{str(products_path)}/*{pol}*')\n",
    "#             reproject(WTKstr,EPSGn,products_path,f'{str(clipped_path)}/{pol}',convert_to_db=True)\n",
    "#             os.system(f'rm {str(products_path)}/*.tif')\n",
    "#             time.sleep(3)\n",
    "#         os.system(f'rm {str(download_path)}/*.zip')\n",
    "#             # extracttif(download_path,products_path,'VH',convert=True)\n",
    "#     else:\n",
    "#         print(f'WARNING: job {i} did not succeed')"
   ]
  },
  {
   "cell_type": "code",
   "execution_count": null,
   "id": "79ff38f6-7c7f-4e5f-8639-442eb79865f5",
   "metadata": {},
   "outputs": [],
   "source": [
    "# #Download the products, unzip them into the rtc_download directory, convert them to dB, and delete the zip files:\n",
    "\n",
    "# # projectname = 'Kenn_20_notebook_2'\n",
    "# projectname = f'{projname}_{year%1000}_notebook'\n",
    "# EPSGn = '32607'\n",
    "# pols = ['VV','VH']\n",
    "\n",
    "# autoEPSG=False #use this to pull the first projection and use that as your projection for all images\n",
    "\n",
    "# joblist = hyp3.find_jobs(name=projectname)\n",
    "# joblen = len(joblist)-1\n",
    "# # jobi=0\n",
    "# t = time.time()\n",
    "# for i,job in enumerate(joblist):\n",
    "#     if job.succeeded()==True:\n",
    "#         if i%10 ==1:\n",
    "#             te = time.time()-t\n",
    "#             print(f'Current job: {i}/{joblen}, time elapsed: {te/60:.2f} min, time remaining: {(te/(i+1)*(joblen-i))/60:.2f} min')\n",
    "#         job.download_files(download_path)\n",
    "#         for pol in pols:\n",
    "#             # print(pol)\n",
    "#             extracttif(download_path,products_path,pol=pol,convert=False)\n",
    "#             if autoEPSG:\n",
    "#                 if (i == 0) and (pol == pols[0]):\n",
    "#                     fileg = glob.glob(f'{str(products_path)}/*.tif')\n",
    "#                     print(getEPSG(fileg[0]))\n",
    "#                     #SET THIS UP TO SET EPSG!!\n",
    "#             # fulltif = glob.glob(f'{str(products_path)}/*{pol}*')\n",
    "#             reproject(WTKstr,EPSGn,products_path,f'{str(clipped_path)}/{pol}',convert_to_db=True)\n",
    "#             os.system(f'rm {str(products_path)}/*.tif')\n",
    "#             time.sleep(3)\n",
    "#         os.system(f'rm {str(download_path)}/*.zip')\n",
    "#             # extracttif(download_path,products_path,'VH',convert=True)\n",
    "#     else:\n",
    "#         print(f'WARNING: job {i} did not succeed')"
   ]
  },
  {
   "cell_type": "code",
   "execution_count": null,
   "id": "bbfca566-3757-46dd-83c6-e630c43c5150",
   "metadata": {},
   "outputs": [],
   "source": [
    "# Check Failed Jobs:\n",
    "# print(joblist[5].succeeded)"
   ]
  },
  {
   "cell_type": "code",
   "execution_count": null,
   "id": "48e6421e-4cfa-4dd7-a464-3dc51f41cc23",
   "metadata": {},
   "outputs": [],
   "source": []
  },
  {
   "cell_type": "code",
   "execution_count": null,
   "id": "f7e5b5ee-78fd-45a8-8da8-51d36160b4c4",
   "metadata": {},
   "outputs": [],
   "source": []
  },
  {
   "cell_type": "code",
   "execution_count": null,
   "id": "27b288ad-c767-4848-9f86-8c876f535c3c",
   "metadata": {},
   "outputs": [],
   "source": []
  },
  {
   "cell_type": "code",
   "execution_count": null,
   "id": "818a0da6-9ee5-49f6-82dc-2ae425c25aa4",
   "metadata": {},
   "outputs": [],
   "source": []
  }
 ],
 "metadata": {
  "kernelspec": {
   "display_name": "rtc_analysis [conda env:.local-rtc_analysis]",
   "language": "python",
   "name": "conda-env-.local-rtc_analysis-py"
  },
  "language_info": {
   "codemirror_mode": {
    "name": "ipython",
    "version": 3
   },
   "file_extension": ".py",
   "mimetype": "text/x-python",
   "name": "python",
   "nbconvert_exporter": "python",
   "pygments_lexer": "ipython3",
   "version": "3.9.10"
  }
 },
 "nbformat": 4,
 "nbformat_minor": 5
}
